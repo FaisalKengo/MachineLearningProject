{
 "cells": [
  {
   "cell_type": "markdown",
   "metadata": {},
   "source": [
    "# Lampiran Query Google Cloud Platform"
   ]
  },
  {
   "cell_type": "markdown",
   "metadata": {},
   "source": [
    "---\n",
    "\n",
    "    SELECT limit_balance, sex, education_level, marital_status, age, pay_0, pay_2, pay_3, pay_4, pay_5, pay_6, bill_amt_1, bill_amt_2, bill_amt_3, bill_amt_4, bill_amt_5, bill_amt_6, pay_amt_1, pay_amt_2, pay_amt_3, pay_amt_4, pay_amt_5, pay_amt_6, default_payment_next_month\n",
    "    FROM `bigquery-public-data.ml_datasets.credit_card_default`\n",
    "    LIMIT 27986;\n",
    "\n",
    "---"
   ]
  },
  {
   "cell_type": "markdown",
   "metadata": {},
   "source": [
    "# Memprediksi Pembayaran Kartu Kredit dengan Berbagai Algoritma\n",
    "\n",
    "`Faisal Kengo (FTDS Remote Batch 014)`"
   ]
  },
  {
   "cell_type": "markdown",
   "metadata": {},
   "source": [
    "## Perkenalan"
   ]
  },
  {
   "cell_type": "markdown",
   "metadata": {},
   "source": [
    "Nama saya Faisal Kengo, kali ini saya akan memprediksi apakah seseorang perlu membayar tagihan kartu kredit mereka atau tidak berdasarkan beberapa faktor yang tersedia di dalam *dataset*seperti batas kredit, jenis kelamin, tingkat pendidikan, status pernikahan, umur, dan detil tagihan dan pembayaran kartu kreditnya. *Dataset* diambil dari Google Cloud Platform BigQuery dan kemudian dianalisa dengan menggunakan berbagai macam model algoritma klasifikasi untuk melakukan prediksi tersebut."
   ]
  },
  {
   "cell_type": "markdown",
   "metadata": {},
   "source": [
    "### Tujuan Utama"
   ]
  },
  {
   "cell_type": "markdown",
   "metadata": {},
   "source": [
    "Tujuan dari penyusunan laporan ini adalah sebagai berikut:\n",
    "\n",
    "* Membandingkan dan memilih model algoritma apa yang sesuai untuk diterapkan di dalam *dataset* dengan menggunakan metode *cross-validation*,\n",
    "\n",
    "* Memprediksi klasifikasi dari `default_payment_next_month` dari dataset yang diambil dengan menggunakan model algoritma terbaik yang telah dipilih melalui metode *cross-validation* dan telah diatur lebih lanjut *hyperparameter*-nya."
   ]
  },
  {
   "cell_type": "markdown",
   "metadata": {},
   "source": [
    "## Pengolahan dan Analisa *Dataset*"
   ]
  },
  {
   "cell_type": "markdown",
   "metadata": {},
   "source": [
    "Sebelum kita memulai proses analisa data, kita akan mengimpor *library* yang akan digunakan untuk mengolah *dataset* serta memuat *dataset* yang telah kita ambil dari Google Cloud Platform.\n",
    "\n",
    "Pertama-tama kita akan mengimpor terlebih dahulu *library* yang akan kita gunakan."
   ]
  },
  {
   "cell_type": "markdown",
   "metadata": {},
   "source": [
    "### Impor *Library*"
   ]
  },
  {
   "cell_type": "code",
   "execution_count": 1,
   "metadata": {},
   "outputs": [],
   "source": [
    "import pandas as pd\n",
    "import numpy as np\n",
    "import seaborn as sns\n",
    "import matplotlib.pyplot as plt\n",
    "from sklearn.model_selection import train_test_split, cross_val_score, GridSearchCV\n",
    "from sklearn.preprocessing import OrdinalEncoder\n",
    "from sklearn.linear_model import LogisticRegression\n",
    "from sklearn.svm import SVC\n",
    "from sklearn.tree import DecisionTreeClassifier\n",
    "from sklearn.ensemble import RandomForestClassifier\n",
    "from sklearn.neighbors import KNeighborsClassifier\n",
    "from sklearn.naive_bayes import GaussianNB, MultinomialNB\n",
    "from sklearn.metrics import classification_report"
   ]
  },
  {
   "cell_type": "markdown",
   "metadata": {},
   "source": [
    "### Memuat *Dataset*"
   ]
  },
  {
   "cell_type": "markdown",
   "metadata": {},
   "source": [
    "Setelah kita memuat *library* yang akan kita gunakan, kita akan muat *dataset* yang telah kita ambil dari Google Cloud Platform."
   ]
  },
  {
   "cell_type": "code",
   "execution_count": 2,
   "metadata": {},
   "outputs": [],
   "source": [
    "df = pd.read_csv(\"h8dsft_P1M1_FaisalKengo.csv\")"
   ]
  },
  {
   "cell_type": "markdown",
   "metadata": {},
   "source": [
    "Lalu kita akan tampilkan bagian awal dan akhir dari *dataset* tersebut."
   ]
  },
  {
   "cell_type": "code",
   "execution_count": 3,
   "metadata": {},
   "outputs": [
    {
     "data": {
      "text/html": [
       "<div>\n",
       "<style scoped>\n",
       "    .dataframe tbody tr th:only-of-type {\n",
       "        vertical-align: middle;\n",
       "    }\n",
       "\n",
       "    .dataframe tbody tr th {\n",
       "        vertical-align: top;\n",
       "    }\n",
       "\n",
       "    .dataframe thead th {\n",
       "        text-align: right;\n",
       "    }\n",
       "</style>\n",
       "<table border=\"1\" class=\"dataframe\">\n",
       "  <thead>\n",
       "    <tr style=\"text-align: right;\">\n",
       "      <th></th>\n",
       "      <th>limit_balance</th>\n",
       "      <th>sex</th>\n",
       "      <th>education_level</th>\n",
       "      <th>marital_status</th>\n",
       "      <th>age</th>\n",
       "      <th>pay_0</th>\n",
       "      <th>pay_2</th>\n",
       "      <th>pay_3</th>\n",
       "      <th>pay_4</th>\n",
       "      <th>pay_5</th>\n",
       "      <th>...</th>\n",
       "      <th>bill_amt_4</th>\n",
       "      <th>bill_amt_5</th>\n",
       "      <th>bill_amt_6</th>\n",
       "      <th>pay_amt_1</th>\n",
       "      <th>pay_amt_2</th>\n",
       "      <th>pay_amt_3</th>\n",
       "      <th>pay_amt_4</th>\n",
       "      <th>pay_amt_5</th>\n",
       "      <th>pay_amt_6</th>\n",
       "      <th>default_payment_next_month</th>\n",
       "    </tr>\n",
       "  </thead>\n",
       "  <tbody>\n",
       "    <tr>\n",
       "      <th>0</th>\n",
       "      <td>50000</td>\n",
       "      <td>1</td>\n",
       "      <td>1</td>\n",
       "      <td>2</td>\n",
       "      <td>39</td>\n",
       "      <td>0</td>\n",
       "      <td>0</td>\n",
       "      <td>0</td>\n",
       "      <td>0</td>\n",
       "      <td>0</td>\n",
       "      <td>...</td>\n",
       "      <td>50803</td>\n",
       "      <td>30789</td>\n",
       "      <td>15874</td>\n",
       "      <td>1800</td>\n",
       "      <td>2000</td>\n",
       "      <td>3000</td>\n",
       "      <td>2000</td>\n",
       "      <td>2000</td>\n",
       "      <td>2000</td>\n",
       "      <td>0</td>\n",
       "    </tr>\n",
       "    <tr>\n",
       "      <th>1</th>\n",
       "      <td>110000</td>\n",
       "      <td>2</td>\n",
       "      <td>1</td>\n",
       "      <td>2</td>\n",
       "      <td>29</td>\n",
       "      <td>0</td>\n",
       "      <td>0</td>\n",
       "      <td>0</td>\n",
       "      <td>0</td>\n",
       "      <td>0</td>\n",
       "      <td>...</td>\n",
       "      <td>32489</td>\n",
       "      <td>26354</td>\n",
       "      <td>20221</td>\n",
       "      <td>2000</td>\n",
       "      <td>2010</td>\n",
       "      <td>3000</td>\n",
       "      <td>3000</td>\n",
       "      <td>3000</td>\n",
       "      <td>1000</td>\n",
       "      <td>0</td>\n",
       "    </tr>\n",
       "    <tr>\n",
       "      <th>2</th>\n",
       "      <td>270000</td>\n",
       "      <td>1</td>\n",
       "      <td>1</td>\n",
       "      <td>2</td>\n",
       "      <td>36</td>\n",
       "      <td>0</td>\n",
       "      <td>0</td>\n",
       "      <td>0</td>\n",
       "      <td>2</td>\n",
       "      <td>0</td>\n",
       "      <td>...</td>\n",
       "      <td>40335</td>\n",
       "      <td>37165</td>\n",
       "      <td>22156</td>\n",
       "      <td>10076</td>\n",
       "      <td>4018</td>\n",
       "      <td>14</td>\n",
       "      <td>2051</td>\n",
       "      <td>2000</td>\n",
       "      <td>0</td>\n",
       "      <td>0</td>\n",
       "    </tr>\n",
       "    <tr>\n",
       "      <th>3</th>\n",
       "      <td>130000</td>\n",
       "      <td>1</td>\n",
       "      <td>1</td>\n",
       "      <td>1</td>\n",
       "      <td>45</td>\n",
       "      <td>0</td>\n",
       "      <td>0</td>\n",
       "      <td>0</td>\n",
       "      <td>0</td>\n",
       "      <td>0</td>\n",
       "      <td>...</td>\n",
       "      <td>62377</td>\n",
       "      <td>63832</td>\n",
       "      <td>65099</td>\n",
       "      <td>2886</td>\n",
       "      <td>2908</td>\n",
       "      <td>2129</td>\n",
       "      <td>2354</td>\n",
       "      <td>2366</td>\n",
       "      <td>2291</td>\n",
       "      <td>0</td>\n",
       "    </tr>\n",
       "    <tr>\n",
       "      <th>4</th>\n",
       "      <td>50000</td>\n",
       "      <td>1</td>\n",
       "      <td>1</td>\n",
       "      <td>2</td>\n",
       "      <td>24</td>\n",
       "      <td>0</td>\n",
       "      <td>0</td>\n",
       "      <td>0</td>\n",
       "      <td>0</td>\n",
       "      <td>0</td>\n",
       "      <td>...</td>\n",
       "      <td>19837</td>\n",
       "      <td>19855</td>\n",
       "      <td>20151</td>\n",
       "      <td>1367</td>\n",
       "      <td>1606</td>\n",
       "      <td>692</td>\n",
       "      <td>709</td>\n",
       "      <td>721</td>\n",
       "      <td>692</td>\n",
       "      <td>0</td>\n",
       "    </tr>\n",
       "  </tbody>\n",
       "</table>\n",
       "<p>5 rows × 24 columns</p>\n",
       "</div>"
      ],
      "text/plain": [
       "   limit_balance  sex  education_level  marital_status  age  pay_0  pay_2  \\\n",
       "0          50000    1                1               2   39      0      0   \n",
       "1         110000    2                1               2   29      0      0   \n",
       "2         270000    1                1               2   36      0      0   \n",
       "3         130000    1                1               1   45      0      0   \n",
       "4          50000    1                1               2   24      0      0   \n",
       "\n",
       "   pay_3  pay_4  pay_5  ...  bill_amt_4  bill_amt_5  bill_amt_6  pay_amt_1  \\\n",
       "0      0      0      0  ...       50803       30789       15874       1800   \n",
       "1      0      0      0  ...       32489       26354       20221       2000   \n",
       "2      0      2      0  ...       40335       37165       22156      10076   \n",
       "3      0      0      0  ...       62377       63832       65099       2886   \n",
       "4      0      0      0  ...       19837       19855       20151       1367   \n",
       "\n",
       "   pay_amt_2  pay_amt_3  pay_amt_4  pay_amt_5  pay_amt_6  \\\n",
       "0       2000       3000       2000       2000       2000   \n",
       "1       2010       3000       3000       3000       1000   \n",
       "2       4018         14       2051       2000          0   \n",
       "3       2908       2129       2354       2366       2291   \n",
       "4       1606        692        709        721        692   \n",
       "\n",
       "   default_payment_next_month  \n",
       "0                           0  \n",
       "1                           0  \n",
       "2                           0  \n",
       "3                           0  \n",
       "4                           0  \n",
       "\n",
       "[5 rows x 24 columns]"
      ]
     },
     "execution_count": 3,
     "metadata": {},
     "output_type": "execute_result"
    }
   ],
   "source": [
    "df.head()"
   ]
  },
  {
   "cell_type": "code",
   "execution_count": 4,
   "metadata": {},
   "outputs": [
    {
     "data": {
      "text/html": [
       "<div>\n",
       "<style scoped>\n",
       "    .dataframe tbody tr th:only-of-type {\n",
       "        vertical-align: middle;\n",
       "    }\n",
       "\n",
       "    .dataframe tbody tr th {\n",
       "        vertical-align: top;\n",
       "    }\n",
       "\n",
       "    .dataframe thead th {\n",
       "        text-align: right;\n",
       "    }\n",
       "</style>\n",
       "<table border=\"1\" class=\"dataframe\">\n",
       "  <thead>\n",
       "    <tr style=\"text-align: right;\">\n",
       "      <th></th>\n",
       "      <th>limit_balance</th>\n",
       "      <th>sex</th>\n",
       "      <th>education_level</th>\n",
       "      <th>marital_status</th>\n",
       "      <th>age</th>\n",
       "      <th>pay_0</th>\n",
       "      <th>pay_2</th>\n",
       "      <th>pay_3</th>\n",
       "      <th>pay_4</th>\n",
       "      <th>pay_5</th>\n",
       "      <th>...</th>\n",
       "      <th>bill_amt_4</th>\n",
       "      <th>bill_amt_5</th>\n",
       "      <th>bill_amt_6</th>\n",
       "      <th>pay_amt_1</th>\n",
       "      <th>pay_amt_2</th>\n",
       "      <th>pay_amt_3</th>\n",
       "      <th>pay_amt_4</th>\n",
       "      <th>pay_amt_5</th>\n",
       "      <th>pay_amt_6</th>\n",
       "      <th>default_payment_next_month</th>\n",
       "    </tr>\n",
       "  </thead>\n",
       "  <tbody>\n",
       "    <tr>\n",
       "      <th>2960</th>\n",
       "      <td>210000</td>\n",
       "      <td>2</td>\n",
       "      <td>2</td>\n",
       "      <td>1</td>\n",
       "      <td>39</td>\n",
       "      <td>-1</td>\n",
       "      <td>-1</td>\n",
       "      <td>-1</td>\n",
       "      <td>-1</td>\n",
       "      <td>-2</td>\n",
       "      <td>...</td>\n",
       "      <td>0</td>\n",
       "      <td>0</td>\n",
       "      <td>12000</td>\n",
       "      <td>0</td>\n",
       "      <td>28428</td>\n",
       "      <td>0</td>\n",
       "      <td>0</td>\n",
       "      <td>12000</td>\n",
       "      <td>33664</td>\n",
       "      <td>0</td>\n",
       "    </tr>\n",
       "    <tr>\n",
       "      <th>2961</th>\n",
       "      <td>280000</td>\n",
       "      <td>2</td>\n",
       "      <td>1</td>\n",
       "      <td>1</td>\n",
       "      <td>41</td>\n",
       "      <td>2</td>\n",
       "      <td>-1</td>\n",
       "      <td>-1</td>\n",
       "      <td>-1</td>\n",
       "      <td>-2</td>\n",
       "      <td>...</td>\n",
       "      <td>0</td>\n",
       "      <td>0</td>\n",
       "      <td>244</td>\n",
       "      <td>6859</td>\n",
       "      <td>486</td>\n",
       "      <td>0</td>\n",
       "      <td>0</td>\n",
       "      <td>244</td>\n",
       "      <td>0</td>\n",
       "      <td>0</td>\n",
       "    </tr>\n",
       "    <tr>\n",
       "      <th>2962</th>\n",
       "      <td>80000</td>\n",
       "      <td>1</td>\n",
       "      <td>1</td>\n",
       "      <td>2</td>\n",
       "      <td>28</td>\n",
       "      <td>1</td>\n",
       "      <td>-1</td>\n",
       "      <td>-1</td>\n",
       "      <td>-1</td>\n",
       "      <td>-2</td>\n",
       "      <td>...</td>\n",
       "      <td>0</td>\n",
       "      <td>0</td>\n",
       "      <td>0</td>\n",
       "      <td>47</td>\n",
       "      <td>207</td>\n",
       "      <td>0</td>\n",
       "      <td>0</td>\n",
       "      <td>0</td>\n",
       "      <td>0</td>\n",
       "      <td>0</td>\n",
       "    </tr>\n",
       "    <tr>\n",
       "      <th>2963</th>\n",
       "      <td>200000</td>\n",
       "      <td>1</td>\n",
       "      <td>2</td>\n",
       "      <td>1</td>\n",
       "      <td>53</td>\n",
       "      <td>1</td>\n",
       "      <td>-1</td>\n",
       "      <td>-1</td>\n",
       "      <td>-2</td>\n",
       "      <td>-2</td>\n",
       "      <td>...</td>\n",
       "      <td>0</td>\n",
       "      <td>0</td>\n",
       "      <td>6753</td>\n",
       "      <td>2920</td>\n",
       "      <td>0</td>\n",
       "      <td>0</td>\n",
       "      <td>0</td>\n",
       "      <td>6753</td>\n",
       "      <td>0</td>\n",
       "      <td>1</td>\n",
       "    </tr>\n",
       "    <tr>\n",
       "      <th>2964</th>\n",
       "      <td>20000</td>\n",
       "      <td>2</td>\n",
       "      <td>1</td>\n",
       "      <td>2</td>\n",
       "      <td>24</td>\n",
       "      <td>-1</td>\n",
       "      <td>-1</td>\n",
       "      <td>-2</td>\n",
       "      <td>-2</td>\n",
       "      <td>-2</td>\n",
       "      <td>...</td>\n",
       "      <td>0</td>\n",
       "      <td>0</td>\n",
       "      <td>0</td>\n",
       "      <td>0</td>\n",
       "      <td>0</td>\n",
       "      <td>0</td>\n",
       "      <td>0</td>\n",
       "      <td>0</td>\n",
       "      <td>0</td>\n",
       "      <td>0</td>\n",
       "    </tr>\n",
       "  </tbody>\n",
       "</table>\n",
       "<p>5 rows × 24 columns</p>\n",
       "</div>"
      ],
      "text/plain": [
       "      limit_balance  sex  education_level  marital_status  age  pay_0  pay_2  \\\n",
       "2960         210000    2                2               1   39     -1     -1   \n",
       "2961         280000    2                1               1   41      2     -1   \n",
       "2962          80000    1                1               2   28      1     -1   \n",
       "2963         200000    1                2               1   53      1     -1   \n",
       "2964          20000    2                1               2   24     -1     -1   \n",
       "\n",
       "      pay_3  pay_4  pay_5  ...  bill_amt_4  bill_amt_5  bill_amt_6  pay_amt_1  \\\n",
       "2960     -1     -1     -2  ...           0           0       12000          0   \n",
       "2961     -1     -1     -2  ...           0           0         244       6859   \n",
       "2962     -1     -1     -2  ...           0           0           0         47   \n",
       "2963     -1     -2     -2  ...           0           0        6753       2920   \n",
       "2964     -2     -2     -2  ...           0           0           0          0   \n",
       "\n",
       "      pay_amt_2  pay_amt_3  pay_amt_4  pay_amt_5  pay_amt_6  \\\n",
       "2960      28428          0          0      12000      33664   \n",
       "2961        486          0          0        244          0   \n",
       "2962        207          0          0          0          0   \n",
       "2963          0          0          0       6753          0   \n",
       "2964          0          0          0          0          0   \n",
       "\n",
       "      default_payment_next_month  \n",
       "2960                           0  \n",
       "2961                           0  \n",
       "2962                           0  \n",
       "2963                           1  \n",
       "2964                           0  \n",
       "\n",
       "[5 rows x 24 columns]"
      ]
     },
     "execution_count": 4,
     "metadata": {},
     "output_type": "execute_result"
    }
   ],
   "source": [
    "df.tail()"
   ]
  },
  {
   "cell_type": "markdown",
   "metadata": {},
   "source": [
    "### *Exploratory Data Analysis*"
   ]
  },
  {
   "cell_type": "markdown",
   "metadata": {},
   "source": [
    "Pertama-tama kita akan melihat terlebih dahulu bagaimana data-data yang kita miliki di dalam *dataset* yang sudah dimuat dengan perintah `.info()`:"
   ]
  },
  {
   "cell_type": "code",
   "execution_count": 5,
   "metadata": {},
   "outputs": [
    {
     "name": "stdout",
     "output_type": "stream",
     "text": [
      "<class 'pandas.core.frame.DataFrame'>\n",
      "RangeIndex: 2965 entries, 0 to 2964\n",
      "Data columns (total 24 columns):\n",
      " #   Column                      Non-Null Count  Dtype\n",
      "---  ------                      --------------  -----\n",
      " 0   limit_balance               2965 non-null   int64\n",
      " 1   sex                         2965 non-null   int64\n",
      " 2   education_level             2965 non-null   int64\n",
      " 3   marital_status              2965 non-null   int64\n",
      " 4   age                         2965 non-null   int64\n",
      " 5   pay_0                       2965 non-null   int64\n",
      " 6   pay_2                       2965 non-null   int64\n",
      " 7   pay_3                       2965 non-null   int64\n",
      " 8   pay_4                       2965 non-null   int64\n",
      " 9   pay_5                       2965 non-null   int64\n",
      " 10  pay_6                       2965 non-null   int64\n",
      " 11  bill_amt_1                  2965 non-null   int64\n",
      " 12  bill_amt_2                  2965 non-null   int64\n",
      " 13  bill_amt_3                  2965 non-null   int64\n",
      " 14  bill_amt_4                  2965 non-null   int64\n",
      " 15  bill_amt_5                  2965 non-null   int64\n",
      " 16  bill_amt_6                  2965 non-null   int64\n",
      " 17  pay_amt_1                   2965 non-null   int64\n",
      " 18  pay_amt_2                   2965 non-null   int64\n",
      " 19  pay_amt_3                   2965 non-null   int64\n",
      " 20  pay_amt_4                   2965 non-null   int64\n",
      " 21  pay_amt_5                   2965 non-null   int64\n",
      " 22  pay_amt_6                   2965 non-null   int64\n",
      " 23  default_payment_next_month  2965 non-null   int64\n",
      "dtypes: int64(24)\n",
      "memory usage: 556.1 KB\n"
     ]
    }
   ],
   "source": [
    "df.info()"
   ]
  },
  {
   "cell_type": "markdown",
   "metadata": {},
   "source": [
    "Dari perintah di atas kita dapat mengetahui data-data apa saja yang terdapat di dalam *dataset* yang kita miliki, diantaranya batas kredit, jenis kelamin, tingkat pendidikan, status pernikahan, umur, dan detil tagihan dan pembayaran kartu kreditnya. *Dataset* berisikan 2965 buah data yang keseluruhan datanya merupakan data numerik. Namun, tidak semua data numerik ini merupakan data numerik murni. Apabila kita lihat deskripsi skema dari *dataset* yang tersedia di Google Cloud Platform, kita mendapati bahwa beberapa kolom merupakan data kategorik yang sudah dinumerisasi. Berikut adalah deskripsi dari *dataset* yang kita miliki:\n",
    "\n",
    "---\n",
    "\n",
    "    Gender (1=male, 2=female)\n",
    "\n",
    "    Education Level (1=graduate school, 2=university, 3=high school, 4=others, 5=unknown, 6=unknown)\n",
    "\n",
    "    Marital status (1=married, 2=single, 3=others)\n",
    "\n",
    "    Repayment status in September, 2005 (-1=pay duly, 1=payment delay for one month, 2=payment delay for two months, ... 8=payment delay for eight months, 9=payment delay for nine months and above)\n",
    "\n",
    "    Default payment (1=yes, 0=no)\n",
    "\n",
    "---\n",
    "\n",
    "Data-data yang tercantum di atas merupakan kolom dengan data kategorik yang sudah dinumerisasi. Nilai kolom selain yang tercantum di atas murni berbentuk numerik. Selain itu, kita juga mengetahui bahwa data diambil dari rentang waktu April 2005 hingga September 2005.\n",
    "\n",
    "Selanjutnya kita akan periksa deskripsi matematika dari data yang kita miliki dengan menggunakan perintah `.describe()`."
   ]
  },
  {
   "cell_type": "code",
   "execution_count": 6,
   "metadata": {},
   "outputs": [
    {
     "data": {
      "text/html": [
       "<div>\n",
       "<style scoped>\n",
       "    .dataframe tbody tr th:only-of-type {\n",
       "        vertical-align: middle;\n",
       "    }\n",
       "\n",
       "    .dataframe tbody tr th {\n",
       "        vertical-align: top;\n",
       "    }\n",
       "\n",
       "    .dataframe thead th {\n",
       "        text-align: right;\n",
       "    }\n",
       "</style>\n",
       "<table border=\"1\" class=\"dataframe\">\n",
       "  <thead>\n",
       "    <tr style=\"text-align: right;\">\n",
       "      <th></th>\n",
       "      <th>count</th>\n",
       "      <th>mean</th>\n",
       "      <th>std</th>\n",
       "      <th>min</th>\n",
       "      <th>25%</th>\n",
       "      <th>50%</th>\n",
       "      <th>75%</th>\n",
       "      <th>max</th>\n",
       "    </tr>\n",
       "  </thead>\n",
       "  <tbody>\n",
       "    <tr>\n",
       "      <th>limit_balance</th>\n",
       "      <td>2965.0</td>\n",
       "      <td>163369.308600</td>\n",
       "      <td>125030.415472</td>\n",
       "      <td>10000.0</td>\n",
       "      <td>50000.0</td>\n",
       "      <td>140000.0</td>\n",
       "      <td>230000.0</td>\n",
       "      <td>800000.0</td>\n",
       "    </tr>\n",
       "    <tr>\n",
       "      <th>sex</th>\n",
       "      <td>2965.0</td>\n",
       "      <td>1.607757</td>\n",
       "      <td>0.488333</td>\n",
       "      <td>1.0</td>\n",
       "      <td>1.0</td>\n",
       "      <td>2.0</td>\n",
       "      <td>2.0</td>\n",
       "      <td>2.0</td>\n",
       "    </tr>\n",
       "    <tr>\n",
       "      <th>education_level</th>\n",
       "      <td>2965.0</td>\n",
       "      <td>1.849578</td>\n",
       "      <td>0.778184</td>\n",
       "      <td>0.0</td>\n",
       "      <td>1.0</td>\n",
       "      <td>2.0</td>\n",
       "      <td>2.0</td>\n",
       "      <td>6.0</td>\n",
       "    </tr>\n",
       "    <tr>\n",
       "      <th>marital_status</th>\n",
       "      <td>2965.0</td>\n",
       "      <td>1.559865</td>\n",
       "      <td>0.522317</td>\n",
       "      <td>0.0</td>\n",
       "      <td>1.0</td>\n",
       "      <td>2.0</td>\n",
       "      <td>2.0</td>\n",
       "      <td>3.0</td>\n",
       "    </tr>\n",
       "    <tr>\n",
       "      <th>age</th>\n",
       "      <td>2965.0</td>\n",
       "      <td>35.193255</td>\n",
       "      <td>9.109439</td>\n",
       "      <td>21.0</td>\n",
       "      <td>28.0</td>\n",
       "      <td>34.0</td>\n",
       "      <td>41.0</td>\n",
       "      <td>69.0</td>\n",
       "    </tr>\n",
       "    <tr>\n",
       "      <th>pay_0</th>\n",
       "      <td>2965.0</td>\n",
       "      <td>0.005059</td>\n",
       "      <td>1.114395</td>\n",
       "      <td>-2.0</td>\n",
       "      <td>-1.0</td>\n",
       "      <td>0.0</td>\n",
       "      <td>0.0</td>\n",
       "      <td>8.0</td>\n",
       "    </tr>\n",
       "    <tr>\n",
       "      <th>pay_2</th>\n",
       "      <td>2965.0</td>\n",
       "      <td>-0.122428</td>\n",
       "      <td>1.180784</td>\n",
       "      <td>-2.0</td>\n",
       "      <td>-1.0</td>\n",
       "      <td>0.0</td>\n",
       "      <td>0.0</td>\n",
       "      <td>7.0</td>\n",
       "    </tr>\n",
       "    <tr>\n",
       "      <th>pay_3</th>\n",
       "      <td>2965.0</td>\n",
       "      <td>-0.141653</td>\n",
       "      <td>1.183630</td>\n",
       "      <td>-2.0</td>\n",
       "      <td>-1.0</td>\n",
       "      <td>0.0</td>\n",
       "      <td>0.0</td>\n",
       "      <td>7.0</td>\n",
       "    </tr>\n",
       "    <tr>\n",
       "      <th>pay_4</th>\n",
       "      <td>2965.0</td>\n",
       "      <td>-0.185160</td>\n",
       "      <td>1.178322</td>\n",
       "      <td>-2.0</td>\n",
       "      <td>-1.0</td>\n",
       "      <td>0.0</td>\n",
       "      <td>0.0</td>\n",
       "      <td>8.0</td>\n",
       "    </tr>\n",
       "    <tr>\n",
       "      <th>pay_5</th>\n",
       "      <td>2965.0</td>\n",
       "      <td>-0.225295</td>\n",
       "      <td>1.159003</td>\n",
       "      <td>-2.0</td>\n",
       "      <td>-1.0</td>\n",
       "      <td>0.0</td>\n",
       "      <td>0.0</td>\n",
       "      <td>7.0</td>\n",
       "    </tr>\n",
       "    <tr>\n",
       "      <th>pay_6</th>\n",
       "      <td>2965.0</td>\n",
       "      <td>-0.254637</td>\n",
       "      <td>1.167305</td>\n",
       "      <td>-2.0</td>\n",
       "      <td>-1.0</td>\n",
       "      <td>0.0</td>\n",
       "      <td>0.0</td>\n",
       "      <td>7.0</td>\n",
       "    </tr>\n",
       "    <tr>\n",
       "      <th>bill_amt_1</th>\n",
       "      <td>2965.0</td>\n",
       "      <td>52118.305228</td>\n",
       "      <td>72328.670541</td>\n",
       "      <td>-11545.0</td>\n",
       "      <td>3958.0</td>\n",
       "      <td>24257.0</td>\n",
       "      <td>69852.0</td>\n",
       "      <td>613860.0</td>\n",
       "    </tr>\n",
       "    <tr>\n",
       "      <th>bill_amt_2</th>\n",
       "      <td>2965.0</td>\n",
       "      <td>50649.153120</td>\n",
       "      <td>70785.001588</td>\n",
       "      <td>-67526.0</td>\n",
       "      <td>3390.0</td>\n",
       "      <td>23111.0</td>\n",
       "      <td>67827.0</td>\n",
       "      <td>512650.0</td>\n",
       "    </tr>\n",
       "    <tr>\n",
       "      <th>bill_amt_3</th>\n",
       "      <td>2965.0</td>\n",
       "      <td>48239.757504</td>\n",
       "      <td>68145.710745</td>\n",
       "      <td>-25443.0</td>\n",
       "      <td>3302.0</td>\n",
       "      <td>21520.0</td>\n",
       "      <td>63023.0</td>\n",
       "      <td>578971.0</td>\n",
       "    </tr>\n",
       "    <tr>\n",
       "      <th>bill_amt_4</th>\n",
       "      <td>2965.0</td>\n",
       "      <td>44089.683305</td>\n",
       "      <td>61907.454056</td>\n",
       "      <td>-46627.0</td>\n",
       "      <td>2582.0</td>\n",
       "      <td>19894.0</td>\n",
       "      <td>58622.0</td>\n",
       "      <td>488808.0</td>\n",
       "    </tr>\n",
       "    <tr>\n",
       "      <th>bill_amt_5</th>\n",
       "      <td>2965.0</td>\n",
       "      <td>40956.080607</td>\n",
       "      <td>58271.904751</td>\n",
       "      <td>-46627.0</td>\n",
       "      <td>1958.0</td>\n",
       "      <td>18814.0</td>\n",
       "      <td>53373.0</td>\n",
       "      <td>441981.0</td>\n",
       "    </tr>\n",
       "    <tr>\n",
       "      <th>bill_amt_6</th>\n",
       "      <td>2965.0</td>\n",
       "      <td>39773.072513</td>\n",
       "      <td>57303.488981</td>\n",
       "      <td>-73895.0</td>\n",
       "      <td>1430.0</td>\n",
       "      <td>18508.0</td>\n",
       "      <td>52287.0</td>\n",
       "      <td>436172.0</td>\n",
       "    </tr>\n",
       "    <tr>\n",
       "      <th>pay_amt_1</th>\n",
       "      <td>2965.0</td>\n",
       "      <td>6348.902867</td>\n",
       "      <td>20885.735336</td>\n",
       "      <td>0.0</td>\n",
       "      <td>1013.0</td>\n",
       "      <td>2234.0</td>\n",
       "      <td>5087.0</td>\n",
       "      <td>493358.0</td>\n",
       "    </tr>\n",
       "    <tr>\n",
       "      <th>pay_amt_2</th>\n",
       "      <td>2965.0</td>\n",
       "      <td>6272.494435</td>\n",
       "      <td>28879.674534</td>\n",
       "      <td>0.0</td>\n",
       "      <td>990.0</td>\n",
       "      <td>2175.0</td>\n",
       "      <td>5000.0</td>\n",
       "      <td>1227082.0</td>\n",
       "    </tr>\n",
       "    <tr>\n",
       "      <th>pay_amt_3</th>\n",
       "      <td>2965.0</td>\n",
       "      <td>5150.497133</td>\n",
       "      <td>14287.079982</td>\n",
       "      <td>0.0</td>\n",
       "      <td>477.0</td>\n",
       "      <td>1994.0</td>\n",
       "      <td>4500.0</td>\n",
       "      <td>199209.0</td>\n",
       "    </tr>\n",
       "    <tr>\n",
       "      <th>pay_amt_4</th>\n",
       "      <td>2965.0</td>\n",
       "      <td>4561.376054</td>\n",
       "      <td>13281.499599</td>\n",
       "      <td>0.0</td>\n",
       "      <td>313.0</td>\n",
       "      <td>1600.0</td>\n",
       "      <td>4000.0</td>\n",
       "      <td>202076.0</td>\n",
       "    </tr>\n",
       "    <tr>\n",
       "      <th>pay_amt_5</th>\n",
       "      <td>2965.0</td>\n",
       "      <td>4913.286678</td>\n",
       "      <td>16734.340778</td>\n",
       "      <td>0.0</td>\n",
       "      <td>323.0</td>\n",
       "      <td>1646.0</td>\n",
       "      <td>4021.0</td>\n",
       "      <td>388071.0</td>\n",
       "    </tr>\n",
       "    <tr>\n",
       "      <th>pay_amt_6</th>\n",
       "      <td>2965.0</td>\n",
       "      <td>5382.701518</td>\n",
       "      <td>17275.953029</td>\n",
       "      <td>0.0</td>\n",
       "      <td>173.0</td>\n",
       "      <td>1615.0</td>\n",
       "      <td>4081.0</td>\n",
       "      <td>403500.0</td>\n",
       "    </tr>\n",
       "    <tr>\n",
       "      <th>default_payment_next_month</th>\n",
       "      <td>2965.0</td>\n",
       "      <td>0.214165</td>\n",
       "      <td>0.410311</td>\n",
       "      <td>0.0</td>\n",
       "      <td>0.0</td>\n",
       "      <td>0.0</td>\n",
       "      <td>0.0</td>\n",
       "      <td>1.0</td>\n",
       "    </tr>\n",
       "  </tbody>\n",
       "</table>\n",
       "</div>"
      ],
      "text/plain": [
       "                             count           mean            std      min  \\\n",
       "limit_balance               2965.0  163369.308600  125030.415472  10000.0   \n",
       "sex                         2965.0       1.607757       0.488333      1.0   \n",
       "education_level             2965.0       1.849578       0.778184      0.0   \n",
       "marital_status              2965.0       1.559865       0.522317      0.0   \n",
       "age                         2965.0      35.193255       9.109439     21.0   \n",
       "pay_0                       2965.0       0.005059       1.114395     -2.0   \n",
       "pay_2                       2965.0      -0.122428       1.180784     -2.0   \n",
       "pay_3                       2965.0      -0.141653       1.183630     -2.0   \n",
       "pay_4                       2965.0      -0.185160       1.178322     -2.0   \n",
       "pay_5                       2965.0      -0.225295       1.159003     -2.0   \n",
       "pay_6                       2965.0      -0.254637       1.167305     -2.0   \n",
       "bill_amt_1                  2965.0   52118.305228   72328.670541 -11545.0   \n",
       "bill_amt_2                  2965.0   50649.153120   70785.001588 -67526.0   \n",
       "bill_amt_3                  2965.0   48239.757504   68145.710745 -25443.0   \n",
       "bill_amt_4                  2965.0   44089.683305   61907.454056 -46627.0   \n",
       "bill_amt_5                  2965.0   40956.080607   58271.904751 -46627.0   \n",
       "bill_amt_6                  2965.0   39773.072513   57303.488981 -73895.0   \n",
       "pay_amt_1                   2965.0    6348.902867   20885.735336      0.0   \n",
       "pay_amt_2                   2965.0    6272.494435   28879.674534      0.0   \n",
       "pay_amt_3                   2965.0    5150.497133   14287.079982      0.0   \n",
       "pay_amt_4                   2965.0    4561.376054   13281.499599      0.0   \n",
       "pay_amt_5                   2965.0    4913.286678   16734.340778      0.0   \n",
       "pay_amt_6                   2965.0    5382.701518   17275.953029      0.0   \n",
       "default_payment_next_month  2965.0       0.214165       0.410311      0.0   \n",
       "\n",
       "                                25%       50%       75%        max  \n",
       "limit_balance               50000.0  140000.0  230000.0   800000.0  \n",
       "sex                             1.0       2.0       2.0        2.0  \n",
       "education_level                 1.0       2.0       2.0        6.0  \n",
       "marital_status                  1.0       2.0       2.0        3.0  \n",
       "age                            28.0      34.0      41.0       69.0  \n",
       "pay_0                          -1.0       0.0       0.0        8.0  \n",
       "pay_2                          -1.0       0.0       0.0        7.0  \n",
       "pay_3                          -1.0       0.0       0.0        7.0  \n",
       "pay_4                          -1.0       0.0       0.0        8.0  \n",
       "pay_5                          -1.0       0.0       0.0        7.0  \n",
       "pay_6                          -1.0       0.0       0.0        7.0  \n",
       "bill_amt_1                   3958.0   24257.0   69852.0   613860.0  \n",
       "bill_amt_2                   3390.0   23111.0   67827.0   512650.0  \n",
       "bill_amt_3                   3302.0   21520.0   63023.0   578971.0  \n",
       "bill_amt_4                   2582.0   19894.0   58622.0   488808.0  \n",
       "bill_amt_5                   1958.0   18814.0   53373.0   441981.0  \n",
       "bill_amt_6                   1430.0   18508.0   52287.0   436172.0  \n",
       "pay_amt_1                    1013.0    2234.0    5087.0   493358.0  \n",
       "pay_amt_2                     990.0    2175.0    5000.0  1227082.0  \n",
       "pay_amt_3                     477.0    1994.0    4500.0   199209.0  \n",
       "pay_amt_4                     313.0    1600.0    4000.0   202076.0  \n",
       "pay_amt_5                     323.0    1646.0    4021.0   388071.0  \n",
       "pay_amt_6                     173.0    1615.0    4081.0   403500.0  \n",
       "default_payment_next_month      0.0       0.0       0.0        1.0  "
      ]
     },
     "execution_count": 6,
     "metadata": {},
     "output_type": "execute_result"
    }
   ],
   "source": [
    "df.describe().T"
   ]
  },
  {
   "cell_type": "markdown",
   "metadata": {},
   "source": [
    "Dari perintah di atas, kita dapat mengetahui beberapa hal, di antaranya:\n",
    "\n",
    "* Batas kredit dari data yang tercatat berada pada rentang 10000 NTD hingga 800000 NTD dengan rata-rata batas kredit sebesar 163369.31 NTD. Namun, karena batas kredit umumnya berada pada inkremen 10000, maka kita dapat mengetahui kalau data ini dapat diinterpretasikan sebagai data kategorik ordinal,\n",
    "\n",
    "* Rentang umur dari data yang tercatat berada pada rentang usia 21 tahun hingga usia 69 tahun, dengan rata-rata orang yang tercatat berusia 35 tahun.\n",
    "\n",
    "* `bill_amt` dan `pay_amt` merupakan besar tagihan dan besar pembayaran tagihan yang dilakukan oleh pemilik kartu kredit dengan nilai tagihan berada pada rentang rata-rata sebesar 39773.07 NTD sampai dengan 52118.31 NTD dan nilai pembayaran yang berada pada rentang rata-rata sebesar 4561.38 NTD sampai dengan 6348.9 NTD.\n",
    "\n",
    "Sebelum kita ubah kolom yang memuat nilai batas kredit, kita akan lihat dulu bagaimana keseluruhan distribusinya dengan menggunakan plot histogram. Pertama-tama kita harus mengetahui dulu data-data apa saja yang terdapat di dalam kolom `limit_balance` beserta jumlahnya."
   ]
  },
  {
   "cell_type": "code",
   "execution_count": 7,
   "metadata": {},
   "outputs": [
    {
     "data": {
      "text/plain": [
       "Int64Index([-2, -1, 0, 1, 2, 3, 4, 5, 6, 7, 8], dtype='int64')"
      ]
     },
     "execution_count": 7,
     "metadata": {},
     "output_type": "execute_result"
    }
   ],
   "source": [
    "df.pay_0.value_counts().sort_index().index[()]"
   ]
  },
  {
   "cell_type": "code",
   "execution_count": 8,
   "metadata": {},
   "outputs": [
    {
     "data": {
      "text/plain": [
       "10000      46\n",
       "20000     203\n",
       "30000     148\n",
       "40000      26\n",
       "50000     348\n",
       "60000      68\n",
       "70000      76\n",
       "80000     145\n",
       "90000      71\n",
       "100000    123\n",
       "110000     54\n",
       "120000     80\n",
       "130000     69\n",
       "140000     83\n",
       "150000    122\n",
       "160000     62\n",
       "170000     52\n",
       "180000     97\n",
       "190000     12\n",
       "200000    150\n",
       "210000     84\n",
       "220000     43\n",
       "230000     68\n",
       "240000     56\n",
       "250000     28\n",
       "260000     70\n",
       "270000     19\n",
       "280000     50\n",
       "290000     37\n",
       "300000     67\n",
       "310000     28\n",
       "320000     32\n",
       "330000     16\n",
       "340000     15\n",
       "350000     24\n",
       "360000     78\n",
       "370000      8\n",
       "380000     16\n",
       "390000     16\n",
       "400000     25\n",
       "410000     12\n",
       "420000     20\n",
       "430000      5\n",
       "440000      6\n",
       "450000      9\n",
       "460000      8\n",
       "470000      7\n",
       "480000      5\n",
       "490000      8\n",
       "500000     56\n",
       "510000      4\n",
       "530000      3\n",
       "560000      1\n",
       "620000      1\n",
       "680000      1\n",
       "700000      1\n",
       "750000      1\n",
       "780000      1\n",
       "800000      1\n",
       "Name: limit_balance, dtype: int64"
      ]
     },
     "execution_count": 8,
     "metadata": {},
     "output_type": "execute_result"
    }
   ],
   "source": [
    "df.limit_balance.value_counts().sort_index()"
   ]
  },
  {
   "cell_type": "markdown",
   "metadata": {},
   "source": [
    "Setelah kita mengetahui persebaran nilai batas kreditnya, kita akan membuat grafik histogramnya."
   ]
  },
  {
   "cell_type": "code",
   "execution_count": 9,
   "metadata": {},
   "outputs": [
    {
     "data": {
      "image/png": "[encoded data removed]",
      "text/plain": [
       "<Figure size 504x504 with 1 Axes>"
      ]
     },
     "metadata": {
      "needs_background": "light"
     },
     "output_type": "display_data"
    }
   ],
   "source": [
    "plt.figure(figsize = (7, 7))\n",
    "\n",
    "sns.histplot(df[\"limit_balance\"], bins = 20, kde = True)\n",
    "plt.title(\"Limit Balance Histogram\")\n",
    "\n",
    "plt.show()"
   ]
  },
  {
   "cell_type": "markdown",
   "metadata": {},
   "source": [
    "Dari grafik di atas, kita dapat ketahui bahwa mayoritas orang memiliki nilai batas kredit di bawah 200000 NTD.\n",
    "\n",
    "Kemudian kita akan lihat bagaimana persebaran jenis kelamin dari pemegang kartu kredit yang tercatat di dalam data:"
   ]
  },
  {
   "cell_type": "code",
   "execution_count": 10,
   "metadata": {},
   "outputs": [
    {
     "data": {
      "text/plain": [
       "1    1163\n",
       "2    1802\n",
       "Name: sex, dtype: int64"
      ]
     },
     "execution_count": 10,
     "metadata": {},
     "output_type": "execute_result"
    }
   ],
   "source": [
    "df.sex.value_counts().sort_index()"
   ]
  },
  {
   "cell_type": "markdown",
   "metadata": {},
   "source": [
    "Setelah itu kita akan buat visualisasi untuk interpretasi datanya dengan perintah berikut:"
   ]
  },
  {
   "cell_type": "code",
   "execution_count": 11,
   "metadata": {},
   "outputs": [
    {
     "data": {
      "image/png": "[encoded data removed]",
      "text/plain": [
       "<Figure size 432x288 with 1 Axes>"
      ]
     },
     "metadata": {
      "needs_background": "light"
     },
     "output_type": "display_data"
    }
   ],
   "source": [
    "height = df.sex.value_counts().sort_index()\n",
    "\n",
    "bars = (\"Male\", \"Female\")\n",
    "x_pos = np.arange(len(bars))\n",
    "\n",
    "plt.bar(x_pos, height)\n",
    "plt.xticks(x_pos, bars)\n",
    "plt.xlabel(\"Gender\", fontweight = \"bold\")\n",
    "\n",
    "plt.show()"
   ]
  },
  {
   "cell_type": "markdown",
   "metadata": {},
   "source": [
    "Dari grafik di atas, kita mengetahui bahwa lebih banyak wanita yang memegang kartu kredit dibandingkan dengan pria dengan rasio 3:2.\n",
    "\n",
    "Selanjutnya kita akan melihat persebaran tingkat pendidikan pemegang kartu kredit yang tercatat di dalam data."
   ]
  },
  {
   "cell_type": "code",
   "execution_count": 12,
   "metadata": {},
   "outputs": [
    {
     "data": {
      "text/plain": [
       "0       2\n",
       "1    1039\n",
       "2    1400\n",
       "3     483\n",
       "4      13\n",
       "5      24\n",
       "6       4\n",
       "Name: education_level, dtype: int64"
      ]
     },
     "execution_count": 12,
     "metadata": {},
     "output_type": "execute_result"
    }
   ],
   "source": [
    "df.education_level.value_counts().sort_index()"
   ]
  },
  {
   "cell_type": "markdown",
   "metadata": {},
   "source": [
    "Kemudian kita akan buat visualiasinya, sama seperti sebelumnya, dengan menggunakan plot batang."
   ]
  },
  {
   "cell_type": "code",
   "execution_count": 13,
   "metadata": {},
   "outputs": [
    {
     "data": {
      "image/png": "[encoded data removed]",
      "text/plain": [
       "<Figure size 432x288 with 1 Axes>"
      ]
     },
     "metadata": {
      "needs_background": "light"
     },
     "output_type": "display_data"
    }
   ],
   "source": [
    "height = df.education_level.value_counts().sort_index()\n",
    "\n",
    "bars = (df.education_level.value_counts().sort_index().index[()])\n",
    "x_pos = np.arange(len(bars))\n",
    "\n",
    "plt.bar(x_pos, height)\n",
    "plt.xticks(x_pos, bars)\n",
    "plt.xlabel(\"Education Level\", fontweight = \"bold\")\n",
    "\n",
    "plt.show()"
   ]
  },
  {
   "cell_type": "markdown",
   "metadata": {},
   "source": [
    "Dari grafik di atas kita mengetahui bahwa mayoritas pemegang kartu kredit merupakan mahasiswa, baik dari tingkat sarjana, magister, ataupun doktor. Pada data juga terlihat ada indeks '0' yang tidak tercatat di dalam skema deskriptif *dataset* dan indeks '5' dan '6' yang sebenarnya menggambarkan hal yang sama, yaitu tingkat pendidikan yang tidak diketahui. Ketiga indeks tersebut nantinya akan kita gabungkan dengan data 'others' yang berada pada indeks 4 pada grafik.\n",
    "\n",
    "Sekarang kita akan melihat persebaran status pernikahan dari pemegang kartu kredit yang tercatat di dalam data."
   ]
  },
  {
   "cell_type": "code",
   "execution_count": 14,
   "metadata": {},
   "outputs": [
    {
     "data": {
      "text/plain": [
       "0       4\n",
       "1    1332\n",
       "2    1594\n",
       "3      35\n",
       "Name: marital_status, dtype: int64"
      ]
     },
     "execution_count": 14,
     "metadata": {},
     "output_type": "execute_result"
    }
   ],
   "source": [
    "df.marital_status.value_counts().sort_index()"
   ]
  },
  {
   "cell_type": "markdown",
   "metadata": {},
   "source": [
    "Sama seperti sebelumnya, kita akan buat visualisasi dari data tersebut dengan plot batang."
   ]
  },
  {
   "cell_type": "code",
   "execution_count": 15,
   "metadata": {},
   "outputs": [
    {
     "data": {
      "image/png": "[encoded data removed]",
      "text/plain": [
       "<Figure size 432x288 with 1 Axes>"
      ]
     },
     "metadata": {
      "needs_background": "light"
     },
     "output_type": "display_data"
    }
   ],
   "source": [
    "height = df.marital_status.value_counts().sort_index()\n",
    "\n",
    "bars = (df.marital_status.value_counts().sort_index().index[()])\n",
    "x_pos = np.arange(len(bars))\n",
    "\n",
    "plt.bar(x_pos, height)\n",
    "plt.xticks(x_pos, bars)\n",
    "plt.xlabel(\"Marital Status\", fontweight = \"bold\")\n",
    "\n",
    "plt.show()"
   ]
  },
  {
   "cell_type": "markdown",
   "metadata": {},
   "source": [
    "Dari grafik tersebut dapat diketahui bahwa mayoritas pemegang kartu kredit tidak memiliki pasangan. Selain itu, ada indeks '0' yang tidak tercatat di dalam skema deskriptif dan nantinya akan kita masukkan ke dalam indeks '3' yang mewakili nilai 'others'.\n",
    "\n",
    "Selanjutnya kita akan membuat grafik persebaran umur pemegang kartu kredit yang tercatat di dalam data."
   ]
  },
  {
   "cell_type": "code",
   "execution_count": 16,
   "metadata": {},
   "outputs": [
    {
     "data": {
      "image/png": "[encoded data removed]",
      "text/plain": [
       "<Figure size 504x504 with 1 Axes>"
      ]
     },
     "metadata": {
      "needs_background": "light"
     },
     "output_type": "display_data"
    }
   ],
   "source": [
    "plt.figure(figsize = (7, 7))\n",
    "\n",
    "sns.histplot(df[\"age\"], bins = 20, kde = True)\n",
    "plt.title(\"Age Histogram\")\n",
    "\n",
    "plt.show()"
   ]
  },
  {
   "cell_type": "markdown",
   "metadata": {},
   "source": [
    "Dari grafik di atas, kita dapat mengetahui bahwa mayoritas pemegang kartu kredit berada pada rentang usia 25-40 tahun. \n",
    "\n",
    "Selanjutnya kita akan melihat bagaimana distribusi status pembayaran pemegang kredit dari bulan April sampai bulan Agustus."
   ]
  },
  {
   "cell_type": "code",
   "execution_count": 17,
   "metadata": {},
   "outputs": [
    {
     "data": {
      "image/png": "[encoded data removed]",
      "text/plain": [
       "<Figure size 2160x720 with 6 Axes>"
      ]
     },
     "metadata": {
      "needs_background": "light"
     },
     "output_type": "display_data"
    }
   ],
   "source": [
    "plt.figure(figsize = (30, 10))\n",
    "\n",
    "plt.subplot(2, 3, 1)\n",
    "height = df.pay_6.value_counts().sort_index()\n",
    "\n",
    "bars = (df.pay_6.value_counts().sort_index().index[()])\n",
    "x_pos = np.arange(len(bars))\n",
    "\n",
    "plt.bar(x_pos, height)\n",
    "plt.xticks(x_pos, bars)\n",
    "plt.title(\"Repayment Status (April)\")\n",
    "\n",
    "plt.subplot(2, 3, 2)\n",
    "height = df.pay_5.value_counts().sort_index()\n",
    "\n",
    "bars = (df.pay_5.value_counts().sort_index().index[()])\n",
    "x_pos = np.arange(len(bars))\n",
    "\n",
    "plt.bar(x_pos, height)\n",
    "plt.xticks(x_pos, bars)\n",
    "plt.title(\"Repayment Status (May)\")\n",
    "\n",
    "plt.subplot(2, 3, 3)\n",
    "height = df.pay_4.value_counts().sort_index()\n",
    "\n",
    "bars = (df.pay_4.value_counts().sort_index().index[()])\n",
    "x_pos = np.arange(len(bars))\n",
    "\n",
    "plt.bar(x_pos, height)\n",
    "plt.xticks(x_pos, bars)\n",
    "plt.title(\"Repayment Status (June)\")\n",
    "\n",
    "plt.subplot(2, 3, 4)\n",
    "height = df.pay_3.value_counts().sort_index()\n",
    "\n",
    "bars = (df.pay_3.value_counts().sort_index().index[()])\n",
    "x_pos = np.arange(len(bars))\n",
    "\n",
    "plt.bar(x_pos, height)\n",
    "plt.xticks(x_pos, bars)\n",
    "plt.title(\"Repayment Status (July)\")\n",
    "\n",
    "plt.subplot(2, 3, 5)\n",
    "height = df.pay_2.value_counts().sort_index()\n",
    "\n",
    "bars = (df.pay_2.value_counts().sort_index().index[()])\n",
    "x_pos = np.arange(len(bars))\n",
    "\n",
    "plt.bar(x_pos, height)\n",
    "plt.xticks(x_pos, bars)\n",
    "plt.title(\"Repayment Status (August)\")\n",
    "\n",
    "plt.subplot(2, 3, 6)\n",
    "height = df.pay_0.value_counts().sort_index()\n",
    "\n",
    "bars = (df.pay_0.value_counts().sort_index().index[()])\n",
    "x_pos = np.arange(len(bars))\n",
    "\n",
    "plt.bar(x_pos, height)\n",
    "plt.xticks(x_pos, bars)\n",
    "plt.title(\"Repayment Status (September)\")\n",
    "plt.show()"
   ]
  },
  {
   "cell_type": "markdown",
   "metadata": {},
   "source": [
    "Dari grafik di atas, kita mengetahui bahwa mayoritas pemegang kartu kredit membayar tagihannya tepat waktu atau lebih cepat dari itu. Untuk kepentingan analisis nanti, kita akan memasukkan indeks '-2' dan '0' yang tidak terdapat di dalam skema deskripsi ke dalam indeks '-1' dan kita ubah namanya ke indeks '0'.\n",
    "\n",
    "Selain itu kita akan lihat bagaimana distribusi tagihan pembayaran kartu kredit yang tersisa dan tercatat di dalam data dari bulan April hingga bulan September."
   ]
  },
  {
   "cell_type": "code",
   "execution_count": 18,
   "metadata": {},
   "outputs": [
    {
     "data": {
      "image/png": "[encoded data removed]",
      "text/plain": [
       "<Figure size 2160x720 with 6 Axes>"
      ]
     },
     "metadata": {
      "needs_background": "light"
     },
     "output_type": "display_data"
    }
   ],
   "source": [
    "plt.figure(figsize = (30, 10))\n",
    "plt.subplot(2, 3, 1)\n",
    "sns.histplot(df[\"bill_amt_1\"], bins = 20, kde = True)\n",
    "plt.subplot(2, 3, 2)\n",
    "sns.histplot(df[\"bill_amt_2\"], bins = 20, kde = True)\n",
    "plt.subplot(2, 3, 3)\n",
    "sns.histplot(df[\"bill_amt_3\"], bins = 20, kde = True)\n",
    "plt.subplot(2, 3, 4)\n",
    "sns.histplot(df[\"bill_amt_4\"], bins = 20, kde = True)\n",
    "plt.subplot(2, 3, 5)\n",
    "sns.histplot(df[\"bill_amt_5\"], bins = 20, kde = True)\n",
    "plt.subplot(2, 3, 6)\n",
    "sns.histplot(df[\"bill_amt_6\"], bins = 20, kde = True)\n",
    "plt.show()"
   ]
  },
  {
   "cell_type": "markdown",
   "metadata": {},
   "source": [
    "Dari grafik ini kita melihat bahwa mayoritas orang tidak memiliki sisa tagihan di dalam kartu kredit milik mereka.\n",
    "\n",
    "Selanjutnya kita akan melihat bagaimana distribusi jumlah pembayaran tambahan tagihan kartu kredit yang dilakukan dan tercatat di dalam data dari bulan April hingga bulan September."
   ]
  },
  {
   "cell_type": "code",
   "execution_count": 19,
   "metadata": {},
   "outputs": [
    {
     "data": {
      "image/png": "[encoded data removed]",
      "text/plain": [
       "<Figure size 2160x720 with 6 Axes>"
      ]
     },
     "metadata": {
      "needs_background": "light"
     },
     "output_type": "display_data"
    }
   ],
   "source": [
    "plt.figure(figsize = (30, 10))\n",
    "plt.subplot(2, 3, 1)\n",
    "sns.histplot(df[\"pay_amt_1\"], bins = 20, kde = True)\n",
    "plt.subplot(2, 3, 2)\n",
    "sns.histplot(df[\"pay_amt_2\"], bins = 20, kde = True)\n",
    "plt.subplot(2, 3, 3)\n",
    "sns.histplot(df[\"pay_amt_3\"], bins = 20, kde = True)\n",
    "plt.subplot(2, 3, 4)\n",
    "sns.histplot(df[\"pay_amt_4\"], bins = 20, kde = True)\n",
    "plt.subplot(2, 3, 5)\n",
    "sns.histplot(df[\"pay_amt_5\"], bins = 20, kde = True)\n",
    "plt.subplot(2, 3, 6)\n",
    "sns.histplot(df[\"pay_amt_6\"], bins = 20, kde = True)\n",
    "plt.show()"
   ]
  },
  {
   "cell_type": "markdown",
   "metadata": {},
   "source": [
    "Dari sini kita dapat melihat bahwa mayoritas orang tidak melakukan pembayaran tambahan tagihan kartu kredit. Hal ini konsisten dengan grafik sebelumnya yang menampilkan bahwa mayoritas pengguna kartu kredit membayarkan uang kreditnya tepat waktu.\n",
    "\n",
    "Terakhir, kita akan melihat distribusi apakah seseorang wajib melakukan pembayaran kartu kredit di bulan Oktober 2005 atau tidak."
   ]
  },
  {
   "cell_type": "code",
   "execution_count": 20,
   "metadata": {},
   "outputs": [
    {
     "data": {
      "text/plain": [
       "0    2330\n",
       "1     635\n",
       "Name: default_payment_next_month, dtype: int64"
      ]
     },
     "execution_count": 20,
     "metadata": {},
     "output_type": "execute_result"
    }
   ],
   "source": [
    "df.default_payment_next_month.value_counts()"
   ]
  },
  {
   "cell_type": "markdown",
   "metadata": {},
   "source": [
    "Setelah itu kita akan buat visualisasinya:"
   ]
  },
  {
   "cell_type": "code",
   "execution_count": 21,
   "metadata": {},
   "outputs": [
    {
     "data": {
      "image/png": "[encoded data removed]",
      "text/plain": [
       "<Figure size 432x288 with 1 Axes>"
      ]
     },
     "metadata": {
      "needs_background": "light"
     },
     "output_type": "display_data"
    }
   ],
   "source": [
    "height = df.default_payment_next_month.value_counts().sort_index()\n",
    "\n",
    "bars = (df.default_payment_next_month.value_counts().sort_index().index[()])\n",
    "x_pos = np.arange(len(bars))\n",
    "\n",
    "plt.bar(x_pos, height)\n",
    "plt.xticks(x_pos, bars)\n",
    "plt.xlabel(\"Wajib Melakukan Pembayaran?\", fontweight = \"bold\")\n",
    "\n",
    "plt.show()"
   ]
  },
  {
   "cell_type": "markdown",
   "metadata": {},
   "source": [
    "Dari visualisasi di atas, terlihat bahwa mayoritas pemegang kartu kredit tidak perlu wajib membayar tagihan kredit mereka di bulan selanjtnya dengan rasio kurang lebih 5:1.\n",
    "\n",
    "Kemudian kita akan periksa *heat map* dari *dataset* yang kita miliki untuk menentukan fitur apa saja yang akan dimasukkan ke dalam model nantinya."
   ]
  },
  {
   "cell_type": "code",
   "execution_count": 22,
   "metadata": {},
   "outputs": [
    {
     "data": {
      "image/png": "[encoded data removed]",
      "text/plain": [
       "<Figure size 2160x2160 with 2 Axes>"
      ]
     },
     "metadata": {
      "needs_background": "light"
     },
     "output_type": "display_data"
    }
   ],
   "source": [
    "corr = df.corr()\n",
    "\n",
    "plt.figure(figsize=(30, 30))\n",
    "sns.heatmap(corr, annot= True, vmin=0, vmax=1)\n",
    "plt.show()"
   ]
  },
  {
   "cell_type": "markdown",
   "metadata": {},
   "source": [
    "Dari peta di atas, kita dapat ketahui bahwa hanya nilai batas kredit dan status pembayaran 6 bulan terakhir yang memiliki pengaruh besar terhadap keputusan apakah seseorang harus membayar tagihan kredit mereka di bulan Oktober 2005 atau tidak."
   ]
  },
  {
   "cell_type": "markdown",
   "metadata": {},
   "source": [
    "## *Data Preprocessing*"
   ]
  },
  {
   "cell_type": "markdown",
   "metadata": {},
   "source": [
    "### Mengambil dan Memisahkan *Data Inference*"
   ]
  },
  {
   "cell_type": "markdown",
   "metadata": {},
   "source": [
    "Sebelum kita membagi *dataset train* dan *dataset test*, kita pisahkan dulu beberapa buah data untuk kita lakukan *inferencing* nantinya."
   ]
  },
  {
   "cell_type": "code",
   "execution_count": 23,
   "metadata": {},
   "outputs": [
    {
     "data": {
      "text/html": [
       "<div>\n",
       "<style scoped>\n",
       "    .dataframe tbody tr th:only-of-type {\n",
       "        vertical-align: middle;\n",
       "    }\n",
       "\n",
       "    .dataframe tbody tr th {\n",
       "        vertical-align: top;\n",
       "    }\n",
       "\n",
       "    .dataframe thead th {\n",
       "        text-align: right;\n",
       "    }\n",
       "</style>\n",
       "<table border=\"1\" class=\"dataframe\">\n",
       "  <thead>\n",
       "    <tr style=\"text-align: right;\">\n",
       "      <th></th>\n",
       "      <th>limit_balance</th>\n",
       "      <th>sex</th>\n",
       "      <th>education_level</th>\n",
       "      <th>marital_status</th>\n",
       "      <th>age</th>\n",
       "      <th>pay_0</th>\n",
       "      <th>pay_2</th>\n",
       "      <th>pay_3</th>\n",
       "      <th>pay_4</th>\n",
       "      <th>pay_5</th>\n",
       "      <th>...</th>\n",
       "      <th>bill_amt_4</th>\n",
       "      <th>bill_amt_5</th>\n",
       "      <th>bill_amt_6</th>\n",
       "      <th>pay_amt_1</th>\n",
       "      <th>pay_amt_2</th>\n",
       "      <th>pay_amt_3</th>\n",
       "      <th>pay_amt_4</th>\n",
       "      <th>pay_amt_5</th>\n",
       "      <th>pay_amt_6</th>\n",
       "      <th>default_payment_next_month</th>\n",
       "    </tr>\n",
       "  </thead>\n",
       "  <tbody>\n",
       "    <tr>\n",
       "      <th>2498</th>\n",
       "      <td>200000</td>\n",
       "      <td>1</td>\n",
       "      <td>1</td>\n",
       "      <td>2</td>\n",
       "      <td>30</td>\n",
       "      <td>-1</td>\n",
       "      <td>-1</td>\n",
       "      <td>-1</td>\n",
       "      <td>-1</td>\n",
       "      <td>0</td>\n",
       "      <td>...</td>\n",
       "      <td>54271</td>\n",
       "      <td>60326</td>\n",
       "      <td>63339</td>\n",
       "      <td>3449</td>\n",
       "      <td>2798</td>\n",
       "      <td>54271</td>\n",
       "      <td>7000</td>\n",
       "      <td>4000</td>\n",
       "      <td>6000</td>\n",
       "      <td>0</td>\n",
       "    </tr>\n",
       "    <tr>\n",
       "      <th>1817</th>\n",
       "      <td>50000</td>\n",
       "      <td>1</td>\n",
       "      <td>2</td>\n",
       "      <td>2</td>\n",
       "      <td>27</td>\n",
       "      <td>2</td>\n",
       "      <td>2</td>\n",
       "      <td>2</td>\n",
       "      <td>2</td>\n",
       "      <td>2</td>\n",
       "      <td>...</td>\n",
       "      <td>36724</td>\n",
       "      <td>45751</td>\n",
       "      <td>46497</td>\n",
       "      <td>460</td>\n",
       "      <td>5021</td>\n",
       "      <td>0</td>\n",
       "      <td>10000</td>\n",
       "      <td>2005</td>\n",
       "      <td>37</td>\n",
       "      <td>1</td>\n",
       "    </tr>\n",
       "    <tr>\n",
       "      <th>596</th>\n",
       "      <td>410000</td>\n",
       "      <td>2</td>\n",
       "      <td>1</td>\n",
       "      <td>2</td>\n",
       "      <td>31</td>\n",
       "      <td>0</td>\n",
       "      <td>0</td>\n",
       "      <td>0</td>\n",
       "      <td>0</td>\n",
       "      <td>0</td>\n",
       "      <td>...</td>\n",
       "      <td>135954</td>\n",
       "      <td>134250</td>\n",
       "      <td>129971</td>\n",
       "      <td>15003</td>\n",
       "      <td>15877</td>\n",
       "      <td>30000</td>\n",
       "      <td>14250</td>\n",
       "      <td>9971</td>\n",
       "      <td>27380</td>\n",
       "      <td>0</td>\n",
       "    </tr>\n",
       "    <tr>\n",
       "      <th>735</th>\n",
       "      <td>100000</td>\n",
       "      <td>1</td>\n",
       "      <td>1</td>\n",
       "      <td>2</td>\n",
       "      <td>30</td>\n",
       "      <td>0</td>\n",
       "      <td>0</td>\n",
       "      <td>0</td>\n",
       "      <td>0</td>\n",
       "      <td>0</td>\n",
       "      <td>...</td>\n",
       "      <td>97862</td>\n",
       "      <td>79099</td>\n",
       "      <td>79812</td>\n",
       "      <td>4511</td>\n",
       "      <td>3711</td>\n",
       "      <td>3685</td>\n",
       "      <td>2797</td>\n",
       "      <td>2897</td>\n",
       "      <td>3046</td>\n",
       "      <td>1</td>\n",
       "    </tr>\n",
       "    <tr>\n",
       "      <th>2135</th>\n",
       "      <td>310000</td>\n",
       "      <td>1</td>\n",
       "      <td>1</td>\n",
       "      <td>1</td>\n",
       "      <td>45</td>\n",
       "      <td>-2</td>\n",
       "      <td>-2</td>\n",
       "      <td>-2</td>\n",
       "      <td>-2</td>\n",
       "      <td>-2</td>\n",
       "      <td>...</td>\n",
       "      <td>-16</td>\n",
       "      <td>-16</td>\n",
       "      <td>-16</td>\n",
       "      <td>1174</td>\n",
       "      <td>6527</td>\n",
       "      <td>0</td>\n",
       "      <td>0</td>\n",
       "      <td>0</td>\n",
       "      <td>0</td>\n",
       "      <td>0</td>\n",
       "    </tr>\n",
       "    <tr>\n",
       "      <th>2646</th>\n",
       "      <td>20000</td>\n",
       "      <td>1</td>\n",
       "      <td>1</td>\n",
       "      <td>2</td>\n",
       "      <td>24</td>\n",
       "      <td>-1</td>\n",
       "      <td>-1</td>\n",
       "      <td>-1</td>\n",
       "      <td>-1</td>\n",
       "      <td>-1</td>\n",
       "      <td>...</td>\n",
       "      <td>780</td>\n",
       "      <td>0</td>\n",
       "      <td>0</td>\n",
       "      <td>390</td>\n",
       "      <td>390</td>\n",
       "      <td>780</td>\n",
       "      <td>0</td>\n",
       "      <td>0</td>\n",
       "      <td>0</td>\n",
       "      <td>0</td>\n",
       "    </tr>\n",
       "    <tr>\n",
       "      <th>14</th>\n",
       "      <td>230000</td>\n",
       "      <td>1</td>\n",
       "      <td>2</td>\n",
       "      <td>1</td>\n",
       "      <td>41</td>\n",
       "      <td>0</td>\n",
       "      <td>0</td>\n",
       "      <td>0</td>\n",
       "      <td>0</td>\n",
       "      <td>0</td>\n",
       "      <td>...</td>\n",
       "      <td>216260</td>\n",
       "      <td>215968</td>\n",
       "      <td>174195</td>\n",
       "      <td>9405</td>\n",
       "      <td>7769</td>\n",
       "      <td>7757</td>\n",
       "      <td>8030</td>\n",
       "      <td>6549</td>\n",
       "      <td>5226</td>\n",
       "      <td>1</td>\n",
       "    </tr>\n",
       "    <tr>\n",
       "      <th>1151</th>\n",
       "      <td>100000</td>\n",
       "      <td>1</td>\n",
       "      <td>5</td>\n",
       "      <td>1</td>\n",
       "      <td>38</td>\n",
       "      <td>0</td>\n",
       "      <td>0</td>\n",
       "      <td>0</td>\n",
       "      <td>0</td>\n",
       "      <td>0</td>\n",
       "      <td>...</td>\n",
       "      <td>96038</td>\n",
       "      <td>94646</td>\n",
       "      <td>96631</td>\n",
       "      <td>3824</td>\n",
       "      <td>4311</td>\n",
       "      <td>3648</td>\n",
       "      <td>3370</td>\n",
       "      <td>3492</td>\n",
       "      <td>3614</td>\n",
       "      <td>0</td>\n",
       "    </tr>\n",
       "    <tr>\n",
       "      <th>1251</th>\n",
       "      <td>50000</td>\n",
       "      <td>2</td>\n",
       "      <td>2</td>\n",
       "      <td>1</td>\n",
       "      <td>32</td>\n",
       "      <td>0</td>\n",
       "      <td>0</td>\n",
       "      <td>0</td>\n",
       "      <td>0</td>\n",
       "      <td>0</td>\n",
       "      <td>...</td>\n",
       "      <td>8337</td>\n",
       "      <td>2475</td>\n",
       "      <td>0</td>\n",
       "      <td>1500</td>\n",
       "      <td>1847</td>\n",
       "      <td>1000</td>\n",
       "      <td>0</td>\n",
       "      <td>0</td>\n",
       "      <td>0</td>\n",
       "      <td>0</td>\n",
       "    </tr>\n",
       "    <tr>\n",
       "      <th>1912</th>\n",
       "      <td>20000</td>\n",
       "      <td>1</td>\n",
       "      <td>1</td>\n",
       "      <td>2</td>\n",
       "      <td>24</td>\n",
       "      <td>2</td>\n",
       "      <td>2</td>\n",
       "      <td>2</td>\n",
       "      <td>2</td>\n",
       "      <td>2</td>\n",
       "      <td>...</td>\n",
       "      <td>6346</td>\n",
       "      <td>6099</td>\n",
       "      <td>7235</td>\n",
       "      <td>4000</td>\n",
       "      <td>0</td>\n",
       "      <td>1000</td>\n",
       "      <td>0</td>\n",
       "      <td>1237</td>\n",
       "      <td>1000</td>\n",
       "      <td>1</td>\n",
       "    </tr>\n",
       "  </tbody>\n",
       "</table>\n",
       "<p>10 rows × 24 columns</p>\n",
       "</div>"
      ],
      "text/plain": [
       "      limit_balance  sex  education_level  marital_status  age  pay_0  pay_2  \\\n",
       "2498         200000    1                1               2   30     -1     -1   \n",
       "1817          50000    1                2               2   27      2      2   \n",
       "596          410000    2                1               2   31      0      0   \n",
       "735          100000    1                1               2   30      0      0   \n",
       "2135         310000    1                1               1   45     -2     -2   \n",
       "2646          20000    1                1               2   24     -1     -1   \n",
       "14           230000    1                2               1   41      0      0   \n",
       "1151         100000    1                5               1   38      0      0   \n",
       "1251          50000    2                2               1   32      0      0   \n",
       "1912          20000    1                1               2   24      2      2   \n",
       "\n",
       "      pay_3  pay_4  pay_5  ...  bill_amt_4  bill_amt_5  bill_amt_6  pay_amt_1  \\\n",
       "2498     -1     -1      0  ...       54271       60326       63339       3449   \n",
       "1817      2      2      2  ...       36724       45751       46497        460   \n",
       "596       0      0      0  ...      135954      134250      129971      15003   \n",
       "735       0      0      0  ...       97862       79099       79812       4511   \n",
       "2135     -2     -2     -2  ...         -16         -16         -16       1174   \n",
       "2646     -1     -1     -1  ...         780           0           0        390   \n",
       "14        0      0      0  ...      216260      215968      174195       9405   \n",
       "1151      0      0      0  ...       96038       94646       96631       3824   \n",
       "1251      0      0      0  ...        8337        2475           0       1500   \n",
       "1912      2      2      2  ...        6346        6099        7235       4000   \n",
       "\n",
       "      pay_amt_2  pay_amt_3  pay_amt_4  pay_amt_5  pay_amt_6  \\\n",
       "2498       2798      54271       7000       4000       6000   \n",
       "1817       5021          0      10000       2005         37   \n",
       "596       15877      30000      14250       9971      27380   \n",
       "735        3711       3685       2797       2897       3046   \n",
       "2135       6527          0          0          0          0   \n",
       "2646        390        780          0          0          0   \n",
       "14         7769       7757       8030       6549       5226   \n",
       "1151       4311       3648       3370       3492       3614   \n",
       "1251       1847       1000          0          0          0   \n",
       "1912          0       1000          0       1237       1000   \n",
       "\n",
       "      default_payment_next_month  \n",
       "2498                           0  \n",
       "1817                           1  \n",
       "596                            0  \n",
       "735                            1  \n",
       "2135                           0  \n",
       "2646                           0  \n",
       "14                             1  \n",
       "1151                           0  \n",
       "1251                           0  \n",
       "1912                           1  \n",
       "\n",
       "[10 rows x 24 columns]"
      ]
     },
     "execution_count": 23,
     "metadata": {},
     "output_type": "execute_result"
    }
   ],
   "source": [
    "df_inf = df.sample(10, random_state = 20)\n",
    "df_inf"
   ]
  },
  {
   "cell_type": "markdown",
   "metadata": {},
   "source": [
    "Kemudian kita pisahkan sampel data tadi dari *dataset* aslinya."
   ]
  },
  {
   "cell_type": "code",
   "execution_count": 24,
   "metadata": {},
   "outputs": [],
   "source": [
    "df_traintest = df.drop(df_inf.index)\n",
    "df_traintest.reset_index(drop = True, inplace = True)\n",
    "df_inf.reset_index(drop = True, inplace = True)"
   ]
  },
  {
   "cell_type": "markdown",
   "metadata": {},
   "source": [
    "### Memisahkan *Data Train* dan *Data Test*"
   ]
  },
  {
   "cell_type": "markdown",
   "metadata": {},
   "source": [
    "Setelah kita memisahkan *dataset inference* dengan *dataset* aslinya, kita pisahkan lebih lanjut *dataset* yang sudah dipisahkan menjadi tabel fitur dan tabel target. Pada kasus ini target yang dipilih adalah kolom `default_payment_next_month`."
   ]
  },
  {
   "cell_type": "code",
   "execution_count": 25,
   "metadata": {},
   "outputs": [],
   "source": [
    "x = df_traintest.drop(\"default_payment_next_month\", axis = 1)\n",
    "y = df_traintest[\"default_payment_next_month\"]"
   ]
  },
  {
   "cell_type": "markdown",
   "metadata": {},
   "source": [
    "Kemudian dengan bantuan *library* `sklearn.model_selection.train_test_split`, kita akan memisahkan tabel fitur dan target menjadi *dataset train* dan *dataset test*."
   ]
  },
  {
   "cell_type": "code",
   "execution_count": 26,
   "metadata": {},
   "outputs": [
    {
     "name": "stdout",
     "output_type": "stream",
     "text": [
      "Train Size: (2364, 23)\n",
      "Test Size: (591, 23)\n"
     ]
    }
   ],
   "source": [
    "x_train, x_test, y_train, y_test = train_test_split(x, y, test_size = 0.2, random_state = 20)\n",
    "\n",
    "x_train.reset_index(drop = True, inplace = True)\n",
    "x_test.reset_index(drop = True, inplace = True)\n",
    "y_train.reset_index(drop = True, inplace = True)\n",
    "y_test.reset_index(drop = True, inplace = True)\n",
    "\n",
    "print(\"Train Size:\", x_train.shape)\n",
    "print(\"Test Size:\", x_test.shape)"
   ]
  },
  {
   "cell_type": "markdown",
   "metadata": {},
   "source": [
    "### Mengurus *Outlier Value*"
   ]
  },
  {
   "cell_type": "markdown",
   "metadata": {},
   "source": [
    "Di dalam data numerik yang kita miliki, keseluruhan datanya merupakan data asli yang tidak dapat kita lakukan perlakuan apapun terhadap nilai *outlier*-nya."
   ]
  },
  {
   "cell_type": "markdown",
   "metadata": {},
   "source": [
    "### Mengurus *Missing Value*"
   ]
  },
  {
   "cell_type": "markdown",
   "metadata": {},
   "source": [
    "Seperti yang sudah kita ketahui pada saat melakukan *exploratory data analysis*, kita mengetahui bahwa terdapat data-data yang tidak termasuk di dalam skema deskripsi. Kita akan memasukkan indeks '-2' dan '0' yang tidak terdapat di dalam skema deskripsi ke dalam indeks '-1' dan kita ubah namanya ke indeks '0'."
   ]
  },
  {
   "cell_type": "code",
   "execution_count": 27,
   "metadata": {},
   "outputs": [],
   "source": [
    "for i in range(len(x_train)):\n",
    "    if x_train.pay_0.iloc[i] < 0: x_train.pay_0.iloc[i] = 0\n",
    "    else: continue\n",
    "\n",
    "for i in range(len(x_train)):\n",
    "    if x_train.pay_2.iloc[i] < 0: x_train.pay_2.iloc[i] = 0\n",
    "    else: continue\n",
    "\n",
    "for i in range(len(x_train)):\n",
    "    if x_train.pay_3.iloc[i] < 0: x_train.pay_3.iloc[i] = 0\n",
    "    else: continue\n",
    "\n",
    "for i in range(len(x_train)):\n",
    "    if x_train.pay_4.iloc[i] < 0: x_train.pay_4.iloc[i] = 0\n",
    "    else: continue\n",
    "\n",
    "for i in range(len(x_train)):\n",
    "    if x_train.pay_5.iloc[i] < 0: x_train.pay_5.iloc[i] = 0\n",
    "    else: continue\n",
    "\n",
    "for i in range(len(x_train)):\n",
    "    if x_train.pay_6.iloc[i] < 0: x_train.pay_6.iloc[i] = 0\n",
    "    else: continue\n",
    "\n",
    "for i in range(len(x_test)):\n",
    "    if x_test.pay_0.iloc[i] < 0: x_test.pay_0.iloc[i] = 0\n",
    "    else: continue\n",
    "\n",
    "for i in range(len(x_test)):\n",
    "    if x_test.pay_2.iloc[i] < 0: x_test.pay_2.iloc[i] = 0\n",
    "    else: continue\n",
    "\n",
    "for i in range(len(x_test)):\n",
    "    if x_test.pay_3.iloc[i] < 0: x_test.pay_3.iloc[i] = 0\n",
    "    else: continue\n",
    "\n",
    "for i in range(len(x_test)):\n",
    "    if x_test.pay_4.iloc[i] < 0: x_test.pay_4.iloc[i] = 0\n",
    "    else: continue\n",
    "\n",
    "for i in range(len(x_test)):\n",
    "    if x_test.pay_5.iloc[i] < 0: x_test.pay_5.iloc[i] = 0\n",
    "    else: continue\n",
    "\n",
    "for i in range(len(x_test)):\n",
    "    if x_test.pay_6.iloc[i] < 0: x_test.pay_6.iloc[i] = 0\n",
    "    else: continue"
   ]
  },
  {
   "cell_type": "markdown",
   "metadata": {},
   "source": [
    "Setelah kita mengurus *missing value*-nya, kita bisa mulai memilih dan mengolah tabel yang akan kita gunakan untuk diimplementasikan ke dalam model."
   ]
  },
  {
   "cell_type": "markdown",
   "metadata": {},
   "source": [
    "## Membangun Model yang akan Digunakan"
   ]
  },
  {
   "cell_type": "markdown",
   "metadata": {},
   "source": [
    "### *Feature Selection*"
   ]
  },
  {
   "cell_type": "markdown",
   "metadata": {},
   "source": [
    "Sebelum kita mulai memilih fitur apa yang akan kita gunakan, kita akan mengelompokkan batas kredit pengguna ke dalam kelipatan 200000 NTD, di mana secara lebih detil pembagiannya adalah sebagai berikut:\n",
    "\n",
    "* Indeks '0': `limit_balance` $<$ 200000\n",
    "\n",
    "* Indeks '1': 200000 $\\leq$ `limit_balance` $<$ 400000\n",
    "\n",
    "* Indeks '2': 400000 $\\leq$ `limit_balance` $<$ 600000\n",
    "\n",
    "* Indeks '3': 600000 $\\leq$ `limit_balance` $<$ 800000\n",
    "\n",
    "* Indeks '4': `limit_balance` $>$ 800000\n",
    "\n",
    "Parameter baru ini akan kita namakan `limit_balance_general`."
   ]
  },
  {
   "cell_type": "code",
   "execution_count": 28,
   "metadata": {},
   "outputs": [],
   "source": [
    "limit_gen_train = []\n",
    "limit_gen_test = []\n",
    "\n",
    "for i in range(len(x_train)):\n",
    "    if x_train.limit_balance.iloc[i] < 200000:\n",
    "        limit_ind = 0\n",
    "    elif x_train.limit_balance.iloc[i] >= 200000 and x_train.limit_balance.iloc[i] < 400000:\n",
    "        limit_ind = 1\n",
    "    elif x_train.limit_balance.iloc[i] >= 400000 and x_train.limit_balance.iloc[i] < 600000:\n",
    "        limit_ind = 2\n",
    "    elif x_train.limit_balance.iloc[i] >= 600000 and x_train.limit_balance.iloc[i] < 800000:\n",
    "        limit_ind = 3\n",
    "    else:\n",
    "        limit_ind = 4\n",
    "    limit_gen_train.append(limit_ind)\n",
    "\n",
    "for i in range(len(x_test)):\n",
    "    if x_test.limit_balance.iloc[i] < 200000:\n",
    "        limit_ind = 0\n",
    "    elif x_test.limit_balance.iloc[i] >= 200000 and x_test.limit_balance.iloc[i] < 400000:\n",
    "        limit_ind = 1\n",
    "    elif x_test.limit_balance.iloc[i] >= 400000 and x_test.limit_balance.iloc[i] < 600000:\n",
    "        limit_ind = 2\n",
    "    elif x_test.limit_balance.iloc[i] >= 600000 and x_test.limit_balance.iloc[i] < 800000:\n",
    "        limit_ind = 3\n",
    "    else:\n",
    "        limit_ind = 4\n",
    "    limit_gen_test.append(limit_ind)\n",
    "\n",
    "x_train[\"limit_balance_general\"] = limit_gen_train\n",
    "x_test[\"limit_balance_general\"] = limit_gen_test"
   ]
  },
  {
   "cell_type": "markdown",
   "metadata": {},
   "source": [
    "Berdasarkan *heat map* yang sudah dibuat sebelumnya, kita akan memilih fitur `limit_balance_general` (kolom `limit_balance` yang sudah dikelompokkan ulang menjadi kelompok yang lebih besar), `pay_0`, `pay_2`, `pay_3`, `pay_4`, `pay_5`, dan `pay_6` untuk dimasukkan ke dalam model."
   ]
  },
  {
   "cell_type": "code",
   "execution_count": 29,
   "metadata": {},
   "outputs": [],
   "source": [
    "x_train = x_train[[\"limit_balance_general\", \"pay_0\", \"pay_2\", \"pay_3\", \"pay_4\", \"pay_5\", \"pay_6\"]]\n",
    "x_test = x_test[[\"limit_balance_general\", \"pay_0\", \"pay_2\", \"pay_3\", \"pay_4\", \"pay_5\", \"pay_6\"]]"
   ]
  },
  {
   "cell_type": "markdown",
   "metadata": {},
   "source": [
    "Kebetulan, semua fitur yang dipilih merupakan fitur kategorik ordinal. Maka kita tidak perlu memisahkan kedua tabel tersebut berdasarkan jenis fiturnya."
   ]
  },
  {
   "cell_type": "markdown",
   "metadata": {},
   "source": [
    "### *Feature Encoding*"
   ]
  },
  {
   "cell_type": "markdown",
   "metadata": {},
   "source": [
    "Setelah kita memilih fitur apa saja yang akan kita gunakan, kita akan lakukan *scaling* dan *encoding* sesuai dengan jenis fiturnya. Berhubung kita hanya memiliki fitur kategorik ordinal, kita hanya akan melakukan proses *ordinal encoding* pada *dataset train* dan *dataset test*."
   ]
  },
  {
   "cell_type": "code",
   "execution_count": 30,
   "metadata": {},
   "outputs": [],
   "source": [
    "ord_encoder = OrdinalEncoder(handle_unknown = \"use_encoded_value\", unknown_value = -1)\n",
    "ord_encoder.fit(x_train)\n",
    "\n",
    "x_train_final = ord_encoder.transform(x_train)\n",
    "x_test_final = ord_encoder.transform(x_test)"
   ]
  },
  {
   "cell_type": "markdown",
   "metadata": {},
   "source": [
    "### *Model Training*"
   ]
  },
  {
   "cell_type": "markdown",
   "metadata": {},
   "source": [
    "Selanjutnya kita akan latih model-model yang akan kita gunakan untuk memprediksi wajib pembayaran pada pemegang kartu kredit. Model-model yang akan kita olah antara lain model regresi logistik, model *support vector classification*, model *decision tree*, model *random forest*, model *K-Nearest Neighbor*, model *Gaussian Naive-Bayes*, dan model *Multinomial Naive-Bayes*. Semua model yang akan dilatih hanya akan menggunakan parameter *default* agar nantinya kita dapat melakukan *hyperparameter tuning* dengan mengubah *hyperparameter* pada model yang nantinya diambil."
   ]
  },
  {
   "cell_type": "markdown",
   "metadata": {},
   "source": [
    "#### Regresi Logistik"
   ]
  },
  {
   "cell_type": "markdown",
   "metadata": {},
   "source": [
    "Untuk model regresi logistik, kita akan gunakan dari *library* `sklearn.linear_model.LogisticRegression`."
   ]
  },
  {
   "cell_type": "code",
   "execution_count": 31,
   "metadata": {},
   "outputs": [
    {
     "name": "stdout",
     "output_type": "stream",
     "text": [
      "CPU times: total: 15.6 ms\n",
      "Wall time: 1.22 s\n"
     ]
    },
    {
     "data": {
      "text/plain": [
       "LogisticRegression()"
      ]
     },
     "execution_count": 31,
     "metadata": {},
     "output_type": "execute_result"
    }
   ],
   "source": [
    "%%time\n",
    "mod_log = LogisticRegression()\n",
    "mod_log.fit(x_train_final, y_train)"
   ]
  },
  {
   "cell_type": "markdown",
   "metadata": {},
   "source": [
    "Kemudian kita akan prediksi hasil target dengan menggunakan model tersebut."
   ]
  },
  {
   "cell_type": "code",
   "execution_count": 32,
   "metadata": {},
   "outputs": [],
   "source": [
    "y_pred_train_log = mod_log.predict(x_train_final)\n",
    "y_pred_test_log = mod_log.predict(x_test_final)"
   ]
  },
  {
   "cell_type": "markdown",
   "metadata": {},
   "source": [
    "#### *Support-Vector Machine*"
   ]
  },
  {
   "cell_type": "markdown",
   "metadata": {},
   "source": [
    "Untuk model *support-vector machine*, kita akan gunakan dari *library* `sklearn.svm.SVC`."
   ]
  },
  {
   "cell_type": "code",
   "execution_count": 33,
   "metadata": {},
   "outputs": [
    {
     "name": "stdout",
     "output_type": "stream",
     "text": [
      "CPU times: total: 219 ms\n",
      "Wall time: 361 ms\n"
     ]
    },
    {
     "data": {
      "text/plain": [
       "SVC()"
      ]
     },
     "execution_count": 33,
     "metadata": {},
     "output_type": "execute_result"
    }
   ],
   "source": [
    "%%time\n",
    "mod_SVM = SVC()\n",
    "mod_SVM.fit(x_train_final, y_train)"
   ]
  },
  {
   "cell_type": "markdown",
   "metadata": {},
   "source": [
    "Kemudian kita akan prediksi hasil target dengan menggunakan model tersebut."
   ]
  },
  {
   "cell_type": "code",
   "execution_count": 34,
   "metadata": {},
   "outputs": [],
   "source": [
    "y_pred_train_svc = mod_SVM.predict(x_train_final)\n",
    "y_pred_test_svc = mod_SVM.predict(x_test_final)"
   ]
  },
  {
   "cell_type": "markdown",
   "metadata": {},
   "source": [
    "#### *Decision Tree*"
   ]
  },
  {
   "cell_type": "markdown",
   "metadata": {},
   "source": [
    "Untuk model *decision tree*, kita akan gunakan dari *library* `sklearn.tree.DecisionTreeClassifier`."
   ]
  },
  {
   "cell_type": "code",
   "execution_count": 35,
   "metadata": {},
   "outputs": [
    {
     "name": "stdout",
     "output_type": "stream",
     "text": [
      "CPU times: total: 0 ns\n",
      "Wall time: 22 ms\n"
     ]
    },
    {
     "data": {
      "text/plain": [
       "DecisionTreeClassifier()"
      ]
     },
     "execution_count": 35,
     "metadata": {},
     "output_type": "execute_result"
    }
   ],
   "source": [
    "%%time\n",
    "mod_tree = DecisionTreeClassifier()\n",
    "mod_tree.fit(x_train_final, y_train)"
   ]
  },
  {
   "cell_type": "markdown",
   "metadata": {},
   "source": [
    "Kemudian kita akan prediksi hasil target dengan menggunakan model tersebut."
   ]
  },
  {
   "cell_type": "code",
   "execution_count": 36,
   "metadata": {},
   "outputs": [],
   "source": [
    "y_pred_train_tree = mod_tree.predict(x_train_final)\n",
    "y_pred_test_tree = mod_tree.predict(x_test_final)"
   ]
  },
  {
   "cell_type": "markdown",
   "metadata": {},
   "source": [
    "#### *Random Forest*"
   ]
  },
  {
   "cell_type": "markdown",
   "metadata": {},
   "source": [
    "Untuk model *random forest*, kita akan gunakan dari *library* `sklearn.ensemble.RandomForestClassifier`."
   ]
  },
  {
   "cell_type": "code",
   "execution_count": 37,
   "metadata": {},
   "outputs": [
    {
     "name": "stdout",
     "output_type": "stream",
     "text": [
      "CPU times: total: 359 ms\n",
      "Wall time: 357 ms\n"
     ]
    },
    {
     "data": {
      "text/plain": [
       "RandomForestClassifier()"
      ]
     },
     "execution_count": 37,
     "metadata": {},
     "output_type": "execute_result"
    }
   ],
   "source": [
    "%%time\n",
    "mod_rnd = RandomForestClassifier()\n",
    "mod_rnd.fit(x_train_final, y_train)"
   ]
  },
  {
   "cell_type": "markdown",
   "metadata": {},
   "source": [
    "Kemudian kita akan prediksi hasil target dengan menggunakan model tersebut."
   ]
  },
  {
   "cell_type": "code",
   "execution_count": 38,
   "metadata": {},
   "outputs": [],
   "source": [
    "y_pred_train_rnd = mod_rnd.predict(x_train_final)\n",
    "y_pred_test_rnd = mod_rnd.predict(x_test_final)"
   ]
  },
  {
   "cell_type": "markdown",
   "metadata": {},
   "source": [
    "#### KNN"
   ]
  },
  {
   "cell_type": "markdown",
   "metadata": {},
   "source": [
    "Untuk model *K-nearest neighbor*, kita akan gunakan dari *library* `sklearn.neighbors.KNeighborsClassifier`."
   ]
  },
  {
   "cell_type": "code",
   "execution_count": 39,
   "metadata": {},
   "outputs": [
    {
     "name": "stdout",
     "output_type": "stream",
     "text": [
      "CPU times: total: 15.6 ms\n",
      "Wall time: 467 ms\n"
     ]
    },
    {
     "data": {
      "text/plain": [
       "KNeighborsClassifier()"
      ]
     },
     "execution_count": 39,
     "metadata": {},
     "output_type": "execute_result"
    }
   ],
   "source": [
    "%%time\n",
    "mod_knn = KNeighborsClassifier()\n",
    "mod_knn.fit(x_train_final, y_train)"
   ]
  },
  {
   "cell_type": "markdown",
   "metadata": {},
   "source": [
    "Kemudian kita akan prediksi hasil target dengan menggunakan model tersebut."
   ]
  },
  {
   "cell_type": "code",
   "execution_count": 40,
   "metadata": {},
   "outputs": [],
   "source": [
    "y_pred_train_knn = mod_knn.predict(x_train_final)\n",
    "y_pred_test_knn = mod_knn.predict(x_test_final)"
   ]
  },
  {
   "cell_type": "markdown",
   "metadata": {},
   "source": [
    "#### Naive-Bayes"
   ]
  },
  {
   "cell_type": "markdown",
   "metadata": {},
   "source": [
    "Untuk model Naive-Bayes, kita akan gunakan dari *library* `sklearn.naive_bayes.GaussianNB`."
   ]
  },
  {
   "cell_type": "code",
   "execution_count": 41,
   "metadata": {},
   "outputs": [
    {
     "name": "stdout",
     "output_type": "stream",
     "text": [
      "CPU times: total: 0 ns\n",
      "Wall time: 5 ms\n"
     ]
    },
    {
     "data": {
      "text/plain": [
       "GaussianNB()"
      ]
     },
     "execution_count": 41,
     "metadata": {},
     "output_type": "execute_result"
    }
   ],
   "source": [
    "%%time\n",
    "mod_gnb = GaussianNB()\n",
    "mod_gnb.fit(x_train_final, y_train)"
   ]
  },
  {
   "cell_type": "markdown",
   "metadata": {},
   "source": [
    "Kemudian kita akan prediksi hasil target dengan menggunakan model tersebut."
   ]
  },
  {
   "cell_type": "code",
   "execution_count": 42,
   "metadata": {},
   "outputs": [],
   "source": [
    "y_pred_train_gnb = mod_gnb.predict(x_train_final)\n",
    "y_pred_test_gnb = mod_gnb.predict(x_test_final)"
   ]
  },
  {
   "cell_type": "markdown",
   "metadata": {},
   "source": [
    "#### Model Lain"
   ]
  },
  {
   "cell_type": "markdown",
   "metadata": {},
   "source": [
    "Untuk model lain, saya akan menggunakan model Naive-Bayes Multinomial dari *library* `sklearn.naive_bayes.MultinomialNB`."
   ]
  },
  {
   "cell_type": "code",
   "execution_count": 43,
   "metadata": {},
   "outputs": [
    {
     "name": "stdout",
     "output_type": "stream",
     "text": [
      "CPU times: total: 46.9 ms\n",
      "Wall time: 705 ms\n"
     ]
    },
    {
     "data": {
      "text/plain": [
       "MultinomialNB()"
      ]
     },
     "execution_count": 43,
     "metadata": {},
     "output_type": "execute_result"
    }
   ],
   "source": [
    "%%time\n",
    "mod_mnb = MultinomialNB()\n",
    "mod_mnb.fit(x_train_final, y_train)"
   ]
  },
  {
   "cell_type": "markdown",
   "metadata": {},
   "source": [
    "Kemudian kita akan prediksi hasil target dengan menggunakan model tersebut."
   ]
  },
  {
   "cell_type": "code",
   "execution_count": 44,
   "metadata": {},
   "outputs": [],
   "source": [
    "y_pred_train_mnb = mod_mnb.predict(x_train_final)\n",
    "y_pred_test_mnb = mod_mnb.predict(x_test_final)"
   ]
  },
  {
   "cell_type": "markdown",
   "metadata": {},
   "source": [
    "Lalu kita akan gabungkan hasil prediksi dari setiap model dengan hasil aslinya agar dapat kita bandingkan."
   ]
  },
  {
   "cell_type": "code",
   "execution_count": 45,
   "metadata": {},
   "outputs": [
    {
     "data": {
      "text/html": [
       "<div>\n",
       "<style scoped>\n",
       "    .dataframe tbody tr th:only-of-type {\n",
       "        vertical-align: middle;\n",
       "    }\n",
       "\n",
       "    .dataframe tbody tr th {\n",
       "        vertical-align: top;\n",
       "    }\n",
       "\n",
       "    .dataframe thead th {\n",
       "        text-align: right;\n",
       "    }\n",
       "</style>\n",
       "<table border=\"1\" class=\"dataframe\">\n",
       "  <thead>\n",
       "    <tr style=\"text-align: right;\">\n",
       "      <th></th>\n",
       "      <th>default_payment_next_month</th>\n",
       "      <th>pred_log</th>\n",
       "      <th>pred_svc</th>\n",
       "      <th>pred_tree</th>\n",
       "      <th>pred_rnd</th>\n",
       "      <th>pred_knn</th>\n",
       "      <th>pred_gnb</th>\n",
       "      <th>pred_mnb</th>\n",
       "    </tr>\n",
       "  </thead>\n",
       "  <tbody>\n",
       "    <tr>\n",
       "      <th>0</th>\n",
       "      <td>0</td>\n",
       "      <td>1</td>\n",
       "      <td>1</td>\n",
       "      <td>1</td>\n",
       "      <td>1</td>\n",
       "      <td>1</td>\n",
       "      <td>1</td>\n",
       "      <td>0</td>\n",
       "    </tr>\n",
       "    <tr>\n",
       "      <th>1</th>\n",
       "      <td>1</td>\n",
       "      <td>1</td>\n",
       "      <td>1</td>\n",
       "      <td>1</td>\n",
       "      <td>1</td>\n",
       "      <td>1</td>\n",
       "      <td>0</td>\n",
       "      <td>0</td>\n",
       "    </tr>\n",
       "    <tr>\n",
       "      <th>2</th>\n",
       "      <td>0</td>\n",
       "      <td>0</td>\n",
       "      <td>0</td>\n",
       "      <td>0</td>\n",
       "      <td>0</td>\n",
       "      <td>0</td>\n",
       "      <td>0</td>\n",
       "      <td>0</td>\n",
       "    </tr>\n",
       "    <tr>\n",
       "      <th>3</th>\n",
       "      <td>0</td>\n",
       "      <td>0</td>\n",
       "      <td>0</td>\n",
       "      <td>0</td>\n",
       "      <td>0</td>\n",
       "      <td>0</td>\n",
       "      <td>0</td>\n",
       "      <td>0</td>\n",
       "    </tr>\n",
       "    <tr>\n",
       "      <th>4</th>\n",
       "      <td>0</td>\n",
       "      <td>0</td>\n",
       "      <td>0</td>\n",
       "      <td>0</td>\n",
       "      <td>0</td>\n",
       "      <td>0</td>\n",
       "      <td>0</td>\n",
       "      <td>0</td>\n",
       "    </tr>\n",
       "    <tr>\n",
       "      <th>...</th>\n",
       "      <td>...</td>\n",
       "      <td>...</td>\n",
       "      <td>...</td>\n",
       "      <td>...</td>\n",
       "      <td>...</td>\n",
       "      <td>...</td>\n",
       "      <td>...</td>\n",
       "      <td>...</td>\n",
       "    </tr>\n",
       "    <tr>\n",
       "      <th>2359</th>\n",
       "      <td>1</td>\n",
       "      <td>1</td>\n",
       "      <td>1</td>\n",
       "      <td>1</td>\n",
       "      <td>1</td>\n",
       "      <td>1</td>\n",
       "      <td>1</td>\n",
       "      <td>1</td>\n",
       "    </tr>\n",
       "    <tr>\n",
       "      <th>2360</th>\n",
       "      <td>0</td>\n",
       "      <td>0</td>\n",
       "      <td>0</td>\n",
       "      <td>0</td>\n",
       "      <td>0</td>\n",
       "      <td>0</td>\n",
       "      <td>1</td>\n",
       "      <td>0</td>\n",
       "    </tr>\n",
       "    <tr>\n",
       "      <th>2361</th>\n",
       "      <td>0</td>\n",
       "      <td>0</td>\n",
       "      <td>0</td>\n",
       "      <td>0</td>\n",
       "      <td>0</td>\n",
       "      <td>0</td>\n",
       "      <td>0</td>\n",
       "      <td>0</td>\n",
       "    </tr>\n",
       "    <tr>\n",
       "      <th>2362</th>\n",
       "      <td>0</td>\n",
       "      <td>0</td>\n",
       "      <td>0</td>\n",
       "      <td>0</td>\n",
       "      <td>0</td>\n",
       "      <td>0</td>\n",
       "      <td>0</td>\n",
       "      <td>0</td>\n",
       "    </tr>\n",
       "    <tr>\n",
       "      <th>2363</th>\n",
       "      <td>0</td>\n",
       "      <td>0</td>\n",
       "      <td>0</td>\n",
       "      <td>0</td>\n",
       "      <td>0</td>\n",
       "      <td>0</td>\n",
       "      <td>0</td>\n",
       "      <td>0</td>\n",
       "    </tr>\n",
       "  </tbody>\n",
       "</table>\n",
       "<p>2364 rows × 8 columns</p>\n",
       "</div>"
      ],
      "text/plain": [
       "      default_payment_next_month  pred_log  pred_svc  pred_tree  pred_rnd  \\\n",
       "0                              0         1         1          1         1   \n",
       "1                              1         1         1          1         1   \n",
       "2                              0         0         0          0         0   \n",
       "3                              0         0         0          0         0   \n",
       "4                              0         0         0          0         0   \n",
       "...                          ...       ...       ...        ...       ...   \n",
       "2359                           1         1         1          1         1   \n",
       "2360                           0         0         0          0         0   \n",
       "2361                           0         0         0          0         0   \n",
       "2362                           0         0         0          0         0   \n",
       "2363                           0         0         0          0         0   \n",
       "\n",
       "      pred_knn  pred_gnb  pred_mnb  \n",
       "0            1         1         0  \n",
       "1            1         0         0  \n",
       "2            0         0         0  \n",
       "3            0         0         0  \n",
       "4            0         0         0  \n",
       "...        ...       ...       ...  \n",
       "2359         1         1         1  \n",
       "2360         0         1         0  \n",
       "2361         0         0         0  \n",
       "2362         0         0         0  \n",
       "2363         0         0         0  \n",
       "\n",
       "[2364 rows x 8 columns]"
      ]
     },
     "execution_count": 45,
     "metadata": {},
     "output_type": "execute_result"
    }
   ],
   "source": [
    "y_train_df = pd.DataFrame(y_train, columns = [\"default_payment_next_month\"]).reset_index(drop=True)\n",
    "y_pred_train_log_df = pd.DataFrame(y_pred_train_log, columns = [\"pred_log\"])\n",
    "y_pred_train_svc_df = pd.DataFrame(y_pred_train_svc, columns = [\"pred_svc\"])\n",
    "y_pred_train_tree_df = pd.DataFrame(y_pred_train_tree, columns = [\"pred_tree\"])\n",
    "y_pred_train_rnd_df = pd.DataFrame(y_pred_train_rnd, columns = [\"pred_rnd\"])\n",
    "y_pred_train_knn_df = pd.DataFrame(y_pred_train_knn, columns = [\"pred_knn\"])\n",
    "y_pred_train_gnb_df = pd.DataFrame(y_pred_train_gnb, columns = [\"pred_gnb\"])\n",
    "y_pred_train_mnb_df = pd.DataFrame(y_pred_train_mnb, columns = [\"pred_mnb\"])\n",
    "y_pred_comp = pd.concat([y_train_df, y_pred_train_log_df, y_pred_train_svc_df, y_pred_train_tree_df, y_pred_train_rnd_df, y_pred_train_knn_df, y_pred_train_gnb_df, y_pred_train_mnb_df], axis = 1)\n",
    "y_pred_comp"
   ]
  },
  {
   "cell_type": "markdown",
   "metadata": {},
   "source": [
    "Dari tabel di atas kita dapat melihat bahwa setiap model memiliki ketidakakuratan pada data-data tertentu, sehingga kita harus membandingkan tingkat akurasi dari setiap model."
   ]
  },
  {
   "cell_type": "markdown",
   "metadata": {},
   "source": [
    "### *Model Evaluation*"
   ]
  },
  {
   "cell_type": "markdown",
   "metadata": {},
   "source": [
    "Sekarang kita akan evaluasi setiap model yang telah kita latih satu sama lain."
   ]
  },
  {
   "cell_type": "markdown",
   "metadata": {},
   "source": [
    "#### Regresi Logistik"
   ]
  },
  {
   "cell_type": "markdown",
   "metadata": {},
   "source": [
    "Mari kita lihat laporan klasifikasi dari model regresi logistik:"
   ]
  },
  {
   "cell_type": "code",
   "execution_count": 46,
   "metadata": {},
   "outputs": [
    {
     "name": "stdout",
     "output_type": "stream",
     "text": [
      "              precision    recall  f1-score   support\n",
      "\n",
      "           0       0.86      0.96      0.90      1854\n",
      "           1       0.74      0.41      0.53       510\n",
      "\n",
      "    accuracy                           0.84      2364\n",
      "   macro avg       0.80      0.69      0.72      2364\n",
      "weighted avg       0.83      0.84      0.82      2364\n",
      "\n"
     ]
    }
   ],
   "source": [
    "print(classification_report(y_train, y_pred_train_log))"
   ]
  },
  {
   "cell_type": "markdown",
   "metadata": {},
   "source": [
    "Berikut adalah beberapa hal yang dapat disimpulkan dari laporan klasifikasi model regresi logistik:\n",
    "\n",
    "* Model ini memiliki prediksi tidak wajib membayar dengan presisi 86% dan prediksi wajib membayar dengan presisi 74%,\n",
    "\n",
    "* Model ini memiliki akurasi keseluruhan sebesar 84%.\n",
    "\n",
    "Kemudian kita akan lihat juga laporan pada *dataset test* dari model regresi linear:"
   ]
  },
  {
   "cell_type": "code",
   "execution_count": 67,
   "metadata": {},
   "outputs": [
    {
     "name": "stdout",
     "output_type": "stream",
     "text": [
      "              precision    recall  f1-score   support\n",
      "\n",
      "           0       0.85      0.96      0.90       470\n",
      "           1       0.67      0.32      0.44       121\n",
      "\n",
      "    accuracy                           0.83       591\n",
      "   macro avg       0.76      0.64      0.67       591\n",
      "weighted avg       0.81      0.83      0.80       591\n",
      "\n"
     ]
    }
   ],
   "source": [
    "print(classification_report(y_test, y_pred_test_log))"
   ]
  },
  {
   "cell_type": "markdown",
   "metadata": {},
   "source": [
    "Dari sini kita dapat melihat bahwa model regresi logistik yang dibuat memiliki akurasi keseluruhan sebesar 83% pada *dataset test*, sehingga kita dapat mengetahui bahwa model regresi logistik ini merupakan model yang *good-fit* untuk diterapkan ke dalam data."
   ]
  },
  {
   "cell_type": "markdown",
   "metadata": {},
   "source": [
    "#### *Support-Vector Machine*"
   ]
  },
  {
   "cell_type": "markdown",
   "metadata": {},
   "source": [
    "Mari kita lihat laporan klasifikasi dari SVM:"
   ]
  },
  {
   "cell_type": "code",
   "execution_count": 47,
   "metadata": {},
   "outputs": [
    {
     "name": "stdout",
     "output_type": "stream",
     "text": [
      "              precision    recall  f1-score   support\n",
      "\n",
      "           0       0.86      0.96      0.91      1854\n",
      "           1       0.75      0.45      0.56       510\n",
      "\n",
      "    accuracy                           0.85      2364\n",
      "   macro avg       0.81      0.71      0.74      2364\n",
      "weighted avg       0.84      0.85      0.83      2364\n",
      "\n"
     ]
    }
   ],
   "source": [
    "print(classification_report(y_train, y_pred_train_svc))"
   ]
  },
  {
   "cell_type": "markdown",
   "metadata": {},
   "source": [
    "Berikut adalah beberapa hal yang dapat disimpulkan dari laporan klasifikasi model SVM:\n",
    "\n",
    "* Model ini memiliki prediksi tidak wajib membayar dengan presisi 86% dan prediksi wajib membayar dengan presisi 75%,\n",
    "\n",
    "* Model ini memiliki akurasi keseluruhan sebesar 85%."
   ]
  },
  {
   "cell_type": "code",
   "execution_count": 68,
   "metadata": {},
   "outputs": [
    {
     "name": "stdout",
     "output_type": "stream",
     "text": [
      "              precision    recall  f1-score   support\n",
      "\n",
      "           0       0.85      0.94      0.89       470\n",
      "           1       0.61      0.34      0.44       121\n",
      "\n",
      "    accuracy                           0.82       591\n",
      "   macro avg       0.73      0.64      0.66       591\n",
      "weighted avg       0.80      0.82      0.80       591\n",
      "\n"
     ]
    }
   ],
   "source": [
    "print(classification_report(y_test, y_pred_test_svc))"
   ]
  },
  {
   "cell_type": "markdown",
   "metadata": {},
   "source": [
    "Dari sini kita dapat melihat bahwa model SVM yang dibuat memiliki akurasi keseluruhan sebesar 82% pada *dataset test*, sehingga kita dapat mengetahui bahwa model SVM ini merupakan model yang *good-fit* untuk diterapkan ke dalam data."
   ]
  },
  {
   "cell_type": "markdown",
   "metadata": {},
   "source": [
    "#### *Decision Tree*"
   ]
  },
  {
   "cell_type": "markdown",
   "metadata": {},
   "source": [
    "Mari kita lihat laporan klasifikasi dari model *decision tree*:"
   ]
  },
  {
   "cell_type": "code",
   "execution_count": 48,
   "metadata": {},
   "outputs": [
    {
     "name": "stdout",
     "output_type": "stream",
     "text": [
      "              precision    recall  f1-score   support\n",
      "\n",
      "           0       0.86      0.97      0.91      1854\n",
      "           1       0.81      0.44      0.57       510\n",
      "\n",
      "    accuracy                           0.86      2364\n",
      "   macro avg       0.83      0.70      0.74      2364\n",
      "weighted avg       0.85      0.86      0.84      2364\n",
      "\n"
     ]
    }
   ],
   "source": [
    "print(classification_report(y_train, y_pred_train_tree))"
   ]
  },
  {
   "cell_type": "markdown",
   "metadata": {},
   "source": [
    "Berikut adalah beberapa hal yang dapat disimpulkan dari laporan klasifikasi model *decision tree*:\n",
    "\n",
    "* Model ini memiliki prediksi tidak wajib membayar dengan presisi 86% dan prediksi wajib membayar dengan presisi 81%,\n",
    "\n",
    "* Model ini memiliki akurasi keseluruhan sebesar 86%."
   ]
  },
  {
   "cell_type": "code",
   "execution_count": 69,
   "metadata": {},
   "outputs": [
    {
     "name": "stdout",
     "output_type": "stream",
     "text": [
      "              precision    recall  f1-score   support\n",
      "\n",
      "           0       0.84      0.95      0.89       470\n",
      "           1       0.62      0.31      0.41       121\n",
      "\n",
      "    accuracy                           0.82       591\n",
      "   macro avg       0.73      0.63      0.65       591\n",
      "weighted avg       0.80      0.82      0.79       591\n",
      "\n"
     ]
    }
   ],
   "source": [
    "print(classification_report(y_test, y_pred_test_tree))"
   ]
  },
  {
   "cell_type": "markdown",
   "metadata": {},
   "source": [
    "Dari sini kita dapat melihat bahwa model *decision tree* yang dibuat memiliki akurasi keseluruhan sebesar 82% pada *dataset test*, sehingga kita dapat mengetahui bahwa model *decision tree* ini merupakan model yang *good-fit* untuk diterapkan ke dalam data."
   ]
  },
  {
   "cell_type": "markdown",
   "metadata": {},
   "source": [
    "#### *Random Forest*"
   ]
  },
  {
   "cell_type": "markdown",
   "metadata": {},
   "source": [
    "Mari kita lihat laporan klasifikasi dari model *random forest*:"
   ]
  },
  {
   "cell_type": "code",
   "execution_count": 49,
   "metadata": {},
   "outputs": [
    {
     "name": "stdout",
     "output_type": "stream",
     "text": [
      "              precision    recall  f1-score   support\n",
      "\n",
      "           0       0.87      0.97      0.91      1854\n",
      "           1       0.79      0.45      0.58       510\n",
      "\n",
      "    accuracy                           0.86      2364\n",
      "   macro avg       0.83      0.71      0.74      2364\n",
      "weighted avg       0.85      0.86      0.84      2364\n",
      "\n"
     ]
    }
   ],
   "source": [
    "print(classification_report(y_train, y_pred_train_rnd))"
   ]
  },
  {
   "cell_type": "markdown",
   "metadata": {},
   "source": [
    "Berikut adalah beberapa hal yang dapat disimpulkan dari laporan klasifikasi model *random forest*:\n",
    "\n",
    "* Model ini memiliki prediksi tidak wajib membayar dengan presisi 87% dan prediksi wajib membayar dengan presisi 78%,\n",
    "\n",
    "* Model ini memiliki akurasi keseluruhan sebesar 86%."
   ]
  },
  {
   "cell_type": "code",
   "execution_count": 70,
   "metadata": {},
   "outputs": [
    {
     "name": "stdout",
     "output_type": "stream",
     "text": [
      "              precision    recall  f1-score   support\n",
      "\n",
      "           0       0.84      0.95      0.89       470\n",
      "           1       0.63      0.32      0.43       121\n",
      "\n",
      "    accuracy                           0.82       591\n",
      "   macro avg       0.74      0.64      0.66       591\n",
      "weighted avg       0.80      0.82      0.80       591\n",
      "\n"
     ]
    }
   ],
   "source": [
    "print(classification_report(y_test, y_pred_test_rnd))"
   ]
  },
  {
   "cell_type": "markdown",
   "metadata": {},
   "source": [
    "Dari sini kita dapat melihat bahwa model *random forest* yang dibuat memiliki akurasi keseluruhan sebesar 82% pada *dataset test*, sehingga kita dapat mengetahui bahwa model *random forest* ini merupakan model yang *good-fit* untuk diterapkan ke dalam data."
   ]
  },
  {
   "cell_type": "markdown",
   "metadata": {},
   "source": [
    "#### KNN"
   ]
  },
  {
   "cell_type": "markdown",
   "metadata": {},
   "source": [
    "Mari kita lihat laporan klasifikasi dari model *K-Nearest Neighbor*:"
   ]
  },
  {
   "cell_type": "code",
   "execution_count": 50,
   "metadata": {},
   "outputs": [
    {
     "name": "stdout",
     "output_type": "stream",
     "text": [
      "              precision    recall  f1-score   support\n",
      "\n",
      "           0       0.86      0.96      0.91      1854\n",
      "           1       0.74      0.44      0.55       510\n",
      "\n",
      "    accuracy                           0.85      2364\n",
      "   macro avg       0.80      0.70      0.73      2364\n",
      "weighted avg       0.84      0.85      0.83      2364\n",
      "\n"
     ]
    }
   ],
   "source": [
    "print(classification_report(y_train, y_pred_train_knn))"
   ]
  },
  {
   "cell_type": "markdown",
   "metadata": {},
   "source": [
    "Berikut adalah beberapa hal yang dapat disimpulkan dari laporan klasifikasi model *K-nearest neighbor*:\n",
    "\n",
    "* Model ini memiliki prediksi tidak wajib membayar dengan presisi 86% dan prediksi wajib membayar dengan presisi 74%,\n",
    "\n",
    "* Model ini memiliki akurasi keseluruhan sebesar 85%."
   ]
  },
  {
   "cell_type": "code",
   "execution_count": 71,
   "metadata": {},
   "outputs": [
    {
     "name": "stdout",
     "output_type": "stream",
     "text": [
      "              precision    recall  f1-score   support\n",
      "\n",
      "           0       0.84      0.95      0.89       470\n",
      "           1       0.62      0.32      0.42       121\n",
      "\n",
      "    accuracy                           0.82       591\n",
      "   macro avg       0.73      0.64      0.66       591\n",
      "weighted avg       0.80      0.82      0.80       591\n",
      "\n"
     ]
    }
   ],
   "source": [
    "print(classification_report(y_test, y_pred_test_knn))"
   ]
  },
  {
   "cell_type": "markdown",
   "metadata": {},
   "source": [
    "Dari sini kita dapat melihat bahwa model *K-nearest neighbor* yang dibuat memiliki akurasi keseluruhan sebesar 82% pada *dataset test*, sehingga kita dapat mengetahui bahwa model *K-nearest neighbor* ini merupakan model yang *good-fit* untuk diterapkan ke dalam data."
   ]
  },
  {
   "cell_type": "markdown",
   "metadata": {},
   "source": [
    "#### Naive-Bayes"
   ]
  },
  {
   "cell_type": "markdown",
   "metadata": {},
   "source": [
    "Mari kita lihat laporan klasifikasi dari model Naive-Bayes Gaussian:"
   ]
  },
  {
   "cell_type": "code",
   "execution_count": 51,
   "metadata": {},
   "outputs": [
    {
     "name": "stdout",
     "output_type": "stream",
     "text": [
      "              precision    recall  f1-score   support\n",
      "\n",
      "           0       0.87      0.90      0.88      1854\n",
      "           1       0.58      0.50      0.54       510\n",
      "\n",
      "    accuracy                           0.82      2364\n",
      "   macro avg       0.73      0.70      0.71      2364\n",
      "weighted avg       0.81      0.82      0.81      2364\n",
      "\n"
     ]
    }
   ],
   "source": [
    "print(classification_report(y_train, y_pred_train_gnb))"
   ]
  },
  {
   "cell_type": "markdown",
   "metadata": {},
   "source": [
    "Berikut adalah beberapa hal yang dapat disimpulkan dari laporan klasifikasi model Naive-Bayes Gaussian:\n",
    "\n",
    "* Model ini memiliki prediksi tidak wajib membayar dengan presisi 87% dan prediksi wajib membayar dengan presisi 58%,\n",
    "\n",
    "* Model ini memiliki akurasi keseluruhan sebesar 82%."
   ]
  },
  {
   "cell_type": "markdown",
   "metadata": {},
   "source": [
    "Dari sini kita dapat melihat bahwa model regresi logistik yang dibuat memiliki akurasi keseluruhan sebesar 83% pada *dataset test*, sehingga kita dapat mengetahui bahwa model regresi logistik ini merupakan model yang *good-fit* untuk diterapkan ke dalam data."
   ]
  },
  {
   "cell_type": "code",
   "execution_count": 72,
   "metadata": {},
   "outputs": [
    {
     "name": "stdout",
     "output_type": "stream",
     "text": [
      "              precision    recall  f1-score   support\n",
      "\n",
      "           0       0.88      0.91      0.90       470\n",
      "           1       0.60      0.54      0.57       121\n",
      "\n",
      "    accuracy                           0.83       591\n",
      "   macro avg       0.74      0.72      0.73       591\n",
      "weighted avg       0.83      0.83      0.83       591\n",
      "\n"
     ]
    }
   ],
   "source": [
    "print(classification_report(y_test, y_pred_test_gnb))"
   ]
  },
  {
   "cell_type": "markdown",
   "metadata": {},
   "source": [
    "Dari sini kita dapat melihat bahwa model Naive-Bayes Gaussian yang dibuat memiliki akurasi keseluruhan sebesar 83% pada *dataset test*, sehingga kita dapat mengetahui bahwa model Naive-Bayes Gaussian ini merupakan model yang *good-fit* untuk diterapkan ke dalam data."
   ]
  },
  {
   "cell_type": "markdown",
   "metadata": {},
   "source": [
    "#### Model Lain"
   ]
  },
  {
   "cell_type": "markdown",
   "metadata": {},
   "source": [
    "Mari kita lihat laporan klasifikasi dari model Naive-Bayes Multinomial:"
   ]
  },
  {
   "cell_type": "code",
   "execution_count": 52,
   "metadata": {},
   "outputs": [
    {
     "name": "stdout",
     "output_type": "stream",
     "text": [
      "              precision    recall  f1-score   support\n",
      "\n",
      "           0       0.85      0.92      0.89      1854\n",
      "           1       0.60      0.41      0.49       510\n",
      "\n",
      "    accuracy                           0.81      2364\n",
      "   macro avg       0.72      0.67      0.69      2364\n",
      "weighted avg       0.80      0.81      0.80      2364\n",
      "\n"
     ]
    }
   ],
   "source": [
    "print(classification_report(y_train, y_pred_train_mnb))"
   ]
  },
  {
   "cell_type": "markdown",
   "metadata": {},
   "source": [
    "Berikut adalah beberapa hal yang dapat disimpulkan dari laporan klasifikasi model Naive-Bayes Multinomial:\n",
    "\n",
    "* Model ini memiliki prediksi tidak wajib membayar dengan presisi 85% dan prediksi wajib membayar dengan presisi 60%,\n",
    "\n",
    "* Model ini memiliki akurasi keseluruhan sebesar 81%."
   ]
  },
  {
   "cell_type": "code",
   "execution_count": 74,
   "metadata": {},
   "outputs": [
    {
     "name": "stdout",
     "output_type": "stream",
     "text": [
      "              precision    recall  f1-score   support\n",
      "\n",
      "           0       0.86      0.92      0.89       470\n",
      "           1       0.56      0.40      0.47       121\n",
      "\n",
      "    accuracy                           0.81       591\n",
      "   macro avg       0.71      0.66      0.68       591\n",
      "weighted avg       0.80      0.81      0.80       591\n",
      "\n"
     ]
    }
   ],
   "source": [
    "print(classification_report(y_test, y_pred_test_mnb))"
   ]
  },
  {
   "cell_type": "markdown",
   "metadata": {},
   "source": [
    "Dari sini kita dapat melihat bahwa model Naive-Bayes Multinomial yang dibuat memiliki akurasi keseluruhan sebesar 81% pada *dataset test*, sehingga kita dapat mengetahui bahwa model Naive-Bayes Multinomial ini merupakan model yang *good-fit* untuk diterapkan ke dalam data.\n",
    "\n",
    "Selain itu, kita dapat menyimpulkan beberapa hal dari laporan klasifikasi dari setiap model yang telah kita latih, di antaranya:\n",
    "\n",
    "* Untuk prediksi tidak wajib membayar yang benar, model Naive-Bayes Gaussian dan model *random forest* memiliki persentase presisi paling tinggi diantara model-model algoritma yang lain dengan nilai sebesar 87%,\n",
    "\n",
    "* Untuk prediksi wajib membayar yang benar, model *decision tree* memiliki persentase presisi paling tinggi diantara model-model algoritma yang lain dengan nilai sebesar 81%,\n",
    "\n",
    "* Model *decision tree* dan model *random forest* memiliki akurasi keseluruhan terbesar dibanding model-model yang lain dengan persentase akurasi sebesar 86%\n",
    "\n",
    "* Seluruh model yang telah dilatih merupakan model yang *good-fit* untuk diterapkan ke dalam *dataset*, namun model regresi logistik merupakan model terbaik yang dapat digunakan dengan keseluruhan akurasi prediksi *dataset train* dan *dataset test* rata-rata tertinggi dan dengan nilai variasi yang paling kecil."
   ]
  },
  {
   "cell_type": "markdown",
   "metadata": {},
   "source": [
    "#### Memilih Model Terbaik yang akan Digunakan"
   ]
  },
  {
   "cell_type": "markdown",
   "metadata": {},
   "source": [
    "Kali ini kita akan memilih model mana yang terbaik untuk digunakan pada proses *inferencing*. Kita akan menggunakan bantuan dari *library* `sklearn.model_selection.cross_val_score`."
   ]
  },
  {
   "cell_type": "code",
   "execution_count": 53,
   "metadata": {},
   "outputs": [
    {
     "name": "stdout",
     "output_type": "stream",
     "text": [
      "----------\n",
      "Skor (Logistic): [0.83509514 0.84989429 0.82663848 0.8435518  0.84745763]\n",
      "Skor (SVM): [0.83932347 0.85200846 0.82241015 0.84989429 0.83474576]\n",
      "Skor (DTree): [0.83086681 0.83509514 0.80972516 0.84566596 0.82838983]\n",
      "Skor (RNF): [0.82663848 0.84143763 0.81606765 0.84778013 0.82838983]\n",
      "Skor (KNN): [0.54122622 0.82875264 0.81818182 0.84989429 0.83686441]\n",
      "Skor (Gaussian Naive-Bayes): [0.794926   0.82875264 0.8012685  0.83298097 0.81144068]\n",
      "Skor (Multinominal Naive-Bayes): [0.794926   0.82875264 0.8012685  0.83298097 0.81144068]\n",
      "----------\n",
      "Mean Skor (Logistic): 0.8405274662271115\n",
      "Mean Skor (SVM): 0.8396764252696457\n",
      "Mean Skor (DTree): 0.8299485792095174\n",
      "Mean Skor (RNF): 0.8320627441143799\n",
      "Mean Skor (KNN): 0.7749838750134375\n",
      "Mean Skor (Gaussian Naive-Bayes): 0.8138737592718673\n",
      "Mean Skor (Multinominal Naive-Bayes): 0.8138737592718673\n",
      "----------\n",
      "Std Skor (Logistic): 0.008571176384471954\n",
      "Std Skor (SVM): 0.010761450993163635\n",
      "Std Skor (DTree): 0.011711385614501517\n",
      "Std Skor (RNF): 0.011257713229151063\n",
      "Std Skor (KNN): 0.11733759562449939\n",
      "Std Skor (Gaussian Naive-Bayes): 0.014901655371083006\n",
      "Std Skor (Multinominal Naive-Bayes): 0.014901655371083006\n",
      "----------\n"
     ]
    }
   ],
   "source": [
    "score_log = cross_val_score(mod_log, x_train_final, y_train, cv = 5)\n",
    "score_SVM = cross_val_score(mod_SVM, x_train_final, y_train, cv = 5)\n",
    "score_tree = cross_val_score(mod_tree, x_train_final, y_train, cv = 5)\n",
    "score_rnd = cross_val_score(mod_rnd, x_train_final, y_train, cv = 5)\n",
    "score_knn = cross_val_score(mod_knn, x_train_final, y_train, cv = 5)\n",
    "score_gnb = cross_val_score(mod_mnb, x_train_final, y_train, cv = 5)\n",
    "score_mnb = cross_val_score(mod_mnb, x_train_final, y_train, cv = 5)\n",
    "\n",
    "print(\"----------\")\n",
    "print(\"Skor (Logistic):\", score_log)\n",
    "print(\"Skor (SVM):\", score_SVM)\n",
    "print(\"Skor (DTree):\", score_tree)\n",
    "print(\"Skor (RNF):\", score_rnd)\n",
    "print(\"Skor (KNN):\", score_knn)\n",
    "print(\"Skor (Gaussian Naive-Bayes):\", score_mnb)\n",
    "print(\"Skor (Multinominal Naive-Bayes):\", score_mnb)\n",
    "print(\"----------\")\n",
    "print(\"Mean Skor (Logistic):\", score_log.mean())\n",
    "print(\"Mean Skor (SVM):\", score_SVM.mean())\n",
    "print(\"Mean Skor (DTree):\", score_tree.mean())\n",
    "print(\"Mean Skor (RNF):\", score_rnd.mean())\n",
    "print(\"Mean Skor (KNN):\", score_knn.mean())\n",
    "print(\"Mean Skor (Gaussian Naive-Bayes):\", score_gnb.mean())\n",
    "print(\"Mean Skor (Multinominal Naive-Bayes):\", score_mnb.mean())\n",
    "print(\"----------\")\n",
    "print(\"Std Skor (Logistic):\", score_log.std())\n",
    "print(\"Std Skor (SVM):\", score_SVM.std())\n",
    "print(\"Std Skor (DTree):\", score_tree.std())\n",
    "print(\"Std Skor (RNF):\", score_rnd.std())\n",
    "print(\"Std Skor (KNN):\", score_knn.std())\n",
    "print(\"Std Skor (Gaussian Naive-Bayes):\", score_gnb.std())\n",
    "print(\"Std Skor (Multinominal Naive-Bayes):\", score_mnb.std())\n",
    "print(\"----------\")"
   ]
  },
  {
   "cell_type": "markdown",
   "metadata": {},
   "source": [
    "Dari laporan di atas, kita dapat simpulkan bahwa model regresi logistik merupakan model terbaik yang akan kita gunakan di dalam proses *inferencing*."
   ]
  },
  {
   "cell_type": "markdown",
   "metadata": {},
   "source": [
    "#### *Hyperparameter Tuning*"
   ]
  },
  {
   "cell_type": "markdown",
   "metadata": {},
   "source": [
    "Sebelum kita menerapkan model yang telah kita pilih untuk diterapkan ke dalam data *inference*, kita akan periksa *hyperparameter* apa saja yang harus kita gunakan di dalam model tersebut. Untuk model regresi logistik, kita bisa mengatur 4 jenis parameter, yaitu parameter 'solver', parameter 'multi_class', parameter 'C', dan parameter 'max_iter'."
   ]
  },
  {
   "cell_type": "code",
   "execution_count": 54,
   "metadata": {},
   "outputs": [],
   "source": [
    "parameter = [{\"solver\": [\"newton-cg\", \"lbfgs\", \"liblinear\", \"sag\", \"saga\"]},\n",
    "            {\"multi_class\": [\"auto\", \"ovr\", \"multinomial\"]},\n",
    "            {\"C\": [0.001, 0.01, 0.1, 1, 10, 100, 1000]},\n",
    "            {\"max_iter\": [100, 200, 300, 400, 500, 600, 700, 800, 900, 1000, 1100, 1200, 1300, 1400, 1500]}]"
   ]
  },
  {
   "cell_type": "markdown",
   "metadata": {},
   "source": [
    "Kemudian dengan bantuan *library* `sklearn.model_selection.GridSearchCV`, kita akan mencari parameter apa saja yang harus kita gunakan pada saat membangun model."
   ]
  },
  {
   "cell_type": "code",
   "execution_count": 55,
   "metadata": {},
   "outputs": [],
   "source": [
    "mod_grid = GridSearchCV(LogisticRegression(), parameter, cv = 5)"
   ]
  },
  {
   "cell_type": "markdown",
   "metadata": {},
   "source": [
    "Kemudian kita akan latih model tersebut untuk mencari parameter terbaik di dalam model regresi logistik yang akan kita buat ulang nantinya."
   ]
  },
  {
   "cell_type": "code",
   "execution_count": 56,
   "metadata": {},
   "outputs": [
    {
     "name": "stdout",
     "output_type": "stream",
     "text": [
      "Best parameters: {'C': 0.1}\n",
      "Best cross-validation score: 0.84\n"
     ]
    }
   ],
   "source": [
    "mod_grid.fit(x_train_final, y_train)\n",
    "print(\"Best parameters: {}\".format(mod_grid.best_params_))\n",
    "print(\"Best cross-validation score: {:.2f}\".format(mod_grid.best_score_))"
   ]
  },
  {
   "cell_type": "markdown",
   "metadata": {},
   "source": [
    "Dari perintah di atas, kita mengetahui bahwa parameter terbaik untuk model yang kita buat adalah parameter 'C' bernilai 0.1 dan parameter lainnya dibiarkan dalam mode *default*.\n",
    "\n",
    "Dengan parameter di atas, kita akan membuat model regresi linear baru dengan parameter yang sudah diatur."
   ]
  },
  {
   "cell_type": "code",
   "execution_count": 57,
   "metadata": {},
   "outputs": [
    {
     "name": "stdout",
     "output_type": "stream",
     "text": [
      "CPU times: total: 0 ns\n",
      "Wall time: 8 ms\n"
     ]
    },
    {
     "data": {
      "text/plain": [
       "LogisticRegression(C=0.1)"
      ]
     },
     "execution_count": 57,
     "metadata": {},
     "output_type": "execute_result"
    }
   ],
   "source": [
    "%%time\n",
    "mod_log_fine = LogisticRegression(C = 0.1)\n",
    "mod_log_fine.fit(x_train_final, y_train)"
   ]
  },
  {
   "cell_type": "markdown",
   "metadata": {},
   "source": [
    "Kemudian kita akan lakukan prediksi dengan menggunakan model tersebut."
   ]
  },
  {
   "cell_type": "code",
   "execution_count": 58,
   "metadata": {},
   "outputs": [],
   "source": [
    "y_pred_train_log_fine = mod_log_fine.predict(x_train_final)\n",
    "y_pred_test_log_fine = mod_log_fine.predict(x_test_final)"
   ]
  },
  {
   "cell_type": "markdown",
   "metadata": {},
   "source": [
    "Dan kita akan bandingkan hasil prediksinya berdampingan dengan hasil aslinya."
   ]
  },
  {
   "cell_type": "code",
   "execution_count": 59,
   "metadata": {},
   "outputs": [
    {
     "data": {
      "text/html": [
       "<div>\n",
       "<style scoped>\n",
       "    .dataframe tbody tr th:only-of-type {\n",
       "        vertical-align: middle;\n",
       "    }\n",
       "\n",
       "    .dataframe tbody tr th {\n",
       "        vertical-align: top;\n",
       "    }\n",
       "\n",
       "    .dataframe thead th {\n",
       "        text-align: right;\n",
       "    }\n",
       "</style>\n",
       "<table border=\"1\" class=\"dataframe\">\n",
       "  <thead>\n",
       "    <tr style=\"text-align: right;\">\n",
       "      <th></th>\n",
       "      <th>default_payment_next_month</th>\n",
       "      <th>pred_log_fine</th>\n",
       "    </tr>\n",
       "  </thead>\n",
       "  <tbody>\n",
       "    <tr>\n",
       "      <th>0</th>\n",
       "      <td>0</td>\n",
       "      <td>1</td>\n",
       "    </tr>\n",
       "    <tr>\n",
       "      <th>1</th>\n",
       "      <td>1</td>\n",
       "      <td>1</td>\n",
       "    </tr>\n",
       "    <tr>\n",
       "      <th>2</th>\n",
       "      <td>0</td>\n",
       "      <td>0</td>\n",
       "    </tr>\n",
       "    <tr>\n",
       "      <th>3</th>\n",
       "      <td>0</td>\n",
       "      <td>0</td>\n",
       "    </tr>\n",
       "    <tr>\n",
       "      <th>4</th>\n",
       "      <td>0</td>\n",
       "      <td>0</td>\n",
       "    </tr>\n",
       "    <tr>\n",
       "      <th>...</th>\n",
       "      <td>...</td>\n",
       "      <td>...</td>\n",
       "    </tr>\n",
       "    <tr>\n",
       "      <th>2359</th>\n",
       "      <td>1</td>\n",
       "      <td>1</td>\n",
       "    </tr>\n",
       "    <tr>\n",
       "      <th>2360</th>\n",
       "      <td>0</td>\n",
       "      <td>0</td>\n",
       "    </tr>\n",
       "    <tr>\n",
       "      <th>2361</th>\n",
       "      <td>0</td>\n",
       "      <td>0</td>\n",
       "    </tr>\n",
       "    <tr>\n",
       "      <th>2362</th>\n",
       "      <td>0</td>\n",
       "      <td>0</td>\n",
       "    </tr>\n",
       "    <tr>\n",
       "      <th>2363</th>\n",
       "      <td>0</td>\n",
       "      <td>0</td>\n",
       "    </tr>\n",
       "  </tbody>\n",
       "</table>\n",
       "<p>2364 rows × 2 columns</p>\n",
       "</div>"
      ],
      "text/plain": [
       "      default_payment_next_month  pred_log_fine\n",
       "0                              0              1\n",
       "1                              1              1\n",
       "2                              0              0\n",
       "3                              0              0\n",
       "4                              0              0\n",
       "...                          ...            ...\n",
       "2359                           1              1\n",
       "2360                           0              0\n",
       "2361                           0              0\n",
       "2362                           0              0\n",
       "2363                           0              0\n",
       "\n",
       "[2364 rows x 2 columns]"
      ]
     },
     "execution_count": 59,
     "metadata": {},
     "output_type": "execute_result"
    }
   ],
   "source": [
    "y_pred_train_log_fine_df = pd.DataFrame(y_pred_train_log_fine, columns = [\"pred_log_fine\"])\n",
    "pd.concat([y_train_df, y_pred_train_log_fine_df], axis = 1)"
   ]
  },
  {
   "cell_type": "markdown",
   "metadata": {},
   "source": [
    "Bila kita lihat seperti ini, tidak terdapat perubahan yang signifikan terhadap prediksi yang dihasilkan.\n",
    "\n",
    "Selain itu, kita akan buat laporan klasifikasi *dataset train* dari model yang sudah diatur tersebut."
   ]
  },
  {
   "cell_type": "code",
   "execution_count": 60,
   "metadata": {},
   "outputs": [
    {
     "name": "stdout",
     "output_type": "stream",
     "text": [
      "              precision    recall  f1-score   support\n",
      "\n",
      "           0       0.86      0.96      0.91      1854\n",
      "           1       0.74      0.41      0.53       510\n",
      "\n",
      "    accuracy                           0.84      2364\n",
      "   macro avg       0.80      0.69      0.72      2364\n",
      "weighted avg       0.83      0.84      0.82      2364\n",
      "\n"
     ]
    }
   ],
   "source": [
    "print(classification_report(y_train, y_pred_train_log_fine))"
   ]
  },
  {
   "cell_type": "markdown",
   "metadata": {},
   "source": [
    "Setra laporan klasifikasi *dataset test* dari model yang sudah diatur."
   ]
  },
  {
   "cell_type": "code",
   "execution_count": 75,
   "metadata": {},
   "outputs": [
    {
     "name": "stdout",
     "output_type": "stream",
     "text": [
      "              precision    recall  f1-score   support\n",
      "\n",
      "           0       0.85      0.96      0.90       470\n",
      "           1       0.66      0.32      0.43       121\n",
      "\n",
      "    accuracy                           0.83       591\n",
      "   macro avg       0.75      0.64      0.67       591\n",
      "weighted avg       0.81      0.83      0.80       591\n",
      "\n"
     ]
    }
   ],
   "source": [
    "print(classification_report(y_test, y_pred_test_log_fine))"
   ]
  },
  {
   "cell_type": "markdown",
   "metadata": {},
   "source": [
    "Dari laporan di atas, kita dapat mengetahui bahwa presisi prediksi tidak wajib membayar pada *dataset train* sebesar 86%, presisi prediksi wajib membayar sebesar 74%, dan akurasi keseluruhan sebesar 84% pada *dataset train* dan 83% pada *dataset test*. Bila kita lihat nilai ini tidak jauh berbeda dengan nilai yang terdapat pada laporan klasifikasi model regresi logistik yang pertama. \n",
    "\n",
    "Untuk melihat perbandingannya secara lebih jelas, kita akan lihat nilai *cross validation* model regresi logistik dan nilai *cross validation* model regresi logistik yang pertama."
   ]
  },
  {
   "cell_type": "code",
   "execution_count": 61,
   "metadata": {},
   "outputs": [
    {
     "name": "stdout",
     "output_type": "stream",
     "text": [
      "----------\n",
      "Skor (Logistic): [0.83509514 0.84989429 0.82663848 0.8435518  0.84745763]\n",
      "Skor (Logistic-Fine): [0.83298097 0.85200846 0.82663848 0.84566596 0.84745763]\n",
      "----------\n",
      "Mean Skor (Logistic): 0.8405274662271115\n",
      "Mean Skor (Logistic-Fine): 0.8409502992080838\n",
      "----------\n",
      "Std Skor (Logistic): 0.008571176384471954\n",
      "Std Skor (Logistic-Fine): 0.009541530670863824\n",
      "----------\n"
     ]
    }
   ],
   "source": [
    "score_log_fine = cross_val_score(mod_log_fine, x_train_final, y_train, cv = 5)\n",
    "\n",
    "print(\"----------\")\n",
    "print(\"Skor (Logistic):\", score_log)\n",
    "print(\"Skor (Logistic-Fine):\", score_log_fine)\n",
    "print(\"----------\")\n",
    "print(\"Mean Skor (Logistic):\", score_log.mean())\n",
    "print(\"Mean Skor (Logistic-Fine):\", score_log_fine.mean())\n",
    "print(\"----------\")\n",
    "print(\"Std Skor (Logistic):\", score_log.std())\n",
    "print(\"Std Skor (Logistic-Fine):\", score_log_fine.std())\n",
    "print(\"----------\")"
   ]
  },
  {
   "cell_type": "markdown",
   "metadata": {},
   "source": [
    "Dari hasil di atas, dapat kita lihat bahwa skor untuk model regresi logistik pertama sedikit lebih kecil apabila dibandingkan dengan model regresi logistik yang sudah di-*tuning*. Meskipun begitu, model yang sudah di-*tune* memiliki nilai standar deviasi yang sedikit lebih besar dibanding dengan model regresi logistik yang pertama."
   ]
  },
  {
   "cell_type": "markdown",
   "metadata": {},
   "source": [
    "## *Inferencing*"
   ]
  },
  {
   "cell_type": "markdown",
   "metadata": {},
   "source": [
    "Setelah kita menentukan model apa yang akan kita gunakan, kita akan gunakan model tersebut untuk melakukan *inferencing*. Sebelumnya, kita akan olah tabel sesuai dengan apa yang kita lakukan pada *dataset train* dan *dataset test*, yaitu mengklasifikasi ulang klasifikasi status pembayaran dan pengelompokan ulang batas kredit menjadi kelompok yang lebih besar."
   ]
  },
  {
   "cell_type": "code",
   "execution_count": 62,
   "metadata": {},
   "outputs": [],
   "source": [
    "limit_gen_inf = []\n",
    "\n",
    "for i in range(len(df_inf)):\n",
    "    if df_inf.limit_balance.iloc[i] < 200000:\n",
    "        limit_ind = 0\n",
    "    elif df_inf.limit_balance.iloc[i] >= 200000 and df_inf.limit_balance.iloc[i] < 400000:\n",
    "        limit_ind = 1\n",
    "    elif df_inf.limit_balance.iloc[i] >= 400000 and df_inf.limit_balance.iloc[i] < 600000:\n",
    "        limit_ind = 2\n",
    "    elif df_inf.limit_balance.iloc[i] >= 600000 and df_inf.limit_balance.iloc[i] < 800000:\n",
    "        limit_ind = 3\n",
    "    else:\n",
    "        limit_ind = 4\n",
    "    limit_gen_inf.append(limit_ind)\n",
    "\n",
    "for i in range(len(df_inf)):\n",
    "    if df_inf.pay_0.iloc[i] < 0: df_inf.pay_0.iloc[i] = 0\n",
    "    else: continue\n",
    "\n",
    "for i in range(len(df_inf)):\n",
    "    if df_inf.pay_2.iloc[i] < 0:df_inf.pay_2.iloc[i] = 0\n",
    "    else: continue\n",
    "\n",
    "for i in range(len(df_inf)):\n",
    "    if df_inf.pay_3.iloc[i] < 0: df_inf.pay_3.iloc[i] = 0\n",
    "    else: continue\n",
    "\n",
    "for i in range(len(df_inf)):\n",
    "    if df_inf.pay_4.iloc[i] < 0: df_inf.pay_4.iloc[i] = 0\n",
    "    else: continue\n",
    "\n",
    "for i in range(len(df_inf)):\n",
    "    if df_inf.pay_5.iloc[i] < 0: df_inf.pay_5.iloc[i] = 0\n",
    "    else: continue\n",
    "\n",
    "for i in range(len(df_inf)):\n",
    "    if df_inf.pay_6.iloc[i] < 0: df_inf.pay_6.iloc[i] = 0\n",
    "    else: continue\n",
    "\n",
    "df_inf[\"limit_balance_general\"] = limit_gen_inf"
   ]
  },
  {
   "cell_type": "markdown",
   "metadata": {},
   "source": [
    "Setelah kita memodifikasi *dataset inference* yang kita miliki, kita akan ambil fitur kolom yang kita gunakan untuk melakukan *encoding*."
   ]
  },
  {
   "cell_type": "code",
   "execution_count": 63,
   "metadata": {},
   "outputs": [],
   "source": [
    "df_inf_ord = df_inf[[\"limit_balance_general\", \"pay_0\", \"pay_2\", \"pay_3\", \"pay_4\", \"pay_5\", \"pay_6\"]]\n",
    "df_inf_final = ord_encoder.transform(df_inf_ord)"
   ]
  },
  {
   "cell_type": "markdown",
   "metadata": {},
   "source": [
    "Kemudian kita akan terapkan model yang sudah kita atur *hyperparameter*-nya ke dalam *dataset inference*."
   ]
  },
  {
   "cell_type": "code",
   "execution_count": 64,
   "metadata": {},
   "outputs": [],
   "source": [
    "y_pred_inf_log_fine = mod_log_fine.predict(df_inf_final)"
   ]
  },
  {
   "cell_type": "markdown",
   "metadata": {},
   "source": [
    "Setelah itu kita akan lihat hasil prediksinya apabila dibandingkan dengan hasil asli pada *data inference*-nya."
   ]
  },
  {
   "cell_type": "code",
   "execution_count": 65,
   "metadata": {},
   "outputs": [
    {
     "data": {
      "text/html": [
       "<div>\n",
       "<style scoped>\n",
       "    .dataframe tbody tr th:only-of-type {\n",
       "        vertical-align: middle;\n",
       "    }\n",
       "\n",
       "    .dataframe tbody tr th {\n",
       "        vertical-align: top;\n",
       "    }\n",
       "\n",
       "    .dataframe thead th {\n",
       "        text-align: right;\n",
       "    }\n",
       "</style>\n",
       "<table border=\"1\" class=\"dataframe\">\n",
       "  <thead>\n",
       "    <tr style=\"text-align: right;\">\n",
       "      <th></th>\n",
       "      <th>default_payment_next_month</th>\n",
       "      <th>pred_logf</th>\n",
       "    </tr>\n",
       "  </thead>\n",
       "  <tbody>\n",
       "    <tr>\n",
       "      <th>0</th>\n",
       "      <td>0</td>\n",
       "      <td>0</td>\n",
       "    </tr>\n",
       "    <tr>\n",
       "      <th>1</th>\n",
       "      <td>1</td>\n",
       "      <td>1</td>\n",
       "    </tr>\n",
       "    <tr>\n",
       "      <th>2</th>\n",
       "      <td>0</td>\n",
       "      <td>0</td>\n",
       "    </tr>\n",
       "    <tr>\n",
       "      <th>3</th>\n",
       "      <td>1</td>\n",
       "      <td>0</td>\n",
       "    </tr>\n",
       "    <tr>\n",
       "      <th>4</th>\n",
       "      <td>0</td>\n",
       "      <td>0</td>\n",
       "    </tr>\n",
       "    <tr>\n",
       "      <th>5</th>\n",
       "      <td>0</td>\n",
       "      <td>0</td>\n",
       "    </tr>\n",
       "    <tr>\n",
       "      <th>6</th>\n",
       "      <td>1</td>\n",
       "      <td>0</td>\n",
       "    </tr>\n",
       "    <tr>\n",
       "      <th>7</th>\n",
       "      <td>0</td>\n",
       "      <td>0</td>\n",
       "    </tr>\n",
       "    <tr>\n",
       "      <th>8</th>\n",
       "      <td>0</td>\n",
       "      <td>0</td>\n",
       "    </tr>\n",
       "    <tr>\n",
       "      <th>9</th>\n",
       "      <td>1</td>\n",
       "      <td>1</td>\n",
       "    </tr>\n",
       "  </tbody>\n",
       "</table>\n",
       "</div>"
      ],
      "text/plain": [
       "   default_payment_next_month  pred_logf\n",
       "0                           0          0\n",
       "1                           1          1\n",
       "2                           0          0\n",
       "3                           1          0\n",
       "4                           0          0\n",
       "5                           0          0\n",
       "6                           1          0\n",
       "7                           0          0\n",
       "8                           0          0\n",
       "9                           1          1"
      ]
     },
     "execution_count": 65,
     "metadata": {},
     "output_type": "execute_result"
    }
   ],
   "source": [
    "y_pred_inf_log_fine_df = pd.DataFrame(y_pred_inf_log_fine, columns = [\"pred_logf\"])\n",
    "\n",
    "pd.concat([df_inf.default_payment_next_month, y_pred_inf_log_fine_df], axis = 1)"
   ]
  },
  {
   "cell_type": "markdown",
   "metadata": {},
   "source": [
    "Dari hasil tersebut kita dapat lihat bahwa prediksi dari model yang sudah diatur *hyperparameter*-nya masih bisa meleset dari hasil data yang seharusnya meskipun akurasinya sudah cukup tinggi.\n",
    "\n",
    "Setelah itu kita akan melihat bagaimana persamaan matematis regresi logistik dari model tersebut."
   ]
  },
  {
   "cell_type": "code",
   "execution_count": 66,
   "metadata": {},
   "outputs": [
    {
     "name": "stdout",
     "output_type": "stream",
     "text": [
      "c (Intercept): [-1.86102623]\n",
      "m (Slope): [[-0.33541035  1.10271078  0.00845416  0.38306362  0.0682506   0.10679345\n",
      "   0.42189151]]\n"
     ]
    }
   ],
   "source": [
    "print(\"c (Intercept):\", mod_log_fine.intercept_)\n",
    "print(\"m (Slope):\", mod_log_fine.coef_)"
   ]
  },
  {
   "cell_type": "markdown",
   "metadata": {},
   "source": [
    "Dari perintah di atas, kita dapat mengetahui bahwa semakin besar batas kredit dari kartu yang dimiliki, maka akan semakin kecil kemungkinan seseorang untuk perlu membayar tagihan kredit mereka di bulan Oktober. Sebaliknya, orang yang memiliki keterlambatan pembayaran kredit selama 1 bulan akan lebih besar kemungkinannya untuk diharuskan memnbayar tagihan tersebut di bulan Oktober."
   ]
  },
  {
   "cell_type": "markdown",
   "metadata": {},
   "source": [
    "## Kesimpulan"
   ]
  },
  {
   "cell_type": "markdown",
   "metadata": {},
   "source": [
    "Berikut ini adalah kesimpulan yang dapat diambil dari pengolahan data yang sudah dilakukan:\n",
    "\n",
    "1. Berdasarkan EDA, kita ketahui bahwa data diambil dari pemegang kartu kredit di Taiwan pada rentang waktu April-September 2005 yang berjumlah 2965 orang dan berisi data-data batas kartu kredit, data diri, dan detil tagihan dan pembayaran kartu kredit untuk menentukan apakah seseorang harus membayar tagihan kartu kredit mereka atau tidak pada Oktober 2005,\n",
    "\n",
    "2. Model-model yang sudah dilatih memiliki akurasi total yang relatif mirip satu sama lain dan semuanya merupakan model yang *good-fit* untuk diterapkan di dalam data, namun pada kasus ini, kita mengetahui dari metode `cross_val_score` bahwa model regresi logistik merupakan model terbaik yang dapat kita terapkan di model tersebut karena akurasi pada *dataset train* dan *dataset test*-nya paling besar dan tidak jauh berbeda nilainya satu sama lain,\n",
    "\n",
    "3. Model regresi logistik yang sudah diperbaiki pada kasus ini hanya mengatur ulang *hyperparameter* C yang mengatur seberapa besar regulasi yang harus dilakukan. Pada kasus ini nilai C yang terbaik ternyata lebih kecil dari nilai asalnya sehingga model regresi logistik yang baru memiliki parameter regulasi yang lebih kuat,\n",
    "\n",
    "4. Model regresi logistik yang baru memiliki akurasi total sebesar 84% untuk memprediksi apakah seseorang harus membayar tagihan kartu kredit mereka atau tidak, yang nilainya sedikit lebih baik dibanding dengan model regresi logistik dengan pengaturan *default* pada seluruh *hyperparameter*-nya,\n",
    "\n",
    "5. Semakin besar batas kredit dari kartu yang dimiliki, maka akan semakin kecil kemungkinan seseorang untuk perlu membayar tagihan kredit mereka di bulan Oktober. Sebaliknya, orang yang memiliki keterlambatan pembayaran kredit selama 1 bulan akan lebih besar kemungkinannya untuk diharuskan memnbayar tagihan tersebut di bulan Oktober."
   ]
  },
  {
   "cell_type": "markdown",
   "metadata": {},
   "source": [
    "## Pertanyaan Konseptual"
   ]
  },
  {
   "cell_type": "markdown",
   "metadata": {},
   "source": [
    "1. Apakah fungsi parameter `criterion` pada Decision Tree? Jelaskan salah satu criterion yang kalian pahami!\n",
    "\n",
    "**Jawab:** Parameter `criterion` merupakan sebuah parameter yang mengukur akurasi dari pemisahan setiap keputusan di dalam *decision tree* ([Sumber 1](https://scikit-learn.org/stable/modules/generated/sklearn.tree.DecisionTreeClassifier.html)). Salah satu parameter `criterion` yang terdapat di dalam model *decision tree* adalah 'gini', yang merupakan perhitungan untuk mengukur seberapa sering suatu data yang diambil diberikan label yang salah ([Sumber 2](https://en.wikipedia.org/wiki/Decision_tree_learning#Gini_impurity)).\n",
    "\n",
    "2. Apakah fungsi dari `pruning` pada Tree model?\n",
    "\n",
    "**Jawab:** Fungsi dari *pruning* adalah untuk mengurangi beban pekerjaan algoritma *decision tree* dengan memangkas fitur-fitur yang tidak terlalu dibutuhkan di dalam model ([Sumber 3](https://en.wikipedia.org/wiki/Decision_tree_pruning)).\n",
    "\n",
    "3. Bagaimana cara memilih `K` yang optimal pada KNN?\n",
    "\n",
    "**Jawab:** Cara memilih `K` yang optimal pada KNN adalah dengan melihat jumlah data yang akan diperiksa. Apabila datanya semakin banyak, maka nilai `K` yang dibutuhkan akan semakin besar tergantung dari nilai akar dari jumlah data yang ada.\n",
    "\n",
    "4. Jelaskan apa yang kalian ketahui tentang `Cross Validation`!\n",
    "\n",
    "**Jawab:** *Cross Validation* merupakan proses pemeriksaan model yang dilakukan berkali-kali dengan menggunakan berbagai macam *dataset train* dan *dataset test* yang berbeda-beda\n",
    "\n",
    "5. Jelaskan apa yang kalian ketahui tentang `Accuracy, Precision, Recall, F1 Score`!\n",
    "\n",
    "**Jawab:** `Accuracy` merupakan presisi keseluruhan dari model yang telah dilatih, `Precision` merupakan perbandingan dari prediksi positif yang benar dengan prediksi yang benar secara keseluruhan, `Recall` merupakan perbandingan dari prediksi benar dengan hasil aslinya, dan `F1 Score` merupakan nilai beban dari `Precision` dan `Recall` ([Sumber 4](https://www.statology.org/sklearn-classification-report/))."
   ]
  }
 ],
 "metadata": {
  "kernelspec": {
   "display_name": "Python 3.9.12 ('base')",
   "language": "python",
   "name": "python3"
  },
  "language_info": {
   "codemirror_mode": {
    "name": "ipython",
    "version": 3
   },
   "file_extension": ".py",
   "mimetype": "text/x-python",
   "name": "python",
   "nbconvert_exporter": "python",
   "pygments_lexer": "ipython3",
   "version": "3.9.12"
  },
  "orig_nbformat": 4,
  "vscode": {
   "interpreter": {
    "hash": "d4a4050df37647cce9f897d8be73e70f5f75cc37a70fc5027d2d46479925067e"
   }
  }
 },
 "nbformat": 4,
 "nbformat_minor": 2
}
