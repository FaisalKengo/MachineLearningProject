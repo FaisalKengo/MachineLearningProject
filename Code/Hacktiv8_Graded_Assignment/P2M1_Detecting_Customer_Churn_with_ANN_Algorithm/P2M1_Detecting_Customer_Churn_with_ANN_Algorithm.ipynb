{
  "nbformat": 4,
  "nbformat_minor": 0,
  "metadata": {
    "colab": {
      "provenance": [],
      "collapsed_sections": []
    },
    "kernelspec": {
      "name": "python3",
      "display_name": "Python 3"
    },
    "language_info": {
      "name": "python"
    },
    "gpuClass": "standard"
  },
  "cells": [
    {
      "cell_type": "code",
      "source": [
        "# Jalankan perintah di bawah jika notebook dijalankan di Google Colab\n",
        "## install python 3.9\n",
        "!sudo apt-get update -y\n",
        "!sudo apt-get install python3.9\n",
        "\n",
        "## change alternatives\n",
        "!sudo update-alternatives --install /usr/bin/python3 python3 /usr/bin/python3.7 1\n",
        "!sudo update-alternatives --install /usr/bin/python3 python3 /usr/bin/python3.9 2\n",
        "\n",
        "# #check python version\n",
        "!python --version"
      ],
      "metadata": {
        "colab": {
          "base_uri": "https://localhost:8080/"
        },
        "id": "0giRXKre8auh",
        "outputId": "e9ebcdf0-8a5c-4658-bb83-0a4d7164052f"
      },
      "execution_count": 1,
      "outputs": [
        {
          "output_type": "stream",
          "name": "stdout",
          "text": [
            "Get:1 https://cloud.r-project.org/bin/linux/ubuntu bionic-cran40/ InRelease [3,626 B]\n",
            "Ign:2 https://developer.download.nvidia.com/compute/machine-learning/repos/ubuntu1804/x86_64  InRelease\n",
            "Hit:3 https://developer.download.nvidia.com/compute/cuda/repos/ubuntu1804/x86_64  InRelease\n",
            "Hit:4 https://developer.download.nvidia.com/compute/machine-learning/repos/ubuntu1804/x86_64  Release\n",
            "Get:5 http://security.ubuntu.com/ubuntu bionic-security InRelease [88.7 kB]\n",
            "Get:6 http://ppa.launchpad.net/c2d4u.team/c2d4u4.0+/ubuntu bionic InRelease [15.9 kB]\n",
            "Hit:7 http://archive.ubuntu.com/ubuntu bionic InRelease\n",
            "Get:8 https://cloud.r-project.org/bin/linux/ubuntu bionic-cran40/ Packages [91.7 kB]\n",
            "Get:9 http://archive.ubuntu.com/ubuntu bionic-updates InRelease [88.7 kB]\n",
            "Hit:10 http://ppa.launchpad.net/cran/libgit2/ubuntu bionic InRelease\n",
            "Get:12 http://archive.ubuntu.com/ubuntu bionic-backports InRelease [74.6 kB]\n",
            "Get:13 http://ppa.launchpad.net/deadsnakes/ppa/ubuntu bionic InRelease [15.9 kB]\n",
            "Hit:14 http://ppa.launchpad.net/graphics-drivers/ppa/ubuntu bionic InRelease\n",
            "Get:15 http://security.ubuntu.com/ubuntu bionic-security/restricted amd64 Packages [1,131 kB]\n",
            "Get:16 http://ppa.launchpad.net/c2d4u.team/c2d4u4.0+/ubuntu bionic/main Sources [2,099 kB]\n",
            "Get:17 http://archive.ubuntu.com/ubuntu bionic-updates/restricted amd64 Packages [1,172 kB]\n",
            "Get:18 http://security.ubuntu.com/ubuntu bionic-security/main amd64 Packages [2,965 kB]\n",
            "Get:19 http://security.ubuntu.com/ubuntu bionic-security/universe amd64 Packages [1,540 kB]\n",
            "Get:20 http://archive.ubuntu.com/ubuntu bionic-updates/main amd64 Packages [3,396 kB]\n",
            "Get:21 http://ppa.launchpad.net/c2d4u.team/c2d4u4.0+/ubuntu bionic/main amd64 Packages [1,076 kB]\n",
            "Get:22 http://ppa.launchpad.net/deadsnakes/ppa/ubuntu bionic/main amd64 Packages [45.2 kB]\n",
            "Fetched 13.8 MB in 5s (2,929 kB/s)\n",
            "Reading package lists... Done\n",
            "Reading package lists... Done\n",
            "Building dependency tree       \n",
            "Reading state information... Done\n",
            "The following package was automatically installed and is no longer required:\n",
            "  libnvidia-common-460\n",
            "Use 'sudo apt autoremove' to remove it.\n",
            "The following additional packages will be installed:\n",
            "  libpython3.9-minimal libpython3.9-stdlib python3.9-minimal\n",
            "Suggested packages:\n",
            "  python3.9-venv binfmt-support\n",
            "The following NEW packages will be installed:\n",
            "  libpython3.9-minimal libpython3.9-stdlib python3.9 python3.9-minimal\n",
            "0 upgraded, 4 newly installed, 0 to remove and 37 not upgraded.\n",
            "Need to get 4,916 kB of archives.\n",
            "After this operation, 19.1 MB of additional disk space will be used.\n",
            "Get:1 http://ppa.launchpad.net/deadsnakes/ppa/ubuntu bionic/main amd64 libpython3.9-minimal amd64 3.9.14-1+bionic1 [806 kB]\n",
            "Get:2 http://ppa.launchpad.net/deadsnakes/ppa/ubuntu bionic/main amd64 python3.9-minimal amd64 3.9.14-1+bionic1 [1,937 kB]\n",
            "Get:3 http://ppa.launchpad.net/deadsnakes/ppa/ubuntu bionic/main amd64 libpython3.9-stdlib amd64 3.9.14-1+bionic1 [1,680 kB]\n",
            "Get:4 http://ppa.launchpad.net/deadsnakes/ppa/ubuntu bionic/main amd64 python3.9 amd64 3.9.14-1+bionic1 [493 kB]\n",
            "Fetched 4,916 kB in 5s (1,092 kB/s)\n",
            "debconf: unable to initialize frontend: Dialog\n",
            "debconf: (No usable dialog-like program is installed, so the dialog based frontend cannot be used. at /usr/share/perl5/Debconf/FrontEnd/Dialog.pm line 76, <> line 4.)\n",
            "debconf: falling back to frontend: Readline\n",
            "debconf: unable to initialize frontend: Readline\n",
            "debconf: (This frontend requires a controlling tty.)\n",
            "debconf: falling back to frontend: Teletype\n",
            "dpkg-preconfigure: unable to re-open stdin: \n",
            "Selecting previously unselected package libpython3.9-minimal:amd64.\n",
            "(Reading database ... 155685 files and directories currently installed.)\n",
            "Preparing to unpack .../libpython3.9-minimal_3.9.14-1+bionic1_amd64.deb ...\n",
            "Unpacking libpython3.9-minimal:amd64 (3.9.14-1+bionic1) ...\n",
            "Selecting previously unselected package python3.9-minimal.\n",
            "Preparing to unpack .../python3.9-minimal_3.9.14-1+bionic1_amd64.deb ...\n",
            "Unpacking python3.9-minimal (3.9.14-1+bionic1) ...\n",
            "Selecting previously unselected package libpython3.9-stdlib:amd64.\n",
            "Preparing to unpack .../libpython3.9-stdlib_3.9.14-1+bionic1_amd64.deb ...\n",
            "Unpacking libpython3.9-stdlib:amd64 (3.9.14-1+bionic1) ...\n",
            "Selecting previously unselected package python3.9.\n",
            "Preparing to unpack .../python3.9_3.9.14-1+bionic1_amd64.deb ...\n",
            "Unpacking python3.9 (3.9.14-1+bionic1) ...\n",
            "Setting up libpython3.9-minimal:amd64 (3.9.14-1+bionic1) ...\n",
            "Setting up libpython3.9-stdlib:amd64 (3.9.14-1+bionic1) ...\n",
            "Setting up python3.9-minimal (3.9.14-1+bionic1) ...\n",
            "Setting up python3.9 (3.9.14-1+bionic1) ...\n",
            "Processing triggers for mime-support (3.60ubuntu1) ...\n",
            "Processing triggers for man-db (2.8.3-2ubuntu0.1) ...\n",
            "update-alternatives: using /usr/bin/python3.9 to provide /usr/bin/python3 (python3) in auto mode\n",
            "Python 3.9.14\n"
          ]
        }
      ]
    },
    {
      "cell_type": "markdown",
      "source": [
        "# Memprediksi *Customer Churn*\n",
        "\n",
        "`Faisal Kengo (FTDS Remote Batch 014)`"
      ],
      "metadata": {
        "id": "CvghDkuSKiee"
      }
    },
    {
      "cell_type": "markdown",
      "source": [
        "## Perkenalan"
      ],
      "metadata": {
        "id": "zGOQEYDOKjpE"
      }
    },
    {
      "cell_type": "markdown",
      "source": [
        "Nama saya Faisal Kengo, kali ini saya akan memprediksi *customer churn* dari pelayanan telekomunikasi yang disediakan dengan menggunakan algoritma *Artificial Neural Network*. *Dataset* yang disediakan berisi tentang deskripsi perilaku pelanggan pelayanan telekomunikasi, mulai dari identitas diri, pelayanan apa saja yang digunakan, hingga biaya yang dikeluarkan untuk pelayanan yang digunakan."
      ],
      "metadata": {
        "id": "AwyZ1UJqKnuU"
      }
    },
    {
      "cell_type": "markdown",
      "source": [
        "### Tujuan"
      ],
      "metadata": {
        "id": "eh_mjsgzLjfW"
      }
    },
    {
      "cell_type": "markdown",
      "source": [
        "Tujuan dari penyusunan laporan ini adalah sebagai berikut:\n",
        "\n",
        "* Memprediksi klasifikasi dari `Churn` dari dataset yang diambil dengan menggunakan algoritma *Artificial Neural Network*."
      ],
      "metadata": {
        "id": "G8_iGCeHLk8O"
      }
    },
    {
      "cell_type": "markdown",
      "source": [
        "## Pengolahan dan Analisa *Dataset*"
      ],
      "metadata": {
        "id": "IGceHS7DLu3e"
      }
    },
    {
      "cell_type": "markdown",
      "source": [
        "### Mengimpor *Library*"
      ],
      "metadata": {
        "id": "vvVVt-AeLwmO"
      }
    },
    {
      "cell_type": "markdown",
      "source": [
        "Pertama-tama kita akan mengimpor *library* yang akan kita gunakan untuk mengolah data."
      ],
      "metadata": {
        "id": "AmJYihaqLyHu"
      }
    },
    {
      "cell_type": "code",
      "source": [
        "import pandas as pd\n",
        "import numpy as np\n",
        "import seaborn as sns\n",
        "import matplotlib.pyplot as plt\n",
        "import tensorflow as tf\n",
        "import pickle\n",
        "from tensorflow import keras\n",
        "from sklearn.model_selection import train_test_split\n",
        "from sklearn.preprocessing import StandardScaler, OneHotEncoder, OrdinalEncoder, LabelEncoder\n",
        "from sklearn.compose import ColumnTransformer"
      ],
      "metadata": {
        "id": "b54pDYX69b8T"
      },
      "execution_count": 2,
      "outputs": []
    },
    {
      "cell_type": "markdown",
      "source": [
        "### Memuat *Dataset*"
      ],
      "metadata": {
        "id": "EWWyJU_dL0cn"
      }
    },
    {
      "cell_type": "markdown",
      "source": [
        "Setelah kita memuat *library* yang akan kita gunakan, kita akan muat *dataset* yang sudah kita unduh."
      ],
      "metadata": {
        "id": "Np4LeEBRL-Be"
      }
    },
    {
      "cell_type": "code",
      "source": [
        "# Load data dari dataset yang sudah diuplaod ke Google Colab\n",
        "df = pd.read_csv(\"/content/WA_Fn-UseC_-Telco-Customer-Churn.csv\")"
      ],
      "metadata": {
        "id": "2JxMKc96-VNn"
      },
      "execution_count": 3,
      "outputs": []
    },
    {
      "cell_type": "markdown",
      "source": [
        "Lalu kita akan tampilkan bagian awal dari *dataset* tersebut."
      ],
      "metadata": {
        "id": "P75Y9YsRMAAO"
      }
    },
    {
      "cell_type": "code",
      "source": [
        "df.head()"
      ],
      "metadata": {
        "colab": {
          "base_uri": "https://localhost:8080/",
          "height": 386
        },
        "id": "TIX-eDG1-bHy",
        "outputId": "3da399af-0ea2-499e-d3db-d802d66610f4"
      },
      "execution_count": 4,
      "outputs": [
        {
          "output_type": "execute_result",
          "data": {
            "text/plain": [
              "   customerID  gender  SeniorCitizen Partner Dependents  tenure PhoneService  \\\n",
              "0  7590-VHVEG  Female              0     Yes         No       1           No   \n",
              "1  5575-GNVDE    Male              0      No         No      34          Yes   \n",
              "2  3668-QPYBK    Male              0      No         No       2          Yes   \n",
              "3  7795-CFOCW    Male              0      No         No      45           No   \n",
              "4  9237-HQITU  Female              0      No         No       2          Yes   \n",
              "\n",
              "      MultipleLines InternetService OnlineSecurity  ... DeviceProtection  \\\n",
              "0  No phone service             DSL             No  ...               No   \n",
              "1                No             DSL            Yes  ...              Yes   \n",
              "2                No             DSL            Yes  ...               No   \n",
              "3  No phone service             DSL            Yes  ...              Yes   \n",
              "4                No     Fiber optic             No  ...               No   \n",
              "\n",
              "  TechSupport StreamingTV StreamingMovies        Contract PaperlessBilling  \\\n",
              "0          No          No              No  Month-to-month              Yes   \n",
              "1          No          No              No        One year               No   \n",
              "2          No          No              No  Month-to-month              Yes   \n",
              "3         Yes          No              No        One year               No   \n",
              "4          No          No              No  Month-to-month              Yes   \n",
              "\n",
              "               PaymentMethod MonthlyCharges  TotalCharges Churn  \n",
              "0           Electronic check          29.85         29.85    No  \n",
              "1               Mailed check          56.95        1889.5    No  \n",
              "2               Mailed check          53.85        108.15   Yes  \n",
              "3  Bank transfer (automatic)          42.30       1840.75    No  \n",
              "4           Electronic check          70.70        151.65   Yes  \n",
              "\n",
              "[5 rows x 21 columns]"
            ],
            "text/html": [
              "\n",
              "  <div id=\"df-ff50a6dc-07b0-4cba-94eb-3a5407dc3b88\">\n",
              "    <div class=\"colab-df-container\">\n",
              "      <div>\n",
              "<style scoped>\n",
              "    .dataframe tbody tr th:only-of-type {\n",
              "        vertical-align: middle;\n",
              "    }\n",
              "\n",
              "    .dataframe tbody tr th {\n",
              "        vertical-align: top;\n",
              "    }\n",
              "\n",
              "    .dataframe thead th {\n",
              "        text-align: right;\n",
              "    }\n",
              "</style>\n",
              "<table border=\"1\" class=\"dataframe\">\n",
              "  <thead>\n",
              "    <tr style=\"text-align: right;\">\n",
              "      <th></th>\n",
              "      <th>customerID</th>\n",
              "      <th>gender</th>\n",
              "      <th>SeniorCitizen</th>\n",
              "      <th>Partner</th>\n",
              "      <th>Dependents</th>\n",
              "      <th>tenure</th>\n",
              "      <th>PhoneService</th>\n",
              "      <th>MultipleLines</th>\n",
              "      <th>InternetService</th>\n",
              "      <th>OnlineSecurity</th>\n",
              "      <th>...</th>\n",
              "      <th>DeviceProtection</th>\n",
              "      <th>TechSupport</th>\n",
              "      <th>StreamingTV</th>\n",
              "      <th>StreamingMovies</th>\n",
              "      <th>Contract</th>\n",
              "      <th>PaperlessBilling</th>\n",
              "      <th>PaymentMethod</th>\n",
              "      <th>MonthlyCharges</th>\n",
              "      <th>TotalCharges</th>\n",
              "      <th>Churn</th>\n",
              "    </tr>\n",
              "  </thead>\n",
              "  <tbody>\n",
              "    <tr>\n",
              "      <th>0</th>\n",
              "      <td>7590-VHVEG</td>\n",
              "      <td>Female</td>\n",
              "      <td>0</td>\n",
              "      <td>Yes</td>\n",
              "      <td>No</td>\n",
              "      <td>1</td>\n",
              "      <td>No</td>\n",
              "      <td>No phone service</td>\n",
              "      <td>DSL</td>\n",
              "      <td>No</td>\n",
              "      <td>...</td>\n",
              "      <td>No</td>\n",
              "      <td>No</td>\n",
              "      <td>No</td>\n",
              "      <td>No</td>\n",
              "      <td>Month-to-month</td>\n",
              "      <td>Yes</td>\n",
              "      <td>Electronic check</td>\n",
              "      <td>29.85</td>\n",
              "      <td>29.85</td>\n",
              "      <td>No</td>\n",
              "    </tr>\n",
              "    <tr>\n",
              "      <th>1</th>\n",
              "      <td>5575-GNVDE</td>\n",
              "      <td>Male</td>\n",
              "      <td>0</td>\n",
              "      <td>No</td>\n",
              "      <td>No</td>\n",
              "      <td>34</td>\n",
              "      <td>Yes</td>\n",
              "      <td>No</td>\n",
              "      <td>DSL</td>\n",
              "      <td>Yes</td>\n",
              "      <td>...</td>\n",
              "      <td>Yes</td>\n",
              "      <td>No</td>\n",
              "      <td>No</td>\n",
              "      <td>No</td>\n",
              "      <td>One year</td>\n",
              "      <td>No</td>\n",
              "      <td>Mailed check</td>\n",
              "      <td>56.95</td>\n",
              "      <td>1889.5</td>\n",
              "      <td>No</td>\n",
              "    </tr>\n",
              "    <tr>\n",
              "      <th>2</th>\n",
              "      <td>3668-QPYBK</td>\n",
              "      <td>Male</td>\n",
              "      <td>0</td>\n",
              "      <td>No</td>\n",
              "      <td>No</td>\n",
              "      <td>2</td>\n",
              "      <td>Yes</td>\n",
              "      <td>No</td>\n",
              "      <td>DSL</td>\n",
              "      <td>Yes</td>\n",
              "      <td>...</td>\n",
              "      <td>No</td>\n",
              "      <td>No</td>\n",
              "      <td>No</td>\n",
              "      <td>No</td>\n",
              "      <td>Month-to-month</td>\n",
              "      <td>Yes</td>\n",
              "      <td>Mailed check</td>\n",
              "      <td>53.85</td>\n",
              "      <td>108.15</td>\n",
              "      <td>Yes</td>\n",
              "    </tr>\n",
              "    <tr>\n",
              "      <th>3</th>\n",
              "      <td>7795-CFOCW</td>\n",
              "      <td>Male</td>\n",
              "      <td>0</td>\n",
              "      <td>No</td>\n",
              "      <td>No</td>\n",
              "      <td>45</td>\n",
              "      <td>No</td>\n",
              "      <td>No phone service</td>\n",
              "      <td>DSL</td>\n",
              "      <td>Yes</td>\n",
              "      <td>...</td>\n",
              "      <td>Yes</td>\n",
              "      <td>Yes</td>\n",
              "      <td>No</td>\n",
              "      <td>No</td>\n",
              "      <td>One year</td>\n",
              "      <td>No</td>\n",
              "      <td>Bank transfer (automatic)</td>\n",
              "      <td>42.30</td>\n",
              "      <td>1840.75</td>\n",
              "      <td>No</td>\n",
              "    </tr>\n",
              "    <tr>\n",
              "      <th>4</th>\n",
              "      <td>9237-HQITU</td>\n",
              "      <td>Female</td>\n",
              "      <td>0</td>\n",
              "      <td>No</td>\n",
              "      <td>No</td>\n",
              "      <td>2</td>\n",
              "      <td>Yes</td>\n",
              "      <td>No</td>\n",
              "      <td>Fiber optic</td>\n",
              "      <td>No</td>\n",
              "      <td>...</td>\n",
              "      <td>No</td>\n",
              "      <td>No</td>\n",
              "      <td>No</td>\n",
              "      <td>No</td>\n",
              "      <td>Month-to-month</td>\n",
              "      <td>Yes</td>\n",
              "      <td>Electronic check</td>\n",
              "      <td>70.70</td>\n",
              "      <td>151.65</td>\n",
              "      <td>Yes</td>\n",
              "    </tr>\n",
              "  </tbody>\n",
              "</table>\n",
              "<p>5 rows × 21 columns</p>\n",
              "</div>\n",
              "      <button class=\"colab-df-convert\" onclick=\"convertToInteractive('df-ff50a6dc-07b0-4cba-94eb-3a5407dc3b88')\"\n",
              "              title=\"Convert this dataframe to an interactive table.\"\n",
              "              style=\"display:none;\">\n",
              "        \n",
              "  <svg xmlns=\"http://www.w3.org/2000/svg\" height=\"24px\"viewBox=\"0 0 24 24\"\n",
              "       width=\"24px\">\n",
              "    <path d=\"M0 0h24v24H0V0z\" fill=\"none\"/>\n",
              "    <path d=\"M18.56 5.44l.94 2.06.94-2.06 2.06-.94-2.06-.94-.94-2.06-.94 2.06-2.06.94zm-11 1L8.5 8.5l.94-2.06 2.06-.94-2.06-.94L8.5 2.5l-.94 2.06-2.06.94zm10 10l.94 2.06.94-2.06 2.06-.94-2.06-.94-.94-2.06-.94 2.06-2.06.94z\"/><path d=\"M17.41 7.96l-1.37-1.37c-.4-.4-.92-.59-1.43-.59-.52 0-1.04.2-1.43.59L10.3 9.45l-7.72 7.72c-.78.78-.78 2.05 0 2.83L4 21.41c.39.39.9.59 1.41.59.51 0 1.02-.2 1.41-.59l7.78-7.78 2.81-2.81c.8-.78.8-2.07 0-2.86zM5.41 20L4 18.59l7.72-7.72 1.47 1.35L5.41 20z\"/>\n",
              "  </svg>\n",
              "      </button>\n",
              "      \n",
              "  <style>\n",
              "    .colab-df-container {\n",
              "      display:flex;\n",
              "      flex-wrap:wrap;\n",
              "      gap: 12px;\n",
              "    }\n",
              "\n",
              "    .colab-df-convert {\n",
              "      background-color: #E8F0FE;\n",
              "      border: none;\n",
              "      border-radius: 50%;\n",
              "      cursor: pointer;\n",
              "      display: none;\n",
              "      fill: #1967D2;\n",
              "      height: 32px;\n",
              "      padding: 0 0 0 0;\n",
              "      width: 32px;\n",
              "    }\n",
              "\n",
              "    .colab-df-convert:hover {\n",
              "      background-color: #E2EBFA;\n",
              "      box-shadow: 0px 1px 2px rgba(60, 64, 67, 0.3), 0px 1px 3px 1px rgba(60, 64, 67, 0.15);\n",
              "      fill: #174EA6;\n",
              "    }\n",
              "\n",
              "    [theme=dark] .colab-df-convert {\n",
              "      background-color: #3B4455;\n",
              "      fill: #D2E3FC;\n",
              "    }\n",
              "\n",
              "    [theme=dark] .colab-df-convert:hover {\n",
              "      background-color: #434B5C;\n",
              "      box-shadow: 0px 1px 3px 1px rgba(0, 0, 0, 0.15);\n",
              "      filter: drop-shadow(0px 1px 2px rgba(0, 0, 0, 0.3));\n",
              "      fill: #FFFFFF;\n",
              "    }\n",
              "  </style>\n",
              "\n",
              "      <script>\n",
              "        const buttonEl =\n",
              "          document.querySelector('#df-ff50a6dc-07b0-4cba-94eb-3a5407dc3b88 button.colab-df-convert');\n",
              "        buttonEl.style.display =\n",
              "          google.colab.kernel.accessAllowed ? 'block' : 'none';\n",
              "\n",
              "        async function convertToInteractive(key) {\n",
              "          const element = document.querySelector('#df-ff50a6dc-07b0-4cba-94eb-3a5407dc3b88');\n",
              "          const dataTable =\n",
              "            await google.colab.kernel.invokeFunction('convertToInteractive',\n",
              "                                                     [key], {});\n",
              "          if (!dataTable) return;\n",
              "\n",
              "          const docLinkHtml = 'Like what you see? Visit the ' +\n",
              "            '<a target=\"_blank\" href=https://colab.research.google.com/notebooks/data_table.ipynb>data table notebook</a>'\n",
              "            + ' to learn more about interactive tables.';\n",
              "          element.innerHTML = '';\n",
              "          dataTable['output_type'] = 'display_data';\n",
              "          await google.colab.output.renderOutput(dataTable, element);\n",
              "          const docLink = document.createElement('div');\n",
              "          docLink.innerHTML = docLinkHtml;\n",
              "          element.appendChild(docLink);\n",
              "        }\n",
              "      </script>\n",
              "    </div>\n",
              "  </div>\n",
              "  "
            ]
          },
          "metadata": {},
          "execution_count": 4
        }
      ]
    },
    {
      "cell_type": "markdown",
      "source": [
        "Tak lupa kita tampilkan bagian akhir dari *dataset* tersebut."
      ],
      "metadata": {
        "id": "rux0QR5-MEs3"
      }
    },
    {
      "cell_type": "code",
      "source": [
        "df.tail()"
      ],
      "metadata": {
        "colab": {
          "base_uri": "https://localhost:8080/",
          "height": 386
        },
        "id": "Pp61pPad-cet",
        "outputId": "472fe55d-1dc9-4217-8f6a-dd7299201ea2"
      },
      "execution_count": 5,
      "outputs": [
        {
          "output_type": "execute_result",
          "data": {
            "text/plain": [
              "      customerID  gender  SeniorCitizen Partner Dependents  tenure  \\\n",
              "7038  6840-RESVB    Male              0     Yes        Yes      24   \n",
              "7039  2234-XADUH  Female              0     Yes        Yes      72   \n",
              "7040  4801-JZAZL  Female              0     Yes        Yes      11   \n",
              "7041  8361-LTMKD    Male              1     Yes         No       4   \n",
              "7042  3186-AJIEK    Male              0      No         No      66   \n",
              "\n",
              "     PhoneService     MultipleLines InternetService OnlineSecurity  ...  \\\n",
              "7038          Yes               Yes             DSL            Yes  ...   \n",
              "7039          Yes               Yes     Fiber optic             No  ...   \n",
              "7040           No  No phone service             DSL            Yes  ...   \n",
              "7041          Yes               Yes     Fiber optic             No  ...   \n",
              "7042          Yes                No     Fiber optic            Yes  ...   \n",
              "\n",
              "     DeviceProtection TechSupport StreamingTV StreamingMovies        Contract  \\\n",
              "7038              Yes         Yes         Yes             Yes        One year   \n",
              "7039              Yes          No         Yes             Yes        One year   \n",
              "7040               No          No          No              No  Month-to-month   \n",
              "7041               No          No          No              No  Month-to-month   \n",
              "7042              Yes         Yes         Yes             Yes        Two year   \n",
              "\n",
              "     PaperlessBilling              PaymentMethod MonthlyCharges  TotalCharges  \\\n",
              "7038              Yes               Mailed check          84.80        1990.5   \n",
              "7039              Yes    Credit card (automatic)         103.20        7362.9   \n",
              "7040              Yes           Electronic check          29.60        346.45   \n",
              "7041              Yes               Mailed check          74.40         306.6   \n",
              "7042              Yes  Bank transfer (automatic)         105.65        6844.5   \n",
              "\n",
              "     Churn  \n",
              "7038    No  \n",
              "7039    No  \n",
              "7040    No  \n",
              "7041   Yes  \n",
              "7042    No  \n",
              "\n",
              "[5 rows x 21 columns]"
            ],
            "text/html": [
              "\n",
              "  <div id=\"df-bf1c26ec-3746-4d3e-aa3b-5931fd71e463\">\n",
              "    <div class=\"colab-df-container\">\n",
              "      <div>\n",
              "<style scoped>\n",
              "    .dataframe tbody tr th:only-of-type {\n",
              "        vertical-align: middle;\n",
              "    }\n",
              "\n",
              "    .dataframe tbody tr th {\n",
              "        vertical-align: top;\n",
              "    }\n",
              "\n",
              "    .dataframe thead th {\n",
              "        text-align: right;\n",
              "    }\n",
              "</style>\n",
              "<table border=\"1\" class=\"dataframe\">\n",
              "  <thead>\n",
              "    <tr style=\"text-align: right;\">\n",
              "      <th></th>\n",
              "      <th>customerID</th>\n",
              "      <th>gender</th>\n",
              "      <th>SeniorCitizen</th>\n",
              "      <th>Partner</th>\n",
              "      <th>Dependents</th>\n",
              "      <th>tenure</th>\n",
              "      <th>PhoneService</th>\n",
              "      <th>MultipleLines</th>\n",
              "      <th>InternetService</th>\n",
              "      <th>OnlineSecurity</th>\n",
              "      <th>...</th>\n",
              "      <th>DeviceProtection</th>\n",
              "      <th>TechSupport</th>\n",
              "      <th>StreamingTV</th>\n",
              "      <th>StreamingMovies</th>\n",
              "      <th>Contract</th>\n",
              "      <th>PaperlessBilling</th>\n",
              "      <th>PaymentMethod</th>\n",
              "      <th>MonthlyCharges</th>\n",
              "      <th>TotalCharges</th>\n",
              "      <th>Churn</th>\n",
              "    </tr>\n",
              "  </thead>\n",
              "  <tbody>\n",
              "    <tr>\n",
              "      <th>7038</th>\n",
              "      <td>6840-RESVB</td>\n",
              "      <td>Male</td>\n",
              "      <td>0</td>\n",
              "      <td>Yes</td>\n",
              "      <td>Yes</td>\n",
              "      <td>24</td>\n",
              "      <td>Yes</td>\n",
              "      <td>Yes</td>\n",
              "      <td>DSL</td>\n",
              "      <td>Yes</td>\n",
              "      <td>...</td>\n",
              "      <td>Yes</td>\n",
              "      <td>Yes</td>\n",
              "      <td>Yes</td>\n",
              "      <td>Yes</td>\n",
              "      <td>One year</td>\n",
              "      <td>Yes</td>\n",
              "      <td>Mailed check</td>\n",
              "      <td>84.80</td>\n",
              "      <td>1990.5</td>\n",
              "      <td>No</td>\n",
              "    </tr>\n",
              "    <tr>\n",
              "      <th>7039</th>\n",
              "      <td>2234-XADUH</td>\n",
              "      <td>Female</td>\n",
              "      <td>0</td>\n",
              "      <td>Yes</td>\n",
              "      <td>Yes</td>\n",
              "      <td>72</td>\n",
              "      <td>Yes</td>\n",
              "      <td>Yes</td>\n",
              "      <td>Fiber optic</td>\n",
              "      <td>No</td>\n",
              "      <td>...</td>\n",
              "      <td>Yes</td>\n",
              "      <td>No</td>\n",
              "      <td>Yes</td>\n",
              "      <td>Yes</td>\n",
              "      <td>One year</td>\n",
              "      <td>Yes</td>\n",
              "      <td>Credit card (automatic)</td>\n",
              "      <td>103.20</td>\n",
              "      <td>7362.9</td>\n",
              "      <td>No</td>\n",
              "    </tr>\n",
              "    <tr>\n",
              "      <th>7040</th>\n",
              "      <td>4801-JZAZL</td>\n",
              "      <td>Female</td>\n",
              "      <td>0</td>\n",
              "      <td>Yes</td>\n",
              "      <td>Yes</td>\n",
              "      <td>11</td>\n",
              "      <td>No</td>\n",
              "      <td>No phone service</td>\n",
              "      <td>DSL</td>\n",
              "      <td>Yes</td>\n",
              "      <td>...</td>\n",
              "      <td>No</td>\n",
              "      <td>No</td>\n",
              "      <td>No</td>\n",
              "      <td>No</td>\n",
              "      <td>Month-to-month</td>\n",
              "      <td>Yes</td>\n",
              "      <td>Electronic check</td>\n",
              "      <td>29.60</td>\n",
              "      <td>346.45</td>\n",
              "      <td>No</td>\n",
              "    </tr>\n",
              "    <tr>\n",
              "      <th>7041</th>\n",
              "      <td>8361-LTMKD</td>\n",
              "      <td>Male</td>\n",
              "      <td>1</td>\n",
              "      <td>Yes</td>\n",
              "      <td>No</td>\n",
              "      <td>4</td>\n",
              "      <td>Yes</td>\n",
              "      <td>Yes</td>\n",
              "      <td>Fiber optic</td>\n",
              "      <td>No</td>\n",
              "      <td>...</td>\n",
              "      <td>No</td>\n",
              "      <td>No</td>\n",
              "      <td>No</td>\n",
              "      <td>No</td>\n",
              "      <td>Month-to-month</td>\n",
              "      <td>Yes</td>\n",
              "      <td>Mailed check</td>\n",
              "      <td>74.40</td>\n",
              "      <td>306.6</td>\n",
              "      <td>Yes</td>\n",
              "    </tr>\n",
              "    <tr>\n",
              "      <th>7042</th>\n",
              "      <td>3186-AJIEK</td>\n",
              "      <td>Male</td>\n",
              "      <td>0</td>\n",
              "      <td>No</td>\n",
              "      <td>No</td>\n",
              "      <td>66</td>\n",
              "      <td>Yes</td>\n",
              "      <td>No</td>\n",
              "      <td>Fiber optic</td>\n",
              "      <td>Yes</td>\n",
              "      <td>...</td>\n",
              "      <td>Yes</td>\n",
              "      <td>Yes</td>\n",
              "      <td>Yes</td>\n",
              "      <td>Yes</td>\n",
              "      <td>Two year</td>\n",
              "      <td>Yes</td>\n",
              "      <td>Bank transfer (automatic)</td>\n",
              "      <td>105.65</td>\n",
              "      <td>6844.5</td>\n",
              "      <td>No</td>\n",
              "    </tr>\n",
              "  </tbody>\n",
              "</table>\n",
              "<p>5 rows × 21 columns</p>\n",
              "</div>\n",
              "      <button class=\"colab-df-convert\" onclick=\"convertToInteractive('df-bf1c26ec-3746-4d3e-aa3b-5931fd71e463')\"\n",
              "              title=\"Convert this dataframe to an interactive table.\"\n",
              "              style=\"display:none;\">\n",
              "        \n",
              "  <svg xmlns=\"http://www.w3.org/2000/svg\" height=\"24px\"viewBox=\"0 0 24 24\"\n",
              "       width=\"24px\">\n",
              "    <path d=\"M0 0h24v24H0V0z\" fill=\"none\"/>\n",
              "    <path d=\"M18.56 5.44l.94 2.06.94-2.06 2.06-.94-2.06-.94-.94-2.06-.94 2.06-2.06.94zm-11 1L8.5 8.5l.94-2.06 2.06-.94-2.06-.94L8.5 2.5l-.94 2.06-2.06.94zm10 10l.94 2.06.94-2.06 2.06-.94-2.06-.94-.94-2.06-.94 2.06-2.06.94z\"/><path d=\"M17.41 7.96l-1.37-1.37c-.4-.4-.92-.59-1.43-.59-.52 0-1.04.2-1.43.59L10.3 9.45l-7.72 7.72c-.78.78-.78 2.05 0 2.83L4 21.41c.39.39.9.59 1.41.59.51 0 1.02-.2 1.41-.59l7.78-7.78 2.81-2.81c.8-.78.8-2.07 0-2.86zM5.41 20L4 18.59l7.72-7.72 1.47 1.35L5.41 20z\"/>\n",
              "  </svg>\n",
              "      </button>\n",
              "      \n",
              "  <style>\n",
              "    .colab-df-container {\n",
              "      display:flex;\n",
              "      flex-wrap:wrap;\n",
              "      gap: 12px;\n",
              "    }\n",
              "\n",
              "    .colab-df-convert {\n",
              "      background-color: #E8F0FE;\n",
              "      border: none;\n",
              "      border-radius: 50%;\n",
              "      cursor: pointer;\n",
              "      display: none;\n",
              "      fill: #1967D2;\n",
              "      height: 32px;\n",
              "      padding: 0 0 0 0;\n",
              "      width: 32px;\n",
              "    }\n",
              "\n",
              "    .colab-df-convert:hover {\n",
              "      background-color: #E2EBFA;\n",
              "      box-shadow: 0px 1px 2px rgba(60, 64, 67, 0.3), 0px 1px 3px 1px rgba(60, 64, 67, 0.15);\n",
              "      fill: #174EA6;\n",
              "    }\n",
              "\n",
              "    [theme=dark] .colab-df-convert {\n",
              "      background-color: #3B4455;\n",
              "      fill: #D2E3FC;\n",
              "    }\n",
              "\n",
              "    [theme=dark] .colab-df-convert:hover {\n",
              "      background-color: #434B5C;\n",
              "      box-shadow: 0px 1px 3px 1px rgba(0, 0, 0, 0.15);\n",
              "      filter: drop-shadow(0px 1px 2px rgba(0, 0, 0, 0.3));\n",
              "      fill: #FFFFFF;\n",
              "    }\n",
              "  </style>\n",
              "\n",
              "      <script>\n",
              "        const buttonEl =\n",
              "          document.querySelector('#df-bf1c26ec-3746-4d3e-aa3b-5931fd71e463 button.colab-df-convert');\n",
              "        buttonEl.style.display =\n",
              "          google.colab.kernel.accessAllowed ? 'block' : 'none';\n",
              "\n",
              "        async function convertToInteractive(key) {\n",
              "          const element = document.querySelector('#df-bf1c26ec-3746-4d3e-aa3b-5931fd71e463');\n",
              "          const dataTable =\n",
              "            await google.colab.kernel.invokeFunction('convertToInteractive',\n",
              "                                                     [key], {});\n",
              "          if (!dataTable) return;\n",
              "\n",
              "          const docLinkHtml = 'Like what you see? Visit the ' +\n",
              "            '<a target=\"_blank\" href=https://colab.research.google.com/notebooks/data_table.ipynb>data table notebook</a>'\n",
              "            + ' to learn more about interactive tables.';\n",
              "          element.innerHTML = '';\n",
              "          dataTable['output_type'] = 'display_data';\n",
              "          await google.colab.output.renderOutput(dataTable, element);\n",
              "          const docLink = document.createElement('div');\n",
              "          docLink.innerHTML = docLinkHtml;\n",
              "          element.appendChild(docLink);\n",
              "        }\n",
              "      </script>\n",
              "    </div>\n",
              "  </div>\n",
              "  "
            ]
          },
          "metadata": {},
          "execution_count": 5
        }
      ]
    },
    {
      "cell_type": "markdown",
      "source": [
        "### *Exploratory Data Analysis*"
      ],
      "metadata": {
        "id": "Pn7zMcBoMGg-"
      }
    },
    {
      "cell_type": "markdown",
      "source": [
        "Pertama-tama kita akan melihat terlebih dahulu bagaimana data-data yang kita miliki di dalam *dataset* yang sudah dimuat dengan perintah `.info()`:"
      ],
      "metadata": {
        "id": "lUYXfxNwMH5H"
      }
    },
    {
      "cell_type": "code",
      "source": [
        "df.info()"
      ],
      "metadata": {
        "colab": {
          "base_uri": "https://localhost:8080/"
        },
        "id": "k2RZBvaC-eY1",
        "outputId": "dff1f831-2ca6-4b1f-847d-8e23eec800f3"
      },
      "execution_count": 6,
      "outputs": [
        {
          "output_type": "stream",
          "name": "stdout",
          "text": [
            "<class 'pandas.core.frame.DataFrame'>\n",
            "RangeIndex: 7043 entries, 0 to 7042\n",
            "Data columns (total 21 columns):\n",
            " #   Column            Non-Null Count  Dtype  \n",
            "---  ------            --------------  -----  \n",
            " 0   customerID        7043 non-null   object \n",
            " 1   gender            7043 non-null   object \n",
            " 2   SeniorCitizen     7043 non-null   int64  \n",
            " 3   Partner           7043 non-null   object \n",
            " 4   Dependents        7043 non-null   object \n",
            " 5   tenure            7043 non-null   int64  \n",
            " 6   PhoneService      7043 non-null   object \n",
            " 7   MultipleLines     7043 non-null   object \n",
            " 8   InternetService   7043 non-null   object \n",
            " 9   OnlineSecurity    7043 non-null   object \n",
            " 10  OnlineBackup      7043 non-null   object \n",
            " 11  DeviceProtection  7043 non-null   object \n",
            " 12  TechSupport       7043 non-null   object \n",
            " 13  StreamingTV       7043 non-null   object \n",
            " 14  StreamingMovies   7043 non-null   object \n",
            " 15  Contract          7043 non-null   object \n",
            " 16  PaperlessBilling  7043 non-null   object \n",
            " 17  PaymentMethod     7043 non-null   object \n",
            " 18  MonthlyCharges    7043 non-null   float64\n",
            " 19  TotalCharges      7043 non-null   object \n",
            " 20  Churn             7043 non-null   object \n",
            "dtypes: float64(1), int64(2), object(18)\n",
            "memory usage: 1.1+ MB\n"
          ]
        }
      ]
    },
    {
      "cell_type": "markdown",
      "source": [
        "Dari perintah di atas, kita dapat mengetahui bahwa *dataset* yang akan kita gunakan mengandung 7043 data yang tersusun dari 21 kolom yang berbeda. Namun pada *dataset* ini terdapat suatu keanehan, yaitu kolom `TotalCharges` yang memiliki tipe data `object` alih-alih tipe data `float64`. Kita akan lihat terlebih dahulu data pada kolom `TotalCharges`."
      ],
      "metadata": {
        "id": "IgIKqwc3MIs_"
      }
    },
    {
      "cell_type": "code",
      "source": [
        "df.TotalCharges"
      ],
      "metadata": {
        "colab": {
          "base_uri": "https://localhost:8080/"
        },
        "id": "NQ4lXqbcMl5H",
        "outputId": "40ed2a0a-b34c-46d8-fe2c-cba42f857e41"
      },
      "execution_count": 7,
      "outputs": [
        {
          "output_type": "execute_result",
          "data": {
            "text/plain": [
              "0         29.85\n",
              "1        1889.5\n",
              "2        108.15\n",
              "3       1840.75\n",
              "4        151.65\n",
              "         ...   \n",
              "7038     1990.5\n",
              "7039     7362.9\n",
              "7040     346.45\n",
              "7041      306.6\n",
              "7042     6844.5\n",
              "Name: TotalCharges, Length: 7043, dtype: object"
            ]
          },
          "metadata": {},
          "execution_count": 7
        }
      ]
    },
    {
      "cell_type": "markdown",
      "source": [
        "Tidak terlihat adanya keanehan pada data di atas, jadi kemungkinan besarnya, ada nilai yang hilang namun diganti menjadi karakter lain. Kita akan ubah nilai tersebut menjadi nilai `null` dan mengubah tipe data kolom `TotalCharges` menjadi `float`"
      ],
      "metadata": {
        "id": "cpugzWHUMoRG"
      }
    },
    {
      "cell_type": "code",
      "source": [
        "df[\"TotalCharges\"] = df[\"TotalCharges\"].replace(\" \", np.nan).astype(\"float\")"
      ],
      "metadata": {
        "id": "F4gHobedFR9N"
      },
      "execution_count": 8,
      "outputs": []
    },
    {
      "cell_type": "code",
      "source": [
        "df[[\"customerID\", \"gender\", \"Partner\", \"Dependents\", \"PhoneService\", \"MultipleLines\", \"InternetService\", \"OnlineSecurity\", \"OnlineBackup\", \"DeviceProtection\", \"TechSupport\", \"StreamingTV\", \"StreamingMovies\", \"Contract\", \"PaperlessBilling\", \"PaymentMethod\", \"Churn\"]] = df[[\"customerID\", \"gender\", \"Partner\", \"Dependents\", \"PhoneService\", \"MultipleLines\", \"InternetService\", \"OnlineSecurity\", \"OnlineBackup\", \"DeviceProtection\", \"TechSupport\", \"StreamingTV\", \"StreamingMovies\", \"Contract\", \"PaperlessBilling\", \"PaymentMethod\", \"Churn\"]].astype(\"string\")"
      ],
      "metadata": {
        "id": "QNUSdLWnisLg"
      },
      "execution_count": 9,
      "outputs": []
    },
    {
      "cell_type": "markdown",
      "source": [
        "Kemudian kita akan periksa kembali deskripsi data yang kita miliki."
      ],
      "metadata": {
        "id": "tGfIoS1yM9n4"
      }
    },
    {
      "cell_type": "code",
      "source": [
        "df.info()"
      ],
      "metadata": {
        "colab": {
          "base_uri": "https://localhost:8080/"
        },
        "id": "OGrZx5cFH_vQ",
        "outputId": "b013b17f-0a2c-4d92-fb0e-0ad1e8e685e9"
      },
      "execution_count": 10,
      "outputs": [
        {
          "output_type": "stream",
          "name": "stdout",
          "text": [
            "<class 'pandas.core.frame.DataFrame'>\n",
            "RangeIndex: 7043 entries, 0 to 7042\n",
            "Data columns (total 21 columns):\n",
            " #   Column            Non-Null Count  Dtype  \n",
            "---  ------            --------------  -----  \n",
            " 0   customerID        7043 non-null   string \n",
            " 1   gender            7043 non-null   string \n",
            " 2   SeniorCitizen     7043 non-null   int64  \n",
            " 3   Partner           7043 non-null   string \n",
            " 4   Dependents        7043 non-null   string \n",
            " 5   tenure            7043 non-null   int64  \n",
            " 6   PhoneService      7043 non-null   string \n",
            " 7   MultipleLines     7043 non-null   string \n",
            " 8   InternetService   7043 non-null   string \n",
            " 9   OnlineSecurity    7043 non-null   string \n",
            " 10  OnlineBackup      7043 non-null   string \n",
            " 11  DeviceProtection  7043 non-null   string \n",
            " 12  TechSupport       7043 non-null   string \n",
            " 13  StreamingTV       7043 non-null   string \n",
            " 14  StreamingMovies   7043 non-null   string \n",
            " 15  Contract          7043 non-null   string \n",
            " 16  PaperlessBilling  7043 non-null   string \n",
            " 17  PaymentMethod     7043 non-null   string \n",
            " 18  MonthlyCharges    7043 non-null   float64\n",
            " 19  TotalCharges      7032 non-null   float64\n",
            " 20  Churn             7043 non-null   string \n",
            "dtypes: float64(2), int64(2), string(17)\n",
            "memory usage: 1.1 MB\n"
          ]
        }
      ]
    },
    {
      "cell_type": "markdown",
      "source": [
        "Dari deskripsi data, kita ketahui bahwa *dataset* terdiri dari 17 buah kolom yang memiliki tipe data `string` dan 4 buah kolom yang memiliki tipe data `int` dan `float`.\n",
        "\n",
        "Kemudian kita akan melihat bagaimana persebaran data matematis dari *dataset* yang kita miliki."
      ],
      "metadata": {
        "id": "Vsj35BdENDcg"
      }
    },
    {
      "cell_type": "code",
      "source": [
        "df.describe().T"
      ],
      "metadata": {
        "colab": {
          "base_uri": "https://localhost:8080/",
          "height": 175
        },
        "id": "KURBvhCi_P5U",
        "outputId": "974d0131-eec1-4c2f-8c89-395e089c0c98"
      },
      "execution_count": 11,
      "outputs": [
        {
          "output_type": "execute_result",
          "data": {
            "text/plain": [
              "                 count         mean          std    min     25%       50%  \\\n",
              "SeniorCitizen   7043.0     0.162147     0.368612   0.00    0.00     0.000   \n",
              "tenure          7043.0    32.371149    24.559481   0.00    9.00    29.000   \n",
              "MonthlyCharges  7043.0    64.761692    30.090047  18.25   35.50    70.350   \n",
              "TotalCharges    7032.0  2283.300441  2266.771362  18.80  401.45  1397.475   \n",
              "\n",
              "                      75%      max  \n",
              "SeniorCitizen      0.0000     1.00  \n",
              "tenure            55.0000    72.00  \n",
              "MonthlyCharges    89.8500   118.75  \n",
              "TotalCharges    3794.7375  8684.80  "
            ],
            "text/html": [
              "\n",
              "  <div id=\"df-a0818596-0c47-4718-9e95-60f33f3b7b53\">\n",
              "    <div class=\"colab-df-container\">\n",
              "      <div>\n",
              "<style scoped>\n",
              "    .dataframe tbody tr th:only-of-type {\n",
              "        vertical-align: middle;\n",
              "    }\n",
              "\n",
              "    .dataframe tbody tr th {\n",
              "        vertical-align: top;\n",
              "    }\n",
              "\n",
              "    .dataframe thead th {\n",
              "        text-align: right;\n",
              "    }\n",
              "</style>\n",
              "<table border=\"1\" class=\"dataframe\">\n",
              "  <thead>\n",
              "    <tr style=\"text-align: right;\">\n",
              "      <th></th>\n",
              "      <th>count</th>\n",
              "      <th>mean</th>\n",
              "      <th>std</th>\n",
              "      <th>min</th>\n",
              "      <th>25%</th>\n",
              "      <th>50%</th>\n",
              "      <th>75%</th>\n",
              "      <th>max</th>\n",
              "    </tr>\n",
              "  </thead>\n",
              "  <tbody>\n",
              "    <tr>\n",
              "      <th>SeniorCitizen</th>\n",
              "      <td>7043.0</td>\n",
              "      <td>0.162147</td>\n",
              "      <td>0.368612</td>\n",
              "      <td>0.00</td>\n",
              "      <td>0.00</td>\n",
              "      <td>0.000</td>\n",
              "      <td>0.0000</td>\n",
              "      <td>1.00</td>\n",
              "    </tr>\n",
              "    <tr>\n",
              "      <th>tenure</th>\n",
              "      <td>7043.0</td>\n",
              "      <td>32.371149</td>\n",
              "      <td>24.559481</td>\n",
              "      <td>0.00</td>\n",
              "      <td>9.00</td>\n",
              "      <td>29.000</td>\n",
              "      <td>55.0000</td>\n",
              "      <td>72.00</td>\n",
              "    </tr>\n",
              "    <tr>\n",
              "      <th>MonthlyCharges</th>\n",
              "      <td>7043.0</td>\n",
              "      <td>64.761692</td>\n",
              "      <td>30.090047</td>\n",
              "      <td>18.25</td>\n",
              "      <td>35.50</td>\n",
              "      <td>70.350</td>\n",
              "      <td>89.8500</td>\n",
              "      <td>118.75</td>\n",
              "    </tr>\n",
              "    <tr>\n",
              "      <th>TotalCharges</th>\n",
              "      <td>7032.0</td>\n",
              "      <td>2283.300441</td>\n",
              "      <td>2266.771362</td>\n",
              "      <td>18.80</td>\n",
              "      <td>401.45</td>\n",
              "      <td>1397.475</td>\n",
              "      <td>3794.7375</td>\n",
              "      <td>8684.80</td>\n",
              "    </tr>\n",
              "  </tbody>\n",
              "</table>\n",
              "</div>\n",
              "      <button class=\"colab-df-convert\" onclick=\"convertToInteractive('df-a0818596-0c47-4718-9e95-60f33f3b7b53')\"\n",
              "              title=\"Convert this dataframe to an interactive table.\"\n",
              "              style=\"display:none;\">\n",
              "        \n",
              "  <svg xmlns=\"http://www.w3.org/2000/svg\" height=\"24px\"viewBox=\"0 0 24 24\"\n",
              "       width=\"24px\">\n",
              "    <path d=\"M0 0h24v24H0V0z\" fill=\"none\"/>\n",
              "    <path d=\"M18.56 5.44l.94 2.06.94-2.06 2.06-.94-2.06-.94-.94-2.06-.94 2.06-2.06.94zm-11 1L8.5 8.5l.94-2.06 2.06-.94-2.06-.94L8.5 2.5l-.94 2.06-2.06.94zm10 10l.94 2.06.94-2.06 2.06-.94-2.06-.94-.94-2.06-.94 2.06-2.06.94z\"/><path d=\"M17.41 7.96l-1.37-1.37c-.4-.4-.92-.59-1.43-.59-.52 0-1.04.2-1.43.59L10.3 9.45l-7.72 7.72c-.78.78-.78 2.05 0 2.83L4 21.41c.39.39.9.59 1.41.59.51 0 1.02-.2 1.41-.59l7.78-7.78 2.81-2.81c.8-.78.8-2.07 0-2.86zM5.41 20L4 18.59l7.72-7.72 1.47 1.35L5.41 20z\"/>\n",
              "  </svg>\n",
              "      </button>\n",
              "      \n",
              "  <style>\n",
              "    .colab-df-container {\n",
              "      display:flex;\n",
              "      flex-wrap:wrap;\n",
              "      gap: 12px;\n",
              "    }\n",
              "\n",
              "    .colab-df-convert {\n",
              "      background-color: #E8F0FE;\n",
              "      border: none;\n",
              "      border-radius: 50%;\n",
              "      cursor: pointer;\n",
              "      display: none;\n",
              "      fill: #1967D2;\n",
              "      height: 32px;\n",
              "      padding: 0 0 0 0;\n",
              "      width: 32px;\n",
              "    }\n",
              "\n",
              "    .colab-df-convert:hover {\n",
              "      background-color: #E2EBFA;\n",
              "      box-shadow: 0px 1px 2px rgba(60, 64, 67, 0.3), 0px 1px 3px 1px rgba(60, 64, 67, 0.15);\n",
              "      fill: #174EA6;\n",
              "    }\n",
              "\n",
              "    [theme=dark] .colab-df-convert {\n",
              "      background-color: #3B4455;\n",
              "      fill: #D2E3FC;\n",
              "    }\n",
              "\n",
              "    [theme=dark] .colab-df-convert:hover {\n",
              "      background-color: #434B5C;\n",
              "      box-shadow: 0px 1px 3px 1px rgba(0, 0, 0, 0.15);\n",
              "      filter: drop-shadow(0px 1px 2px rgba(0, 0, 0, 0.3));\n",
              "      fill: #FFFFFF;\n",
              "    }\n",
              "  </style>\n",
              "\n",
              "      <script>\n",
              "        const buttonEl =\n",
              "          document.querySelector('#df-a0818596-0c47-4718-9e95-60f33f3b7b53 button.colab-df-convert');\n",
              "        buttonEl.style.display =\n",
              "          google.colab.kernel.accessAllowed ? 'block' : 'none';\n",
              "\n",
              "        async function convertToInteractive(key) {\n",
              "          const element = document.querySelector('#df-a0818596-0c47-4718-9e95-60f33f3b7b53');\n",
              "          const dataTable =\n",
              "            await google.colab.kernel.invokeFunction('convertToInteractive',\n",
              "                                                     [key], {});\n",
              "          if (!dataTable) return;\n",
              "\n",
              "          const docLinkHtml = 'Like what you see? Visit the ' +\n",
              "            '<a target=\"_blank\" href=https://colab.research.google.com/notebooks/data_table.ipynb>data table notebook</a>'\n",
              "            + ' to learn more about interactive tables.';\n",
              "          element.innerHTML = '';\n",
              "          dataTable['output_type'] = 'display_data';\n",
              "          await google.colab.output.renderOutput(dataTable, element);\n",
              "          const docLink = document.createElement('div');\n",
              "          docLink.innerHTML = docLinkHtml;\n",
              "          element.appendChild(docLink);\n",
              "        }\n",
              "      </script>\n",
              "    </div>\n",
              "  </div>\n",
              "  "
            ]
          },
          "metadata": {},
          "execution_count": 11
        }
      ]
    },
    {
      "cell_type": "markdown",
      "source": [
        "Dari eksekusi perintah di atas kita dapat menyimpulkan beberapa hal berikut:\n",
        "\n",
        "* Kolom `SeniorCitizen` merupakan kolom kategorik yang sudah diberlakukan *encoding*,\n",
        "\n",
        "* Masa aktif pelayanan tercatat berada pada rentang 0 sampai dengan 72 bulan, dengan rata-rata masa aktif pelayanan selama sekitar 32 bulan,\n",
        "\n",
        "* Tagihan bulanan tercatat pada rentang 18.25 hingga 118.75 dengan rata-rata tagihan bulanan sebesar 64.76,\n",
        "\n",
        "* Tagihan keseluruhan tercatat pada rentang 18.8 hingga 8684.8 dengan rata-rata tagihan keseluruhan sebesar 2283.3\n",
        "\n",
        "Kemudian kita akan buat visualisasi untuk melihat persebaran data dari setiap kolom yang kita miliki. Pertama-tama kita akan lihat bagaimana persebaran jenis kelamin pelanggan."
      ],
      "metadata": {
        "id": "J2_6r7xNNeBY"
      }
    },
    {
      "cell_type": "code",
      "source": [
        "df.gender.value_counts().sort_index()"
      ],
      "metadata": {
        "colab": {
          "base_uri": "https://localhost:8080/"
        },
        "id": "jgL7AXpe-gua",
        "outputId": "f77d3115-e038-48a2-c711-38090c5f0fca"
      },
      "execution_count": 12,
      "outputs": [
        {
          "output_type": "execute_result",
          "data": {
            "text/plain": [
              "Female    3488\n",
              "Male      3555\n",
              "Name: gender, dtype: Int64"
            ]
          },
          "metadata": {},
          "execution_count": 12
        }
      ]
    },
    {
      "cell_type": "markdown",
      "source": [
        "Kemudian kita akan buat visualisasinya dengan menggunakan grafik batang vertikal."
      ],
      "metadata": {
        "id": "_tRfbGLgOfTd"
      }
    },
    {
      "cell_type": "code",
      "source": [
        "plt.figure(figsize = (7, 7))\n",
        "\n",
        "height = df.gender.value_counts().sort_index()\n",
        "\n",
        "bars = (df.gender.value_counts().sort_index().index)\n",
        "x_pos = np.arange(len(bars))\n",
        "\n",
        "plt.bar(x_pos, height)\n",
        "plt.xticks(x_pos, bars)\n",
        "plt.xlabel(\"Gender\", fontweight = \"bold\")\n",
        "\n",
        "plt.show()"
      ],
      "metadata": {
        "colab": {
          "base_uri": "https://localhost:8080/",
          "height": 442
        },
        "id": "0qCWs-wAA_dJ",
        "outputId": "38da5174-7317-45c0-f5eb-68d5acec138c"
      },
      "execution_count": 13,
      "outputs": [
        {
          "output_type": "display_data",
          "data": {
            "text/plain": [
              "<Figure size 504x504 with 1 Axes>"
            ],
            "image/png": "[encoded data removed]"
          },
          "metadata": {
            "needs_background": "light"
          }
        }
      ]
    },
    {
      "cell_type": "markdown",
      "source": [
        "Dari grafik tersebut kita dapat melihat bahwa jumlah pelanggan wanita dan pria kurang-lebih sama banyaknya.\n",
        "\n",
        "Kemudian kita akan melihat data klasifikasi pelanggan senior."
      ],
      "metadata": {
        "id": "E3jGb8WHV9zt"
      }
    },
    {
      "cell_type": "code",
      "source": [
        "df.SeniorCitizen.value_counts().sort_index()"
      ],
      "metadata": {
        "colab": {
          "base_uri": "https://localhost:8080/"
        },
        "id": "cbBa8NEJ-7ui",
        "outputId": "96d19182-cabc-438f-b7b5-ad6e5195099f"
      },
      "execution_count": 14,
      "outputs": [
        {
          "output_type": "execute_result",
          "data": {
            "text/plain": [
              "0    5901\n",
              "1    1142\n",
              "Name: SeniorCitizen, dtype: int64"
            ]
          },
          "metadata": {},
          "execution_count": 14
        }
      ]
    },
    {
      "cell_type": "markdown",
      "source": [
        "Kemudian kita akan buat visualisasinya dengan menggunakan grafik batang vertikal."
      ],
      "metadata": {
        "id": "ALYwcE8CWPUV"
      }
    },
    {
      "cell_type": "code",
      "source": [
        "plt.figure(figsize = (7, 7))\n",
        "\n",
        "height = df.SeniorCitizen.value_counts().sort_index()\n",
        "\n",
        "bars = (\"No\", \"Yes\")\n",
        "x_pos = np.arange(len(bars))\n",
        "\n",
        "plt.bar(x_pos, height)\n",
        "plt.xticks(x_pos, bars)\n",
        "plt.xlabel(\"Senior Citizen\", fontweight = \"bold\")\n",
        "\n",
        "plt.show()"
      ],
      "metadata": {
        "colab": {
          "base_uri": "https://localhost:8080/",
          "height": 442
        },
        "id": "AR9A6wkbBArG",
        "outputId": "97b279d6-814f-4e3c-af10-64d26d5bab3c"
      },
      "execution_count": 15,
      "outputs": [
        {
          "output_type": "display_data",
          "data": {
            "text/plain": [
              "<Figure size 504x504 with 1 Axes>"
            ],
            "image/png": "[encoded data removed]"
          },
          "metadata": {
            "needs_background": "light"
          }
        }
      ]
    },
    {
      "cell_type": "markdown",
      "source": [
        "Dari grafik tersebut kita dapat melihat bahwa jumlah pelanggan senior jauh lebih sedikit dari jumlah keseluruhan pelanggan.\n",
        "\n",
        "Kemudian kita akan melihat data klasifikasi pasangan."
      ],
      "metadata": {
        "id": "iwQVDFpyW7mG"
      }
    },
    {
      "cell_type": "code",
      "source": [
        "df.Partner.value_counts().sort_index()"
      ],
      "metadata": {
        "colab": {
          "base_uri": "https://localhost:8080/"
        },
        "id": "DWioXTEI_ICs",
        "outputId": "90eb7683-f7e2-4d06-c767-adff1240e104"
      },
      "execution_count": 16,
      "outputs": [
        {
          "output_type": "execute_result",
          "data": {
            "text/plain": [
              "No     3641\n",
              "Yes    3402\n",
              "Name: Partner, dtype: Int64"
            ]
          },
          "metadata": {},
          "execution_count": 16
        }
      ]
    },
    {
      "cell_type": "markdown",
      "source": [
        "Kemudian kita akan buat visualisasinya dengan menggunakan grafik batang vertikal."
      ],
      "metadata": {
        "id": "HZUiJFIuWb9r"
      }
    },
    {
      "cell_type": "code",
      "source": [
        "plt.figure(figsize = (7, 7))\n",
        "\n",
        "height = df.Partner.value_counts().sort_index()\n",
        "\n",
        "bars = (df.Partner.value_counts().sort_index().index)\n",
        "x_pos = np.arange(len(bars))\n",
        "\n",
        "plt.bar(x_pos, height)\n",
        "plt.xticks(x_pos, bars)\n",
        "plt.xlabel(\"Partner\", fontweight = \"bold\")\n",
        "\n",
        "plt.show()"
      ],
      "metadata": {
        "colab": {
          "base_uri": "https://localhost:8080/",
          "height": 442
        },
        "id": "XUQagS8EBB1v",
        "outputId": "9d85c778-2891-4d12-8e4f-a5ac126c6535"
      },
      "execution_count": 17,
      "outputs": [
        {
          "output_type": "display_data",
          "data": {
            "text/plain": [
              "<Figure size 504x504 with 1 Axes>"
            ],
            "image/png": "[encoded data removed]"
          },
          "metadata": {
            "needs_background": "light"
          }
        }
      ]
    },
    {
      "cell_type": "markdown",
      "source": [
        "Dari grafik tersebut kita dapat melihat bahwa jumlah pelanggan yang tidak memiliki pasangan sedikit lebih banyak dari pelanggan yang memiliki pasangan.\n",
        "\n",
        "Kemudian kita akan melihat data klasifikasi dependensi pelanggan."
      ],
      "metadata": {
        "id": "XTN4CGbAXLWW"
      }
    },
    {
      "cell_type": "code",
      "source": [
        "df.Dependents.value_counts().sort_index()"
      ],
      "metadata": {
        "colab": {
          "base_uri": "https://localhost:8080/"
        },
        "id": "xpLmnh9HDBWr",
        "outputId": "b88a7bdd-8cd1-49fc-9adc-8175321cddda"
      },
      "execution_count": 18,
      "outputs": [
        {
          "output_type": "execute_result",
          "data": {
            "text/plain": [
              "No     4933\n",
              "Yes    2110\n",
              "Name: Dependents, dtype: Int64"
            ]
          },
          "metadata": {},
          "execution_count": 18
        }
      ]
    },
    {
      "cell_type": "markdown",
      "source": [
        "Kemudian kita akan buat visualisasinya dengan menggunakan grafik batang vertikal."
      ],
      "metadata": {
        "id": "4dcLqE94WdS7"
      }
    },
    {
      "cell_type": "code",
      "source": [
        "plt.figure(figsize = (7, 7))\n",
        "\n",
        "height = df.Dependents.value_counts().sort_index()\n",
        "\n",
        "bars = (df.Dependents.value_counts().sort_index().index)\n",
        "x_pos = np.arange(len(bars))\n",
        "\n",
        "plt.bar(x_pos, height)\n",
        "plt.xticks(x_pos, bars)\n",
        "plt.xlabel(\"Dependents\", fontweight = \"bold\")\n",
        "\n",
        "plt.show()"
      ],
      "metadata": {
        "colab": {
          "base_uri": "https://localhost:8080/",
          "height": 442
        },
        "id": "1RCD9kSiDBVR",
        "outputId": "c5cc494a-c21f-413b-e680-de02d97dcec4"
      },
      "execution_count": 19,
      "outputs": [
        {
          "output_type": "display_data",
          "data": {
            "text/plain": [
              "<Figure size 504x504 with 1 Axes>"
            ],
            "image/png": "[encoded data removed]"
          },
          "metadata": {
            "needs_background": "light"
          }
        }
      ]
    },
    {
      "cell_type": "markdown",
      "source": [
        "Dari grafik tersebut kita dapat melihat bahwa mayoritas pelanggan sudah mandiri secara ekonomi.\n",
        "\n",
        "Kemudian kita akan melihat grafik distribusi masa aktif layanan."
      ],
      "metadata": {
        "id": "8UI1TakbXfp3"
      }
    },
    {
      "cell_type": "code",
      "source": [
        "plt.figure(figsize = (7, 7))\n",
        "\n",
        "sns.histplot(df.tenure, bins = 25, kde = True)\n",
        "plt.title(\"Tenure Distribution\")\n",
        "\n",
        "plt.show()"
      ],
      "metadata": {
        "colab": {
          "base_uri": "https://localhost:8080/",
          "height": 458
        },
        "id": "rOVzG0lZDInK",
        "outputId": "fe5497e2-7943-4f4d-bf01-c3629c7b996a"
      },
      "execution_count": 20,
      "outputs": [
        {
          "output_type": "display_data",
          "data": {
            "text/plain": [
              "<Figure size 504x504 with 1 Axes>"
            ],
            "image/png": "[encoded data removed]"
          },
          "metadata": {
            "needs_background": "light"
          }
        }
      ]
    },
    {
      "cell_type": "markdown",
      "source": [
        "Dari grafik tersebut kita dapat melihat bahwa mayoritas pelanggan yang tercatat merupakan pelanggan tetap yang sudah sangat lama menggunakan pelayanan dan juga pelanggan baru.\n",
        "\n",
        "Kemudian kita akan melihat data klasifikasi penggunaan layanan telepon."
      ],
      "metadata": {
        "id": "-EhxjUNGXuTv"
      }
    },
    {
      "cell_type": "code",
      "source": [
        "df.PhoneService.value_counts().sort_index()"
      ],
      "metadata": {
        "colab": {
          "base_uri": "https://localhost:8080/"
        },
        "id": "mUD_T2uP_Mrz",
        "outputId": "56f6d0c7-1ccf-4fb8-e6d1-db8550b88c5a"
      },
      "execution_count": 21,
      "outputs": [
        {
          "output_type": "execute_result",
          "data": {
            "text/plain": [
              "No      682\n",
              "Yes    6361\n",
              "Name: PhoneService, dtype: Int64"
            ]
          },
          "metadata": {},
          "execution_count": 21
        }
      ]
    },
    {
      "cell_type": "markdown",
      "source": [
        "Kemudian kita akan buat visualisasinya dengan menggunakan grafik batang vertikal."
      ],
      "metadata": {
        "id": "X6mCE84lWfoD"
      }
    },
    {
      "cell_type": "code",
      "source": [
        "plt.figure(figsize = (7, 7))\n",
        "\n",
        "height = df.PhoneService.value_counts().sort_index()\n",
        "\n",
        "bars = (df.PhoneService.value_counts().sort_index().index)\n",
        "x_pos = np.arange(len(bars))\n",
        "\n",
        "plt.bar(x_pos, height)\n",
        "plt.xticks(x_pos, bars)\n",
        "plt.xlabel(\"Phone Service\", fontweight = \"bold\")\n",
        "\n",
        "plt.show()"
      ],
      "metadata": {
        "colab": {
          "base_uri": "https://localhost:8080/",
          "height": 442
        },
        "id": "riNpp_QABCqm",
        "outputId": "3716103e-249c-4450-8485-efa129da0fef"
      },
      "execution_count": 22,
      "outputs": [
        {
          "output_type": "display_data",
          "data": {
            "text/plain": [
              "<Figure size 504x504 with 1 Axes>"
            ],
            "image/png": "[encoded data removed]"
          },
          "metadata": {
            "needs_background": "light"
          }
        }
      ]
    },
    {
      "cell_type": "markdown",
      "source": [
        "Dari grafik tersebut kita dapat melihat bahwa mayoritas pelanggan menggunakan pelayanan telepon.\n",
        "\n",
        "Kemudian kita akan melihat data pelanggan dengan jumlah jaringan telepon lebih dari satu."
      ],
      "metadata": {
        "id": "w7OXGrTdX_XA"
      }
    },
    {
      "cell_type": "code",
      "source": [
        "df.MultipleLines.value_counts().sort_index()"
      ],
      "metadata": {
        "colab": {
          "base_uri": "https://localhost:8080/"
        },
        "id": "kPqQEhCK_ZB5",
        "outputId": "6e6f7a1a-8faf-411a-bd0f-b37a929682ee"
      },
      "execution_count": 23,
      "outputs": [
        {
          "output_type": "execute_result",
          "data": {
            "text/plain": [
              "No                  3390\n",
              "No phone service     682\n",
              "Yes                 2971\n",
              "Name: MultipleLines, dtype: Int64"
            ]
          },
          "metadata": {},
          "execution_count": 23
        }
      ]
    },
    {
      "cell_type": "markdown",
      "source": [
        "Kemudian kita akan buat visualisasinya dengan menggunakan grafik batang vertikal."
      ],
      "metadata": {
        "id": "4-QcK_EaWhWw"
      }
    },
    {
      "cell_type": "code",
      "source": [
        "plt.figure(figsize = (7, 7))\n",
        "\n",
        "height = df.MultipleLines.value_counts().sort_index()\n",
        "\n",
        "bars = (df.MultipleLines.value_counts().sort_index().index)\n",
        "x_pos = np.arange(len(bars))\n",
        "\n",
        "plt.bar(x_pos, height)\n",
        "plt.xticks(x_pos, bars)\n",
        "plt.xlabel(\"Multiple Lines\", fontweight = \"bold\")\n",
        "\n",
        "plt.show()"
      ],
      "metadata": {
        "colab": {
          "base_uri": "https://localhost:8080/",
          "height": 442
        },
        "id": "MPlgLoT-BDlX",
        "outputId": "112150a2-8d7c-4f4f-c5b3-d0fdfcbfe90f"
      },
      "execution_count": 24,
      "outputs": [
        {
          "output_type": "display_data",
          "data": {
            "text/plain": [
              "<Figure size 504x504 with 1 Axes>"
            ],
            "image/png": "[encoded data removed]"
          },
          "metadata": {
            "needs_background": "light"
          }
        }
      ]
    },
    {
      "cell_type": "markdown",
      "source": [
        "Dari grafik tersebut kita dapat melihat bahwa lebih banyak pelanggan yang hanya memiliki satu jaringan telepon dibandingkan dengan pelanggan yang memiliki lebih dari satu jaringan telepon.\n",
        "\n",
        "Kemudian kita akan melihat data pelanggan dengan pelayanan jaringan internet."
      ],
      "metadata": {
        "id": "eoRrk85qYXZf"
      }
    },
    {
      "cell_type": "code",
      "source": [
        "df.InternetService.value_counts().sort_index()"
      ],
      "metadata": {
        "colab": {
          "base_uri": "https://localhost:8080/"
        },
        "id": "ScL0I-lr_dQO",
        "outputId": "b3ea97e3-693b-4693-ee54-4062d5f6b146"
      },
      "execution_count": 25,
      "outputs": [
        {
          "output_type": "execute_result",
          "data": {
            "text/plain": [
              "DSL            2421\n",
              "Fiber optic    3096\n",
              "No             1526\n",
              "Name: InternetService, dtype: Int64"
            ]
          },
          "metadata": {},
          "execution_count": 25
        }
      ]
    },
    {
      "cell_type": "markdown",
      "source": [
        "Kemudian kita akan buat visualisasinya dengan menggunakan grafik batang vertikal."
      ],
      "metadata": {
        "id": "A7UrbWdBWiFY"
      }
    },
    {
      "cell_type": "code",
      "source": [
        "plt.figure(figsize = (7, 7))\n",
        "\n",
        "height = df.InternetService.value_counts().sort_index()\n",
        "\n",
        "bars = (df.InternetService.value_counts().sort_index().index)\n",
        "x_pos = np.arange(len(bars))\n",
        "\n",
        "plt.bar(x_pos, height)\n",
        "plt.xticks(x_pos, bars)\n",
        "plt.xlabel(\"Internet Service\", fontweight = \"bold\")\n",
        "\n",
        "plt.show()"
      ],
      "metadata": {
        "colab": {
          "base_uri": "https://localhost:8080/",
          "height": 442
        },
        "id": "YX92vtlzBEYW",
        "outputId": "83699345-f596-4aee-dd6b-205d10f148b6"
      },
      "execution_count": 26,
      "outputs": [
        {
          "output_type": "display_data",
          "data": {
            "text/plain": [
              "<Figure size 504x504 with 1 Axes>"
            ],
            "image/png": "[encoded data removed]"
          },
          "metadata": {
            "needs_background": "light"
          }
        }
      ]
    },
    {
      "cell_type": "markdown",
      "source": [
        "Dari grafik tersebut kita dapat melihat bahwa lebih banyak pelanggan menggunakan pelayanan internet berbasis *fiber optic*.\n",
        "\n",
        "Kemudian kita akan melihat data pelanggan dengan pelayanan pengamanan daring."
      ],
      "metadata": {
        "id": "7QXXKJ8dYr8Q"
      }
    },
    {
      "cell_type": "code",
      "source": [
        "df.OnlineSecurity.value_counts().sort_index()"
      ],
      "metadata": {
        "colab": {
          "base_uri": "https://localhost:8080/"
        },
        "id": "Ufp7X3I9_kZ1",
        "outputId": "4d294856-51a7-490a-848b-c05015fc3811"
      },
      "execution_count": 27,
      "outputs": [
        {
          "output_type": "execute_result",
          "data": {
            "text/plain": [
              "No                     3498\n",
              "No internet service    1526\n",
              "Yes                    2019\n",
              "Name: OnlineSecurity, dtype: Int64"
            ]
          },
          "metadata": {},
          "execution_count": 27
        }
      ]
    },
    {
      "cell_type": "markdown",
      "source": [
        "Kemudian kita akan buat visualisasinya dengan menggunakan grafik batang vertikal."
      ],
      "metadata": {
        "id": "RDxqvDvoWi5J"
      }
    },
    {
      "cell_type": "code",
      "source": [
        "plt.figure(figsize = (7, 7))\n",
        "\n",
        "height = df.OnlineSecurity.value_counts().sort_index()\n",
        "\n",
        "bars = (df.OnlineSecurity.value_counts().sort_index().index)\n",
        "x_pos = np.arange(len(bars))\n",
        "\n",
        "plt.bar(x_pos, height)\n",
        "plt.xticks(x_pos, bars)\n",
        "plt.xlabel(\"Online Security\", fontweight = \"bold\")\n",
        "\n",
        "plt.show()"
      ],
      "metadata": {
        "colab": {
          "base_uri": "https://localhost:8080/",
          "height": 442
        },
        "id": "qOF1klliBFPe",
        "outputId": "6516df41-9d5b-4299-d158-e39f4c8cf514"
      },
      "execution_count": 28,
      "outputs": [
        {
          "output_type": "display_data",
          "data": {
            "text/plain": [
              "<Figure size 504x504 with 1 Axes>"
            ],
            "image/png": "[encoded data removed]"
          },
          "metadata": {
            "needs_background": "light"
          }
        }
      ]
    },
    {
      "cell_type": "markdown",
      "source": [
        "Dari grafik tersebut kita dapat melihat bahwa lebih banyak pelanggan tidak menggunakan pelayanan pengamanan daring.\n",
        "\n",
        "Kemudian kita akan melihat data pelanggan dengan pelayanan cadangan daring."
      ],
      "metadata": {
        "id": "vC-FZQlLY9Qh"
      }
    },
    {
      "cell_type": "code",
      "source": [
        "df.OnlineBackup.value_counts().sort_index()"
      ],
      "metadata": {
        "colab": {
          "base_uri": "https://localhost:8080/"
        },
        "id": "Zy-L8wFe_oW-",
        "outputId": "fc52a964-5b7b-47d6-e647-6f4fb15bc640"
      },
      "execution_count": 29,
      "outputs": [
        {
          "output_type": "execute_result",
          "data": {
            "text/plain": [
              "No                     3088\n",
              "No internet service    1526\n",
              "Yes                    2429\n",
              "Name: OnlineBackup, dtype: Int64"
            ]
          },
          "metadata": {},
          "execution_count": 29
        }
      ]
    },
    {
      "cell_type": "markdown",
      "source": [
        "Kemudian kita akan buat visualisasinya dengan menggunakan grafik batang vertikal."
      ],
      "metadata": {
        "id": "KRUdzA60Zu0g"
      }
    },
    {
      "cell_type": "code",
      "source": [
        "plt.figure(figsize = (7, 7))\n",
        "\n",
        "height = df.OnlineBackup.value_counts().sort_index()\n",
        "\n",
        "bars = (df.OnlineBackup.value_counts().sort_index().index)\n",
        "x_pos = np.arange(len(bars))\n",
        "\n",
        "plt.bar(x_pos, height)\n",
        "plt.xticks(x_pos, bars)\n",
        "plt.xlabel(\"Online Backup\", fontweight = \"bold\")\n",
        "\n",
        "plt.show()"
      ],
      "metadata": {
        "colab": {
          "base_uri": "https://localhost:8080/",
          "height": 442
        },
        "id": "6GjWUaL2BGYO",
        "outputId": "122f3055-ef25-413b-e6de-e40089c49556"
      },
      "execution_count": 30,
      "outputs": [
        {
          "output_type": "display_data",
          "data": {
            "text/plain": [
              "<Figure size 504x504 with 1 Axes>"
            ],
            "image/png": "[encoded data removed]"
          },
          "metadata": {
            "needs_background": "light"
          }
        }
      ]
    },
    {
      "cell_type": "markdown",
      "source": [
        "Dari grafik tersebut kita dapat melihat bahwa lebih banyak pelanggan tidak menggunakan pelayanan cadangan daring.\n",
        "\n",
        "Kemudian kita akan melihat data pelanggan dengan pelayanan pengamanan perangkat."
      ],
      "metadata": {
        "id": "IApqUX00ZKhh"
      }
    },
    {
      "cell_type": "code",
      "source": [
        "df.DeviceProtection.value_counts().sort_index()"
      ],
      "metadata": {
        "colab": {
          "base_uri": "https://localhost:8080/"
        },
        "id": "rU9wGeOV_rfl",
        "outputId": "27a8bbfe-40a5-4b92-c874-44195f037eda"
      },
      "execution_count": 31,
      "outputs": [
        {
          "output_type": "execute_result",
          "data": {
            "text/plain": [
              "No                     3095\n",
              "No internet service    1526\n",
              "Yes                    2422\n",
              "Name: DeviceProtection, dtype: Int64"
            ]
          },
          "metadata": {},
          "execution_count": 31
        }
      ]
    },
    {
      "cell_type": "markdown",
      "source": [
        "Kemudian kita akan buat visualisasinya dengan menggunakan grafik batang vertikal."
      ],
      "metadata": {
        "id": "po_5DJw-WpJA"
      }
    },
    {
      "cell_type": "code",
      "source": [
        "plt.figure(figsize = (7, 7))\n",
        "\n",
        "height = df.DeviceProtection.value_counts().sort_index()\n",
        "\n",
        "bars = (df.DeviceProtection.value_counts().sort_index().index)\n",
        "x_pos = np.arange(len(bars))\n",
        "\n",
        "plt.bar(x_pos, height)\n",
        "plt.xticks(x_pos, bars)\n",
        "plt.xlabel(\"Device Protection\", fontweight = \"bold\")\n",
        "\n",
        "plt.show()"
      ],
      "metadata": {
        "colab": {
          "base_uri": "https://localhost:8080/",
          "height": 442
        },
        "id": "rXr8ofdRBG6O",
        "outputId": "8d1805e1-f19c-4a97-c31d-bf85d7bdef69"
      },
      "execution_count": 32,
      "outputs": [
        {
          "output_type": "display_data",
          "data": {
            "text/plain": [
              "<Figure size 504x504 with 1 Axes>"
            ],
            "image/png": "[encoded data removed]"
          },
          "metadata": {
            "needs_background": "light"
          }
        }
      ]
    },
    {
      "cell_type": "markdown",
      "source": [
        "Dari grafik tersebut kita dapat melihat bahwa lebih banyak pelanggan tidak menggunakan pelayanan pengamanan perangkat.\n",
        "\n",
        "Kemudian kita akan melihat data pelanggan dengan pelayanan *tech support*."
      ],
      "metadata": {
        "id": "k6ze27x0aEax"
      }
    },
    {
      "cell_type": "code",
      "source": [
        "df.TechSupport.value_counts().sort_index()"
      ],
      "metadata": {
        "colab": {
          "base_uri": "https://localhost:8080/"
        },
        "id": "96JKJioB_vLp",
        "outputId": "4fda8e7a-aa1d-4db8-c4e4-9d55e3d19c8c"
      },
      "execution_count": 33,
      "outputs": [
        {
          "output_type": "execute_result",
          "data": {
            "text/plain": [
              "No                     3473\n",
              "No internet service    1526\n",
              "Yes                    2044\n",
              "Name: TechSupport, dtype: Int64"
            ]
          },
          "metadata": {},
          "execution_count": 33
        }
      ]
    },
    {
      "cell_type": "markdown",
      "source": [
        "Kemudian kita akan buat visualisasinya dengan menggunakan grafik batang vertikal."
      ],
      "metadata": {
        "id": "AerzC6ueWrDw"
      }
    },
    {
      "cell_type": "code",
      "source": [
        "plt.figure(figsize = (7, 7))\n",
        "\n",
        "height = df.TechSupport.value_counts().sort_index()\n",
        "\n",
        "bars = (df.TechSupport.value_counts().sort_index().index)\n",
        "x_pos = np.arange(len(bars))\n",
        "\n",
        "plt.bar(x_pos, height)\n",
        "plt.xticks(x_pos, bars)\n",
        "plt.xlabel(\"Tech Support\", fontweight = \"bold\")\n",
        "\n",
        "plt.show()"
      ],
      "metadata": {
        "colab": {
          "base_uri": "https://localhost:8080/",
          "height": 442
        },
        "id": "94dgDYUCBHX4",
        "outputId": "4dbb4497-02ae-4c9a-b331-37e998cd9c0d"
      },
      "execution_count": 34,
      "outputs": [
        {
          "output_type": "display_data",
          "data": {
            "text/plain": [
              "<Figure size 504x504 with 1 Axes>"
            ],
            "image/png": "[encoded data removed]"
          },
          "metadata": {
            "needs_background": "light"
          }
        }
      ]
    },
    {
      "cell_type": "markdown",
      "source": [
        "Dari grafik tersebut kita dapat melihat bahwa lebih banyak pelanggan tidak menggunakan pelayanan *tech support*.\n",
        "\n",
        "Kemudian kita akan melihat data pelanggan dengan pelayanan *streaming* televisi."
      ],
      "metadata": {
        "id": "9MU4_gSxaJ9A"
      }
    },
    {
      "cell_type": "code",
      "source": [
        "df.StreamingTV.value_counts().sort_index()"
      ],
      "metadata": {
        "colab": {
          "base_uri": "https://localhost:8080/"
        },
        "id": "4C78VQQp_xqN",
        "outputId": "a3621c2f-8019-4400-d550-6cf3e4f3fb10"
      },
      "execution_count": 35,
      "outputs": [
        {
          "output_type": "execute_result",
          "data": {
            "text/plain": [
              "No                     2810\n",
              "No internet service    1526\n",
              "Yes                    2707\n",
              "Name: StreamingTV, dtype: Int64"
            ]
          },
          "metadata": {},
          "execution_count": 35
        }
      ]
    },
    {
      "cell_type": "markdown",
      "source": [
        "Kemudian kita akan buat visualisasinya dengan menggunakan grafik batang vertikal."
      ],
      "metadata": {
        "id": "TIIzKkC4Wrt8"
      }
    },
    {
      "cell_type": "code",
      "source": [
        "plt.figure(figsize = (7, 7))\n",
        "\n",
        "height = df.StreamingTV.value_counts().sort_index()\n",
        "\n",
        "bars = (df.StreamingTV.value_counts().sort_index().index)\n",
        "x_pos = np.arange(len(bars))\n",
        "\n",
        "plt.bar(x_pos, height)\n",
        "plt.xticks(x_pos, bars)\n",
        "plt.xlabel(\"Streaming TV\", fontweight = \"bold\")\n",
        "\n",
        "plt.show()"
      ],
      "metadata": {
        "colab": {
          "base_uri": "https://localhost:8080/",
          "height": 442
        },
        "id": "j2HnVcomBII2",
        "outputId": "362a671f-246f-4ca6-8674-73ca2328805c"
      },
      "execution_count": 36,
      "outputs": [
        {
          "output_type": "display_data",
          "data": {
            "text/plain": [
              "<Figure size 504x504 with 1 Axes>"
            ],
            "image/png": "[encoded data removed]"
          },
          "metadata": {
            "needs_background": "light"
          }
        }
      ]
    },
    {
      "cell_type": "markdown",
      "source": [
        "Dari grafik tersebut kita dapat melihat bahwa kurang lebih jumlah pelanggan yang berlangganan layanan *streaming* televisi sama dengan yang tidak berlangganan layanan tersebut.\n",
        "\n",
        "Kemudian kita akan melihat data pelanggan dengan pelayanan *streaming* film."
      ],
      "metadata": {
        "id": "-SD3drYRaUhP"
      }
    },
    {
      "cell_type": "code",
      "source": [
        "df.StreamingMovies.value_counts().sort_index()"
      ],
      "metadata": {
        "colab": {
          "base_uri": "https://localhost:8080/"
        },
        "id": "EXyz0cv7Albu",
        "outputId": "9c75875b-569d-4e96-9a1a-bfafd2087e51"
      },
      "execution_count": 37,
      "outputs": [
        {
          "output_type": "execute_result",
          "data": {
            "text/plain": [
              "No                     2785\n",
              "No internet service    1526\n",
              "Yes                    2732\n",
              "Name: StreamingMovies, dtype: Int64"
            ]
          },
          "metadata": {},
          "execution_count": 37
        }
      ]
    },
    {
      "cell_type": "markdown",
      "source": [
        "Kemudian kita akan buat visualisasinya dengan menggunakan grafik batang vertikal."
      ],
      "metadata": {
        "id": "OFY-frncWsQR"
      }
    },
    {
      "cell_type": "code",
      "source": [
        "plt.figure(figsize = (7, 7))\n",
        "\n",
        "height = df.StreamingMovies.value_counts().sort_index()\n",
        "\n",
        "bars = (df.StreamingMovies.value_counts().sort_index().index)\n",
        "x_pos = np.arange(len(bars))\n",
        "\n",
        "plt.bar(x_pos, height)\n",
        "plt.xticks(x_pos, bars)\n",
        "plt.xlabel(\"Streaming Movies\", fontweight = \"bold\")\n",
        "\n",
        "plt.show()"
      ],
      "metadata": {
        "colab": {
          "base_uri": "https://localhost:8080/",
          "height": 442
        },
        "id": "dDLM66LqBIt_",
        "outputId": "8a32e91f-fc72-4212-a0ff-2648f62a4792"
      },
      "execution_count": 38,
      "outputs": [
        {
          "output_type": "display_data",
          "data": {
            "text/plain": [
              "<Figure size 504x504 with 1 Axes>"
            ],
            "image/png": "[encoded data removed]"
          },
          "metadata": {
            "needs_background": "light"
          }
        }
      ]
    },
    {
      "cell_type": "markdown",
      "source": [
        "Dari grafik tersebut kita dapat melihat bahwa kurang lebih jumlah pelanggan yang berlangganan layanan *streaming* film sama dengan yang tidak berlangganan layanan tersebut.\n",
        "\n",
        "Kemudian kita akan melihat data jenis pembaruan kontrak yang dilakukan oleh pelanggan."
      ],
      "metadata": {
        "id": "-QXGqs9OaxF7"
      }
    },
    {
      "cell_type": "code",
      "source": [
        "df.Contract.value_counts().sort_index()"
      ],
      "metadata": {
        "colab": {
          "base_uri": "https://localhost:8080/"
        },
        "id": "HAqxbfusAoKD",
        "outputId": "a63471ae-1e86-4144-dd5d-7ba46a7d2e4e"
      },
      "execution_count": 39,
      "outputs": [
        {
          "output_type": "execute_result",
          "data": {
            "text/plain": [
              "Month-to-month    3875\n",
              "One year          1473\n",
              "Two year          1695\n",
              "Name: Contract, dtype: Int64"
            ]
          },
          "metadata": {},
          "execution_count": 39
        }
      ]
    },
    {
      "cell_type": "markdown",
      "source": [
        "Kemudian kita akan buat visualisasinya dengan menggunakan grafik batang vertikal."
      ],
      "metadata": {
        "id": "dy1iSq1sWtvC"
      }
    },
    {
      "cell_type": "code",
      "source": [
        "plt.figure(figsize = (7, 7))\n",
        "\n",
        "height = df.Contract.value_counts().sort_index()\n",
        "\n",
        "bars = (df.Contract.value_counts().sort_index().index)\n",
        "x_pos = np.arange(len(bars))\n",
        "\n",
        "plt.bar(x_pos, height)\n",
        "plt.xticks(x_pos, bars)\n",
        "plt.xlabel(\"Contract\", fontweight = \"bold\")\n",
        "\n",
        "plt.show()"
      ],
      "metadata": {
        "colab": {
          "base_uri": "https://localhost:8080/",
          "height": 442
        },
        "id": "qTCCbP0nBJHm",
        "outputId": "6e2a7974-7fdd-402d-f792-96cb6c746485"
      },
      "execution_count": 40,
      "outputs": [
        {
          "output_type": "display_data",
          "data": {
            "text/plain": [
              "<Figure size 504x504 with 1 Axes>"
            ],
            "image/png": "[encoded data removed]"
          },
          "metadata": {
            "needs_background": "light"
          }
        }
      ]
    },
    {
      "cell_type": "markdown",
      "source": [
        "Dari grafik tersebut kita dapat melihat bahwa mayoritas pelanggan melakukan pembaruan kontrak dalam basis bulanan.\n",
        "\n",
        "Kemudian kita akan melihat data pelanggan yang menerima tagihan kertas."
      ],
      "metadata": {
        "id": "vXMdkeY0a47-"
      }
    },
    {
      "cell_type": "code",
      "source": [
        "df.PaperlessBilling.value_counts().sort_index()"
      ],
      "metadata": {
        "colab": {
          "base_uri": "https://localhost:8080/"
        },
        "id": "vLqrsfibAuhF",
        "outputId": "a8c48d82-d01e-4bd5-d99b-0cc42fd956e0"
      },
      "execution_count": 41,
      "outputs": [
        {
          "output_type": "execute_result",
          "data": {
            "text/plain": [
              "No     2872\n",
              "Yes    4171\n",
              "Name: PaperlessBilling, dtype: Int64"
            ]
          },
          "metadata": {},
          "execution_count": 41
        }
      ]
    },
    {
      "cell_type": "markdown",
      "source": [
        "Kemudian kita akan buat visualisasinya dengan menggunakan grafik batang vertikal."
      ],
      "metadata": {
        "id": "tpI2ZYSCWuwU"
      }
    },
    {
      "cell_type": "code",
      "source": [
        "plt.figure(figsize = (7, 7))\n",
        "\n",
        "height = df.PaperlessBilling.value_counts().sort_index()\n",
        "\n",
        "bars = (df.PaperlessBilling.value_counts().sort_index().index)\n",
        "x_pos = np.arange(len(bars))\n",
        "\n",
        "plt.bar(x_pos, height)\n",
        "plt.xticks(x_pos, bars)\n",
        "plt.xlabel(\"Paperless Billing\", fontweight = \"bold\")\n",
        "\n",
        "plt.show()"
      ],
      "metadata": {
        "colab": {
          "base_uri": "https://localhost:8080/",
          "height": 442
        },
        "id": "VWh9l18ABJrG",
        "outputId": "d5bb9c29-04ac-44af-c327-36ce446b7a15"
      },
      "execution_count": 42,
      "outputs": [
        {
          "output_type": "display_data",
          "data": {
            "text/plain": [
              "<Figure size 504x504 with 1 Axes>"
            ],
            "image/png": "[encoded data removed]"
          },
          "metadata": {
            "needs_background": "light"
          }
        }
      ]
    },
    {
      "cell_type": "markdown",
      "source": [
        "Dari grafik tersebut kita dapat melihat bahwa mayoritas pelanggan melakukan pembayaran tanpa tagihan kertas.\n",
        "\n",
        "Kemudian kita akan melihat data jenis pembayaran yang dilakukan oleh pelanggan."
      ],
      "metadata": {
        "id": "Me-CMEoObDcH"
      }
    },
    {
      "cell_type": "code",
      "source": [
        "df.PaymentMethod.value_counts().sort_index()"
      ],
      "metadata": {
        "colab": {
          "base_uri": "https://localhost:8080/"
        },
        "id": "G6NIjlPEAwhO",
        "outputId": "c6b411f5-5d2c-4943-df10-808ac4a9f141"
      },
      "execution_count": 43,
      "outputs": [
        {
          "output_type": "execute_result",
          "data": {
            "text/plain": [
              "Bank transfer (automatic)    1544\n",
              "Credit card (automatic)      1522\n",
              "Electronic check             2365\n",
              "Mailed check                 1612\n",
              "Name: PaymentMethod, dtype: Int64"
            ]
          },
          "metadata": {},
          "execution_count": 43
        }
      ]
    },
    {
      "cell_type": "markdown",
      "source": [
        "Kemudian kita akan buat visualisasinya dengan menggunakan grafik batang vertikal."
      ],
      "metadata": {
        "id": "XeYb2vg4WvZK"
      }
    },
    {
      "cell_type": "code",
      "source": [
        "plt.figure(figsize = (7, 7))\n",
        "\n",
        "height = df.PaymentMethod.value_counts().sort_index()\n",
        "\n",
        "bars = (df.PaymentMethod.value_counts().sort_index().index)\n",
        "x_pos = np.arange(len(bars))\n",
        "\n",
        "plt.bar(x_pos, height)\n",
        "plt.xticks(x_pos, bars, rotation = 90)\n",
        "plt.xlabel(\"Payment Method\", fontweight = \"bold\")\n",
        "\n",
        "plt.show()"
      ],
      "metadata": {
        "colab": {
          "base_uri": "https://localhost:8080/",
          "height": 562
        },
        "id": "-jmumwW4BKMG",
        "outputId": "d102f110-b928-4802-ec6a-354e28562887"
      },
      "execution_count": 44,
      "outputs": [
        {
          "output_type": "display_data",
          "data": {
            "text/plain": [
              "<Figure size 504x504 with 1 Axes>"
            ],
            "image/png": "[encoded data removed]"
          },
          "metadata": {
            "needs_background": "light"
          }
        }
      ]
    },
    {
      "cell_type": "markdown",
      "source": [
        "Dari grafik tersebut kita dapat melihat bahwa mayoritas pelanggan melakukan pembayaran melalui cek elektronik.\n",
        "\n",
        "Kemudian kita akan melihat distribusi tagihan bulanan tiap pelanggan."
      ],
      "metadata": {
        "id": "jd__wmRKbWlG"
      }
    },
    {
      "cell_type": "code",
      "source": [
        "plt.figure(figsize = (7, 7))\n",
        "\n",
        "sns.histplot(df.MonthlyCharges, bins = 25, kde = True)\n",
        "plt.title(\"Monthly Charges Distribution\")\n",
        "\n",
        "plt.show()"
      ],
      "metadata": {
        "colab": {
          "base_uri": "https://localhost:8080/",
          "height": 458
        },
        "id": "g52_Bf39EFsS",
        "outputId": "0f71ad82-1094-445f-f743-b1af855a9abd"
      },
      "execution_count": 45,
      "outputs": [
        {
          "output_type": "display_data",
          "data": {
            "text/plain": [
              "<Figure size 504x504 with 1 Axes>"
            ],
            "image/png": "[encoded data removed]"
          },
          "metadata": {
            "needs_background": "light"
          }
        }
      ]
    },
    {
      "cell_type": "markdown",
      "source": [
        "Dari grafik tersebut kita dapat melihat bahwa mayoritas pelanggan memiliki tagihan bulanan sekitar 20 atau sekitar 80.\n",
        "\n",
        "Kemudian kita akan melihat distribusi tagihan keseluruhan tiap pelanggan."
      ],
      "metadata": {
        "id": "NPdq_TOXbhML"
      }
    },
    {
      "cell_type": "code",
      "source": [
        "plt.figure(figsize = (7, 7))\n",
        "\n",
        "sns.histplot(df.TotalCharges, bins = 25, kde = True)\n",
        "plt.title(\"Total Charges Distribution\")\n",
        "\n",
        "plt.show()"
      ],
      "metadata": {
        "colab": {
          "base_uri": "https://localhost:8080/",
          "height": 458
        },
        "id": "MZfHEjPWERO_",
        "outputId": "7ee184a0-19e4-46d8-b1b7-40e502d7cf23"
      },
      "execution_count": 46,
      "outputs": [
        {
          "output_type": "display_data",
          "data": {
            "text/plain": [
              "<Figure size 504x504 with 1 Axes>"
            ],
            "image/png": "[encoded data removed]"
          },
          "metadata": {
            "needs_background": "light"
          }
        }
      ]
    },
    {
      "cell_type": "markdown",
      "source": [
        "Dari grafik tersebut kita dapat melihat bahwa tagihan keseluruhan yang dibayarkan oleh pelanggan mayoritas berada di rentang 0-2000.\n",
        "\n",
        "Kemudian kita akan melihat data pelanggan yang memutus kontrak pelayanan."
      ],
      "metadata": {
        "id": "t0DRSlQcbtUN"
      }
    },
    {
      "cell_type": "code",
      "source": [
        "df.Churn.value_counts().sort_index()"
      ],
      "metadata": {
        "colab": {
          "base_uri": "https://localhost:8080/"
        },
        "id": "PnZZ_f8bA1hd",
        "outputId": "952d0534-9272-4a6b-f38c-2e9f2a03b9ea"
      },
      "execution_count": 47,
      "outputs": [
        {
          "output_type": "execute_result",
          "data": {
            "text/plain": [
              "No     5174\n",
              "Yes    1869\n",
              "Name: Churn, dtype: Int64"
            ]
          },
          "metadata": {},
          "execution_count": 47
        }
      ]
    },
    {
      "cell_type": "markdown",
      "source": [
        "Kemudian kita akan buat visualisasinya dengan menggunakan grafik batang vertikal."
      ],
      "metadata": {
        "id": "6gJTmHUlWwh-"
      }
    },
    {
      "cell_type": "code",
      "source": [
        "plt.figure(figsize = (7, 7))\n",
        "\n",
        "height = df.Churn.value_counts().sort_index()\n",
        "\n",
        "bars = (df.Churn.value_counts().sort_index().index)\n",
        "x_pos = np.arange(len(bars))\n",
        "\n",
        "plt.bar(x_pos, height)\n",
        "plt.xticks(x_pos, bars)\n",
        "plt.xlabel(\"Churn\", fontweight = \"bold\")\n",
        "\n",
        "plt.show()"
      ],
      "metadata": {
        "colab": {
          "base_uri": "https://localhost:8080/",
          "height": 442
        },
        "id": "w18-AP6HA5Vu",
        "outputId": "30b8d156-637f-448c-ce7e-51f1e8ac0777"
      },
      "execution_count": 48,
      "outputs": [
        {
          "output_type": "display_data",
          "data": {
            "text/plain": [
              "<Figure size 504x504 with 1 Axes>"
            ],
            "image/png": "[encoded data removed]"
          },
          "metadata": {
            "needs_background": "light"
          }
        }
      ]
    },
    {
      "cell_type": "markdown",
      "source": [
        "Dari grafik tersebut kita dapat melihat bahwa mayoritas pelanggan masih menggunakan layanan telekomunikasi yang disediakan. Namun, jumlah pelanggan yang memutus layanan juga bisa dibilang cukup banyak."
      ],
      "metadata": {
        "id": "TkIL7DxYb9fR"
      }
    },
    {
      "cell_type": "markdown",
      "source": [
        "## *Data Preprocessing*"
      ],
      "metadata": {
        "id": "fJ3cfJxSSQ9-"
      }
    },
    {
      "cell_type": "markdown",
      "source": [
        "### Mengambil dan Memisahkan *Data Inference*"
      ],
      "metadata": {
        "id": "qUFkTc9LST_U"
      }
    },
    {
      "cell_type": "markdown",
      "source": [
        "Sebelum kita membagi *dataset train* dan *dataset test*, kita pisahkan dulu beberapa buah data untuk kita lakukan *inferencing* nantinya."
      ],
      "metadata": {
        "id": "ULnvei9CSW8c"
      }
    },
    {
      "cell_type": "code",
      "source": [
        "df_inf = df.sample(10, random_state = 13)\n",
        "df_inf"
      ],
      "metadata": {
        "id": "52r8w2PacImQ",
        "colab": {
          "base_uri": "https://localhost:8080/",
          "height": 630
        },
        "outputId": "f16a9282-8577-4482-da39-9ecc8d60865e"
      },
      "execution_count": 49,
      "outputs": [
        {
          "output_type": "execute_result",
          "data": {
            "text/plain": [
              "      customerID  gender  SeniorCitizen Partner Dependents  tenure  \\\n",
              "416   4686-GEFRM    Male              0     Yes         No      70   \n",
              "4521  8671-KKKOS  Female              0     Yes         No      46   \n",
              "4213  3683-QKIUE  Female              0      No         No       6   \n",
              "1580  7108-DGVUU  Female              1     Yes         No      21   \n",
              "2226  3298-QEICA  Female              0     Yes        Yes      23   \n",
              "2273  0219-QAERP    Male              0     Yes         No      30   \n",
              "1627  5035-BVCXS    Male              0      No         No      11   \n",
              "1070  6166-ILMNY  Female              0      No         No       2   \n",
              "4182  4902-OHLSK  Female              1      No         No      29   \n",
              "1755  1803-BGNBD  Female              0      No         No      12   \n",
              "\n",
              "     PhoneService     MultipleLines InternetService       OnlineSecurity  ...  \\\n",
              "416           Yes               Yes     Fiber optic                   No  ...   \n",
              "4521           No  No phone service             DSL                  Yes  ...   \n",
              "4213          Yes                No             DSL                   No  ...   \n",
              "1580          Yes               Yes             DSL                   No  ...   \n",
              "2226           No  No phone service             DSL                  Yes  ...   \n",
              "2273          Yes                No              No  No internet service  ...   \n",
              "1627          Yes                No     Fiber optic                   No  ...   \n",
              "1070          Yes                No     Fiber optic                   No  ...   \n",
              "4182          Yes               Yes     Fiber optic                   No  ...   \n",
              "1755          Yes                No             DSL                   No  ...   \n",
              "\n",
              "         DeviceProtection          TechSupport          StreamingTV  \\\n",
              "416                   Yes                  Yes                   No   \n",
              "4521                   No                   No                  Yes   \n",
              "4213                   No                  Yes                   No   \n",
              "1580                  Yes                   No                   No   \n",
              "2226                   No                  Yes                   No   \n",
              "2273  No internet service  No internet service  No internet service   \n",
              "1627                   No                   No                   No   \n",
              "1070                   No                   No                   No   \n",
              "4182                   No                  Yes                  Yes   \n",
              "1755                   No                  Yes                   No   \n",
              "\n",
              "          StreamingMovies        Contract PaperlessBilling  \\\n",
              "416                   Yes        Two year              Yes   \n",
              "4521                   No  Month-to-month               No   \n",
              "4213                   No  Month-to-month              Yes   \n",
              "1580                  Yes        One year               No   \n",
              "2226                   No        Two year               No   \n",
              "2273  No internet service        One year               No   \n",
              "1627                   No  Month-to-month              Yes   \n",
              "1070                   No  Month-to-month               No   \n",
              "4182                  Yes  Month-to-month               No   \n",
              "1755                   No  Month-to-month              Yes   \n",
              "\n",
              "                  PaymentMethod MonthlyCharges  TotalCharges  Churn  \n",
              "416   Bank transfer (automatic)          98.70       6858.90     No  \n",
              "4521           Electronic check          45.55       2062.15     No  \n",
              "4213  Bank transfer (automatic)          50.80        288.05    Yes  \n",
              "1580  Bank transfer (automatic)          71.70       1497.05     No  \n",
              "2226               Mailed check          34.60        813.45     No  \n",
              "2273    Credit card (automatic)          19.80        576.65     No  \n",
              "1627               Mailed check          75.90        866.40     No  \n",
              "1070  Bank transfer (automatic)          69.75        144.55    Yes  \n",
              "4182           Electronic check          98.65       2862.75    Yes  \n",
              "1755           Electronic check          54.30        654.50     No  \n",
              "\n",
              "[10 rows x 21 columns]"
            ],
            "text/html": [
              "\n",
              "  <div id=\"df-a4a6361a-8496-43cf-ac90-1ad0fe87d04d\">\n",
              "    <div class=\"colab-df-container\">\n",
              "      <div>\n",
              "<style scoped>\n",
              "    .dataframe tbody tr th:only-of-type {\n",
              "        vertical-align: middle;\n",
              "    }\n",
              "\n",
              "    .dataframe tbody tr th {\n",
              "        vertical-align: top;\n",
              "    }\n",
              "\n",
              "    .dataframe thead th {\n",
              "        text-align: right;\n",
              "    }\n",
              "</style>\n",
              "<table border=\"1\" class=\"dataframe\">\n",
              "  <thead>\n",
              "    <tr style=\"text-align: right;\">\n",
              "      <th></th>\n",
              "      <th>customerID</th>\n",
              "      <th>gender</th>\n",
              "      <th>SeniorCitizen</th>\n",
              "      <th>Partner</th>\n",
              "      <th>Dependents</th>\n",
              "      <th>tenure</th>\n",
              "      <th>PhoneService</th>\n",
              "      <th>MultipleLines</th>\n",
              "      <th>InternetService</th>\n",
              "      <th>OnlineSecurity</th>\n",
              "      <th>...</th>\n",
              "      <th>DeviceProtection</th>\n",
              "      <th>TechSupport</th>\n",
              "      <th>StreamingTV</th>\n",
              "      <th>StreamingMovies</th>\n",
              "      <th>Contract</th>\n",
              "      <th>PaperlessBilling</th>\n",
              "      <th>PaymentMethod</th>\n",
              "      <th>MonthlyCharges</th>\n",
              "      <th>TotalCharges</th>\n",
              "      <th>Churn</th>\n",
              "    </tr>\n",
              "  </thead>\n",
              "  <tbody>\n",
              "    <tr>\n",
              "      <th>416</th>\n",
              "      <td>4686-GEFRM</td>\n",
              "      <td>Male</td>\n",
              "      <td>0</td>\n",
              "      <td>Yes</td>\n",
              "      <td>No</td>\n",
              "      <td>70</td>\n",
              "      <td>Yes</td>\n",
              "      <td>Yes</td>\n",
              "      <td>Fiber optic</td>\n",
              "      <td>No</td>\n",
              "      <td>...</td>\n",
              "      <td>Yes</td>\n",
              "      <td>Yes</td>\n",
              "      <td>No</td>\n",
              "      <td>Yes</td>\n",
              "      <td>Two year</td>\n",
              "      <td>Yes</td>\n",
              "      <td>Bank transfer (automatic)</td>\n",
              "      <td>98.70</td>\n",
              "      <td>6858.90</td>\n",
              "      <td>No</td>\n",
              "    </tr>\n",
              "    <tr>\n",
              "      <th>4521</th>\n",
              "      <td>8671-KKKOS</td>\n",
              "      <td>Female</td>\n",
              "      <td>0</td>\n",
              "      <td>Yes</td>\n",
              "      <td>No</td>\n",
              "      <td>46</td>\n",
              "      <td>No</td>\n",
              "      <td>No phone service</td>\n",
              "      <td>DSL</td>\n",
              "      <td>Yes</td>\n",
              "      <td>...</td>\n",
              "      <td>No</td>\n",
              "      <td>No</td>\n",
              "      <td>Yes</td>\n",
              "      <td>No</td>\n",
              "      <td>Month-to-month</td>\n",
              "      <td>No</td>\n",
              "      <td>Electronic check</td>\n",
              "      <td>45.55</td>\n",
              "      <td>2062.15</td>\n",
              "      <td>No</td>\n",
              "    </tr>\n",
              "    <tr>\n",
              "      <th>4213</th>\n",
              "      <td>3683-QKIUE</td>\n",
              "      <td>Female</td>\n",
              "      <td>0</td>\n",
              "      <td>No</td>\n",
              "      <td>No</td>\n",
              "      <td>6</td>\n",
              "      <td>Yes</td>\n",
              "      <td>No</td>\n",
              "      <td>DSL</td>\n",
              "      <td>No</td>\n",
              "      <td>...</td>\n",
              "      <td>No</td>\n",
              "      <td>Yes</td>\n",
              "      <td>No</td>\n",
              "      <td>No</td>\n",
              "      <td>Month-to-month</td>\n",
              "      <td>Yes</td>\n",
              "      <td>Bank transfer (automatic)</td>\n",
              "      <td>50.80</td>\n",
              "      <td>288.05</td>\n",
              "      <td>Yes</td>\n",
              "    </tr>\n",
              "    <tr>\n",
              "      <th>1580</th>\n",
              "      <td>7108-DGVUU</td>\n",
              "      <td>Female</td>\n",
              "      <td>1</td>\n",
              "      <td>Yes</td>\n",
              "      <td>No</td>\n",
              "      <td>21</td>\n",
              "      <td>Yes</td>\n",
              "      <td>Yes</td>\n",
              "      <td>DSL</td>\n",
              "      <td>No</td>\n",
              "      <td>...</td>\n",
              "      <td>Yes</td>\n",
              "      <td>No</td>\n",
              "      <td>No</td>\n",
              "      <td>Yes</td>\n",
              "      <td>One year</td>\n",
              "      <td>No</td>\n",
              "      <td>Bank transfer (automatic)</td>\n",
              "      <td>71.70</td>\n",
              "      <td>1497.05</td>\n",
              "      <td>No</td>\n",
              "    </tr>\n",
              "    <tr>\n",
              "      <th>2226</th>\n",
              "      <td>3298-QEICA</td>\n",
              "      <td>Female</td>\n",
              "      <td>0</td>\n",
              "      <td>Yes</td>\n",
              "      <td>Yes</td>\n",
              "      <td>23</td>\n",
              "      <td>No</td>\n",
              "      <td>No phone service</td>\n",
              "      <td>DSL</td>\n",
              "      <td>Yes</td>\n",
              "      <td>...</td>\n",
              "      <td>No</td>\n",
              "      <td>Yes</td>\n",
              "      <td>No</td>\n",
              "      <td>No</td>\n",
              "      <td>Two year</td>\n",
              "      <td>No</td>\n",
              "      <td>Mailed check</td>\n",
              "      <td>34.60</td>\n",
              "      <td>813.45</td>\n",
              "      <td>No</td>\n",
              "    </tr>\n",
              "    <tr>\n",
              "      <th>2273</th>\n",
              "      <td>0219-QAERP</td>\n",
              "      <td>Male</td>\n",
              "      <td>0</td>\n",
              "      <td>Yes</td>\n",
              "      <td>No</td>\n",
              "      <td>30</td>\n",
              "      <td>Yes</td>\n",
              "      <td>No</td>\n",
              "      <td>No</td>\n",
              "      <td>No internet service</td>\n",
              "      <td>...</td>\n",
              "      <td>No internet service</td>\n",
              "      <td>No internet service</td>\n",
              "      <td>No internet service</td>\n",
              "      <td>No internet service</td>\n",
              "      <td>One year</td>\n",
              "      <td>No</td>\n",
              "      <td>Credit card (automatic)</td>\n",
              "      <td>19.80</td>\n",
              "      <td>576.65</td>\n",
              "      <td>No</td>\n",
              "    </tr>\n",
              "    <tr>\n",
              "      <th>1627</th>\n",
              "      <td>5035-BVCXS</td>\n",
              "      <td>Male</td>\n",
              "      <td>0</td>\n",
              "      <td>No</td>\n",
              "      <td>No</td>\n",
              "      <td>11</td>\n",
              "      <td>Yes</td>\n",
              "      <td>No</td>\n",
              "      <td>Fiber optic</td>\n",
              "      <td>No</td>\n",
              "      <td>...</td>\n",
              "      <td>No</td>\n",
              "      <td>No</td>\n",
              "      <td>No</td>\n",
              "      <td>No</td>\n",
              "      <td>Month-to-month</td>\n",
              "      <td>Yes</td>\n",
              "      <td>Mailed check</td>\n",
              "      <td>75.90</td>\n",
              "      <td>866.40</td>\n",
              "      <td>No</td>\n",
              "    </tr>\n",
              "    <tr>\n",
              "      <th>1070</th>\n",
              "      <td>6166-ILMNY</td>\n",
              "      <td>Female</td>\n",
              "      <td>0</td>\n",
              "      <td>No</td>\n",
              "      <td>No</td>\n",
              "      <td>2</td>\n",
              "      <td>Yes</td>\n",
              "      <td>No</td>\n",
              "      <td>Fiber optic</td>\n",
              "      <td>No</td>\n",
              "      <td>...</td>\n",
              "      <td>No</td>\n",
              "      <td>No</td>\n",
              "      <td>No</td>\n",
              "      <td>No</td>\n",
              "      <td>Month-to-month</td>\n",
              "      <td>No</td>\n",
              "      <td>Bank transfer (automatic)</td>\n",
              "      <td>69.75</td>\n",
              "      <td>144.55</td>\n",
              "      <td>Yes</td>\n",
              "    </tr>\n",
              "    <tr>\n",
              "      <th>4182</th>\n",
              "      <td>4902-OHLSK</td>\n",
              "      <td>Female</td>\n",
              "      <td>1</td>\n",
              "      <td>No</td>\n",
              "      <td>No</td>\n",
              "      <td>29</td>\n",
              "      <td>Yes</td>\n",
              "      <td>Yes</td>\n",
              "      <td>Fiber optic</td>\n",
              "      <td>No</td>\n",
              "      <td>...</td>\n",
              "      <td>No</td>\n",
              "      <td>Yes</td>\n",
              "      <td>Yes</td>\n",
              "      <td>Yes</td>\n",
              "      <td>Month-to-month</td>\n",
              "      <td>No</td>\n",
              "      <td>Electronic check</td>\n",
              "      <td>98.65</td>\n",
              "      <td>2862.75</td>\n",
              "      <td>Yes</td>\n",
              "    </tr>\n",
              "    <tr>\n",
              "      <th>1755</th>\n",
              "      <td>1803-BGNBD</td>\n",
              "      <td>Female</td>\n",
              "      <td>0</td>\n",
              "      <td>No</td>\n",
              "      <td>No</td>\n",
              "      <td>12</td>\n",
              "      <td>Yes</td>\n",
              "      <td>No</td>\n",
              "      <td>DSL</td>\n",
              "      <td>No</td>\n",
              "      <td>...</td>\n",
              "      <td>No</td>\n",
              "      <td>Yes</td>\n",
              "      <td>No</td>\n",
              "      <td>No</td>\n",
              "      <td>Month-to-month</td>\n",
              "      <td>Yes</td>\n",
              "      <td>Electronic check</td>\n",
              "      <td>54.30</td>\n",
              "      <td>654.50</td>\n",
              "      <td>No</td>\n",
              "    </tr>\n",
              "  </tbody>\n",
              "</table>\n",
              "<p>10 rows × 21 columns</p>\n",
              "</div>\n",
              "      <button class=\"colab-df-convert\" onclick=\"convertToInteractive('df-a4a6361a-8496-43cf-ac90-1ad0fe87d04d')\"\n",
              "              title=\"Convert this dataframe to an interactive table.\"\n",
              "              style=\"display:none;\">\n",
              "        \n",
              "  <svg xmlns=\"http://www.w3.org/2000/svg\" height=\"24px\"viewBox=\"0 0 24 24\"\n",
              "       width=\"24px\">\n",
              "    <path d=\"M0 0h24v24H0V0z\" fill=\"none\"/>\n",
              "    <path d=\"M18.56 5.44l.94 2.06.94-2.06 2.06-.94-2.06-.94-.94-2.06-.94 2.06-2.06.94zm-11 1L8.5 8.5l.94-2.06 2.06-.94-2.06-.94L8.5 2.5l-.94 2.06-2.06.94zm10 10l.94 2.06.94-2.06 2.06-.94-2.06-.94-.94-2.06-.94 2.06-2.06.94z\"/><path d=\"M17.41 7.96l-1.37-1.37c-.4-.4-.92-.59-1.43-.59-.52 0-1.04.2-1.43.59L10.3 9.45l-7.72 7.72c-.78.78-.78 2.05 0 2.83L4 21.41c.39.39.9.59 1.41.59.51 0 1.02-.2 1.41-.59l7.78-7.78 2.81-2.81c.8-.78.8-2.07 0-2.86zM5.41 20L4 18.59l7.72-7.72 1.47 1.35L5.41 20z\"/>\n",
              "  </svg>\n",
              "      </button>\n",
              "      \n",
              "  <style>\n",
              "    .colab-df-container {\n",
              "      display:flex;\n",
              "      flex-wrap:wrap;\n",
              "      gap: 12px;\n",
              "    }\n",
              "\n",
              "    .colab-df-convert {\n",
              "      background-color: #E8F0FE;\n",
              "      border: none;\n",
              "      border-radius: 50%;\n",
              "      cursor: pointer;\n",
              "      display: none;\n",
              "      fill: #1967D2;\n",
              "      height: 32px;\n",
              "      padding: 0 0 0 0;\n",
              "      width: 32px;\n",
              "    }\n",
              "\n",
              "    .colab-df-convert:hover {\n",
              "      background-color: #E2EBFA;\n",
              "      box-shadow: 0px 1px 2px rgba(60, 64, 67, 0.3), 0px 1px 3px 1px rgba(60, 64, 67, 0.15);\n",
              "      fill: #174EA6;\n",
              "    }\n",
              "\n",
              "    [theme=dark] .colab-df-convert {\n",
              "      background-color: #3B4455;\n",
              "      fill: #D2E3FC;\n",
              "    }\n",
              "\n",
              "    [theme=dark] .colab-df-convert:hover {\n",
              "      background-color: #434B5C;\n",
              "      box-shadow: 0px 1px 3px 1px rgba(0, 0, 0, 0.15);\n",
              "      filter: drop-shadow(0px 1px 2px rgba(0, 0, 0, 0.3));\n",
              "      fill: #FFFFFF;\n",
              "    }\n",
              "  </style>\n",
              "\n",
              "      <script>\n",
              "        const buttonEl =\n",
              "          document.querySelector('#df-a4a6361a-8496-43cf-ac90-1ad0fe87d04d button.colab-df-convert');\n",
              "        buttonEl.style.display =\n",
              "          google.colab.kernel.accessAllowed ? 'block' : 'none';\n",
              "\n",
              "        async function convertToInteractive(key) {\n",
              "          const element = document.querySelector('#df-a4a6361a-8496-43cf-ac90-1ad0fe87d04d');\n",
              "          const dataTable =\n",
              "            await google.colab.kernel.invokeFunction('convertToInteractive',\n",
              "                                                     [key], {});\n",
              "          if (!dataTable) return;\n",
              "\n",
              "          const docLinkHtml = 'Like what you see? Visit the ' +\n",
              "            '<a target=\"_blank\" href=https://colab.research.google.com/notebooks/data_table.ipynb>data table notebook</a>'\n",
              "            + ' to learn more about interactive tables.';\n",
              "          element.innerHTML = '';\n",
              "          dataTable['output_type'] = 'display_data';\n",
              "          await google.colab.output.renderOutput(dataTable, element);\n",
              "          const docLink = document.createElement('div');\n",
              "          docLink.innerHTML = docLinkHtml;\n",
              "          element.appendChild(docLink);\n",
              "        }\n",
              "      </script>\n",
              "    </div>\n",
              "  </div>\n",
              "  "
            ]
          },
          "metadata": {},
          "execution_count": 49
        }
      ]
    },
    {
      "cell_type": "markdown",
      "source": [
        "Kemudian kita pisahkan sampel data tadi dari *dataset* aslinya."
      ],
      "metadata": {
        "id": "iOcGCJbVSdG8"
      }
    },
    {
      "cell_type": "code",
      "source": [
        "df_traindevtest = df.drop(df_inf.index)\n",
        "df_traindevtest.reset_index(drop = True, inplace = True)\n",
        "df_inf.reset_index(drop = True, inplace = True)"
      ],
      "metadata": {
        "id": "H_8wgTU4SaDl"
      },
      "execution_count": 50,
      "outputs": []
    },
    {
      "cell_type": "markdown",
      "source": [
        "### Memisahkan *Data Train*, *Data Dev*, dan *Data Test*"
      ],
      "metadata": {
        "id": "b6AaSaCVSh4B"
      }
    },
    {
      "cell_type": "markdown",
      "source": [
        "Setelah kita memisahkan *dataset inference* dengan *dataset* aslinya, kita pisahkan lebih lanjut *dataset* yang sudah dipisahkan menjadi tabel fitur dan tabel target. Pada kasus ini target yang dipilih adalah kolom `Churn`."
      ],
      "metadata": {
        "id": "9bNomECxSm9g"
      }
    },
    {
      "cell_type": "code",
      "source": [
        "x = df_traindevtest.drop(\"Churn\", axis = 1)\n",
        "y = df_traindevtest[\"Churn\"]"
      ],
      "metadata": {
        "id": "5l9gDK6DSfhL"
      },
      "execution_count": 51,
      "outputs": []
    },
    {
      "cell_type": "markdown",
      "source": [
        "Karena algoritma *neural network* tidak dapat mengenali keluaran berbentuk `string`, kita akan lakukan *encoding* terhadap kolom targetnya."
      ],
      "metadata": {
        "id": "KTX6kDmRyGwp"
      }
    },
    {
      "cell_type": "code",
      "source": [
        "label_encoder = LabelEncoder()\n",
        "label_encoder.fit(y)\n",
        "\n",
        "y_trans = pd.DataFrame(label_encoder.transform(y), columns = [\"y_trans\"])"
      ],
      "metadata": {
        "id": "8vfJucW-a34p"
      },
      "execution_count": 52,
      "outputs": []
    },
    {
      "cell_type": "markdown",
      "source": [
        "Kemudian dengan bantuan *library* `sklearn.model_selection.train_test_split`, kita akan memisahkan tabel fitur dan target menjadi *dataset train*, *dataset dev* dan *dataset test*.\n",
        "\n",
        "Pertama-tama kita akan pisahkan *dataset train* sebanyak 70% dari *dataset* aslinya."
      ],
      "metadata": {
        "id": "PK9ZHnU7SyTV"
      }
    },
    {
      "cell_type": "code",
      "source": [
        "x_train, x_devtest, y_train, y_devtest = train_test_split(x, y_trans, test_size = 0.3, random_state = 13)\n",
        "\n",
        "x_train.reset_index(drop = True, inplace = True)\n",
        "x_devtest.reset_index(drop = True, inplace = True)\n",
        "y_train.reset_index(drop = True, inplace = True)\n",
        "y_devtest.reset_index(drop = True, inplace = True)"
      ],
      "metadata": {
        "id": "4ktCCeulSwvP"
      },
      "execution_count": 53,
      "outputs": []
    },
    {
      "cell_type": "markdown",
      "source": [
        "Kemudian kita akan pisahkan *dataset dev* dan *dataset test* dengan rasio 2:1."
      ],
      "metadata": {
        "id": "8mea7xRkp3YU"
      }
    },
    {
      "cell_type": "code",
      "source": [
        "x_dev, x_test, y_dev, y_test = train_test_split(x_devtest, y_devtest, test_size = 0.33, random_state = 13)\n",
        "\n",
        "x_dev.reset_index(drop = True, inplace = True)\n",
        "x_test.reset_index(drop = True, inplace = True)\n",
        "y_dev.reset_index(drop = True, inplace = True)\n",
        "y_test.reset_index(drop = True, inplace = True)"
      ],
      "metadata": {
        "id": "mYsu3pYWmGt0"
      },
      "execution_count": 54,
      "outputs": []
    },
    {
      "cell_type": "markdown",
      "source": [
        "Kemudian kita akan periksa dimensi data yang akan diolah."
      ],
      "metadata": {
        "id": "PjCnq_dcqNxb"
      }
    },
    {
      "cell_type": "code",
      "source": [
        "print(\"Train Size:\", x_train.shape)\n",
        "print(\"Dev Size:\", x_dev.shape)\n",
        "print(\"Test Size:\", x_test.shape)"
      ],
      "metadata": {
        "colab": {
          "base_uri": "https://localhost:8080/"
        },
        "id": "cddI0FjemU0G",
        "outputId": "4b18ff04-469d-4cfe-a4ef-d9554513eeea"
      },
      "execution_count": 55,
      "outputs": [
        {
          "output_type": "stream",
          "name": "stdout",
          "text": [
            "Train Size: (4923, 20)\n",
            "Dev Size: (1413, 20)\n",
            "Test Size: (697, 20)\n"
          ]
        }
      ]
    },
    {
      "cell_type": "markdown",
      "source": [
        "Dari kedua proses di atas kita mendapatkan *dataset train*, *dataset dev*, dan *dataset test* dengan rasio 7:2:1."
      ],
      "metadata": {
        "id": "z1p6nrBiy8zP"
      }
    },
    {
      "cell_type": "markdown",
      "source": [
        "### Pemecahan Kolom"
      ],
      "metadata": {
        "id": "iV4U54W13LNe"
      }
    },
    {
      "cell_type": "markdown",
      "source": [
        "Berdasarkan *exploratory data analysis* yang sudah dilakukan sebelumnya, kita dapat memisahkan satu tabel menjadi banyak kolom bertipe boolean untuk mempermudah proses *encoding* nantinya."
      ],
      "metadata": {
        "id": "43GSp_Fv3hWT"
      }
    },
    {
      "cell_type": "code",
      "source": [
        "phone_serv_bool = []\n",
        "single_line_bool = []\n",
        "multi_line_bool = []\n",
        "internet_serv_bool = []\n",
        "DSL_serv_bool = []\n",
        "optic_serv_bool = []\n",
        "olsecurity_serv_bool = []\n",
        "olbackup_serv_bool = []\n",
        "devprotect_serv_bool = []\n",
        "techsupport_serv_bool = []\n",
        "tv_serv_bool = []\n",
        "movies_serv_bool = []\n",
        "\n",
        "for i in range(len(x_train)):\n",
        "  if \"Yes\" in x_train.PhoneService.iloc[i]:\n",
        "    phoneserv_id = True\n",
        "  else:\n",
        "    phoneserv_id = False\n",
        "  phone_serv_bool.append(phoneserv_id)\n",
        "\n",
        "for i in range(len(x_train)):\n",
        "  if \"Yes\" in x_train.MultipleLines.iloc[i]:\n",
        "    singleline_id = True\n",
        "  else:\n",
        "    singleline_id = False\n",
        "  single_line_bool.append(singleline_id)\n",
        "\n",
        "for i in range(len(x_train)):\n",
        "  if \"Yes\" in x_train.MultipleLines.iloc[i]:\n",
        "    multiline_id = True\n",
        "  else:\n",
        "    multiline_id = False\n",
        "  multi_line_bool.append(multiline_id)\n",
        "\n",
        "for i in range(len(x_train)):\n",
        "  if \"No\" in x_train.InternetService.iloc[i]:\n",
        "    netserv_id = True\n",
        "  else:\n",
        "    netserv_id = False\n",
        "  internet_serv_bool.append(netserv_id)\n",
        "\n",
        "for i in range(len(x_train)):\n",
        "  if \"DSL\" in x_train.InternetService.iloc[i]:\n",
        "    dslserv_id = True\n",
        "  else:\n",
        "    dslserv_id = False\n",
        "  DSL_serv_bool.append(dslserv_id)\n",
        "\n",
        "for i in range(len(x_train)):\n",
        "  if \"Fiber optic\" in x_train.InternetService.iloc[i]:\n",
        "    opticserv_id = True\n",
        "  else:\n",
        "    opticserv_id = False\n",
        "  optic_serv_bool.append(opticserv_id)\n",
        "\n",
        "for i in range(len(x_train)):\n",
        "  if \"Yes\" in x_train.OnlineSecurity.iloc[i]:\n",
        "    olsec_id = True\n",
        "  else:\n",
        "    olsec_id = False\n",
        "  olsecurity_serv_bool.append(olsec_id)\n",
        "\n",
        "for i in range(len(x_train)):\n",
        "  if \"Yes\" in x_train.OnlineBackup.iloc[i]:\n",
        "    olback_id = True\n",
        "  else:\n",
        "    olback_id = False\n",
        "  olbackup_serv_bool.append(olback_id)\n",
        "\n",
        "for i in range(len(x_train)):\n",
        "  if \"Yes\" in x_train.DeviceProtection.iloc[i]:\n",
        "    devprot_id = True\n",
        "  else:\n",
        "    devprot_id = False\n",
        "  devprotect_serv_bool.append(devprot_id)\n",
        "\n",
        "for i in range(len(x_train)):\n",
        "  if \"Yes\" in x_train.TechSupport.iloc[i]:\n",
        "    techsupp_id = True\n",
        "  else:\n",
        "    techsupp_id = False\n",
        "  techsupport_serv_bool.append(techsupp_id)\n",
        "\n",
        "for i in range(len(x_train)):\n",
        "  if \"Yes\" in x_train.StreamingTV.iloc[i]:\n",
        "    tv_id = True\n",
        "  else:\n",
        "    tv_id = False\n",
        "  tv_serv_bool.append(tv_id)\n",
        "\n",
        "for i in range(len(x_train)):\n",
        "  if \"Yes\" in x_train.StreamingMovies.iloc[i]:\n",
        "    movies_id = True\n",
        "  else:\n",
        "    movies_id = False\n",
        "  movies_serv_bool.append(movies_id)\n",
        "\n",
        "x_train[\"PhoneUser\"] = phone_serv_bool\n",
        "x_train[\"SingleLineUser\"] = single_line_bool\n",
        "x_train[\"MultiLineUser\"] = multi_line_bool\n",
        "x_train[\"InternetUser\"] = internet_serv_bool\n",
        "x_train[\"DSLUser\"] = DSL_serv_bool\n",
        "x_train[\"FiberOpticUser\"] = optic_serv_bool\n",
        "x_train[\"OnlineSecurityUser\"] = olsecurity_serv_bool\n",
        "x_train[\"OnlineBackupUser\"] = olbackup_serv_bool\n",
        "x_train[\"DeviceProtectionUser\"] = devprotect_serv_bool\n",
        "x_train[\"TechSupportUser\"] = techsupport_serv_bool\n",
        "x_train[\"TVStreamUser\"] = tv_serv_bool\n",
        "x_train[\"MoviesStreamUser\"] = movies_serv_bool"
      ],
      "metadata": {
        "id": "xubuxTO0kbw0"
      },
      "execution_count": 56,
      "outputs": []
    },
    {
      "cell_type": "markdown",
      "source": [
        "Jangan lupa kita lakukan juga *loop* di atas terhadap *dataset test*."
      ],
      "metadata": {
        "id": "NEHTRjas4hO9"
      }
    },
    {
      "cell_type": "code",
      "source": [
        "phone_serv_test_bool = []\n",
        "single_line_test_bool = []\n",
        "multi_line_test_bool = []\n",
        "internet_serv_test_bool = []\n",
        "DSL_serv_test_bool = []\n",
        "optic_serv_test_bool = []\n",
        "olsecurity_serv_test_bool = []\n",
        "olbackup_serv_test_bool = []\n",
        "devprotect_serv_test_bool = []\n",
        "techsupport_serv_test_bool = []\n",
        "tv_serv_test_bool = []\n",
        "movies_serv_test_bool = []\n",
        "\n",
        "for i in range(len(x_test)):\n",
        "  if \"Yes\" in x_test.PhoneService.iloc[i]:\n",
        "    phoneserv_id = True\n",
        "  else:\n",
        "    phoneserv_id = False\n",
        "  phone_serv_test_bool.append(phoneserv_id)\n",
        "\n",
        "for i in range(len(x_test)):\n",
        "  if \"Yes\" in x_test.MultipleLines.iloc[i]:\n",
        "    singleline_id = True\n",
        "  else:\n",
        "    singleline_id = False\n",
        "  single_line_test_bool.append(singleline_id)\n",
        "\n",
        "for i in range(len(x_test)):\n",
        "  if \"Yes\" in x_test.MultipleLines.iloc[i]:\n",
        "    multiline_id = True\n",
        "  else:\n",
        "    multiline_id = False\n",
        "  multi_line_test_bool.append(multiline_id)\n",
        "\n",
        "for i in range(len(x_test)):\n",
        "  if \"No\" in x_test.InternetService.iloc[i]:\n",
        "    netserv_id = True\n",
        "  else:\n",
        "    netserv_id = False\n",
        "  internet_serv_test_bool.append(netserv_id)\n",
        "\n",
        "for i in range(len(x_test)):\n",
        "  if \"DSL\" in x_test.InternetService.iloc[i]:\n",
        "    dslserv_id = True\n",
        "  else:\n",
        "    dslserv_id = False\n",
        "  DSL_serv_test_bool.append(dslserv_id)\n",
        "\n",
        "for i in range(len(x_test)):\n",
        "  if \"Fiber optic\" in x_test.InternetService.iloc[i]:\n",
        "    opticserv_id = True\n",
        "  else:\n",
        "    opticserv_id = False\n",
        "  optic_serv_test_bool.append(opticserv_id)\n",
        "\n",
        "for i in range(len(x_test)):\n",
        "  if \"Yes\" in x_test.OnlineSecurity.iloc[i]:\n",
        "    olsec_id = True\n",
        "  else:\n",
        "    olsec_id = False\n",
        "  olsecurity_serv_test_bool.append(olsec_id)\n",
        "\n",
        "for i in range(len(x_test)):\n",
        "  if \"Yes\" in x_test.OnlineBackup.iloc[i]:\n",
        "    olback_id = True\n",
        "  else:\n",
        "    olback_id = False\n",
        "  olbackup_serv_test_bool.append(olback_id)\n",
        "\n",
        "for i in range(len(x_test)):\n",
        "  if \"Yes\" in x_test.DeviceProtection.iloc[i]:\n",
        "    devprot_id = True\n",
        "  else:\n",
        "    devprot_id = False\n",
        "  devprotect_serv_test_bool.append(devprot_id)\n",
        "\n",
        "for i in range(len(x_test)):\n",
        "  if \"Yes\" in x_test.TechSupport.iloc[i]:\n",
        "    techsupp_id = True\n",
        "  else:\n",
        "    techsupp_id = False\n",
        "  techsupport_serv_test_bool.append(techsupp_id)\n",
        "\n",
        "for i in range(len(x_test)):\n",
        "  if \"Yes\" in x_test.StreamingTV.iloc[i]:\n",
        "    tv_id = True\n",
        "  else:\n",
        "    tv_id = False\n",
        "  tv_serv_test_bool.append(tv_id)\n",
        "\n",
        "for i in range(len(x_test)):\n",
        "  if \"Yes\" in x_test.StreamingMovies.iloc[i]:\n",
        "    movies_id = True\n",
        "  else:\n",
        "    movies_id = False\n",
        "  movies_serv_test_bool.append(movies_id)\n",
        "\n",
        "x_test[\"PhoneUser\"] = phone_serv_test_bool\n",
        "x_test[\"SingleLineUser\"] = single_line_test_bool\n",
        "x_test[\"MultiLineUser\"] = multi_line_test_bool\n",
        "x_test[\"InternetUser\"] = internet_serv_test_bool\n",
        "x_test[\"DSLUser\"] = DSL_serv_test_bool\n",
        "x_test[\"FiberOpticUser\"] = optic_serv_test_bool\n",
        "x_test[\"OnlineSecurityUser\"] = olsecurity_serv_test_bool\n",
        "x_test[\"OnlineBackupUser\"] = olbackup_serv_test_bool\n",
        "x_test[\"DeviceProtectionUser\"] = devprotect_serv_test_bool\n",
        "x_test[\"TechSupportUser\"] = techsupport_serv_test_bool\n",
        "x_test[\"TVStreamUser\"] = tv_serv_test_bool\n",
        "x_test[\"MoviesStreamUser\"] = movies_serv_test_bool"
      ],
      "metadata": {
        "id": "ZQ3308tmwHlf"
      },
      "execution_count": 57,
      "outputs": []
    },
    {
      "cell_type": "markdown",
      "source": [
        "Dan juga *dataset dev*."
      ],
      "metadata": {
        "id": "9902teZ1qWBk"
      }
    },
    {
      "cell_type": "code",
      "source": [
        "phone_serv_dev_bool = []\n",
        "single_line_dev_bool = []\n",
        "multi_line_dev_bool = []\n",
        "internet_serv_dev_bool = []\n",
        "DSL_serv_dev_bool = []\n",
        "optic_serv_dev_bool = []\n",
        "olsecurity_serv_dev_bool = []\n",
        "olbackup_serv_dev_bool = []\n",
        "devprotect_serv_dev_bool = []\n",
        "techsupport_serv_dev_bool = []\n",
        "tv_serv_dev_bool = []\n",
        "movies_serv_dev_bool = []\n",
        "\n",
        "for i in range(len(x_dev)):\n",
        "  if \"Yes\" in x_dev.PhoneService.iloc[i]:\n",
        "    phoneserv_id = True\n",
        "  else:\n",
        "    phoneserv_id = False\n",
        "  phone_serv_dev_bool.append(phoneserv_id)\n",
        "\n",
        "for i in range(len(x_dev)):\n",
        "  if \"Yes\" in x_dev.MultipleLines.iloc[i]:\n",
        "    singleline_id = True\n",
        "  else:\n",
        "    singleline_id = False\n",
        "  single_line_dev_bool.append(singleline_id)\n",
        "\n",
        "for i in range(len(x_dev)):\n",
        "  if \"Yes\" in x_dev.MultipleLines.iloc[i]:\n",
        "    multiline_id = True\n",
        "  else:\n",
        "    multiline_id = False\n",
        "  multi_line_dev_bool.append(multiline_id)\n",
        "\n",
        "for i in range(len(x_dev)):\n",
        "  if \"No\" in x_dev.InternetService.iloc[i]:\n",
        "    netserv_id = True\n",
        "  else:\n",
        "    netserv_id = False\n",
        "  internet_serv_dev_bool.append(netserv_id)\n",
        "\n",
        "for i in range(len(x_dev)):\n",
        "  if \"DSL\" in x_dev.InternetService.iloc[i]:\n",
        "    dslserv_id = True\n",
        "  else:\n",
        "    dslserv_id = False\n",
        "  DSL_serv_dev_bool.append(dslserv_id)\n",
        "\n",
        "for i in range(len(x_dev)):\n",
        "  if \"Fiber optic\" in x_dev.InternetService.iloc[i]:\n",
        "    opticserv_id = True\n",
        "  else:\n",
        "    opticserv_id = False\n",
        "  optic_serv_dev_bool.append(opticserv_id)\n",
        "\n",
        "for i in range(len(x_dev)):\n",
        "  if \"Yes\" in x_dev.OnlineSecurity.iloc[i]:\n",
        "    olsec_id = True\n",
        "  else:\n",
        "    olsec_id = False\n",
        "  olsecurity_serv_dev_bool.append(olsec_id)\n",
        "\n",
        "for i in range(len(x_dev)):\n",
        "  if \"Yes\" in x_dev.OnlineBackup.iloc[i]:\n",
        "    olback_id = True\n",
        "  else:\n",
        "    olback_id = False\n",
        "  olbackup_serv_dev_bool.append(olback_id)\n",
        "\n",
        "for i in range(len(x_dev)):\n",
        "  if \"Yes\" in x_dev.DeviceProtection.iloc[i]:\n",
        "    devprot_id = True\n",
        "  else:\n",
        "    devprot_id = False\n",
        "  devprotect_serv_dev_bool.append(devprot_id)\n",
        "\n",
        "for i in range(len(x_dev)):\n",
        "  if \"Yes\" in x_dev.TechSupport.iloc[i]:\n",
        "    techsupp_id = True\n",
        "  else:\n",
        "    techsupp_id = False\n",
        "  techsupport_serv_dev_bool.append(techsupp_id)\n",
        "\n",
        "for i in range(len(x_dev)):\n",
        "  if \"Yes\" in x_dev.StreamingTV.iloc[i]:\n",
        "    tv_id = True\n",
        "  else:\n",
        "    tv_id = False\n",
        "  tv_serv_dev_bool.append(tv_id)\n",
        "\n",
        "for i in range(len(x_dev)):\n",
        "  if \"Yes\" in x_dev.StreamingMovies.iloc[i]:\n",
        "    movies_id = True\n",
        "  else:\n",
        "    movies_id = False\n",
        "  movies_serv_dev_bool.append(movies_id)\n",
        "\n",
        "x_dev[\"PhoneUser\"] = phone_serv_dev_bool\n",
        "x_dev[\"SingleLineUser\"] = single_line_dev_bool\n",
        "x_dev[\"MultiLineUser\"] = multi_line_dev_bool\n",
        "x_dev[\"InternetUser\"] = internet_serv_dev_bool\n",
        "x_dev[\"DSLUser\"] = DSL_serv_dev_bool\n",
        "x_dev[\"FiberOpticUser\"] = optic_serv_dev_bool\n",
        "x_dev[\"OnlineSecurityUser\"] = olsecurity_serv_dev_bool\n",
        "x_dev[\"OnlineBackupUser\"] = olbackup_serv_dev_bool\n",
        "x_dev[\"DeviceProtectionUser\"] = devprotect_serv_dev_bool\n",
        "x_dev[\"TechSupportUser\"] = techsupport_serv_dev_bool\n",
        "x_dev[\"TVStreamUser\"] = tv_serv_dev_bool\n",
        "x_dev[\"MoviesStreamUser\"] = movies_serv_dev_bool"
      ],
      "metadata": {
        "id": "pTUoILF9mekt"
      },
      "execution_count": 58,
      "outputs": []
    },
    {
      "cell_type": "markdown",
      "source": [
        "### Mengurus *Missing Values*"
      ],
      "metadata": {
        "id": "PWVD-URQJ7uw"
      }
    },
    {
      "cell_type": "markdown",
      "source": [
        "Selain pemecahan kolom, kita akan mengisi *missing value* pada kolom `TotalCharges` dengan menggunakan median-nya."
      ],
      "metadata": {
        "id": "PswwzCtEKAyi"
      }
    },
    {
      "cell_type": "code",
      "source": [
        "x_train.TotalCharges = x_train.TotalCharges.fillna(x_train.TotalCharges.median())\n",
        "x_test.TotalCharges = x_test.TotalCharges.fillna(x_test.TotalCharges.median())\n",
        "x_dev.TotalCharges = x_dev.TotalCharges.fillna(x_train.TotalCharges.median())"
      ],
      "metadata": {
        "id": "VWBpi5u1KZeo"
      },
      "execution_count": 59,
      "outputs": []
    },
    {
      "cell_type": "markdown",
      "source": [
        "### *Feature Scaling* & *Feature Encoding*"
      ],
      "metadata": {
        "id": "sJeQdUJVTn51"
      }
    },
    {
      "cell_type": "markdown",
      "source": [
        "Sebelum kita lakukan *scaling* dan *encoding*, kita akan ambil semua kolom yang sudah kita olah sebelumnya beserta dengan kolom lain yang belum diolah kecuali kolom `customerID`."
      ],
      "metadata": {
        "id": "fMV-VXKrTsgG"
      }
    },
    {
      "cell_type": "code",
      "source": [
        "x_train = x_train[[\"gender\", \"SeniorCitizen\", \"Partner\", \"Dependents\", \"tenure\", \"PhoneUser\",\"SingleLineUser\", \"MultiLineUser\", \"InternetUser\", \"DSLUser\", \"FiberOpticUser\", \"OnlineSecurityUser\", \"OnlineBackupUser\", \"DeviceProtectionUser\", \"TechSupportUser\", \"TVStreamUser\", \"MoviesStreamUser\", \"Contract\", \"PaperlessBilling\", \"PaymentMethod\", \"MonthlyCharges\", \"TotalCharges\"]]\n",
        "x_test = x_test[[\"gender\", \"SeniorCitizen\", \"Partner\", \"Dependents\", \"tenure\",\"PhoneUser\",\"SingleLineUser\", \"MultiLineUser\", \"InternetUser\", \"DSLUser\", \"FiberOpticUser\", \"OnlineSecurityUser\", \"OnlineBackupUser\", \"DeviceProtectionUser\", \"TechSupportUser\", \"TVStreamUser\", \"MoviesStreamUser\", \"Contract\", \"PaperlessBilling\", \"PaymentMethod\", \"MonthlyCharges\", \"TotalCharges\"]]"
      ],
      "metadata": {
        "id": "nJkofchlUC-D"
      },
      "execution_count": 60,
      "outputs": []
    },
    {
      "cell_type": "markdown",
      "source": [
        "Kemudian kita akan pisahkan kolom-kolom yang telah pilih menjadi kolom numerik, kolom kategorik nominal, dan kolom kategorik ordinal."
      ],
      "metadata": {
        "id": "NYwbrj1u4vDH"
      }
    },
    {
      "cell_type": "code",
      "source": [
        "num_columns = x_train[[\"tenure\", \"MonthlyCharges\", \"TotalCharges\"]].columns.tolist()\n",
        "ord_columns = x_train[[\"SeniorCitizen\", \"Dependents\", \"PhoneUser\",\"SingleLineUser\", \"MultiLineUser\", \"InternetUser\", \"DSLUser\", \"FiberOpticUser\", \"OnlineSecurityUser\", \"OnlineBackupUser\", \"DeviceProtectionUser\", \"TechSupportUser\", \"TVStreamUser\", \"MoviesStreamUser\"]].columns.tolist()\n",
        "nom_columns = x_train[[\"gender\", \"Partner\", \"Contract\", \"PaperlessBilling\", \"PaymentMethod\"]].columns.tolist()"
      ],
      "metadata": {
        "id": "ljS_-Zj8z0fc"
      },
      "execution_count": 61,
      "outputs": []
    },
    {
      "cell_type": "markdown",
      "source": [
        "Lalu kita akan lakukan *scaling* dan *encoding* kepada masing-masing kolomnya dengan menggunakan *pipeline*."
      ],
      "metadata": {
        "id": "vtJAMdQh5LdG"
      }
    },
    {
      "cell_type": "code",
      "source": [
        "preprocess_pipeline = ColumnTransformer([\n",
        "                      (\"num\", StandardScaler(), num_columns),\n",
        "                      (\"cat_ord\", OrdinalEncoder(), ord_columns),\n",
        "                      (\"cat_nom\", OneHotEncoder(), nom_columns)\n",
        "                      ])\n",
        "\n",
        "preprocess_data_train = preprocess_pipeline.fit_transform(x_train, y_train)\n",
        "preprocess_data_test = preprocess_pipeline.transform(x_test)\n",
        "preprocess_data_dev = preprocess_pipeline.transform(x_dev)"
      ],
      "metadata": {
        "id": "q2fd7K5S2doU"
      },
      "execution_count": 62,
      "outputs": []
    },
    {
      "cell_type": "markdown",
      "source": [
        "Sebelum kita gunakan *dataset train* yang telah kita olah, kita akan acak *dataset train* dengan bantuan *pipeline* dari `tensorflow`."
      ],
      "metadata": {
        "id": "qa2oECsQSWQz"
      }
    },
    {
      "cell_type": "code",
      "source": [
        "tf_dataset_train = tf.data.Dataset.from_tensor_slices((preprocess_data_train, y_train))\n",
        "tf_dataset_test = tf.data.Dataset.from_tensor_slices((preprocess_data_test, y_test))\n",
        "tf_dataset_dev = tf.data.Dataset.from_tensor_slices((preprocess_data_dev, y_dev))\n",
        "tf_dataset_train_batch = tf_dataset_train.batch(16).shuffle(buffer_size = 64)\n",
        "tf_dataset_test_batch = tf_dataset_test.batch(16)\n",
        "tf_dataset_dev_batch = tf_dataset_dev.batch(16)"
      ],
      "metadata": {
        "id": "uxAFUYf4QqZI"
      },
      "execution_count": 63,
      "outputs": []
    },
    {
      "cell_type": "markdown",
      "source": [
        "*Dataset train* inilah yang nantinya akan kita masukkan ke dalam model yang akan kita buat."
      ],
      "metadata": {
        "id": "5bKKEHjdSjEz"
      }
    },
    {
      "cell_type": "markdown",
      "source": [
        "## *Model Construction*"
      ],
      "metadata": {
        "id": "NNxMw8uYSqWQ"
      }
    },
    {
      "cell_type": "markdown",
      "source": [
        "### *Initial Construction & Evaluation*"
      ],
      "metadata": {
        "id": "Q5a-eE9TSwBE"
      }
    },
    {
      "cell_type": "markdown",
      "source": [
        "Sebelum memulai proses pembangunan model, kita akan pastikan terlebih dahulu bahwa sesi *library* `keras` yang akan gunakan bersih sebelum kita menentukan *seed* dari *library* tersebut."
      ],
      "metadata": {
        "id": "s-g40fetzIZQ"
      }
    },
    {
      "cell_type": "code",
      "source": [
        "keras.backend.clear_session()\n",
        "np.random.seed(13)\n",
        "tf.random.set_seed(13)"
      ],
      "metadata": {
        "id": "yV0hOz3th2_n"
      },
      "execution_count": 64,
      "outputs": []
    },
    {
      "cell_type": "markdown",
      "source": [
        "Kemudian kita akan membangun model berbentuk sekuensial. Pada tahap ini kita hanya akan membuat satu *hidden layer* mengingat data yang digunakan jumlahnya tidak terlalu banyak. Selain itu kita akan *compile* model dengan menggunakan *binary crossentropy* sebagai fungsi *loss* karena kita akan melakukan klasifikasi biner dan menggunakan *optimizer* Adam. Keluaran dari perintah *compile* ini akan kita atur menjadi akurasi."
      ],
      "metadata": {
        "id": "32K3L2qZzUMN"
      }
    },
    {
      "cell_type": "code",
      "source": [
        "model_sequence = keras.models.Sequential([\n",
        "    keras.Input(shape = preprocess_data_train.shape[1:], name = \"Input\"),\n",
        "    keras.layers.Dense(9, kernel_initializer = keras.initializers.HeNormal(seed = 13), activation = \"relu\", name = \"HL_1\"),\n",
        "    keras.layers.Dense(1, activation = \"sigmoid\", name = \"Output\")\n",
        "])\n",
        "\n",
        "model_sequence.compile(loss = \"binary_crossentropy\",\n",
        "              optimizer = \"Adam\",\n",
        "              metrics = [\"accuracy\"])\n",
        "\n",
        "model_sequence.summary()"
      ],
      "metadata": {
        "id": "yKc1Ib4hwOvc",
        "colab": {
          "base_uri": "https://localhost:8080/"
        },
        "outputId": "93c53729-1ac8-470f-c098-85a382d47177"
      },
      "execution_count": 65,
      "outputs": [
        {
          "output_type": "stream",
          "name": "stdout",
          "text": [
            "Model: \"sequential\"\n",
            "_________________________________________________________________\n",
            " Layer (type)                Output Shape              Param #   \n",
            "=================================================================\n",
            " HL_1 (Dense)                (None, 9)                 279       \n",
            "                                                                 \n",
            " Output (Dense)              (None, 1)                 10        \n",
            "                                                                 \n",
            "=================================================================\n",
            "Total params: 289\n",
            "Trainable params: 289\n",
            "Non-trainable params: 0\n",
            "_________________________________________________________________\n"
          ]
        }
      ]
    },
    {
      "cell_type": "markdown",
      "source": [
        "Kemudian kita akan latih model yang sudah kita buat."
      ],
      "metadata": {
        "id": "Rgq1cpe_z0km"
      }
    },
    {
      "cell_type": "code",
      "source": [
        "history_sequence = model_sequence.fit(tf_dataset_train_batch, epochs = 20, validation_data = tf_dataset_dev_batch)"
      ],
      "metadata": {
        "id": "DXo2dfLV0gV6",
        "colab": {
          "base_uri": "https://localhost:8080/"
        },
        "outputId": "749cb146-b4ea-44e6-accf-310327b97aff"
      },
      "execution_count": 66,
      "outputs": [
        {
          "output_type": "stream",
          "name": "stdout",
          "text": [
            "Epoch 1/20\n",
            "308/308 [==============================] - 2s 3ms/step - loss: 0.5235 - accuracy: 0.7372 - val_loss: 0.4572 - val_accuracy: 0.7870\n",
            "Epoch 2/20\n",
            "308/308 [==============================] - 1s 3ms/step - loss: 0.4412 - accuracy: 0.7877 - val_loss: 0.4352 - val_accuracy: 0.7941\n",
            "Epoch 3/20\n",
            "308/308 [==============================] - 1s 2ms/step - loss: 0.4271 - accuracy: 0.7981 - val_loss: 0.4293 - val_accuracy: 0.7997\n",
            "Epoch 4/20\n",
            "308/308 [==============================] - 1s 3ms/step - loss: 0.4219 - accuracy: 0.7995 - val_loss: 0.4260 - val_accuracy: 0.8018\n",
            "Epoch 5/20\n",
            "308/308 [==============================] - 1s 3ms/step - loss: 0.4190 - accuracy: 0.8032 - val_loss: 0.4255 - val_accuracy: 0.7969\n",
            "Epoch 6/20\n",
            "308/308 [==============================] - 1s 3ms/step - loss: 0.4171 - accuracy: 0.8052 - val_loss: 0.4242 - val_accuracy: 0.7962\n",
            "Epoch 7/20\n",
            "308/308 [==============================] - 1s 3ms/step - loss: 0.4147 - accuracy: 0.8072 - val_loss: 0.4238 - val_accuracy: 0.7983\n",
            "Epoch 8/20\n",
            "308/308 [==============================] - 1s 3ms/step - loss: 0.4142 - accuracy: 0.8078 - val_loss: 0.4231 - val_accuracy: 0.7955\n",
            "Epoch 9/20\n",
            "308/308 [==============================] - 1s 3ms/step - loss: 0.4128 - accuracy: 0.8087 - val_loss: 0.4233 - val_accuracy: 0.7976\n",
            "Epoch 10/20\n",
            "308/308 [==============================] - 1s 3ms/step - loss: 0.4117 - accuracy: 0.8068 - val_loss: 0.4233 - val_accuracy: 0.7933\n",
            "Epoch 11/20\n",
            "308/308 [==============================] - 1s 2ms/step - loss: 0.4111 - accuracy: 0.8085 - val_loss: 0.4232 - val_accuracy: 0.7948\n",
            "Epoch 12/20\n",
            "308/308 [==============================] - 1s 2ms/step - loss: 0.4102 - accuracy: 0.8080 - val_loss: 0.4240 - val_accuracy: 0.7955\n",
            "Epoch 13/20\n",
            "308/308 [==============================] - 1s 2ms/step - loss: 0.4096 - accuracy: 0.8103 - val_loss: 0.4239 - val_accuracy: 0.7969\n",
            "Epoch 14/20\n",
            "308/308 [==============================] - 1s 2ms/step - loss: 0.4089 - accuracy: 0.8093 - val_loss: 0.4237 - val_accuracy: 0.7962\n",
            "Epoch 15/20\n",
            "308/308 [==============================] - 1s 2ms/step - loss: 0.4080 - accuracy: 0.8123 - val_loss: 0.4242 - val_accuracy: 0.7948\n",
            "Epoch 16/20\n",
            "308/308 [==============================] - 1s 2ms/step - loss: 0.4081 - accuracy: 0.8101 - val_loss: 0.4242 - val_accuracy: 0.7962\n",
            "Epoch 17/20\n",
            "308/308 [==============================] - 1s 2ms/step - loss: 0.4078 - accuracy: 0.8101 - val_loss: 0.4242 - val_accuracy: 0.7955\n",
            "Epoch 18/20\n",
            "308/308 [==============================] - 1s 2ms/step - loss: 0.4066 - accuracy: 0.8121 - val_loss: 0.4244 - val_accuracy: 0.7997\n",
            "Epoch 19/20\n",
            "308/308 [==============================] - 1s 2ms/step - loss: 0.4064 - accuracy: 0.8127 - val_loss: 0.4246 - val_accuracy: 0.8011\n",
            "Epoch 20/20\n",
            "308/308 [==============================] - 1s 2ms/step - loss: 0.4060 - accuracy: 0.8109 - val_loss: 0.4256 - val_accuracy: 0.7990\n"
          ]
        }
      ]
    },
    {
      "cell_type": "markdown",
      "source": [
        "Lalu kita akan lihat bagaimana perhitungan akurasi keluaran dan akurasi validasi dari model yang sudah dibuat."
      ],
      "metadata": {
        "id": "4gN2IwcG1NrS"
      }
    },
    {
      "cell_type": "code",
      "source": [
        "metrics_sequence = pd.DataFrame(history_sequence.history)\n",
        "metrics_sequence.describe()"
      ],
      "metadata": {
        "colab": {
          "base_uri": "https://localhost:8080/",
          "height": 300
        },
        "id": "fZX9nK9TwM-Z",
        "outputId": "5c7a39ad-5e4e-43cf-ddec-33a6730fcb48"
      },
      "execution_count": 67,
      "outputs": [
        {
          "output_type": "execute_result",
          "data": {
            "text/plain": [
              "            loss   accuracy   val_loss  val_accuracy\n",
              "count  20.000000  20.000000  20.000000     20.000000\n",
              "mean    0.419296   0.803281   0.426659      0.796497\n",
              "std     0.025953   0.016655   0.007702      0.003227\n",
              "min     0.405990   0.737152   0.423146      0.786978\n",
              "25%     0.408097   0.804692   0.423804      0.795294\n",
              "50%     0.411397   0.808247   0.424220      0.796178\n",
              "75%     0.417572   0.810126   0.425554      0.798478\n",
              "max     0.523493   0.812716   0.457207      0.801840"
            ],
            "text/html": [
              "\n",
              "  <div id=\"df-ab9e145e-22d1-4442-ad0d-29cb03bf8d85\">\n",
              "    <div class=\"colab-df-container\">\n",
              "      <div>\n",
              "<style scoped>\n",
              "    .dataframe tbody tr th:only-of-type {\n",
              "        vertical-align: middle;\n",
              "    }\n",
              "\n",
              "    .dataframe tbody tr th {\n",
              "        vertical-align: top;\n",
              "    }\n",
              "\n",
              "    .dataframe thead th {\n",
              "        text-align: right;\n",
              "    }\n",
              "</style>\n",
              "<table border=\"1\" class=\"dataframe\">\n",
              "  <thead>\n",
              "    <tr style=\"text-align: right;\">\n",
              "      <th></th>\n",
              "      <th>loss</th>\n",
              "      <th>accuracy</th>\n",
              "      <th>val_loss</th>\n",
              "      <th>val_accuracy</th>\n",
              "    </tr>\n",
              "  </thead>\n",
              "  <tbody>\n",
              "    <tr>\n",
              "      <th>count</th>\n",
              "      <td>20.000000</td>\n",
              "      <td>20.000000</td>\n",
              "      <td>20.000000</td>\n",
              "      <td>20.000000</td>\n",
              "    </tr>\n",
              "    <tr>\n",
              "      <th>mean</th>\n",
              "      <td>0.419296</td>\n",
              "      <td>0.803281</td>\n",
              "      <td>0.426659</td>\n",
              "      <td>0.796497</td>\n",
              "    </tr>\n",
              "    <tr>\n",
              "      <th>std</th>\n",
              "      <td>0.025953</td>\n",
              "      <td>0.016655</td>\n",
              "      <td>0.007702</td>\n",
              "      <td>0.003227</td>\n",
              "    </tr>\n",
              "    <tr>\n",
              "      <th>min</th>\n",
              "      <td>0.405990</td>\n",
              "      <td>0.737152</td>\n",
              "      <td>0.423146</td>\n",
              "      <td>0.786978</td>\n",
              "    </tr>\n",
              "    <tr>\n",
              "      <th>25%</th>\n",
              "      <td>0.408097</td>\n",
              "      <td>0.804692</td>\n",
              "      <td>0.423804</td>\n",
              "      <td>0.795294</td>\n",
              "    </tr>\n",
              "    <tr>\n",
              "      <th>50%</th>\n",
              "      <td>0.411397</td>\n",
              "      <td>0.808247</td>\n",
              "      <td>0.424220</td>\n",
              "      <td>0.796178</td>\n",
              "    </tr>\n",
              "    <tr>\n",
              "      <th>75%</th>\n",
              "      <td>0.417572</td>\n",
              "      <td>0.810126</td>\n",
              "      <td>0.425554</td>\n",
              "      <td>0.798478</td>\n",
              "    </tr>\n",
              "    <tr>\n",
              "      <th>max</th>\n",
              "      <td>0.523493</td>\n",
              "      <td>0.812716</td>\n",
              "      <td>0.457207</td>\n",
              "      <td>0.801840</td>\n",
              "    </tr>\n",
              "  </tbody>\n",
              "</table>\n",
              "</div>\n",
              "      <button class=\"colab-df-convert\" onclick=\"convertToInteractive('df-ab9e145e-22d1-4442-ad0d-29cb03bf8d85')\"\n",
              "              title=\"Convert this dataframe to an interactive table.\"\n",
              "              style=\"display:none;\">\n",
              "        \n",
              "  <svg xmlns=\"http://www.w3.org/2000/svg\" height=\"24px\"viewBox=\"0 0 24 24\"\n",
              "       width=\"24px\">\n",
              "    <path d=\"M0 0h24v24H0V0z\" fill=\"none\"/>\n",
              "    <path d=\"M18.56 5.44l.94 2.06.94-2.06 2.06-.94-2.06-.94-.94-2.06-.94 2.06-2.06.94zm-11 1L8.5 8.5l.94-2.06 2.06-.94-2.06-.94L8.5 2.5l-.94 2.06-2.06.94zm10 10l.94 2.06.94-2.06 2.06-.94-2.06-.94-.94-2.06-.94 2.06-2.06.94z\"/><path d=\"M17.41 7.96l-1.37-1.37c-.4-.4-.92-.59-1.43-.59-.52 0-1.04.2-1.43.59L10.3 9.45l-7.72 7.72c-.78.78-.78 2.05 0 2.83L4 21.41c.39.39.9.59 1.41.59.51 0 1.02-.2 1.41-.59l7.78-7.78 2.81-2.81c.8-.78.8-2.07 0-2.86zM5.41 20L4 18.59l7.72-7.72 1.47 1.35L5.41 20z\"/>\n",
              "  </svg>\n",
              "      </button>\n",
              "      \n",
              "  <style>\n",
              "    .colab-df-container {\n",
              "      display:flex;\n",
              "      flex-wrap:wrap;\n",
              "      gap: 12px;\n",
              "    }\n",
              "\n",
              "    .colab-df-convert {\n",
              "      background-color: #E8F0FE;\n",
              "      border: none;\n",
              "      border-radius: 50%;\n",
              "      cursor: pointer;\n",
              "      display: none;\n",
              "      fill: #1967D2;\n",
              "      height: 32px;\n",
              "      padding: 0 0 0 0;\n",
              "      width: 32px;\n",
              "    }\n",
              "\n",
              "    .colab-df-convert:hover {\n",
              "      background-color: #E2EBFA;\n",
              "      box-shadow: 0px 1px 2px rgba(60, 64, 67, 0.3), 0px 1px 3px 1px rgba(60, 64, 67, 0.15);\n",
              "      fill: #174EA6;\n",
              "    }\n",
              "\n",
              "    [theme=dark] .colab-df-convert {\n",
              "      background-color: #3B4455;\n",
              "      fill: #D2E3FC;\n",
              "    }\n",
              "\n",
              "    [theme=dark] .colab-df-convert:hover {\n",
              "      background-color: #434B5C;\n",
              "      box-shadow: 0px 1px 3px 1px rgba(0, 0, 0, 0.15);\n",
              "      filter: drop-shadow(0px 1px 2px rgba(0, 0, 0, 0.3));\n",
              "      fill: #FFFFFF;\n",
              "    }\n",
              "  </style>\n",
              "\n",
              "      <script>\n",
              "        const buttonEl =\n",
              "          document.querySelector('#df-ab9e145e-22d1-4442-ad0d-29cb03bf8d85 button.colab-df-convert');\n",
              "        buttonEl.style.display =\n",
              "          google.colab.kernel.accessAllowed ? 'block' : 'none';\n",
              "\n",
              "        async function convertToInteractive(key) {\n",
              "          const element = document.querySelector('#df-ab9e145e-22d1-4442-ad0d-29cb03bf8d85');\n",
              "          const dataTable =\n",
              "            await google.colab.kernel.invokeFunction('convertToInteractive',\n",
              "                                                     [key], {});\n",
              "          if (!dataTable) return;\n",
              "\n",
              "          const docLinkHtml = 'Like what you see? Visit the ' +\n",
              "            '<a target=\"_blank\" href=https://colab.research.google.com/notebooks/data_table.ipynb>data table notebook</a>'\n",
              "            + ' to learn more about interactive tables.';\n",
              "          element.innerHTML = '';\n",
              "          dataTable['output_type'] = 'display_data';\n",
              "          await google.colab.output.renderOutput(dataTable, element);\n",
              "          const docLink = document.createElement('div');\n",
              "          docLink.innerHTML = docLinkHtml;\n",
              "          element.appendChild(docLink);\n",
              "        }\n",
              "      </script>\n",
              "    </div>\n",
              "  </div>\n",
              "  "
            ]
          },
          "metadata": {},
          "execution_count": 67
        }
      ]
    },
    {
      "cell_type": "markdown",
      "source": [
        "Dari perintah di atas, kita dapat mengetahui bahwa rata-rata akurasi dari model adalah sebesar 80.32% dengan rata-rata akurasi validasi sebesar 79.65%, serta model memiliki penalti rata-rata sebesar 0.4192 dengan penalti rata-rata validasi sebesar 0.4267. Untuk lebih jelasnya, kita dapat membuat grafik untuk menvisualisasikan akurasi model tersebut."
      ],
      "metadata": {
        "id": "5RNWmBa61YOj"
      }
    },
    {
      "cell_type": "code",
      "source": [
        "metrics_sequence[[\"accuracy\", \"val_accuracy\", \"loss\", \"val_loss\"]].plot()"
      ],
      "metadata": {
        "colab": {
          "base_uri": "https://localhost:8080/",
          "height": 282
        },
        "id": "-1kb7_eV11GA",
        "outputId": "5b8e715a-4b99-47d8-9eeb-c96ca6d3bb8a"
      },
      "execution_count": 68,
      "outputs": [
        {
          "output_type": "execute_result",
          "data": {
            "text/plain": [
              "<matplotlib.axes._subplots.AxesSubplot at 0x7fbf63714f10>"
            ]
          },
          "metadata": {},
          "execution_count": 68
        },
        {
          "output_type": "display_data",
          "data": {
            "text/plain": [
              "<Figure size 432x288 with 1 Axes>"
            ],
            "image/png": "[encoded data removed]"
          },
          "metadata": {
            "needs_background": "light"
          }
        }
      ]
    },
    {
      "cell_type": "markdown",
      "source": [
        "Dari grafik di atas, kita dapat lihat bahwa akurasi model umumnya mengalami kenaikan dan penalti dari model terus turun selama pelatihan model.\n",
        "\n",
        "Selanjutnya kita akan buat model *neural network* berbentuk fungsi. Kita akan buat model dengan parameter yang serupa dengan model sekuensial yang kita buat sebelumnya, namun kali ini kita akan buat dalam bentuk fungsi."
      ],
      "metadata": {
        "id": "mgOQqfEA12Ef"
      }
    },
    {
      "cell_type": "code",
      "source": [
        "initial_input = keras.Input(shape = preprocess_data_train.shape[1:], name = \"Input\")\n",
        "hidden_1 = keras.layers.Dense(9, kernel_initializer = keras.initializers.HeNormal(seed = 13), activation = \"relu\", name = \"HL_1\")(initial_input)\n",
        "final_output = keras.layers.Dense(1, activation = \"sigmoid\", name = \"Output\")(hidden_1)\n",
        "model_function = keras.models.Model(inputs = [initial_input], outputs = [final_output])\n",
        "\n",
        "model_function.compile(loss = \"binary_crossentropy\",\n",
        "              optimizer = \"Adam\",\n",
        "              metrics = [\"accuracy\"])\n",
        "\n",
        "model_function.summary()"
      ],
      "metadata": {
        "id": "UGKdABpWbwQx",
        "colab": {
          "base_uri": "https://localhost:8080/"
        },
        "outputId": "08ef9319-9e17-45f0-f4ba-42fddee44dfe"
      },
      "execution_count": 69,
      "outputs": [
        {
          "output_type": "stream",
          "name": "stdout",
          "text": [
            "Model: \"model\"\n",
            "_________________________________________________________________\n",
            " Layer (type)                Output Shape              Param #   \n",
            "=================================================================\n",
            " Input (InputLayer)          [(None, 30)]              0         \n",
            "                                                                 \n",
            " HL_1 (Dense)                (None, 9)                 279       \n",
            "                                                                 \n",
            " Output (Dense)              (None, 1)                 10        \n",
            "                                                                 \n",
            "=================================================================\n",
            "Total params: 289\n",
            "Trainable params: 289\n",
            "Non-trainable params: 0\n",
            "_________________________________________________________________\n"
          ]
        }
      ]
    },
    {
      "cell_type": "markdown",
      "source": [
        "Kemudian kita akan latih model yang sudah kita buat."
      ],
      "metadata": {
        "id": "rmSa5wGt2TgL"
      }
    },
    {
      "cell_type": "code",
      "source": [
        "history_function = model_function.fit(tf_dataset_train_batch, epochs = 20, validation_data = tf_dataset_dev_batch)"
      ],
      "metadata": {
        "colab": {
          "base_uri": "https://localhost:8080/"
        },
        "id": "M0394sLsngjt",
        "outputId": "2d1be6e9-8f23-47ed-b6e7-c1e64eb02696"
      },
      "execution_count": 70,
      "outputs": [
        {
          "output_type": "stream",
          "name": "stdout",
          "text": [
            "Epoch 1/20\n",
            "308/308 [==============================] - 1s 3ms/step - loss: 0.5242 - accuracy: 0.7321 - val_loss: 0.4484 - val_accuracy: 0.7941\n",
            "Epoch 2/20\n",
            "308/308 [==============================] - 1s 2ms/step - loss: 0.4347 - accuracy: 0.7948 - val_loss: 0.4248 - val_accuracy: 0.7983\n",
            "Epoch 3/20\n",
            "308/308 [==============================] - 1s 2ms/step - loss: 0.4225 - accuracy: 0.7997 - val_loss: 0.4210 - val_accuracy: 0.7997\n",
            "Epoch 4/20\n",
            "308/308 [==============================] - 1s 2ms/step - loss: 0.4192 - accuracy: 0.8013 - val_loss: 0.4193 - val_accuracy: 0.8040\n",
            "Epoch 5/20\n",
            "308/308 [==============================] - 1s 2ms/step - loss: 0.4171 - accuracy: 0.8034 - val_loss: 0.4191 - val_accuracy: 0.8068\n",
            "Epoch 6/20\n",
            "308/308 [==============================] - 1s 2ms/step - loss: 0.4147 - accuracy: 0.8068 - val_loss: 0.4182 - val_accuracy: 0.8033\n",
            "Epoch 7/20\n",
            "308/308 [==============================] - 1s 2ms/step - loss: 0.4134 - accuracy: 0.8095 - val_loss: 0.4185 - val_accuracy: 0.8054\n",
            "Epoch 8/20\n",
            "308/308 [==============================] - 1s 2ms/step - loss: 0.4129 - accuracy: 0.8089 - val_loss: 0.4185 - val_accuracy: 0.8025\n",
            "Epoch 9/20\n",
            "308/308 [==============================] - 1s 2ms/step - loss: 0.4113 - accuracy: 0.8109 - val_loss: 0.4190 - val_accuracy: 0.8054\n",
            "Epoch 10/20\n",
            "308/308 [==============================] - 1s 2ms/step - loss: 0.4115 - accuracy: 0.8099 - val_loss: 0.4185 - val_accuracy: 0.8054\n",
            "Epoch 11/20\n",
            "308/308 [==============================] - 1s 2ms/step - loss: 0.4110 - accuracy: 0.8091 - val_loss: 0.4184 - val_accuracy: 0.8040\n",
            "Epoch 12/20\n",
            "308/308 [==============================] - 1s 2ms/step - loss: 0.4100 - accuracy: 0.8089 - val_loss: 0.4185 - val_accuracy: 0.8068\n",
            "Epoch 13/20\n",
            "308/308 [==============================] - 1s 2ms/step - loss: 0.4102 - accuracy: 0.8082 - val_loss: 0.4186 - val_accuracy: 0.8047\n",
            "Epoch 14/20\n",
            "308/308 [==============================] - 1s 2ms/step - loss: 0.4090 - accuracy: 0.8113 - val_loss: 0.4189 - val_accuracy: 0.8004\n",
            "Epoch 15/20\n",
            "308/308 [==============================] - 1s 3ms/step - loss: 0.4092 - accuracy: 0.8099 - val_loss: 0.4192 - val_accuracy: 0.8011\n",
            "Epoch 16/20\n",
            "308/308 [==============================] - 1s 2ms/step - loss: 0.4089 - accuracy: 0.8085 - val_loss: 0.4193 - val_accuracy: 0.8061\n",
            "Epoch 17/20\n",
            "308/308 [==============================] - 1s 2ms/step - loss: 0.4081 - accuracy: 0.8131 - val_loss: 0.4182 - val_accuracy: 0.8040\n",
            "Epoch 18/20\n",
            "308/308 [==============================] - 1s 2ms/step - loss: 0.4082 - accuracy: 0.8119 - val_loss: 0.4187 - val_accuracy: 0.8061\n",
            "Epoch 19/20\n",
            "308/308 [==============================] - 1s 2ms/step - loss: 0.4077 - accuracy: 0.8113 - val_loss: 0.4186 - val_accuracy: 0.8047\n",
            "Epoch 20/20\n",
            "308/308 [==============================] - 1s 3ms/step - loss: 0.4071 - accuracy: 0.8076 - val_loss: 0.4202 - val_accuracy: 0.8025\n"
          ]
        }
      ]
    },
    {
      "cell_type": "markdown",
      "source": [
        "Lalu kita akan lihat bagaimana perhitungan akurasi keluaran dan akurasi validasi dari model yang sudah dibuat."
      ],
      "metadata": {
        "id": "28IovXRK2b6X"
      }
    },
    {
      "cell_type": "code",
      "source": [
        "metrics_function = pd.DataFrame(history_function.history)\n",
        "metrics_function.describe()"
      ],
      "metadata": {
        "id": "9hMBMKinnjX3",
        "colab": {
          "base_uri": "https://localhost:8080/",
          "height": 300
        },
        "outputId": "d4ab8418-8694-4760-8990-42119f0b4022"
      },
      "execution_count": 71,
      "outputs": [
        {
          "output_type": "execute_result",
          "data": {
            "text/plain": [
              "            loss   accuracy   val_loss  val_accuracy\n",
              "count  20.000000  20.000000  20.000000     20.000000\n",
              "mean    0.418533   0.803849   0.420684      0.803255\n",
              "std     0.025701   0.017491   0.006685      0.003206\n",
              "min     0.407135   0.732074   0.418179      0.794055\n",
              "25%     0.408964   0.805962   0.418505      0.802194\n",
              "50%     0.411138   0.808856   0.418816      0.803963\n",
              "75%     0.415343   0.810126   0.419271      0.805379\n",
              "max     0.524181   0.813122   0.448393      0.806794"
            ],
            "text/html": [
              "\n",
              "  <div id=\"df-eb76cd35-db75-4582-ad7a-bd6221309c97\">\n",
              "    <div class=\"colab-df-container\">\n",
              "      <div>\n",
              "<style scoped>\n",
              "    .dataframe tbody tr th:only-of-type {\n",
              "        vertical-align: middle;\n",
              "    }\n",
              "\n",
              "    .dataframe tbody tr th {\n",
              "        vertical-align: top;\n",
              "    }\n",
              "\n",
              "    .dataframe thead th {\n",
              "        text-align: right;\n",
              "    }\n",
              "</style>\n",
              "<table border=\"1\" class=\"dataframe\">\n",
              "  <thead>\n",
              "    <tr style=\"text-align: right;\">\n",
              "      <th></th>\n",
              "      <th>loss</th>\n",
              "      <th>accuracy</th>\n",
              "      <th>val_loss</th>\n",
              "      <th>val_accuracy</th>\n",
              "    </tr>\n",
              "  </thead>\n",
              "  <tbody>\n",
              "    <tr>\n",
              "      <th>count</th>\n",
              "      <td>20.000000</td>\n",
              "      <td>20.000000</td>\n",
              "      <td>20.000000</td>\n",
              "      <td>20.000000</td>\n",
              "    </tr>\n",
              "    <tr>\n",
              "      <th>mean</th>\n",
              "      <td>0.418533</td>\n",
              "      <td>0.803849</td>\n",
              "      <td>0.420684</td>\n",
              "      <td>0.803255</td>\n",
              "    </tr>\n",
              "    <tr>\n",
              "      <th>std</th>\n",
              "      <td>0.025701</td>\n",
              "      <td>0.017491</td>\n",
              "      <td>0.006685</td>\n",
              "      <td>0.003206</td>\n",
              "    </tr>\n",
              "    <tr>\n",
              "      <th>min</th>\n",
              "      <td>0.407135</td>\n",
              "      <td>0.732074</td>\n",
              "      <td>0.418179</td>\n",
              "      <td>0.794055</td>\n",
              "    </tr>\n",
              "    <tr>\n",
              "      <th>25%</th>\n",
              "      <td>0.408964</td>\n",
              "      <td>0.805962</td>\n",
              "      <td>0.418505</td>\n",
              "      <td>0.802194</td>\n",
              "    </tr>\n",
              "    <tr>\n",
              "      <th>50%</th>\n",
              "      <td>0.411138</td>\n",
              "      <td>0.808856</td>\n",
              "      <td>0.418816</td>\n",
              "      <td>0.803963</td>\n",
              "    </tr>\n",
              "    <tr>\n",
              "      <th>75%</th>\n",
              "      <td>0.415343</td>\n",
              "      <td>0.810126</td>\n",
              "      <td>0.419271</td>\n",
              "      <td>0.805379</td>\n",
              "    </tr>\n",
              "    <tr>\n",
              "      <th>max</th>\n",
              "      <td>0.524181</td>\n",
              "      <td>0.813122</td>\n",
              "      <td>0.448393</td>\n",
              "      <td>0.806794</td>\n",
              "    </tr>\n",
              "  </tbody>\n",
              "</table>\n",
              "</div>\n",
              "      <button class=\"colab-df-convert\" onclick=\"convertToInteractive('df-eb76cd35-db75-4582-ad7a-bd6221309c97')\"\n",
              "              title=\"Convert this dataframe to an interactive table.\"\n",
              "              style=\"display:none;\">\n",
              "        \n",
              "  <svg xmlns=\"http://www.w3.org/2000/svg\" height=\"24px\"viewBox=\"0 0 24 24\"\n",
              "       width=\"24px\">\n",
              "    <path d=\"M0 0h24v24H0V0z\" fill=\"none\"/>\n",
              "    <path d=\"M18.56 5.44l.94 2.06.94-2.06 2.06-.94-2.06-.94-.94-2.06-.94 2.06-2.06.94zm-11 1L8.5 8.5l.94-2.06 2.06-.94-2.06-.94L8.5 2.5l-.94 2.06-2.06.94zm10 10l.94 2.06.94-2.06 2.06-.94-2.06-.94-.94-2.06-.94 2.06-2.06.94z\"/><path d=\"M17.41 7.96l-1.37-1.37c-.4-.4-.92-.59-1.43-.59-.52 0-1.04.2-1.43.59L10.3 9.45l-7.72 7.72c-.78.78-.78 2.05 0 2.83L4 21.41c.39.39.9.59 1.41.59.51 0 1.02-.2 1.41-.59l7.78-7.78 2.81-2.81c.8-.78.8-2.07 0-2.86zM5.41 20L4 18.59l7.72-7.72 1.47 1.35L5.41 20z\"/>\n",
              "  </svg>\n",
              "      </button>\n",
              "      \n",
              "  <style>\n",
              "    .colab-df-container {\n",
              "      display:flex;\n",
              "      flex-wrap:wrap;\n",
              "      gap: 12px;\n",
              "    }\n",
              "\n",
              "    .colab-df-convert {\n",
              "      background-color: #E8F0FE;\n",
              "      border: none;\n",
              "      border-radius: 50%;\n",
              "      cursor: pointer;\n",
              "      display: none;\n",
              "      fill: #1967D2;\n",
              "      height: 32px;\n",
              "      padding: 0 0 0 0;\n",
              "      width: 32px;\n",
              "    }\n",
              "\n",
              "    .colab-df-convert:hover {\n",
              "      background-color: #E2EBFA;\n",
              "      box-shadow: 0px 1px 2px rgba(60, 64, 67, 0.3), 0px 1px 3px 1px rgba(60, 64, 67, 0.15);\n",
              "      fill: #174EA6;\n",
              "    }\n",
              "\n",
              "    [theme=dark] .colab-df-convert {\n",
              "      background-color: #3B4455;\n",
              "      fill: #D2E3FC;\n",
              "    }\n",
              "\n",
              "    [theme=dark] .colab-df-convert:hover {\n",
              "      background-color: #434B5C;\n",
              "      box-shadow: 0px 1px 3px 1px rgba(0, 0, 0, 0.15);\n",
              "      filter: drop-shadow(0px 1px 2px rgba(0, 0, 0, 0.3));\n",
              "      fill: #FFFFFF;\n",
              "    }\n",
              "  </style>\n",
              "\n",
              "      <script>\n",
              "        const buttonEl =\n",
              "          document.querySelector('#df-eb76cd35-db75-4582-ad7a-bd6221309c97 button.colab-df-convert');\n",
              "        buttonEl.style.display =\n",
              "          google.colab.kernel.accessAllowed ? 'block' : 'none';\n",
              "\n",
              "        async function convertToInteractive(key) {\n",
              "          const element = document.querySelector('#df-eb76cd35-db75-4582-ad7a-bd6221309c97');\n",
              "          const dataTable =\n",
              "            await google.colab.kernel.invokeFunction('convertToInteractive',\n",
              "                                                     [key], {});\n",
              "          if (!dataTable) return;\n",
              "\n",
              "          const docLinkHtml = 'Like what you see? Visit the ' +\n",
              "            '<a target=\"_blank\" href=https://colab.research.google.com/notebooks/data_table.ipynb>data table notebook</a>'\n",
              "            + ' to learn more about interactive tables.';\n",
              "          element.innerHTML = '';\n",
              "          dataTable['output_type'] = 'display_data';\n",
              "          await google.colab.output.renderOutput(dataTable, element);\n",
              "          const docLink = document.createElement('div');\n",
              "          docLink.innerHTML = docLinkHtml;\n",
              "          element.appendChild(docLink);\n",
              "        }\n",
              "      </script>\n",
              "    </div>\n",
              "  </div>\n",
              "  "
            ]
          },
          "metadata": {},
          "execution_count": 71
        }
      ]
    },
    {
      "cell_type": "markdown",
      "source": [
        "Dari perintah di atas, kita dapat mengetahui bahwa rata-rata akurasi dari model adalah sebesar 80.38% dengan rata-rata akurasi validasi sebesar 80.33%, serta model memiliki penalti rata-rata sebesar 0.4185 dengan penalti rata-rata validasi sebesar 0.4207. Untuk lebih jelasnya, kita dapat membuat grafik untuk menvisualisasikan akurasi model tersebut."
      ],
      "metadata": {
        "id": "Lfm2celF2hmM"
      }
    },
    {
      "cell_type": "code",
      "source": [
        "metrics_function[[\"accuracy\", \"val_accuracy\", \"loss\", \"val_loss\"]].plot()"
      ],
      "metadata": {
        "colab": {
          "base_uri": "https://localhost:8080/",
          "height": 282
        },
        "id": "fodHdbRfwfEM",
        "outputId": "04a430dc-426a-4687-9141-e0277776443d"
      },
      "execution_count": 72,
      "outputs": [
        {
          "output_type": "execute_result",
          "data": {
            "text/plain": [
              "<matplotlib.axes._subplots.AxesSubplot at 0x7fbf69a72710>"
            ]
          },
          "metadata": {},
          "execution_count": 72
        },
        {
          "output_type": "display_data",
          "data": {
            "text/plain": [
              "<Figure size 432x288 with 1 Axes>"
            ],
            "image/png": "[encoded data removed]"
          },
          "metadata": {
            "needs_background": "light"
          }
        }
      ]
    },
    {
      "cell_type": "markdown",
      "source": [
        "Sama seperti pada model sekuensial, kita dapat lihat bahwa akurasi model fungsi umumnya mengalami kenaikan dan penalti dari model terus turun selama pelatihan model.\n",
        "\n",
        "Sekarang kita akan evaluasi bagaimana performa model pada saat diterapkan ke dalam *dataset test*."
      ],
      "metadata": {
        "id": "GdUjRbaUAcXH"
      }
    },
    {
      "cell_type": "code",
      "source": [
        "loss_sequence, accuracy_sequence = model_sequence.evaluate(tf_dataset_test_batch)\n",
        "loss_function, accuracy_function = model_function.evaluate(tf_dataset_test_batch)\n",
        "\n",
        "print(f\" Model loss on the test set (Sequence): {loss_sequence}\")\n",
        "print(f\" Model accuracy on the test set (Sequence): {100 * accuracy_sequence} %\")\n",
        "print(\"--------------------------------------------------\")\n",
        "print(f\" Model loss on the test set (Function): {loss_function}\")\n",
        "print(f\" Model accuracy on the test set (Function): {100 * accuracy_function} %\")"
      ],
      "metadata": {
        "colab": {
          "base_uri": "https://localhost:8080/"
        },
        "id": "EMfqQzDxAYLd",
        "outputId": "1ae97a75-67b4-4e13-c3d7-b77ef2218896"
      },
      "execution_count": 73,
      "outputs": [
        {
          "output_type": "stream",
          "name": "stdout",
          "text": [
            "44/44 [==============================] - 0s 2ms/step - loss: 0.4110 - accuracy: 0.7991\n",
            "44/44 [==============================] - 0s 2ms/step - loss: 0.4038 - accuracy: 0.8077\n",
            " Model loss on the test set (Sequence): 0.4109650254249573\n",
            " Model accuracy on the test set (Sequence): 79.9139142036438 %\n",
            "--------------------------------------------------\n",
            " Model loss on the test set (Function): 0.4038148522377014\n",
            " Model accuracy on the test set (Function): 80.7747483253479 %\n"
          ]
        }
      ]
    },
    {
      "cell_type": "markdown",
      "source": [
        "Dapat kita lihat bahwa model fungsi memiliki akurasi lebih baik namun memiliki penalti yang lebih besar dibandingkan dengan model sekuensial.\n",
        "\n",
        "Model yang kita latih masih merupakan model yang sangat sederhana. Di bagian selanjutnya kita akan memperbaiki kedua model tersebut."
      ],
      "metadata": {
        "id": "oRUdU8YcVY54"
      }
    },
    {
      "cell_type": "markdown",
      "source": [
        "### *Model Improvement*"
      ],
      "metadata": {
        "id": "6pI0LmBAXULd"
      }
    },
    {
      "cell_type": "markdown",
      "source": [
        "Pada bagian ini kita akan menambahkan lapisan normalisasi batch dan dropout diantara lapisan-lapisan model yang sudah kita latih. Selain itu, kita akan membuat suatu fungsi untuk menghentikan pelatihan apabila penalti pada data validasinya mencapai minimum."
      ],
      "metadata": {
        "id": "sZZ5bRCZOjFM"
      }
    },
    {
      "cell_type": "code",
      "source": [
        "model_sequence_fine = keras.models.Sequential([\n",
        "    keras.layers.Input(shape = preprocess_data_train.shape[1:], name = \"Input\"),\n",
        "    keras.layers.BatchNormalization(),\n",
        "    keras.layers.Dropout(rate = 0.2),\n",
        "    keras.layers.Dense(9, kernel_initializer = keras.initializers.HeNormal(seed = 13), activation = \"relu\", name = \"HL_2\"),\n",
        "    keras.layers.BatchNormalization(),\n",
        "    keras.layers.Dropout(rate = 0.2),\n",
        "    keras.layers.Dense(1, activation = \"sigmoid\", name = \"Output\")\n",
        "])\n",
        "\n",
        "stopper = tf.keras.callbacks.EarlyStopping(monitor = \"val_loss\", patience = 10)\n",
        "\n",
        "model_sequence_fine.compile(loss = \"binary_crossentropy\",\n",
        "              optimizer = \"Adam\",\n",
        "              metrics = [\"accuracy\"])\n",
        "\n",
        "model_sequence_fine.summary()"
      ],
      "metadata": {
        "colab": {
          "base_uri": "https://localhost:8080/"
        },
        "id": "noTB4EQlU06s",
        "outputId": "e26dc1e5-4b0a-4d19-e30e-a15d029eb06d"
      },
      "execution_count": 74,
      "outputs": [
        {
          "output_type": "stream",
          "name": "stdout",
          "text": [
            "Model: \"sequential_1\"\n",
            "_________________________________________________________________\n",
            " Layer (type)                Output Shape              Param #   \n",
            "=================================================================\n",
            " batch_normalization (BatchN  (None, 30)               120       \n",
            " ormalization)                                                   \n",
            "                                                                 \n",
            " dropout (Dropout)           (None, 30)                0         \n",
            "                                                                 \n",
            " HL_2 (Dense)                (None, 9)                 279       \n",
            "                                                                 \n",
            " batch_normalization_1 (Batc  (None, 9)                36        \n",
            " hNormalization)                                                 \n",
            "                                                                 \n",
            " dropout_1 (Dropout)         (None, 9)                 0         \n",
            "                                                                 \n",
            " Output (Dense)              (None, 1)                 10        \n",
            "                                                                 \n",
            "=================================================================\n",
            "Total params: 445\n",
            "Trainable params: 367\n",
            "Non-trainable params: 78\n",
            "_________________________________________________________________\n"
          ]
        }
      ]
    },
    {
      "cell_type": "markdown",
      "source": [
        "Kemudian kita akan menambah jumlah epoch pada saat melatih model."
      ],
      "metadata": {
        "id": "QaWurTHOP-vC"
      }
    },
    {
      "cell_type": "code",
      "source": [
        "history_sequence_fine = model_sequence_fine.fit(tf_dataset_train_batch, epochs = 100, validation_data = tf_dataset_dev_batch, callbacks = stopper)"
      ],
      "metadata": {
        "colab": {
          "base_uri": "https://localhost:8080/"
        },
        "id": "J63DgOYSZX-u",
        "outputId": "b69e32ea-7347-4d5a-e630-a829d7dffab2"
      },
      "execution_count": 75,
      "outputs": [
        {
          "output_type": "stream",
          "name": "stdout",
          "text": [
            "Epoch 1/100\n",
            "308/308 [==============================] - 2s 3ms/step - loss: 0.6331 - accuracy: 0.6535 - val_loss: 0.4724 - val_accuracy: 0.7820\n",
            "Epoch 2/100\n",
            "308/308 [==============================] - 1s 3ms/step - loss: 0.4992 - accuracy: 0.7499 - val_loss: 0.4364 - val_accuracy: 0.7919\n",
            "Epoch 3/100\n",
            "308/308 [==============================] - 1s 3ms/step - loss: 0.4730 - accuracy: 0.7625 - val_loss: 0.4281 - val_accuracy: 0.7933\n",
            "Epoch 4/100\n",
            "308/308 [==============================] - 1s 3ms/step - loss: 0.4532 - accuracy: 0.7778 - val_loss: 0.4253 - val_accuracy: 0.7933\n",
            "Epoch 5/100\n",
            "308/308 [==============================] - 1s 3ms/step - loss: 0.4547 - accuracy: 0.7798 - val_loss: 0.4253 - val_accuracy: 0.7948\n",
            "Epoch 6/100\n",
            "308/308 [==============================] - 1s 3ms/step - loss: 0.4576 - accuracy: 0.7770 - val_loss: 0.4242 - val_accuracy: 0.7969\n",
            "Epoch 7/100\n",
            "308/308 [==============================] - 1s 3ms/step - loss: 0.4547 - accuracy: 0.7792 - val_loss: 0.4250 - val_accuracy: 0.8040\n",
            "Epoch 8/100\n",
            "308/308 [==============================] - 1s 3ms/step - loss: 0.4468 - accuracy: 0.7812 - val_loss: 0.4245 - val_accuracy: 0.8047\n",
            "Epoch 9/100\n",
            "308/308 [==============================] - 1s 3ms/step - loss: 0.4471 - accuracy: 0.7764 - val_loss: 0.4241 - val_accuracy: 0.8054\n",
            "Epoch 10/100\n",
            "308/308 [==============================] - 1s 2ms/step - loss: 0.4482 - accuracy: 0.7786 - val_loss: 0.4244 - val_accuracy: 0.8047\n",
            "Epoch 11/100\n",
            "308/308 [==============================] - 1s 3ms/step - loss: 0.4479 - accuracy: 0.7859 - val_loss: 0.4234 - val_accuracy: 0.8061\n",
            "Epoch 12/100\n",
            "308/308 [==============================] - 1s 3ms/step - loss: 0.4478 - accuracy: 0.7835 - val_loss: 0.4237 - val_accuracy: 0.8047\n",
            "Epoch 13/100\n",
            "308/308 [==============================] - 1s 3ms/step - loss: 0.4454 - accuracy: 0.7892 - val_loss: 0.4226 - val_accuracy: 0.8047\n",
            "Epoch 14/100\n",
            "308/308 [==============================] - 1s 3ms/step - loss: 0.4419 - accuracy: 0.7881 - val_loss: 0.4221 - val_accuracy: 0.8047\n",
            "Epoch 15/100\n",
            "308/308 [==============================] - 1s 3ms/step - loss: 0.4402 - accuracy: 0.7814 - val_loss: 0.4214 - val_accuracy: 0.8033\n",
            "Epoch 16/100\n",
            "308/308 [==============================] - 1s 3ms/step - loss: 0.4396 - accuracy: 0.7824 - val_loss: 0.4217 - val_accuracy: 0.8040\n",
            "Epoch 17/100\n",
            "308/308 [==============================] - 1s 3ms/step - loss: 0.4431 - accuracy: 0.7861 - val_loss: 0.4224 - val_accuracy: 0.8068\n",
            "Epoch 18/100\n",
            "308/308 [==============================] - 1s 3ms/step - loss: 0.4448 - accuracy: 0.7839 - val_loss: 0.4229 - val_accuracy: 0.8061\n",
            "Epoch 19/100\n",
            "308/308 [==============================] - 1s 3ms/step - loss: 0.4369 - accuracy: 0.7918 - val_loss: 0.4225 - val_accuracy: 0.8054\n",
            "Epoch 20/100\n",
            "308/308 [==============================] - 1s 3ms/step - loss: 0.4419 - accuracy: 0.7883 - val_loss: 0.4228 - val_accuracy: 0.8033\n",
            "Epoch 21/100\n",
            "308/308 [==============================] - 1s 3ms/step - loss: 0.4438 - accuracy: 0.7816 - val_loss: 0.4222 - val_accuracy: 0.8089\n",
            "Epoch 22/100\n",
            "308/308 [==============================] - 1s 3ms/step - loss: 0.4422 - accuracy: 0.7867 - val_loss: 0.4227 - val_accuracy: 0.8061\n",
            "Epoch 23/100\n",
            "308/308 [==============================] - 1s 3ms/step - loss: 0.4402 - accuracy: 0.7833 - val_loss: 0.4225 - val_accuracy: 0.8068\n",
            "Epoch 24/100\n",
            "308/308 [==============================] - 1s 3ms/step - loss: 0.4429 - accuracy: 0.7845 - val_loss: 0.4224 - val_accuracy: 0.8054\n",
            "Epoch 25/100\n",
            "308/308 [==============================] - 1s 3ms/step - loss: 0.4423 - accuracy: 0.7861 - val_loss: 0.4211 - val_accuracy: 0.8054\n",
            "Epoch 26/100\n",
            "308/308 [==============================] - 1s 3ms/step - loss: 0.4411 - accuracy: 0.7910 - val_loss: 0.4216 - val_accuracy: 0.8054\n",
            "Epoch 27/100\n",
            "308/308 [==============================] - 1s 3ms/step - loss: 0.4391 - accuracy: 0.7861 - val_loss: 0.4221 - val_accuracy: 0.8040\n",
            "Epoch 28/100\n",
            "308/308 [==============================] - 2s 6ms/step - loss: 0.4374 - accuracy: 0.7918 - val_loss: 0.4216 - val_accuracy: 0.8068\n",
            "Epoch 29/100\n",
            "308/308 [==============================] - 1s 3ms/step - loss: 0.4373 - accuracy: 0.7892 - val_loss: 0.4215 - val_accuracy: 0.8040\n",
            "Epoch 30/100\n",
            "308/308 [==============================] - 1s 3ms/step - loss: 0.4367 - accuracy: 0.7892 - val_loss: 0.4204 - val_accuracy: 0.8047\n",
            "Epoch 31/100\n",
            "308/308 [==============================] - 1s 3ms/step - loss: 0.4389 - accuracy: 0.7902 - val_loss: 0.4207 - val_accuracy: 0.8040\n",
            "Epoch 32/100\n",
            "308/308 [==============================] - 1s 3ms/step - loss: 0.4392 - accuracy: 0.7847 - val_loss: 0.4214 - val_accuracy: 0.8040\n",
            "Epoch 33/100\n",
            "308/308 [==============================] - 1s 3ms/step - loss: 0.4368 - accuracy: 0.7916 - val_loss: 0.4201 - val_accuracy: 0.8018\n",
            "Epoch 34/100\n",
            "308/308 [==============================] - 1s 3ms/step - loss: 0.4396 - accuracy: 0.7922 - val_loss: 0.4209 - val_accuracy: 0.8004\n",
            "Epoch 35/100\n",
            "308/308 [==============================] - 1s 3ms/step - loss: 0.4381 - accuracy: 0.7902 - val_loss: 0.4198 - val_accuracy: 0.8033\n",
            "Epoch 36/100\n",
            "308/308 [==============================] - 4s 13ms/step - loss: 0.4374 - accuracy: 0.7918 - val_loss: 0.4212 - val_accuracy: 0.8018\n",
            "Epoch 37/100\n",
            "308/308 [==============================] - 1s 3ms/step - loss: 0.4403 - accuracy: 0.7849 - val_loss: 0.4206 - val_accuracy: 0.8047\n",
            "Epoch 38/100\n",
            "308/308 [==============================] - 1s 3ms/step - loss: 0.4376 - accuracy: 0.7918 - val_loss: 0.4203 - val_accuracy: 0.8054\n",
            "Epoch 39/100\n",
            "308/308 [==============================] - 1s 3ms/step - loss: 0.4366 - accuracy: 0.7936 - val_loss: 0.4207 - val_accuracy: 0.8047\n",
            "Epoch 40/100\n",
            "308/308 [==============================] - 1s 5ms/step - loss: 0.4433 - accuracy: 0.7869 - val_loss: 0.4214 - val_accuracy: 0.8025\n",
            "Epoch 41/100\n",
            "308/308 [==============================] - 1s 4ms/step - loss: 0.4419 - accuracy: 0.7847 - val_loss: 0.4231 - val_accuracy: 0.8004\n",
            "Epoch 42/100\n",
            "308/308 [==============================] - 1s 3ms/step - loss: 0.4359 - accuracy: 0.7910 - val_loss: 0.4222 - val_accuracy: 0.8004\n",
            "Epoch 43/100\n",
            "308/308 [==============================] - 1s 3ms/step - loss: 0.4332 - accuracy: 0.7932 - val_loss: 0.4225 - val_accuracy: 0.8004\n",
            "Epoch 44/100\n",
            "308/308 [==============================] - 1s 3ms/step - loss: 0.4358 - accuracy: 0.7916 - val_loss: 0.4229 - val_accuracy: 0.8018\n",
            "Epoch 45/100\n",
            "308/308 [==============================] - 1s 3ms/step - loss: 0.4342 - accuracy: 0.7934 - val_loss: 0.4223 - val_accuracy: 0.8033\n"
          ]
        }
      ]
    },
    {
      "cell_type": "markdown",
      "source": [
        "Lalu kita akan periksa bagaimana performa model tersebut."
      ],
      "metadata": {
        "id": "KWAcDyJiT3BQ"
      }
    },
    {
      "cell_type": "code",
      "source": [
        "metrics_sequence_fine = pd.DataFrame(history_sequence_fine.history)\n",
        "metrics_sequence_fine.describe()"
      ],
      "metadata": {
        "colab": {
          "base_uri": "https://localhost:8080/",
          "height": 300
        },
        "id": "JFUKGNnqSWfd",
        "outputId": "b84d068f-e1d1-4bf0-88ec-7e94db0deb3f"
      },
      "execution_count": 76,
      "outputs": [
        {
          "output_type": "execute_result",
          "data": {
            "text/plain": [
              "            loss   accuracy   val_loss  val_accuracy\n",
              "count  45.000000  45.000000  45.000000     45.000000\n",
              "mean    0.448195   0.782170   0.423856      0.802579\n",
              "std     0.030286   0.021194   0.007860      0.004875\n",
              "min     0.433206   0.653463   0.419826      0.782024\n",
              "25%     0.437589   0.781637   0.421363      0.801840\n",
              "50%     0.441863   0.786106   0.422375      0.803963\n",
              "75%     0.446844   0.790981   0.423434      0.805379\n",
              "max     0.633076   0.793622   0.472443      0.808917"
            ],
            "text/html": [
              "\n",
              "  <div id=\"df-8b106043-adc3-4509-a83a-305990481daf\">\n",
              "    <div class=\"colab-df-container\">\n",
              "      <div>\n",
              "<style scoped>\n",
              "    .dataframe tbody tr th:only-of-type {\n",
              "        vertical-align: middle;\n",
              "    }\n",
              "\n",
              "    .dataframe tbody tr th {\n",
              "        vertical-align: top;\n",
              "    }\n",
              "\n",
              "    .dataframe thead th {\n",
              "        text-align: right;\n",
              "    }\n",
              "</style>\n",
              "<table border=\"1\" class=\"dataframe\">\n",
              "  <thead>\n",
              "    <tr style=\"text-align: right;\">\n",
              "      <th></th>\n",
              "      <th>loss</th>\n",
              "      <th>accuracy</th>\n",
              "      <th>val_loss</th>\n",
              "      <th>val_accuracy</th>\n",
              "    </tr>\n",
              "  </thead>\n",
              "  <tbody>\n",
              "    <tr>\n",
              "      <th>count</th>\n",
              "      <td>45.000000</td>\n",
              "      <td>45.000000</td>\n",
              "      <td>45.000000</td>\n",
              "      <td>45.000000</td>\n",
              "    </tr>\n",
              "    <tr>\n",
              "      <th>mean</th>\n",
              "      <td>0.448195</td>\n",
              "      <td>0.782170</td>\n",
              "      <td>0.423856</td>\n",
              "      <td>0.802579</td>\n",
              "    </tr>\n",
              "    <tr>\n",
              "      <th>std</th>\n",
              "      <td>0.030286</td>\n",
              "      <td>0.021194</td>\n",
              "      <td>0.007860</td>\n",
              "      <td>0.004875</td>\n",
              "    </tr>\n",
              "    <tr>\n",
              "      <th>min</th>\n",
              "      <td>0.433206</td>\n",
              "      <td>0.653463</td>\n",
              "      <td>0.419826</td>\n",
              "      <td>0.782024</td>\n",
              "    </tr>\n",
              "    <tr>\n",
              "      <th>25%</th>\n",
              "      <td>0.437589</td>\n",
              "      <td>0.781637</td>\n",
              "      <td>0.421363</td>\n",
              "      <td>0.801840</td>\n",
              "    </tr>\n",
              "    <tr>\n",
              "      <th>50%</th>\n",
              "      <td>0.441863</td>\n",
              "      <td>0.786106</td>\n",
              "      <td>0.422375</td>\n",
              "      <td>0.803963</td>\n",
              "    </tr>\n",
              "    <tr>\n",
              "      <th>75%</th>\n",
              "      <td>0.446844</td>\n",
              "      <td>0.790981</td>\n",
              "      <td>0.423434</td>\n",
              "      <td>0.805379</td>\n",
              "    </tr>\n",
              "    <tr>\n",
              "      <th>max</th>\n",
              "      <td>0.633076</td>\n",
              "      <td>0.793622</td>\n",
              "      <td>0.472443</td>\n",
              "      <td>0.808917</td>\n",
              "    </tr>\n",
              "  </tbody>\n",
              "</table>\n",
              "</div>\n",
              "      <button class=\"colab-df-convert\" onclick=\"convertToInteractive('df-8b106043-adc3-4509-a83a-305990481daf')\"\n",
              "              title=\"Convert this dataframe to an interactive table.\"\n",
              "              style=\"display:none;\">\n",
              "        \n",
              "  <svg xmlns=\"http://www.w3.org/2000/svg\" height=\"24px\"viewBox=\"0 0 24 24\"\n",
              "       width=\"24px\">\n",
              "    <path d=\"M0 0h24v24H0V0z\" fill=\"none\"/>\n",
              "    <path d=\"M18.56 5.44l.94 2.06.94-2.06 2.06-.94-2.06-.94-.94-2.06-.94 2.06-2.06.94zm-11 1L8.5 8.5l.94-2.06 2.06-.94-2.06-.94L8.5 2.5l-.94 2.06-2.06.94zm10 10l.94 2.06.94-2.06 2.06-.94-2.06-.94-.94-2.06-.94 2.06-2.06.94z\"/><path d=\"M17.41 7.96l-1.37-1.37c-.4-.4-.92-.59-1.43-.59-.52 0-1.04.2-1.43.59L10.3 9.45l-7.72 7.72c-.78.78-.78 2.05 0 2.83L4 21.41c.39.39.9.59 1.41.59.51 0 1.02-.2 1.41-.59l7.78-7.78 2.81-2.81c.8-.78.8-2.07 0-2.86zM5.41 20L4 18.59l7.72-7.72 1.47 1.35L5.41 20z\"/>\n",
              "  </svg>\n",
              "      </button>\n",
              "      \n",
              "  <style>\n",
              "    .colab-df-container {\n",
              "      display:flex;\n",
              "      flex-wrap:wrap;\n",
              "      gap: 12px;\n",
              "    }\n",
              "\n",
              "    .colab-df-convert {\n",
              "      background-color: #E8F0FE;\n",
              "      border: none;\n",
              "      border-radius: 50%;\n",
              "      cursor: pointer;\n",
              "      display: none;\n",
              "      fill: #1967D2;\n",
              "      height: 32px;\n",
              "      padding: 0 0 0 0;\n",
              "      width: 32px;\n",
              "    }\n",
              "\n",
              "    .colab-df-convert:hover {\n",
              "      background-color: #E2EBFA;\n",
              "      box-shadow: 0px 1px 2px rgba(60, 64, 67, 0.3), 0px 1px 3px 1px rgba(60, 64, 67, 0.15);\n",
              "      fill: #174EA6;\n",
              "    }\n",
              "\n",
              "    [theme=dark] .colab-df-convert {\n",
              "      background-color: #3B4455;\n",
              "      fill: #D2E3FC;\n",
              "    }\n",
              "\n",
              "    [theme=dark] .colab-df-convert:hover {\n",
              "      background-color: #434B5C;\n",
              "      box-shadow: 0px 1px 3px 1px rgba(0, 0, 0, 0.15);\n",
              "      filter: drop-shadow(0px 1px 2px rgba(0, 0, 0, 0.3));\n",
              "      fill: #FFFFFF;\n",
              "    }\n",
              "  </style>\n",
              "\n",
              "      <script>\n",
              "        const buttonEl =\n",
              "          document.querySelector('#df-8b106043-adc3-4509-a83a-305990481daf button.colab-df-convert');\n",
              "        buttonEl.style.display =\n",
              "          google.colab.kernel.accessAllowed ? 'block' : 'none';\n",
              "\n",
              "        async function convertToInteractive(key) {\n",
              "          const element = document.querySelector('#df-8b106043-adc3-4509-a83a-305990481daf');\n",
              "          const dataTable =\n",
              "            await google.colab.kernel.invokeFunction('convertToInteractive',\n",
              "                                                     [key], {});\n",
              "          if (!dataTable) return;\n",
              "\n",
              "          const docLinkHtml = 'Like what you see? Visit the ' +\n",
              "            '<a target=\"_blank\" href=https://colab.research.google.com/notebooks/data_table.ipynb>data table notebook</a>'\n",
              "            + ' to learn more about interactive tables.';\n",
              "          element.innerHTML = '';\n",
              "          dataTable['output_type'] = 'display_data';\n",
              "          await google.colab.output.renderOutput(dataTable, element);\n",
              "          const docLink = document.createElement('div');\n",
              "          docLink.innerHTML = docLinkHtml;\n",
              "          element.appendChild(docLink);\n",
              "        }\n",
              "      </script>\n",
              "    </div>\n",
              "  </div>\n",
              "  "
            ]
          },
          "metadata": {},
          "execution_count": 76
        }
      ]
    },
    {
      "cell_type": "markdown",
      "source": [
        "Dari perintah di atas, kita dapat mengetahui bahwa rata-rata akurasi dari model adalah sebesar 78.22% dengan rata-rata akurasi validasi sebesar 80.26%, serta model memiliki penalti rata-rata sebesar 0.4481 dengan penalti rata-rata validasi sebesar 0.4239. Untuk lebih jelasnya, kita dapat membuat grafik untuk menvisualisasikan akurasi model tersebut."
      ],
      "metadata": {
        "id": "qO0eMW8IUG0a"
      }
    },
    {
      "cell_type": "code",
      "source": [
        "metrics_sequence_fine[[\"accuracy\", \"val_accuracy\", \"loss\", \"val_loss\"]].plot()"
      ],
      "metadata": {
        "colab": {
          "base_uri": "https://localhost:8080/",
          "height": 282
        },
        "id": "Hz7qDS0fTmut",
        "outputId": "1e95c05a-d248-48d1-d3eb-8f68b4f9e60d"
      },
      "execution_count": 77,
      "outputs": [
        {
          "output_type": "execute_result",
          "data": {
            "text/plain": [
              "<matplotlib.axes._subplots.AxesSubplot at 0x7fbf6320c950>"
            ]
          },
          "metadata": {},
          "execution_count": 77
        },
        {
          "output_type": "display_data",
          "data": {
            "text/plain": [
              "<Figure size 432x288 with 1 Axes>"
            ],
            "image/png": "[encoded data removed]"
          },
          "metadata": {
            "needs_background": "light"
          }
        }
      ]
    },
    {
      "cell_type": "markdown",
      "source": [
        "Dari grafik di atas, kita dapat lihat bahwa akurasi model umumnya mengalami kenaikan dan penalti dari model terus turun selama pelatihan model. Namun, terdapat jarak antara *dataset train* dengan *dataset dev* pada model ini lebih besar dibanding dengan model dengan *hyperparameter* asal.\n",
        "\n",
        "Selanjutnya kita akan menambahkan komponen yang sama seperti pada saat kita memperbaiki model sekuensial kepada model fungsi."
      ],
      "metadata": {
        "id": "ETobbuOYUljO"
      }
    },
    {
      "cell_type": "code",
      "source": [
        "initial_input = keras.Input(shape = preprocess_data_train.shape[1:], name = \"Input\")\n",
        "hidden_1 = keras.layers.BatchNormalization()(initial_input)\n",
        "hidden_1 = keras.layers.Dropout(rate = 0.2)(hidden_1)\n",
        "hidden_2 = keras.layers.Dense(9, kernel_initializer = keras.initializers.HeNormal(seed = 13), activation = \"relu\", name = \"HL_2\")(hidden_1)\n",
        "hidden_2 = keras.layers.BatchNormalization()(hidden_2)\n",
        "hidden_2 = keras.layers.Dropout(rate = 0.2)(hidden_2)\n",
        "final_output = keras.layers.Dense(1, activation = \"sigmoid\", name = \"Output\")(hidden_2)\n",
        "model_function_fine = keras.models.Model(inputs = [initial_input], outputs = [final_output])\n",
        "\n",
        "model_function_fine.compile(loss = \"binary_crossentropy\",\n",
        "              optimizer = \"Adam\",\n",
        "              metrics = [\"accuracy\"])\n",
        "\n",
        "model_function_fine.summary()"
      ],
      "metadata": {
        "colab": {
          "base_uri": "https://localhost:8080/"
        },
        "id": "KdY208afbRjM",
        "outputId": "8b9420cd-afc2-432a-a78e-dcf1d746fd3d"
      },
      "execution_count": 78,
      "outputs": [
        {
          "output_type": "stream",
          "name": "stdout",
          "text": [
            "Model: \"model_1\"\n",
            "_________________________________________________________________\n",
            " Layer (type)                Output Shape              Param #   \n",
            "=================================================================\n",
            " Input (InputLayer)          [(None, 30)]              0         \n",
            "                                                                 \n",
            " batch_normalization_2 (Batc  (None, 30)               120       \n",
            " hNormalization)                                                 \n",
            "                                                                 \n",
            " dropout_2 (Dropout)         (None, 30)                0         \n",
            "                                                                 \n",
            " HL_2 (Dense)                (None, 9)                 279       \n",
            "                                                                 \n",
            " batch_normalization_3 (Batc  (None, 9)                36        \n",
            " hNormalization)                                                 \n",
            "                                                                 \n",
            " dropout_3 (Dropout)         (None, 9)                 0         \n",
            "                                                                 \n",
            " Output (Dense)              (None, 1)                 10        \n",
            "                                                                 \n",
            "=================================================================\n",
            "Total params: 445\n",
            "Trainable params: 367\n",
            "Non-trainable params: 78\n",
            "_________________________________________________________________\n"
          ]
        }
      ]
    },
    {
      "cell_type": "markdown",
      "source": [
        "Kemudian kita akan menambah jumlah epoch pada saat melatih model."
      ],
      "metadata": {
        "id": "VQrGAufgUBO_"
      }
    },
    {
      "cell_type": "code",
      "source": [
        "history_function_fine = model_function_fine.fit(tf_dataset_train_batch, epochs = 100, validation_data = tf_dataset_dev_batch, callbacks = stopper)"
      ],
      "metadata": {
        "colab": {
          "base_uri": "https://localhost:8080/"
        },
        "id": "BQJwvOKsfJUI",
        "outputId": "391934ac-798a-4dff-9790-9d13e86f75cb"
      },
      "execution_count": 79,
      "outputs": [
        {
          "output_type": "stream",
          "name": "stdout",
          "text": [
            "Epoch 1/100\n",
            "308/308 [==============================] - 2s 3ms/step - loss: 0.6241 - accuracy: 0.6386 - val_loss: 0.5133 - val_accuracy: 0.7622\n",
            "Epoch 2/100\n",
            "308/308 [==============================] - 1s 3ms/step - loss: 0.5045 - accuracy: 0.7538 - val_loss: 0.4548 - val_accuracy: 0.7799\n",
            "Epoch 3/100\n",
            "308/308 [==============================] - 1s 2ms/step - loss: 0.4682 - accuracy: 0.7723 - val_loss: 0.4398 - val_accuracy: 0.7891\n",
            "Epoch 4/100\n",
            "308/308 [==============================] - 1s 3ms/step - loss: 0.4652 - accuracy: 0.7678 - val_loss: 0.4357 - val_accuracy: 0.7926\n",
            "Epoch 5/100\n",
            "308/308 [==============================] - 1s 3ms/step - loss: 0.4583 - accuracy: 0.7804 - val_loss: 0.4325 - val_accuracy: 0.7919\n",
            "Epoch 6/100\n",
            "308/308 [==============================] - 1s 3ms/step - loss: 0.4569 - accuracy: 0.7798 - val_loss: 0.4314 - val_accuracy: 0.7933\n",
            "Epoch 7/100\n",
            "308/308 [==============================] - 1s 3ms/step - loss: 0.4538 - accuracy: 0.7796 - val_loss: 0.4295 - val_accuracy: 0.7990\n",
            "Epoch 8/100\n",
            "308/308 [==============================] - 1s 3ms/step - loss: 0.4505 - accuracy: 0.7733 - val_loss: 0.4293 - val_accuracy: 0.7997\n",
            "Epoch 9/100\n",
            "308/308 [==============================] - 1s 3ms/step - loss: 0.4509 - accuracy: 0.7747 - val_loss: 0.4306 - val_accuracy: 0.7997\n",
            "Epoch 10/100\n",
            "308/308 [==============================] - 1s 3ms/step - loss: 0.4508 - accuracy: 0.7810 - val_loss: 0.4280 - val_accuracy: 0.8047\n",
            "Epoch 11/100\n",
            "308/308 [==============================] - 1s 3ms/step - loss: 0.4437 - accuracy: 0.7873 - val_loss: 0.4267 - val_accuracy: 0.8025\n",
            "Epoch 12/100\n",
            "308/308 [==============================] - 1s 2ms/step - loss: 0.4477 - accuracy: 0.7829 - val_loss: 0.4266 - val_accuracy: 0.8018\n",
            "Epoch 13/100\n",
            "308/308 [==============================] - 1s 3ms/step - loss: 0.4480 - accuracy: 0.7794 - val_loss: 0.4265 - val_accuracy: 0.7997\n",
            "Epoch 14/100\n",
            "308/308 [==============================] - 1s 3ms/step - loss: 0.4501 - accuracy: 0.7816 - val_loss: 0.4263 - val_accuracy: 0.8047\n",
            "Epoch 15/100\n",
            "308/308 [==============================] - 1s 3ms/step - loss: 0.4411 - accuracy: 0.7843 - val_loss: 0.4250 - val_accuracy: 0.8033\n",
            "Epoch 16/100\n",
            "308/308 [==============================] - 1s 3ms/step - loss: 0.4446 - accuracy: 0.7802 - val_loss: 0.4253 - val_accuracy: 0.8011\n",
            "Epoch 17/100\n",
            "308/308 [==============================] - 1s 3ms/step - loss: 0.4442 - accuracy: 0.7835 - val_loss: 0.4249 - val_accuracy: 0.8004\n",
            "Epoch 18/100\n",
            "308/308 [==============================] - 1s 3ms/step - loss: 0.4418 - accuracy: 0.7894 - val_loss: 0.4244 - val_accuracy: 0.7990\n",
            "Epoch 19/100\n",
            "308/308 [==============================] - 1s 3ms/step - loss: 0.4442 - accuracy: 0.7849 - val_loss: 0.4244 - val_accuracy: 0.8018\n",
            "Epoch 20/100\n",
            "308/308 [==============================] - 1s 3ms/step - loss: 0.4441 - accuracy: 0.7829 - val_loss: 0.4239 - val_accuracy: 0.8033\n",
            "Epoch 21/100\n",
            "308/308 [==============================] - 1s 3ms/step - loss: 0.4403 - accuracy: 0.7896 - val_loss: 0.4245 - val_accuracy: 0.8004\n",
            "Epoch 22/100\n",
            "308/308 [==============================] - 1s 3ms/step - loss: 0.4455 - accuracy: 0.7871 - val_loss: 0.4245 - val_accuracy: 0.8033\n",
            "Epoch 23/100\n",
            "308/308 [==============================] - 1s 3ms/step - loss: 0.4421 - accuracy: 0.7902 - val_loss: 0.4236 - val_accuracy: 0.8004\n",
            "Epoch 24/100\n",
            "308/308 [==============================] - 1s 3ms/step - loss: 0.4388 - accuracy: 0.7849 - val_loss: 0.4224 - val_accuracy: 0.8040\n",
            "Epoch 25/100\n",
            "308/308 [==============================] - 1s 3ms/step - loss: 0.4405 - accuracy: 0.7853 - val_loss: 0.4230 - val_accuracy: 0.8025\n",
            "Epoch 26/100\n",
            "308/308 [==============================] - 1s 3ms/step - loss: 0.4406 - accuracy: 0.7898 - val_loss: 0.4232 - val_accuracy: 0.8033\n",
            "Epoch 27/100\n",
            "308/308 [==============================] - 1s 3ms/step - loss: 0.4426 - accuracy: 0.7853 - val_loss: 0.4239 - val_accuracy: 0.8047\n",
            "Epoch 28/100\n",
            "308/308 [==============================] - 1s 3ms/step - loss: 0.4386 - accuracy: 0.7920 - val_loss: 0.4233 - val_accuracy: 0.8047\n",
            "Epoch 29/100\n",
            "308/308 [==============================] - 1s 3ms/step - loss: 0.4384 - accuracy: 0.7812 - val_loss: 0.4248 - val_accuracy: 0.8068\n",
            "Epoch 30/100\n",
            "308/308 [==============================] - 1s 3ms/step - loss: 0.4382 - accuracy: 0.7855 - val_loss: 0.4236 - val_accuracy: 0.8025\n",
            "Epoch 31/100\n",
            "308/308 [==============================] - 1s 3ms/step - loss: 0.4375 - accuracy: 0.7867 - val_loss: 0.4230 - val_accuracy: 0.8033\n",
            "Epoch 32/100\n",
            "308/308 [==============================] - 1s 3ms/step - loss: 0.4402 - accuracy: 0.7914 - val_loss: 0.4233 - val_accuracy: 0.8018\n",
            "Epoch 33/100\n",
            "308/308 [==============================] - 1s 3ms/step - loss: 0.4379 - accuracy: 0.7877 - val_loss: 0.4223 - val_accuracy: 0.8004\n",
            "Epoch 34/100\n",
            "308/308 [==============================] - 1s 3ms/step - loss: 0.4456 - accuracy: 0.7871 - val_loss: 0.4239 - val_accuracy: 0.8018\n",
            "Epoch 35/100\n",
            "308/308 [==============================] - 1s 3ms/step - loss: 0.4386 - accuracy: 0.7863 - val_loss: 0.4250 - val_accuracy: 0.8011\n",
            "Epoch 36/100\n",
            "308/308 [==============================] - 1s 3ms/step - loss: 0.4401 - accuracy: 0.7908 - val_loss: 0.4247 - val_accuracy: 0.8018\n",
            "Epoch 37/100\n",
            "308/308 [==============================] - 1s 3ms/step - loss: 0.4379 - accuracy: 0.7934 - val_loss: 0.4252 - val_accuracy: 0.8011\n",
            "Epoch 38/100\n",
            "308/308 [==============================] - 1s 3ms/step - loss: 0.4358 - accuracy: 0.7952 - val_loss: 0.4240 - val_accuracy: 0.8040\n",
            "Epoch 39/100\n",
            "308/308 [==============================] - 1s 3ms/step - loss: 0.4408 - accuracy: 0.7865 - val_loss: 0.4246 - val_accuracy: 0.8047\n",
            "Epoch 40/100\n",
            "308/308 [==============================] - 1s 2ms/step - loss: 0.4379 - accuracy: 0.7861 - val_loss: 0.4243 - val_accuracy: 0.8004\n",
            "Epoch 41/100\n",
            "308/308 [==============================] - 1s 3ms/step - loss: 0.4366 - accuracy: 0.7934 - val_loss: 0.4226 - val_accuracy: 0.8011\n",
            "Epoch 42/100\n",
            "308/308 [==============================] - 1s 3ms/step - loss: 0.4395 - accuracy: 0.7859 - val_loss: 0.4228 - val_accuracy: 0.8054\n",
            "Epoch 43/100\n",
            "308/308 [==============================] - 1s 3ms/step - loss: 0.4338 - accuracy: 0.7971 - val_loss: 0.4224 - val_accuracy: 0.8075\n"
          ]
        }
      ]
    },
    {
      "cell_type": "markdown",
      "source": [
        "Lalu kita akan periksa bagaimana performa model tersebut."
      ],
      "metadata": {
        "id": "JsslSNiGUgR8"
      }
    },
    {
      "cell_type": "code",
      "source": [
        "metrics_function_fine = pd.DataFrame(history_function_fine.history)\n",
        "metrics_function_fine.describe()"
      ],
      "metadata": {
        "colab": {
          "base_uri": "https://localhost:8080/",
          "height": 300
        },
        "id": "1bSc6EdRSbKl",
        "outputId": "f211a2ab-3773-4168-fbe5-26ce25ed4c93"
      },
      "execution_count": 80,
      "outputs": [
        {
          "output_type": "execute_result",
          "data": {
            "text/plain": [
              "            loss   accuracy   val_loss  val_accuracy\n",
              "count  43.000000  43.000000  43.000000     43.000000\n",
              "mean    0.449782   0.780844   0.428455      0.799931\n",
              "std     0.029681   0.023489   0.014429      0.007690\n",
              "min     0.433849   0.638635   0.422320      0.762208\n",
              "25%     0.438744   0.780723   0.423612      0.800071\n",
              "50%     0.442115   0.785294   0.424588      0.801840\n",
              "75%     0.449084   0.788544   0.426663      0.803255\n",
              "max     0.624055   0.797075   0.513289      0.807502"
            ],
            "text/html": [
              "\n",
              "  <div id=\"df-324c100f-88d1-49f2-9b84-eb81135024ef\">\n",
              "    <div class=\"colab-df-container\">\n",
              "      <div>\n",
              "<style scoped>\n",
              "    .dataframe tbody tr th:only-of-type {\n",
              "        vertical-align: middle;\n",
              "    }\n",
              "\n",
              "    .dataframe tbody tr th {\n",
              "        vertical-align: top;\n",
              "    }\n",
              "\n",
              "    .dataframe thead th {\n",
              "        text-align: right;\n",
              "    }\n",
              "</style>\n",
              "<table border=\"1\" class=\"dataframe\">\n",
              "  <thead>\n",
              "    <tr style=\"text-align: right;\">\n",
              "      <th></th>\n",
              "      <th>loss</th>\n",
              "      <th>accuracy</th>\n",
              "      <th>val_loss</th>\n",
              "      <th>val_accuracy</th>\n",
              "    </tr>\n",
              "  </thead>\n",
              "  <tbody>\n",
              "    <tr>\n",
              "      <th>count</th>\n",
              "      <td>43.000000</td>\n",
              "      <td>43.000000</td>\n",
              "      <td>43.000000</td>\n",
              "      <td>43.000000</td>\n",
              "    </tr>\n",
              "    <tr>\n",
              "      <th>mean</th>\n",
              "      <td>0.449782</td>\n",
              "      <td>0.780844</td>\n",
              "      <td>0.428455</td>\n",
              "      <td>0.799931</td>\n",
              "    </tr>\n",
              "    <tr>\n",
              "      <th>std</th>\n",
              "      <td>0.029681</td>\n",
              "      <td>0.023489</td>\n",
              "      <td>0.014429</td>\n",
              "      <td>0.007690</td>\n",
              "    </tr>\n",
              "    <tr>\n",
              "      <th>min</th>\n",
              "      <td>0.433849</td>\n",
              "      <td>0.638635</td>\n",
              "      <td>0.422320</td>\n",
              "      <td>0.762208</td>\n",
              "    </tr>\n",
              "    <tr>\n",
              "      <th>25%</th>\n",
              "      <td>0.438744</td>\n",
              "      <td>0.780723</td>\n",
              "      <td>0.423612</td>\n",
              "      <td>0.800071</td>\n",
              "    </tr>\n",
              "    <tr>\n",
              "      <th>50%</th>\n",
              "      <td>0.442115</td>\n",
              "      <td>0.785294</td>\n",
              "      <td>0.424588</td>\n",
              "      <td>0.801840</td>\n",
              "    </tr>\n",
              "    <tr>\n",
              "      <th>75%</th>\n",
              "      <td>0.449084</td>\n",
              "      <td>0.788544</td>\n",
              "      <td>0.426663</td>\n",
              "      <td>0.803255</td>\n",
              "    </tr>\n",
              "    <tr>\n",
              "      <th>max</th>\n",
              "      <td>0.624055</td>\n",
              "      <td>0.797075</td>\n",
              "      <td>0.513289</td>\n",
              "      <td>0.807502</td>\n",
              "    </tr>\n",
              "  </tbody>\n",
              "</table>\n",
              "</div>\n",
              "      <button class=\"colab-df-convert\" onclick=\"convertToInteractive('df-324c100f-88d1-49f2-9b84-eb81135024ef')\"\n",
              "              title=\"Convert this dataframe to an interactive table.\"\n",
              "              style=\"display:none;\">\n",
              "        \n",
              "  <svg xmlns=\"http://www.w3.org/2000/svg\" height=\"24px\"viewBox=\"0 0 24 24\"\n",
              "       width=\"24px\">\n",
              "    <path d=\"M0 0h24v24H0V0z\" fill=\"none\"/>\n",
              "    <path d=\"M18.56 5.44l.94 2.06.94-2.06 2.06-.94-2.06-.94-.94-2.06-.94 2.06-2.06.94zm-11 1L8.5 8.5l.94-2.06 2.06-.94-2.06-.94L8.5 2.5l-.94 2.06-2.06.94zm10 10l.94 2.06.94-2.06 2.06-.94-2.06-.94-.94-2.06-.94 2.06-2.06.94z\"/><path d=\"M17.41 7.96l-1.37-1.37c-.4-.4-.92-.59-1.43-.59-.52 0-1.04.2-1.43.59L10.3 9.45l-7.72 7.72c-.78.78-.78 2.05 0 2.83L4 21.41c.39.39.9.59 1.41.59.51 0 1.02-.2 1.41-.59l7.78-7.78 2.81-2.81c.8-.78.8-2.07 0-2.86zM5.41 20L4 18.59l7.72-7.72 1.47 1.35L5.41 20z\"/>\n",
              "  </svg>\n",
              "      </button>\n",
              "      \n",
              "  <style>\n",
              "    .colab-df-container {\n",
              "      display:flex;\n",
              "      flex-wrap:wrap;\n",
              "      gap: 12px;\n",
              "    }\n",
              "\n",
              "    .colab-df-convert {\n",
              "      background-color: #E8F0FE;\n",
              "      border: none;\n",
              "      border-radius: 50%;\n",
              "      cursor: pointer;\n",
              "      display: none;\n",
              "      fill: #1967D2;\n",
              "      height: 32px;\n",
              "      padding: 0 0 0 0;\n",
              "      width: 32px;\n",
              "    }\n",
              "\n",
              "    .colab-df-convert:hover {\n",
              "      background-color: #E2EBFA;\n",
              "      box-shadow: 0px 1px 2px rgba(60, 64, 67, 0.3), 0px 1px 3px 1px rgba(60, 64, 67, 0.15);\n",
              "      fill: #174EA6;\n",
              "    }\n",
              "\n",
              "    [theme=dark] .colab-df-convert {\n",
              "      background-color: #3B4455;\n",
              "      fill: #D2E3FC;\n",
              "    }\n",
              "\n",
              "    [theme=dark] .colab-df-convert:hover {\n",
              "      background-color: #434B5C;\n",
              "      box-shadow: 0px 1px 3px 1px rgba(0, 0, 0, 0.15);\n",
              "      filter: drop-shadow(0px 1px 2px rgba(0, 0, 0, 0.3));\n",
              "      fill: #FFFFFF;\n",
              "    }\n",
              "  </style>\n",
              "\n",
              "      <script>\n",
              "        const buttonEl =\n",
              "          document.querySelector('#df-324c100f-88d1-49f2-9b84-eb81135024ef button.colab-df-convert');\n",
              "        buttonEl.style.display =\n",
              "          google.colab.kernel.accessAllowed ? 'block' : 'none';\n",
              "\n",
              "        async function convertToInteractive(key) {\n",
              "          const element = document.querySelector('#df-324c100f-88d1-49f2-9b84-eb81135024ef');\n",
              "          const dataTable =\n",
              "            await google.colab.kernel.invokeFunction('convertToInteractive',\n",
              "                                                     [key], {});\n",
              "          if (!dataTable) return;\n",
              "\n",
              "          const docLinkHtml = 'Like what you see? Visit the ' +\n",
              "            '<a target=\"_blank\" href=https://colab.research.google.com/notebooks/data_table.ipynb>data table notebook</a>'\n",
              "            + ' to learn more about interactive tables.';\n",
              "          element.innerHTML = '';\n",
              "          dataTable['output_type'] = 'display_data';\n",
              "          await google.colab.output.renderOutput(dataTable, element);\n",
              "          const docLink = document.createElement('div');\n",
              "          docLink.innerHTML = docLinkHtml;\n",
              "          element.appendChild(docLink);\n",
              "        }\n",
              "      </script>\n",
              "    </div>\n",
              "  </div>\n",
              "  "
            ]
          },
          "metadata": {},
          "execution_count": 80
        }
      ]
    },
    {
      "cell_type": "markdown",
      "source": [
        "Dari perintah di atas, kita dapat mengetahui bahwa rata-rata akurasi dari model adalah sebesar 78.08% dengan rata-rata akurasi validasi sebesar 79.99%, serta model memiliki penalti rata-rata sebesar 0.4497 dengan penalti rata-rata validasi sebesar 0.4284. Untuk lebih jelasnya, kita dapat membuat grafik untuk menvisualisasikan akurasi model tersebut."
      ],
      "metadata": {
        "id": "KEfe4ditUV2k"
      }
    },
    {
      "cell_type": "code",
      "source": [
        "metrics_function_fine[[\"accuracy\", \"val_accuracy\", \"loss\", \"val_loss\"]].plot()"
      ],
      "metadata": {
        "colab": {
          "base_uri": "https://localhost:8080/",
          "height": 282
        },
        "id": "4M28YRCdTq6i",
        "outputId": "3623a5be-6fa4-44e3-9655-0cb5f864d1ca"
      },
      "execution_count": 81,
      "outputs": [
        {
          "output_type": "execute_result",
          "data": {
            "text/plain": [
              "<matplotlib.axes._subplots.AxesSubplot at 0x7fbf63c94950>"
            ]
          },
          "metadata": {},
          "execution_count": 81
        },
        {
          "output_type": "display_data",
          "data": {
            "text/plain": [
              "<Figure size 432x288 with 1 Axes>"
            ],
            "image/png": "[encoded data removed]"
          },
          "metadata": {
            "needs_background": "light"
          }
        }
      ]
    },
    {
      "cell_type": "markdown",
      "source": [
        "Dari grafik di atas, kita dapat lihat bahwa akurasi model umumnya mengalami kenaikan dan penalti dari model terus turun selama pelatihan model. Namun, terdapat jarak antara *dataset train* dengan *dataset dev* pada model ini lebih besar dibanding dengan model dengan *hyperparameter* asal.\n",
        "\n",
        "Sekarang kita akan evaluasi bagaimana performa model pada saat diterapkan ke dalam *dataset test*."
      ],
      "metadata": {
        "id": "nuUFNxYUVDrg"
      }
    },
    {
      "cell_type": "code",
      "source": [
        "loss_sequence_fine, accuracy_sequence_fine = model_sequence_fine.evaluate(tf_dataset_test_batch)\n",
        "loss_function_fine, accuracy_function_fine = model_function_fine.evaluate(tf_dataset_test_batch)\n",
        "\n",
        "print(f\" Model loss on the test set (Sequence Fine): {loss_sequence_fine}\")\n",
        "print(f\" Model accuracy on the test set (Sequence Fine): {100 * accuracy_sequence_fine} %\")\n",
        "print(\"--------------------------------------------------\")\n",
        "print(f\" Model loss on the test set (Function Fine): {loss_function_fine}\")\n",
        "print(f\" Model accuracy on the test set (Function Fine): {100 * accuracy_function_fine} %\")"
      ],
      "metadata": {
        "colab": {
          "base_uri": "https://localhost:8080/"
        },
        "id": "b7SKKrdou_kO",
        "outputId": "dd0118c6-4527-42ee-a29c-0876345fab4c"
      },
      "execution_count": 82,
      "outputs": [
        {
          "output_type": "stream",
          "name": "stdout",
          "text": [
            "44/44 [==============================] - 0s 2ms/step - loss: 0.4117 - accuracy: 0.8049\n",
            "44/44 [==============================] - 0s 2ms/step - loss: 0.4103 - accuracy: 0.8063\n",
            " Model loss on the test set (Sequence Fine): 0.4117211699485779\n",
            " Model accuracy on the test set (Sequence Fine): 80.48780560493469 %\n",
            "--------------------------------------------------\n",
            " Model loss on the test set (Function Fine): 0.41028401255607605\n",
            " Model accuracy on the test set (Function Fine): 80.63127398490906 %\n"
          ]
        }
      ]
    },
    {
      "cell_type": "markdown",
      "source": [
        "Dapat kita lihat bahwa model fungsi memiliki akurasi yang lebih baik dari model sekuensial dan juga memiliki nilai penalti yang lebih kecil dibanding model sekuensial. Selain itu, kita dapat melihat bahwa penalti pada model yang sudah diperbaiki justru malah menjadi lebih besar dibanding model dengan *hyperparameter default*, serta akurasi model yang sudah diperbaiki justru menjadi lebih buruk pada model fungsi."
      ],
      "metadata": {
        "id": "5ii8wvTRVSaq"
      }
    },
    {
      "cell_type": "markdown",
      "source": [
        "## Model Inference"
      ],
      "metadata": {
        "id": "yDV6kAXbRE1y"
      }
    },
    {
      "cell_type": "markdown",
      "source": [
        "Sebelum kita melakukan *inference*, kita akan lakukan pemecahan kolom dan mengurus *missing value* pada *dataset inference* yang kita miliki."
      ],
      "metadata": {
        "id": "qHMy4tYHRHRR"
      }
    },
    {
      "cell_type": "code",
      "source": [
        "phone_serv_bool = []\n",
        "single_line_bool = []\n",
        "multi_line_bool = []\n",
        "internet_serv_bool = []\n",
        "DSL_serv_bool = []\n",
        "optic_serv_bool = []\n",
        "olsecurity_serv_bool = []\n",
        "olbackup_serv_bool = []\n",
        "devprotect_serv_bool = []\n",
        "techsupport_serv_bool = []\n",
        "tv_serv_bool = []\n",
        "movies_serv_bool = []\n",
        "\n",
        "for i in range(len(df_inf)):\n",
        "  if \"Yes\" in df_inf.PhoneService.iloc[i]:\n",
        "    phoneserv_id = True\n",
        "  else:\n",
        "    phoneserv_id = False\n",
        "  phone_serv_bool.append(phoneserv_id)\n",
        "\n",
        "for i in range(len(df_inf)):\n",
        "  if \"Yes\" in df_inf.MultipleLines.iloc[i]:\n",
        "    singleline_id = True\n",
        "  else:\n",
        "    singleline_id = False\n",
        "  single_line_bool.append(singleline_id)\n",
        "\n",
        "for i in range(len(df_inf)):\n",
        "  if \"Yes\" in df_inf.MultipleLines.iloc[i]:\n",
        "    multiline_id = True\n",
        "  else:\n",
        "    multiline_id = False\n",
        "  multi_line_bool.append(multiline_id)\n",
        "\n",
        "for i in range(len(df_inf)):\n",
        "  if \"No\" in df_inf.InternetService.iloc[i]:\n",
        "    netserv_id = True\n",
        "  else:\n",
        "    netserv_id = False\n",
        "  internet_serv_bool.append(netserv_id)\n",
        "\n",
        "for i in range(len(df_inf)):\n",
        "  if \"DSL\" in df_inf.InternetService.iloc[i]:\n",
        "    dslserv_id = True\n",
        "  else:\n",
        "    dslserv_id = False\n",
        "  DSL_serv_bool.append(dslserv_id)\n",
        "\n",
        "for i in range(len(df_inf)):\n",
        "  if \"Fiber optic\" in df_inf.InternetService.iloc[i]:\n",
        "    opticserv_id = True\n",
        "  else:\n",
        "    opticserv_id = False\n",
        "  optic_serv_bool.append(opticserv_id)\n",
        "\n",
        "for i in range(len(df_inf)):\n",
        "  if \"Yes\" in df_inf.OnlineSecurity.iloc[i]:\n",
        "    olsec_id = True\n",
        "  else:\n",
        "    olsec_id = False\n",
        "  olsecurity_serv_bool.append(olsec_id)\n",
        "\n",
        "for i in range(len(df_inf)):\n",
        "  if \"Yes\" in df_inf.OnlineBackup.iloc[i]:\n",
        "    olback_id = True\n",
        "  else:\n",
        "    olback_id = False\n",
        "  olbackup_serv_bool.append(olback_id)\n",
        "\n",
        "for i in range(len(df_inf)):\n",
        "  if \"Yes\" in df_inf.DeviceProtection.iloc[i]:\n",
        "    devprot_id = True\n",
        "  else:\n",
        "    devprot_id = False\n",
        "  devprotect_serv_bool.append(devprot_id)\n",
        "\n",
        "for i in range(len(df_inf)):\n",
        "  if \"Yes\" in df_inf.TechSupport.iloc[i]:\n",
        "    techsupp_id = True\n",
        "  else:\n",
        "    techsupp_id = False\n",
        "  techsupport_serv_bool.append(techsupp_id)\n",
        "\n",
        "for i in range(len(df_inf)):\n",
        "  if \"Yes\" in df_inf.StreamingTV.iloc[i]:\n",
        "    tv_id = True\n",
        "  else:\n",
        "    tv_id = False\n",
        "  tv_serv_bool.append(tv_id)\n",
        "\n",
        "for i in range(len(df_inf)):\n",
        "  if \"Yes\" in df_inf.StreamingMovies.iloc[i]:\n",
        "    movies_id = True\n",
        "  else:\n",
        "    movies_id = False\n",
        "  movies_serv_bool.append(movies_id)\n",
        "\n",
        "df_inf[\"PhoneUser\"] = phone_serv_bool\n",
        "df_inf[\"SingleLineUser\"] = single_line_bool\n",
        "df_inf[\"MultiLineUser\"] = multi_line_bool\n",
        "df_inf[\"InternetUser\"] = internet_serv_bool\n",
        "df_inf[\"DSLUser\"] = DSL_serv_bool\n",
        "df_inf[\"FiberOpticUser\"] = optic_serv_bool\n",
        "df_inf[\"OnlineSecurityUser\"] = olsecurity_serv_bool\n",
        "df_inf[\"OnlineBackupUser\"] = olbackup_serv_bool\n",
        "df_inf[\"DeviceProtectionUser\"] = devprotect_serv_bool\n",
        "df_inf[\"TechSupportUser\"] = techsupport_serv_bool\n",
        "df_inf[\"TVStreamUser\"] = tv_serv_bool\n",
        "df_inf[\"MoviesStreamUser\"] = movies_serv_bool\n",
        "\n",
        "df_inf.TotalCharges = df_inf.TotalCharges.fillna(df_inf.TotalCharges.median())"
      ],
      "metadata": {
        "id": "iIM6K0WFzlxL"
      },
      "execution_count": 83,
      "outputs": []
    },
    {
      "cell_type": "markdown",
      "source": [
        "Lalu kita akan lakukan *scaling* dan *encoding* pada fitur dan target yang sudah kita pilih."
      ],
      "metadata": {
        "id": "NNeV0_JoRWsK"
      }
    },
    {
      "cell_type": "code",
      "source": [
        "preprocess_data_inf = preprocess_pipeline.transform(df_inf)\n",
        "y_inf = label_encoder.transform(df_inf.Churn)"
      ],
      "metadata": {
        "id": "4AW8zigV0XLC"
      },
      "execution_count": 84,
      "outputs": []
    },
    {
      "cell_type": "markdown",
      "source": [
        "Lalu kita akan prediksi target pada *data inference* dengan nilai aslinya (dengan 0 = False dan 1 = True) dengan menggunakan model fungsi dengan *hyperparameter default*"
      ],
      "metadata": {
        "id": "yenPtdp4V7ON"
      }
    },
    {
      "cell_type": "code",
      "source": [
        "y_inf_pred_inf_function = model_function.predict(preprocess_data_inf)\n",
        "\n",
        "y_inf_df = pd.DataFrame(y_inf, columns = [\"RealChurn\"])\n",
        "y_inf_pred_inf_function_df = pd.DataFrame(y_inf_pred_inf_function, columns = [\"PredChurn\"]).round(decimals = 0)\n",
        "\n",
        "pd.concat([y_inf_df, y_inf_pred_inf_function_df], axis = 1)"
      ],
      "metadata": {
        "colab": {
          "base_uri": "https://localhost:8080/",
          "height": 363
        },
        "id": "oC9q9nxkLZrJ",
        "outputId": "7f506086-b5ec-4052-f051-d42907af7f74"
      },
      "execution_count": 87,
      "outputs": [
        {
          "output_type": "execute_result",
          "data": {
            "text/plain": [
              "   RealChurn  PredChurn\n",
              "0          0        0.0\n",
              "1          0        0.0\n",
              "2          1        0.0\n",
              "3          0        0.0\n",
              "4          0        0.0\n",
              "5          0        0.0\n",
              "6          0        0.0\n",
              "7          1        1.0\n",
              "8          1        1.0\n",
              "9          0        0.0"
            ],
            "text/html": [
              "\n",
              "  <div id=\"df-3d1a1a3b-e103-443c-99b7-b04fef651441\">\n",
              "    <div class=\"colab-df-container\">\n",
              "      <div>\n",
              "<style scoped>\n",
              "    .dataframe tbody tr th:only-of-type {\n",
              "        vertical-align: middle;\n",
              "    }\n",
              "\n",
              "    .dataframe tbody tr th {\n",
              "        vertical-align: top;\n",
              "    }\n",
              "\n",
              "    .dataframe thead th {\n",
              "        text-align: right;\n",
              "    }\n",
              "</style>\n",
              "<table border=\"1\" class=\"dataframe\">\n",
              "  <thead>\n",
              "    <tr style=\"text-align: right;\">\n",
              "      <th></th>\n",
              "      <th>RealChurn</th>\n",
              "      <th>PredChurn</th>\n",
              "    </tr>\n",
              "  </thead>\n",
              "  <tbody>\n",
              "    <tr>\n",
              "      <th>0</th>\n",
              "      <td>0</td>\n",
              "      <td>0.0</td>\n",
              "    </tr>\n",
              "    <tr>\n",
              "      <th>1</th>\n",
              "      <td>0</td>\n",
              "      <td>0.0</td>\n",
              "    </tr>\n",
              "    <tr>\n",
              "      <th>2</th>\n",
              "      <td>1</td>\n",
              "      <td>0.0</td>\n",
              "    </tr>\n",
              "    <tr>\n",
              "      <th>3</th>\n",
              "      <td>0</td>\n",
              "      <td>0.0</td>\n",
              "    </tr>\n",
              "    <tr>\n",
              "      <th>4</th>\n",
              "      <td>0</td>\n",
              "      <td>0.0</td>\n",
              "    </tr>\n",
              "    <tr>\n",
              "      <th>5</th>\n",
              "      <td>0</td>\n",
              "      <td>0.0</td>\n",
              "    </tr>\n",
              "    <tr>\n",
              "      <th>6</th>\n",
              "      <td>0</td>\n",
              "      <td>0.0</td>\n",
              "    </tr>\n",
              "    <tr>\n",
              "      <th>7</th>\n",
              "      <td>1</td>\n",
              "      <td>1.0</td>\n",
              "    </tr>\n",
              "    <tr>\n",
              "      <th>8</th>\n",
              "      <td>1</td>\n",
              "      <td>1.0</td>\n",
              "    </tr>\n",
              "    <tr>\n",
              "      <th>9</th>\n",
              "      <td>0</td>\n",
              "      <td>0.0</td>\n",
              "    </tr>\n",
              "  </tbody>\n",
              "</table>\n",
              "</div>\n",
              "      <button class=\"colab-df-convert\" onclick=\"convertToInteractive('df-3d1a1a3b-e103-443c-99b7-b04fef651441')\"\n",
              "              title=\"Convert this dataframe to an interactive table.\"\n",
              "              style=\"display:none;\">\n",
              "        \n",
              "  <svg xmlns=\"http://www.w3.org/2000/svg\" height=\"24px\"viewBox=\"0 0 24 24\"\n",
              "       width=\"24px\">\n",
              "    <path d=\"M0 0h24v24H0V0z\" fill=\"none\"/>\n",
              "    <path d=\"M18.56 5.44l.94 2.06.94-2.06 2.06-.94-2.06-.94-.94-2.06-.94 2.06-2.06.94zm-11 1L8.5 8.5l.94-2.06 2.06-.94-2.06-.94L8.5 2.5l-.94 2.06-2.06.94zm10 10l.94 2.06.94-2.06 2.06-.94-2.06-.94-.94-2.06-.94 2.06-2.06.94z\"/><path d=\"M17.41 7.96l-1.37-1.37c-.4-.4-.92-.59-1.43-.59-.52 0-1.04.2-1.43.59L10.3 9.45l-7.72 7.72c-.78.78-.78 2.05 0 2.83L4 21.41c.39.39.9.59 1.41.59.51 0 1.02-.2 1.41-.59l7.78-7.78 2.81-2.81c.8-.78.8-2.07 0-2.86zM5.41 20L4 18.59l7.72-7.72 1.47 1.35L5.41 20z\"/>\n",
              "  </svg>\n",
              "      </button>\n",
              "      \n",
              "  <style>\n",
              "    .colab-df-container {\n",
              "      display:flex;\n",
              "      flex-wrap:wrap;\n",
              "      gap: 12px;\n",
              "    }\n",
              "\n",
              "    .colab-df-convert {\n",
              "      background-color: #E8F0FE;\n",
              "      border: none;\n",
              "      border-radius: 50%;\n",
              "      cursor: pointer;\n",
              "      display: none;\n",
              "      fill: #1967D2;\n",
              "      height: 32px;\n",
              "      padding: 0 0 0 0;\n",
              "      width: 32px;\n",
              "    }\n",
              "\n",
              "    .colab-df-convert:hover {\n",
              "      background-color: #E2EBFA;\n",
              "      box-shadow: 0px 1px 2px rgba(60, 64, 67, 0.3), 0px 1px 3px 1px rgba(60, 64, 67, 0.15);\n",
              "      fill: #174EA6;\n",
              "    }\n",
              "\n",
              "    [theme=dark] .colab-df-convert {\n",
              "      background-color: #3B4455;\n",
              "      fill: #D2E3FC;\n",
              "    }\n",
              "\n",
              "    [theme=dark] .colab-df-convert:hover {\n",
              "      background-color: #434B5C;\n",
              "      box-shadow: 0px 1px 3px 1px rgba(0, 0, 0, 0.15);\n",
              "      filter: drop-shadow(0px 1px 2px rgba(0, 0, 0, 0.3));\n",
              "      fill: #FFFFFF;\n",
              "    }\n",
              "  </style>\n",
              "\n",
              "      <script>\n",
              "        const buttonEl =\n",
              "          document.querySelector('#df-3d1a1a3b-e103-443c-99b7-b04fef651441 button.colab-df-convert');\n",
              "        buttonEl.style.display =\n",
              "          google.colab.kernel.accessAllowed ? 'block' : 'none';\n",
              "\n",
              "        async function convertToInteractive(key) {\n",
              "          const element = document.querySelector('#df-3d1a1a3b-e103-443c-99b7-b04fef651441');\n",
              "          const dataTable =\n",
              "            await google.colab.kernel.invokeFunction('convertToInteractive',\n",
              "                                                     [key], {});\n",
              "          if (!dataTable) return;\n",
              "\n",
              "          const docLinkHtml = 'Like what you see? Visit the ' +\n",
              "            '<a target=\"_blank\" href=https://colab.research.google.com/notebooks/data_table.ipynb>data table notebook</a>'\n",
              "            + ' to learn more about interactive tables.';\n",
              "          element.innerHTML = '';\n",
              "          dataTable['output_type'] = 'display_data';\n",
              "          await google.colab.output.renderOutput(dataTable, element);\n",
              "          const docLink = document.createElement('div');\n",
              "          docLink.innerHTML = docLinkHtml;\n",
              "          element.appendChild(docLink);\n",
              "        }\n",
              "      </script>\n",
              "    </div>\n",
              "  </div>\n",
              "  "
            ]
          },
          "metadata": {},
          "execution_count": 87
        }
      ]
    },
    {
      "cell_type": "markdown",
      "source": [
        "Dapat kita lihat bahwa hasil prediksi pada *dataset inference* mengeluarkan 9 hasil benar dan 1 hasil salah. Apabila dihitung akurasinya adalah sebesar 90%."
      ],
      "metadata": {
        "id": "Y2bb4JCRdu3y"
      }
    },
    {
      "cell_type": "markdown",
      "source": [
        "## Kesimpulan"
      ],
      "metadata": {
        "id": "dDmo8Q--eYt2"
      }
    },
    {
      "cell_type": "markdown",
      "source": [
        "Berikut adalah beberapa hal yang dapat kita simpulkan dari analisis yang sudah dibuat:\n",
        "\n",
        "* Berdasarkan EDA, kita ketahui bahwa data yang digunakan merupakan data pelanggan layanan telekomunikasi dengan berbagai macam detil data diri dan pelayanan yang digunakan oleh 7043 pelanggan yang tercatat di dalam data,\n",
        "\n",
        "* Model-model yang sudah dilatih umumnya memiliki nilai akurasi dan penalti yang sama, namun dapat diketahui bahwa model fungsi dengan *hyperparameter default* merupakan model terbaik untuk digunakan pada *dataset* ini dengan akurasi sebesar 80.77% dan nilai penalti sebesar 0.4038,"
      ],
      "metadata": {
        "id": "xuVoAfyyeaC5"
      }
    },
    {
      "cell_type": "markdown",
      "source": [
        "## Tambahan: Menyimpan Model untuk *Deployment*"
      ],
      "metadata": {
        "id": "CBKpOSOJffFb"
      }
    },
    {
      "cell_type": "markdown",
      "source": [
        "Perintah di bawah digunakan untuk mengambil model yang akan digunakan untuk *deployment*. Model yang akan digunakan merupakan model sekuensial dengan *hyperparameter* default."
      ],
      "metadata": {
        "id": "M_SjiLRDjrLq"
      }
    },
    {
      "cell_type": "code",
      "source": [
        "with open(\"preprocess_p2m1.pkl\", \"wb\") as pipe_preprocess:\n",
        "    pickle.dump(preprocess_pipeline, pipe_preprocess)\n",
        "\n",
        "model_function_fine.save(\"model_p2m1\")\n",
        "\n",
        "! zip -r model_p2m1.zip model_p2m1"
      ],
      "metadata": {
        "colab": {
          "base_uri": "https://localhost:8080/"
        },
        "id": "lIeUyCO-2Ga4",
        "outputId": "770a2817-b312-43b4-c706-dfe351827ead"
      },
      "execution_count": 88,
      "outputs": [
        {
          "output_type": "stream",
          "name": "stderr",
          "text": [
            "WARNING:absl:Function `_wrapped_model` contains input name(s) Input with unsupported characters which will be renamed to input in the SavedModel.\n"
          ]
        },
        {
          "output_type": "stream",
          "name": "stdout",
          "text": [
            "  adding: model_p2m1/ (stored 0%)\n",
            "  adding: model_p2m1/saved_model.pb (deflated 88%)\n",
            "  adding: model_p2m1/keras_metadata.pb (deflated 89%)\n",
            "  adding: model_p2m1/variables/ (stored 0%)\n",
            "  adding: model_p2m1/variables/variables.index (deflated 66%)\n",
            "  adding: model_p2m1/variables/variables.data-00000-of-00001 (deflated 52%)\n",
            "  adding: model_p2m1/assets/ (stored 0%)\n"
          ]
        }
      ]
    }
  ]
}