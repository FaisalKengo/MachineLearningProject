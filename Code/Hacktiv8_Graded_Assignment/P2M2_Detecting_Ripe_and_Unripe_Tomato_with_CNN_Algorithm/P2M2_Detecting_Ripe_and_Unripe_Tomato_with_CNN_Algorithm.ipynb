{
  "nbformat": 4,
  "nbformat_minor": 0,
  "metadata": {
    "colab": {
      "provenance": [],
      "collapsed_sections": []
    },
    "kernelspec": {
      "name": "python3",
      "display_name": "Python 3"
    },
    "language_info": {
      "name": "python"
    },
    "accelerator": "GPU"
  },
  "cells": [
    {
      "cell_type": "markdown",
      "source": [
        "# Memprediksi Kematangan Tomat dengan Menggunakan Algoritma *Convolution Neural Network*\n",
        "\n",
        "`Faisal Kengo (FTDS Remote Batch 014)`"
      ],
      "metadata": {
        "id": "ciMr3EgyvKV5"
      }
    },
    {
      "cell_type": "markdown",
      "source": [
        "## Perkenalan"
      ],
      "metadata": {
        "id": "LA8MiyZ7vdoW"
      }
    },
    {
      "cell_type": "markdown",
      "source": [
        "Nama saya Faisal Kengo, kali ini saya akan memprediksi apakah suatu tomat sudah matang atau belum dengan menggunakan algoritma *Convolution Neural Network*. *Dataset* yang disediakan terdiri dari berbagai macam gambar tomat dengan tingkat kematangan yang berbeda-beda dan diunduh dari [Kaggle.com](https://www.kaggle.com/datasets/techkhid/riped-and-unriped-tomato-dataset)."
      ],
      "metadata": {
        "id": "yEptHhtwvfye"
      }
    },
    {
      "cell_type": "markdown",
      "source": [
        "### Tujuan"
      ],
      "metadata": {
        "id": "NYDlXCwuwLL-"
      }
    },
    {
      "cell_type": "markdown",
      "source": [
        "Tujuan dari penyusunan laporan ini adalah sebagai berikut:\n",
        "\n",
        "* Memprediksi klasifikasi tomat matang dan tomat belum matang lewat gambar menggunakan algoritma *Convolution Neural Network*."
      ],
      "metadata": {
        "id": "WOKrJezWwMAG"
      }
    },
    {
      "cell_type": "markdown",
      "source": [
        "## Pengolahan dan Analisa *Dataset*"
      ],
      "metadata": {
        "id": "slz6ha4twlR-"
      }
    },
    {
      "cell_type": "markdown",
      "source": [
        "### Mengimpor *Library*"
      ],
      "metadata": {
        "id": "sUucZl56wncO"
      }
    },
    {
      "cell_type": "markdown",
      "source": [
        "Pertama-tama kita akan mengimpor *library* yang akan kita gunakan untuk mengolah data."
      ],
      "metadata": {
        "id": "rhqdWN0iwpcA"
      }
    },
    {
      "cell_type": "code",
      "source": [
        "# Memuat library yang akan digunakan dalam proses analisa\n",
        "\n",
        "import os\n",
        "import glob\n",
        "import numpy as np\n",
        "import pandas as pd\n",
        "import matplotlib.pyplot as plt\n",
        "import seaborn as sns\n",
        "import cv2\n",
        "import tensorflow as tf\n",
        "import pickle\n",
        "from google.colab.patches import cv2_imshow\n",
        "from tensorflow import keras\n",
        "from sklearn.model_selection import train_test_split\n",
        "from sklearn.preprocessing import LabelEncoder\n",
        "from sklearn.metrics import classification_report, confusion_matrix, ConfusionMatrixDisplay"
      ],
      "metadata": {
        "id": "DFNRZN8bVxi7"
      },
      "execution_count": 1,
      "outputs": []
    },
    {
      "cell_type": "markdown",
      "source": [
        "### Memuat *Dataset*"
      ],
      "metadata": {
        "id": "rPQ9TiO1wzuy"
      }
    },
    {
      "cell_type": "markdown",
      "source": [
        "Untuk laporan kali ini kita akan mengunduh data langsung lewat API Kaggle. *Token* untuk API Kaggle bisa didapatkan dari pengaturan akun Kaggle masing-masing. Setelah itu kita akan menyiapkan *folder root* dan *folder* untuk melakukan pegunduhan. Perintah di bawah dilakukan untuk Google Colab. Pada lokal, perintah di bawah dapat dilakukan dengan mengganti alamat pembuatan *folder root* dan *folder* ke alamat di mana model dijalankan."
      ],
      "metadata": {
        "id": "ZqDQIOeEw0o6"
      }
    },
    {
      "cell_type": "code",
      "source": [
        "# Mempersiapkan pengunduhan dataset dari Kaggle ke Colab\n",
        "\n",
        "!mkdir -p ~/.kaggle\n",
        "!cp kaggle.json ~/.kaggle \n",
        "\n",
        "!mkdir ./kaggle\n",
        "!mv ./kaggle.json ./kaggle\n",
        "\n",
        "# Mengatur perizinan akses dan memeriksa file di dalam folder Kaggle\n",
        "\n",
        "!chmod 600 ~/.kaggle/kaggle.json\n",
        "!ls ~/.kaggle\n",
        "\n",
        "# Menginstall program Kaggle ke environment Colab\n",
        "\n",
        "!pip install -q kaggle"
      ],
      "metadata": {
        "id": "o_C7FRM1RcZN",
        "colab": {
          "base_uri": "https://localhost:8080/"
        },
        "outputId": "f5c37009-d4c5-4e21-afa8-b19e52628662"
      },
      "execution_count": 2,
      "outputs": [
        {
          "output_type": "stream",
          "name": "stdout",
          "text": [
            "kaggle.json\n"
          ]
        }
      ]
    },
    {
      "cell_type": "markdown",
      "source": [
        "Kemudian kita akan mengunduh *dataset* yang akan kita gunakan. *Dataset* yang diunduh melalui Kaggle memiliki format dokumen berupa '.zip'. Kita dapat langsung mengekstrak dokumen tersebut melalui perintah `unzip`."
      ],
      "metadata": {
        "id": "uKn4Wn9sydUG"
      }
    },
    {
      "cell_type": "code",
      "source": [
        "# Mengunduh dataset dari Kaggle ke Colab\n",
        "\n",
        "!kaggle datasets download -d techkhid/riped-and-unriped-tomato-dataset\n",
        "\n",
        "# Mengekstrak dataset yang telah diunduh\n",
        "\n",
        "!unzip -q /content/riped-and-unriped-tomato-dataset.zip -d images"
      ],
      "metadata": {
        "id": "iPAwsto_T3Zh",
        "colab": {
          "base_uri": "https://localhost:8080/"
        },
        "outputId": "d33a3bff-f37e-4bf1-b2f2-35197153c2e5"
      },
      "execution_count": 3,
      "outputs": [
        {
          "output_type": "stream",
          "name": "stdout",
          "text": [
            "Downloading riped-and-unriped-tomato-dataset.zip to /content\n",
            " 84% 121M/143M [00:01<00:00, 133MB/s]\n",
            "100% 143M/143M [00:01<00:00, 123MB/s]\n"
          ]
        }
      ]
    },
    {
      "cell_type": "markdown",
      "source": [
        "Setelah itu kita akan mendefinisikan variabel yang mencakup daftar gambar yang sudah diunduh dan diekstrak."
      ],
      "metadata": {
        "id": "AvbWU_vVy1CG"
      }
    },
    {
      "cell_type": "code",
      "source": [
        "# Melihat isi folder gambar yang akan diidentifikasi\n",
        "\n",
        "imglist = os.listdir(\"/content/images/Riped and Unriped tomato Dataset/Images\")\n",
        "imglist"
      ],
      "metadata": {
        "id": "yEN6A7fEX4yj",
        "colab": {
          "base_uri": "https://localhost:8080/"
        },
        "outputId": "1ae70a42-287d-4635-f38f-8d2e00ddccbd"
      },
      "execution_count": 4,
      "outputs": [
        {
          "output_type": "execute_result",
          "data": {
            "text/plain": [
              "['Riped tomato_134.jpeg',\n",
              " 'unriped tomato_78.jpeg',\n",
              " 'Riped tomato_270.jpeg',\n",
              " 'Riped tomato_181.jpeg',\n",
              " 'Riped tomato_29.jpeg',\n",
              " 'Riped tomato_204.jpeg',\n",
              " 'Riped tomato_87.jpeg',\n",
              " 'Riped tomato_122.jpeg',\n",
              " 'Riped tomato_112.jpeg',\n",
              " 'Riped tomato_74.jpeg',\n",
              " 'unriped tomato_32.jpeg',\n",
              " 'Riped tomato_44.jpeg',\n",
              " 'Riped tomato_49.jpeg',\n",
              " 'Riped tomato_271.jpeg',\n",
              " 'Riped tomato_102.jpeg',\n",
              " 'unriped tomato_101.jpeg',\n",
              " 'unriped tomato_102.jpeg',\n",
              " 'unriped tomato_229.jpeg',\n",
              " 'unriped tomato_288.jpeg',\n",
              " 'unriped tomato_126.jpeg',\n",
              " 'Riped tomato_7.jpeg',\n",
              " 'unriped tomato_19.jpeg',\n",
              " 'unriped tomato_25.jpeg',\n",
              " 'Riped tomato_31.jpeg',\n",
              " 'unriped tomato_39.jpeg',\n",
              " 'Riped tomato_59.jpeg',\n",
              " 'Riped tomato_32.jpeg',\n",
              " 'Riped tomato_168.jpeg',\n",
              " 'Riped tomato_98.jpeg',\n",
              " 'unriped tomato_130.jpeg',\n",
              " 'unriped tomato_82.jpeg',\n",
              " 'Riped tomato_137.jpeg',\n",
              " 'Riped tomato_245.jpeg',\n",
              " 'unriped tomato_239.jpeg',\n",
              " 'Riped tomato_100.jpeg',\n",
              " 'Riped tomato_240.jpeg',\n",
              " 'unriped tomato_291.jpeg',\n",
              " 'Riped tomato_52.jpeg',\n",
              " 'unriped tomato_243.jpeg',\n",
              " 'Riped tomato_217.jpeg',\n",
              " 'Riped tomato_275.jpeg',\n",
              " 'Riped tomato_251.jpeg',\n",
              " 'unriped tomato_72.jpeg',\n",
              " 'unriped tomato_85.jpeg',\n",
              " 'Riped tomato_191.jpeg',\n",
              " 'unriped tomato_81.jpeg',\n",
              " 'Riped tomato_176.jpeg',\n",
              " 'unriped tomato_87.jpeg',\n",
              " 'Riped tomato_84.jpeg',\n",
              " 'Riped tomato_62.jpeg',\n",
              " 'unriped tomato_287.jpeg',\n",
              " 'Riped tomato_54.jpeg',\n",
              " 'Riped tomato_170.jpeg',\n",
              " 'unriped tomato_141.jpeg',\n",
              " 'unriped tomato_147.jpeg',\n",
              " 'Riped tomato_234.jpeg',\n",
              " 'unriped tomato_96.jpeg',\n",
              " 'Riped tomato_139.jpeg',\n",
              " 'unriped tomato_296.png',\n",
              " 'unriped tomato_108.png',\n",
              " 'unriped tomato_97.jpeg',\n",
              " 'unriped tomato_28.jpeg',\n",
              " 'unriped tomato_173.jpeg',\n",
              " 'Riped tomato_288.jpeg',\n",
              " 'unriped tomato_24.jpeg',\n",
              " 'unriped tomato_23.jpeg',\n",
              " 'Riped tomato_64.jpeg',\n",
              " 'Riped tomato_23.jpeg',\n",
              " 'unriped tomato_157.jpeg',\n",
              " 'Riped tomato_119.jpeg',\n",
              " 'unriped tomato_151.jpeg',\n",
              " 'Riped tomato_46.jpeg',\n",
              " 'Riped tomato_141.jpeg',\n",
              " 'unriped tomato_159.jpeg',\n",
              " 'unriped tomato_118.jpeg',\n",
              " 'unriped tomato_40.jpeg',\n",
              " 'unriped tomato_198.jpeg',\n",
              " 'unriped tomato_165.jpeg',\n",
              " 'unriped tomato_45.jpeg',\n",
              " 'Riped tomato_80.jpeg',\n",
              " 'Riped tomato_282.jpeg',\n",
              " 'Riped tomato_188.jpeg',\n",
              " 'unriped tomato_76.jpeg',\n",
              " 'Riped tomato_73.jpeg',\n",
              " 'unriped tomato_275.jpeg',\n",
              " 'Riped tomato_128.jpeg',\n",
              " 'unriped tomato_100.jpeg',\n",
              " 'Riped tomato_53.jpeg',\n",
              " 'Riped tomato_222.jpeg',\n",
              " 'unriped tomato_110.jpeg',\n",
              " 'unriped tomato_192.jpeg',\n",
              " 'Riped tomato_109.jpeg',\n",
              " 'Riped tomato_19.jpeg',\n",
              " 'Riped tomato_215.jpeg',\n",
              " 'Riped tomato_158.jpeg',\n",
              " 'Riped tomato_123.jpeg',\n",
              " 'Riped tomato_36.jpeg',\n",
              " 'unriped tomato_66.jpeg',\n",
              " 'unriped tomato_98.jpeg',\n",
              " 'unriped tomato_189.jpeg',\n",
              " 'unriped tomato_37.jpeg',\n",
              " 'unriped tomato_13.jpeg',\n",
              " 'unriped tomato_188.jpeg',\n",
              " 'Riped tomato_4.jpeg',\n",
              " 'unriped tomato_113.jpeg',\n",
              " 'unriped tomato_109.png',\n",
              " 'unriped tomato_16.jpeg',\n",
              " 'unriped tomato_35.jpeg',\n",
              " 'Riped tomato_40.jpeg',\n",
              " 'Riped tomato_239.jpeg',\n",
              " 'unriped tomato_244.jpeg',\n",
              " 'unriped tomato_158.jpeg',\n",
              " 'unriped tomato_221.jpeg',\n",
              " 'Riped tomato_51.jpeg',\n",
              " 'Riped tomato_179.jpeg',\n",
              " 'Riped tomato_184.jpeg',\n",
              " 'unriped tomato_233.png',\n",
              " 'Riped tomato_28.jpeg',\n",
              " 'unriped tomato_89.jpeg',\n",
              " 'unriped tomato_57.jpeg',\n",
              " 'Riped tomato_154.jpeg',\n",
              " 'unriped tomato_132.jpeg',\n",
              " 'unriped tomato_213.jpeg',\n",
              " 'unriped tomato_255.jpeg',\n",
              " 'unriped tomato_237.png',\n",
              " 'Riped tomato_110.jpeg',\n",
              " 'Riped tomato_77.jpeg',\n",
              " 'Riped tomato_39.jpeg',\n",
              " 'Riped tomato_16.jpeg',\n",
              " 'Riped tomato_89.png',\n",
              " 'unriped tomato_276.jpeg',\n",
              " 'unriped tomato_220.jpeg',\n",
              " 'Riped tomato_252.jpeg',\n",
              " 'Riped tomato_69.jpeg',\n",
              " 'Riped tomato_248.jpeg',\n",
              " 'Riped tomato_147.jpeg',\n",
              " 'unriped tomato_285.jpeg',\n",
              " 'Riped tomato_25.jpeg',\n",
              " 'Riped tomato_30.jpeg',\n",
              " 'Riped tomato_277.jpeg',\n",
              " 'Riped tomato_177.jpeg',\n",
              " 'unriped tomato_6.jpeg',\n",
              " 'unriped tomato_14.jpeg',\n",
              " 'Riped tomato_50.jpeg',\n",
              " 'Riped tomato_35.jpeg',\n",
              " 'unriped tomato_30.jpeg',\n",
              " 'Riped tomato_61.jpeg',\n",
              " 'unriped tomato_34.jpeg',\n",
              " 'unriped tomato_107.jpeg',\n",
              " 'unriped tomato_79.jpeg',\n",
              " 'unriped tomato_210.jpeg',\n",
              " 'unriped tomato_91.jpeg',\n",
              " 'unriped tomato_67.jpeg',\n",
              " 'unriped tomato_4.jpeg',\n",
              " 'Riped tomato_143.jpeg',\n",
              " 'unriped tomato_68.jpeg',\n",
              " 'Riped tomato_107.jpeg',\n",
              " 'unriped tomato_74.jpeg',\n",
              " 'unriped tomato_26.jpeg',\n",
              " 'unriped tomato_282.jpeg',\n",
              " 'Riped tomato_45.jpeg',\n",
              " 'unriped tomato_222.jpeg',\n",
              " 'unriped tomato_253.jpeg',\n",
              " 'Riped tomato_33.jpeg',\n",
              " 'Riped tomato_207.jpeg',\n",
              " 'Riped tomato_27.jpeg',\n",
              " 'unriped tomato_196.jpeg',\n",
              " 'Riped tomato_183.jpeg',\n",
              " 'unriped tomato_36.jpeg',\n",
              " 'unriped tomato_294.jpeg',\n",
              " 'unriped tomato_214.png',\n",
              " 'unriped tomato_42.jpeg',\n",
              " 'unriped tomato_104.jpeg',\n",
              " 'Riped tomato_65.jpeg',\n",
              " 'Riped tomato_99.jpeg',\n",
              " 'unriped tomato_38.jpeg',\n",
              " 'Riped tomato_249.jpeg',\n",
              " 'unriped tomato_50.png',\n",
              " 'Riped tomato_13.jpeg',\n",
              " 'unriped tomato_193.jpeg',\n",
              " 'unriped tomato_265.jpeg',\n",
              " 'unriped tomato_228.jpeg',\n",
              " 'unriped tomato_138.jpeg',\n",
              " 'unriped tomato_18.jpeg',\n",
              " 'Riped tomato_56.jpeg',\n",
              " 'unriped tomato_203.jpeg',\n",
              " 'Riped tomato_127.jpeg',\n",
              " 'unriped tomato_117.jpeg',\n",
              " 'Riped tomato_192.jpeg',\n",
              " 'unriped tomato_48.jpeg',\n",
              " 'Riped tomato_21.jpeg',\n",
              " 'Riped tomato_242.jpeg',\n",
              " 'unriped tomato_55.jpeg',\n",
              " 'unriped tomato_235.jpeg',\n",
              " 'unriped tomato_86.jpeg',\n",
              " 'unriped tomato_103.jpeg',\n",
              " 'Riped tomato_85.jpeg',\n",
              " 'Riped tomato_131.jpeg',\n",
              " 'Riped tomato_67.jpeg',\n",
              " 'Riped tomato_26.jpeg',\n",
              " 'Riped tomato_93.jpeg',\n",
              " 'unriped tomato_46.png',\n",
              " 'Riped tomato_114.jpeg',\n",
              " 'Riped tomato_37.jpeg',\n",
              " 'Riped tomato_83.jpeg',\n",
              " 'unriped tomato_10.jpeg',\n",
              " 'Riped tomato_167.jpeg',\n",
              " 'unriped tomato_88.jpeg',\n",
              " 'unriped tomato_204.jpeg',\n",
              " 'unriped tomato_80.jpeg',\n",
              " 'Riped tomato_60.jpeg',\n",
              " 'Riped tomato_105.jpeg',\n",
              " 'Riped tomato_79.jpeg',\n",
              " 'unriped tomato_200.jpeg',\n",
              " 'unriped tomato_20.jpeg',\n",
              " 'Riped tomato_185.jpeg',\n",
              " 'unriped tomato_249.jpeg',\n",
              " 'unriped tomato_75.jpeg',\n",
              " 'Riped tomato_92.jpeg',\n",
              " 'unriped tomato_3.jpeg',\n",
              " 'Riped tomato_165.jpeg',\n",
              " 'unriped tomato_41.jpeg',\n",
              " 'Riped tomato_273.jpeg',\n",
              " 'Riped tomato_22.jpeg',\n",
              " 'Riped tomato_129.jpeg',\n",
              " 'unriped tomato_5.jpeg',\n",
              " 'unriped tomato_281.jpeg',\n",
              " 'Riped tomato_9.jpeg',\n",
              " 'unriped tomato_232.jpeg',\n",
              " 'Riped tomato_48.jpeg',\n",
              " 'unriped tomato_209.jpeg',\n",
              " 'Riped tomato_8.jpeg',\n",
              " 'Riped tomato_20.jpeg',\n",
              " 'unriped tomato_71.jpeg',\n",
              " 'unriped tomato_8.jpeg',\n",
              " 'Riped tomato_200.jpeg',\n",
              " 'unriped tomato_256.jpeg',\n",
              " 'unriped tomato_260.jpeg',\n",
              " 'unriped tomato_271.jpeg',\n",
              " 'unriped tomato_29.png',\n",
              " 'Riped tomato_91.jpeg',\n",
              " 'Riped tomato_14.jpeg',\n",
              " 'unriped tomato_90.jpeg',\n",
              " 'unriped tomato_142.jpeg',\n",
              " 'Riped tomato_43.jpeg',\n",
              " 'unriped tomato_54.jpeg',\n",
              " 'Riped tomato_278.jpeg',\n",
              " 'Riped tomato_237.jpeg',\n",
              " 'Riped tomato_101.jpeg',\n",
              " 'Riped tomato_38.jpeg',\n",
              " 'Riped tomato_34.jpeg',\n",
              " 'unriped tomato_63.jpeg',\n",
              " 'unriped tomato_163.jpeg',\n",
              " 'unriped tomato_12.jpeg',\n",
              " 'Riped tomato_171.jpeg',\n",
              " 'Riped tomato_57.jpeg',\n",
              " 'unriped tomato_266.jpeg',\n",
              " 'Riped tomato_68.jpeg',\n",
              " 'unriped tomato_179.jpeg',\n",
              " 'Riped tomato_160.jpeg',\n",
              " 'unriped tomato_292.png',\n",
              " 'unriped tomato_289.jpeg',\n",
              " 'unriped tomato_250.jpeg',\n",
              " 'Riped tomato_96.jpeg',\n",
              " 'Riped tomato_286.jpeg',\n",
              " 'Riped tomato_106.jpeg',\n",
              " 'Riped tomato_12.jpeg',\n",
              " 'Riped tomato_153.jpeg',\n",
              " 'Riped tomato_121.jpeg',\n",
              " 'Riped tomato_126.jpeg',\n",
              " 'unriped tomato_65.jpeg',\n",
              " 'Riped tomato_24.jpeg',\n",
              " 'Riped tomato_253.jpeg',\n",
              " 'Riped tomato_166.jpeg',\n",
              " 'Riped tomato_161.jpeg',\n",
              " 'Riped tomato_178.jpeg',\n",
              " 'Riped tomato_104.jpeg',\n",
              " 'unriped tomato_9.jpeg',\n",
              " 'Riped tomato_180.jpeg',\n",
              " 'unriped tomato_99.jpeg',\n",
              " 'unriped tomato_95.jpeg',\n",
              " 'Riped tomato_18.png',\n",
              " 'unriped tomato_258.jpeg',\n",
              " 'Riped tomato_272.jpeg',\n",
              " 'unriped tomato_93.jpeg',\n",
              " 'unriped tomato_125.jpeg',\n",
              " 'unriped tomato_129.jpeg',\n",
              " 'unriped tomato_17.jpeg']"
            ]
          },
          "metadata": {},
          "execution_count": 4
        }
      ]
    },
    {
      "cell_type": "markdown",
      "source": [
        "Karena dataset yang diunduh tidak dipisahkan secara direktori, kita akan membuat *dataframe* untuk nantinya dipisahkan antara *dataset train*, *val*, dan *test* secara manual. Di *dataframe* ini kita akan mengambil informasi-informasi berikut:\n",
        "\n",
        "* Alamat lengkap gambar yang akan diidentifikasi,\n",
        "\n",
        "* Ukuran gambar yang diidentifikasi,\n",
        "\n",
        "* Label dari masing-masing gambar."
      ],
      "metadata": {
        "id": "npolsAXpzLzn"
      }
    },
    {
      "cell_type": "code",
      "source": [
        "# Mendefinisikan path utama dari gambar yang akan diidentifikasi\n",
        "\n",
        "main_path = \"/content/images/Riped and Unriped tomato Dataset/Images\"\n",
        "\n",
        "# Membuat dataframe untuk daftar gambar yang diunduh\n",
        "\n",
        "imgpath = []\n",
        "label = []\n",
        "imgh = []\n",
        "imgw = []\n",
        "imgr = []\n",
        "\n",
        "for i in imglist:\n",
        "  imgpaths = os.path.join(main_path, i)\n",
        "  if \"Riped\" in i:\n",
        "    labels = \"Ripe\"\n",
        "  else:\n",
        "    labels = \"Unripe\"\n",
        "  imgpath.append(imgpaths)\n",
        "  label.append(labels)\n",
        "\n",
        "for i in imglist:\n",
        "  imgpaths = os.path.join(main_path, i)\n",
        "  try:\n",
        "    img = cv2.imread(imgpaths)\n",
        "    h = img.shape[0]\n",
        "    w = img.shape[1]\n",
        "    ratio = h/w\n",
        "    imgh.append(h)\n",
        "    imgw.append(w)\n",
        "    imgr.append(ratio)\n",
        "  except:\n",
        "    pass\n",
        "\n",
        "imgseries = pd.Series(imgpath, name = \"ImagePath\")\n",
        "imgheight = pd.Series(imgh, name = \"Height\")\n",
        "imgwidth = pd.Series(imgw, name = \"Width\")\n",
        "imgratio = pd.Series(imgr, name = \"ImageRatio\")\n",
        "labelseries = pd.Series(label, name = \"Label\")\n",
        "\n",
        "\n",
        "df = pd.concat([imgseries, imgheight, imgwidth, imgratio, labelseries], axis = 1)\n",
        "\n",
        "df"
      ],
      "metadata": {
        "id": "6xt2KhPDa90h",
        "colab": {
          "base_uri": "https://localhost:8080/",
          "height": 424
        },
        "outputId": "ce305470-dd24-4ac3-eee3-8f78562e779f"
      },
      "execution_count": 5,
      "outputs": [
        {
          "output_type": "execute_result",
          "data": {
            "text/plain": [
              "                                             ImagePath  Height  Width  \\\n",
              "0    /content/images/Riped and Unriped tomato Datas...     998   1200   \n",
              "1    /content/images/Riped and Unriped tomato Datas...     448    800   \n",
              "2    /content/images/Riped and Unriped tomato Datas...     275    400   \n",
              "3    /content/images/Riped and Unriped tomato Datas...     555    740   \n",
              "4    /content/images/Riped and Unriped tomato Datas...    1536   2048   \n",
              "..                                                 ...     ...    ...   \n",
              "283  /content/images/Riped and Unriped tomato Datas...     350    700   \n",
              "284  /content/images/Riped and Unriped tomato Datas...    1800   3200   \n",
              "285  /content/images/Riped and Unriped tomato Datas...    1080   1000   \n",
              "286  /content/images/Riped and Unriped tomato Datas...     280    329   \n",
              "287  /content/images/Riped and Unriped tomato Datas...     257    311   \n",
              "\n",
              "     ImageRatio   Label  \n",
              "0      0.831667    Ripe  \n",
              "1      0.560000  Unripe  \n",
              "2      0.687500    Ripe  \n",
              "3      0.750000    Ripe  \n",
              "4      0.750000    Ripe  \n",
              "..          ...     ...  \n",
              "283    0.500000    Ripe  \n",
              "284    0.562500  Unripe  \n",
              "285    1.080000  Unripe  \n",
              "286    0.851064  Unripe  \n",
              "287    0.826367  Unripe  \n",
              "\n",
              "[288 rows x 5 columns]"
            ],
            "text/html": [
              "\n",
              "  <div id=\"df-7fe1047d-2203-4525-96e0-fcf41630621c\">\n",
              "    <div class=\"colab-df-container\">\n",
              "      <div>\n",
              "<style scoped>\n",
              "    .dataframe tbody tr th:only-of-type {\n",
              "        vertical-align: middle;\n",
              "    }\n",
              "\n",
              "    .dataframe tbody tr th {\n",
              "        vertical-align: top;\n",
              "    }\n",
              "\n",
              "    .dataframe thead th {\n",
              "        text-align: right;\n",
              "    }\n",
              "</style>\n",
              "<table border=\"1\" class=\"dataframe\">\n",
              "  <thead>\n",
              "    <tr style=\"text-align: right;\">\n",
              "      <th></th>\n",
              "      <th>ImagePath</th>\n",
              "      <th>Height</th>\n",
              "      <th>Width</th>\n",
              "      <th>ImageRatio</th>\n",
              "      <th>Label</th>\n",
              "    </tr>\n",
              "  </thead>\n",
              "  <tbody>\n",
              "    <tr>\n",
              "      <th>0</th>\n",
              "      <td>/content/images/Riped and Unriped tomato Datas...</td>\n",
              "      <td>998</td>\n",
              "      <td>1200</td>\n",
              "      <td>0.831667</td>\n",
              "      <td>Ripe</td>\n",
              "    </tr>\n",
              "    <tr>\n",
              "      <th>1</th>\n",
              "      <td>/content/images/Riped and Unriped tomato Datas...</td>\n",
              "      <td>448</td>\n",
              "      <td>800</td>\n",
              "      <td>0.560000</td>\n",
              "      <td>Unripe</td>\n",
              "    </tr>\n",
              "    <tr>\n",
              "      <th>2</th>\n",
              "      <td>/content/images/Riped and Unriped tomato Datas...</td>\n",
              "      <td>275</td>\n",
              "      <td>400</td>\n",
              "      <td>0.687500</td>\n",
              "      <td>Ripe</td>\n",
              "    </tr>\n",
              "    <tr>\n",
              "      <th>3</th>\n",
              "      <td>/content/images/Riped and Unriped tomato Datas...</td>\n",
              "      <td>555</td>\n",
              "      <td>740</td>\n",
              "      <td>0.750000</td>\n",
              "      <td>Ripe</td>\n",
              "    </tr>\n",
              "    <tr>\n",
              "      <th>4</th>\n",
              "      <td>/content/images/Riped and Unriped tomato Datas...</td>\n",
              "      <td>1536</td>\n",
              "      <td>2048</td>\n",
              "      <td>0.750000</td>\n",
              "      <td>Ripe</td>\n",
              "    </tr>\n",
              "    <tr>\n",
              "      <th>...</th>\n",
              "      <td>...</td>\n",
              "      <td>...</td>\n",
              "      <td>...</td>\n",
              "      <td>...</td>\n",
              "      <td>...</td>\n",
              "    </tr>\n",
              "    <tr>\n",
              "      <th>283</th>\n",
              "      <td>/content/images/Riped and Unriped tomato Datas...</td>\n",
              "      <td>350</td>\n",
              "      <td>700</td>\n",
              "      <td>0.500000</td>\n",
              "      <td>Ripe</td>\n",
              "    </tr>\n",
              "    <tr>\n",
              "      <th>284</th>\n",
              "      <td>/content/images/Riped and Unriped tomato Datas...</td>\n",
              "      <td>1800</td>\n",
              "      <td>3200</td>\n",
              "      <td>0.562500</td>\n",
              "      <td>Unripe</td>\n",
              "    </tr>\n",
              "    <tr>\n",
              "      <th>285</th>\n",
              "      <td>/content/images/Riped and Unriped tomato Datas...</td>\n",
              "      <td>1080</td>\n",
              "      <td>1000</td>\n",
              "      <td>1.080000</td>\n",
              "      <td>Unripe</td>\n",
              "    </tr>\n",
              "    <tr>\n",
              "      <th>286</th>\n",
              "      <td>/content/images/Riped and Unriped tomato Datas...</td>\n",
              "      <td>280</td>\n",
              "      <td>329</td>\n",
              "      <td>0.851064</td>\n",
              "      <td>Unripe</td>\n",
              "    </tr>\n",
              "    <tr>\n",
              "      <th>287</th>\n",
              "      <td>/content/images/Riped and Unriped tomato Datas...</td>\n",
              "      <td>257</td>\n",
              "      <td>311</td>\n",
              "      <td>0.826367</td>\n",
              "      <td>Unripe</td>\n",
              "    </tr>\n",
              "  </tbody>\n",
              "</table>\n",
              "<p>288 rows × 5 columns</p>\n",
              "</div>\n",
              "      <button class=\"colab-df-convert\" onclick=\"convertToInteractive('df-7fe1047d-2203-4525-96e0-fcf41630621c')\"\n",
              "              title=\"Convert this dataframe to an interactive table.\"\n",
              "              style=\"display:none;\">\n",
              "        \n",
              "  <svg xmlns=\"http://www.w3.org/2000/svg\" height=\"24px\"viewBox=\"0 0 24 24\"\n",
              "       width=\"24px\">\n",
              "    <path d=\"M0 0h24v24H0V0z\" fill=\"none\"/>\n",
              "    <path d=\"M18.56 5.44l.94 2.06.94-2.06 2.06-.94-2.06-.94-.94-2.06-.94 2.06-2.06.94zm-11 1L8.5 8.5l.94-2.06 2.06-.94-2.06-.94L8.5 2.5l-.94 2.06-2.06.94zm10 10l.94 2.06.94-2.06 2.06-.94-2.06-.94-.94-2.06-.94 2.06-2.06.94z\"/><path d=\"M17.41 7.96l-1.37-1.37c-.4-.4-.92-.59-1.43-.59-.52 0-1.04.2-1.43.59L10.3 9.45l-7.72 7.72c-.78.78-.78 2.05 0 2.83L4 21.41c.39.39.9.59 1.41.59.51 0 1.02-.2 1.41-.59l7.78-7.78 2.81-2.81c.8-.78.8-2.07 0-2.86zM5.41 20L4 18.59l7.72-7.72 1.47 1.35L5.41 20z\"/>\n",
              "  </svg>\n",
              "      </button>\n",
              "      \n",
              "  <style>\n",
              "    .colab-df-container {\n",
              "      display:flex;\n",
              "      flex-wrap:wrap;\n",
              "      gap: 12px;\n",
              "    }\n",
              "\n",
              "    .colab-df-convert {\n",
              "      background-color: #E8F0FE;\n",
              "      border: none;\n",
              "      border-radius: 50%;\n",
              "      cursor: pointer;\n",
              "      display: none;\n",
              "      fill: #1967D2;\n",
              "      height: 32px;\n",
              "      padding: 0 0 0 0;\n",
              "      width: 32px;\n",
              "    }\n",
              "\n",
              "    .colab-df-convert:hover {\n",
              "      background-color: #E2EBFA;\n",
              "      box-shadow: 0px 1px 2px rgba(60, 64, 67, 0.3), 0px 1px 3px 1px rgba(60, 64, 67, 0.15);\n",
              "      fill: #174EA6;\n",
              "    }\n",
              "\n",
              "    [theme=dark] .colab-df-convert {\n",
              "      background-color: #3B4455;\n",
              "      fill: #D2E3FC;\n",
              "    }\n",
              "\n",
              "    [theme=dark] .colab-df-convert:hover {\n",
              "      background-color: #434B5C;\n",
              "      box-shadow: 0px 1px 3px 1px rgba(0, 0, 0, 0.15);\n",
              "      filter: drop-shadow(0px 1px 2px rgba(0, 0, 0, 0.3));\n",
              "      fill: #FFFFFF;\n",
              "    }\n",
              "  </style>\n",
              "\n",
              "      <script>\n",
              "        const buttonEl =\n",
              "          document.querySelector('#df-7fe1047d-2203-4525-96e0-fcf41630621c button.colab-df-convert');\n",
              "        buttonEl.style.display =\n",
              "          google.colab.kernel.accessAllowed ? 'block' : 'none';\n",
              "\n",
              "        async function convertToInteractive(key) {\n",
              "          const element = document.querySelector('#df-7fe1047d-2203-4525-96e0-fcf41630621c');\n",
              "          const dataTable =\n",
              "            await google.colab.kernel.invokeFunction('convertToInteractive',\n",
              "                                                     [key], {});\n",
              "          if (!dataTable) return;\n",
              "\n",
              "          const docLinkHtml = 'Like what you see? Visit the ' +\n",
              "            '<a target=\"_blank\" href=https://colab.research.google.com/notebooks/data_table.ipynb>data table notebook</a>'\n",
              "            + ' to learn more about interactive tables.';\n",
              "          element.innerHTML = '';\n",
              "          dataTable['output_type'] = 'display_data';\n",
              "          await google.colab.output.renderOutput(dataTable, element);\n",
              "          const docLink = document.createElement('div');\n",
              "          docLink.innerHTML = docLinkHtml;\n",
              "          element.appendChild(docLink);\n",
              "        }\n",
              "      </script>\n",
              "    </div>\n",
              "  </div>\n",
              "  "
            ]
          },
          "metadata": {},
          "execution_count": 5
        }
      ]
    },
    {
      "cell_type": "markdown",
      "source": [
        "### *Exploratory Data Analysis*"
      ],
      "metadata": {
        "id": "86L5YZx60Pwu"
      }
    },
    {
      "cell_type": "markdown",
      "source": [
        "Pertama-tama kita akan melihat terlebih dahulu bagaimana data-data yang kita miliki di dalam *dataset* yang sudah dimuat dengan perintah `.info()`:"
      ],
      "metadata": {
        "id": "8mkXxqFW0Rue"
      }
    },
    {
      "cell_type": "code",
      "source": [
        "# Melihat informasi pada dataframe yang dibuat\n",
        "\n",
        "df.info()"
      ],
      "metadata": {
        "id": "9_AZ0F1CcLzV",
        "colab": {
          "base_uri": "https://localhost:8080/"
        },
        "outputId": "603658d8-1bb6-4164-dca2-b08e9bd086c6"
      },
      "execution_count": 6,
      "outputs": [
        {
          "output_type": "stream",
          "name": "stdout",
          "text": [
            "<class 'pandas.core.frame.DataFrame'>\n",
            "RangeIndex: 288 entries, 0 to 287\n",
            "Data columns (total 5 columns):\n",
            " #   Column      Non-Null Count  Dtype  \n",
            "---  ------      --------------  -----  \n",
            " 0   ImagePath   288 non-null    object \n",
            " 1   Height      288 non-null    int64  \n",
            " 2   Width       288 non-null    int64  \n",
            " 3   ImageRatio  288 non-null    float64\n",
            " 4   Label       288 non-null    object \n",
            "dtypes: float64(1), int64(2), object(2)\n",
            "memory usage: 11.4+ KB\n"
          ]
        }
      ]
    },
    {
      "cell_type": "markdown",
      "source": [
        "Dari perintah di atas, kita dapat mengetahui bahwa *dataset* yang akan kita gunakan mengandung 288 buah data yang tersusun dari 5 kolom yang berbeda dan berisikan informasi alamat gambar yang akan diidentifikasi, panjang dan lebar gambar, rasio dari gambar, dan penanda apakah tomat pada gambar sudah matang atau belum.\n",
        "\n",
        "Kemudian kita akan lihat bagaimana deskripsi matematisnya."
      ],
      "metadata": {
        "id": "nsVYct5l0VH2"
      }
    },
    {
      "cell_type": "code",
      "source": [
        "# Melihat deskripsi matematis pada dataframe yang dibuat\n",
        "\n",
        "df.describe().T"
      ],
      "metadata": {
        "id": "jOTXSwFhn_mY",
        "colab": {
          "base_uri": "https://localhost:8080/",
          "height": 143
        },
        "outputId": "2a47f8a8-fe3c-40e5-e400-c0c6c3c5459d"
      },
      "execution_count": 7,
      "outputs": [
        {
          "output_type": "execute_result",
          "data": {
            "text/plain": [
              "            count         mean          std        min         25%       50%  \\\n",
              "Height      288.0   932.253472   796.436656  200.00000  450.000000  720.0000   \n",
              "Width       288.0  1256.076389  1166.501942  250.00000  739.000000  890.0000   \n",
              "ImageRatio  288.0     0.770047     0.239676    0.43808    0.664686    0.6875   \n",
              "\n",
              "                    75%          max  \n",
              "Height      1085.250000  5200.000000  \n",
              "Width       1300.000000  7792.000000  \n",
              "ImageRatio     0.821015     1.777778  "
            ],
            "text/html": [
              "\n",
              "  <div id=\"df-3f4c1306-3cf3-40b6-a93d-ecbb376774cc\">\n",
              "    <div class=\"colab-df-container\">\n",
              "      <div>\n",
              "<style scoped>\n",
              "    .dataframe tbody tr th:only-of-type {\n",
              "        vertical-align: middle;\n",
              "    }\n",
              "\n",
              "    .dataframe tbody tr th {\n",
              "        vertical-align: top;\n",
              "    }\n",
              "\n",
              "    .dataframe thead th {\n",
              "        text-align: right;\n",
              "    }\n",
              "</style>\n",
              "<table border=\"1\" class=\"dataframe\">\n",
              "  <thead>\n",
              "    <tr style=\"text-align: right;\">\n",
              "      <th></th>\n",
              "      <th>count</th>\n",
              "      <th>mean</th>\n",
              "      <th>std</th>\n",
              "      <th>min</th>\n",
              "      <th>25%</th>\n",
              "      <th>50%</th>\n",
              "      <th>75%</th>\n",
              "      <th>max</th>\n",
              "    </tr>\n",
              "  </thead>\n",
              "  <tbody>\n",
              "    <tr>\n",
              "      <th>Height</th>\n",
              "      <td>288.0</td>\n",
              "      <td>932.253472</td>\n",
              "      <td>796.436656</td>\n",
              "      <td>200.00000</td>\n",
              "      <td>450.000000</td>\n",
              "      <td>720.0000</td>\n",
              "      <td>1085.250000</td>\n",
              "      <td>5200.000000</td>\n",
              "    </tr>\n",
              "    <tr>\n",
              "      <th>Width</th>\n",
              "      <td>288.0</td>\n",
              "      <td>1256.076389</td>\n",
              "      <td>1166.501942</td>\n",
              "      <td>250.00000</td>\n",
              "      <td>739.000000</td>\n",
              "      <td>890.0000</td>\n",
              "      <td>1300.000000</td>\n",
              "      <td>7792.000000</td>\n",
              "    </tr>\n",
              "    <tr>\n",
              "      <th>ImageRatio</th>\n",
              "      <td>288.0</td>\n",
              "      <td>0.770047</td>\n",
              "      <td>0.239676</td>\n",
              "      <td>0.43808</td>\n",
              "      <td>0.664686</td>\n",
              "      <td>0.6875</td>\n",
              "      <td>0.821015</td>\n",
              "      <td>1.777778</td>\n",
              "    </tr>\n",
              "  </tbody>\n",
              "</table>\n",
              "</div>\n",
              "      <button class=\"colab-df-convert\" onclick=\"convertToInteractive('df-3f4c1306-3cf3-40b6-a93d-ecbb376774cc')\"\n",
              "              title=\"Convert this dataframe to an interactive table.\"\n",
              "              style=\"display:none;\">\n",
              "        \n",
              "  <svg xmlns=\"http://www.w3.org/2000/svg\" height=\"24px\"viewBox=\"0 0 24 24\"\n",
              "       width=\"24px\">\n",
              "    <path d=\"M0 0h24v24H0V0z\" fill=\"none\"/>\n",
              "    <path d=\"M18.56 5.44l.94 2.06.94-2.06 2.06-.94-2.06-.94-.94-2.06-.94 2.06-2.06.94zm-11 1L8.5 8.5l.94-2.06 2.06-.94-2.06-.94L8.5 2.5l-.94 2.06-2.06.94zm10 10l.94 2.06.94-2.06 2.06-.94-2.06-.94-.94-2.06-.94 2.06-2.06.94z\"/><path d=\"M17.41 7.96l-1.37-1.37c-.4-.4-.92-.59-1.43-.59-.52 0-1.04.2-1.43.59L10.3 9.45l-7.72 7.72c-.78.78-.78 2.05 0 2.83L4 21.41c.39.39.9.59 1.41.59.51 0 1.02-.2 1.41-.59l7.78-7.78 2.81-2.81c.8-.78.8-2.07 0-2.86zM5.41 20L4 18.59l7.72-7.72 1.47 1.35L5.41 20z\"/>\n",
              "  </svg>\n",
              "      </button>\n",
              "      \n",
              "  <style>\n",
              "    .colab-df-container {\n",
              "      display:flex;\n",
              "      flex-wrap:wrap;\n",
              "      gap: 12px;\n",
              "    }\n",
              "\n",
              "    .colab-df-convert {\n",
              "      background-color: #E8F0FE;\n",
              "      border: none;\n",
              "      border-radius: 50%;\n",
              "      cursor: pointer;\n",
              "      display: none;\n",
              "      fill: #1967D2;\n",
              "      height: 32px;\n",
              "      padding: 0 0 0 0;\n",
              "      width: 32px;\n",
              "    }\n",
              "\n",
              "    .colab-df-convert:hover {\n",
              "      background-color: #E2EBFA;\n",
              "      box-shadow: 0px 1px 2px rgba(60, 64, 67, 0.3), 0px 1px 3px 1px rgba(60, 64, 67, 0.15);\n",
              "      fill: #174EA6;\n",
              "    }\n",
              "\n",
              "    [theme=dark] .colab-df-convert {\n",
              "      background-color: #3B4455;\n",
              "      fill: #D2E3FC;\n",
              "    }\n",
              "\n",
              "    [theme=dark] .colab-df-convert:hover {\n",
              "      background-color: #434B5C;\n",
              "      box-shadow: 0px 1px 3px 1px rgba(0, 0, 0, 0.15);\n",
              "      filter: drop-shadow(0px 1px 2px rgba(0, 0, 0, 0.3));\n",
              "      fill: #FFFFFF;\n",
              "    }\n",
              "  </style>\n",
              "\n",
              "      <script>\n",
              "        const buttonEl =\n",
              "          document.querySelector('#df-3f4c1306-3cf3-40b6-a93d-ecbb376774cc button.colab-df-convert');\n",
              "        buttonEl.style.display =\n",
              "          google.colab.kernel.accessAllowed ? 'block' : 'none';\n",
              "\n",
              "        async function convertToInteractive(key) {\n",
              "          const element = document.querySelector('#df-3f4c1306-3cf3-40b6-a93d-ecbb376774cc');\n",
              "          const dataTable =\n",
              "            await google.colab.kernel.invokeFunction('convertToInteractive',\n",
              "                                                     [key], {});\n",
              "          if (!dataTable) return;\n",
              "\n",
              "          const docLinkHtml = 'Like what you see? Visit the ' +\n",
              "            '<a target=\"_blank\" href=https://colab.research.google.com/notebooks/data_table.ipynb>data table notebook</a>'\n",
              "            + ' to learn more about interactive tables.';\n",
              "          element.innerHTML = '';\n",
              "          dataTable['output_type'] = 'display_data';\n",
              "          await google.colab.output.renderOutput(dataTable, element);\n",
              "          const docLink = document.createElement('div');\n",
              "          docLink.innerHTML = docLinkHtml;\n",
              "          element.appendChild(docLink);\n",
              "        }\n",
              "      </script>\n",
              "    </div>\n",
              "  </div>\n",
              "  "
            ]
          },
          "metadata": {},
          "execution_count": 7
        }
      ]
    },
    {
      "cell_type": "markdown",
      "source": [
        "Dari perintah di atas kita dapat mengetahui beberapa hal:\n",
        "\n",
        "* Panjang gambar berada pada rentang 200 hingga 5200 pixel,\n",
        "\n",
        "* Lebar gambar berada pada rentang 250 hingga 7792 pixel,\n",
        "\n",
        "* Rasio gambar berada pada rentang 0.4381 hingga 1.7778.\n",
        "\n",
        "Untuk mengetahui lebih lanjut gambar mana yang memiliki nilai panjang dan lebar yang paling kecil dan besar, kita akan melakukan beberapa *query*. Sebelum itu kita akan buat salinan dari *dataframe* yang kita miliki untuk kita urutkan agar indeks gambar dari *query* yang akan kita jalankan konsisten."
      ],
      "metadata": {
        "id": "ghrHadGN5QnV"
      }
    },
    {
      "cell_type": "code",
      "source": [
        "dfc = df.copy()\n",
        "dfc = dfc.sort_values(by = \"ImagePath\", ascending = True)\n",
        "dfc.reset_index(drop = True, inplace = True)\n",
        "\n",
        "dfc"
      ],
      "metadata": {
        "id": "UeKQrkui7rCV",
        "colab": {
          "base_uri": "https://localhost:8080/",
          "height": 424
        },
        "outputId": "94e0462e-59e6-48bb-a111-7fd12d59d19e"
      },
      "execution_count": 8,
      "outputs": [
        {
          "output_type": "execute_result",
          "data": {
            "text/plain": [
              "                                             ImagePath  Height  Width  \\\n",
              "0    /content/images/Riped and Unriped tomato Datas...     256    350   \n",
              "1    /content/images/Riped and Unriped tomato Datas...    1536   2048   \n",
              "2    /content/images/Riped and Unriped tomato Datas...    3534   5294   \n",
              "3    /content/images/Riped and Unriped tomato Datas...     800   1200   \n",
              "4    /content/images/Riped and Unriped tomato Datas...    1124   2184   \n",
              "..                                                 ...     ...    ...   \n",
              "283  /content/images/Riped and Unriped tomato Datas...     998   1500   \n",
              "284  /content/images/Riped and Unriped tomato Datas...    1030   1600   \n",
              "285  /content/images/Riped and Unriped tomato Datas...     866   1300   \n",
              "286  /content/images/Riped and Unriped tomato Datas...    1390   1110   \n",
              "287  /content/images/Riped and Unriped tomato Datas...     469    800   \n",
              "\n",
              "     ImageRatio   Label  \n",
              "0      0.731429    Ripe  \n",
              "1      0.750000    Ripe  \n",
              "2      0.667548    Ripe  \n",
              "3      0.666667    Ripe  \n",
              "4      0.514652    Ripe  \n",
              "..          ...     ...  \n",
              "283    0.665333  Unripe  \n",
              "284    0.643750  Unripe  \n",
              "285    0.666154  Unripe  \n",
              "286    1.252252  Unripe  \n",
              "287    0.586250  Unripe  \n",
              "\n",
              "[288 rows x 5 columns]"
            ],
            "text/html": [
              "\n",
              "  <div id=\"df-19d033f0-1f5a-4218-ac5c-f38b94d40ed9\">\n",
              "    <div class=\"colab-df-container\">\n",
              "      <div>\n",
              "<style scoped>\n",
              "    .dataframe tbody tr th:only-of-type {\n",
              "        vertical-align: middle;\n",
              "    }\n",
              "\n",
              "    .dataframe tbody tr th {\n",
              "        vertical-align: top;\n",
              "    }\n",
              "\n",
              "    .dataframe thead th {\n",
              "        text-align: right;\n",
              "    }\n",
              "</style>\n",
              "<table border=\"1\" class=\"dataframe\">\n",
              "  <thead>\n",
              "    <tr style=\"text-align: right;\">\n",
              "      <th></th>\n",
              "      <th>ImagePath</th>\n",
              "      <th>Height</th>\n",
              "      <th>Width</th>\n",
              "      <th>ImageRatio</th>\n",
              "      <th>Label</th>\n",
              "    </tr>\n",
              "  </thead>\n",
              "  <tbody>\n",
              "    <tr>\n",
              "      <th>0</th>\n",
              "      <td>/content/images/Riped and Unriped tomato Datas...</td>\n",
              "      <td>256</td>\n",
              "      <td>350</td>\n",
              "      <td>0.731429</td>\n",
              "      <td>Ripe</td>\n",
              "    </tr>\n",
              "    <tr>\n",
              "      <th>1</th>\n",
              "      <td>/content/images/Riped and Unriped tomato Datas...</td>\n",
              "      <td>1536</td>\n",
              "      <td>2048</td>\n",
              "      <td>0.750000</td>\n",
              "      <td>Ripe</td>\n",
              "    </tr>\n",
              "    <tr>\n",
              "      <th>2</th>\n",
              "      <td>/content/images/Riped and Unriped tomato Datas...</td>\n",
              "      <td>3534</td>\n",
              "      <td>5294</td>\n",
              "      <td>0.667548</td>\n",
              "      <td>Ripe</td>\n",
              "    </tr>\n",
              "    <tr>\n",
              "      <th>3</th>\n",
              "      <td>/content/images/Riped and Unriped tomato Datas...</td>\n",
              "      <td>800</td>\n",
              "      <td>1200</td>\n",
              "      <td>0.666667</td>\n",
              "      <td>Ripe</td>\n",
              "    </tr>\n",
              "    <tr>\n",
              "      <th>4</th>\n",
              "      <td>/content/images/Riped and Unriped tomato Datas...</td>\n",
              "      <td>1124</td>\n",
              "      <td>2184</td>\n",
              "      <td>0.514652</td>\n",
              "      <td>Ripe</td>\n",
              "    </tr>\n",
              "    <tr>\n",
              "      <th>...</th>\n",
              "      <td>...</td>\n",
              "      <td>...</td>\n",
              "      <td>...</td>\n",
              "      <td>...</td>\n",
              "      <td>...</td>\n",
              "    </tr>\n",
              "    <tr>\n",
              "      <th>283</th>\n",
              "      <td>/content/images/Riped and Unriped tomato Datas...</td>\n",
              "      <td>998</td>\n",
              "      <td>1500</td>\n",
              "      <td>0.665333</td>\n",
              "      <td>Unripe</td>\n",
              "    </tr>\n",
              "    <tr>\n",
              "      <th>284</th>\n",
              "      <td>/content/images/Riped and Unriped tomato Datas...</td>\n",
              "      <td>1030</td>\n",
              "      <td>1600</td>\n",
              "      <td>0.643750</td>\n",
              "      <td>Unripe</td>\n",
              "    </tr>\n",
              "    <tr>\n",
              "      <th>285</th>\n",
              "      <td>/content/images/Riped and Unriped tomato Datas...</td>\n",
              "      <td>866</td>\n",
              "      <td>1300</td>\n",
              "      <td>0.666154</td>\n",
              "      <td>Unripe</td>\n",
              "    </tr>\n",
              "    <tr>\n",
              "      <th>286</th>\n",
              "      <td>/content/images/Riped and Unriped tomato Datas...</td>\n",
              "      <td>1390</td>\n",
              "      <td>1110</td>\n",
              "      <td>1.252252</td>\n",
              "      <td>Unripe</td>\n",
              "    </tr>\n",
              "    <tr>\n",
              "      <th>287</th>\n",
              "      <td>/content/images/Riped and Unriped tomato Datas...</td>\n",
              "      <td>469</td>\n",
              "      <td>800</td>\n",
              "      <td>0.586250</td>\n",
              "      <td>Unripe</td>\n",
              "    </tr>\n",
              "  </tbody>\n",
              "</table>\n",
              "<p>288 rows × 5 columns</p>\n",
              "</div>\n",
              "      <button class=\"colab-df-convert\" onclick=\"convertToInteractive('df-19d033f0-1f5a-4218-ac5c-f38b94d40ed9')\"\n",
              "              title=\"Convert this dataframe to an interactive table.\"\n",
              "              style=\"display:none;\">\n",
              "        \n",
              "  <svg xmlns=\"http://www.w3.org/2000/svg\" height=\"24px\"viewBox=\"0 0 24 24\"\n",
              "       width=\"24px\">\n",
              "    <path d=\"M0 0h24v24H0V0z\" fill=\"none\"/>\n",
              "    <path d=\"M18.56 5.44l.94 2.06.94-2.06 2.06-.94-2.06-.94-.94-2.06-.94 2.06-2.06.94zm-11 1L8.5 8.5l.94-2.06 2.06-.94-2.06-.94L8.5 2.5l-.94 2.06-2.06.94zm10 10l.94 2.06.94-2.06 2.06-.94-2.06-.94-.94-2.06-.94 2.06-2.06.94z\"/><path d=\"M17.41 7.96l-1.37-1.37c-.4-.4-.92-.59-1.43-.59-.52 0-1.04.2-1.43.59L10.3 9.45l-7.72 7.72c-.78.78-.78 2.05 0 2.83L4 21.41c.39.39.9.59 1.41.59.51 0 1.02-.2 1.41-.59l7.78-7.78 2.81-2.81c.8-.78.8-2.07 0-2.86zM5.41 20L4 18.59l7.72-7.72 1.47 1.35L5.41 20z\"/>\n",
              "  </svg>\n",
              "      </button>\n",
              "      \n",
              "  <style>\n",
              "    .colab-df-container {\n",
              "      display:flex;\n",
              "      flex-wrap:wrap;\n",
              "      gap: 12px;\n",
              "    }\n",
              "\n",
              "    .colab-df-convert {\n",
              "      background-color: #E8F0FE;\n",
              "      border: none;\n",
              "      border-radius: 50%;\n",
              "      cursor: pointer;\n",
              "      display: none;\n",
              "      fill: #1967D2;\n",
              "      height: 32px;\n",
              "      padding: 0 0 0 0;\n",
              "      width: 32px;\n",
              "    }\n",
              "\n",
              "    .colab-df-convert:hover {\n",
              "      background-color: #E2EBFA;\n",
              "      box-shadow: 0px 1px 2px rgba(60, 64, 67, 0.3), 0px 1px 3px 1px rgba(60, 64, 67, 0.15);\n",
              "      fill: #174EA6;\n",
              "    }\n",
              "\n",
              "    [theme=dark] .colab-df-convert {\n",
              "      background-color: #3B4455;\n",
              "      fill: #D2E3FC;\n",
              "    }\n",
              "\n",
              "    [theme=dark] .colab-df-convert:hover {\n",
              "      background-color: #434B5C;\n",
              "      box-shadow: 0px 1px 3px 1px rgba(0, 0, 0, 0.15);\n",
              "      filter: drop-shadow(0px 1px 2px rgba(0, 0, 0, 0.3));\n",
              "      fill: #FFFFFF;\n",
              "    }\n",
              "  </style>\n",
              "\n",
              "      <script>\n",
              "        const buttonEl =\n",
              "          document.querySelector('#df-19d033f0-1f5a-4218-ac5c-f38b94d40ed9 button.colab-df-convert');\n",
              "        buttonEl.style.display =\n",
              "          google.colab.kernel.accessAllowed ? 'block' : 'none';\n",
              "\n",
              "        async function convertToInteractive(key) {\n",
              "          const element = document.querySelector('#df-19d033f0-1f5a-4218-ac5c-f38b94d40ed9');\n",
              "          const dataTable =\n",
              "            await google.colab.kernel.invokeFunction('convertToInteractive',\n",
              "                                                     [key], {});\n",
              "          if (!dataTable) return;\n",
              "\n",
              "          const docLinkHtml = 'Like what you see? Visit the ' +\n",
              "            '<a target=\"_blank\" href=https://colab.research.google.com/notebooks/data_table.ipynb>data table notebook</a>'\n",
              "            + ' to learn more about interactive tables.';\n",
              "          element.innerHTML = '';\n",
              "          dataTable['output_type'] = 'display_data';\n",
              "          await google.colab.output.renderOutput(dataTable, element);\n",
              "          const docLink = document.createElement('div');\n",
              "          docLink.innerHTML = docLinkHtml;\n",
              "          element.appendChild(docLink);\n",
              "        }\n",
              "      </script>\n",
              "    </div>\n",
              "  </div>\n",
              "  "
            ]
          },
          "metadata": {},
          "execution_count": 8
        }
      ]
    },
    {
      "cell_type": "markdown",
      "source": [
        "Kemudian kita akan lakukan berbagai macam *query* untuk mengidentifikasi *dataset* yang akan kita gunakan. Pertama, kita akan melihat gambar dengan panjang terkecil."
      ],
      "metadata": {
        "id": "iqawdvGOBBp1"
      }
    },
    {
      "cell_type": "code",
      "source": [
        "# Mencari gambar dengan nilai tinggi terkecil berdasarkan deskripsi matematika\n",
        "\n",
        "dfc.query(\"Height == 200\")"
      ],
      "metadata": {
        "id": "NrtvPt5VoaRD",
        "colab": {
          "base_uri": "https://localhost:8080/",
          "height": 112
        },
        "outputId": "93a1bc05-a7b9-4ca5-95f7-73bbcdad2ae5"
      },
      "execution_count": 9,
      "outputs": [
        {
          "output_type": "execute_result",
          "data": {
            "text/plain": [
              "                                             ImagePath  Height  Width  \\\n",
              "13   /content/images/Riped and Unriped tomato Datas...     200    250   \n",
              "108  /content/images/Riped and Unriped tomato Datas...     200    250   \n",
              "\n",
              "     ImageRatio Label  \n",
              "13          0.8  Ripe  \n",
              "108         0.8  Ripe  "
            ],
            "text/html": [
              "\n",
              "  <div id=\"df-9a3a64bd-f9bc-465f-a072-585c82a9684d\">\n",
              "    <div class=\"colab-df-container\">\n",
              "      <div>\n",
              "<style scoped>\n",
              "    .dataframe tbody tr th:only-of-type {\n",
              "        vertical-align: middle;\n",
              "    }\n",
              "\n",
              "    .dataframe tbody tr th {\n",
              "        vertical-align: top;\n",
              "    }\n",
              "\n",
              "    .dataframe thead th {\n",
              "        text-align: right;\n",
              "    }\n",
              "</style>\n",
              "<table border=\"1\" class=\"dataframe\">\n",
              "  <thead>\n",
              "    <tr style=\"text-align: right;\">\n",
              "      <th></th>\n",
              "      <th>ImagePath</th>\n",
              "      <th>Height</th>\n",
              "      <th>Width</th>\n",
              "      <th>ImageRatio</th>\n",
              "      <th>Label</th>\n",
              "    </tr>\n",
              "  </thead>\n",
              "  <tbody>\n",
              "    <tr>\n",
              "      <th>13</th>\n",
              "      <td>/content/images/Riped and Unriped tomato Datas...</td>\n",
              "      <td>200</td>\n",
              "      <td>250</td>\n",
              "      <td>0.8</td>\n",
              "      <td>Ripe</td>\n",
              "    </tr>\n",
              "    <tr>\n",
              "      <th>108</th>\n",
              "      <td>/content/images/Riped and Unriped tomato Datas...</td>\n",
              "      <td>200</td>\n",
              "      <td>250</td>\n",
              "      <td>0.8</td>\n",
              "      <td>Ripe</td>\n",
              "    </tr>\n",
              "  </tbody>\n",
              "</table>\n",
              "</div>\n",
              "      <button class=\"colab-df-convert\" onclick=\"convertToInteractive('df-9a3a64bd-f9bc-465f-a072-585c82a9684d')\"\n",
              "              title=\"Convert this dataframe to an interactive table.\"\n",
              "              style=\"display:none;\">\n",
              "        \n",
              "  <svg xmlns=\"http://www.w3.org/2000/svg\" height=\"24px\"viewBox=\"0 0 24 24\"\n",
              "       width=\"24px\">\n",
              "    <path d=\"M0 0h24v24H0V0z\" fill=\"none\"/>\n",
              "    <path d=\"M18.56 5.44l.94 2.06.94-2.06 2.06-.94-2.06-.94-.94-2.06-.94 2.06-2.06.94zm-11 1L8.5 8.5l.94-2.06 2.06-.94-2.06-.94L8.5 2.5l-.94 2.06-2.06.94zm10 10l.94 2.06.94-2.06 2.06-.94-2.06-.94-.94-2.06-.94 2.06-2.06.94z\"/><path d=\"M17.41 7.96l-1.37-1.37c-.4-.4-.92-.59-1.43-.59-.52 0-1.04.2-1.43.59L10.3 9.45l-7.72 7.72c-.78.78-.78 2.05 0 2.83L4 21.41c.39.39.9.59 1.41.59.51 0 1.02-.2 1.41-.59l7.78-7.78 2.81-2.81c.8-.78.8-2.07 0-2.86zM5.41 20L4 18.59l7.72-7.72 1.47 1.35L5.41 20z\"/>\n",
              "  </svg>\n",
              "      </button>\n",
              "      \n",
              "  <style>\n",
              "    .colab-df-container {\n",
              "      display:flex;\n",
              "      flex-wrap:wrap;\n",
              "      gap: 12px;\n",
              "    }\n",
              "\n",
              "    .colab-df-convert {\n",
              "      background-color: #E8F0FE;\n",
              "      border: none;\n",
              "      border-radius: 50%;\n",
              "      cursor: pointer;\n",
              "      display: none;\n",
              "      fill: #1967D2;\n",
              "      height: 32px;\n",
              "      padding: 0 0 0 0;\n",
              "      width: 32px;\n",
              "    }\n",
              "\n",
              "    .colab-df-convert:hover {\n",
              "      background-color: #E2EBFA;\n",
              "      box-shadow: 0px 1px 2px rgba(60, 64, 67, 0.3), 0px 1px 3px 1px rgba(60, 64, 67, 0.15);\n",
              "      fill: #174EA6;\n",
              "    }\n",
              "\n",
              "    [theme=dark] .colab-df-convert {\n",
              "      background-color: #3B4455;\n",
              "      fill: #D2E3FC;\n",
              "    }\n",
              "\n",
              "    [theme=dark] .colab-df-convert:hover {\n",
              "      background-color: #434B5C;\n",
              "      box-shadow: 0px 1px 3px 1px rgba(0, 0, 0, 0.15);\n",
              "      filter: drop-shadow(0px 1px 2px rgba(0, 0, 0, 0.3));\n",
              "      fill: #FFFFFF;\n",
              "    }\n",
              "  </style>\n",
              "\n",
              "      <script>\n",
              "        const buttonEl =\n",
              "          document.querySelector('#df-9a3a64bd-f9bc-465f-a072-585c82a9684d button.colab-df-convert');\n",
              "        buttonEl.style.display =\n",
              "          google.colab.kernel.accessAllowed ? 'block' : 'none';\n",
              "\n",
              "        async function convertToInteractive(key) {\n",
              "          const element = document.querySelector('#df-9a3a64bd-f9bc-465f-a072-585c82a9684d');\n",
              "          const dataTable =\n",
              "            await google.colab.kernel.invokeFunction('convertToInteractive',\n",
              "                                                     [key], {});\n",
              "          if (!dataTable) return;\n",
              "\n",
              "          const docLinkHtml = 'Like what you see? Visit the ' +\n",
              "            '<a target=\"_blank\" href=https://colab.research.google.com/notebooks/data_table.ipynb>data table notebook</a>'\n",
              "            + ' to learn more about interactive tables.';\n",
              "          element.innerHTML = '';\n",
              "          dataTable['output_type'] = 'display_data';\n",
              "          await google.colab.output.renderOutput(dataTable, element);\n",
              "          const docLink = document.createElement('div');\n",
              "          docLink.innerHTML = docLinkHtml;\n",
              "          element.appendChild(docLink);\n",
              "        }\n",
              "      </script>\n",
              "    </div>\n",
              "  </div>\n",
              "  "
            ]
          },
          "metadata": {},
          "execution_count": 9
        }
      ]
    },
    {
      "cell_type": "markdown",
      "source": [
        "Lalu kita akan lihat gambar dengan panjang terbesar."
      ],
      "metadata": {
        "id": "CBYzNon5550d"
      }
    },
    {
      "cell_type": "code",
      "source": [
        "# Mencari gambar dengan nilai tinggi terbesar berdasarkan deskripsi matematika\n",
        "\n",
        "dfc.query(\"Height == 5200\")"
      ],
      "metadata": {
        "id": "AfQSbRp7o5d-",
        "colab": {
          "base_uri": "https://localhost:8080/",
          "height": 175
        },
        "outputId": "eee1d083-f449-4d46-9b2c-6e9fd5e873c9"
      },
      "execution_count": 10,
      "outputs": [
        {
          "output_type": "execute_result",
          "data": {
            "text/plain": [
              "                                             ImagePath  Height  Width  \\\n",
              "158  /content/images/Riped and Unriped tomato Datas...    5200   7792   \n",
              "187  /content/images/Riped and Unriped tomato Datas...    5200   7792   \n",
              "218  /content/images/Riped and Unriped tomato Datas...    5200   7792   \n",
              "265  /content/images/Riped and Unriped tomato Datas...    5200   7792   \n",
              "\n",
              "     ImageRatio   Label  \n",
              "158    0.667351  Unripe  \n",
              "187    0.667351  Unripe  \n",
              "218    0.667351  Unripe  \n",
              "265    0.667351  Unripe  "
            ],
            "text/html": [
              "\n",
              "  <div id=\"df-5b46ecaf-c819-4cf3-8833-97f16c153637\">\n",
              "    <div class=\"colab-df-container\">\n",
              "      <div>\n",
              "<style scoped>\n",
              "    .dataframe tbody tr th:only-of-type {\n",
              "        vertical-align: middle;\n",
              "    }\n",
              "\n",
              "    .dataframe tbody tr th {\n",
              "        vertical-align: top;\n",
              "    }\n",
              "\n",
              "    .dataframe thead th {\n",
              "        text-align: right;\n",
              "    }\n",
              "</style>\n",
              "<table border=\"1\" class=\"dataframe\">\n",
              "  <thead>\n",
              "    <tr style=\"text-align: right;\">\n",
              "      <th></th>\n",
              "      <th>ImagePath</th>\n",
              "      <th>Height</th>\n",
              "      <th>Width</th>\n",
              "      <th>ImageRatio</th>\n",
              "      <th>Label</th>\n",
              "    </tr>\n",
              "  </thead>\n",
              "  <tbody>\n",
              "    <tr>\n",
              "      <th>158</th>\n",
              "      <td>/content/images/Riped and Unriped tomato Datas...</td>\n",
              "      <td>5200</td>\n",
              "      <td>7792</td>\n",
              "      <td>0.667351</td>\n",
              "      <td>Unripe</td>\n",
              "    </tr>\n",
              "    <tr>\n",
              "      <th>187</th>\n",
              "      <td>/content/images/Riped and Unriped tomato Datas...</td>\n",
              "      <td>5200</td>\n",
              "      <td>7792</td>\n",
              "      <td>0.667351</td>\n",
              "      <td>Unripe</td>\n",
              "    </tr>\n",
              "    <tr>\n",
              "      <th>218</th>\n",
              "      <td>/content/images/Riped and Unriped tomato Datas...</td>\n",
              "      <td>5200</td>\n",
              "      <td>7792</td>\n",
              "      <td>0.667351</td>\n",
              "      <td>Unripe</td>\n",
              "    </tr>\n",
              "    <tr>\n",
              "      <th>265</th>\n",
              "      <td>/content/images/Riped and Unriped tomato Datas...</td>\n",
              "      <td>5200</td>\n",
              "      <td>7792</td>\n",
              "      <td>0.667351</td>\n",
              "      <td>Unripe</td>\n",
              "    </tr>\n",
              "  </tbody>\n",
              "</table>\n",
              "</div>\n",
              "      <button class=\"colab-df-convert\" onclick=\"convertToInteractive('df-5b46ecaf-c819-4cf3-8833-97f16c153637')\"\n",
              "              title=\"Convert this dataframe to an interactive table.\"\n",
              "              style=\"display:none;\">\n",
              "        \n",
              "  <svg xmlns=\"http://www.w3.org/2000/svg\" height=\"24px\"viewBox=\"0 0 24 24\"\n",
              "       width=\"24px\">\n",
              "    <path d=\"M0 0h24v24H0V0z\" fill=\"none\"/>\n",
              "    <path d=\"M18.56 5.44l.94 2.06.94-2.06 2.06-.94-2.06-.94-.94-2.06-.94 2.06-2.06.94zm-11 1L8.5 8.5l.94-2.06 2.06-.94-2.06-.94L8.5 2.5l-.94 2.06-2.06.94zm10 10l.94 2.06.94-2.06 2.06-.94-2.06-.94-.94-2.06-.94 2.06-2.06.94z\"/><path d=\"M17.41 7.96l-1.37-1.37c-.4-.4-.92-.59-1.43-.59-.52 0-1.04.2-1.43.59L10.3 9.45l-7.72 7.72c-.78.78-.78 2.05 0 2.83L4 21.41c.39.39.9.59 1.41.59.51 0 1.02-.2 1.41-.59l7.78-7.78 2.81-2.81c.8-.78.8-2.07 0-2.86zM5.41 20L4 18.59l7.72-7.72 1.47 1.35L5.41 20z\"/>\n",
              "  </svg>\n",
              "      </button>\n",
              "      \n",
              "  <style>\n",
              "    .colab-df-container {\n",
              "      display:flex;\n",
              "      flex-wrap:wrap;\n",
              "      gap: 12px;\n",
              "    }\n",
              "\n",
              "    .colab-df-convert {\n",
              "      background-color: #E8F0FE;\n",
              "      border: none;\n",
              "      border-radius: 50%;\n",
              "      cursor: pointer;\n",
              "      display: none;\n",
              "      fill: #1967D2;\n",
              "      height: 32px;\n",
              "      padding: 0 0 0 0;\n",
              "      width: 32px;\n",
              "    }\n",
              "\n",
              "    .colab-df-convert:hover {\n",
              "      background-color: #E2EBFA;\n",
              "      box-shadow: 0px 1px 2px rgba(60, 64, 67, 0.3), 0px 1px 3px 1px rgba(60, 64, 67, 0.15);\n",
              "      fill: #174EA6;\n",
              "    }\n",
              "\n",
              "    [theme=dark] .colab-df-convert {\n",
              "      background-color: #3B4455;\n",
              "      fill: #D2E3FC;\n",
              "    }\n",
              "\n",
              "    [theme=dark] .colab-df-convert:hover {\n",
              "      background-color: #434B5C;\n",
              "      box-shadow: 0px 1px 3px 1px rgba(0, 0, 0, 0.15);\n",
              "      filter: drop-shadow(0px 1px 2px rgba(0, 0, 0, 0.3));\n",
              "      fill: #FFFFFF;\n",
              "    }\n",
              "  </style>\n",
              "\n",
              "      <script>\n",
              "        const buttonEl =\n",
              "          document.querySelector('#df-5b46ecaf-c819-4cf3-8833-97f16c153637 button.colab-df-convert');\n",
              "        buttonEl.style.display =\n",
              "          google.colab.kernel.accessAllowed ? 'block' : 'none';\n",
              "\n",
              "        async function convertToInteractive(key) {\n",
              "          const element = document.querySelector('#df-5b46ecaf-c819-4cf3-8833-97f16c153637');\n",
              "          const dataTable =\n",
              "            await google.colab.kernel.invokeFunction('convertToInteractive',\n",
              "                                                     [key], {});\n",
              "          if (!dataTable) return;\n",
              "\n",
              "          const docLinkHtml = 'Like what you see? Visit the ' +\n",
              "            '<a target=\"_blank\" href=https://colab.research.google.com/notebooks/data_table.ipynb>data table notebook</a>'\n",
              "            + ' to learn more about interactive tables.';\n",
              "          element.innerHTML = '';\n",
              "          dataTable['output_type'] = 'display_data';\n",
              "          await google.colab.output.renderOutput(dataTable, element);\n",
              "          const docLink = document.createElement('div');\n",
              "          docLink.innerHTML = docLinkHtml;\n",
              "          element.appendChild(docLink);\n",
              "        }\n",
              "      </script>\n",
              "    </div>\n",
              "  </div>\n",
              "  "
            ]
          },
          "metadata": {},
          "execution_count": 10
        }
      ]
    },
    {
      "cell_type": "markdown",
      "source": [
        "Lalu kita akan lihat gambar dengan lebar terkecil."
      ],
      "metadata": {
        "id": "J81Geyeb59tv"
      }
    },
    {
      "cell_type": "code",
      "source": [
        "# Mencari gambar dengan nilai lebar terkecil berdasarkan deskripsi matematika\n",
        "\n",
        "dfc.query(\"Width == 250\")"
      ],
      "metadata": {
        "id": "ekZ-MSsgPJ4f",
        "colab": {
          "base_uri": "https://localhost:8080/",
          "height": 112
        },
        "outputId": "fdf79268-e64f-4461-a9da-86dc85323175"
      },
      "execution_count": 11,
      "outputs": [
        {
          "output_type": "execute_result",
          "data": {
            "text/plain": [
              "                                             ImagePath  Height  Width  \\\n",
              "13   /content/images/Riped and Unriped tomato Datas...     200    250   \n",
              "108  /content/images/Riped and Unriped tomato Datas...     200    250   \n",
              "\n",
              "     ImageRatio Label  \n",
              "13          0.8  Ripe  \n",
              "108         0.8  Ripe  "
            ],
            "text/html": [
              "\n",
              "  <div id=\"df-12c7289c-3d35-4ebc-bd08-391837ff83b4\">\n",
              "    <div class=\"colab-df-container\">\n",
              "      <div>\n",
              "<style scoped>\n",
              "    .dataframe tbody tr th:only-of-type {\n",
              "        vertical-align: middle;\n",
              "    }\n",
              "\n",
              "    .dataframe tbody tr th {\n",
              "        vertical-align: top;\n",
              "    }\n",
              "\n",
              "    .dataframe thead th {\n",
              "        text-align: right;\n",
              "    }\n",
              "</style>\n",
              "<table border=\"1\" class=\"dataframe\">\n",
              "  <thead>\n",
              "    <tr style=\"text-align: right;\">\n",
              "      <th></th>\n",
              "      <th>ImagePath</th>\n",
              "      <th>Height</th>\n",
              "      <th>Width</th>\n",
              "      <th>ImageRatio</th>\n",
              "      <th>Label</th>\n",
              "    </tr>\n",
              "  </thead>\n",
              "  <tbody>\n",
              "    <tr>\n",
              "      <th>13</th>\n",
              "      <td>/content/images/Riped and Unriped tomato Datas...</td>\n",
              "      <td>200</td>\n",
              "      <td>250</td>\n",
              "      <td>0.8</td>\n",
              "      <td>Ripe</td>\n",
              "    </tr>\n",
              "    <tr>\n",
              "      <th>108</th>\n",
              "      <td>/content/images/Riped and Unriped tomato Datas...</td>\n",
              "      <td>200</td>\n",
              "      <td>250</td>\n",
              "      <td>0.8</td>\n",
              "      <td>Ripe</td>\n",
              "    </tr>\n",
              "  </tbody>\n",
              "</table>\n",
              "</div>\n",
              "      <button class=\"colab-df-convert\" onclick=\"convertToInteractive('df-12c7289c-3d35-4ebc-bd08-391837ff83b4')\"\n",
              "              title=\"Convert this dataframe to an interactive table.\"\n",
              "              style=\"display:none;\">\n",
              "        \n",
              "  <svg xmlns=\"http://www.w3.org/2000/svg\" height=\"24px\"viewBox=\"0 0 24 24\"\n",
              "       width=\"24px\">\n",
              "    <path d=\"M0 0h24v24H0V0z\" fill=\"none\"/>\n",
              "    <path d=\"M18.56 5.44l.94 2.06.94-2.06 2.06-.94-2.06-.94-.94-2.06-.94 2.06-2.06.94zm-11 1L8.5 8.5l.94-2.06 2.06-.94-2.06-.94L8.5 2.5l-.94 2.06-2.06.94zm10 10l.94 2.06.94-2.06 2.06-.94-2.06-.94-.94-2.06-.94 2.06-2.06.94z\"/><path d=\"M17.41 7.96l-1.37-1.37c-.4-.4-.92-.59-1.43-.59-.52 0-1.04.2-1.43.59L10.3 9.45l-7.72 7.72c-.78.78-.78 2.05 0 2.83L4 21.41c.39.39.9.59 1.41.59.51 0 1.02-.2 1.41-.59l7.78-7.78 2.81-2.81c.8-.78.8-2.07 0-2.86zM5.41 20L4 18.59l7.72-7.72 1.47 1.35L5.41 20z\"/>\n",
              "  </svg>\n",
              "      </button>\n",
              "      \n",
              "  <style>\n",
              "    .colab-df-container {\n",
              "      display:flex;\n",
              "      flex-wrap:wrap;\n",
              "      gap: 12px;\n",
              "    }\n",
              "\n",
              "    .colab-df-convert {\n",
              "      background-color: #E8F0FE;\n",
              "      border: none;\n",
              "      border-radius: 50%;\n",
              "      cursor: pointer;\n",
              "      display: none;\n",
              "      fill: #1967D2;\n",
              "      height: 32px;\n",
              "      padding: 0 0 0 0;\n",
              "      width: 32px;\n",
              "    }\n",
              "\n",
              "    .colab-df-convert:hover {\n",
              "      background-color: #E2EBFA;\n",
              "      box-shadow: 0px 1px 2px rgba(60, 64, 67, 0.3), 0px 1px 3px 1px rgba(60, 64, 67, 0.15);\n",
              "      fill: #174EA6;\n",
              "    }\n",
              "\n",
              "    [theme=dark] .colab-df-convert {\n",
              "      background-color: #3B4455;\n",
              "      fill: #D2E3FC;\n",
              "    }\n",
              "\n",
              "    [theme=dark] .colab-df-convert:hover {\n",
              "      background-color: #434B5C;\n",
              "      box-shadow: 0px 1px 3px 1px rgba(0, 0, 0, 0.15);\n",
              "      filter: drop-shadow(0px 1px 2px rgba(0, 0, 0, 0.3));\n",
              "      fill: #FFFFFF;\n",
              "    }\n",
              "  </style>\n",
              "\n",
              "      <script>\n",
              "        const buttonEl =\n",
              "          document.querySelector('#df-12c7289c-3d35-4ebc-bd08-391837ff83b4 button.colab-df-convert');\n",
              "        buttonEl.style.display =\n",
              "          google.colab.kernel.accessAllowed ? 'block' : 'none';\n",
              "\n",
              "        async function convertToInteractive(key) {\n",
              "          const element = document.querySelector('#df-12c7289c-3d35-4ebc-bd08-391837ff83b4');\n",
              "          const dataTable =\n",
              "            await google.colab.kernel.invokeFunction('convertToInteractive',\n",
              "                                                     [key], {});\n",
              "          if (!dataTable) return;\n",
              "\n",
              "          const docLinkHtml = 'Like what you see? Visit the ' +\n",
              "            '<a target=\"_blank\" href=https://colab.research.google.com/notebooks/data_table.ipynb>data table notebook</a>'\n",
              "            + ' to learn more about interactive tables.';\n",
              "          element.innerHTML = '';\n",
              "          dataTable['output_type'] = 'display_data';\n",
              "          await google.colab.output.renderOutput(dataTable, element);\n",
              "          const docLink = document.createElement('div');\n",
              "          docLink.innerHTML = docLinkHtml;\n",
              "          element.appendChild(docLink);\n",
              "        }\n",
              "      </script>\n",
              "    </div>\n",
              "  </div>\n",
              "  "
            ]
          },
          "metadata": {},
          "execution_count": 11
        }
      ]
    },
    {
      "cell_type": "markdown",
      "source": [
        "Lalu kita akan lihat gambar dengan lebar terbesar."
      ],
      "metadata": {
        "id": "VdYMlM106D1t"
      }
    },
    {
      "cell_type": "code",
      "source": [
        "# Mencari gambar dengan nilai lebar terbesar berdasarkan deskripsi matematika\n",
        "\n",
        "dfc.query(\"Width == 7792\")"
      ],
      "metadata": {
        "id": "TAhzA1e8PPRg",
        "colab": {
          "base_uri": "https://localhost:8080/",
          "height": 175
        },
        "outputId": "3ae103a6-b584-4677-cebe-b2c34b385a6c"
      },
      "execution_count": 12,
      "outputs": [
        {
          "output_type": "execute_result",
          "data": {
            "text/plain": [
              "                                             ImagePath  Height  Width  \\\n",
              "158  /content/images/Riped and Unriped tomato Datas...    5200   7792   \n",
              "187  /content/images/Riped and Unriped tomato Datas...    5200   7792   \n",
              "218  /content/images/Riped and Unriped tomato Datas...    5200   7792   \n",
              "265  /content/images/Riped and Unriped tomato Datas...    5200   7792   \n",
              "\n",
              "     ImageRatio   Label  \n",
              "158    0.667351  Unripe  \n",
              "187    0.667351  Unripe  \n",
              "218    0.667351  Unripe  \n",
              "265    0.667351  Unripe  "
            ],
            "text/html": [
              "\n",
              "  <div id=\"df-97a896db-d9c7-43dc-9718-5abed09ec0f8\">\n",
              "    <div class=\"colab-df-container\">\n",
              "      <div>\n",
              "<style scoped>\n",
              "    .dataframe tbody tr th:only-of-type {\n",
              "        vertical-align: middle;\n",
              "    }\n",
              "\n",
              "    .dataframe tbody tr th {\n",
              "        vertical-align: top;\n",
              "    }\n",
              "\n",
              "    .dataframe thead th {\n",
              "        text-align: right;\n",
              "    }\n",
              "</style>\n",
              "<table border=\"1\" class=\"dataframe\">\n",
              "  <thead>\n",
              "    <tr style=\"text-align: right;\">\n",
              "      <th></th>\n",
              "      <th>ImagePath</th>\n",
              "      <th>Height</th>\n",
              "      <th>Width</th>\n",
              "      <th>ImageRatio</th>\n",
              "      <th>Label</th>\n",
              "    </tr>\n",
              "  </thead>\n",
              "  <tbody>\n",
              "    <tr>\n",
              "      <th>158</th>\n",
              "      <td>/content/images/Riped and Unriped tomato Datas...</td>\n",
              "      <td>5200</td>\n",
              "      <td>7792</td>\n",
              "      <td>0.667351</td>\n",
              "      <td>Unripe</td>\n",
              "    </tr>\n",
              "    <tr>\n",
              "      <th>187</th>\n",
              "      <td>/content/images/Riped and Unriped tomato Datas...</td>\n",
              "      <td>5200</td>\n",
              "      <td>7792</td>\n",
              "      <td>0.667351</td>\n",
              "      <td>Unripe</td>\n",
              "    </tr>\n",
              "    <tr>\n",
              "      <th>218</th>\n",
              "      <td>/content/images/Riped and Unriped tomato Datas...</td>\n",
              "      <td>5200</td>\n",
              "      <td>7792</td>\n",
              "      <td>0.667351</td>\n",
              "      <td>Unripe</td>\n",
              "    </tr>\n",
              "    <tr>\n",
              "      <th>265</th>\n",
              "      <td>/content/images/Riped and Unriped tomato Datas...</td>\n",
              "      <td>5200</td>\n",
              "      <td>7792</td>\n",
              "      <td>0.667351</td>\n",
              "      <td>Unripe</td>\n",
              "    </tr>\n",
              "  </tbody>\n",
              "</table>\n",
              "</div>\n",
              "      <button class=\"colab-df-convert\" onclick=\"convertToInteractive('df-97a896db-d9c7-43dc-9718-5abed09ec0f8')\"\n",
              "              title=\"Convert this dataframe to an interactive table.\"\n",
              "              style=\"display:none;\">\n",
              "        \n",
              "  <svg xmlns=\"http://www.w3.org/2000/svg\" height=\"24px\"viewBox=\"0 0 24 24\"\n",
              "       width=\"24px\">\n",
              "    <path d=\"M0 0h24v24H0V0z\" fill=\"none\"/>\n",
              "    <path d=\"M18.56 5.44l.94 2.06.94-2.06 2.06-.94-2.06-.94-.94-2.06-.94 2.06-2.06.94zm-11 1L8.5 8.5l.94-2.06 2.06-.94-2.06-.94L8.5 2.5l-.94 2.06-2.06.94zm10 10l.94 2.06.94-2.06 2.06-.94-2.06-.94-.94-2.06-.94 2.06-2.06.94z\"/><path d=\"M17.41 7.96l-1.37-1.37c-.4-.4-.92-.59-1.43-.59-.52 0-1.04.2-1.43.59L10.3 9.45l-7.72 7.72c-.78.78-.78 2.05 0 2.83L4 21.41c.39.39.9.59 1.41.59.51 0 1.02-.2 1.41-.59l7.78-7.78 2.81-2.81c.8-.78.8-2.07 0-2.86zM5.41 20L4 18.59l7.72-7.72 1.47 1.35L5.41 20z\"/>\n",
              "  </svg>\n",
              "      </button>\n",
              "      \n",
              "  <style>\n",
              "    .colab-df-container {\n",
              "      display:flex;\n",
              "      flex-wrap:wrap;\n",
              "      gap: 12px;\n",
              "    }\n",
              "\n",
              "    .colab-df-convert {\n",
              "      background-color: #E8F0FE;\n",
              "      border: none;\n",
              "      border-radius: 50%;\n",
              "      cursor: pointer;\n",
              "      display: none;\n",
              "      fill: #1967D2;\n",
              "      height: 32px;\n",
              "      padding: 0 0 0 0;\n",
              "      width: 32px;\n",
              "    }\n",
              "\n",
              "    .colab-df-convert:hover {\n",
              "      background-color: #E2EBFA;\n",
              "      box-shadow: 0px 1px 2px rgba(60, 64, 67, 0.3), 0px 1px 3px 1px rgba(60, 64, 67, 0.15);\n",
              "      fill: #174EA6;\n",
              "    }\n",
              "\n",
              "    [theme=dark] .colab-df-convert {\n",
              "      background-color: #3B4455;\n",
              "      fill: #D2E3FC;\n",
              "    }\n",
              "\n",
              "    [theme=dark] .colab-df-convert:hover {\n",
              "      background-color: #434B5C;\n",
              "      box-shadow: 0px 1px 3px 1px rgba(0, 0, 0, 0.15);\n",
              "      filter: drop-shadow(0px 1px 2px rgba(0, 0, 0, 0.3));\n",
              "      fill: #FFFFFF;\n",
              "    }\n",
              "  </style>\n",
              "\n",
              "      <script>\n",
              "        const buttonEl =\n",
              "          document.querySelector('#df-97a896db-d9c7-43dc-9718-5abed09ec0f8 button.colab-df-convert');\n",
              "        buttonEl.style.display =\n",
              "          google.colab.kernel.accessAllowed ? 'block' : 'none';\n",
              "\n",
              "        async function convertToInteractive(key) {\n",
              "          const element = document.querySelector('#df-97a896db-d9c7-43dc-9718-5abed09ec0f8');\n",
              "          const dataTable =\n",
              "            await google.colab.kernel.invokeFunction('convertToInteractive',\n",
              "                                                     [key], {});\n",
              "          if (!dataTable) return;\n",
              "\n",
              "          const docLinkHtml = 'Like what you see? Visit the ' +\n",
              "            '<a target=\"_blank\" href=https://colab.research.google.com/notebooks/data_table.ipynb>data table notebook</a>'\n",
              "            + ' to learn more about interactive tables.';\n",
              "          element.innerHTML = '';\n",
              "          dataTable['output_type'] = 'display_data';\n",
              "          await google.colab.output.renderOutput(dataTable, element);\n",
              "          const docLink = document.createElement('div');\n",
              "          docLink.innerHTML = docLinkHtml;\n",
              "          element.appendChild(docLink);\n",
              "        }\n",
              "      </script>\n",
              "    </div>\n",
              "  </div>\n",
              "  "
            ]
          },
          "metadata": {},
          "execution_count": 12
        }
      ]
    },
    {
      "cell_type": "markdown",
      "source": [
        "Dari keempat perintah di ata kita dapat mengetahui bahwa gambar dengan panjang terkecil juga memiliki lebar terkecil, sedangkan gambar dengan panjang terbesar juga memiliki lebar terbesar. Terdapat dua gambar dengan ukuran terkecil dan empat gambar dengan ukuran terbesar.\n",
        "\n",
        "Selanjutnya kita akan melihat gambar dengan rasio ukuran terkecil dan terbesar, di mana gambar dengan rasio terkecil merupakan gambar yang dimensinya sangat lebar dan gambar dengan rasio terbesar merupakan gambar yang dimensinya sangat panjang."
      ],
      "metadata": {
        "id": "1CDwQqVH6F3l"
      }
    },
    {
      "cell_type": "code",
      "source": [
        "# Mencari gambar dengan rasio terkecil berdasarkan deskripsi matematika\n",
        "\n",
        "dfc.query(\"ImageRatio == 0.43808\")"
      ],
      "metadata": {
        "id": "6B08Q8aipBQA",
        "colab": {
          "base_uri": "https://localhost:8080/",
          "height": 81
        },
        "outputId": "7ae31ea8-6026-4dcf-aa33-18202b7531cc"
      },
      "execution_count": 13,
      "outputs": [
        {
          "output_type": "execute_result",
          "data": {
            "text/plain": [
              "                                            ImagePath  Height  Width  \\\n",
              "33  /content/images/Riped and Unriped tomato Datas...    1369   3125   \n",
              "\n",
              "    ImageRatio Label  \n",
              "33     0.43808  Ripe  "
            ],
            "text/html": [
              "\n",
              "  <div id=\"df-4f29510f-f22e-4aa8-be68-13c9a39e193e\">\n",
              "    <div class=\"colab-df-container\">\n",
              "      <div>\n",
              "<style scoped>\n",
              "    .dataframe tbody tr th:only-of-type {\n",
              "        vertical-align: middle;\n",
              "    }\n",
              "\n",
              "    .dataframe tbody tr th {\n",
              "        vertical-align: top;\n",
              "    }\n",
              "\n",
              "    .dataframe thead th {\n",
              "        text-align: right;\n",
              "    }\n",
              "</style>\n",
              "<table border=\"1\" class=\"dataframe\">\n",
              "  <thead>\n",
              "    <tr style=\"text-align: right;\">\n",
              "      <th></th>\n",
              "      <th>ImagePath</th>\n",
              "      <th>Height</th>\n",
              "      <th>Width</th>\n",
              "      <th>ImageRatio</th>\n",
              "      <th>Label</th>\n",
              "    </tr>\n",
              "  </thead>\n",
              "  <tbody>\n",
              "    <tr>\n",
              "      <th>33</th>\n",
              "      <td>/content/images/Riped and Unriped tomato Datas...</td>\n",
              "      <td>1369</td>\n",
              "      <td>3125</td>\n",
              "      <td>0.43808</td>\n",
              "      <td>Ripe</td>\n",
              "    </tr>\n",
              "  </tbody>\n",
              "</table>\n",
              "</div>\n",
              "      <button class=\"colab-df-convert\" onclick=\"convertToInteractive('df-4f29510f-f22e-4aa8-be68-13c9a39e193e')\"\n",
              "              title=\"Convert this dataframe to an interactive table.\"\n",
              "              style=\"display:none;\">\n",
              "        \n",
              "  <svg xmlns=\"http://www.w3.org/2000/svg\" height=\"24px\"viewBox=\"0 0 24 24\"\n",
              "       width=\"24px\">\n",
              "    <path d=\"M0 0h24v24H0V0z\" fill=\"none\"/>\n",
              "    <path d=\"M18.56 5.44l.94 2.06.94-2.06 2.06-.94-2.06-.94-.94-2.06-.94 2.06-2.06.94zm-11 1L8.5 8.5l.94-2.06 2.06-.94-2.06-.94L8.5 2.5l-.94 2.06-2.06.94zm10 10l.94 2.06.94-2.06 2.06-.94-2.06-.94-.94-2.06-.94 2.06-2.06.94z\"/><path d=\"M17.41 7.96l-1.37-1.37c-.4-.4-.92-.59-1.43-.59-.52 0-1.04.2-1.43.59L10.3 9.45l-7.72 7.72c-.78.78-.78 2.05 0 2.83L4 21.41c.39.39.9.59 1.41.59.51 0 1.02-.2 1.41-.59l7.78-7.78 2.81-2.81c.8-.78.8-2.07 0-2.86zM5.41 20L4 18.59l7.72-7.72 1.47 1.35L5.41 20z\"/>\n",
              "  </svg>\n",
              "      </button>\n",
              "      \n",
              "  <style>\n",
              "    .colab-df-container {\n",
              "      display:flex;\n",
              "      flex-wrap:wrap;\n",
              "      gap: 12px;\n",
              "    }\n",
              "\n",
              "    .colab-df-convert {\n",
              "      background-color: #E8F0FE;\n",
              "      border: none;\n",
              "      border-radius: 50%;\n",
              "      cursor: pointer;\n",
              "      display: none;\n",
              "      fill: #1967D2;\n",
              "      height: 32px;\n",
              "      padding: 0 0 0 0;\n",
              "      width: 32px;\n",
              "    }\n",
              "\n",
              "    .colab-df-convert:hover {\n",
              "      background-color: #E2EBFA;\n",
              "      box-shadow: 0px 1px 2px rgba(60, 64, 67, 0.3), 0px 1px 3px 1px rgba(60, 64, 67, 0.15);\n",
              "      fill: #174EA6;\n",
              "    }\n",
              "\n",
              "    [theme=dark] .colab-df-convert {\n",
              "      background-color: #3B4455;\n",
              "      fill: #D2E3FC;\n",
              "    }\n",
              "\n",
              "    [theme=dark] .colab-df-convert:hover {\n",
              "      background-color: #434B5C;\n",
              "      box-shadow: 0px 1px 3px 1px rgba(0, 0, 0, 0.15);\n",
              "      filter: drop-shadow(0px 1px 2px rgba(0, 0, 0, 0.3));\n",
              "      fill: #FFFFFF;\n",
              "    }\n",
              "  </style>\n",
              "\n",
              "      <script>\n",
              "        const buttonEl =\n",
              "          document.querySelector('#df-4f29510f-f22e-4aa8-be68-13c9a39e193e button.colab-df-convert');\n",
              "        buttonEl.style.display =\n",
              "          google.colab.kernel.accessAllowed ? 'block' : 'none';\n",
              "\n",
              "        async function convertToInteractive(key) {\n",
              "          const element = document.querySelector('#df-4f29510f-f22e-4aa8-be68-13c9a39e193e');\n",
              "          const dataTable =\n",
              "            await google.colab.kernel.invokeFunction('convertToInteractive',\n",
              "                                                     [key], {});\n",
              "          if (!dataTable) return;\n",
              "\n",
              "          const docLinkHtml = 'Like what you see? Visit the ' +\n",
              "            '<a target=\"_blank\" href=https://colab.research.google.com/notebooks/data_table.ipynb>data table notebook</a>'\n",
              "            + ' to learn more about interactive tables.';\n",
              "          element.innerHTML = '';\n",
              "          dataTable['output_type'] = 'display_data';\n",
              "          await google.colab.output.renderOutput(dataTable, element);\n",
              "          const docLink = document.createElement('div');\n",
              "          docLink.innerHTML = docLinkHtml;\n",
              "          element.appendChild(docLink);\n",
              "        }\n",
              "      </script>\n",
              "    </div>\n",
              "  </div>\n",
              "  "
            ]
          },
          "metadata": {},
          "execution_count": 13
        }
      ]
    },
    {
      "cell_type": "code",
      "source": [
        "# Mencari gambar dengan rasio terbesar berdasarkan deskripsi matematika\n",
        "\n",
        "dfc.query(\"ImageRatio > 1.77777\")"
      ],
      "metadata": {
        "id": "L520_sKapfTd",
        "colab": {
          "base_uri": "https://localhost:8080/",
          "height": 112
        },
        "outputId": "b19c4569-a8de-4dab-8164-02e1478b7354"
      },
      "execution_count": 14,
      "outputs": [
        {
          "output_type": "execute_result",
          "data": {
            "text/plain": [
              "                                             ImagePath  Height  Width  \\\n",
              "188  /content/images/Riped and Unriped tomato Datas...    1280    720   \n",
              "273  /content/images/Riped and Unriped tomato Datas...    1280    720   \n",
              "\n",
              "     ImageRatio   Label  \n",
              "188    1.777778  Unripe  \n",
              "273    1.777778  Unripe  "
            ],
            "text/html": [
              "\n",
              "  <div id=\"df-cb649324-6040-4865-8f1e-6fb3ff4ec401\">\n",
              "    <div class=\"colab-df-container\">\n",
              "      <div>\n",
              "<style scoped>\n",
              "    .dataframe tbody tr th:only-of-type {\n",
              "        vertical-align: middle;\n",
              "    }\n",
              "\n",
              "    .dataframe tbody tr th {\n",
              "        vertical-align: top;\n",
              "    }\n",
              "\n",
              "    .dataframe thead th {\n",
              "        text-align: right;\n",
              "    }\n",
              "</style>\n",
              "<table border=\"1\" class=\"dataframe\">\n",
              "  <thead>\n",
              "    <tr style=\"text-align: right;\">\n",
              "      <th></th>\n",
              "      <th>ImagePath</th>\n",
              "      <th>Height</th>\n",
              "      <th>Width</th>\n",
              "      <th>ImageRatio</th>\n",
              "      <th>Label</th>\n",
              "    </tr>\n",
              "  </thead>\n",
              "  <tbody>\n",
              "    <tr>\n",
              "      <th>188</th>\n",
              "      <td>/content/images/Riped and Unriped tomato Datas...</td>\n",
              "      <td>1280</td>\n",
              "      <td>720</td>\n",
              "      <td>1.777778</td>\n",
              "      <td>Unripe</td>\n",
              "    </tr>\n",
              "    <tr>\n",
              "      <th>273</th>\n",
              "      <td>/content/images/Riped and Unriped tomato Datas...</td>\n",
              "      <td>1280</td>\n",
              "      <td>720</td>\n",
              "      <td>1.777778</td>\n",
              "      <td>Unripe</td>\n",
              "    </tr>\n",
              "  </tbody>\n",
              "</table>\n",
              "</div>\n",
              "      <button class=\"colab-df-convert\" onclick=\"convertToInteractive('df-cb649324-6040-4865-8f1e-6fb3ff4ec401')\"\n",
              "              title=\"Convert this dataframe to an interactive table.\"\n",
              "              style=\"display:none;\">\n",
              "        \n",
              "  <svg xmlns=\"http://www.w3.org/2000/svg\" height=\"24px\"viewBox=\"0 0 24 24\"\n",
              "       width=\"24px\">\n",
              "    <path d=\"M0 0h24v24H0V0z\" fill=\"none\"/>\n",
              "    <path d=\"M18.56 5.44l.94 2.06.94-2.06 2.06-.94-2.06-.94-.94-2.06-.94 2.06-2.06.94zm-11 1L8.5 8.5l.94-2.06 2.06-.94-2.06-.94L8.5 2.5l-.94 2.06-2.06.94zm10 10l.94 2.06.94-2.06 2.06-.94-2.06-.94-.94-2.06-.94 2.06-2.06.94z\"/><path d=\"M17.41 7.96l-1.37-1.37c-.4-.4-.92-.59-1.43-.59-.52 0-1.04.2-1.43.59L10.3 9.45l-7.72 7.72c-.78.78-.78 2.05 0 2.83L4 21.41c.39.39.9.59 1.41.59.51 0 1.02-.2 1.41-.59l7.78-7.78 2.81-2.81c.8-.78.8-2.07 0-2.86zM5.41 20L4 18.59l7.72-7.72 1.47 1.35L5.41 20z\"/>\n",
              "  </svg>\n",
              "      </button>\n",
              "      \n",
              "  <style>\n",
              "    .colab-df-container {\n",
              "      display:flex;\n",
              "      flex-wrap:wrap;\n",
              "      gap: 12px;\n",
              "    }\n",
              "\n",
              "    .colab-df-convert {\n",
              "      background-color: #E8F0FE;\n",
              "      border: none;\n",
              "      border-radius: 50%;\n",
              "      cursor: pointer;\n",
              "      display: none;\n",
              "      fill: #1967D2;\n",
              "      height: 32px;\n",
              "      padding: 0 0 0 0;\n",
              "      width: 32px;\n",
              "    }\n",
              "\n",
              "    .colab-df-convert:hover {\n",
              "      background-color: #E2EBFA;\n",
              "      box-shadow: 0px 1px 2px rgba(60, 64, 67, 0.3), 0px 1px 3px 1px rgba(60, 64, 67, 0.15);\n",
              "      fill: #174EA6;\n",
              "    }\n",
              "\n",
              "    [theme=dark] .colab-df-convert {\n",
              "      background-color: #3B4455;\n",
              "      fill: #D2E3FC;\n",
              "    }\n",
              "\n",
              "    [theme=dark] .colab-df-convert:hover {\n",
              "      background-color: #434B5C;\n",
              "      box-shadow: 0px 1px 3px 1px rgba(0, 0, 0, 0.15);\n",
              "      filter: drop-shadow(0px 1px 2px rgba(0, 0, 0, 0.3));\n",
              "      fill: #FFFFFF;\n",
              "    }\n",
              "  </style>\n",
              "\n",
              "      <script>\n",
              "        const buttonEl =\n",
              "          document.querySelector('#df-cb649324-6040-4865-8f1e-6fb3ff4ec401 button.colab-df-convert');\n",
              "        buttonEl.style.display =\n",
              "          google.colab.kernel.accessAllowed ? 'block' : 'none';\n",
              "\n",
              "        async function convertToInteractive(key) {\n",
              "          const element = document.querySelector('#df-cb649324-6040-4865-8f1e-6fb3ff4ec401');\n",
              "          const dataTable =\n",
              "            await google.colab.kernel.invokeFunction('convertToInteractive',\n",
              "                                                     [key], {});\n",
              "          if (!dataTable) return;\n",
              "\n",
              "          const docLinkHtml = 'Like what you see? Visit the ' +\n",
              "            '<a target=\"_blank\" href=https://colab.research.google.com/notebooks/data_table.ipynb>data table notebook</a>'\n",
              "            + ' to learn more about interactive tables.';\n",
              "          element.innerHTML = '';\n",
              "          dataTable['output_type'] = 'display_data';\n",
              "          await google.colab.output.renderOutput(dataTable, element);\n",
              "          const docLink = document.createElement('div');\n",
              "          docLink.innerHTML = docLinkHtml;\n",
              "          element.appendChild(docLink);\n",
              "        }\n",
              "      </script>\n",
              "    </div>\n",
              "  </div>\n",
              "  "
            ]
          },
          "metadata": {},
          "execution_count": 14
        }
      ]
    },
    {
      "cell_type": "markdown",
      "source": [
        "Dari perintah di atas kita dapat mengetahui bahwa terdapat satu gambar dengan rasio terkecil dan dua gambar dengan rasio terbesar.\n",
        "\n",
        "Kemudian kita akan melihat persebaran label gambar yang pada *dataset*."
      ],
      "metadata": {
        "id": "oFKfCKcs64tU"
      }
    },
    {
      "cell_type": "code",
      "source": [
        "# Memeriksa berapa gambar tomat matang dan tomat belum matang\n",
        "\n",
        "df.Label.value_counts().sort_index()"
      ],
      "metadata": {
        "id": "SlO9Y8ZbiKyS",
        "colab": {
          "base_uri": "https://localhost:8080/"
        },
        "outputId": "05cd6d66-7478-45a3-8706-96ace54a02c0"
      },
      "execution_count": 15,
      "outputs": [
        {
          "output_type": "execute_result",
          "data": {
            "text/plain": [
              "Ripe      145\n",
              "Unripe    143\n",
              "Name: Label, dtype: int64"
            ]
          },
          "metadata": {},
          "execution_count": 15
        }
      ]
    },
    {
      "cell_type": "markdown",
      "source": [
        "Kemudian kita akan buat visualisasi sederhana berupa plot batang vertikal."
      ],
      "metadata": {
        "id": "U-7N9fOJBSKt"
      }
    },
    {
      "cell_type": "code",
      "source": [
        "# Membuat visualisasi dari jumlah tomat matang dan tomat belum matang\n",
        "\n",
        "plt.figure(figsize = (7, 7))\n",
        "\n",
        "height = df.Label.value_counts().sort_index()\n",
        "\n",
        "bars = (df.Label.value_counts().sort_index().index)\n",
        "x_pos = np.arange(len(bars))\n",
        "\n",
        "plt.bar(x_pos, height)\n",
        "plt.xticks(x_pos, bars)\n",
        "plt.xlabel(\"Label\", fontweight = \"bold\")\n",
        "\n",
        "plt.show()"
      ],
      "metadata": {
        "id": "UEl4GXfRsYwO",
        "colab": {
          "base_uri": "https://localhost:8080/",
          "height": 442
        },
        "outputId": "d48cffbd-5402-4dec-98b4-b754b27bdcb1"
      },
      "execution_count": 16,
      "outputs": [
        {
          "output_type": "display_data",
          "data": {
            "text/plain": [
              "<Figure size 504x504 with 1 Axes>"
            ],
            "image/png": "[encoded data removed]"
          },
          "metadata": {
            "needs_background": "light"
          }
        }
      ]
    },
    {
      "cell_type": "markdown",
      "source": [
        "Dari grafik di atas dapat terlihat bahwa *dataset* yang kita miliki memiliki jumlah gambar tomat matang dan tomat belum matang yang kurang lebih seimbang."
      ],
      "metadata": {
        "id": "g8_ZP4F0BX6E"
      }
    },
    {
      "cell_type": "markdown",
      "source": [
        "## *Data Preprocessing*"
      ],
      "metadata": {
        "id": "jBDQMvHqBglM"
      }
    },
    {
      "cell_type": "markdown",
      "source": [
        "### Mengambil dan Memisahkan *Data Inference*"
      ],
      "metadata": {
        "id": "fUOTmqEJBwGs"
      }
    },
    {
      "cell_type": "markdown",
      "source": [
        "Sebelum kita membagi *dataset train* dan *dataset test*, kita pisahkan dulu beberapa buah data untuk kita lakukan *inferencing* nantinya."
      ],
      "metadata": {
        "id": "hUfui1uvByJT"
      }
    },
    {
      "cell_type": "code",
      "source": [
        "# Memisahkan Dataset Inference\n",
        "\n",
        "df_inf = df.sample(6, random_state = 14)\n",
        "df_inf"
      ],
      "metadata": {
        "id": "3T3PT2fIsc3S",
        "colab": {
          "base_uri": "https://localhost:8080/",
          "height": 238
        },
        "outputId": "8401a41a-4705-43d5-9907-fbc52eb9ccde"
      },
      "execution_count": 17,
      "outputs": [
        {
          "output_type": "execute_result",
          "data": {
            "text/plain": [
              "                                             ImagePath  Height  Width  \\\n",
              "64   /content/images/Riped and Unriped tomato Datas...     440    551   \n",
              "140  /content/images/Riped and Unriped tomato Datas...     800    787   \n",
              "91   /content/images/Riped and Unriped tomato Datas...     866   1300   \n",
              "5    /content/images/Riped and Unriped tomato Datas...     463    590   \n",
              "262  /content/images/Riped and Unriped tomato Datas...     804    800   \n",
              "230  /content/images/Riped and Unriped tomato Datas...     573    840   \n",
              "\n",
              "     ImageRatio   Label  \n",
              "64     0.798548  Unripe  \n",
              "140    1.016518    Ripe  \n",
              "91     0.666154    Ripe  \n",
              "5      0.784746    Ripe  \n",
              "262    1.005000  Unripe  \n",
              "230    0.682143  Unripe  "
            ],
            "text/html": [
              "\n",
              "  <div id=\"df-3df33874-d1d9-41bf-b069-740579da07ab\">\n",
              "    <div class=\"colab-df-container\">\n",
              "      <div>\n",
              "<style scoped>\n",
              "    .dataframe tbody tr th:only-of-type {\n",
              "        vertical-align: middle;\n",
              "    }\n",
              "\n",
              "    .dataframe tbody tr th {\n",
              "        vertical-align: top;\n",
              "    }\n",
              "\n",
              "    .dataframe thead th {\n",
              "        text-align: right;\n",
              "    }\n",
              "</style>\n",
              "<table border=\"1\" class=\"dataframe\">\n",
              "  <thead>\n",
              "    <tr style=\"text-align: right;\">\n",
              "      <th></th>\n",
              "      <th>ImagePath</th>\n",
              "      <th>Height</th>\n",
              "      <th>Width</th>\n",
              "      <th>ImageRatio</th>\n",
              "      <th>Label</th>\n",
              "    </tr>\n",
              "  </thead>\n",
              "  <tbody>\n",
              "    <tr>\n",
              "      <th>64</th>\n",
              "      <td>/content/images/Riped and Unriped tomato Datas...</td>\n",
              "      <td>440</td>\n",
              "      <td>551</td>\n",
              "      <td>0.798548</td>\n",
              "      <td>Unripe</td>\n",
              "    </tr>\n",
              "    <tr>\n",
              "      <th>140</th>\n",
              "      <td>/content/images/Riped and Unriped tomato Datas...</td>\n",
              "      <td>800</td>\n",
              "      <td>787</td>\n",
              "      <td>1.016518</td>\n",
              "      <td>Ripe</td>\n",
              "    </tr>\n",
              "    <tr>\n",
              "      <th>91</th>\n",
              "      <td>/content/images/Riped and Unriped tomato Datas...</td>\n",
              "      <td>866</td>\n",
              "      <td>1300</td>\n",
              "      <td>0.666154</td>\n",
              "      <td>Ripe</td>\n",
              "    </tr>\n",
              "    <tr>\n",
              "      <th>5</th>\n",
              "      <td>/content/images/Riped and Unriped tomato Datas...</td>\n",
              "      <td>463</td>\n",
              "      <td>590</td>\n",
              "      <td>0.784746</td>\n",
              "      <td>Ripe</td>\n",
              "    </tr>\n",
              "    <tr>\n",
              "      <th>262</th>\n",
              "      <td>/content/images/Riped and Unriped tomato Datas...</td>\n",
              "      <td>804</td>\n",
              "      <td>800</td>\n",
              "      <td>1.005000</td>\n",
              "      <td>Unripe</td>\n",
              "    </tr>\n",
              "    <tr>\n",
              "      <th>230</th>\n",
              "      <td>/content/images/Riped and Unriped tomato Datas...</td>\n",
              "      <td>573</td>\n",
              "      <td>840</td>\n",
              "      <td>0.682143</td>\n",
              "      <td>Unripe</td>\n",
              "    </tr>\n",
              "  </tbody>\n",
              "</table>\n",
              "</div>\n",
              "      <button class=\"colab-df-convert\" onclick=\"convertToInteractive('df-3df33874-d1d9-41bf-b069-740579da07ab')\"\n",
              "              title=\"Convert this dataframe to an interactive table.\"\n",
              "              style=\"display:none;\">\n",
              "        \n",
              "  <svg xmlns=\"http://www.w3.org/2000/svg\" height=\"24px\"viewBox=\"0 0 24 24\"\n",
              "       width=\"24px\">\n",
              "    <path d=\"M0 0h24v24H0V0z\" fill=\"none\"/>\n",
              "    <path d=\"M18.56 5.44l.94 2.06.94-2.06 2.06-.94-2.06-.94-.94-2.06-.94 2.06-2.06.94zm-11 1L8.5 8.5l.94-2.06 2.06-.94-2.06-.94L8.5 2.5l-.94 2.06-2.06.94zm10 10l.94 2.06.94-2.06 2.06-.94-2.06-.94-.94-2.06-.94 2.06-2.06.94z\"/><path d=\"M17.41 7.96l-1.37-1.37c-.4-.4-.92-.59-1.43-.59-.52 0-1.04.2-1.43.59L10.3 9.45l-7.72 7.72c-.78.78-.78 2.05 0 2.83L4 21.41c.39.39.9.59 1.41.59.51 0 1.02-.2 1.41-.59l7.78-7.78 2.81-2.81c.8-.78.8-2.07 0-2.86zM5.41 20L4 18.59l7.72-7.72 1.47 1.35L5.41 20z\"/>\n",
              "  </svg>\n",
              "      </button>\n",
              "      \n",
              "  <style>\n",
              "    .colab-df-container {\n",
              "      display:flex;\n",
              "      flex-wrap:wrap;\n",
              "      gap: 12px;\n",
              "    }\n",
              "\n",
              "    .colab-df-convert {\n",
              "      background-color: #E8F0FE;\n",
              "      border: none;\n",
              "      border-radius: 50%;\n",
              "      cursor: pointer;\n",
              "      display: none;\n",
              "      fill: #1967D2;\n",
              "      height: 32px;\n",
              "      padding: 0 0 0 0;\n",
              "      width: 32px;\n",
              "    }\n",
              "\n",
              "    .colab-df-convert:hover {\n",
              "      background-color: #E2EBFA;\n",
              "      box-shadow: 0px 1px 2px rgba(60, 64, 67, 0.3), 0px 1px 3px 1px rgba(60, 64, 67, 0.15);\n",
              "      fill: #174EA6;\n",
              "    }\n",
              "\n",
              "    [theme=dark] .colab-df-convert {\n",
              "      background-color: #3B4455;\n",
              "      fill: #D2E3FC;\n",
              "    }\n",
              "\n",
              "    [theme=dark] .colab-df-convert:hover {\n",
              "      background-color: #434B5C;\n",
              "      box-shadow: 0px 1px 3px 1px rgba(0, 0, 0, 0.15);\n",
              "      filter: drop-shadow(0px 1px 2px rgba(0, 0, 0, 0.3));\n",
              "      fill: #FFFFFF;\n",
              "    }\n",
              "  </style>\n",
              "\n",
              "      <script>\n",
              "        const buttonEl =\n",
              "          document.querySelector('#df-3df33874-d1d9-41bf-b069-740579da07ab button.colab-df-convert');\n",
              "        buttonEl.style.display =\n",
              "          google.colab.kernel.accessAllowed ? 'block' : 'none';\n",
              "\n",
              "        async function convertToInteractive(key) {\n",
              "          const element = document.querySelector('#df-3df33874-d1d9-41bf-b069-740579da07ab');\n",
              "          const dataTable =\n",
              "            await google.colab.kernel.invokeFunction('convertToInteractive',\n",
              "                                                     [key], {});\n",
              "          if (!dataTable) return;\n",
              "\n",
              "          const docLinkHtml = 'Like what you see? Visit the ' +\n",
              "            '<a target=\"_blank\" href=https://colab.research.google.com/notebooks/data_table.ipynb>data table notebook</a>'\n",
              "            + ' to learn more about interactive tables.';\n",
              "          element.innerHTML = '';\n",
              "          dataTable['output_type'] = 'display_data';\n",
              "          await google.colab.output.renderOutput(dataTable, element);\n",
              "          const docLink = document.createElement('div');\n",
              "          docLink.innerHTML = docLinkHtml;\n",
              "          element.appendChild(docLink);\n",
              "        }\n",
              "      </script>\n",
              "    </div>\n",
              "  </div>\n",
              "  "
            ]
          },
          "metadata": {},
          "execution_count": 17
        }
      ]
    },
    {
      "cell_type": "markdown",
      "source": [
        "Kemudian kita pisahkan sampel data tadi dari *dataset* aslinya."
      ],
      "metadata": {
        "id": "8n_kD8nUB1T7"
      }
    },
    {
      "cell_type": "code",
      "source": [
        "# Reset index pada kedua dataset\n",
        "\n",
        "df_trainvaltest = df.drop(df_inf.index)\n",
        "df_trainvaltest.reset_index(drop = True, inplace = True)\n",
        "df_inf.reset_index(drop = True, inplace = True)"
      ],
      "metadata": {
        "id": "e9EVxdI7xKha"
      },
      "execution_count": 18,
      "outputs": []
    },
    {
      "cell_type": "markdown",
      "source": [
        "### Memisahkan *Data Train*, *Data Val*, dan *Data Test*"
      ],
      "metadata": {
        "id": "ldpPRT_PB5o7"
      }
    },
    {
      "cell_type": "markdown",
      "source": [
        "Setelah kita memisahkan *dataset inference* dengan *dataset* aslinya, kita pisahkan lebih lanjut *dataset* yang sudah dipisahkan menjadi tabel fitur dan tabel target. Pada kasus ini target yang dipilih adalah kolom `Label`. Kemudian setelah itu kita akan pisahkan *dataset* menjadi *dataset train*, *dataset val*, dan *dataset test* dengan perbandingan 7:3:1."
      ],
      "metadata": {
        "id": "_Gyl_KNNB-e9"
      }
    },
    {
      "cell_type": "code",
      "source": [
        "# Pemisahan fitur dan target\n",
        "\n",
        "x = df_trainvaltest.drop(\"Label\", axis = 1)\n",
        "y = df_trainvaltest[\"Label\"]\n",
        "\n",
        "# Pemisahan Dataset Train (70%)\n",
        "\n",
        "x_train, x_valtest, y_train, y_valtest = train_test_split(x, y, test_size = 0.3, random_state = 14)\n",
        "\n",
        "x_train.reset_index(drop = True, inplace = True)\n",
        "x_valtest.reset_index(drop = True, inplace = True)\n",
        "y_train.reset_index(drop = True, inplace = True)\n",
        "y_valtest.reset_index(drop = True, inplace = True)\n",
        "\n",
        "# Pemisahan Dataset Validation (20%) dan Dataset Test (10%)\n",
        "\n",
        "x_val, x_test, y_val, y_test = train_test_split(x_valtest, y_valtest, test_size = 0.33, random_state = 14)\n",
        "\n",
        "x_val.reset_index(drop = True, inplace = True)\n",
        "x_test.reset_index(drop = True, inplace = True)\n",
        "y_val.reset_index(drop = True, inplace = True)\n",
        "y_test.reset_index(drop = True, inplace = True)\n",
        "\n",
        "# Penggabungan Fitur dan Target\n",
        "\n",
        "df_train = pd.concat([x_train, y_train], axis = 1)\n",
        "df_val = pd.concat([x_val, y_val], axis = 1)\n",
        "df_test = pd.concat([x_test, y_test], axis = 1)"
      ],
      "metadata": {
        "id": "N5UImVSIxTyh"
      },
      "execution_count": 19,
      "outputs": []
    },
    {
      "cell_type": "markdown",
      "source": [
        "Kemudian kita akan periksa dimensi data yang akan diolah."
      ],
      "metadata": {
        "id": "DBvz4no7CYno"
      }
    },
    {
      "cell_type": "code",
      "source": [
        "print(\"Train Size:\", x_train.shape)\n",
        "print(\"Val Size:\", x_val.shape)\n",
        "print(\"Test Size:\", x_test.shape)"
      ],
      "metadata": {
        "id": "pMhhMu1RiCRn",
        "colab": {
          "base_uri": "https://localhost:8080/"
        },
        "outputId": "64705959-5b4f-4837-f03a-ab82f4d27084"
      },
      "execution_count": 20,
      "outputs": [
        {
          "output_type": "stream",
          "name": "stdout",
          "text": [
            "Train Size: (197, 4)\n",
            "Val Size: (56, 4)\n",
            "Test Size: (29, 4)\n"
          ]
        }
      ]
    },
    {
      "cell_type": "markdown",
      "source": [
        "### Mempersiapkan Data Untuk Dimasukkan ke Dalam Model"
      ],
      "metadata": {
        "id": "wnWfoo9TO8tv"
      }
    },
    {
      "cell_type": "markdown",
      "source": [
        "*Dataset* yang sudah kita pisahkan tadi harus kita persiapkan untuk dimasukkan ke dalam model nantinya. Kita akan tentukan terlebih dahulu berapa ukuran gambar yang akan dimasukkan ke dalam model dan dalam berapa kelompok."
      ],
      "metadata": {
        "id": "hsNjHd5WPLF4"
      }
    },
    {
      "cell_type": "code",
      "source": [
        "img_height = 300\n",
        "img_width = 300\n",
        "SEED = 6\n",
        "BATCH = 8"
      ],
      "metadata": {
        "id": "EiOhIz6pCbnB"
      },
      "execution_count": 21,
      "outputs": []
    },
    {
      "cell_type": "markdown",
      "source": [
        "Setelah itu kita akan membuat fungsi proses gambar dengan menggunakan `keras.preprocessing.image.ImageDataGenerator`. Di sini kita akan lakukan *rescaling* mengingat gambar memiliki rentang 0 sampai 255 pixel."
      ],
      "metadata": {
        "id": "JX9JUJnRPfsP"
      }
    },
    {
      "cell_type": "code",
      "source": [
        "# create image generator\n",
        "\n",
        "train_datagen = keras.preprocessing.image.ImageDataGenerator(\n",
        "    rescale = 1./255,\n",
        "    rotation_range = 0.1,\n",
        "    width_shift_range = 0.2,\n",
        "    height_shift_range = 0.2,\n",
        "    shear_range = 0.2,\n",
        "    zoom_range = 0.2,\n",
        "    horizontal_flip = True)\n",
        "\n",
        "val_datagen = keras.preprocessing.image.ImageDataGenerator(rescale = 1./255)\n",
        "test_datagen = keras.preprocessing.image.ImageDataGenerator(rescale = 1./255)"
      ],
      "metadata": {
        "id": "cVN1gtTRpnWV"
      },
      "execution_count": 22,
      "outputs": []
    },
    {
      "cell_type": "markdown",
      "source": [
        "Kemudian kita akan masukkan *dataset* yang telah dibuat ke dalam fungsi proses gambar masing-masing, di mana kolom `x` merupakan gambar yang akan diproses dan kolom `y` merupakan kolom label gambar."
      ],
      "metadata": {
        "id": "IQAp-FlqPz7_"
      }
    },
    {
      "cell_type": "code",
      "source": [
        "# dari dataframe bukan directory\n",
        "ds_train = train_datagen.flow_from_dataframe(\n",
        "    dataframe = df_train,\n",
        "    x_col = \"ImagePath\",\n",
        "    y_col = \"Label\",\n",
        "    target_size = (img_height, img_width), \n",
        "    class_mode = \"binary\",\n",
        "    batch_size = BATCH,\n",
        "    shuffle = True,\n",
        "    seed = SEED)\n",
        "\n",
        "ds_val = val_datagen.flow_from_dataframe(\n",
        "    dataframe = df_val,\n",
        "    x_col = \"ImagePath\",\n",
        "    y_col = \"Label\",\n",
        "    target_size = (img_height, img_width),\n",
        "    class_mode = \"binary\",\n",
        "    batch_size = BATCH,\n",
        "    shuffle = False,\n",
        "    seed = SEED)\n",
        "\n",
        "ds_test = test_datagen.flow_from_dataframe(\n",
        "    dataframe = df_test,\n",
        "    x_col = \"ImagePath\",\n",
        "    y_col = \"Label\",\n",
        "    target_size = (img_height, img_width),\n",
        "    class_mode = \"binary\",\n",
        "    batch_size = BATCH,\n",
        "    seed = SEED)"
      ],
      "metadata": {
        "id": "AkSt_E_gprz8",
        "colab": {
          "base_uri": "https://localhost:8080/"
        },
        "outputId": "3bba1d97-e3aa-4e55-8267-2775b61c2e1f"
      },
      "execution_count": 23,
      "outputs": [
        {
          "output_type": "stream",
          "name": "stdout",
          "text": [
            "Found 197 validated image filenames belonging to 2 classes.\n",
            "Found 56 validated image filenames belonging to 2 classes.\n",
            "Found 29 validated image filenames belonging to 2 classes.\n"
          ]
        }
      ]
    },
    {
      "cell_type": "markdown",
      "source": [
        "Kemudian kita akan periksa kelas apa berkorespondensi dengan bilangan mana."
      ],
      "metadata": {
        "id": "R5ySczVYQPtQ"
      }
    },
    {
      "cell_type": "code",
      "source": [
        "ds_train.class_indices"
      ],
      "metadata": {
        "id": "-qTR7WPPqrFE",
        "colab": {
          "base_uri": "https://localhost:8080/"
        },
        "outputId": "431ebb64-b6a2-4bf9-89d3-a822b3a0b1de"
      },
      "execution_count": 24,
      "outputs": [
        {
          "output_type": "execute_result",
          "data": {
            "text/plain": [
              "{'Ripe': 0, 'Unripe': 1}"
            ]
          },
          "metadata": {},
          "execution_count": 24
        }
      ]
    },
    {
      "cell_type": "markdown",
      "source": [
        "Dari perintah di atas kita dapat mengetahui bahwa label `Ripe` berkorespondensi dengan label `0` dan label `Unripe` berkorespondensi dengan label `1`."
      ],
      "metadata": {
        "id": "sR0TnBJWQWoj"
      }
    },
    {
      "cell_type": "markdown",
      "source": [
        "## Model Construction"
      ],
      "metadata": {
        "id": "4zapc1SYQkNi"
      }
    },
    {
      "cell_type": "markdown",
      "source": [
        "### *Base Model*"
      ],
      "metadata": {
        "id": "e8FSRBtxQnv3"
      }
    },
    {
      "cell_type": "markdown",
      "source": [
        "Sebagai acuan, kita akan membuat model dasar yang terdiri dari 3 pasang lapisan `Conv2D` 16 *filter* dan `MaxPooling2D` yang berfungsi untuk mengolah data gambar, kemudian diratakan dan dihubungkan dengan lapisan `Dense` sebelum dihubungkan dengan lapisan klasifikasi *output*. Model ini merupakan model yang sangat umum digunakan untuk melakukan klasifikasi gambar.\n",
        "\n",
        "Untuk proses *compile*, model ini akan menggunakan *optimizer* Adam yang umumnya merupakan *optimizer* terbaik, pengukuran fungsi *loss* menggunakan *binary cross entropy* karena kita akan melakukan klasifikasi biner, dan metrik pengukuran berupa akurasi karena data yang kita miliki kurang-lebih seimbang."
      ],
      "metadata": {
        "id": "v6h4QNE9Qx3_"
      }
    },
    {
      "cell_type": "code",
      "source": [
        "inputs = [img_height, img_width, 3]\n",
        "\n",
        "basemodel = keras.models.Sequential([\n",
        "    keras.layers.Conv2D(16, 3, activation = \"relu\", input_shape = inputs),\n",
        "    keras.layers.MaxPooling2D(),\n",
        "    keras.layers.Conv2D(16, 3, activation = \"relu\"),\n",
        "    keras.layers.MaxPooling2D(),\n",
        "    keras.layers.Conv2D(16, 3, activation = \"relu\"),\n",
        "    keras.layers.MaxPooling2D(),\n",
        "    keras.layers.Flatten(),\n",
        "    keras.layers.Dense(16, activation = \"relu\"),\n",
        "    keras.layers.Dense(1, activation = \"sigmoid\")\n",
        "])\n",
        "\n",
        "basemodel.compile(optimizer = \"Adam\", loss = \"binary_crossentropy\", metrics = [\"accuracy\"])\n",
        "\n",
        "basemodel.summary()"
      ],
      "metadata": {
        "id": "2Zfie8-jv4Dn",
        "colab": {
          "base_uri": "https://localhost:8080/"
        },
        "outputId": "fb15047f-5552-46ea-bc66-b552645bd31e"
      },
      "execution_count": 25,
      "outputs": [
        {
          "output_type": "stream",
          "name": "stdout",
          "text": [
            "Model: \"sequential\"\n",
            "_________________________________________________________________\n",
            " Layer (type)                Output Shape              Param #   \n",
            "=================================================================\n",
            " conv2d (Conv2D)             (None, 298, 298, 16)      448       \n",
            "                                                                 \n",
            " max_pooling2d (MaxPooling2D  (None, 149, 149, 16)     0         \n",
            " )                                                               \n",
            "                                                                 \n",
            " conv2d_1 (Conv2D)           (None, 147, 147, 16)      2320      \n",
            "                                                                 \n",
            " max_pooling2d_1 (MaxPooling  (None, 73, 73, 16)       0         \n",
            " 2D)                                                             \n",
            "                                                                 \n",
            " conv2d_2 (Conv2D)           (None, 71, 71, 16)        2320      \n",
            "                                                                 \n",
            " max_pooling2d_2 (MaxPooling  (None, 35, 35, 16)       0         \n",
            " 2D)                                                             \n",
            "                                                                 \n",
            " flatten (Flatten)           (None, 19600)             0         \n",
            "                                                                 \n",
            " dense (Dense)               (None, 16)                313616    \n",
            "                                                                 \n",
            " dense_1 (Dense)             (None, 1)                 17        \n",
            "                                                                 \n",
            "=================================================================\n",
            "Total params: 318,721\n",
            "Trainable params: 318,721\n",
            "Non-trainable params: 0\n",
            "_________________________________________________________________\n"
          ]
        }
      ]
    },
    {
      "cell_type": "markdown",
      "source": [
        "Setelah model selesai di-*compile*, kita akan latih model tersebut. Untuk model dasar ini kita hanya akan menggunakan 20 epoch saja."
      ],
      "metadata": {
        "id": "050ue--pTQRp"
      }
    },
    {
      "cell_type": "code",
      "source": [
        "history_base = basemodel.fit(ds_train, batch_size = BATCH, \n",
        "                           epochs = 20, validation_data = ds_val)"
      ],
      "metadata": {
        "id": "ptmwu28JwOuh",
        "colab": {
          "base_uri": "https://localhost:8080/"
        },
        "outputId": "5ca56d51-de13-4a92-d234-02cf75ba7bfd"
      },
      "execution_count": 26,
      "outputs": [
        {
          "output_type": "stream",
          "name": "stdout",
          "text": [
            "Epoch 1/20\n",
            "25/25 [==============================] - 25s 479ms/step - loss: 0.5875 - accuracy: 0.7310 - val_loss: 0.3053 - val_accuracy: 0.9107\n",
            "Epoch 2/20\n",
            "25/25 [==============================] - 12s 469ms/step - loss: 0.2973 - accuracy: 0.8832 - val_loss: 0.3400 - val_accuracy: 0.9286\n",
            "Epoch 3/20\n",
            "25/25 [==============================] - 12s 470ms/step - loss: 0.2886 - accuracy: 0.8883 - val_loss: 0.4266 - val_accuracy: 0.9107\n",
            "Epoch 4/20\n",
            "25/25 [==============================] - 12s 467ms/step - loss: 0.2991 - accuracy: 0.8680 - val_loss: 0.3089 - val_accuracy: 0.8929\n",
            "Epoch 5/20\n",
            "25/25 [==============================] - 12s 467ms/step - loss: 0.2967 - accuracy: 0.8934 - val_loss: 0.2813 - val_accuracy: 0.9107\n",
            "Epoch 6/20\n",
            "25/25 [==============================] - 12s 499ms/step - loss: 0.3163 - accuracy: 0.8985 - val_loss: 0.5573 - val_accuracy: 0.8929\n",
            "Epoch 7/20\n",
            "25/25 [==============================] - 11s 464ms/step - loss: 0.2715 - accuracy: 0.8782 - val_loss: 0.7805 - val_accuracy: 0.7857\n",
            "Epoch 8/20\n",
            "25/25 [==============================] - 12s 438ms/step - loss: 0.3040 - accuracy: 0.8934 - val_loss: 0.3733 - val_accuracy: 0.9107\n",
            "Epoch 9/20\n",
            "25/25 [==============================] - 12s 473ms/step - loss: 0.2656 - accuracy: 0.8985 - val_loss: 0.3890 - val_accuracy: 0.8929\n",
            "Epoch 10/20\n",
            "25/25 [==============================] - 12s 469ms/step - loss: 0.2890 - accuracy: 0.8832 - val_loss: 0.4460 - val_accuracy: 0.8929\n",
            "Epoch 11/20\n",
            "25/25 [==============================] - 12s 448ms/step - loss: 0.2418 - accuracy: 0.9188 - val_loss: 0.3560 - val_accuracy: 0.9107\n",
            "Epoch 12/20\n",
            "25/25 [==============================] - 11s 444ms/step - loss: 0.2638 - accuracy: 0.8832 - val_loss: 0.3094 - val_accuracy: 0.9107\n",
            "Epoch 13/20\n",
            "25/25 [==============================] - 11s 468ms/step - loss: 0.2344 - accuracy: 0.8985 - val_loss: 0.2913 - val_accuracy: 0.9107\n",
            "Epoch 14/20\n",
            "25/25 [==============================] - 12s 466ms/step - loss: 0.2646 - accuracy: 0.9036 - val_loss: 0.2803 - val_accuracy: 0.9107\n",
            "Epoch 15/20\n",
            "25/25 [==============================] - 12s 445ms/step - loss: 0.2708 - accuracy: 0.9086 - val_loss: 0.4400 - val_accuracy: 0.8750\n",
            "Epoch 16/20\n",
            "25/25 [==============================] - 12s 469ms/step - loss: 0.2621 - accuracy: 0.9137 - val_loss: 0.3094 - val_accuracy: 0.9107\n",
            "Epoch 17/20\n",
            "25/25 [==============================] - 12s 463ms/step - loss: 0.2426 - accuracy: 0.9036 - val_loss: 0.6546 - val_accuracy: 0.8750\n",
            "Epoch 18/20\n",
            "25/25 [==============================] - 12s 468ms/step - loss: 0.3092 - accuracy: 0.8883 - val_loss: 0.2596 - val_accuracy: 0.9286\n",
            "Epoch 19/20\n",
            "25/25 [==============================] - 12s 444ms/step - loss: 0.2298 - accuracy: 0.9137 - val_loss: 0.3946 - val_accuracy: 0.8929\n",
            "Epoch 20/20\n",
            "25/25 [==============================] - 11s 447ms/step - loss: 0.2366 - accuracy: 0.9086 - val_loss: 0.2732 - val_accuracy: 0.9286\n"
          ]
        }
      ]
    },
    {
      "cell_type": "markdown",
      "source": [
        "Kemudian kita akan periksa perhitungan akurasi dan fungsi *loss* dari model tersebut."
      ],
      "metadata": {
        "id": "IDSZ4BqCTajY"
      }
    },
    {
      "cell_type": "code",
      "source": [
        "metrics_base = pd.DataFrame(history_base.history)\n",
        "metrics_base.describe()"
      ],
      "metadata": {
        "id": "4emlFC2zWoEW",
        "colab": {
          "base_uri": "https://localhost:8080/",
          "height": 300
        },
        "outputId": "51f685e5-4ff0-46e4-d402-c02c9ee041f9"
      },
      "execution_count": 27,
      "outputs": [
        {
          "output_type": "execute_result",
          "data": {
            "text/plain": [
              "            loss   accuracy   val_loss  val_accuracy\n",
              "count  20.000000  20.000000  20.000000     20.000000\n",
              "mean    0.288570   0.887817   0.388829      0.899107\n",
              "std     0.075207   0.039213   0.136173      0.030807\n",
              "min     0.229800   0.730964   0.259629      0.785714\n",
              "25%     0.257255   0.883249   0.301789      0.892857\n",
              "50%     0.271145   0.895939   0.348007      0.910714\n",
              "75%     0.297717   0.904822   0.429965      0.910714\n",
              "max     0.587513   0.918782   0.780468      0.928571"
            ],
            "text/html": [
              "\n",
              "  <div id=\"df-04265340-3f63-4483-8fca-0ddb28c5ed5f\">\n",
              "    <div class=\"colab-df-container\">\n",
              "      <div>\n",
              "<style scoped>\n",
              "    .dataframe tbody tr th:only-of-type {\n",
              "        vertical-align: middle;\n",
              "    }\n",
              "\n",
              "    .dataframe tbody tr th {\n",
              "        vertical-align: top;\n",
              "    }\n",
              "\n",
              "    .dataframe thead th {\n",
              "        text-align: right;\n",
              "    }\n",
              "</style>\n",
              "<table border=\"1\" class=\"dataframe\">\n",
              "  <thead>\n",
              "    <tr style=\"text-align: right;\">\n",
              "      <th></th>\n",
              "      <th>loss</th>\n",
              "      <th>accuracy</th>\n",
              "      <th>val_loss</th>\n",
              "      <th>val_accuracy</th>\n",
              "    </tr>\n",
              "  </thead>\n",
              "  <tbody>\n",
              "    <tr>\n",
              "      <th>count</th>\n",
              "      <td>20.000000</td>\n",
              "      <td>20.000000</td>\n",
              "      <td>20.000000</td>\n",
              "      <td>20.000000</td>\n",
              "    </tr>\n",
              "    <tr>\n",
              "      <th>mean</th>\n",
              "      <td>0.288570</td>\n",
              "      <td>0.887817</td>\n",
              "      <td>0.388829</td>\n",
              "      <td>0.899107</td>\n",
              "    </tr>\n",
              "    <tr>\n",
              "      <th>std</th>\n",
              "      <td>0.075207</td>\n",
              "      <td>0.039213</td>\n",
              "      <td>0.136173</td>\n",
              "      <td>0.030807</td>\n",
              "    </tr>\n",
              "    <tr>\n",
              "      <th>min</th>\n",
              "      <td>0.229800</td>\n",
              "      <td>0.730964</td>\n",
              "      <td>0.259629</td>\n",
              "      <td>0.785714</td>\n",
              "    </tr>\n",
              "    <tr>\n",
              "      <th>25%</th>\n",
              "      <td>0.257255</td>\n",
              "      <td>0.883249</td>\n",
              "      <td>0.301789</td>\n",
              "      <td>0.892857</td>\n",
              "    </tr>\n",
              "    <tr>\n",
              "      <th>50%</th>\n",
              "      <td>0.271145</td>\n",
              "      <td>0.895939</td>\n",
              "      <td>0.348007</td>\n",
              "      <td>0.910714</td>\n",
              "    </tr>\n",
              "    <tr>\n",
              "      <th>75%</th>\n",
              "      <td>0.297717</td>\n",
              "      <td>0.904822</td>\n",
              "      <td>0.429965</td>\n",
              "      <td>0.910714</td>\n",
              "    </tr>\n",
              "    <tr>\n",
              "      <th>max</th>\n",
              "      <td>0.587513</td>\n",
              "      <td>0.918782</td>\n",
              "      <td>0.780468</td>\n",
              "      <td>0.928571</td>\n",
              "    </tr>\n",
              "  </tbody>\n",
              "</table>\n",
              "</div>\n",
              "      <button class=\"colab-df-convert\" onclick=\"convertToInteractive('df-04265340-3f63-4483-8fca-0ddb28c5ed5f')\"\n",
              "              title=\"Convert this dataframe to an interactive table.\"\n",
              "              style=\"display:none;\">\n",
              "        \n",
              "  <svg xmlns=\"http://www.w3.org/2000/svg\" height=\"24px\"viewBox=\"0 0 24 24\"\n",
              "       width=\"24px\">\n",
              "    <path d=\"M0 0h24v24H0V0z\" fill=\"none\"/>\n",
              "    <path d=\"M18.56 5.44l.94 2.06.94-2.06 2.06-.94-2.06-.94-.94-2.06-.94 2.06-2.06.94zm-11 1L8.5 8.5l.94-2.06 2.06-.94-2.06-.94L8.5 2.5l-.94 2.06-2.06.94zm10 10l.94 2.06.94-2.06 2.06-.94-2.06-.94-.94-2.06-.94 2.06-2.06.94z\"/><path d=\"M17.41 7.96l-1.37-1.37c-.4-.4-.92-.59-1.43-.59-.52 0-1.04.2-1.43.59L10.3 9.45l-7.72 7.72c-.78.78-.78 2.05 0 2.83L4 21.41c.39.39.9.59 1.41.59.51 0 1.02-.2 1.41-.59l7.78-7.78 2.81-2.81c.8-.78.8-2.07 0-2.86zM5.41 20L4 18.59l7.72-7.72 1.47 1.35L5.41 20z\"/>\n",
              "  </svg>\n",
              "      </button>\n",
              "      \n",
              "  <style>\n",
              "    .colab-df-container {\n",
              "      display:flex;\n",
              "      flex-wrap:wrap;\n",
              "      gap: 12px;\n",
              "    }\n",
              "\n",
              "    .colab-df-convert {\n",
              "      background-color: #E8F0FE;\n",
              "      border: none;\n",
              "      border-radius: 50%;\n",
              "      cursor: pointer;\n",
              "      display: none;\n",
              "      fill: #1967D2;\n",
              "      height: 32px;\n",
              "      padding: 0 0 0 0;\n",
              "      width: 32px;\n",
              "    }\n",
              "\n",
              "    .colab-df-convert:hover {\n",
              "      background-color: #E2EBFA;\n",
              "      box-shadow: 0px 1px 2px rgba(60, 64, 67, 0.3), 0px 1px 3px 1px rgba(60, 64, 67, 0.15);\n",
              "      fill: #174EA6;\n",
              "    }\n",
              "\n",
              "    [theme=dark] .colab-df-convert {\n",
              "      background-color: #3B4455;\n",
              "      fill: #D2E3FC;\n",
              "    }\n",
              "\n",
              "    [theme=dark] .colab-df-convert:hover {\n",
              "      background-color: #434B5C;\n",
              "      box-shadow: 0px 1px 3px 1px rgba(0, 0, 0, 0.15);\n",
              "      filter: drop-shadow(0px 1px 2px rgba(0, 0, 0, 0.3));\n",
              "      fill: #FFFFFF;\n",
              "    }\n",
              "  </style>\n",
              "\n",
              "      <script>\n",
              "        const buttonEl =\n",
              "          document.querySelector('#df-04265340-3f63-4483-8fca-0ddb28c5ed5f button.colab-df-convert');\n",
              "        buttonEl.style.display =\n",
              "          google.colab.kernel.accessAllowed ? 'block' : 'none';\n",
              "\n",
              "        async function convertToInteractive(key) {\n",
              "          const element = document.querySelector('#df-04265340-3f63-4483-8fca-0ddb28c5ed5f');\n",
              "          const dataTable =\n",
              "            await google.colab.kernel.invokeFunction('convertToInteractive',\n",
              "                                                     [key], {});\n",
              "          if (!dataTable) return;\n",
              "\n",
              "          const docLinkHtml = 'Like what you see? Visit the ' +\n",
              "            '<a target=\"_blank\" href=https://colab.research.google.com/notebooks/data_table.ipynb>data table notebook</a>'\n",
              "            + ' to learn more about interactive tables.';\n",
              "          element.innerHTML = '';\n",
              "          dataTable['output_type'] = 'display_data';\n",
              "          await google.colab.output.renderOutput(dataTable, element);\n",
              "          const docLink = document.createElement('div');\n",
              "          docLink.innerHTML = docLinkHtml;\n",
              "          element.appendChild(docLink);\n",
              "        }\n",
              "      </script>\n",
              "    </div>\n",
              "  </div>\n",
              "  "
            ]
          },
          "metadata": {},
          "execution_count": 27
        }
      ]
    },
    {
      "cell_type": "markdown",
      "source": [
        "Dari perintah di atas, kita dapat mengetahui bahwa rata-rata akurasi dari model adalah sebesar 88.78% dengan rata-rata akurasi validasi sebesar 89.91%, serta model memiliki penalti rata-rata sebesar 0.2886 dengan penalti rata-rata validasi sebesar 0.3888. Untuk lebih jelasnya, kita dapat membuat grafik untuk menvisualisasikan akurasi model tersebut."
      ],
      "metadata": {
        "id": "SZYC1SCTTj-6"
      }
    },
    {
      "cell_type": "code",
      "source": [
        "metrics_base[[\"accuracy\", \"val_accuracy\", \"loss\", \"val_loss\"]].plot()"
      ],
      "metadata": {
        "id": "nprLp-tSXzoF",
        "colab": {
          "base_uri": "https://localhost:8080/",
          "height": 282
        },
        "outputId": "7bcc562d-17af-4440-d964-a5f160163580"
      },
      "execution_count": 28,
      "outputs": [
        {
          "output_type": "execute_result",
          "data": {
            "text/plain": [
              "<matplotlib.axes._subplots.AxesSubplot at 0x7fbb0e01bc50>"
            ]
          },
          "metadata": {},
          "execution_count": 28
        },
        {
          "output_type": "display_data",
          "data": {
            "text/plain": [
              "<Figure size 432x288 with 1 Axes>"
            ],
            "image/png": "[encoded data removed]"
          },
          "metadata": {
            "needs_background": "light"
          }
        }
      ]
    },
    {
      "cell_type": "markdown",
      "source": [
        "Dari grafik di atas dapat terlihat bahwa nilai pinalti dari *validation loss* melonjak naik pada model ini. Meskipun begitu, nilai akurasi dan validasi akurasinya berada pada nilai yang cukup tinggi.\n",
        "\n",
        "Untuk melihat laporan klasifikasi dan matriks *confusion*, kita akan lakukan *encoding* terlebih dahulu pada tabel *y_train*, *y_test*, dan *y_val*."
      ],
      "metadata": {
        "id": "jg5VTrF_TnrR"
      }
    },
    {
      "cell_type": "code",
      "source": [
        "le = LabelEncoder()\n",
        "y_train_encoded = le.fit_transform(y_train)\n",
        "y_val_encoded = le.fit_transform(y_val)\n",
        "y_test_encoded = le.fit_transform(y_test)"
      ],
      "metadata": {
        "id": "Ym8G04IewJ5D"
      },
      "execution_count": 29,
      "outputs": []
    },
    {
      "cell_type": "markdown",
      "source": [
        "Kemudian kita akan prediksikan klasifikasi pada *dataset test* ke dalam model dasar yang tadi sudah dilatih."
      ],
      "metadata": {
        "id": "uF9gQ2TkVWai"
      }
    },
    {
      "cell_type": "code",
      "source": [
        "y_testpred_base = basemodel.predict(ds_test).round(decimals = 0)\n",
        "\n",
        "print(\"---Base Model Test Report---\")\n",
        "print(classification_report(y_test_encoded, y_testpred_base))"
      ],
      "metadata": {
        "id": "31RiPWtef8l0",
        "colab": {
          "base_uri": "https://localhost:8080/"
        },
        "outputId": "b37e0844-986f-494d-af4f-1f696e0a3ee3"
      },
      "execution_count": 30,
      "outputs": [
        {
          "output_type": "stream",
          "name": "stdout",
          "text": [
            "---Base Model Test Report---\n",
            "              precision    recall  f1-score   support\n",
            "\n",
            "           0       0.62      0.62      0.62        16\n",
            "           1       0.54      0.54      0.54        13\n",
            "\n",
            "    accuracy                           0.59        29\n",
            "   macro avg       0.58      0.58      0.58        29\n",
            "weighted avg       0.59      0.59      0.59        29\n",
            "\n"
          ]
        }
      ]
    },
    {
      "cell_type": "markdown",
      "source": [
        "Dari model di atas kita dapat melihat bahwa *recall* untuk label `Ripe` adalah sebesar 62% dan untuk label `Unripe` adalah sebesar 54%. Nilai ini menunjukkan bahwa model yang kita buat sangat *overfit* untuk *dataset* yang kita gunakan.\n",
        "\n",
        "Kemudian kita akan lihat matriks *confusion*-nya."
      ],
      "metadata": {
        "id": "qf6Q1Jz8VlBi"
      }
    },
    {
      "cell_type": "code",
      "source": [
        "ConfusionMatrixDisplay(confusion_matrix(y_test_encoded, y_testpred_base)).plot()\n",
        "plt.show()"
      ],
      "metadata": {
        "id": "xQQzY9VUx0pC",
        "colab": {
          "base_uri": "https://localhost:8080/",
          "height": 283
        },
        "outputId": "40862409-b3a5-4d58-8579-8fb4b73214ec"
      },
      "execution_count": 31,
      "outputs": [
        {
          "output_type": "display_data",
          "data": {
            "text/plain": [
              "<Figure size 432x288 with 2 Axes>"
            ],
            "image/png": "[encoded data removed]"
          },
          "metadata": {
            "needs_background": "light"
          }
        }
      ]
    },
    {
      "cell_type": "markdown",
      "source": [
        "Dari matriks di atas dapat terlihat bahwa tingkat *recall* model masih buruk, terlihat dari banyaknya gambar tomat matang yang diidentifikasi sebagai tomat tidak matang dan sebaliknya, sebanyak 12 gambar."
      ],
      "metadata": {
        "id": "RIPlgJEUS7gk"
      }
    },
    {
      "cell_type": "markdown",
      "source": [
        "## *Model Improvement*"
      ],
      "metadata": {
        "id": "cU1omwVjT28p"
      }
    },
    {
      "cell_type": "markdown",
      "source": [
        "Pada bagian ini kita akan mencoba mengubah bagian-bagian dari model untuk melihat bagaimana pengaruhnya pada saat melakukan pelatihan."
      ],
      "metadata": {
        "id": "8C5s-NR4TP0r"
      }
    },
    {
      "cell_type": "markdown",
      "source": [
        "### Model #1: Penambahan *Filter* dan *Node*"
      ],
      "metadata": {
        "id": "MxSy84PnT7J5"
      }
    },
    {
      "cell_type": "markdown",
      "source": [
        "Pada model ini kita akan mencoba menambahkan jumlah *node* ke dalam model. Selain itu, kita akan melakukan penggandaan jumlah *filter* dalam lapisan `Conv2D` secara bertahap.\n",
        "\n",
        "Kita juga akan menerapkan fungsi yang dapat memberhentikan perhitungan jika nilai *validation loss*-nya sudah stabil."
      ],
      "metadata": {
        "id": "oBe9VJYaUFl_"
      }
    },
    {
      "cell_type": "code",
      "source": [
        "inputs = [img_height, img_width, 3]\n",
        "\n",
        "model_1 = keras.models.Sequential([\n",
        "    keras.layers.Conv2D(16, 3, activation = \"relu\", input_shape = inputs),\n",
        "    keras.layers.MaxPooling2D(),\n",
        "    keras.layers.Conv2D(32, 3, activation = \"relu\"),\n",
        "    keras.layers.MaxPooling2D(),\n",
        "    keras.layers.Conv2D(64, 3, activation = \"relu\"),\n",
        "    keras.layers.MaxPooling2D(),\n",
        "    keras.layers.Conv2D(128, 3, activation = \"relu\"),\n",
        "    keras.layers.MaxPooling2D(),\n",
        "    keras.layers.Flatten(),\n",
        "    keras.layers.Dense(256, activation = \"relu\"),\n",
        "    keras.layers.Dense(1, activation = \"sigmoid\")\n",
        "])\n",
        "\n",
        "stopper = tf.keras.callbacks.EarlyStopping(monitor = \"val_loss\", patience = 15)\n",
        "\n",
        "model_1.compile(optimizer = \"Adam\", loss = \"binary_crossentropy\", metrics = [\"accuracy\"])\n",
        "\n",
        "model_1.summary()"
      ],
      "metadata": {
        "id": "JrqHlle6X1jm",
        "colab": {
          "base_uri": "https://localhost:8080/"
        },
        "outputId": "e626abfa-11ff-4271-d242-c6a8baa161cc"
      },
      "execution_count": 32,
      "outputs": [
        {
          "output_type": "stream",
          "name": "stdout",
          "text": [
            "Model: \"sequential_1\"\n",
            "_________________________________________________________________\n",
            " Layer (type)                Output Shape              Param #   \n",
            "=================================================================\n",
            " conv2d_3 (Conv2D)           (None, 298, 298, 16)      448       \n",
            "                                                                 \n",
            " max_pooling2d_3 (MaxPooling  (None, 149, 149, 16)     0         \n",
            " 2D)                                                             \n",
            "                                                                 \n",
            " conv2d_4 (Conv2D)           (None, 147, 147, 32)      4640      \n",
            "                                                                 \n",
            " max_pooling2d_4 (MaxPooling  (None, 73, 73, 32)       0         \n",
            " 2D)                                                             \n",
            "                                                                 \n",
            " conv2d_5 (Conv2D)           (None, 71, 71, 64)        18496     \n",
            "                                                                 \n",
            " max_pooling2d_5 (MaxPooling  (None, 35, 35, 64)       0         \n",
            " 2D)                                                             \n",
            "                                                                 \n",
            " conv2d_6 (Conv2D)           (None, 33, 33, 128)       73856     \n",
            "                                                                 \n",
            " max_pooling2d_6 (MaxPooling  (None, 16, 16, 128)      0         \n",
            " 2D)                                                             \n",
            "                                                                 \n",
            " flatten_1 (Flatten)         (None, 32768)             0         \n",
            "                                                                 \n",
            " dense_2 (Dense)             (None, 256)               8388864   \n",
            "                                                                 \n",
            " dense_3 (Dense)             (None, 1)                 257       \n",
            "                                                                 \n",
            "=================================================================\n",
            "Total params: 8,486,561\n",
            "Trainable params: 8,486,561\n",
            "Non-trainable params: 0\n",
            "_________________________________________________________________\n"
          ]
        }
      ]
    },
    {
      "cell_type": "markdown",
      "source": [
        "Setelah model selesai di-*compile*, kita akan latih model tersebut. Untuk model ini kita akan menggunakan 200 epoch."
      ],
      "metadata": {
        "id": "NrvYCklYWIbh"
      }
    },
    {
      "cell_type": "code",
      "source": [
        "history_1 = model_1.fit(ds_train, batch_size = BATCH, \n",
        "                           epochs = 200, validation_data = ds_val, callbacks = stopper)"
      ],
      "metadata": {
        "id": "CZ7Uzz8CYk2q",
        "colab": {
          "base_uri": "https://localhost:8080/"
        },
        "outputId": "7c2fb4a8-7527-435f-9288-adf7848c6f1f"
      },
      "execution_count": 33,
      "outputs": [
        {
          "output_type": "stream",
          "name": "stdout",
          "text": [
            "Epoch 1/200\n",
            "25/25 [==============================] - 13s 483ms/step - loss: 0.5885 - accuracy: 0.7259 - val_loss: 0.5310 - val_accuracy: 0.8929\n",
            "Epoch 2/200\n",
            "25/25 [==============================] - 12s 480ms/step - loss: 0.3216 - accuracy: 0.8934 - val_loss: 0.4944 - val_accuracy: 0.9107\n",
            "Epoch 3/200\n",
            "25/25 [==============================] - 12s 474ms/step - loss: 0.3490 - accuracy: 0.8680 - val_loss: 0.3875 - val_accuracy: 0.9107\n",
            "Epoch 4/200\n",
            "25/25 [==============================] - 12s 465ms/step - loss: 0.2532 - accuracy: 0.8883 - val_loss: 0.5833 - val_accuracy: 0.9107\n",
            "Epoch 5/200\n",
            "25/25 [==============================] - 12s 474ms/step - loss: 0.2929 - accuracy: 0.8782 - val_loss: 0.3128 - val_accuracy: 0.9286\n",
            "Epoch 6/200\n",
            "25/25 [==============================] - 12s 475ms/step - loss: 0.3695 - accuracy: 0.8477 - val_loss: 0.3739 - val_accuracy: 0.9107\n",
            "Epoch 7/200\n",
            "25/25 [==============================] - 12s 469ms/step - loss: 0.2857 - accuracy: 0.8731 - val_loss: 0.4353 - val_accuracy: 0.8929\n",
            "Epoch 8/200\n",
            "25/25 [==============================] - 12s 460ms/step - loss: 0.2999 - accuracy: 0.8782 - val_loss: 0.3900 - val_accuracy: 0.9107\n",
            "Epoch 9/200\n",
            "25/25 [==============================] - 12s 473ms/step - loss: 0.2745 - accuracy: 0.8832 - val_loss: 0.5090 - val_accuracy: 0.8393\n",
            "Epoch 10/200\n",
            "25/25 [==============================] - 12s 478ms/step - loss: 0.2410 - accuracy: 0.9188 - val_loss: 0.3647 - val_accuracy: 0.9107\n",
            "Epoch 11/200\n",
            "25/25 [==============================] - 12s 470ms/step - loss: 0.2647 - accuracy: 0.8782 - val_loss: 0.4824 - val_accuracy: 0.8571\n",
            "Epoch 12/200\n",
            "25/25 [==============================] - 12s 471ms/step - loss: 0.2632 - accuracy: 0.8985 - val_loss: 0.3951 - val_accuracy: 0.9107\n",
            "Epoch 13/200\n",
            "25/25 [==============================] - 12s 469ms/step - loss: 0.2467 - accuracy: 0.8985 - val_loss: 0.4266 - val_accuracy: 0.8571\n",
            "Epoch 14/200\n",
            "25/25 [==============================] - 12s 472ms/step - loss: 0.2994 - accuracy: 0.9137 - val_loss: 0.3057 - val_accuracy: 0.8929\n",
            "Epoch 15/200\n",
            "25/25 [==============================] - 12s 446ms/step - loss: 0.2356 - accuracy: 0.9137 - val_loss: 0.4104 - val_accuracy: 0.8750\n",
            "Epoch 16/200\n",
            "25/25 [==============================] - 12s 473ms/step - loss: 0.2242 - accuracy: 0.9289 - val_loss: 0.3566 - val_accuracy: 0.9107\n",
            "Epoch 17/200\n",
            "25/25 [==============================] - 12s 473ms/step - loss: 0.2403 - accuracy: 0.9086 - val_loss: 0.3351 - val_accuracy: 0.9107\n",
            "Epoch 18/200\n",
            "25/25 [==============================] - 12s 457ms/step - loss: 0.2263 - accuracy: 0.9188 - val_loss: 0.2601 - val_accuracy: 0.9107\n",
            "Epoch 19/200\n",
            "25/25 [==============================] - 12s 469ms/step - loss: 0.2181 - accuracy: 0.9086 - val_loss: 0.2631 - val_accuracy: 0.8929\n",
            "Epoch 20/200\n",
            "25/25 [==============================] - 12s 472ms/step - loss: 0.2333 - accuracy: 0.8985 - val_loss: 0.2898 - val_accuracy: 0.9107\n",
            "Epoch 21/200\n",
            "25/25 [==============================] - 12s 466ms/step - loss: 0.2315 - accuracy: 0.9188 - val_loss: 0.6910 - val_accuracy: 0.7500\n",
            "Epoch 22/200\n",
            "25/25 [==============================] - 12s 472ms/step - loss: 0.2565 - accuracy: 0.9137 - val_loss: 0.4520 - val_accuracy: 0.9107\n",
            "Epoch 23/200\n",
            "25/25 [==============================] - 12s 470ms/step - loss: 0.2494 - accuracy: 0.9137 - val_loss: 0.3783 - val_accuracy: 0.9286\n",
            "Epoch 24/200\n",
            "25/25 [==============================] - 12s 443ms/step - loss: 0.2151 - accuracy: 0.9036 - val_loss: 0.2932 - val_accuracy: 0.8929\n",
            "Epoch 25/200\n",
            "25/25 [==============================] - 12s 434ms/step - loss: 0.2377 - accuracy: 0.8985 - val_loss: 0.3164 - val_accuracy: 0.9107\n",
            "Epoch 26/200\n",
            "25/25 [==============================] - 12s 467ms/step - loss: 0.1949 - accuracy: 0.9289 - val_loss: 0.4370 - val_accuracy: 0.9107\n",
            "Epoch 27/200\n",
            "25/25 [==============================] - 12s 476ms/step - loss: 0.2341 - accuracy: 0.8883 - val_loss: 0.2958 - val_accuracy: 0.8929\n",
            "Epoch 28/200\n",
            "25/25 [==============================] - 12s 483ms/step - loss: 0.2393 - accuracy: 0.8883 - val_loss: 0.3462 - val_accuracy: 0.9107\n",
            "Epoch 29/200\n",
            "25/25 [==============================] - 12s 467ms/step - loss: 0.2217 - accuracy: 0.9289 - val_loss: 0.3929 - val_accuracy: 0.9286\n",
            "Epoch 30/200\n",
            "25/25 [==============================] - 12s 457ms/step - loss: 0.1788 - accuracy: 0.9391 - val_loss: 0.2572 - val_accuracy: 0.8929\n",
            "Epoch 31/200\n",
            "25/25 [==============================] - 12s 480ms/step - loss: 0.2179 - accuracy: 0.9137 - val_loss: 0.3769 - val_accuracy: 0.9286\n",
            "Epoch 32/200\n",
            "25/25 [==============================] - 12s 477ms/step - loss: 0.2135 - accuracy: 0.9239 - val_loss: 0.4853 - val_accuracy: 0.9286\n",
            "Epoch 33/200\n",
            "25/25 [==============================] - 12s 472ms/step - loss: 0.2133 - accuracy: 0.9340 - val_loss: 0.4810 - val_accuracy: 0.9107\n",
            "Epoch 34/200\n",
            "25/25 [==============================] - 12s 465ms/step - loss: 0.1896 - accuracy: 0.9188 - val_loss: 0.9195 - val_accuracy: 0.8571\n",
            "Epoch 35/200\n",
            "25/25 [==============================] - 16s 652ms/step - loss: 0.2190 - accuracy: 0.9239 - val_loss: 0.5625 - val_accuracy: 0.8750\n",
            "Epoch 36/200\n",
            "25/25 [==============================] - 12s 477ms/step - loss: 0.1997 - accuracy: 0.8985 - val_loss: 0.4884 - val_accuracy: 0.9107\n",
            "Epoch 37/200\n",
            "25/25 [==============================] - 12s 477ms/step - loss: 0.2203 - accuracy: 0.9137 - val_loss: 0.5438 - val_accuracy: 0.8929\n",
            "Epoch 38/200\n",
            "25/25 [==============================] - 12s 447ms/step - loss: 0.1925 - accuracy: 0.9289 - val_loss: 0.2901 - val_accuracy: 0.9286\n",
            "Epoch 39/200\n",
            "25/25 [==============================] - 12s 483ms/step - loss: 0.1893 - accuracy: 0.9239 - val_loss: 0.3069 - val_accuracy: 0.8929\n",
            "Epoch 40/200\n",
            "25/25 [==============================] - 12s 462ms/step - loss: 0.1807 - accuracy: 0.9340 - val_loss: 0.3350 - val_accuracy: 0.9286\n",
            "Epoch 41/200\n",
            "25/25 [==============================] - 12s 444ms/step - loss: 0.1425 - accuracy: 0.9442 - val_loss: 0.2739 - val_accuracy: 0.9464\n",
            "Epoch 42/200\n",
            "25/25 [==============================] - 12s 473ms/step - loss: 0.1897 - accuracy: 0.9289 - val_loss: 0.3840 - val_accuracy: 0.8929\n",
            "Epoch 43/200\n",
            "25/25 [==============================] - 12s 475ms/step - loss: 0.2056 - accuracy: 0.9239 - val_loss: 0.4231 - val_accuracy: 0.9107\n",
            "Epoch 44/200\n",
            "25/25 [==============================] - 12s 442ms/step - loss: 0.1724 - accuracy: 0.9442 - val_loss: 0.2293 - val_accuracy: 0.9286\n",
            "Epoch 45/200\n",
            "25/25 [==============================] - 12s 447ms/step - loss: 0.1756 - accuracy: 0.9239 - val_loss: 0.3293 - val_accuracy: 0.9286\n",
            "Epoch 46/200\n",
            "25/25 [==============================] - 12s 465ms/step - loss: 0.1402 - accuracy: 0.9492 - val_loss: 0.7525 - val_accuracy: 0.8929\n",
            "Epoch 47/200\n",
            "25/25 [==============================] - 12s 460ms/step - loss: 0.1660 - accuracy: 0.9289 - val_loss: 0.7138 - val_accuracy: 0.8393\n",
            "Epoch 48/200\n",
            "25/25 [==============================] - 12s 473ms/step - loss: 0.1836 - accuracy: 0.9391 - val_loss: 0.6181 - val_accuracy: 0.9107\n",
            "Epoch 49/200\n",
            "25/25 [==============================] - 12s 471ms/step - loss: 0.2374 - accuracy: 0.9086 - val_loss: 0.2685 - val_accuracy: 0.9286\n",
            "Epoch 50/200\n",
            "25/25 [==============================] - 12s 476ms/step - loss: 0.1690 - accuracy: 0.9391 - val_loss: 0.2393 - val_accuracy: 0.9286\n",
            "Epoch 51/200\n",
            "25/25 [==============================] - 12s 475ms/step - loss: 0.1882 - accuracy: 0.9340 - val_loss: 0.3239 - val_accuracy: 0.9286\n",
            "Epoch 52/200\n",
            "25/25 [==============================] - 12s 450ms/step - loss: 0.1423 - accuracy: 0.9492 - val_loss: 0.3031 - val_accuracy: 0.9286\n",
            "Epoch 53/200\n",
            "25/25 [==============================] - 12s 478ms/step - loss: 0.1608 - accuracy: 0.9289 - val_loss: 0.3291 - val_accuracy: 0.9286\n",
            "Epoch 54/200\n",
            "25/25 [==============================] - 12s 453ms/step - loss: 0.1472 - accuracy: 0.9492 - val_loss: 0.2532 - val_accuracy: 0.9464\n",
            "Epoch 55/200\n",
            "25/25 [==============================] - 12s 475ms/step - loss: 0.1503 - accuracy: 0.9289 - val_loss: 0.3648 - val_accuracy: 0.9286\n",
            "Epoch 56/200\n",
            "25/25 [==============================] - 12s 478ms/step - loss: 0.1297 - accuracy: 0.9492 - val_loss: 0.3104 - val_accuracy: 0.8929\n",
            "Epoch 57/200\n",
            "25/25 [==============================] - 12s 473ms/step - loss: 0.1133 - accuracy: 0.9442 - val_loss: 0.2867 - val_accuracy: 0.9821\n",
            "Epoch 58/200\n",
            "25/25 [==============================] - 12s 451ms/step - loss: 0.2216 - accuracy: 0.9188 - val_loss: 0.2590 - val_accuracy: 0.9464\n",
            "Epoch 59/200\n",
            "25/25 [==============================] - 12s 470ms/step - loss: 0.1648 - accuracy: 0.9442 - val_loss: 0.3383 - val_accuracy: 0.9107\n"
          ]
        }
      ]
    },
    {
      "cell_type": "markdown",
      "source": [
        "Kemudian kita akan periksa perhitungan akurasi dan fungsi *loss* dari model tersebut."
      ],
      "metadata": {
        "id": "UaHA_aHgWWcE"
      }
    },
    {
      "cell_type": "code",
      "source": [
        "metrics_1 = pd.DataFrame(history_1.history)\n",
        "metrics_1.describe()"
      ],
      "metadata": {
        "id": "imazO6zVbeCY",
        "colab": {
          "base_uri": "https://localhost:8080/",
          "height": 300
        },
        "outputId": "6724fabd-70ff-4d5d-ee2b-ef49ece85eab"
      },
      "execution_count": 34,
      "outputs": [
        {
          "output_type": "execute_result",
          "data": {
            "text/plain": [
              "            loss   accuracy   val_loss  val_accuracy\n",
              "count  59.000000  59.000000  59.000000     59.000000\n",
              "mean    0.224116   0.912415   0.399262      0.905569\n",
              "std     0.071301   0.033758   0.138552      0.033002\n",
              "min     0.113287   0.725888   0.229318      0.750000\n",
              "25%     0.182154   0.898477   0.304393      0.892857\n",
              "50%     0.219019   0.918782   0.364756      0.910714\n",
              "75%     0.243852   0.928934   0.466492      0.928571\n",
              "max     0.588500   0.949239   0.919535      0.982143"
            ],
            "text/html": [
              "\n",
              "  <div id=\"df-5de4262d-69fc-480c-9b62-19c3750667e0\">\n",
              "    <div class=\"colab-df-container\">\n",
              "      <div>\n",
              "<style scoped>\n",
              "    .dataframe tbody tr th:only-of-type {\n",
              "        vertical-align: middle;\n",
              "    }\n",
              "\n",
              "    .dataframe tbody tr th {\n",
              "        vertical-align: top;\n",
              "    }\n",
              "\n",
              "    .dataframe thead th {\n",
              "        text-align: right;\n",
              "    }\n",
              "</style>\n",
              "<table border=\"1\" class=\"dataframe\">\n",
              "  <thead>\n",
              "    <tr style=\"text-align: right;\">\n",
              "      <th></th>\n",
              "      <th>loss</th>\n",
              "      <th>accuracy</th>\n",
              "      <th>val_loss</th>\n",
              "      <th>val_accuracy</th>\n",
              "    </tr>\n",
              "  </thead>\n",
              "  <tbody>\n",
              "    <tr>\n",
              "      <th>count</th>\n",
              "      <td>59.000000</td>\n",
              "      <td>59.000000</td>\n",
              "      <td>59.000000</td>\n",
              "      <td>59.000000</td>\n",
              "    </tr>\n",
              "    <tr>\n",
              "      <th>mean</th>\n",
              "      <td>0.224116</td>\n",
              "      <td>0.912415</td>\n",
              "      <td>0.399262</td>\n",
              "      <td>0.905569</td>\n",
              "    </tr>\n",
              "    <tr>\n",
              "      <th>std</th>\n",
              "      <td>0.071301</td>\n",
              "      <td>0.033758</td>\n",
              "      <td>0.138552</td>\n",
              "      <td>0.033002</td>\n",
              "    </tr>\n",
              "    <tr>\n",
              "      <th>min</th>\n",
              "      <td>0.113287</td>\n",
              "      <td>0.725888</td>\n",
              "      <td>0.229318</td>\n",
              "      <td>0.750000</td>\n",
              "    </tr>\n",
              "    <tr>\n",
              "      <th>25%</th>\n",
              "      <td>0.182154</td>\n",
              "      <td>0.898477</td>\n",
              "      <td>0.304393</td>\n",
              "      <td>0.892857</td>\n",
              "    </tr>\n",
              "    <tr>\n",
              "      <th>50%</th>\n",
              "      <td>0.219019</td>\n",
              "      <td>0.918782</td>\n",
              "      <td>0.364756</td>\n",
              "      <td>0.910714</td>\n",
              "    </tr>\n",
              "    <tr>\n",
              "      <th>75%</th>\n",
              "      <td>0.243852</td>\n",
              "      <td>0.928934</td>\n",
              "      <td>0.466492</td>\n",
              "      <td>0.928571</td>\n",
              "    </tr>\n",
              "    <tr>\n",
              "      <th>max</th>\n",
              "      <td>0.588500</td>\n",
              "      <td>0.949239</td>\n",
              "      <td>0.919535</td>\n",
              "      <td>0.982143</td>\n",
              "    </tr>\n",
              "  </tbody>\n",
              "</table>\n",
              "</div>\n",
              "      <button class=\"colab-df-convert\" onclick=\"convertToInteractive('df-5de4262d-69fc-480c-9b62-19c3750667e0')\"\n",
              "              title=\"Convert this dataframe to an interactive table.\"\n",
              "              style=\"display:none;\">\n",
              "        \n",
              "  <svg xmlns=\"http://www.w3.org/2000/svg\" height=\"24px\"viewBox=\"0 0 24 24\"\n",
              "       width=\"24px\">\n",
              "    <path d=\"M0 0h24v24H0V0z\" fill=\"none\"/>\n",
              "    <path d=\"M18.56 5.44l.94 2.06.94-2.06 2.06-.94-2.06-.94-.94-2.06-.94 2.06-2.06.94zm-11 1L8.5 8.5l.94-2.06 2.06-.94-2.06-.94L8.5 2.5l-.94 2.06-2.06.94zm10 10l.94 2.06.94-2.06 2.06-.94-2.06-.94-.94-2.06-.94 2.06-2.06.94z\"/><path d=\"M17.41 7.96l-1.37-1.37c-.4-.4-.92-.59-1.43-.59-.52 0-1.04.2-1.43.59L10.3 9.45l-7.72 7.72c-.78.78-.78 2.05 0 2.83L4 21.41c.39.39.9.59 1.41.59.51 0 1.02-.2 1.41-.59l7.78-7.78 2.81-2.81c.8-.78.8-2.07 0-2.86zM5.41 20L4 18.59l7.72-7.72 1.47 1.35L5.41 20z\"/>\n",
              "  </svg>\n",
              "      </button>\n",
              "      \n",
              "  <style>\n",
              "    .colab-df-container {\n",
              "      display:flex;\n",
              "      flex-wrap:wrap;\n",
              "      gap: 12px;\n",
              "    }\n",
              "\n",
              "    .colab-df-convert {\n",
              "      background-color: #E8F0FE;\n",
              "      border: none;\n",
              "      border-radius: 50%;\n",
              "      cursor: pointer;\n",
              "      display: none;\n",
              "      fill: #1967D2;\n",
              "      height: 32px;\n",
              "      padding: 0 0 0 0;\n",
              "      width: 32px;\n",
              "    }\n",
              "\n",
              "    .colab-df-convert:hover {\n",
              "      background-color: #E2EBFA;\n",
              "      box-shadow: 0px 1px 2px rgba(60, 64, 67, 0.3), 0px 1px 3px 1px rgba(60, 64, 67, 0.15);\n",
              "      fill: #174EA6;\n",
              "    }\n",
              "\n",
              "    [theme=dark] .colab-df-convert {\n",
              "      background-color: #3B4455;\n",
              "      fill: #D2E3FC;\n",
              "    }\n",
              "\n",
              "    [theme=dark] .colab-df-convert:hover {\n",
              "      background-color: #434B5C;\n",
              "      box-shadow: 0px 1px 3px 1px rgba(0, 0, 0, 0.15);\n",
              "      filter: drop-shadow(0px 1px 2px rgba(0, 0, 0, 0.3));\n",
              "      fill: #FFFFFF;\n",
              "    }\n",
              "  </style>\n",
              "\n",
              "      <script>\n",
              "        const buttonEl =\n",
              "          document.querySelector('#df-5de4262d-69fc-480c-9b62-19c3750667e0 button.colab-df-convert');\n",
              "        buttonEl.style.display =\n",
              "          google.colab.kernel.accessAllowed ? 'block' : 'none';\n",
              "\n",
              "        async function convertToInteractive(key) {\n",
              "          const element = document.querySelector('#df-5de4262d-69fc-480c-9b62-19c3750667e0');\n",
              "          const dataTable =\n",
              "            await google.colab.kernel.invokeFunction('convertToInteractive',\n",
              "                                                     [key], {});\n",
              "          if (!dataTable) return;\n",
              "\n",
              "          const docLinkHtml = 'Like what you see? Visit the ' +\n",
              "            '<a target=\"_blank\" href=https://colab.research.google.com/notebooks/data_table.ipynb>data table notebook</a>'\n",
              "            + ' to learn more about interactive tables.';\n",
              "          element.innerHTML = '';\n",
              "          dataTable['output_type'] = 'display_data';\n",
              "          await google.colab.output.renderOutput(dataTable, element);\n",
              "          const docLink = document.createElement('div');\n",
              "          docLink.innerHTML = docLinkHtml;\n",
              "          element.appendChild(docLink);\n",
              "        }\n",
              "      </script>\n",
              "    </div>\n",
              "  </div>\n",
              "  "
            ]
          },
          "metadata": {},
          "execution_count": 34
        }
      ]
    },
    {
      "cell_type": "markdown",
      "source": [
        "Dari perintah di atas, kita dapat mengetahui bahwa rata-rata akurasi dari model adalah sebesar 91.24% dengan rata-rata akurasi validasi sebesar 90.56%, serta model memiliki penalti rata-rata sebesar 0.2241 dengan penalti rata-rata validasi sebesar 0.3993. Dari sini sudah terlihat bahwa model sudah memiliki akurasi yang lebih baik dari model sebelumnya. Kemudian kita dapat membuat grafik untuk menvisualisasikan akurasi model tersebut."
      ],
      "metadata": {
        "id": "vqr6V92tWayK"
      }
    },
    {
      "cell_type": "code",
      "source": [
        "metrics_1[[\"accuracy\", \"val_accuracy\", \"loss\", \"val_loss\"]].plot()"
      ],
      "metadata": {
        "id": "bHQKf_45bh7O",
        "colab": {
          "base_uri": "https://localhost:8080/",
          "height": 282
        },
        "outputId": "959203b2-096e-4d3b-b548-831d0fd8a0a1"
      },
      "execution_count": 35,
      "outputs": [
        {
          "output_type": "execute_result",
          "data": {
            "text/plain": [
              "<matplotlib.axes._subplots.AxesSubplot at 0x7fbaf67ca910>"
            ]
          },
          "metadata": {},
          "execution_count": 35
        },
        {
          "output_type": "display_data",
          "data": {
            "text/plain": [
              "<Figure size 432x288 with 1 Axes>"
            ],
            "image/png": "[encoded data removed]"
          },
          "metadata": {
            "needs_background": "light"
          }
        }
      ]
    },
    {
      "cell_type": "markdown",
      "source": [
        "Dari grafik di atas dapat terlihat adanya lonjakan pada nilai *validation loss*.\n",
        "\n",
        "Selanjutnya ita akan melihat laporan klasifikasinya."
      ],
      "metadata": {
        "id": "bt-QH-e_XHcJ"
      }
    },
    {
      "cell_type": "code",
      "source": [
        "y_testpred_1 = model_1.predict(ds_test).round(decimals = 0)\n",
        "\n",
        "print(\"---Model #1 Test Report---\")\n",
        "print(classification_report(y_test_encoded, y_testpred_1))"
      ],
      "metadata": {
        "id": "yqP_Vkq4Wuao",
        "colab": {
          "base_uri": "https://localhost:8080/"
        },
        "outputId": "5c76f805-88ff-4fe6-d2cf-8b22893a19aa"
      },
      "execution_count": 36,
      "outputs": [
        {
          "output_type": "stream",
          "name": "stdout",
          "text": [
            "---Model #1 Test Report---\n",
            "              precision    recall  f1-score   support\n",
            "\n",
            "           0       0.59      0.62      0.61        16\n",
            "           1       0.50      0.46      0.48        13\n",
            "\n",
            "    accuracy                           0.55        29\n",
            "   macro avg       0.54      0.54      0.54        29\n",
            "weighted avg       0.55      0.55      0.55        29\n",
            "\n"
          ]
        }
      ]
    },
    {
      "cell_type": "markdown",
      "source": [
        "Dari model di atas kita dapat melihat bahwa *recall* untuk label `Ripe` adalah sebesar 62% dan untuk label `Unripe` adalah sebesar 46%. Nilai ini menunjukkan bahwa model yang kita buat sangat *overfit* untuk *dataset* yang kita gunakan. Selain itu, kita mendapati bahwa model ini lebih buruk dari model sebelumnya dalam mengidentifikasi gambar tomat yang belum matang.\n",
        "\n",
        "Kemudian kita akan lihat matriks *confusion*-nya."
      ],
      "metadata": {
        "id": "oi5HdK7nXBW7"
      }
    },
    {
      "cell_type": "code",
      "source": [
        "ConfusionMatrixDisplay(confusion_matrix(y_test_encoded, y_testpred_1)).plot()\n",
        "plt.show()"
      ],
      "metadata": {
        "id": "gvY5ZbTNW4pR",
        "colab": {
          "base_uri": "https://localhost:8080/",
          "height": 283
        },
        "outputId": "a730005b-4393-48c5-b016-2a20666b79ec"
      },
      "execution_count": 37,
      "outputs": [
        {
          "output_type": "display_data",
          "data": {
            "text/plain": [
              "<Figure size 432x288 with 2 Axes>"
            ],
            "image/png": "[encoded data removed]"
          },
          "metadata": {
            "needs_background": "light"
          }
        }
      ]
    },
    {
      "cell_type": "markdown",
      "source": [
        "Dari matriks di atas dapat terlihat bahwa tingkat *recall* model masih buruk, terlihat dari banyaknya gambar tomat matang yang diidentifikasi sebagai tomat tidak matang dan sebaliknya, sebanyak 13 gambar.\n",
        "\n",
        "Dari model ini kita mengetahui bahwa penambahan jumlah *filter* dan *node* justru memperparah lonjakan nilai *validation loss*."
      ],
      "metadata": {
        "id": "WsJ5s13TUSX7"
      }
    },
    {
      "cell_type": "markdown",
      "source": [
        "### Model #2: Jumlah *Filter* Terbesar ke Terkecil"
      ],
      "metadata": {
        "id": "FBIqXC-XXNli"
      }
    },
    {
      "cell_type": "markdown",
      "source": [
        "Pada model ini kita akan menggunakan jumlah *node* yang sama dengan model pertama, namun kita menggunakan jumlah *filter* terbesar ke terkecil. Selain itu kita juga akan menerapkan fungsi untuk memberhentikan perhitungan seperti sebelumnya."
      ],
      "metadata": {
        "id": "cf-GYyO_Xfv5"
      }
    },
    {
      "cell_type": "code",
      "source": [
        "inputs = [img_height, img_width, 3]\n",
        "\n",
        "model_2 = keras.models.Sequential([\n",
        "    keras.layers.Conv2D(256, 3, activation = \"relu\", input_shape = inputs),\n",
        "    keras.layers.MaxPooling2D(),\n",
        "    keras.layers.Conv2D(128, 3, activation = \"relu\"),\n",
        "    keras.layers.MaxPooling2D(),\n",
        "    keras.layers.Conv2D(64, 3, activation = \"relu\"),\n",
        "    keras.layers.MaxPooling2D(),\n",
        "    keras.layers.Conv2D(32, 3, activation = \"relu\"),\n",
        "    keras.layers.MaxPooling2D(),\n",
        "    keras.layers.Flatten(),\n",
        "    keras.layers.Dense(16, activation = \"relu\"),\n",
        "    keras.layers.Dense(1, activation = \"sigmoid\")\n",
        "])\n",
        "\n",
        "stopper = tf.keras.callbacks.EarlyStopping(monitor = \"val_loss\", patience = 15)\n",
        "\n",
        "model_2.compile(optimizer = \"Adam\", loss = \"binary_crossentropy\", metrics = [\"accuracy\"])\n",
        "\n",
        "model_2.summary()"
      ],
      "metadata": {
        "id": "QxsfLDondZCS",
        "colab": {
          "base_uri": "https://localhost:8080/"
        },
        "outputId": "dc21c5a8-36e9-46e4-cc09-2670b502533c"
      },
      "execution_count": 38,
      "outputs": [
        {
          "output_type": "stream",
          "name": "stdout",
          "text": [
            "Model: \"sequential_2\"\n",
            "_________________________________________________________________\n",
            " Layer (type)                Output Shape              Param #   \n",
            "=================================================================\n",
            " conv2d_7 (Conv2D)           (None, 298, 298, 256)     7168      \n",
            "                                                                 \n",
            " max_pooling2d_7 (MaxPooling  (None, 149, 149, 256)    0         \n",
            " 2D)                                                             \n",
            "                                                                 \n",
            " conv2d_8 (Conv2D)           (None, 147, 147, 128)     295040    \n",
            "                                                                 \n",
            " max_pooling2d_8 (MaxPooling  (None, 73, 73, 128)      0         \n",
            " 2D)                                                             \n",
            "                                                                 \n",
            " conv2d_9 (Conv2D)           (None, 71, 71, 64)        73792     \n",
            "                                                                 \n",
            " max_pooling2d_9 (MaxPooling  (None, 35, 35, 64)       0         \n",
            " 2D)                                                             \n",
            "                                                                 \n",
            " conv2d_10 (Conv2D)          (None, 33, 33, 32)        18464     \n",
            "                                                                 \n",
            " max_pooling2d_10 (MaxPoolin  (None, 16, 16, 32)       0         \n",
            " g2D)                                                            \n",
            "                                                                 \n",
            " flatten_2 (Flatten)         (None, 8192)              0         \n",
            "                                                                 \n",
            " dense_4 (Dense)             (None, 16)                131088    \n",
            "                                                                 \n",
            " dense_5 (Dense)             (None, 1)                 17        \n",
            "                                                                 \n",
            "=================================================================\n",
            "Total params: 525,569\n",
            "Trainable params: 525,569\n",
            "Non-trainable params: 0\n",
            "_________________________________________________________________\n"
          ]
        }
      ]
    },
    {
      "cell_type": "markdown",
      "source": [
        "Setelah model selesai di-*compile*, kita akan latih model tersebut. Untuk model ini kita akan menggunakan 200 epoch."
      ],
      "metadata": {
        "id": "JfUlIFy1X9Ar"
      }
    },
    {
      "cell_type": "code",
      "source": [
        "history_2 = model_2.fit(ds_train, batch_size = BATCH, \n",
        "                           epochs = 200, validation_data = ds_val, callbacks = stopper)"
      ],
      "metadata": {
        "id": "JYiSHJg6dhmE",
        "colab": {
          "base_uri": "https://localhost:8080/"
        },
        "outputId": "1aad28bf-2e37-4cd6-fa5c-502ccf6e734e"
      },
      "execution_count": 39,
      "outputs": [
        {
          "output_type": "stream",
          "name": "stdout",
          "text": [
            "Epoch 1/200\n",
            "25/25 [==============================] - 16s 566ms/step - loss: 0.5691 - accuracy: 0.7005 - val_loss: 0.3758 - val_accuracy: 0.9107\n",
            "Epoch 2/200\n",
            "25/25 [==============================] - 13s 510ms/step - loss: 0.3747 - accuracy: 0.8731 - val_loss: 0.3816 - val_accuracy: 0.9107\n",
            "Epoch 3/200\n",
            "25/25 [==============================] - 13s 501ms/step - loss: 0.3730 - accuracy: 0.8477 - val_loss: 0.4009 - val_accuracy: 0.8929\n",
            "Epoch 4/200\n",
            "25/25 [==============================] - 13s 512ms/step - loss: 0.3290 - accuracy: 0.9086 - val_loss: 0.3833 - val_accuracy: 0.9286\n",
            "Epoch 5/200\n",
            "25/25 [==============================] - 13s 508ms/step - loss: 0.2941 - accuracy: 0.8985 - val_loss: 0.3280 - val_accuracy: 0.9286\n",
            "Epoch 6/200\n",
            "25/25 [==============================] - 13s 507ms/step - loss: 0.2824 - accuracy: 0.8985 - val_loss: 0.4725 - val_accuracy: 0.8750\n",
            "Epoch 7/200\n",
            "25/25 [==============================] - 13s 511ms/step - loss: 0.2322 - accuracy: 0.9086 - val_loss: 0.3002 - val_accuracy: 0.9286\n",
            "Epoch 8/200\n",
            "25/25 [==============================] - 13s 510ms/step - loss: 0.3164 - accuracy: 0.9036 - val_loss: 0.2433 - val_accuracy: 0.8929\n",
            "Epoch 9/200\n",
            "25/25 [==============================] - 13s 510ms/step - loss: 0.2582 - accuracy: 0.9086 - val_loss: 0.5435 - val_accuracy: 0.8750\n",
            "Epoch 10/200\n",
            "25/25 [==============================] - 13s 504ms/step - loss: 0.2725 - accuracy: 0.9188 - val_loss: 0.3503 - val_accuracy: 0.8750\n",
            "Epoch 11/200\n",
            "25/25 [==============================] - 13s 512ms/step - loss: 0.2497 - accuracy: 0.9137 - val_loss: 0.3014 - val_accuracy: 0.9107\n",
            "Epoch 12/200\n",
            "25/25 [==============================] - 13s 512ms/step - loss: 0.2260 - accuracy: 0.9036 - val_loss: 0.3187 - val_accuracy: 0.8929\n",
            "Epoch 13/200\n",
            "25/25 [==============================] - 13s 515ms/step - loss: 0.2381 - accuracy: 0.8832 - val_loss: 0.3618 - val_accuracy: 0.8929\n",
            "Epoch 14/200\n",
            "25/25 [==============================] - 13s 507ms/step - loss: 0.2709 - accuracy: 0.8934 - val_loss: 0.3665 - val_accuracy: 0.8750\n",
            "Epoch 15/200\n",
            "25/25 [==============================] - 13s 514ms/step - loss: 0.2600 - accuracy: 0.9188 - val_loss: 0.3964 - val_accuracy: 0.8750\n",
            "Epoch 16/200\n",
            "25/25 [==============================] - 13s 507ms/step - loss: 0.2612 - accuracy: 0.9086 - val_loss: 0.2361 - val_accuracy: 0.9107\n",
            "Epoch 17/200\n",
            "25/25 [==============================] - 13s 488ms/step - loss: 0.2210 - accuracy: 0.8985 - val_loss: 0.4052 - val_accuracy: 0.8750\n",
            "Epoch 18/200\n",
            "25/25 [==============================] - 13s 503ms/step - loss: 0.2439 - accuracy: 0.9036 - val_loss: 0.2651 - val_accuracy: 0.9107\n",
            "Epoch 19/200\n",
            "25/25 [==============================] - 13s 515ms/step - loss: 0.2397 - accuracy: 0.8934 - val_loss: 0.6468 - val_accuracy: 0.7321\n",
            "Epoch 20/200\n",
            "25/25 [==============================] - 13s 516ms/step - loss: 0.2610 - accuracy: 0.8782 - val_loss: 0.3333 - val_accuracy: 0.8929\n",
            "Epoch 21/200\n",
            "25/25 [==============================] - 13s 516ms/step - loss: 0.2235 - accuracy: 0.9239 - val_loss: 0.3098 - val_accuracy: 0.8929\n",
            "Epoch 22/200\n",
            "25/25 [==============================] - 13s 490ms/step - loss: 0.2492 - accuracy: 0.8934 - val_loss: 0.2429 - val_accuracy: 0.8929\n",
            "Epoch 23/200\n",
            "25/25 [==============================] - 13s 497ms/step - loss: 0.2166 - accuracy: 0.9188 - val_loss: 0.3611 - val_accuracy: 0.8929\n",
            "Epoch 24/200\n",
            "25/25 [==============================] - 13s 512ms/step - loss: 0.2920 - accuracy: 0.8883 - val_loss: 0.3408 - val_accuracy: 0.8929\n",
            "Epoch 25/200\n",
            "25/25 [==============================] - 13s 507ms/step - loss: 0.2136 - accuracy: 0.9340 - val_loss: 0.3075 - val_accuracy: 0.9286\n",
            "Epoch 26/200\n",
            "25/25 [==============================] - 13s 513ms/step - loss: 0.1861 - accuracy: 0.9492 - val_loss: 0.4745 - val_accuracy: 0.9286\n",
            "Epoch 27/200\n",
            "25/25 [==============================] - 13s 508ms/step - loss: 0.2443 - accuracy: 0.8985 - val_loss: 0.4313 - val_accuracy: 0.9107\n",
            "Epoch 28/200\n",
            "25/25 [==============================] - 13s 507ms/step - loss: 0.2113 - accuracy: 0.9340 - val_loss: 0.3168 - val_accuracy: 0.9107\n",
            "Epoch 29/200\n",
            "25/25 [==============================] - 13s 501ms/step - loss: 0.2257 - accuracy: 0.9188 - val_loss: 0.7726 - val_accuracy: 0.9107\n",
            "Epoch 30/200\n",
            "25/25 [==============================] - 13s 507ms/step - loss: 0.2709 - accuracy: 0.9036 - val_loss: 0.4409 - val_accuracy: 0.9107\n",
            "Epoch 31/200\n",
            "25/25 [==============================] - 13s 496ms/step - loss: 0.2782 - accuracy: 0.8934 - val_loss: 0.4117 - val_accuracy: 0.8929\n"
          ]
        }
      ]
    },
    {
      "cell_type": "markdown",
      "source": [
        "Kemudian kita akan periksa perhitungan akurasi dan fungsi *loss* dari model tersebut."
      ],
      "metadata": {
        "id": "p76vN9j7Yk1O"
      }
    },
    {
      "cell_type": "code",
      "source": [
        "metrics_2 = pd.DataFrame(history_2.history)\n",
        "metrics_2.describe()"
      ],
      "metadata": {
        "id": "xC_UZnPYdkWB",
        "colab": {
          "base_uri": "https://localhost:8080/",
          "height": 300
        },
        "outputId": "7f5c62a3-495c-4def-865c-cf4fdea1657f"
      },
      "execution_count": 40,
      "outputs": [
        {
          "output_type": "execute_result",
          "data": {
            "text/plain": [
              "            loss   accuracy   val_loss  val_accuracy\n",
              "count  31.000000  31.000000  31.000000     31.000000\n",
              "mean    0.270461   0.897331   0.381313      0.895161\n",
              "std     0.070443   0.041378   0.113760      0.035036\n",
              "min     0.186071   0.700508   0.236107      0.732143\n",
              "25%     0.229090   0.893401   0.313305      0.892857\n",
              "50%     0.258245   0.903553   0.361790      0.892857\n",
              "75%     0.280310   0.916244   0.408495      0.910714\n",
              "max     0.569058   0.949239   0.772589      0.928571"
            ],
            "text/html": [
              "\n",
              "  <div id=\"df-8be22713-ec84-4d36-9a2b-11a48956cc79\">\n",
              "    <div class=\"colab-df-container\">\n",
              "      <div>\n",
              "<style scoped>\n",
              "    .dataframe tbody tr th:only-of-type {\n",
              "        vertical-align: middle;\n",
              "    }\n",
              "\n",
              "    .dataframe tbody tr th {\n",
              "        vertical-align: top;\n",
              "    }\n",
              "\n",
              "    .dataframe thead th {\n",
              "        text-align: right;\n",
              "    }\n",
              "</style>\n",
              "<table border=\"1\" class=\"dataframe\">\n",
              "  <thead>\n",
              "    <tr style=\"text-align: right;\">\n",
              "      <th></th>\n",
              "      <th>loss</th>\n",
              "      <th>accuracy</th>\n",
              "      <th>val_loss</th>\n",
              "      <th>val_accuracy</th>\n",
              "    </tr>\n",
              "  </thead>\n",
              "  <tbody>\n",
              "    <tr>\n",
              "      <th>count</th>\n",
              "      <td>31.000000</td>\n",
              "      <td>31.000000</td>\n",
              "      <td>31.000000</td>\n",
              "      <td>31.000000</td>\n",
              "    </tr>\n",
              "    <tr>\n",
              "      <th>mean</th>\n",
              "      <td>0.270461</td>\n",
              "      <td>0.897331</td>\n",
              "      <td>0.381313</td>\n",
              "      <td>0.895161</td>\n",
              "    </tr>\n",
              "    <tr>\n",
              "      <th>std</th>\n",
              "      <td>0.070443</td>\n",
              "      <td>0.041378</td>\n",
              "      <td>0.113760</td>\n",
              "      <td>0.035036</td>\n",
              "    </tr>\n",
              "    <tr>\n",
              "      <th>min</th>\n",
              "      <td>0.186071</td>\n",
              "      <td>0.700508</td>\n",
              "      <td>0.236107</td>\n",
              "      <td>0.732143</td>\n",
              "    </tr>\n",
              "    <tr>\n",
              "      <th>25%</th>\n",
              "      <td>0.229090</td>\n",
              "      <td>0.893401</td>\n",
              "      <td>0.313305</td>\n",
              "      <td>0.892857</td>\n",
              "    </tr>\n",
              "    <tr>\n",
              "      <th>50%</th>\n",
              "      <td>0.258245</td>\n",
              "      <td>0.903553</td>\n",
              "      <td>0.361790</td>\n",
              "      <td>0.892857</td>\n",
              "    </tr>\n",
              "    <tr>\n",
              "      <th>75%</th>\n",
              "      <td>0.280310</td>\n",
              "      <td>0.916244</td>\n",
              "      <td>0.408495</td>\n",
              "      <td>0.910714</td>\n",
              "    </tr>\n",
              "    <tr>\n",
              "      <th>max</th>\n",
              "      <td>0.569058</td>\n",
              "      <td>0.949239</td>\n",
              "      <td>0.772589</td>\n",
              "      <td>0.928571</td>\n",
              "    </tr>\n",
              "  </tbody>\n",
              "</table>\n",
              "</div>\n",
              "      <button class=\"colab-df-convert\" onclick=\"convertToInteractive('df-8be22713-ec84-4d36-9a2b-11a48956cc79')\"\n",
              "              title=\"Convert this dataframe to an interactive table.\"\n",
              "              style=\"display:none;\">\n",
              "        \n",
              "  <svg xmlns=\"http://www.w3.org/2000/svg\" height=\"24px\"viewBox=\"0 0 24 24\"\n",
              "       width=\"24px\">\n",
              "    <path d=\"M0 0h24v24H0V0z\" fill=\"none\"/>\n",
              "    <path d=\"M18.56 5.44l.94 2.06.94-2.06 2.06-.94-2.06-.94-.94-2.06-.94 2.06-2.06.94zm-11 1L8.5 8.5l.94-2.06 2.06-.94-2.06-.94L8.5 2.5l-.94 2.06-2.06.94zm10 10l.94 2.06.94-2.06 2.06-.94-2.06-.94-.94-2.06-.94 2.06-2.06.94z\"/><path d=\"M17.41 7.96l-1.37-1.37c-.4-.4-.92-.59-1.43-.59-.52 0-1.04.2-1.43.59L10.3 9.45l-7.72 7.72c-.78.78-.78 2.05 0 2.83L4 21.41c.39.39.9.59 1.41.59.51 0 1.02-.2 1.41-.59l7.78-7.78 2.81-2.81c.8-.78.8-2.07 0-2.86zM5.41 20L4 18.59l7.72-7.72 1.47 1.35L5.41 20z\"/>\n",
              "  </svg>\n",
              "      </button>\n",
              "      \n",
              "  <style>\n",
              "    .colab-df-container {\n",
              "      display:flex;\n",
              "      flex-wrap:wrap;\n",
              "      gap: 12px;\n",
              "    }\n",
              "\n",
              "    .colab-df-convert {\n",
              "      background-color: #E8F0FE;\n",
              "      border: none;\n",
              "      border-radius: 50%;\n",
              "      cursor: pointer;\n",
              "      display: none;\n",
              "      fill: #1967D2;\n",
              "      height: 32px;\n",
              "      padding: 0 0 0 0;\n",
              "      width: 32px;\n",
              "    }\n",
              "\n",
              "    .colab-df-convert:hover {\n",
              "      background-color: #E2EBFA;\n",
              "      box-shadow: 0px 1px 2px rgba(60, 64, 67, 0.3), 0px 1px 3px 1px rgba(60, 64, 67, 0.15);\n",
              "      fill: #174EA6;\n",
              "    }\n",
              "\n",
              "    [theme=dark] .colab-df-convert {\n",
              "      background-color: #3B4455;\n",
              "      fill: #D2E3FC;\n",
              "    }\n",
              "\n",
              "    [theme=dark] .colab-df-convert:hover {\n",
              "      background-color: #434B5C;\n",
              "      box-shadow: 0px 1px 3px 1px rgba(0, 0, 0, 0.15);\n",
              "      filter: drop-shadow(0px 1px 2px rgba(0, 0, 0, 0.3));\n",
              "      fill: #FFFFFF;\n",
              "    }\n",
              "  </style>\n",
              "\n",
              "      <script>\n",
              "        const buttonEl =\n",
              "          document.querySelector('#df-8be22713-ec84-4d36-9a2b-11a48956cc79 button.colab-df-convert');\n",
              "        buttonEl.style.display =\n",
              "          google.colab.kernel.accessAllowed ? 'block' : 'none';\n",
              "\n",
              "        async function convertToInteractive(key) {\n",
              "          const element = document.querySelector('#df-8be22713-ec84-4d36-9a2b-11a48956cc79');\n",
              "          const dataTable =\n",
              "            await google.colab.kernel.invokeFunction('convertToInteractive',\n",
              "                                                     [key], {});\n",
              "          if (!dataTable) return;\n",
              "\n",
              "          const docLinkHtml = 'Like what you see? Visit the ' +\n",
              "            '<a target=\"_blank\" href=https://colab.research.google.com/notebooks/data_table.ipynb>data table notebook</a>'\n",
              "            + ' to learn more about interactive tables.';\n",
              "          element.innerHTML = '';\n",
              "          dataTable['output_type'] = 'display_data';\n",
              "          await google.colab.output.renderOutput(dataTable, element);\n",
              "          const docLink = document.createElement('div');\n",
              "          docLink.innerHTML = docLinkHtml;\n",
              "          element.appendChild(docLink);\n",
              "        }\n",
              "      </script>\n",
              "    </div>\n",
              "  </div>\n",
              "  "
            ]
          },
          "metadata": {},
          "execution_count": 40
        }
      ]
    },
    {
      "cell_type": "markdown",
      "source": [
        "Dari perintah di atas, kita dapat mengetahui bahwa rata-rata akurasi dari model adalah sebesar 89.73% dengan rata-rata akurasi validasi sebesar 89.52%, serta model memiliki penalti rata-rata sebesar 0.2705 dengan penalti rata-rata validasi sebesar 0.3813. Model ini memiliki akurasi yang jauh lebih buruk dibandingkan dengan model sebelumnya. Untuk lebih jelasnya, kita dapat membuat grafik untuk menvisualisasikan akurasi model tersebut."
      ],
      "metadata": {
        "id": "l10I987nYvCs"
      }
    },
    {
      "cell_type": "code",
      "source": [
        "metrics_2[[\"accuracy\", \"val_accuracy\", \"loss\", \"val_loss\"]].plot()"
      ],
      "metadata": {
        "id": "YrAoo80xdnoK",
        "colab": {
          "base_uri": "https://localhost:8080/",
          "height": 282
        },
        "outputId": "50683c02-a741-46ce-e501-8b90f2398851"
      },
      "execution_count": 41,
      "outputs": [
        {
          "output_type": "execute_result",
          "data": {
            "text/plain": [
              "<matplotlib.axes._subplots.AxesSubplot at 0x7fbaf64a4410>"
            ]
          },
          "metadata": {},
          "execution_count": 41
        },
        {
          "output_type": "display_data",
          "data": {
            "text/plain": [
              "<Figure size 432x288 with 1 Axes>"
            ],
            "image/png": "[encoded data removed]"
          },
          "metadata": {
            "needs_background": "light"
          }
        }
      ]
    },
    {
      "cell_type": "markdown",
      "source": [
        "Dari grafik di atas terdapat lonjakan nilai *validation loss* di beberapa titik.\n",
        "\n",
        "Selanjutnya kita akan lihat bagaimana laporan klasifikasinya."
      ],
      "metadata": {
        "id": "YeJOFa92YzHj"
      }
    },
    {
      "cell_type": "code",
      "source": [
        "y_testpred_2 = model_2.predict(ds_test).round(decimals = 0)\n",
        "\n",
        "print(\"---Model #2 Test Report---\")\n",
        "print(classification_report(y_test_encoded, y_testpred_2))"
      ],
      "metadata": {
        "id": "z2w_UiXGY2za",
        "colab": {
          "base_uri": "https://localhost:8080/"
        },
        "outputId": "57684870-3345-48ac-c00b-0d4c0c11c842"
      },
      "execution_count": 42,
      "outputs": [
        {
          "output_type": "stream",
          "name": "stdout",
          "text": [
            "---Model #2 Test Report---\n",
            "              precision    recall  f1-score   support\n",
            "\n",
            "           0       0.59      0.62      0.61        16\n",
            "           1       0.50      0.46      0.48        13\n",
            "\n",
            "    accuracy                           0.55        29\n",
            "   macro avg       0.54      0.54      0.54        29\n",
            "weighted avg       0.55      0.55      0.55        29\n",
            "\n"
          ]
        }
      ]
    },
    {
      "cell_type": "markdown",
      "source": [
        "Dari model di atas kita dapat melihat bahwa *recall* untuk label `Ripe` adalah sebesar 62% dan untuk label `Unripe` adalah sebesar 46%. Nilai ini menunjukkan bahwa model yang kita buat sangat *overfit* untuk *dataset* yang kita gunakan. Selain itu, kita mendapati bahwa fungsi laporan klasifikasi mengeluarkan peringatan pada nilai presisi dan nilai f-nya.\n",
        "\n",
        "Kemudian kita akan lihat matriks *confusion*-nya."
      ],
      "metadata": {
        "id": "WPXk16D7ZAND"
      }
    },
    {
      "cell_type": "code",
      "source": [
        "ConfusionMatrixDisplay(confusion_matrix(y_test_encoded, y_testpred_2)).plot()\n",
        "plt.show()"
      ],
      "metadata": {
        "id": "BOcmTyBAZDBK",
        "colab": {
          "base_uri": "https://localhost:8080/",
          "height": 283
        },
        "outputId": "582e555b-63c2-42fc-d5e2-f8f23d2f4175"
      },
      "execution_count": 43,
      "outputs": [
        {
          "output_type": "display_data",
          "data": {
            "text/plain": [
              "<Figure size 432x288 with 2 Axes>"
            ],
            "image/png": "[encoded data removed]"
          },
          "metadata": {
            "needs_background": "light"
          }
        }
      ]
    },
    {
      "cell_type": "markdown",
      "source": [
        "Dari matriks di atas dapat terlihat bahwa tingkat *recall* model masih buruk, terlihat dari banyaknya gambar tomat matang yang diidentifikasi sebagai tomat tidak matang dan sebaliknya, sebanyak 13 gambar.\n",
        "\n",
        "Dari model ini kita mengetahui bahwa urutan besarnya *filter* dalam suatu model tidak memengaruhi hasilnya."
      ],
      "metadata": {
        "id": "-_hv32OuWTCY"
      }
    },
    {
      "cell_type": "markdown",
      "source": [
        "### Model #3: Penambahan Lapisan *Batch Normalization* dan *Dropout*"
      ],
      "metadata": {
        "id": "nFuM5A_qZSlL"
      }
    },
    {
      "cell_type": "markdown",
      "source": [
        "Pada model ini kita akan berangkat dari model pertama, kemudian kita akan aplikasikan lapisan `BatchNormalization` dan `Dropout` setelah setiap lapisan konvolusi."
      ],
      "metadata": {
        "id": "_f4UQDvHZYUa"
      }
    },
    {
      "cell_type": "code",
      "source": [
        "inputs = [img_height, img_width, 3]\n",
        "\n",
        "model_3 = keras.models.Sequential([\n",
        "    keras.layers.Conv2D(16, 3, activation = \"relu\", input_shape = inputs),\n",
        "    keras.layers.MaxPooling2D(),\n",
        "    keras.layers.BatchNormalization(),\n",
        "    keras.layers.Dropout(rate = 0.2),\n",
        "    keras.layers.Conv2D(32, 3, activation = \"relu\"),\n",
        "    keras.layers.MaxPooling2D(),\n",
        "    keras.layers.BatchNormalization(),\n",
        "    keras.layers.Dropout(rate = 0.2),\n",
        "    keras.layers.Conv2D(64, 3, activation = \"relu\"),\n",
        "    keras.layers.MaxPooling2D(),\n",
        "    keras.layers.BatchNormalization(),\n",
        "    keras.layers.Dropout(rate = 0.2),\n",
        "    keras.layers.Conv2D(128, 3, activation = \"relu\"),\n",
        "    keras.layers.MaxPooling2D(),\n",
        "    keras.layers.BatchNormalization(),\n",
        "    keras.layers.Dropout(rate = 0.2),\n",
        "    keras.layers.Flatten(),\n",
        "    keras.layers.Dense(256, activation = \"relu\"),\n",
        "    keras.layers.BatchNormalization(),\n",
        "    keras.layers.Dropout(rate = 0.2),\n",
        "    keras.layers.Dense(1, activation = \"sigmoid\")\n",
        "])\n",
        "\n",
        "stopper = tf.keras.callbacks.EarlyStopping(monitor = \"val_loss\", patience = 15)\n",
        "\n",
        "model_3.compile(optimizer = \"Adam\", loss = \"binary_crossentropy\", metrics = [\"accuracy\"])\n",
        "\n",
        "model_3.summary()"
      ],
      "metadata": {
        "id": "WHJXQcLheHYi",
        "colab": {
          "base_uri": "https://localhost:8080/"
        },
        "outputId": "a097e3b5-af69-48c0-dbfc-1b7981c9cce1"
      },
      "execution_count": 44,
      "outputs": [
        {
          "output_type": "stream",
          "name": "stdout",
          "text": [
            "Model: \"sequential_3\"\n",
            "_________________________________________________________________\n",
            " Layer (type)                Output Shape              Param #   \n",
            "=================================================================\n",
            " conv2d_11 (Conv2D)          (None, 298, 298, 16)      448       \n",
            "                                                                 \n",
            " max_pooling2d_11 (MaxPoolin  (None, 149, 149, 16)     0         \n",
            " g2D)                                                            \n",
            "                                                                 \n",
            " batch_normalization (BatchN  (None, 149, 149, 16)     64        \n",
            " ormalization)                                                   \n",
            "                                                                 \n",
            " dropout (Dropout)           (None, 149, 149, 16)      0         \n",
            "                                                                 \n",
            " conv2d_12 (Conv2D)          (None, 147, 147, 32)      4640      \n",
            "                                                                 \n",
            " max_pooling2d_12 (MaxPoolin  (None, 73, 73, 32)       0         \n",
            " g2D)                                                            \n",
            "                                                                 \n",
            " batch_normalization_1 (Batc  (None, 73, 73, 32)       128       \n",
            " hNormalization)                                                 \n",
            "                                                                 \n",
            " dropout_1 (Dropout)         (None, 73, 73, 32)        0         \n",
            "                                                                 \n",
            " conv2d_13 (Conv2D)          (None, 71, 71, 64)        18496     \n",
            "                                                                 \n",
            " max_pooling2d_13 (MaxPoolin  (None, 35, 35, 64)       0         \n",
            " g2D)                                                            \n",
            "                                                                 \n",
            " batch_normalization_2 (Batc  (None, 35, 35, 64)       256       \n",
            " hNormalization)                                                 \n",
            "                                                                 \n",
            " dropout_2 (Dropout)         (None, 35, 35, 64)        0         \n",
            "                                                                 \n",
            " conv2d_14 (Conv2D)          (None, 33, 33, 128)       73856     \n",
            "                                                                 \n",
            " max_pooling2d_14 (MaxPoolin  (None, 16, 16, 128)      0         \n",
            " g2D)                                                            \n",
            "                                                                 \n",
            " batch_normalization_3 (Batc  (None, 16, 16, 128)      512       \n",
            " hNormalization)                                                 \n",
            "                                                                 \n",
            " dropout_3 (Dropout)         (None, 16, 16, 128)       0         \n",
            "                                                                 \n",
            " flatten_3 (Flatten)         (None, 32768)             0         \n",
            "                                                                 \n",
            " dense_6 (Dense)             (None, 256)               8388864   \n",
            "                                                                 \n",
            " batch_normalization_4 (Batc  (None, 256)              1024      \n",
            " hNormalization)                                                 \n",
            "                                                                 \n",
            " dropout_4 (Dropout)         (None, 256)               0         \n",
            "                                                                 \n",
            " dense_7 (Dense)             (None, 1)                 257       \n",
            "                                                                 \n",
            "=================================================================\n",
            "Total params: 8,488,545\n",
            "Trainable params: 8,487,553\n",
            "Non-trainable params: 992\n",
            "_________________________________________________________________\n"
          ]
        }
      ]
    },
    {
      "cell_type": "markdown",
      "source": [
        "Setelah model selesai di-*compile*, kita akan latih model tersebut. Untuk model ini kita akan menggunakan 200 epoch."
      ],
      "metadata": {
        "id": "ogWGVPhNX-5y"
      }
    },
    {
      "cell_type": "code",
      "source": [
        "history_3 = model_3.fit(ds_train, batch_size = BATCH, \n",
        "                           epochs = 200, validation_data = ds_val, callbacks = stopper)"
      ],
      "metadata": {
        "id": "ieK6a6gSeQga",
        "colab": {
          "base_uri": "https://localhost:8080/"
        },
        "outputId": "61d6d053-90d7-4492-b151-855daadac3e8"
      },
      "execution_count": 45,
      "outputs": [
        {
          "output_type": "stream",
          "name": "stdout",
          "text": [
            "Epoch 1/200\n",
            "25/25 [==============================] - 13s 468ms/step - loss: 0.6452 - accuracy: 0.7919 - val_loss: 0.9991 - val_accuracy: 0.5536\n",
            "Epoch 2/200\n",
            "25/25 [==============================] - 12s 474ms/step - loss: 0.5047 - accuracy: 0.8376 - val_loss: 0.6720 - val_accuracy: 0.5536\n",
            "Epoch 3/200\n",
            "25/25 [==============================] - 12s 447ms/step - loss: 0.5183 - accuracy: 0.8376 - val_loss: 0.7509 - val_accuracy: 0.5536\n",
            "Epoch 4/200\n",
            "25/25 [==============================] - 12s 475ms/step - loss: 0.3508 - accuracy: 0.8426 - val_loss: 0.9352 - val_accuracy: 0.5536\n",
            "Epoch 5/200\n",
            "25/25 [==============================] - 12s 446ms/step - loss: 0.2116 - accuracy: 0.9137 - val_loss: 0.7280 - val_accuracy: 0.6250\n",
            "Epoch 6/200\n",
            "25/25 [==============================] - 12s 470ms/step - loss: 0.3771 - accuracy: 0.8832 - val_loss: 0.5537 - val_accuracy: 0.7500\n",
            "Epoch 7/200\n",
            "25/25 [==============================] - 12s 472ms/step - loss: 0.2810 - accuracy: 0.9188 - val_loss: 0.5790 - val_accuracy: 0.7143\n",
            "Epoch 8/200\n",
            "25/25 [==============================] - 12s 467ms/step - loss: 0.4155 - accuracy: 0.8832 - val_loss: 0.3985 - val_accuracy: 0.7857\n",
            "Epoch 9/200\n",
            "25/25 [==============================] - 12s 472ms/step - loss: 0.2959 - accuracy: 0.8832 - val_loss: 0.3911 - val_accuracy: 0.7857\n",
            "Epoch 10/200\n",
            "25/25 [==============================] - 12s 469ms/step - loss: 0.3493 - accuracy: 0.8782 - val_loss: 0.3542 - val_accuracy: 0.8036\n",
            "Epoch 11/200\n",
            "25/25 [==============================] - 12s 474ms/step - loss: 0.3496 - accuracy: 0.8528 - val_loss: 0.3342 - val_accuracy: 0.8214\n",
            "Epoch 12/200\n",
            "25/25 [==============================] - 12s 475ms/step - loss: 0.2996 - accuracy: 0.8934 - val_loss: 0.3483 - val_accuracy: 0.8929\n",
            "Epoch 13/200\n",
            "25/25 [==============================] - 12s 457ms/step - loss: 0.3054 - accuracy: 0.8985 - val_loss: 0.3142 - val_accuracy: 0.9107\n",
            "Epoch 14/200\n",
            "25/25 [==============================] - 12s 443ms/step - loss: 0.2189 - accuracy: 0.9239 - val_loss: 0.2651 - val_accuracy: 0.9107\n",
            "Epoch 15/200\n",
            "25/25 [==============================] - 12s 464ms/step - loss: 0.2650 - accuracy: 0.8934 - val_loss: 0.2897 - val_accuracy: 0.8571\n",
            "Epoch 16/200\n",
            "25/25 [==============================] - 12s 468ms/step - loss: 0.3049 - accuracy: 0.9036 - val_loss: 0.3562 - val_accuracy: 0.8750\n",
            "Epoch 17/200\n",
            "25/25 [==============================] - 12s 479ms/step - loss: 0.2248 - accuracy: 0.9188 - val_loss: 0.3725 - val_accuracy: 0.8929\n",
            "Epoch 18/200\n",
            "25/25 [==============================] - 12s 465ms/step - loss: 0.3317 - accuracy: 0.9036 - val_loss: 0.2500 - val_accuracy: 0.9107\n",
            "Epoch 19/200\n",
            "25/25 [==============================] - 12s 474ms/step - loss: 0.2486 - accuracy: 0.9137 - val_loss: 0.1957 - val_accuracy: 0.9464\n",
            "Epoch 20/200\n",
            "25/25 [==============================] - 12s 474ms/step - loss: 0.2708 - accuracy: 0.9036 - val_loss: 0.2288 - val_accuracy: 0.9286\n",
            "Epoch 21/200\n",
            "25/25 [==============================] - 12s 446ms/step - loss: 0.2485 - accuracy: 0.8985 - val_loss: 0.3310 - val_accuracy: 0.8929\n",
            "Epoch 22/200\n",
            "25/25 [==============================] - 12s 469ms/step - loss: 0.2160 - accuracy: 0.9086 - val_loss: 0.2143 - val_accuracy: 0.9464\n",
            "Epoch 23/200\n",
            "25/25 [==============================] - 12s 473ms/step - loss: 0.2422 - accuracy: 0.9086 - val_loss: 0.2063 - val_accuracy: 0.9643\n",
            "Epoch 24/200\n",
            "25/25 [==============================] - 12s 487ms/step - loss: 0.2644 - accuracy: 0.9036 - val_loss: 0.2122 - val_accuracy: 0.9464\n",
            "Epoch 25/200\n",
            "25/25 [==============================] - 12s 457ms/step - loss: 0.2657 - accuracy: 0.8934 - val_loss: 0.2034 - val_accuracy: 0.9464\n",
            "Epoch 26/200\n",
            "25/25 [==============================] - 12s 485ms/step - loss: 0.1473 - accuracy: 0.9594 - val_loss: 0.2464 - val_accuracy: 0.9464\n",
            "Epoch 27/200\n",
            "25/25 [==============================] - 12s 477ms/step - loss: 0.2758 - accuracy: 0.9137 - val_loss: 0.1998 - val_accuracy: 0.9643\n",
            "Epoch 28/200\n",
            "25/25 [==============================] - 12s 476ms/step - loss: 0.1671 - accuracy: 0.9239 - val_loss: 0.2255 - val_accuracy: 0.9464\n",
            "Epoch 29/200\n",
            "25/25 [==============================] - 12s 478ms/step - loss: 0.2993 - accuracy: 0.8883 - val_loss: 0.2273 - val_accuracy: 0.9643\n",
            "Epoch 30/200\n",
            "25/25 [==============================] - 12s 478ms/step - loss: 0.1875 - accuracy: 0.9289 - val_loss: 0.2209 - val_accuracy: 0.9464\n",
            "Epoch 31/200\n",
            "25/25 [==============================] - 12s 480ms/step - loss: 0.2372 - accuracy: 0.9137 - val_loss: 0.2200 - val_accuracy: 0.9286\n",
            "Epoch 32/200\n",
            "25/25 [==============================] - 12s 462ms/step - loss: 0.3003 - accuracy: 0.8832 - val_loss: 0.2252 - val_accuracy: 0.8929\n",
            "Epoch 33/200\n",
            "25/25 [==============================] - 12s 443ms/step - loss: 0.2224 - accuracy: 0.9239 - val_loss: 0.1952 - val_accuracy: 0.9643\n",
            "Epoch 34/200\n",
            "25/25 [==============================] - 12s 471ms/step - loss: 0.2489 - accuracy: 0.9188 - val_loss: 2.6395 - val_accuracy: 0.5000\n",
            "Epoch 35/200\n",
            "25/25 [==============================] - 12s 471ms/step - loss: 0.3583 - accuracy: 0.8782 - val_loss: 1.4053 - val_accuracy: 0.6786\n",
            "Epoch 36/200\n",
            "25/25 [==============================] - 12s 454ms/step - loss: 0.3302 - accuracy: 0.8985 - val_loss: 0.6731 - val_accuracy: 0.8393\n",
            "Epoch 37/200\n",
            "25/25 [==============================] - 12s 475ms/step - loss: 0.3200 - accuracy: 0.8528 - val_loss: 0.2654 - val_accuracy: 0.9286\n",
            "Epoch 38/200\n",
            "25/25 [==============================] - 12s 477ms/step - loss: 0.2673 - accuracy: 0.9036 - val_loss: 0.1886 - val_accuracy: 0.9643\n",
            "Epoch 39/200\n",
            "25/25 [==============================] - 12s 469ms/step - loss: 0.2884 - accuracy: 0.8934 - val_loss: 0.2339 - val_accuracy: 0.9286\n",
            "Epoch 40/200\n",
            "25/25 [==============================] - 12s 470ms/step - loss: 0.2279 - accuracy: 0.9391 - val_loss: 0.2067 - val_accuracy: 0.9286\n",
            "Epoch 41/200\n",
            "25/25 [==============================] - 12s 446ms/step - loss: 0.1659 - accuracy: 0.9340 - val_loss: 0.2369 - val_accuracy: 0.9107\n",
            "Epoch 42/200\n",
            "25/25 [==============================] - 12s 471ms/step - loss: 0.2927 - accuracy: 0.8985 - val_loss: 0.2556 - val_accuracy: 0.9464\n",
            "Epoch 43/200\n",
            "25/25 [==============================] - 12s 447ms/step - loss: 0.2484 - accuracy: 0.9086 - val_loss: 0.2203 - val_accuracy: 0.9464\n",
            "Epoch 44/200\n",
            "25/25 [==============================] - 12s 478ms/step - loss: 0.2622 - accuracy: 0.9239 - val_loss: 0.2521 - val_accuracy: 0.9107\n",
            "Epoch 45/200\n",
            "25/25 [==============================] - 12s 477ms/step - loss: 0.2124 - accuracy: 0.9239 - val_loss: 0.2168 - val_accuracy: 0.9107\n",
            "Epoch 46/200\n",
            "25/25 [==============================] - 12s 479ms/step - loss: 0.2554 - accuracy: 0.9137 - val_loss: 0.2188 - val_accuracy: 0.9107\n",
            "Epoch 47/200\n",
            "25/25 [==============================] - 12s 483ms/step - loss: 0.1656 - accuracy: 0.9543 - val_loss: 0.2287 - val_accuracy: 0.9464\n",
            "Epoch 48/200\n",
            "25/25 [==============================] - 12s 451ms/step - loss: 0.1773 - accuracy: 0.9442 - val_loss: 0.2169 - val_accuracy: 0.9643\n",
            "Epoch 49/200\n",
            "25/25 [==============================] - 12s 480ms/step - loss: 0.1445 - accuracy: 0.9645 - val_loss: 0.1780 - val_accuracy: 0.9643\n",
            "Epoch 50/200\n",
            "25/25 [==============================] - 12s 471ms/step - loss: 0.2024 - accuracy: 0.9492 - val_loss: 0.2870 - val_accuracy: 0.9286\n",
            "Epoch 51/200\n",
            "25/25 [==============================] - 12s 457ms/step - loss: 0.1869 - accuracy: 0.9340 - val_loss: 0.1394 - val_accuracy: 0.9821\n",
            "Epoch 52/200\n",
            "25/25 [==============================] - 12s 475ms/step - loss: 0.1988 - accuracy: 0.9137 - val_loss: 0.1839 - val_accuracy: 0.9821\n",
            "Epoch 53/200\n",
            "25/25 [==============================] - 12s 466ms/step - loss: 0.1780 - accuracy: 0.9239 - val_loss: 0.2346 - val_accuracy: 0.9821\n",
            "Epoch 54/200\n",
            "25/25 [==============================] - 12s 478ms/step - loss: 0.2659 - accuracy: 0.8832 - val_loss: 0.3596 - val_accuracy: 0.8571\n",
            "Epoch 55/200\n",
            "25/25 [==============================] - 12s 482ms/step - loss: 0.2014 - accuracy: 0.9289 - val_loss: 0.1617 - val_accuracy: 0.9821\n",
            "Epoch 56/200\n",
            "25/25 [==============================] - 12s 502ms/step - loss: 0.2316 - accuracy: 0.9391 - val_loss: 0.1907 - val_accuracy: 0.9643\n",
            "Epoch 57/200\n",
            "25/25 [==============================] - 12s 496ms/step - loss: 0.1768 - accuracy: 0.9391 - val_loss: 0.1729 - val_accuracy: 0.9464\n",
            "Epoch 58/200\n",
            "25/25 [==============================] - 12s 481ms/step - loss: 0.1468 - accuracy: 0.9543 - val_loss: 0.3390 - val_accuracy: 0.8929\n",
            "Epoch 59/200\n",
            "25/25 [==============================] - 12s 474ms/step - loss: 0.1881 - accuracy: 0.9492 - val_loss: 0.1808 - val_accuracy: 0.9464\n",
            "Epoch 60/200\n",
            "25/25 [==============================] - 12s 474ms/step - loss: 0.2173 - accuracy: 0.9036 - val_loss: 0.1494 - val_accuracy: 0.9643\n",
            "Epoch 61/200\n",
            "25/25 [==============================] - 12s 469ms/step - loss: 0.2202 - accuracy: 0.9239 - val_loss: 0.1540 - val_accuracy: 0.9821\n",
            "Epoch 62/200\n",
            "25/25 [==============================] - 12s 461ms/step - loss: 0.1371 - accuracy: 0.9543 - val_loss: 0.2033 - val_accuracy: 0.9464\n",
            "Epoch 63/200\n",
            "25/25 [==============================] - 12s 469ms/step - loss: 0.2155 - accuracy: 0.9239 - val_loss: 0.1399 - val_accuracy: 0.9643\n",
            "Epoch 64/200\n",
            "25/25 [==============================] - 12s 471ms/step - loss: 0.1996 - accuracy: 0.9188 - val_loss: 0.2403 - val_accuracy: 0.9464\n",
            "Epoch 65/200\n",
            "25/25 [==============================] - 12s 468ms/step - loss: 0.1460 - accuracy: 0.9492 - val_loss: 0.2294 - val_accuracy: 0.9464\n",
            "Epoch 66/200\n",
            "25/25 [==============================] - 12s 446ms/step - loss: 0.2574 - accuracy: 0.9086 - val_loss: 0.1405 - val_accuracy: 0.9821\n"
          ]
        }
      ]
    },
    {
      "cell_type": "markdown",
      "source": [
        "Kemudian kita akan periksa perhitungan akurasi dan fungsi *loss* dari model tersebut."
      ],
      "metadata": {
        "id": "6IIqnSkVYm6L"
      }
    },
    {
      "cell_type": "code",
      "source": [
        "metrics_3 = pd.DataFrame(history_3.history)\n",
        "metrics_3.describe()"
      ],
      "metadata": {
        "id": "P143uLtFecSC",
        "colab": {
          "base_uri": "https://localhost:8080/",
          "height": 300
        },
        "outputId": "c0c5daa2-d882-4d45-e029-76efd9899eda"
      },
      "execution_count": 46,
      "outputs": [
        {
          "output_type": "execute_result",
          "data": {
            "text/plain": [
              "            loss   accuracy   val_loss  val_accuracy\n",
              "count  66.000000  66.000000  66.000000     66.000000\n",
              "mean    0.260266   0.908629   0.354350      0.882576\n",
              "std     0.090866   0.032055   0.364654      0.122244\n",
              "min     0.137069   0.791878   0.139354      0.500000\n",
              "25%     0.201688   0.893401   0.204150      0.879464\n",
              "50%     0.248532   0.913706   0.231611      0.928571\n",
              "75%     0.298467   0.923858   0.345975      0.946429\n",
              "max     0.645222   0.964467   2.639500      0.982143"
            ],
            "text/html": [
              "\n",
              "  <div id=\"df-18644aa1-7160-4195-b18d-95b3b2d239ed\">\n",
              "    <div class=\"colab-df-container\">\n",
              "      <div>\n",
              "<style scoped>\n",
              "    .dataframe tbody tr th:only-of-type {\n",
              "        vertical-align: middle;\n",
              "    }\n",
              "\n",
              "    .dataframe tbody tr th {\n",
              "        vertical-align: top;\n",
              "    }\n",
              "\n",
              "    .dataframe thead th {\n",
              "        text-align: right;\n",
              "    }\n",
              "</style>\n",
              "<table border=\"1\" class=\"dataframe\">\n",
              "  <thead>\n",
              "    <tr style=\"text-align: right;\">\n",
              "      <th></th>\n",
              "      <th>loss</th>\n",
              "      <th>accuracy</th>\n",
              "      <th>val_loss</th>\n",
              "      <th>val_accuracy</th>\n",
              "    </tr>\n",
              "  </thead>\n",
              "  <tbody>\n",
              "    <tr>\n",
              "      <th>count</th>\n",
              "      <td>66.000000</td>\n",
              "      <td>66.000000</td>\n",
              "      <td>66.000000</td>\n",
              "      <td>66.000000</td>\n",
              "    </tr>\n",
              "    <tr>\n",
              "      <th>mean</th>\n",
              "      <td>0.260266</td>\n",
              "      <td>0.908629</td>\n",
              "      <td>0.354350</td>\n",
              "      <td>0.882576</td>\n",
              "    </tr>\n",
              "    <tr>\n",
              "      <th>std</th>\n",
              "      <td>0.090866</td>\n",
              "      <td>0.032055</td>\n",
              "      <td>0.364654</td>\n",
              "      <td>0.122244</td>\n",
              "    </tr>\n",
              "    <tr>\n",
              "      <th>min</th>\n",
              "      <td>0.137069</td>\n",
              "      <td>0.791878</td>\n",
              "      <td>0.139354</td>\n",
              "      <td>0.500000</td>\n",
              "    </tr>\n",
              "    <tr>\n",
              "      <th>25%</th>\n",
              "      <td>0.201688</td>\n",
              "      <td>0.893401</td>\n",
              "      <td>0.204150</td>\n",
              "      <td>0.879464</td>\n",
              "    </tr>\n",
              "    <tr>\n",
              "      <th>50%</th>\n",
              "      <td>0.248532</td>\n",
              "      <td>0.913706</td>\n",
              "      <td>0.231611</td>\n",
              "      <td>0.928571</td>\n",
              "    </tr>\n",
              "    <tr>\n",
              "      <th>75%</th>\n",
              "      <td>0.298467</td>\n",
              "      <td>0.923858</td>\n",
              "      <td>0.345975</td>\n",
              "      <td>0.946429</td>\n",
              "    </tr>\n",
              "    <tr>\n",
              "      <th>max</th>\n",
              "      <td>0.645222</td>\n",
              "      <td>0.964467</td>\n",
              "      <td>2.639500</td>\n",
              "      <td>0.982143</td>\n",
              "    </tr>\n",
              "  </tbody>\n",
              "</table>\n",
              "</div>\n",
              "      <button class=\"colab-df-convert\" onclick=\"convertToInteractive('df-18644aa1-7160-4195-b18d-95b3b2d239ed')\"\n",
              "              title=\"Convert this dataframe to an interactive table.\"\n",
              "              style=\"display:none;\">\n",
              "        \n",
              "  <svg xmlns=\"http://www.w3.org/2000/svg\" height=\"24px\"viewBox=\"0 0 24 24\"\n",
              "       width=\"24px\">\n",
              "    <path d=\"M0 0h24v24H0V0z\" fill=\"none\"/>\n",
              "    <path d=\"M18.56 5.44l.94 2.06.94-2.06 2.06-.94-2.06-.94-.94-2.06-.94 2.06-2.06.94zm-11 1L8.5 8.5l.94-2.06 2.06-.94-2.06-.94L8.5 2.5l-.94 2.06-2.06.94zm10 10l.94 2.06.94-2.06 2.06-.94-2.06-.94-.94-2.06-.94 2.06-2.06.94z\"/><path d=\"M17.41 7.96l-1.37-1.37c-.4-.4-.92-.59-1.43-.59-.52 0-1.04.2-1.43.59L10.3 9.45l-7.72 7.72c-.78.78-.78 2.05 0 2.83L4 21.41c.39.39.9.59 1.41.59.51 0 1.02-.2 1.41-.59l7.78-7.78 2.81-2.81c.8-.78.8-2.07 0-2.86zM5.41 20L4 18.59l7.72-7.72 1.47 1.35L5.41 20z\"/>\n",
              "  </svg>\n",
              "      </button>\n",
              "      \n",
              "  <style>\n",
              "    .colab-df-container {\n",
              "      display:flex;\n",
              "      flex-wrap:wrap;\n",
              "      gap: 12px;\n",
              "    }\n",
              "\n",
              "    .colab-df-convert {\n",
              "      background-color: #E8F0FE;\n",
              "      border: none;\n",
              "      border-radius: 50%;\n",
              "      cursor: pointer;\n",
              "      display: none;\n",
              "      fill: #1967D2;\n",
              "      height: 32px;\n",
              "      padding: 0 0 0 0;\n",
              "      width: 32px;\n",
              "    }\n",
              "\n",
              "    .colab-df-convert:hover {\n",
              "      background-color: #E2EBFA;\n",
              "      box-shadow: 0px 1px 2px rgba(60, 64, 67, 0.3), 0px 1px 3px 1px rgba(60, 64, 67, 0.15);\n",
              "      fill: #174EA6;\n",
              "    }\n",
              "\n",
              "    [theme=dark] .colab-df-convert {\n",
              "      background-color: #3B4455;\n",
              "      fill: #D2E3FC;\n",
              "    }\n",
              "\n",
              "    [theme=dark] .colab-df-convert:hover {\n",
              "      background-color: #434B5C;\n",
              "      box-shadow: 0px 1px 3px 1px rgba(0, 0, 0, 0.15);\n",
              "      filter: drop-shadow(0px 1px 2px rgba(0, 0, 0, 0.3));\n",
              "      fill: #FFFFFF;\n",
              "    }\n",
              "  </style>\n",
              "\n",
              "      <script>\n",
              "        const buttonEl =\n",
              "          document.querySelector('#df-18644aa1-7160-4195-b18d-95b3b2d239ed button.colab-df-convert');\n",
              "        buttonEl.style.display =\n",
              "          google.colab.kernel.accessAllowed ? 'block' : 'none';\n",
              "\n",
              "        async function convertToInteractive(key) {\n",
              "          const element = document.querySelector('#df-18644aa1-7160-4195-b18d-95b3b2d239ed');\n",
              "          const dataTable =\n",
              "            await google.colab.kernel.invokeFunction('convertToInteractive',\n",
              "                                                     [key], {});\n",
              "          if (!dataTable) return;\n",
              "\n",
              "          const docLinkHtml = 'Like what you see? Visit the ' +\n",
              "            '<a target=\"_blank\" href=https://colab.research.google.com/notebooks/data_table.ipynb>data table notebook</a>'\n",
              "            + ' to learn more about interactive tables.';\n",
              "          element.innerHTML = '';\n",
              "          dataTable['output_type'] = 'display_data';\n",
              "          await google.colab.output.renderOutput(dataTable, element);\n",
              "          const docLink = document.createElement('div');\n",
              "          docLink.innerHTML = docLinkHtml;\n",
              "          element.appendChild(docLink);\n",
              "        }\n",
              "      </script>\n",
              "    </div>\n",
              "  </div>\n",
              "  "
            ]
          },
          "metadata": {},
          "execution_count": 46
        }
      ]
    },
    {
      "cell_type": "markdown",
      "source": [
        "Dari perintah di atas, kita dapat mengetahui bahwa rata-rata akurasi dari model adalah sebesar 90.86% dengan rata-rata akurasi validasi sebesar 88.25%, serta model memiliki penalti rata-rata sebesar 0.2603 dengan penalti rata-rata validasi sebesar 0.3544. Model ini lebih baik dibandingkan dengan model pertama secara nilai akurasi dan *loss*. Untuk lebih jelasnya, kita dapat membuat grafik untuk menvisualisasikan akurasi model tersebut."
      ],
      "metadata": {
        "id": "W7flB1moZy4S"
      }
    },
    {
      "cell_type": "code",
      "source": [
        "metrics_3[[\"accuracy\", \"val_accuracy\", \"loss\", \"val_loss\"]].plot()"
      ],
      "metadata": {
        "id": "TavCoCK1eg90",
        "colab": {
          "base_uri": "https://localhost:8080/",
          "height": 282
        },
        "outputId": "27520487-0401-4a3b-fb08-dff32bd3e621"
      },
      "execution_count": 47,
      "outputs": [
        {
          "output_type": "execute_result",
          "data": {
            "text/plain": [
              "<matplotlib.axes._subplots.AxesSubplot at 0x7fba746257d0>"
            ]
          },
          "metadata": {},
          "execution_count": 47
        },
        {
          "output_type": "display_data",
          "data": {
            "text/plain": [
              "<Figure size 432x288 with 1 Axes>"
            ],
            "image/png": "[encoded data removed]"
          },
          "metadata": {
            "needs_background": "light"
          }
        }
      ]
    },
    {
      "cell_type": "markdown",
      "source": [
        "Dari grafik di atas kita dapat melihat bahwa nilai akurasi dan *loss* tidak sestabil pada model pertama meskipun trennya masih bisa dibilang bagus, meskipun di suatu titik nilai *validation loss*-nya melunjak sangat tinggi.\n",
        "\n",
        "Selanjutnya kita akan lihat bagaimana laporan klasifikasinya."
      ],
      "metadata": {
        "id": "BhhVbuyrZ2Sm"
      }
    },
    {
      "cell_type": "code",
      "source": [
        "y_testpred_3 = model_3.predict(ds_test).round(decimals = 0)\n",
        "\n",
        "print(\"---Model #3 Test Report---\")\n",
        "print(classification_report(y_test_encoded, y_testpred_3))"
      ],
      "metadata": {
        "id": "AABGYw9sZ6br",
        "colab": {
          "base_uri": "https://localhost:8080/"
        },
        "outputId": "4387b5b6-4eac-4587-ed63-aa459e1485ae"
      },
      "execution_count": 48,
      "outputs": [
        {
          "output_type": "stream",
          "name": "stdout",
          "text": [
            "---Model #3 Test Report---\n",
            "              precision    recall  f1-score   support\n",
            "\n",
            "           0       0.50      0.50      0.50        16\n",
            "           1       0.38      0.38      0.38        13\n",
            "\n",
            "    accuracy                           0.45        29\n",
            "   macro avg       0.44      0.44      0.44        29\n",
            "weighted avg       0.45      0.45      0.45        29\n",
            "\n"
          ]
        }
      ]
    },
    {
      "cell_type": "markdown",
      "source": [
        "Dari model di atas kita dapat melihat bahwa *recall* untuk label `Ripe` adalah sebesar 50% dan untuk label `Unripe` adalah sebesar 38%. Nilai ini menunjukkan bahwa model yang kita buat sangat *overfit* untuk *dataset* yang kita gunakan. Nilai ini juga lebih buruk dibandingkan dengan model identifikasi model sebelumnya.\n",
        "\n",
        "Kemudian kita akan lihat matriks *confusion*-nya."
      ],
      "metadata": {
        "id": "l_AQtLnzZ-7j"
      }
    },
    {
      "cell_type": "code",
      "source": [
        "ConfusionMatrixDisplay(confusion_matrix(y_test_encoded, y_testpred_3)).plot()\n",
        "plt.show()"
      ],
      "metadata": {
        "id": "W96h1sf_aFza",
        "colab": {
          "base_uri": "https://localhost:8080/",
          "height": 283
        },
        "outputId": "72e57a09-392e-41fd-ab1a-10fa5aeb6e32"
      },
      "execution_count": 49,
      "outputs": [
        {
          "output_type": "display_data",
          "data": {
            "text/plain": [
              "<Figure size 432x288 with 2 Axes>"
            ],
            "image/png": "[encoded data removed]"
          },
          "metadata": {
            "needs_background": "light"
          }
        }
      ]
    },
    {
      "cell_type": "markdown",
      "source": [
        "Dari matriks di atas dapat terlihat bahwa tingkat *recall* model masih buruk, terlihat dari banyaknya gambar tomat matang yang diidentifikasi sebagai tomat tidak matang dan sebaliknya, sebanyak 16 gambar.\n",
        "\n",
        "Dari model ini kita mengetahui bahwa `BatchNormalization` dan `Dropout` memiliki pengaruh negatif terhadap hasil *recall*."
      ],
      "metadata": {
        "id": "PZqzeDkdXtkM"
      }
    },
    {
      "cell_type": "markdown",
      "source": [
        "### Model #4: Mengurangi Jumlah *Node*"
      ],
      "metadata": {
        "id": "t7pVOQOKaSAD"
      }
    },
    {
      "cell_type": "markdown",
      "source": [
        "Untuk model ini, kita berangkat dari model ketiga, namun kita akan kurangi jumlah lapisan `Conv2D` yang akan kita gunakan. Selebihnya kita hanya akan tetap menggunakan lapisan `BatchNormalization` diantara masing-masing lapisan `Conv2D` untuk model ini."
      ],
      "metadata": {
        "id": "IunPL5mBamvb"
      }
    },
    {
      "cell_type": "code",
      "source": [
        "inputs = [img_height, img_width, 3]\n",
        "\n",
        "model_4 = keras.models.Sequential([\n",
        "    keras.layers.Conv2D(128, 3, activation = \"relu\", input_shape = inputs),\n",
        "    keras.layers.MaxPooling2D(),\n",
        "    keras.layers.BatchNormalization(),\n",
        "    keras.layers.Conv2D(32, 3, activation = \"relu\"),\n",
        "    keras.layers.MaxPooling2D(),\n",
        "    keras.layers.BatchNormalization(),\n",
        "    keras.layers.Flatten(),\n",
        "    keras.layers.Dense(16, activation = \"relu\"),\n",
        "    keras.layers.Dense(1, activation = \"sigmoid\")\n",
        "])\n",
        "\n",
        "stopper = tf.keras.callbacks.EarlyStopping(monitor = \"val_loss\", patience = 15)\n",
        "\n",
        "model_4.compile(optimizer = \"Adam\", loss = \"binary_crossentropy\", metrics = [\"accuracy\"])\n",
        "\n",
        "model_4.summary()"
      ],
      "metadata": {
        "id": "shphlBLGdxMy",
        "colab": {
          "base_uri": "https://localhost:8080/"
        },
        "outputId": "f6dac3fc-61bf-4d58-893d-6565b4c9a787"
      },
      "execution_count": 50,
      "outputs": [
        {
          "output_type": "stream",
          "name": "stdout",
          "text": [
            "Model: \"sequential_4\"\n",
            "_________________________________________________________________\n",
            " Layer (type)                Output Shape              Param #   \n",
            "=================================================================\n",
            " conv2d_15 (Conv2D)          (None, 298, 298, 128)     3584      \n",
            "                                                                 \n",
            " max_pooling2d_15 (MaxPoolin  (None, 149, 149, 128)    0         \n",
            " g2D)                                                            \n",
            "                                                                 \n",
            " batch_normalization_5 (Batc  (None, 149, 149, 128)    512       \n",
            " hNormalization)                                                 \n",
            "                                                                 \n",
            " conv2d_16 (Conv2D)          (None, 147, 147, 32)      36896     \n",
            "                                                                 \n",
            " max_pooling2d_16 (MaxPoolin  (None, 73, 73, 32)       0         \n",
            " g2D)                                                            \n",
            "                                                                 \n",
            " batch_normalization_6 (Batc  (None, 73, 73, 32)       128       \n",
            " hNormalization)                                                 \n",
            "                                                                 \n",
            " flatten_4 (Flatten)         (None, 170528)            0         \n",
            "                                                                 \n",
            " dense_8 (Dense)             (None, 16)                2728464   \n",
            "                                                                 \n",
            " dense_9 (Dense)             (None, 1)                 17        \n",
            "                                                                 \n",
            "=================================================================\n",
            "Total params: 2,769,601\n",
            "Trainable params: 2,769,281\n",
            "Non-trainable params: 320\n",
            "_________________________________________________________________\n"
          ]
        }
      ]
    },
    {
      "cell_type": "markdown",
      "source": [
        "Setelah model selesai di-*compile*, kita akan latih model tersebut. Untuk model ini kita akan menggunakan 200 epoch."
      ],
      "metadata": {
        "id": "tXPxAtYTYAna"
      }
    },
    {
      "cell_type": "code",
      "source": [
        "history_4 = model_4.fit(ds_train, batch_size = BATCH, \n",
        "                           epochs = 200, validation_data = ds_val, callbacks = stopper)"
      ],
      "metadata": {
        "id": "MWaoMB2keS1i",
        "colab": {
          "base_uri": "https://localhost:8080/"
        },
        "outputId": "e1d5cf86-3bad-499f-d8c7-8f16f7250dc0"
      },
      "execution_count": 51,
      "outputs": [
        {
          "output_type": "stream",
          "name": "stdout",
          "text": [
            "Epoch 1/200\n",
            "25/25 [==============================] - 14s 495ms/step - loss: 8.2071 - accuracy: 0.7462 - val_loss: 2.7684 - val_accuracy: 0.5357\n",
            "Epoch 2/200\n",
            "25/25 [==============================] - 12s 484ms/step - loss: 6.1364 - accuracy: 0.7513 - val_loss: 0.7699 - val_accuracy: 0.5000\n",
            "Epoch 3/200\n",
            "25/25 [==============================] - 12s 495ms/step - loss: 4.5312 - accuracy: 0.7766 - val_loss: 0.6829 - val_accuracy: 0.4643\n",
            "Epoch 4/200\n",
            "25/25 [==============================] - 12s 483ms/step - loss: 2.8048 - accuracy: 0.7614 - val_loss: 0.6829 - val_accuracy: 0.4464\n",
            "Epoch 5/200\n",
            "25/25 [==============================] - 12s 485ms/step - loss: 3.7557 - accuracy: 0.8223 - val_loss: 0.4172 - val_accuracy: 0.8750\n",
            "Epoch 6/200\n",
            "25/25 [==============================] - 12s 485ms/step - loss: 3.2171 - accuracy: 0.8173 - val_loss: 0.4807 - val_accuracy: 0.8571\n",
            "Epoch 7/200\n",
            "25/25 [==============================] - 12s 479ms/step - loss: 2.7474 - accuracy: 0.8426 - val_loss: 2.5644 - val_accuracy: 0.7143\n",
            "Epoch 8/200\n",
            "25/25 [==============================] - 12s 473ms/step - loss: 1.9671 - accuracy: 0.8528 - val_loss: 0.6517 - val_accuracy: 0.5179\n",
            "Epoch 9/200\n",
            "25/25 [==============================] - 12s 481ms/step - loss: 1.0198 - accuracy: 0.8680 - val_loss: 0.8392 - val_accuracy: 0.5179\n",
            "Epoch 10/200\n",
            "25/25 [==============================] - 12s 489ms/step - loss: 2.2450 - accuracy: 0.7868 - val_loss: 0.6880 - val_accuracy: 0.4643\n",
            "Epoch 11/200\n",
            "25/25 [==============================] - 12s 476ms/step - loss: 1.8801 - accuracy: 0.7817 - val_loss: 0.6947 - val_accuracy: 0.4643\n",
            "Epoch 12/200\n",
            "25/25 [==============================] - 12s 485ms/step - loss: 2.5419 - accuracy: 0.8325 - val_loss: 0.6610 - val_accuracy: 0.5714\n",
            "Epoch 13/200\n",
            "25/25 [==============================] - 12s 480ms/step - loss: 1.3181 - accuracy: 0.8223 - val_loss: 1.3573 - val_accuracy: 0.5536\n",
            "Epoch 14/200\n",
            "25/25 [==============================] - 12s 484ms/step - loss: 1.8413 - accuracy: 0.8426 - val_loss: 0.5957 - val_accuracy: 0.6071\n",
            "Epoch 15/200\n",
            "25/25 [==============================] - 12s 483ms/step - loss: 1.6105 - accuracy: 0.8528 - val_loss: 0.6098 - val_accuracy: 0.6964\n",
            "Epoch 16/200\n",
            "25/25 [==============================] - 12s 495ms/step - loss: 2.5810 - accuracy: 0.8122 - val_loss: 0.4798 - val_accuracy: 0.8571\n",
            "Epoch 17/200\n",
            "25/25 [==============================] - 12s 477ms/step - loss: 1.3905 - accuracy: 0.8985 - val_loss: 0.5721 - val_accuracy: 0.8214\n",
            "Epoch 18/200\n",
            "25/25 [==============================] - 12s 471ms/step - loss: 0.2833 - accuracy: 0.9137 - val_loss: 0.5206 - val_accuracy: 0.9286\n",
            "Epoch 19/200\n",
            "25/25 [==============================] - 12s 494ms/step - loss: 0.7996 - accuracy: 0.9036 - val_loss: 1.5118 - val_accuracy: 0.7857\n",
            "Epoch 20/200\n",
            "25/25 [==============================] - 12s 495ms/step - loss: 0.6827 - accuracy: 0.8629 - val_loss: 2.2978 - val_accuracy: 0.8750\n"
          ]
        }
      ]
    },
    {
      "cell_type": "markdown",
      "source": [
        "Kemudian kita akan periksa perhitungan akurasi dan fungsi *loss* dari model tersebut."
      ],
      "metadata": {
        "id": "VyuQCZWnYowy"
      }
    },
    {
      "cell_type": "code",
      "source": [
        "metrics_4 = pd.DataFrame(history_4.history)\n",
        "metrics_4.describe()"
      ],
      "metadata": {
        "id": "zBYyW7B9eeEC",
        "colab": {
          "base_uri": "https://localhost:8080/",
          "height": 300
        },
        "outputId": "2477842a-7b47-40a1-c102-11da22d268e1"
      },
      "execution_count": 52,
      "outputs": [
        {
          "output_type": "execute_result",
          "data": {
            "text/plain": [
              "            loss   accuracy   val_loss  val_accuracy\n",
              "count  20.000000  20.000000  20.000000     20.000000\n",
              "mean    2.578035   0.827411   0.992293      0.652679\n",
              "std     1.918559   0.049435   0.724131      0.170344\n",
              "min     0.283293   0.746193   0.417193      0.446429\n",
              "25%     1.372419   0.785533   0.589817      0.513393\n",
              "50%     2.106087   0.827411   0.682906      0.589286\n",
              "75%     2.907856   0.855330   0.968716      0.830357\n",
              "max     8.207061   0.913706   2.768448      0.928571"
            ],
            "text/html": [
              "\n",
              "  <div id=\"df-c27ab3b8-f105-4117-90d7-4d3e4afa212b\">\n",
              "    <div class=\"colab-df-container\">\n",
              "      <div>\n",
              "<style scoped>\n",
              "    .dataframe tbody tr th:only-of-type {\n",
              "        vertical-align: middle;\n",
              "    }\n",
              "\n",
              "    .dataframe tbody tr th {\n",
              "        vertical-align: top;\n",
              "    }\n",
              "\n",
              "    .dataframe thead th {\n",
              "        text-align: right;\n",
              "    }\n",
              "</style>\n",
              "<table border=\"1\" class=\"dataframe\">\n",
              "  <thead>\n",
              "    <tr style=\"text-align: right;\">\n",
              "      <th></th>\n",
              "      <th>loss</th>\n",
              "      <th>accuracy</th>\n",
              "      <th>val_loss</th>\n",
              "      <th>val_accuracy</th>\n",
              "    </tr>\n",
              "  </thead>\n",
              "  <tbody>\n",
              "    <tr>\n",
              "      <th>count</th>\n",
              "      <td>20.000000</td>\n",
              "      <td>20.000000</td>\n",
              "      <td>20.000000</td>\n",
              "      <td>20.000000</td>\n",
              "    </tr>\n",
              "    <tr>\n",
              "      <th>mean</th>\n",
              "      <td>2.578035</td>\n",
              "      <td>0.827411</td>\n",
              "      <td>0.992293</td>\n",
              "      <td>0.652679</td>\n",
              "    </tr>\n",
              "    <tr>\n",
              "      <th>std</th>\n",
              "      <td>1.918559</td>\n",
              "      <td>0.049435</td>\n",
              "      <td>0.724131</td>\n",
              "      <td>0.170344</td>\n",
              "    </tr>\n",
              "    <tr>\n",
              "      <th>min</th>\n",
              "      <td>0.283293</td>\n",
              "      <td>0.746193</td>\n",
              "      <td>0.417193</td>\n",
              "      <td>0.446429</td>\n",
              "    </tr>\n",
              "    <tr>\n",
              "      <th>25%</th>\n",
              "      <td>1.372419</td>\n",
              "      <td>0.785533</td>\n",
              "      <td>0.589817</td>\n",
              "      <td>0.513393</td>\n",
              "    </tr>\n",
              "    <tr>\n",
              "      <th>50%</th>\n",
              "      <td>2.106087</td>\n",
              "      <td>0.827411</td>\n",
              "      <td>0.682906</td>\n",
              "      <td>0.589286</td>\n",
              "    </tr>\n",
              "    <tr>\n",
              "      <th>75%</th>\n",
              "      <td>2.907856</td>\n",
              "      <td>0.855330</td>\n",
              "      <td>0.968716</td>\n",
              "      <td>0.830357</td>\n",
              "    </tr>\n",
              "    <tr>\n",
              "      <th>max</th>\n",
              "      <td>8.207061</td>\n",
              "      <td>0.913706</td>\n",
              "      <td>2.768448</td>\n",
              "      <td>0.928571</td>\n",
              "    </tr>\n",
              "  </tbody>\n",
              "</table>\n",
              "</div>\n",
              "      <button class=\"colab-df-convert\" onclick=\"convertToInteractive('df-c27ab3b8-f105-4117-90d7-4d3e4afa212b')\"\n",
              "              title=\"Convert this dataframe to an interactive table.\"\n",
              "              style=\"display:none;\">\n",
              "        \n",
              "  <svg xmlns=\"http://www.w3.org/2000/svg\" height=\"24px\"viewBox=\"0 0 24 24\"\n",
              "       width=\"24px\">\n",
              "    <path d=\"M0 0h24v24H0V0z\" fill=\"none\"/>\n",
              "    <path d=\"M18.56 5.44l.94 2.06.94-2.06 2.06-.94-2.06-.94-.94-2.06-.94 2.06-2.06.94zm-11 1L8.5 8.5l.94-2.06 2.06-.94-2.06-.94L8.5 2.5l-.94 2.06-2.06.94zm10 10l.94 2.06.94-2.06 2.06-.94-2.06-.94-.94-2.06-.94 2.06-2.06.94z\"/><path d=\"M17.41 7.96l-1.37-1.37c-.4-.4-.92-.59-1.43-.59-.52 0-1.04.2-1.43.59L10.3 9.45l-7.72 7.72c-.78.78-.78 2.05 0 2.83L4 21.41c.39.39.9.59 1.41.59.51 0 1.02-.2 1.41-.59l7.78-7.78 2.81-2.81c.8-.78.8-2.07 0-2.86zM5.41 20L4 18.59l7.72-7.72 1.47 1.35L5.41 20z\"/>\n",
              "  </svg>\n",
              "      </button>\n",
              "      \n",
              "  <style>\n",
              "    .colab-df-container {\n",
              "      display:flex;\n",
              "      flex-wrap:wrap;\n",
              "      gap: 12px;\n",
              "    }\n",
              "\n",
              "    .colab-df-convert {\n",
              "      background-color: #E8F0FE;\n",
              "      border: none;\n",
              "      border-radius: 50%;\n",
              "      cursor: pointer;\n",
              "      display: none;\n",
              "      fill: #1967D2;\n",
              "      height: 32px;\n",
              "      padding: 0 0 0 0;\n",
              "      width: 32px;\n",
              "    }\n",
              "\n",
              "    .colab-df-convert:hover {\n",
              "      background-color: #E2EBFA;\n",
              "      box-shadow: 0px 1px 2px rgba(60, 64, 67, 0.3), 0px 1px 3px 1px rgba(60, 64, 67, 0.15);\n",
              "      fill: #174EA6;\n",
              "    }\n",
              "\n",
              "    [theme=dark] .colab-df-convert {\n",
              "      background-color: #3B4455;\n",
              "      fill: #D2E3FC;\n",
              "    }\n",
              "\n",
              "    [theme=dark] .colab-df-convert:hover {\n",
              "      background-color: #434B5C;\n",
              "      box-shadow: 0px 1px 3px 1px rgba(0, 0, 0, 0.15);\n",
              "      filter: drop-shadow(0px 1px 2px rgba(0, 0, 0, 0.3));\n",
              "      fill: #FFFFFF;\n",
              "    }\n",
              "  </style>\n",
              "\n",
              "      <script>\n",
              "        const buttonEl =\n",
              "          document.querySelector('#df-c27ab3b8-f105-4117-90d7-4d3e4afa212b button.colab-df-convert');\n",
              "        buttonEl.style.display =\n",
              "          google.colab.kernel.accessAllowed ? 'block' : 'none';\n",
              "\n",
              "        async function convertToInteractive(key) {\n",
              "          const element = document.querySelector('#df-c27ab3b8-f105-4117-90d7-4d3e4afa212b');\n",
              "          const dataTable =\n",
              "            await google.colab.kernel.invokeFunction('convertToInteractive',\n",
              "                                                     [key], {});\n",
              "          if (!dataTable) return;\n",
              "\n",
              "          const docLinkHtml = 'Like what you see? Visit the ' +\n",
              "            '<a target=\"_blank\" href=https://colab.research.google.com/notebooks/data_table.ipynb>data table notebook</a>'\n",
              "            + ' to learn more about interactive tables.';\n",
              "          element.innerHTML = '';\n",
              "          dataTable['output_type'] = 'display_data';\n",
              "          await google.colab.output.renderOutput(dataTable, element);\n",
              "          const docLink = document.createElement('div');\n",
              "          docLink.innerHTML = docLinkHtml;\n",
              "          element.appendChild(docLink);\n",
              "        }\n",
              "      </script>\n",
              "    </div>\n",
              "  </div>\n",
              "  "
            ]
          },
          "metadata": {},
          "execution_count": 52
        }
      ]
    },
    {
      "cell_type": "markdown",
      "source": [
        "Dari perintah di atas, kita dapat mengetahui bahwa rata-rata akurasi dari model adalah sebesar 82.74% dengan rata-rata akurasi validasi sebesar 65.27%, serta model memiliki penalti rata-rata sebesar 2.578 dengan penalti rata-rata validasi sebesar 0.9923. Model ini memiliki nilai *loss* yang sangat besar sehingga dikhawatirkan akan lebih sering menghasilkan kesalahan penting. Untuk lebih jelasnya, kita dapat membuat grafik untuk menvisualisasikan akurasi model tersebut."
      ],
      "metadata": {
        "id": "62c0B5aUbEdU"
      }
    },
    {
      "cell_type": "code",
      "source": [
        "metrics_4[[\"accuracy\", \"val_accuracy\", \"loss\", \"val_loss\"]].plot()"
      ],
      "metadata": {
        "id": "ocx1_QFeeiTx",
        "colab": {
          "base_uri": "https://localhost:8080/",
          "height": 282
        },
        "outputId": "2f57b87c-2db7-483f-8081-b95db8066802"
      },
      "execution_count": 53,
      "outputs": [
        {
          "output_type": "execute_result",
          "data": {
            "text/plain": [
              "<matplotlib.axes._subplots.AxesSubplot at 0x7fbad770abd0>"
            ]
          },
          "metadata": {},
          "execution_count": 53
        },
        {
          "output_type": "display_data",
          "data": {
            "text/plain": [
              "<Figure size 432x288 with 1 Axes>"
            ],
            "image/png": "[encoded data removed]"
          },
          "metadata": {
            "needs_background": "light"
          }
        }
      ]
    },
    {
      "cell_type": "markdown",
      "source": [
        "Dari grafik di atas bahwa nilai *loss* model ini berada pada nilai yang tidak wajar, di mana kita menginginkan nilai *loss* berada di bawah 1 namun model ini bisa menghasilkan nilai *loss* hingga 16.\n",
        "\n",
        "Selanjutnya kita akan lihat bagaimana laporan klasifikasinya."
      ],
      "metadata": {
        "id": "UJHPFWv3bSxt"
      }
    },
    {
      "cell_type": "code",
      "source": [
        "y_testpred_4 = model_4.predict(ds_test).round(decimals = 0)\n",
        "\n",
        "print(\"---Model #4 Test Report---\")\n",
        "print(classification_report(y_test_encoded, y_testpred_4))"
      ],
      "metadata": {
        "id": "sN-AORTAgHxq",
        "colab": {
          "base_uri": "https://localhost:8080/"
        },
        "outputId": "c3cae7bb-cada-4e29-bb53-8ec71f52e349"
      },
      "execution_count": 54,
      "outputs": [
        {
          "output_type": "stream",
          "name": "stdout",
          "text": [
            "---Model #4 Test Report---\n",
            "              precision    recall  f1-score   support\n",
            "\n",
            "           0       0.56      0.56      0.56        16\n",
            "           1       0.46      0.46      0.46        13\n",
            "\n",
            "    accuracy                           0.52        29\n",
            "   macro avg       0.51      0.51      0.51        29\n",
            "weighted avg       0.52      0.52      0.52        29\n",
            "\n"
          ]
        }
      ]
    },
    {
      "cell_type": "markdown",
      "source": [
        "Dari model di atas kita dapat melihat bahwa *recall* untuk label `Ripe` adalah sebesar 56% dan untuk label `Unripe` adalah sebesar 46%. Nilai ini menunjukkan bahwa model yang kita buat sangat *overfit* untuk *dataset* yang kita gunakan. Nilai ini juga lebih buruk dibandingkan dengan model matriks pertama.\n",
        "\n",
        "Kemudian kita akan lihat matriks *confusion*-nya."
      ],
      "metadata": {
        "id": "Vvx_znO3bfNk"
      }
    },
    {
      "cell_type": "code",
      "source": [
        "ConfusionMatrixDisplay(confusion_matrix(y_test_encoded, y_testpred_4)).plot()\n",
        "plt.show()"
      ],
      "metadata": {
        "id": "mr5Wl9hAgbkz",
        "colab": {
          "base_uri": "https://localhost:8080/",
          "height": 283
        },
        "outputId": "a343841d-db6c-4c21-ca09-28323b1eac78"
      },
      "execution_count": 55,
      "outputs": [
        {
          "output_type": "display_data",
          "data": {
            "text/plain": [
              "<Figure size 432x288 with 2 Axes>"
            ],
            "image/png": "[encoded data removed]"
          },
          "metadata": {
            "needs_background": "light"
          }
        }
      ]
    },
    {
      "cell_type": "markdown",
      "source": [
        "Dari matriks di atas dapat terlihat bahwa tingkat *recall* model masih buruk, terlihat dari banyaknya gambar tomat matang yang diidentifikasi sebagai tomat tidak matang dan sebaliknya, sebanyak 14 gambar.\n",
        "\n",
        "Dari model ini kita mengetahui bahwa pengurangan *node* hanya mengakibatkan ledakan nilai *loss* yang lebih tidak terkendali."
      ],
      "metadata": {
        "id": "VWDt7VhvY05Q"
      }
    },
    {
      "cell_type": "markdown",
      "source": [
        "### Model Final"
      ],
      "metadata": {
        "id": "eMW4ha_zbq0c"
      }
    },
    {
      "cell_type": "markdown",
      "source": [
        "Dari model dasar dan keempat model eksperimen tadi, kita dapat mengetahui beberapa hal. Di antaranya:\n",
        "\n",
        "* Secara umum, model pertama merupakan model terbaik dari model-model yang telah dilatih,\n",
        "\n",
        "* Urutan *filter* berdasarkan ukuran tidak terlalu penting,\n",
        "\n",
        "* `BatchNormalization` dan `Dropout` memiliki efek negatif terhadap *recall* model,\n",
        "\n",
        "* Model harus memiliki lebih dari 3 lapisan `Conv2D` untuk menghindari ledakan nilai *loss*,\n",
        "\n",
        "Maka kita akan membuat model ini untuk memperbaiki model-model sebelumnya. Di mana kita hanya akan menggunakan *filter* dalam jumlah sedikit namun memiliki lapisan yang lebih banyak tanpa lapisan `BatchNormalization` dan `Dropout`. Selain itu kita juga akan memperbesar nilai kesabaran dari fungsi pemberhenti perhitungan."
      ],
      "metadata": {
        "id": "zmgsKonAbsk8"
      }
    },
    {
      "cell_type": "code",
      "source": [
        "inputs = [img_height, img_width, 3]\n",
        "\n",
        "model_final = keras.models.Sequential([\n",
        "    keras.layers.Conv2D(8, 3, activation = \"relu\", input_shape = inputs),\n",
        "    keras.layers.MaxPooling2D(),\n",
        "    keras.layers.Conv2D(8, 3, activation = \"relu\"),\n",
        "    keras.layers.MaxPooling2D(),\n",
        "    keras.layers.Conv2D(8, 3, activation = \"relu\"),\n",
        "    keras.layers.MaxPooling2D(),\n",
        "    keras.layers.Conv2D(64, 3, activation = \"relu\"),\n",
        "    keras.layers.MaxPooling2D(),\n",
        "    keras.layers.Flatten(),\n",
        "    keras.layers.Dense(64, activation = \"relu\"),\n",
        "    keras.layers.Dense(1, activation = \"sigmoid\")\n",
        "])\n",
        "\n",
        "stopper = tf.keras.callbacks.EarlyStopping(monitor = \"val_loss\", patience = 20)\n",
        "\n",
        "model_final.compile(optimizer = \"Adam\", loss = \"binary_crossentropy\", metrics = [\"accuracy\"])\n",
        "\n",
        "model_final.summary()"
      ],
      "metadata": {
        "id": "Yprj4e03zeIy",
        "colab": {
          "base_uri": "https://localhost:8080/"
        },
        "outputId": "a0d17522-d285-4cc0-e4d7-4b61fac0d600"
      },
      "execution_count": 56,
      "outputs": [
        {
          "output_type": "stream",
          "name": "stdout",
          "text": [
            "Model: \"sequential_5\"\n",
            "_________________________________________________________________\n",
            " Layer (type)                Output Shape              Param #   \n",
            "=================================================================\n",
            " conv2d_17 (Conv2D)          (None, 298, 298, 8)       224       \n",
            "                                                                 \n",
            " max_pooling2d_17 (MaxPoolin  (None, 149, 149, 8)      0         \n",
            " g2D)                                                            \n",
            "                                                                 \n",
            " conv2d_18 (Conv2D)          (None, 147, 147, 8)       584       \n",
            "                                                                 \n",
            " max_pooling2d_18 (MaxPoolin  (None, 73, 73, 8)        0         \n",
            " g2D)                                                            \n",
            "                                                                 \n",
            " conv2d_19 (Conv2D)          (None, 71, 71, 8)         584       \n",
            "                                                                 \n",
            " max_pooling2d_19 (MaxPoolin  (None, 35, 35, 8)        0         \n",
            " g2D)                                                            \n",
            "                                                                 \n",
            " conv2d_20 (Conv2D)          (None, 33, 33, 64)        4672      \n",
            "                                                                 \n",
            " max_pooling2d_20 (MaxPoolin  (None, 16, 16, 64)       0         \n",
            " g2D)                                                            \n",
            "                                                                 \n",
            " flatten_5 (Flatten)         (None, 16384)             0         \n",
            "                                                                 \n",
            " dense_10 (Dense)            (None, 64)                1048640   \n",
            "                                                                 \n",
            " dense_11 (Dense)            (None, 1)                 65        \n",
            "                                                                 \n",
            "=================================================================\n",
            "Total params: 1,054,769\n",
            "Trainable params: 1,054,769\n",
            "Non-trainable params: 0\n",
            "_________________________________________________________________\n"
          ]
        }
      ]
    },
    {
      "cell_type": "markdown",
      "source": [
        "Setelah model selesai di-*compile*, kita akan latih model tersebut. Untuk model ini kita akan menggunakan 200 epoch."
      ],
      "metadata": {
        "id": "SnKq7n4Nckml"
      }
    },
    {
      "cell_type": "code",
      "source": [
        "history_final = model_final.fit(ds_train, batch_size = BATCH, \n",
        "                           epochs = 200, validation_data = ds_val, callbacks = stopper)"
      ],
      "metadata": {
        "id": "mpm8143j1y-b",
        "colab": {
          "base_uri": "https://localhost:8080/"
        },
        "outputId": "a750d7f7-e0aa-40b2-a32c-dfb23803865d"
      },
      "execution_count": 57,
      "outputs": [
        {
          "output_type": "stream",
          "name": "stdout",
          "text": [
            "Epoch 1/200\n",
            "25/25 [==============================] - 13s 493ms/step - loss: 0.6449 - accuracy: 0.6041 - val_loss: 0.4872 - val_accuracy: 0.7857\n",
            "Epoch 2/200\n",
            "25/25 [==============================] - 12s 486ms/step - loss: 0.4356 - accuracy: 0.8173 - val_loss: 0.3707 - val_accuracy: 0.8929\n",
            "Epoch 3/200\n",
            "25/25 [==============================] - 12s 482ms/step - loss: 0.3417 - accuracy: 0.8579 - val_loss: 0.2888 - val_accuracy: 0.9107\n",
            "Epoch 4/200\n",
            "25/25 [==============================] - 12s 467ms/step - loss: 0.3092 - accuracy: 0.8680 - val_loss: 0.3129 - val_accuracy: 0.9107\n",
            "Epoch 5/200\n",
            "25/25 [==============================] - 12s 475ms/step - loss: 0.3702 - accuracy: 0.8528 - val_loss: 0.5066 - val_accuracy: 0.9107\n",
            "Epoch 6/200\n",
            "25/25 [==============================] - 12s 475ms/step - loss: 0.3081 - accuracy: 0.8883 - val_loss: 0.4319 - val_accuracy: 0.9107\n",
            "Epoch 7/200\n",
            "25/25 [==============================] - 12s 464ms/step - loss: 0.2755 - accuracy: 0.8985 - val_loss: 0.4154 - val_accuracy: 0.9286\n",
            "Epoch 8/200\n",
            "25/25 [==============================] - 12s 458ms/step - loss: 0.2758 - accuracy: 0.8883 - val_loss: 0.4080 - val_accuracy: 0.9107\n",
            "Epoch 9/200\n",
            "25/25 [==============================] - 12s 467ms/step - loss: 0.2470 - accuracy: 0.9086 - val_loss: 0.3379 - val_accuracy: 0.9286\n",
            "Epoch 10/200\n",
            "25/25 [==============================] - 12s 458ms/step - loss: 0.2386 - accuracy: 0.9086 - val_loss: 0.2813 - val_accuracy: 0.9286\n",
            "Epoch 11/200\n",
            "25/25 [==============================] - 12s 463ms/step - loss: 0.2588 - accuracy: 0.9086 - val_loss: 0.3974 - val_accuracy: 0.8929\n",
            "Epoch 12/200\n",
            "25/25 [==============================] - 12s 457ms/step - loss: 0.2534 - accuracy: 0.8934 - val_loss: 0.5290 - val_accuracy: 0.8750\n",
            "Epoch 13/200\n",
            "25/25 [==============================] - 12s 421ms/step - loss: 0.2583 - accuracy: 0.9036 - val_loss: 0.4159 - val_accuracy: 0.8929\n",
            "Epoch 14/200\n",
            "25/25 [==============================] - 12s 455ms/step - loss: 0.2414 - accuracy: 0.9086 - val_loss: 0.2722 - val_accuracy: 0.9286\n",
            "Epoch 15/200\n",
            "25/25 [==============================] - 12s 467ms/step - loss: 0.2684 - accuracy: 0.8934 - val_loss: 0.2791 - val_accuracy: 0.9286\n",
            "Epoch 16/200\n",
            "25/25 [==============================] - 12s 436ms/step - loss: 0.2485 - accuracy: 0.9086 - val_loss: 0.4096 - val_accuracy: 0.8929\n",
            "Epoch 17/200\n",
            "25/25 [==============================] - 12s 470ms/step - loss: 0.2406 - accuracy: 0.9188 - val_loss: 0.3189 - val_accuracy: 0.9107\n",
            "Epoch 18/200\n",
            "25/25 [==============================] - 12s 444ms/step - loss: 0.2832 - accuracy: 0.9036 - val_loss: 0.4071 - val_accuracy: 0.8929\n",
            "Epoch 19/200\n",
            "25/25 [==============================] - 12s 429ms/step - loss: 0.2340 - accuracy: 0.9036 - val_loss: 0.4055 - val_accuracy: 0.8929\n",
            "Epoch 20/200\n",
            "25/25 [==============================] - 12s 472ms/step - loss: 0.2151 - accuracy: 0.9086 - val_loss: 0.5632 - val_accuracy: 0.8393\n",
            "Epoch 21/200\n",
            "25/25 [==============================] - 12s 467ms/step - loss: 0.2524 - accuracy: 0.9086 - val_loss: 0.2639 - val_accuracy: 0.9107\n",
            "Epoch 22/200\n",
            "25/25 [==============================] - 12s 465ms/step - loss: 0.2380 - accuracy: 0.8985 - val_loss: 0.5401 - val_accuracy: 0.8750\n",
            "Epoch 23/200\n",
            "25/25 [==============================] - 12s 469ms/step - loss: 0.2564 - accuracy: 0.9137 - val_loss: 0.2606 - val_accuracy: 0.9107\n",
            "Epoch 24/200\n",
            "25/25 [==============================] - 12s 471ms/step - loss: 0.2352 - accuracy: 0.8934 - val_loss: 0.2735 - val_accuracy: 0.8929\n",
            "Epoch 25/200\n",
            "25/25 [==============================] - 12s 450ms/step - loss: 0.2441 - accuracy: 0.9188 - val_loss: 0.3278 - val_accuracy: 0.9107\n",
            "Epoch 26/200\n",
            "25/25 [==============================] - 12s 445ms/step - loss: 0.2408 - accuracy: 0.9036 - val_loss: 0.3255 - val_accuracy: 0.9107\n",
            "Epoch 27/200\n",
            "25/25 [==============================] - 12s 446ms/step - loss: 0.2392 - accuracy: 0.8985 - val_loss: 0.3250 - val_accuracy: 0.8929\n",
            "Epoch 28/200\n",
            "25/25 [==============================] - 12s 446ms/step - loss: 0.2080 - accuracy: 0.9239 - val_loss: 0.2962 - val_accuracy: 0.9107\n",
            "Epoch 29/200\n",
            "25/25 [==============================] - 12s 447ms/step - loss: 0.2062 - accuracy: 0.9137 - val_loss: 0.3258 - val_accuracy: 0.8929\n",
            "Epoch 30/200\n",
            "25/25 [==============================] - 12s 473ms/step - loss: 0.2108 - accuracy: 0.9188 - val_loss: 0.3908 - val_accuracy: 0.8750\n",
            "Epoch 31/200\n",
            "25/25 [==============================] - 12s 468ms/step - loss: 0.2058 - accuracy: 0.9239 - val_loss: 0.3297 - val_accuracy: 0.9107\n",
            "Epoch 32/200\n",
            "25/25 [==============================] - 12s 473ms/step - loss: 0.2111 - accuracy: 0.9239 - val_loss: 0.3406 - val_accuracy: 0.9107\n",
            "Epoch 33/200\n",
            "25/25 [==============================] - 12s 468ms/step - loss: 0.1996 - accuracy: 0.9086 - val_loss: 0.3368 - val_accuracy: 0.9107\n",
            "Epoch 34/200\n",
            "25/25 [==============================] - 12s 454ms/step - loss: 0.2660 - accuracy: 0.8782 - val_loss: 0.2885 - val_accuracy: 0.8750\n",
            "Epoch 35/200\n",
            "25/25 [==============================] - 12s 473ms/step - loss: 0.3217 - accuracy: 0.8731 - val_loss: 0.4351 - val_accuracy: 0.9107\n",
            "Epoch 36/200\n",
            "25/25 [==============================] - 12s 470ms/step - loss: 0.2466 - accuracy: 0.9086 - val_loss: 0.2459 - val_accuracy: 0.9107\n",
            "Epoch 37/200\n",
            "25/25 [==============================] - 12s 470ms/step - loss: 0.2159 - accuracy: 0.9239 - val_loss: 0.3660 - val_accuracy: 0.9107\n",
            "Epoch 38/200\n",
            "25/25 [==============================] - 12s 471ms/step - loss: 0.2201 - accuracy: 0.9137 - val_loss: 0.4352 - val_accuracy: 0.8750\n",
            "Epoch 39/200\n",
            "25/25 [==============================] - 11s 468ms/step - loss: 0.1981 - accuracy: 0.9137 - val_loss: 0.2569 - val_accuracy: 0.9107\n",
            "Epoch 40/200\n",
            "25/25 [==============================] - 12s 461ms/step - loss: 0.2146 - accuracy: 0.9137 - val_loss: 0.2934 - val_accuracy: 0.9286\n",
            "Epoch 41/200\n",
            "25/25 [==============================] - 12s 472ms/step - loss: 0.1877 - accuracy: 0.9239 - val_loss: 0.3841 - val_accuracy: 0.8929\n",
            "Epoch 42/200\n",
            "25/25 [==============================] - 12s 475ms/step - loss: 0.1575 - accuracy: 0.9239 - val_loss: 0.3040 - val_accuracy: 0.9286\n",
            "Epoch 43/200\n",
            "25/25 [==============================] - 12s 486ms/step - loss: 0.1934 - accuracy: 0.9289 - val_loss: 0.3754 - val_accuracy: 0.9107\n",
            "Epoch 44/200\n",
            "25/25 [==============================] - 12s 486ms/step - loss: 0.2124 - accuracy: 0.9188 - val_loss: 0.3134 - val_accuracy: 0.9107\n",
            "Epoch 45/200\n",
            "25/25 [==============================] - 12s 501ms/step - loss: 0.1756 - accuracy: 0.9340 - val_loss: 0.2748 - val_accuracy: 0.9464\n",
            "Epoch 46/200\n",
            "25/25 [==============================] - 12s 497ms/step - loss: 0.1703 - accuracy: 0.9391 - val_loss: 0.2821 - val_accuracy: 0.9286\n",
            "Epoch 47/200\n",
            "25/25 [==============================] - 12s 488ms/step - loss: 0.1783 - accuracy: 0.9239 - val_loss: 0.2787 - val_accuracy: 0.9464\n",
            "Epoch 48/200\n",
            "25/25 [==============================] - 12s 497ms/step - loss: 0.1717 - accuracy: 0.9340 - val_loss: 0.3149 - val_accuracy: 0.9107\n",
            "Epoch 49/200\n",
            "25/25 [==============================] - 12s 492ms/step - loss: 0.1786 - accuracy: 0.9340 - val_loss: 0.3687 - val_accuracy: 0.8929\n",
            "Epoch 50/200\n",
            "25/25 [==============================] - 12s 470ms/step - loss: 0.1738 - accuracy: 0.9239 - val_loss: 0.3827 - val_accuracy: 0.9107\n",
            "Epoch 51/200\n",
            "25/25 [==============================] - 12s 472ms/step - loss: 0.1844 - accuracy: 0.9239 - val_loss: 0.3493 - val_accuracy: 0.9107\n",
            "Epoch 52/200\n",
            "25/25 [==============================] - 12s 495ms/step - loss: 0.1666 - accuracy: 0.9289 - val_loss: 0.2923 - val_accuracy: 0.9107\n",
            "Epoch 53/200\n",
            "25/25 [==============================] - 12s 481ms/step - loss: 0.1700 - accuracy: 0.9239 - val_loss: 0.2516 - val_accuracy: 0.9107\n",
            "Epoch 54/200\n",
            "25/25 [==============================] - 12s 492ms/step - loss: 0.1821 - accuracy: 0.9239 - val_loss: 0.2847 - val_accuracy: 0.8929\n",
            "Epoch 55/200\n",
            "25/25 [==============================] - 12s 494ms/step - loss: 0.1831 - accuracy: 0.9645 - val_loss: 0.4730 - val_accuracy: 0.8750\n",
            "Epoch 56/200\n",
            "25/25 [==============================] - 12s 492ms/step - loss: 0.2310 - accuracy: 0.9239 - val_loss: 0.3576 - val_accuracy: 0.8929\n"
          ]
        }
      ]
    },
    {
      "cell_type": "markdown",
      "source": [
        "Kemudian kita akan periksa perhitungan akurasi dan fungsi *loss* dari model tersebut."
      ],
      "metadata": {
        "id": "m7Si_O6Mcwe0"
      }
    },
    {
      "cell_type": "code",
      "source": [
        "metrics_final = pd.DataFrame(history_final.history)\n",
        "metrics_final.describe()"
      ],
      "metadata": {
        "id": "lwr8PK8Y7xUu",
        "colab": {
          "base_uri": "https://localhost:8080/",
          "height": 300
        },
        "outputId": "af6bc575-85a4-4bfb-8c54-ca3dbeae2c30"
      },
      "execution_count": 58,
      "outputs": [
        {
          "output_type": "execute_result",
          "data": {
            "text/plain": [
              "            loss   accuracy   val_loss  val_accuracy\n",
              "count  56.000000  56.000000  56.000000     56.000000\n",
              "mean    0.240986   0.903372   0.353280      0.903061\n",
              "std     0.076491   0.046934   0.078092      0.024990\n",
              "min     0.157544   0.604061   0.245909      0.785714\n",
              "25%     0.196917   0.898477   0.288761      0.892857\n",
              "50%     0.234618   0.911168   0.333276      0.910714\n",
              "75%     0.256854   0.923858   0.405877      0.910714\n",
              "max     0.644939   0.964467   0.563246      0.946429"
            ],
            "text/html": [
              "\n",
              "  <div id=\"df-337cf9d2-931b-4cc6-9c33-6ac3408f4c78\">\n",
              "    <div class=\"colab-df-container\">\n",
              "      <div>\n",
              "<style scoped>\n",
              "    .dataframe tbody tr th:only-of-type {\n",
              "        vertical-align: middle;\n",
              "    }\n",
              "\n",
              "    .dataframe tbody tr th {\n",
              "        vertical-align: top;\n",
              "    }\n",
              "\n",
              "    .dataframe thead th {\n",
              "        text-align: right;\n",
              "    }\n",
              "</style>\n",
              "<table border=\"1\" class=\"dataframe\">\n",
              "  <thead>\n",
              "    <tr style=\"text-align: right;\">\n",
              "      <th></th>\n",
              "      <th>loss</th>\n",
              "      <th>accuracy</th>\n",
              "      <th>val_loss</th>\n",
              "      <th>val_accuracy</th>\n",
              "    </tr>\n",
              "  </thead>\n",
              "  <tbody>\n",
              "    <tr>\n",
              "      <th>count</th>\n",
              "      <td>56.000000</td>\n",
              "      <td>56.000000</td>\n",
              "      <td>56.000000</td>\n",
              "      <td>56.000000</td>\n",
              "    </tr>\n",
              "    <tr>\n",
              "      <th>mean</th>\n",
              "      <td>0.240986</td>\n",
              "      <td>0.903372</td>\n",
              "      <td>0.353280</td>\n",
              "      <td>0.903061</td>\n",
              "    </tr>\n",
              "    <tr>\n",
              "      <th>std</th>\n",
              "      <td>0.076491</td>\n",
              "      <td>0.046934</td>\n",
              "      <td>0.078092</td>\n",
              "      <td>0.024990</td>\n",
              "    </tr>\n",
              "    <tr>\n",
              "      <th>min</th>\n",
              "      <td>0.157544</td>\n",
              "      <td>0.604061</td>\n",
              "      <td>0.245909</td>\n",
              "      <td>0.785714</td>\n",
              "    </tr>\n",
              "    <tr>\n",
              "      <th>25%</th>\n",
              "      <td>0.196917</td>\n",
              "      <td>0.898477</td>\n",
              "      <td>0.288761</td>\n",
              "      <td>0.892857</td>\n",
              "    </tr>\n",
              "    <tr>\n",
              "      <th>50%</th>\n",
              "      <td>0.234618</td>\n",
              "      <td>0.911168</td>\n",
              "      <td>0.333276</td>\n",
              "      <td>0.910714</td>\n",
              "    </tr>\n",
              "    <tr>\n",
              "      <th>75%</th>\n",
              "      <td>0.256854</td>\n",
              "      <td>0.923858</td>\n",
              "      <td>0.405877</td>\n",
              "      <td>0.910714</td>\n",
              "    </tr>\n",
              "    <tr>\n",
              "      <th>max</th>\n",
              "      <td>0.644939</td>\n",
              "      <td>0.964467</td>\n",
              "      <td>0.563246</td>\n",
              "      <td>0.946429</td>\n",
              "    </tr>\n",
              "  </tbody>\n",
              "</table>\n",
              "</div>\n",
              "      <button class=\"colab-df-convert\" onclick=\"convertToInteractive('df-337cf9d2-931b-4cc6-9c33-6ac3408f4c78')\"\n",
              "              title=\"Convert this dataframe to an interactive table.\"\n",
              "              style=\"display:none;\">\n",
              "        \n",
              "  <svg xmlns=\"http://www.w3.org/2000/svg\" height=\"24px\"viewBox=\"0 0 24 24\"\n",
              "       width=\"24px\">\n",
              "    <path d=\"M0 0h24v24H0V0z\" fill=\"none\"/>\n",
              "    <path d=\"M18.56 5.44l.94 2.06.94-2.06 2.06-.94-2.06-.94-.94-2.06-.94 2.06-2.06.94zm-11 1L8.5 8.5l.94-2.06 2.06-.94-2.06-.94L8.5 2.5l-.94 2.06-2.06.94zm10 10l.94 2.06.94-2.06 2.06-.94-2.06-.94-.94-2.06-.94 2.06-2.06.94z\"/><path d=\"M17.41 7.96l-1.37-1.37c-.4-.4-.92-.59-1.43-.59-.52 0-1.04.2-1.43.59L10.3 9.45l-7.72 7.72c-.78.78-.78 2.05 0 2.83L4 21.41c.39.39.9.59 1.41.59.51 0 1.02-.2 1.41-.59l7.78-7.78 2.81-2.81c.8-.78.8-2.07 0-2.86zM5.41 20L4 18.59l7.72-7.72 1.47 1.35L5.41 20z\"/>\n",
              "  </svg>\n",
              "      </button>\n",
              "      \n",
              "  <style>\n",
              "    .colab-df-container {\n",
              "      display:flex;\n",
              "      flex-wrap:wrap;\n",
              "      gap: 12px;\n",
              "    }\n",
              "\n",
              "    .colab-df-convert {\n",
              "      background-color: #E8F0FE;\n",
              "      border: none;\n",
              "      border-radius: 50%;\n",
              "      cursor: pointer;\n",
              "      display: none;\n",
              "      fill: #1967D2;\n",
              "      height: 32px;\n",
              "      padding: 0 0 0 0;\n",
              "      width: 32px;\n",
              "    }\n",
              "\n",
              "    .colab-df-convert:hover {\n",
              "      background-color: #E2EBFA;\n",
              "      box-shadow: 0px 1px 2px rgba(60, 64, 67, 0.3), 0px 1px 3px 1px rgba(60, 64, 67, 0.15);\n",
              "      fill: #174EA6;\n",
              "    }\n",
              "\n",
              "    [theme=dark] .colab-df-convert {\n",
              "      background-color: #3B4455;\n",
              "      fill: #D2E3FC;\n",
              "    }\n",
              "\n",
              "    [theme=dark] .colab-df-convert:hover {\n",
              "      background-color: #434B5C;\n",
              "      box-shadow: 0px 1px 3px 1px rgba(0, 0, 0, 0.15);\n",
              "      filter: drop-shadow(0px 1px 2px rgba(0, 0, 0, 0.3));\n",
              "      fill: #FFFFFF;\n",
              "    }\n",
              "  </style>\n",
              "\n",
              "      <script>\n",
              "        const buttonEl =\n",
              "          document.querySelector('#df-337cf9d2-931b-4cc6-9c33-6ac3408f4c78 button.colab-df-convert');\n",
              "        buttonEl.style.display =\n",
              "          google.colab.kernel.accessAllowed ? 'block' : 'none';\n",
              "\n",
              "        async function convertToInteractive(key) {\n",
              "          const element = document.querySelector('#df-337cf9d2-931b-4cc6-9c33-6ac3408f4c78');\n",
              "          const dataTable =\n",
              "            await google.colab.kernel.invokeFunction('convertToInteractive',\n",
              "                                                     [key], {});\n",
              "          if (!dataTable) return;\n",
              "\n",
              "          const docLinkHtml = 'Like what you see? Visit the ' +\n",
              "            '<a target=\"_blank\" href=https://colab.research.google.com/notebooks/data_table.ipynb>data table notebook</a>'\n",
              "            + ' to learn more about interactive tables.';\n",
              "          element.innerHTML = '';\n",
              "          dataTable['output_type'] = 'display_data';\n",
              "          await google.colab.output.renderOutput(dataTable, element);\n",
              "          const docLink = document.createElement('div');\n",
              "          docLink.innerHTML = docLinkHtml;\n",
              "          element.appendChild(docLink);\n",
              "        }\n",
              "      </script>\n",
              "    </div>\n",
              "  </div>\n",
              "  "
            ]
          },
          "metadata": {},
          "execution_count": 58
        }
      ]
    },
    {
      "cell_type": "markdown",
      "source": [
        "Dari perintah di atas, kita dapat mengetahui bahwa rata-rata akurasi dari model adalah sebesar 90.34% dengan rata-rata akurasi validasi sebesar 90.3%, serta model memiliki penalti rata-rata sebesar 0.241 dengan penalti rata-rata validasi sebesar 0.3533. Hasil ini sudah lebih baik dibandingkan dengan model pertama dan model dasar yang kita buat sebelumnya. Untuk lebih jelasnya, kita dapat membuat grafik untuk menvisualisasikan akurasi model tersebut."
      ],
      "metadata": {
        "id": "CqqY2wIDcvIU"
      }
    },
    {
      "cell_type": "code",
      "source": [
        "metrics_final[[\"accuracy\", \"val_accuracy\", \"loss\", \"val_loss\"]].plot()"
      ],
      "metadata": {
        "id": "z0eI-Pqx7-9K",
        "colab": {
          "base_uri": "https://localhost:8080/",
          "height": 285
        },
        "outputId": "3cfac997-4916-42cd-a723-bc0a2f19a4ed"
      },
      "execution_count": 59,
      "outputs": [
        {
          "output_type": "execute_result",
          "data": {
            "text/plain": [
              "<matplotlib.axes._subplots.AxesSubplot at 0x7fbad73c3f90>"
            ]
          },
          "metadata": {},
          "execution_count": 59
        },
        {
          "output_type": "display_data",
          "data": {
            "text/plain": [
              "<Figure size 432x288 with 1 Axes>"
            ],
            "image/png": "[encoded data removed]"
          },
          "metadata": {
            "needs_background": "light"
          }
        }
      ]
    },
    {
      "cell_type": "markdown",
      "source": [
        "Dari grafik di atas kita dapat melihat bahwa nilai *validation loss*-nya masih tidak stabil, meskipun lebih terkendali.\n",
        "\n",
        "Selanjutnya kita akan lihat bagaimana laporan klasifikasinya."
      ],
      "metadata": {
        "id": "BY2QE9MXcstM"
      }
    },
    {
      "cell_type": "code",
      "source": [
        "y_testpred_final = model_final.predict(ds_test).round(decimals = 0)\n",
        "\n",
        "print(\"---Final Model Test Report---\")\n",
        "print(classification_report(y_test_encoded, y_testpred_final))"
      ],
      "metadata": {
        "id": "qTK6Lxh88ofn",
        "colab": {
          "base_uri": "https://localhost:8080/"
        },
        "outputId": "0274d6e2-958e-454b-b8b2-286103987c11"
      },
      "execution_count": 60,
      "outputs": [
        {
          "output_type": "stream",
          "name": "stdout",
          "text": [
            "---Final Model Test Report---\n",
            "              precision    recall  f1-score   support\n",
            "\n",
            "           0       0.50      0.50      0.50        16\n",
            "           1       0.38      0.38      0.38        13\n",
            "\n",
            "    accuracy                           0.45        29\n",
            "   macro avg       0.44      0.44      0.44        29\n",
            "weighted avg       0.45      0.45      0.45        29\n",
            "\n"
          ]
        }
      ]
    },
    {
      "cell_type": "markdown",
      "source": [
        "Dari model di atas kita dapat melihat bahwa *recall* untuk label `Ripe` adalah sebesar 50% dan untuk label `Unripe` adalah sebesar 38%. Nilai ini menunjukkan bahwa model yang kita buat sangat *overfit* untuk *dataset* yang kita gunakan. Nilai ini juga lebih buruk dibandingkan dengan model matriks pertama.\n",
        "\n",
        "Kemudian kita akan lihat matriks *confusion*-nya."
      ],
      "metadata": {
        "id": "VYo-koFVc75d"
      }
    },
    {
      "cell_type": "code",
      "source": [
        "ConfusionMatrixDisplay(confusion_matrix(y_test_encoded, y_testpred_final)).plot()\n",
        "plt.show()"
      ],
      "metadata": {
        "id": "fHTZHtgj8xqH",
        "colab": {
          "base_uri": "https://localhost:8080/",
          "height": 283
        },
        "outputId": "6b0589cf-f189-4307-9e3c-cfebe325cad4"
      },
      "execution_count": 61,
      "outputs": [
        {
          "output_type": "display_data",
          "data": {
            "text/plain": [
              "<Figure size 432x288 with 2 Axes>"
            ],
            "image/png": "[encoded data removed]"
          },
          "metadata": {
            "needs_background": "light"
          }
        }
      ]
    },
    {
      "cell_type": "markdown",
      "source": [
        "Dari matriks di atas dapat terlihat bahwa tingkat *recall* model masih buruk, terlihat dari banyaknya gambar tomat matang yang diidentifikasi sebagai tomat tidak matang dan sebaliknya, sebanyak 16 gambar.\n",
        "\n",
        "Umumnya penambahan lapisan dapat memperbaiki hasil identifikasi gambar. Namun, mengingat *dataset* training yang dimiliki tidak terlalu banyak, maka model akan sangat rentan untuk *overfitting*."
      ],
      "metadata": {
        "id": "LcddzJNGBnCk"
      }
    },
    {
      "cell_type": "markdown",
      "source": [
        "## *Inferencing*"
      ],
      "metadata": {
        "id": "WjZm48BIdBcU"
      }
    },
    {
      "cell_type": "markdown",
      "source": [
        "Untuk melakukan *inferencing*, kita harus melakukan *rescaling* terlebih dahulu gambar yang akan digunakan."
      ],
      "metadata": {
        "id": "VlMlQRB6dD7J"
      }
    },
    {
      "cell_type": "code",
      "source": [
        "inf_datagen = keras.preprocessing.image.ImageDataGenerator(rescale = 1./255)\n",
        "\n",
        "ds_inf = inf_datagen.flow_from_dataframe(\n",
        "    dataframe = df_inf,\n",
        "    x_col = \"ImagePath\",\n",
        "    y_col = \"Label\",\n",
        "    target_size = (img_height, img_width),\n",
        "    class_mode = \"binary\",\n",
        "    batch_size = BATCH,\n",
        "    seed = SEED)"
      ],
      "metadata": {
        "id": "04lIrt6agwOq",
        "colab": {
          "base_uri": "https://localhost:8080/"
        },
        "outputId": "5cc6b573-a102-4fda-e4ad-4428a9c8145f"
      },
      "execution_count": 62,
      "outputs": [
        {
          "output_type": "stream",
          "name": "stdout",
          "text": [
            "Found 6 validated image filenames belonging to 2 classes.\n"
          ]
        }
      ]
    },
    {
      "cell_type": "markdown",
      "source": [
        "Kemudian kita bisa langsung lakukan prediksi dengan menggunakan model final dan model dasar yang telah disusun sebelumnya."
      ],
      "metadata": {
        "id": "CQohCCUKdOIF"
      }
    },
    {
      "cell_type": "code",
      "source": [
        "y_inf = pd.DataFrame(le.transform(df_inf.Label), columns = [\"LabelReal\"])\n",
        "y_inf_best = pd.DataFrame(basemodel.predict(ds_inf), columns = [\"LabelBasePred\"]).round(decimals = 0)\n",
        "y_inf_final = pd.DataFrame(model_final.predict(ds_inf), columns = [\"LabelFinalPred\"]).round(decimals = 0)\n",
        "\n",
        "pd.concat([y_inf, y_inf_best, y_inf_final], axis = 1)"
      ],
      "metadata": {
        "id": "KzzrJ6wThCu7",
        "colab": {
          "base_uri": "https://localhost:8080/",
          "height": 238
        },
        "outputId": "7bd88081-9dfd-4ca5-ea7c-1731482e32ce"
      },
      "execution_count": 67,
      "outputs": [
        {
          "output_type": "execute_result",
          "data": {
            "text/plain": [
              "   LabelReal  LabelBasePred  LabelFinalPred\n",
              "0          1            1.0             1.0\n",
              "1          0            1.0             1.0\n",
              "2          0            1.0             0.0\n",
              "3          0            0.0             1.0\n",
              "4          1            0.0             0.0\n",
              "5          1            1.0             1.0"
            ],
            "text/html": [
              "\n",
              "  <div id=\"df-d9dd6633-4f31-474a-94cb-7c021ccdd760\">\n",
              "    <div class=\"colab-df-container\">\n",
              "      <div>\n",
              "<style scoped>\n",
              "    .dataframe tbody tr th:only-of-type {\n",
              "        vertical-align: middle;\n",
              "    }\n",
              "\n",
              "    .dataframe tbody tr th {\n",
              "        vertical-align: top;\n",
              "    }\n",
              "\n",
              "    .dataframe thead th {\n",
              "        text-align: right;\n",
              "    }\n",
              "</style>\n",
              "<table border=\"1\" class=\"dataframe\">\n",
              "  <thead>\n",
              "    <tr style=\"text-align: right;\">\n",
              "      <th></th>\n",
              "      <th>LabelReal</th>\n",
              "      <th>LabelBasePred</th>\n",
              "      <th>LabelFinalPred</th>\n",
              "    </tr>\n",
              "  </thead>\n",
              "  <tbody>\n",
              "    <tr>\n",
              "      <th>0</th>\n",
              "      <td>1</td>\n",
              "      <td>1.0</td>\n",
              "      <td>1.0</td>\n",
              "    </tr>\n",
              "    <tr>\n",
              "      <th>1</th>\n",
              "      <td>0</td>\n",
              "      <td>1.0</td>\n",
              "      <td>1.0</td>\n",
              "    </tr>\n",
              "    <tr>\n",
              "      <th>2</th>\n",
              "      <td>0</td>\n",
              "      <td>1.0</td>\n",
              "      <td>0.0</td>\n",
              "    </tr>\n",
              "    <tr>\n",
              "      <th>3</th>\n",
              "      <td>0</td>\n",
              "      <td>0.0</td>\n",
              "      <td>1.0</td>\n",
              "    </tr>\n",
              "    <tr>\n",
              "      <th>4</th>\n",
              "      <td>1</td>\n",
              "      <td>0.0</td>\n",
              "      <td>0.0</td>\n",
              "    </tr>\n",
              "    <tr>\n",
              "      <th>5</th>\n",
              "      <td>1</td>\n",
              "      <td>1.0</td>\n",
              "      <td>1.0</td>\n",
              "    </tr>\n",
              "  </tbody>\n",
              "</table>\n",
              "</div>\n",
              "      <button class=\"colab-df-convert\" onclick=\"convertToInteractive('df-d9dd6633-4f31-474a-94cb-7c021ccdd760')\"\n",
              "              title=\"Convert this dataframe to an interactive table.\"\n",
              "              style=\"display:none;\">\n",
              "        \n",
              "  <svg xmlns=\"http://www.w3.org/2000/svg\" height=\"24px\"viewBox=\"0 0 24 24\"\n",
              "       width=\"24px\">\n",
              "    <path d=\"M0 0h24v24H0V0z\" fill=\"none\"/>\n",
              "    <path d=\"M18.56 5.44l.94 2.06.94-2.06 2.06-.94-2.06-.94-.94-2.06-.94 2.06-2.06.94zm-11 1L8.5 8.5l.94-2.06 2.06-.94-2.06-.94L8.5 2.5l-.94 2.06-2.06.94zm10 10l.94 2.06.94-2.06 2.06-.94-2.06-.94-.94-2.06-.94 2.06-2.06.94z\"/><path d=\"M17.41 7.96l-1.37-1.37c-.4-.4-.92-.59-1.43-.59-.52 0-1.04.2-1.43.59L10.3 9.45l-7.72 7.72c-.78.78-.78 2.05 0 2.83L4 21.41c.39.39.9.59 1.41.59.51 0 1.02-.2 1.41-.59l7.78-7.78 2.81-2.81c.8-.78.8-2.07 0-2.86zM5.41 20L4 18.59l7.72-7.72 1.47 1.35L5.41 20z\"/>\n",
              "  </svg>\n",
              "      </button>\n",
              "      \n",
              "  <style>\n",
              "    .colab-df-container {\n",
              "      display:flex;\n",
              "      flex-wrap:wrap;\n",
              "      gap: 12px;\n",
              "    }\n",
              "\n",
              "    .colab-df-convert {\n",
              "      background-color: #E8F0FE;\n",
              "      border: none;\n",
              "      border-radius: 50%;\n",
              "      cursor: pointer;\n",
              "      display: none;\n",
              "      fill: #1967D2;\n",
              "      height: 32px;\n",
              "      padding: 0 0 0 0;\n",
              "      width: 32px;\n",
              "    }\n",
              "\n",
              "    .colab-df-convert:hover {\n",
              "      background-color: #E2EBFA;\n",
              "      box-shadow: 0px 1px 2px rgba(60, 64, 67, 0.3), 0px 1px 3px 1px rgba(60, 64, 67, 0.15);\n",
              "      fill: #174EA6;\n",
              "    }\n",
              "\n",
              "    [theme=dark] .colab-df-convert {\n",
              "      background-color: #3B4455;\n",
              "      fill: #D2E3FC;\n",
              "    }\n",
              "\n",
              "    [theme=dark] .colab-df-convert:hover {\n",
              "      background-color: #434B5C;\n",
              "      box-shadow: 0px 1px 3px 1px rgba(0, 0, 0, 0.15);\n",
              "      filter: drop-shadow(0px 1px 2px rgba(0, 0, 0, 0.3));\n",
              "      fill: #FFFFFF;\n",
              "    }\n",
              "  </style>\n",
              "\n",
              "      <script>\n",
              "        const buttonEl =\n",
              "          document.querySelector('#df-d9dd6633-4f31-474a-94cb-7c021ccdd760 button.colab-df-convert');\n",
              "        buttonEl.style.display =\n",
              "          google.colab.kernel.accessAllowed ? 'block' : 'none';\n",
              "\n",
              "        async function convertToInteractive(key) {\n",
              "          const element = document.querySelector('#df-d9dd6633-4f31-474a-94cb-7c021ccdd760');\n",
              "          const dataTable =\n",
              "            await google.colab.kernel.invokeFunction('convertToInteractive',\n",
              "                                                     [key], {});\n",
              "          if (!dataTable) return;\n",
              "\n",
              "          const docLinkHtml = 'Like what you see? Visit the ' +\n",
              "            '<a target=\"_blank\" href=https://colab.research.google.com/notebooks/data_table.ipynb>data table notebook</a>'\n",
              "            + ' to learn more about interactive tables.';\n",
              "          element.innerHTML = '';\n",
              "          dataTable['output_type'] = 'display_data';\n",
              "          await google.colab.output.renderOutput(dataTable, element);\n",
              "          const docLink = document.createElement('div');\n",
              "          docLink.innerHTML = docLinkHtml;\n",
              "          element.appendChild(docLink);\n",
              "        }\n",
              "      </script>\n",
              "    </div>\n",
              "  </div>\n",
              "  "
            ]
          },
          "metadata": {},
          "execution_count": 67
        }
      ]
    },
    {
      "cell_type": "markdown",
      "source": [
        "## Kesimpulan"
      ],
      "metadata": {
        "id": "bVGqhlQFday4"
      }
    },
    {
      "cell_type": "markdown",
      "source": [
        "Berikut adalah beberapa hal yang dapat kita simpulkan dari analisis yang sudah dibuat:\n",
        "\n",
        "* Berdasarkan EDA, kita ketahui bahwa data yang digunakan merupakan data gambar tomat matang dan tomat tidak matang yang berjumlah 288 buah yang kemudian dibagi menjadi *dataset train*, *dataset val*, dan *dataset test*,\n",
        "\n",
        "* Model-model yang dilatih umumnya mengalami permasalahan yang serupa, yaitu model mengalami nilai lonjakan *validation loss* pada saat dilatih. Hal ini mungkin disebabkan oleh kecilnya sampel data untuk pelatihan sehingga model lebih rentan mengalami *overfit* dan lebih rentan mengalami 'ledakan' nilai *validation loss*,\n",
        "\n",
        "* Karena model sangat rentan terhadap resiko ledakan nilai *validation loss*, maka model terbaik yang digunakan untuk model ini adalah model dasar dengan nilai *recall* label `Ripe` sebesar 62% dan nilai *recall* label `Unripe`sebesar 54%."
      ],
      "metadata": {
        "id": "N5-FqR3tCpcF"
      }
    },
    {
      "cell_type": "markdown",
      "source": [
        "## Tambahan: Menyimpan Model untuk *Deployment*"
      ],
      "metadata": {
        "id": "esJvHALrD5Of"
      }
    },
    {
      "cell_type": "markdown",
      "source": [
        "Perintah di bawah digunakan untuk mengambil model yang akan digunakan untuk *deployment*. Model yang akan digunakan adalah model dasar yang paling pertama dibangun."
      ],
      "metadata": {
        "id": "i8aCRqsnD9qu"
      }
    },
    {
      "cell_type": "code",
      "source": [
        "with open(\"inf_datagen.pkl\", \"wb\") as inf_imagegenerator:\n",
        "    pickle.dump(inf_datagen, inf_imagegenerator)\n",
        "\n",
        "basemodel.save(\"model_p2m2\")\n",
        "\n",
        "! zip -r model_p2m2.zip model_p2m2"
      ],
      "metadata": {
        "id": "erWZi0fIdb3p",
        "colab": {
          "base_uri": "https://localhost:8080/"
        },
        "outputId": "154334fd-a4c2-449f-f8ef-cc0e8f0c6b94"
      },
      "execution_count": 69,
      "outputs": [
        {
          "output_type": "stream",
          "name": "stdout",
          "text": [
            "updating: model_p2m2/ (stored 0%)\n",
            "updating: model_p2m2/assets/ (stored 0%)\n",
            "updating: model_p2m2/variables/ (stored 0%)\n",
            "updating: model_p2m2/variables/variables.index (deflated 68%)\n",
            "updating: model_p2m2/variables/variables.data-00000-of-00001 (deflated 13%)\n",
            "updating: model_p2m2/saved_model.pb (deflated 89%)\n",
            "updating: model_p2m2/keras_metadata.pb (deflated 92%)\n"
          ]
        }
      ]
    }
  ]
}