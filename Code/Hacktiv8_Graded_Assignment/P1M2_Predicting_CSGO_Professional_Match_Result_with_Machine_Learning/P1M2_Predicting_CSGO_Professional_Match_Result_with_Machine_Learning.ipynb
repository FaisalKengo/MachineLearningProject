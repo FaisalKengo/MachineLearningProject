{
 "cells": [
  {
   "cell_type": "markdown",
   "metadata": {},
   "source": [
    "# Memprediksi Hasil Pertandingan CS:GO\n",
    "\n",
    "`Faisal Kengo (FTDS Remote Batch 014)`"
   ]
  },
  {
   "cell_type": "markdown",
   "metadata": {},
   "source": [
    "## Perkenalan"
   ]
  },
  {
   "cell_type": "markdown",
   "metadata": {},
   "source": [
    "Nama saya Faisal Kengo, kali ini saya akan melatih berbagai macam model klasifikasi untuk memprediksi hasil pertandingan Counter-Strike: Global Offensive (CS:GO) tingkat profesional. *Dataset* yang digunakan diambil dari [Kaggle.com](https://www.kaggle.com/datasets/gabrieltardochi/counter-strike-global-offensive-matches) yang terdiri dari berbagai macam data yang muncul pada saat pertandingan CS:GO dilaksanakan mulai dari nama tim yang bertanding, kapan pertandingan berlangsung, berapa skor dari pertandingan tersebut, serta berbagai statistik yang menggambarkan performa pemain dari kedua tim yang bertanding sesuai dengan yang data yang terdapat di dalam portal [hltv.org](https://www.hltv.org/) dari tahun 2016 sampai tahun 2020."
   ]
  },
  {
   "cell_type": "markdown",
   "metadata": {},
   "source": [
    "### Tujuan Utama"
   ]
  },
  {
   "cell_type": "markdown",
   "metadata": {},
   "source": [
    "Tujuan dari penyusunan laporan ini adalah sebagai berikut:\n",
    "\n",
    "* Memprediksi hasil pertandingan CS:GO tingkat profesional dengan berbagai macam algoritma klasifikasi, baik dengan algoritma dengan *default hyperparameter* maupun algoritma yang sudah dilakukan *tuning* pada *hyperparameter*-nya,\n",
    "\n",
    "* Menampilkan hasil dari prediksi ke dalam sebuah *dashboard*."
   ]
  },
  {
   "cell_type": "markdown",
   "metadata": {},
   "source": [
    "## Pengolahan dan Analisa *Dataset*"
   ]
  },
  {
   "cell_type": "markdown",
   "metadata": {},
   "source": [
    "Sebelum kita memulai proses analisa data, kita akan mengimpor *library* yang akan digunakan untuk mengolah *dataset* serta memuat *dataset* yang telah kita unduh dari sumber."
   ]
  },
  {
   "cell_type": "markdown",
   "metadata": {},
   "source": [
    "### Impor *Library*"
   ]
  },
  {
   "cell_type": "markdown",
   "metadata": {},
   "source": [
    "Pertama-tama kita akan mengimpor terlebih dahulu *library* yang akan kita gunakan."
   ]
  },
  {
   "cell_type": "code",
   "execution_count": 181,
   "metadata": {},
   "outputs": [],
   "source": [
    "import pandas as pd\n",
    "import numpy as np\n",
    "import seaborn as sns\n",
    "import matplotlib.pyplot as plt\n",
    "import pickle\n",
    "from sklearn.model_selection import train_test_split, cross_val_score, GridSearchCV\n",
    "from sklearn.pipeline import Pipeline\n",
    "from sklearn.preprocessing import MinMaxScaler\n",
    "from sklearn.linear_model import LogisticRegression\n",
    "from sklearn.svm import SVC\n",
    "from sklearn.tree import DecisionTreeClassifier\n",
    "from sklearn.naive_bayes import GaussianNB\n",
    "from sklearn.metrics import classification_report"
   ]
  },
  {
   "cell_type": "markdown",
   "metadata": {},
   "source": [
    "Setelah kita memuat *library* yang akan kita gunakan, kita akan muat *dataset* yang sudah kita unduh."
   ]
  },
  {
   "cell_type": "markdown",
   "metadata": {},
   "source": [
    "### Memuat *Dataset*"
   ]
  },
  {
   "cell_type": "code",
   "execution_count": 182,
   "metadata": {},
   "outputs": [],
   "source": [
    "df = pd.read_csv(\"csgo_games.csv\")"
   ]
  },
  {
   "cell_type": "markdown",
   "metadata": {},
   "source": [
    "Lalu kita akan tampilkan bagian awal dari *dataset* tersebut."
   ]
  },
  {
   "cell_type": "code",
   "execution_count": 183,
   "metadata": {},
   "outputs": [
    {
     "data": {
      "text/html": [
       "<div>\n",
       "<style scoped>\n",
       "    .dataframe tbody tr th:only-of-type {\n",
       "        vertical-align: middle;\n",
       "    }\n",
       "\n",
       "    .dataframe tbody tr th {\n",
       "        vertical-align: top;\n",
       "    }\n",
       "\n",
       "    .dataframe thead th {\n",
       "        text-align: right;\n",
       "    }\n",
       "</style>\n",
       "<table border=\"1\" class=\"dataframe\">\n",
       "  <thead>\n",
       "    <tr style=\"text-align: right;\">\n",
       "      <th></th>\n",
       "      <th>match_date</th>\n",
       "      <th>team_1</th>\n",
       "      <th>team_2</th>\n",
       "      <th>t1_points</th>\n",
       "      <th>t2_points</th>\n",
       "      <th>t1_world_rank</th>\n",
       "      <th>t2_world_rank</th>\n",
       "      <th>t1_h2h_win_perc</th>\n",
       "      <th>t2_h2h_win_perc</th>\n",
       "      <th>winner</th>\n",
       "      <th>...</th>\n",
       "      <th>t2_player5_dpr</th>\n",
       "      <th>t2_player5_spr</th>\n",
       "      <th>t2_player5_opk_ratio</th>\n",
       "      <th>t2_player5_opk_rating</th>\n",
       "      <th>t2_player5_wins_perc_after_fk</th>\n",
       "      <th>t2_player5_fk_perc_in_wins</th>\n",
       "      <th>t2_player5_multikill_perc</th>\n",
       "      <th>t2_player5_rating_at_least_one_perc</th>\n",
       "      <th>t2_player5_is_sniper</th>\n",
       "      <th>t2_player5_clutch_win_perc</th>\n",
       "    </tr>\n",
       "  </thead>\n",
       "  <tbody>\n",
       "    <tr>\n",
       "      <th>0</th>\n",
       "      <td>2016-12-18</td>\n",
       "      <td>CLOUD9</td>\n",
       "      <td>HELLRAISERS</td>\n",
       "      <td>13</td>\n",
       "      <td>16</td>\n",
       "      <td>9</td>\n",
       "      <td>20</td>\n",
       "      <td>0.500000</td>\n",
       "      <td>0.500000</td>\n",
       "      <td>t2</td>\n",
       "      <td>...</td>\n",
       "      <td>0.63</td>\n",
       "      <td>0.10</td>\n",
       "      <td>1.05</td>\n",
       "      <td>0.92</td>\n",
       "      <td>0.733</td>\n",
       "      <td>0.104</td>\n",
       "      <td>0.147018</td>\n",
       "      <td>0.528</td>\n",
       "      <td>False</td>\n",
       "      <td>0.666667</td>\n",
       "    </tr>\n",
       "    <tr>\n",
       "      <th>1</th>\n",
       "      <td>2016-12-18</td>\n",
       "      <td>IMMORTALS</td>\n",
       "      <td>G2</td>\n",
       "      <td>17</td>\n",
       "      <td>19</td>\n",
       "      <td>13</td>\n",
       "      <td>10</td>\n",
       "      <td>0.500000</td>\n",
       "      <td>0.500000</td>\n",
       "      <td>t2</td>\n",
       "      <td>...</td>\n",
       "      <td>0.69</td>\n",
       "      <td>0.09</td>\n",
       "      <td>0.85</td>\n",
       "      <td>0.96</td>\n",
       "      <td>0.739</td>\n",
       "      <td>0.147</td>\n",
       "      <td>0.135810</td>\n",
       "      <td>0.438</td>\n",
       "      <td>True</td>\n",
       "      <td>0.406250</td>\n",
       "    </tr>\n",
       "    <tr>\n",
       "      <th>2</th>\n",
       "      <td>2016-12-18</td>\n",
       "      <td>MOUSESPORTS</td>\n",
       "      <td>IMMORTALS</td>\n",
       "      <td>16</td>\n",
       "      <td>3</td>\n",
       "      <td>12</td>\n",
       "      <td>13</td>\n",
       "      <td>0.500000</td>\n",
       "      <td>0.500000</td>\n",
       "      <td>t1</td>\n",
       "      <td>...</td>\n",
       "      <td>0.67</td>\n",
       "      <td>0.07</td>\n",
       "      <td>0.79</td>\n",
       "      <td>0.94</td>\n",
       "      <td>0.723</td>\n",
       "      <td>0.129</td>\n",
       "      <td>0.148257</td>\n",
       "      <td>0.526</td>\n",
       "      <td>False</td>\n",
       "      <td>0.733333</td>\n",
       "    </tr>\n",
       "    <tr>\n",
       "      <th>3</th>\n",
       "      <td>2016-12-18</td>\n",
       "      <td>DIGNITAS</td>\n",
       "      <td>G2</td>\n",
       "      <td>16</td>\n",
       "      <td>9</td>\n",
       "      <td>6</td>\n",
       "      <td>10</td>\n",
       "      <td>0.416667</td>\n",
       "      <td>0.583333</td>\n",
       "      <td>t1</td>\n",
       "      <td>...</td>\n",
       "      <td>0.69</td>\n",
       "      <td>0.09</td>\n",
       "      <td>0.85</td>\n",
       "      <td>0.96</td>\n",
       "      <td>0.739</td>\n",
       "      <td>0.147</td>\n",
       "      <td>0.135810</td>\n",
       "      <td>0.438</td>\n",
       "      <td>True</td>\n",
       "      <td>0.406250</td>\n",
       "    </tr>\n",
       "    <tr>\n",
       "      <th>4</th>\n",
       "      <td>2016-12-18</td>\n",
       "      <td>OPTIC</td>\n",
       "      <td>HELLRAISERS</td>\n",
       "      <td>16</td>\n",
       "      <td>10</td>\n",
       "      <td>4</td>\n",
       "      <td>20</td>\n",
       "      <td>0.500000</td>\n",
       "      <td>0.500000</td>\n",
       "      <td>t1</td>\n",
       "      <td>...</td>\n",
       "      <td>0.63</td>\n",
       "      <td>0.10</td>\n",
       "      <td>1.05</td>\n",
       "      <td>0.92</td>\n",
       "      <td>0.733</td>\n",
       "      <td>0.104</td>\n",
       "      <td>0.147018</td>\n",
       "      <td>0.528</td>\n",
       "      <td>False</td>\n",
       "      <td>0.666667</td>\n",
       "    </tr>\n",
       "  </tbody>\n",
       "</table>\n",
       "<p>5 rows × 170 columns</p>\n",
       "</div>"
      ],
      "text/plain": [
       "   match_date       team_1       team_2  t1_points  t2_points  t1_world_rank  \\\n",
       "0  2016-12-18       CLOUD9  HELLRAISERS         13         16              9   \n",
       "1  2016-12-18    IMMORTALS           G2         17         19             13   \n",
       "2  2016-12-18  MOUSESPORTS    IMMORTALS         16          3             12   \n",
       "3  2016-12-18     DIGNITAS           G2         16          9              6   \n",
       "4  2016-12-18        OPTIC  HELLRAISERS         16         10              4   \n",
       "\n",
       "   t2_world_rank  t1_h2h_win_perc  t2_h2h_win_perc winner  ...  \\\n",
       "0             20         0.500000         0.500000     t2  ...   \n",
       "1             10         0.500000         0.500000     t2  ...   \n",
       "2             13         0.500000         0.500000     t1  ...   \n",
       "3             10         0.416667         0.583333     t1  ...   \n",
       "4             20         0.500000         0.500000     t1  ...   \n",
       "\n",
       "   t2_player5_dpr  t2_player5_spr  t2_player5_opk_ratio  \\\n",
       "0            0.63            0.10                  1.05   \n",
       "1            0.69            0.09                  0.85   \n",
       "2            0.67            0.07                  0.79   \n",
       "3            0.69            0.09                  0.85   \n",
       "4            0.63            0.10                  1.05   \n",
       "\n",
       "   t2_player5_opk_rating  t2_player5_wins_perc_after_fk  \\\n",
       "0                   0.92                          0.733   \n",
       "1                   0.96                          0.739   \n",
       "2                   0.94                          0.723   \n",
       "3                   0.96                          0.739   \n",
       "4                   0.92                          0.733   \n",
       "\n",
       "   t2_player5_fk_perc_in_wins  t2_player5_multikill_perc  \\\n",
       "0                       0.104                   0.147018   \n",
       "1                       0.147                   0.135810   \n",
       "2                       0.129                   0.148257   \n",
       "3                       0.147                   0.135810   \n",
       "4                       0.104                   0.147018   \n",
       "\n",
       "   t2_player5_rating_at_least_one_perc  t2_player5_is_sniper  \\\n",
       "0                                0.528                 False   \n",
       "1                                0.438                  True   \n",
       "2                                0.526                 False   \n",
       "3                                0.438                  True   \n",
       "4                                0.528                 False   \n",
       "\n",
       "   t2_player5_clutch_win_perc  \n",
       "0                    0.666667  \n",
       "1                    0.406250  \n",
       "2                    0.733333  \n",
       "3                    0.406250  \n",
       "4                    0.666667  \n",
       "\n",
       "[5 rows x 170 columns]"
      ]
     },
     "execution_count": 183,
     "metadata": {},
     "output_type": "execute_result"
    }
   ],
   "source": [
    "df.head()"
   ]
  },
  {
   "cell_type": "markdown",
   "metadata": {},
   "source": [
    "Tak lupa kita tampilkan bagian akhir dari *dataset* tersebut."
   ]
  },
  {
   "cell_type": "code",
   "execution_count": 184,
   "metadata": {},
   "outputs": [
    {
     "data": {
      "text/html": [
       "<div>\n",
       "<style scoped>\n",
       "    .dataframe tbody tr th:only-of-type {\n",
       "        vertical-align: middle;\n",
       "    }\n",
       "\n",
       "    .dataframe tbody tr th {\n",
       "        vertical-align: top;\n",
       "    }\n",
       "\n",
       "    .dataframe thead th {\n",
       "        text-align: right;\n",
       "    }\n",
       "</style>\n",
       "<table border=\"1\" class=\"dataframe\">\n",
       "  <thead>\n",
       "    <tr style=\"text-align: right;\">\n",
       "      <th></th>\n",
       "      <th>match_date</th>\n",
       "      <th>team_1</th>\n",
       "      <th>team_2</th>\n",
       "      <th>t1_points</th>\n",
       "      <th>t2_points</th>\n",
       "      <th>t1_world_rank</th>\n",
       "      <th>t2_world_rank</th>\n",
       "      <th>t1_h2h_win_perc</th>\n",
       "      <th>t2_h2h_win_perc</th>\n",
       "      <th>winner</th>\n",
       "      <th>...</th>\n",
       "      <th>t2_player5_dpr</th>\n",
       "      <th>t2_player5_spr</th>\n",
       "      <th>t2_player5_opk_ratio</th>\n",
       "      <th>t2_player5_opk_rating</th>\n",
       "      <th>t2_player5_wins_perc_after_fk</th>\n",
       "      <th>t2_player5_fk_perc_in_wins</th>\n",
       "      <th>t2_player5_multikill_perc</th>\n",
       "      <th>t2_player5_rating_at_least_one_perc</th>\n",
       "      <th>t2_player5_is_sniper</th>\n",
       "      <th>t2_player5_clutch_win_perc</th>\n",
       "    </tr>\n",
       "  </thead>\n",
       "  <tbody>\n",
       "    <tr>\n",
       "      <th>3782</th>\n",
       "      <td>2020-01-25</td>\n",
       "      <td>VIRTUS.PRO</td>\n",
       "      <td>CLOUD9</td>\n",
       "      <td>0</td>\n",
       "      <td>2</td>\n",
       "      <td>19</td>\n",
       "      <td>17</td>\n",
       "      <td>0.500000</td>\n",
       "      <td>0.500000</td>\n",
       "      <td>t2</td>\n",
       "      <td>...</td>\n",
       "      <td>0.67</td>\n",
       "      <td>0.11</td>\n",
       "      <td>0.80</td>\n",
       "      <td>0.95</td>\n",
       "      <td>0.681</td>\n",
       "      <td>0.121</td>\n",
       "      <td>0.130481</td>\n",
       "      <td>0.444</td>\n",
       "      <td>False</td>\n",
       "      <td>0.777778</td>\n",
       "    </tr>\n",
       "    <tr>\n",
       "      <th>3783</th>\n",
       "      <td>2020-01-24</td>\n",
       "      <td>HEROIC</td>\n",
       "      <td>MAD LIONS</td>\n",
       "      <td>10</td>\n",
       "      <td>16</td>\n",
       "      <td>16</td>\n",
       "      <td>18</td>\n",
       "      <td>0.333333</td>\n",
       "      <td>0.666667</td>\n",
       "      <td>t2</td>\n",
       "      <td>...</td>\n",
       "      <td>0.65</td>\n",
       "      <td>0.08</td>\n",
       "      <td>0.64</td>\n",
       "      <td>0.80</td>\n",
       "      <td>0.811</td>\n",
       "      <td>0.082</td>\n",
       "      <td>0.095975</td>\n",
       "      <td>0.250</td>\n",
       "      <td>False</td>\n",
       "      <td>0.625000</td>\n",
       "    </tr>\n",
       "    <tr>\n",
       "      <th>3784</th>\n",
       "      <td>2020-01-19</td>\n",
       "      <td>HEROIC</td>\n",
       "      <td>FORZE</td>\n",
       "      <td>0</td>\n",
       "      <td>2</td>\n",
       "      <td>16</td>\n",
       "      <td>13</td>\n",
       "      <td>0.857143</td>\n",
       "      <td>0.142857</td>\n",
       "      <td>t2</td>\n",
       "      <td>...</td>\n",
       "      <td>0.63</td>\n",
       "      <td>0.09</td>\n",
       "      <td>0.89</td>\n",
       "      <td>0.92</td>\n",
       "      <td>0.747</td>\n",
       "      <td>0.113</td>\n",
       "      <td>0.154618</td>\n",
       "      <td>0.635</td>\n",
       "      <td>False</td>\n",
       "      <td>0.709677</td>\n",
       "    </tr>\n",
       "    <tr>\n",
       "      <th>3785</th>\n",
       "      <td>2020-01-19</td>\n",
       "      <td>CR4ZY</td>\n",
       "      <td>FORZE</td>\n",
       "      <td>0</td>\n",
       "      <td>2</td>\n",
       "      <td>20</td>\n",
       "      <td>13</td>\n",
       "      <td>0.538462</td>\n",
       "      <td>0.461538</td>\n",
       "      <td>t2</td>\n",
       "      <td>...</td>\n",
       "      <td>0.63</td>\n",
       "      <td>0.09</td>\n",
       "      <td>0.89</td>\n",
       "      <td>0.92</td>\n",
       "      <td>0.747</td>\n",
       "      <td>0.113</td>\n",
       "      <td>0.154618</td>\n",
       "      <td>0.635</td>\n",
       "      <td>False</td>\n",
       "      <td>0.709677</td>\n",
       "    </tr>\n",
       "    <tr>\n",
       "      <th>3786</th>\n",
       "      <td>2020-01-10</td>\n",
       "      <td>CLOUD9</td>\n",
       "      <td>MIBR</td>\n",
       "      <td>3</td>\n",
       "      <td>1</td>\n",
       "      <td>18</td>\n",
       "      <td>14</td>\n",
       "      <td>0.400000</td>\n",
       "      <td>0.600000</td>\n",
       "      <td>t1</td>\n",
       "      <td>...</td>\n",
       "      <td>0.65</td>\n",
       "      <td>0.06</td>\n",
       "      <td>1.06</td>\n",
       "      <td>0.99</td>\n",
       "      <td>0.702</td>\n",
       "      <td>0.133</td>\n",
       "      <td>0.145880</td>\n",
       "      <td>0.552</td>\n",
       "      <td>False</td>\n",
       "      <td>0.483871</td>\n",
       "    </tr>\n",
       "  </tbody>\n",
       "</table>\n",
       "<p>5 rows × 170 columns</p>\n",
       "</div>"
      ],
      "text/plain": [
       "      match_date      team_1     team_2  t1_points  t2_points  t1_world_rank  \\\n",
       "3782  2020-01-25  VIRTUS.PRO     CLOUD9          0          2             19   \n",
       "3783  2020-01-24      HEROIC  MAD LIONS         10         16             16   \n",
       "3784  2020-01-19      HEROIC      FORZE          0          2             16   \n",
       "3785  2020-01-19       CR4ZY      FORZE          0          2             20   \n",
       "3786  2020-01-10      CLOUD9       MIBR          3          1             18   \n",
       "\n",
       "      t2_world_rank  t1_h2h_win_perc  t2_h2h_win_perc winner  ...  \\\n",
       "3782             17         0.500000         0.500000     t2  ...   \n",
       "3783             18         0.333333         0.666667     t2  ...   \n",
       "3784             13         0.857143         0.142857     t2  ...   \n",
       "3785             13         0.538462         0.461538     t2  ...   \n",
       "3786             14         0.400000         0.600000     t1  ...   \n",
       "\n",
       "      t2_player5_dpr  t2_player5_spr  t2_player5_opk_ratio  \\\n",
       "3782            0.67            0.11                  0.80   \n",
       "3783            0.65            0.08                  0.64   \n",
       "3784            0.63            0.09                  0.89   \n",
       "3785            0.63            0.09                  0.89   \n",
       "3786            0.65            0.06                  1.06   \n",
       "\n",
       "      t2_player5_opk_rating  t2_player5_wins_perc_after_fk  \\\n",
       "3782                   0.95                          0.681   \n",
       "3783                   0.80                          0.811   \n",
       "3784                   0.92                          0.747   \n",
       "3785                   0.92                          0.747   \n",
       "3786                   0.99                          0.702   \n",
       "\n",
       "      t2_player5_fk_perc_in_wins  t2_player5_multikill_perc  \\\n",
       "3782                       0.121                   0.130481   \n",
       "3783                       0.082                   0.095975   \n",
       "3784                       0.113                   0.154618   \n",
       "3785                       0.113                   0.154618   \n",
       "3786                       0.133                   0.145880   \n",
       "\n",
       "      t2_player5_rating_at_least_one_perc  t2_player5_is_sniper  \\\n",
       "3782                                0.444                 False   \n",
       "3783                                0.250                 False   \n",
       "3784                                0.635                 False   \n",
       "3785                                0.635                 False   \n",
       "3786                                0.552                 False   \n",
       "\n",
       "      t2_player5_clutch_win_perc  \n",
       "3782                    0.777778  \n",
       "3783                    0.625000  \n",
       "3784                    0.709677  \n",
       "3785                    0.709677  \n",
       "3786                    0.483871  \n",
       "\n",
       "[5 rows x 170 columns]"
      ]
     },
     "execution_count": 184,
     "metadata": {},
     "output_type": "execute_result"
    }
   ],
   "source": [
    "df.tail()"
   ]
  },
  {
   "cell_type": "markdown",
   "metadata": {},
   "source": [
    "### *Exploratory Data Analysis*"
   ]
  },
  {
   "cell_type": "markdown",
   "metadata": {},
   "source": [
    "Pertama-tama kita akan melihat terlebih dahulu bagaimana data-data yang kita miliki di dalam *dataset* yang sudah dimuat dengan perintah `.info()`:"
   ]
  },
  {
   "cell_type": "code",
   "execution_count": 185,
   "metadata": {},
   "outputs": [
    {
     "name": "stdout",
     "output_type": "stream",
     "text": [
      "<class 'pandas.core.frame.DataFrame'>\n",
      "RangeIndex: 3787 entries, 0 to 3786\n",
      "Columns: 170 entries, match_date to t2_player5_clutch_win_perc\n",
      "dtypes: bool(10), float64(152), int64(4), object(4)\n",
      "memory usage: 4.7+ MB\n"
     ]
    }
   ],
   "source": [
    "df.info()"
   ]
  },
  {
   "cell_type": "markdown",
   "metadata": {},
   "source": [
    "Dari perintah di atas, kita dapat mengetahui bahwa *dataset* yang akan kita gunakan mengandung 3787 data yang tersusun dari 170 kolom yang berbeda. Namun pada perintah ini kita tidak dapat melihat *dataset* ini membahas tentang apa saja. Untuk menampilkan keseluruhan informasi dari setiap kolom di dalam *dataset*, kita akan tambahkan argumen `verbose = True, show_counts = True` ke dalam perintah `.info()`."
   ]
  },
  {
   "cell_type": "code",
   "execution_count": 186,
   "metadata": {},
   "outputs": [
    {
     "name": "stdout",
     "output_type": "stream",
     "text": [
      "<class 'pandas.core.frame.DataFrame'>\n",
      "RangeIndex: 3787 entries, 0 to 3786\n",
      "Data columns (total 170 columns):\n",
      " #    Column                               Non-Null Count  Dtype  \n",
      "---   ------                               --------------  -----  \n",
      " 0    match_date                           3787 non-null   object \n",
      " 1    team_1                               3787 non-null   object \n",
      " 2    team_2                               3787 non-null   object \n",
      " 3    t1_points                            3787 non-null   int64  \n",
      " 4    t2_points                            3787 non-null   int64  \n",
      " 5    t1_world_rank                        3787 non-null   int64  \n",
      " 6    t2_world_rank                        3787 non-null   int64  \n",
      " 7    t1_h2h_win_perc                      3787 non-null   float64\n",
      " 8    t2_h2h_win_perc                      3787 non-null   float64\n",
      " 9    winner                               3787 non-null   object \n",
      " 10   t1_player1_rating                    3787 non-null   float64\n",
      " 11   t1_player1_impact                    3787 non-null   float64\n",
      " 12   t1_player1_kdr                       3787 non-null   float64\n",
      " 13   t1_player1_dmr                       3787 non-null   float64\n",
      " 14   t1_player1_kpr                       3787 non-null   float64\n",
      " 15   t1_player1_apr                       3787 non-null   float64\n",
      " 16   t1_player1_dpr                       3787 non-null   float64\n",
      " 17   t1_player1_spr                       3787 non-null   float64\n",
      " 18   t1_player1_opk_ratio                 3787 non-null   float64\n",
      " 19   t1_player1_opk_rating                3787 non-null   float64\n",
      " 20   t1_player1_wins_perc_after_fk        3787 non-null   float64\n",
      " 21   t1_player1_fk_perc_in_wins           3787 non-null   float64\n",
      " 22   t1_player1_multikill_perc            3787 non-null   float64\n",
      " 23   t1_player1_rating_at_least_one_perc  3787 non-null   float64\n",
      " 24   t1_player1_is_sniper                 3787 non-null   bool   \n",
      " 25   t1_player1_clutch_win_perc           3787 non-null   float64\n",
      " 26   t1_player2_rating                    3787 non-null   float64\n",
      " 27   t1_player2_impact                    3787 non-null   float64\n",
      " 28   t1_player2_kdr                       3787 non-null   float64\n",
      " 29   t1_player2_dmr                       3787 non-null   float64\n",
      " 30   t1_player2_kpr                       3787 non-null   float64\n",
      " 31   t1_player2_apr                       3787 non-null   float64\n",
      " 32   t1_player2_dpr                       3787 non-null   float64\n",
      " 33   t1_player2_spr                       3787 non-null   float64\n",
      " 34   t1_player2_opk_ratio                 3787 non-null   float64\n",
      " 35   t1_player2_opk_rating                3787 non-null   float64\n",
      " 36   t1_player2_wins_perc_after_fk        3787 non-null   float64\n",
      " 37   t1_player2_fk_perc_in_wins           3787 non-null   float64\n",
      " 38   t1_player2_multikill_perc            3787 non-null   float64\n",
      " 39   t1_player2_rating_at_least_one_perc  3787 non-null   float64\n",
      " 40   t1_player2_is_sniper                 3787 non-null   bool   \n",
      " 41   t1_player2_clutch_win_perc           3787 non-null   float64\n",
      " 42   t1_player3_rating                    3787 non-null   float64\n",
      " 43   t1_player3_impact                    3787 non-null   float64\n",
      " 44   t1_player3_kdr                       3787 non-null   float64\n",
      " 45   t1_player3_dmr                       3787 non-null   float64\n",
      " 46   t1_player3_kpr                       3787 non-null   float64\n",
      " 47   t1_player3_apr                       3787 non-null   float64\n",
      " 48   t1_player3_dpr                       3787 non-null   float64\n",
      " 49   t1_player3_spr                       3787 non-null   float64\n",
      " 50   t1_player3_opk_ratio                 3787 non-null   float64\n",
      " 51   t1_player3_opk_rating                3787 non-null   float64\n",
      " 52   t1_player3_wins_perc_after_fk        3787 non-null   float64\n",
      " 53   t1_player3_fk_perc_in_wins           3787 non-null   float64\n",
      " 54   t1_player3_multikill_perc            3787 non-null   float64\n",
      " 55   t1_player3_rating_at_least_one_perc  3787 non-null   float64\n",
      " 56   t1_player3_is_sniper                 3787 non-null   bool   \n",
      " 57   t1_player3_clutch_win_perc           3787 non-null   float64\n",
      " 58   t1_player4_rating                    3787 non-null   float64\n",
      " 59   t1_player4_impact                    3787 non-null   float64\n",
      " 60   t1_player4_kdr                       3787 non-null   float64\n",
      " 61   t1_player4_dmr                       3787 non-null   float64\n",
      " 62   t1_player4_kpr                       3787 non-null   float64\n",
      " 63   t1_player4_apr                       3787 non-null   float64\n",
      " 64   t1_player4_dpr                       3787 non-null   float64\n",
      " 65   t1_player4_spr                       3787 non-null   float64\n",
      " 66   t1_player4_opk_ratio                 3787 non-null   float64\n",
      " 67   t1_player4_opk_rating                3787 non-null   float64\n",
      " 68   t1_player4_wins_perc_after_fk        3787 non-null   float64\n",
      " 69   t1_player4_fk_perc_in_wins           3787 non-null   float64\n",
      " 70   t1_player4_multikill_perc            3787 non-null   float64\n",
      " 71   t1_player4_rating_at_least_one_perc  3787 non-null   float64\n",
      " 72   t1_player4_is_sniper                 3787 non-null   bool   \n",
      " 73   t1_player4_clutch_win_perc           3787 non-null   float64\n",
      " 74   t1_player5_rating                    3787 non-null   float64\n",
      " 75   t1_player5_impact                    3787 non-null   float64\n",
      " 76   t1_player5_kdr                       3787 non-null   float64\n",
      " 77   t1_player5_dmr                       3787 non-null   float64\n",
      " 78   t1_player5_kpr                       3787 non-null   float64\n",
      " 79   t1_player5_apr                       3787 non-null   float64\n",
      " 80   t1_player5_dpr                       3787 non-null   float64\n",
      " 81   t1_player5_spr                       3787 non-null   float64\n",
      " 82   t1_player5_opk_ratio                 3787 non-null   float64\n",
      " 83   t1_player5_opk_rating                3787 non-null   float64\n",
      " 84   t1_player5_wins_perc_after_fk        3785 non-null   float64\n",
      " 85   t1_player5_fk_perc_in_wins           3787 non-null   float64\n",
      " 86   t1_player5_multikill_perc            3787 non-null   float64\n",
      " 87   t1_player5_rating_at_least_one_perc  3787 non-null   float64\n",
      " 88   t1_player5_is_sniper                 3787 non-null   bool   \n",
      " 89   t1_player5_clutch_win_perc           3787 non-null   float64\n",
      " 90   t2_player1_rating                    3787 non-null   float64\n",
      " 91   t2_player1_impact                    3787 non-null   float64\n",
      " 92   t2_player1_kdr                       3787 non-null   float64\n",
      " 93   t2_player1_dmr                       3787 non-null   float64\n",
      " 94   t2_player1_kpr                       3787 non-null   float64\n",
      " 95   t2_player1_apr                       3787 non-null   float64\n",
      " 96   t2_player1_dpr                       3787 non-null   float64\n",
      " 97   t2_player1_spr                       3787 non-null   float64\n",
      " 98   t2_player1_opk_ratio                 3787 non-null   float64\n",
      " 99   t2_player1_opk_rating                3787 non-null   float64\n",
      " 100  t2_player1_wins_perc_after_fk        3787 non-null   float64\n",
      " 101  t2_player1_fk_perc_in_wins           3787 non-null   float64\n",
      " 102  t2_player1_multikill_perc            3787 non-null   float64\n",
      " 103  t2_player1_rating_at_least_one_perc  3787 non-null   float64\n",
      " 104  t2_player1_is_sniper                 3787 non-null   bool   \n",
      " 105  t2_player1_clutch_win_perc           3787 non-null   float64\n",
      " 106  t2_player2_rating                    3787 non-null   float64\n",
      " 107  t2_player2_impact                    3787 non-null   float64\n",
      " 108  t2_player2_kdr                       3787 non-null   float64\n",
      " 109  t2_player2_dmr                       3787 non-null   float64\n",
      " 110  t2_player2_kpr                       3787 non-null   float64\n",
      " 111  t2_player2_apr                       3787 non-null   float64\n",
      " 112  t2_player2_dpr                       3787 non-null   float64\n",
      " 113  t2_player2_spr                       3787 non-null   float64\n",
      " 114  t2_player2_opk_ratio                 3787 non-null   float64\n",
      " 115  t2_player2_opk_rating                3787 non-null   float64\n",
      " 116  t2_player2_wins_perc_after_fk        3787 non-null   float64\n",
      " 117  t2_player2_fk_perc_in_wins           3787 non-null   float64\n",
      " 118  t2_player2_multikill_perc            3787 non-null   float64\n",
      " 119  t2_player2_rating_at_least_one_perc  3787 non-null   float64\n",
      " 120  t2_player2_is_sniper                 3787 non-null   bool   \n",
      " 121  t2_player2_clutch_win_perc           3787 non-null   float64\n",
      " 122  t2_player3_rating                    3787 non-null   float64\n",
      " 123  t2_player3_impact                    3787 non-null   float64\n",
      " 124  t2_player3_kdr                       3787 non-null   float64\n",
      " 125  t2_player3_dmr                       3787 non-null   float64\n",
      " 126  t2_player3_kpr                       3787 non-null   float64\n",
      " 127  t2_player3_apr                       3787 non-null   float64\n",
      " 128  t2_player3_dpr                       3787 non-null   float64\n",
      " 129  t2_player3_spr                       3787 non-null   float64\n",
      " 130  t2_player3_opk_ratio                 3787 non-null   float64\n",
      " 131  t2_player3_opk_rating                3787 non-null   float64\n",
      " 132  t2_player3_wins_perc_after_fk        3786 non-null   float64\n",
      " 133  t2_player3_fk_perc_in_wins           3787 non-null   float64\n",
      " 134  t2_player3_multikill_perc            3787 non-null   float64\n",
      " 135  t2_player3_rating_at_least_one_perc  3787 non-null   float64\n",
      " 136  t2_player3_is_sniper                 3787 non-null   bool   \n",
      " 137  t2_player3_clutch_win_perc           3787 non-null   float64\n",
      " 138  t2_player4_rating                    3787 non-null   float64\n",
      " 139  t2_player4_impact                    3787 non-null   float64\n",
      " 140  t2_player4_kdr                       3787 non-null   float64\n",
      " 141  t2_player4_dmr                       3787 non-null   float64\n",
      " 142  t2_player4_kpr                       3787 non-null   float64\n",
      " 143  t2_player4_apr                       3787 non-null   float64\n",
      " 144  t2_player4_dpr                       3787 non-null   float64\n",
      " 145  t2_player4_spr                       3787 non-null   float64\n",
      " 146  t2_player4_opk_ratio                 3787 non-null   float64\n",
      " 147  t2_player4_opk_rating                3787 non-null   float64\n",
      " 148  t2_player4_wins_perc_after_fk        3787 non-null   float64\n",
      " 149  t2_player4_fk_perc_in_wins           3787 non-null   float64\n",
      " 150  t2_player4_multikill_perc            3787 non-null   float64\n",
      " 151  t2_player4_rating_at_least_one_perc  3787 non-null   float64\n",
      " 152  t2_player4_is_sniper                 3787 non-null   bool   \n",
      " 153  t2_player4_clutch_win_perc           3787 non-null   float64\n",
      " 154  t2_player5_rating                    3787 non-null   float64\n",
      " 155  t2_player5_impact                    3787 non-null   float64\n",
      " 156  t2_player5_kdr                       3787 non-null   float64\n",
      " 157  t2_player5_dmr                       3787 non-null   float64\n",
      " 158  t2_player5_kpr                       3787 non-null   float64\n",
      " 159  t2_player5_apr                       3787 non-null   float64\n",
      " 160  t2_player5_dpr                       3787 non-null   float64\n",
      " 161  t2_player5_spr                       3787 non-null   float64\n",
      " 162  t2_player5_opk_ratio                 3787 non-null   float64\n",
      " 163  t2_player5_opk_rating                3787 non-null   float64\n",
      " 164  t2_player5_wins_perc_after_fk        3786 non-null   float64\n",
      " 165  t2_player5_fk_perc_in_wins           3787 non-null   float64\n",
      " 166  t2_player5_multikill_perc            3787 non-null   float64\n",
      " 167  t2_player5_rating_at_least_one_perc  3787 non-null   float64\n",
      " 168  t2_player5_is_sniper                 3787 non-null   bool   \n",
      " 169  t2_player5_clutch_win_perc           3787 non-null   float64\n",
      "dtypes: bool(10), float64(152), int64(4), object(4)\n",
      "memory usage: 4.7+ MB\n"
     ]
    }
   ],
   "source": [
    "df.info(verbose = True, show_counts = True)"
   ]
  },
  {
   "cell_type": "markdown",
   "metadata": {},
   "source": [
    "Kemudian kita akan mencari tahu rentang waktu pengambilan data. dengan perintah berikut:"
   ]
  },
  {
   "cell_type": "code",
   "execution_count": 187,
   "metadata": {},
   "outputs": [
    {
     "name": "stdout",
     "output_type": "stream",
     "text": [
      "Pertandingan pertama yang tercatat: 2016-01-14\n",
      "Pertandingan terakhir yang tercatat: 2020-12-20\n"
     ]
    }
   ],
   "source": [
    "print(\"Pertandingan pertama yang tercatat:\", df.match_date.min())\n",
    "print(\"Pertandingan terakhir yang tercatat:\",df.match_date.max())"
   ]
  },
  {
   "cell_type": "markdown",
   "metadata": {},
   "source": [
    "Untuk mengetahui secara persis rentang waktu pengambilan data, kita akan ubah terlebih dahulu tipe data pada `match_date` dari 'object' ke 'date'."
   ]
  },
  {
   "cell_type": "code",
   "execution_count": 188,
   "metadata": {},
   "outputs": [],
   "source": [
    "df[\"match_date\"] =  pd.to_datetime(df[\"match_date\"])"
   ]
  },
  {
   "cell_type": "markdown",
   "metadata": {},
   "source": [
    "Kemudian kita akan susun ulang data berdasarkan tanggal pertandingannya dan akan kita *reset* indeks *dataset*-nya."
   ]
  },
  {
   "cell_type": "code",
   "execution_count": 189,
   "metadata": {},
   "outputs": [
    {
     "name": "stdout",
     "output_type": "stream",
     "text": [
      "Pertandingan pertama yang tercatat: 2016-01-14 00:00:00\n",
      "Pertandingan terakhir yang tercatat: 2020-12-20 00:00:00\n"
     ]
    }
   ],
   "source": [
    "df.sort_values(by = \"match_date\", inplace = True)\n",
    "df.reset_index(drop = True, inplace = True)\n",
    "\n",
    "print(\"Pertandingan pertama yang tercatat:\", df.match_date.min())\n",
    "print(\"Pertandingan terakhir yang tercatat:\",df.match_date.max())"
   ]
  },
  {
   "cell_type": "markdown",
   "metadata": {},
   "source": [
    "\n",
    "\n",
    "Selanjutnya kita akan periksa ada berapa tim yang tercatat bertanding di dalam kompetisi CSGO profesional: "
   ]
  },
  {
   "cell_type": "code",
   "execution_count": 190,
   "metadata": {},
   "outputs": [
    {
     "data": {
      "text/plain": [
       "Team    69\n",
       "dtype: int64"
      ]
     },
     "execution_count": 190,
     "metadata": {},
     "output_type": "execute_result"
    }
   ],
   "source": [
    "column_teams = df[[\"team_1\", \"team_2\"]].values.ravel()\n",
    "unique_teams =  pd.unique(column_teams)\n",
    "unique_teams_df = pd.DataFrame(unique_teams, columns = [\"Team\"])\n",
    "\n",
    "unique_teams_df.nunique()"
   ]
  },
  {
   "cell_type": "markdown",
   "metadata": {},
   "source": [
    "Dari perintah di atas, kita dapat mengetahui bahwa terdapat 69 tim yang bertanding dan tercatat di dalam *dataset*. Perlu diingat bahwa ada kemungkinan satu tim mungkin hanya tercatat bertanding satu kali saja dan ada kemungkinan bahwa suatu tim berhenti beroperasi pada titik tertentu di tengah-tengah rentang waktu pencatatan data.\n",
    "\n",
    "Selanjutnya kita akan lihat berapa banyak poin yang diraih oleh kedua tim dalam suatu pertandingan."
   ]
  },
  {
   "cell_type": "code",
   "execution_count": 191,
   "metadata": {},
   "outputs": [
    {
     "name": "stdout",
     "output_type": "stream",
     "text": [
      "Poin yang diperoleh tim di sisi kiri:  [ 2  0  1 16  9 19  3 12  5  7  4 13 14 20 11 15  6 10  8 22 28 17 34 25\n",
      " 21 18 24 31 32 23 26]\n",
      "Poin yang diperoleh tim di sisi kiri:  [ 0  2  1  9 16  3 22 13 14  6 10  8 12  7  5 17 11 19  4 31 18 28 15 24\n",
      " 23 25 20 34 21]\n"
     ]
    }
   ],
   "source": [
    "print(\"Poin yang diperoleh tim di sisi kiri: \", df.t1_points.unique())\n",
    "print(\"Poin yang diperoleh tim di sisi kiri: \", df.t2_points.unique())"
   ]
  },
  {
   "cell_type": "markdown",
   "metadata": {},
   "source": [
    "Dari perintah di atas dapat diketahui bahwa ada pertandingan dalam *format Best of 1* yang tercatat di dalam *dataset*. Hal ini dibuktikan dengan besarnya skor pertandingan yang bisa melebihi angka 3.\n",
    "\n",
    "Untuk membuktikan hal ini, kita akan membuat sebuah *query* untuk melihat berapa jumlah pertandingan yang dimainkan dalam format *best of 1*."
   ]
  },
  {
   "cell_type": "code",
   "execution_count": 192,
   "metadata": {},
   "outputs": [
    {
     "data": {
      "text/html": [
       "<div>\n",
       "<style scoped>\n",
       "    .dataframe tbody tr th:only-of-type {\n",
       "        vertical-align: middle;\n",
       "    }\n",
       "\n",
       "    .dataframe tbody tr th {\n",
       "        vertical-align: top;\n",
       "    }\n",
       "\n",
       "    .dataframe thead th {\n",
       "        text-align: right;\n",
       "    }\n",
       "</style>\n",
       "<table border=\"1\" class=\"dataframe\">\n",
       "  <thead>\n",
       "    <tr style=\"text-align: right;\">\n",
       "      <th></th>\n",
       "      <th>match_date</th>\n",
       "      <th>team_1</th>\n",
       "      <th>team_2</th>\n",
       "      <th>t1_points</th>\n",
       "      <th>t2_points</th>\n",
       "      <th>t1_world_rank</th>\n",
       "      <th>t2_world_rank</th>\n",
       "      <th>t1_h2h_win_perc</th>\n",
       "      <th>t2_h2h_win_perc</th>\n",
       "      <th>winner</th>\n",
       "      <th>...</th>\n",
       "      <th>t2_player5_dpr</th>\n",
       "      <th>t2_player5_spr</th>\n",
       "      <th>t2_player5_opk_ratio</th>\n",
       "      <th>t2_player5_opk_rating</th>\n",
       "      <th>t2_player5_wins_perc_after_fk</th>\n",
       "      <th>t2_player5_fk_perc_in_wins</th>\n",
       "      <th>t2_player5_multikill_perc</th>\n",
       "      <th>t2_player5_rating_at_least_one_perc</th>\n",
       "      <th>t2_player5_is_sniper</th>\n",
       "      <th>t2_player5_clutch_win_perc</th>\n",
       "    </tr>\n",
       "  </thead>\n",
       "  <tbody>\n",
       "    <tr>\n",
       "      <th>7</th>\n",
       "      <td>2016-01-22</td>\n",
       "      <td>ASTRALIS</td>\n",
       "      <td>DIGNITAS</td>\n",
       "      <td>16</td>\n",
       "      <td>9</td>\n",
       "      <td>4</td>\n",
       "      <td>14</td>\n",
       "      <td>0.666667</td>\n",
       "      <td>0.333333</td>\n",
       "      <td>t1</td>\n",
       "      <td>...</td>\n",
       "      <td>0.75</td>\n",
       "      <td>0.09</td>\n",
       "      <td>0.82</td>\n",
       "      <td>1.05</td>\n",
       "      <td>0.779</td>\n",
       "      <td>0.189</td>\n",
       "      <td>0.165812</td>\n",
       "      <td>0.277</td>\n",
       "      <td>False</td>\n",
       "      <td>0.615385</td>\n",
       "    </tr>\n",
       "    <tr>\n",
       "      <th>8</th>\n",
       "      <td>2016-01-22</td>\n",
       "      <td>LUMINOSITY</td>\n",
       "      <td>FAZE</td>\n",
       "      <td>9</td>\n",
       "      <td>16</td>\n",
       "      <td>6</td>\n",
       "      <td>8</td>\n",
       "      <td>1.000000</td>\n",
       "      <td>0.000000</td>\n",
       "      <td>t2</td>\n",
       "      <td>...</td>\n",
       "      <td>0.66</td>\n",
       "      <td>0.07</td>\n",
       "      <td>0.97</td>\n",
       "      <td>0.96</td>\n",
       "      <td>0.739</td>\n",
       "      <td>0.131</td>\n",
       "      <td>0.143668</td>\n",
       "      <td>0.415</td>\n",
       "      <td>False</td>\n",
       "      <td>0.709677</td>\n",
       "    </tr>\n",
       "    <tr>\n",
       "      <th>10</th>\n",
       "      <td>2016-01-22</td>\n",
       "      <td>NATUS VINCERE</td>\n",
       "      <td>SK</td>\n",
       "      <td>16</td>\n",
       "      <td>3</td>\n",
       "      <td>2</td>\n",
       "      <td>19</td>\n",
       "      <td>1.000000</td>\n",
       "      <td>0.000000</td>\n",
       "      <td>t1</td>\n",
       "      <td>...</td>\n",
       "      <td>0.68</td>\n",
       "      <td>0.08</td>\n",
       "      <td>0.86</td>\n",
       "      <td>0.98</td>\n",
       "      <td>0.756</td>\n",
       "      <td>0.150</td>\n",
       "      <td>0.167409</td>\n",
       "      <td>0.475</td>\n",
       "      <td>False</td>\n",
       "      <td>0.666667</td>\n",
       "    </tr>\n",
       "    <tr>\n",
       "      <th>11</th>\n",
       "      <td>2016-01-22</td>\n",
       "      <td>NATUS VINCERE</td>\n",
       "      <td>FAZE</td>\n",
       "      <td>16</td>\n",
       "      <td>9</td>\n",
       "      <td>2</td>\n",
       "      <td>8</td>\n",
       "      <td>0.461538</td>\n",
       "      <td>0.538462</td>\n",
       "      <td>t1</td>\n",
       "      <td>...</td>\n",
       "      <td>0.66</td>\n",
       "      <td>0.07</td>\n",
       "      <td>0.97</td>\n",
       "      <td>0.96</td>\n",
       "      <td>0.739</td>\n",
       "      <td>0.131</td>\n",
       "      <td>0.143668</td>\n",
       "      <td>0.415</td>\n",
       "      <td>False</td>\n",
       "      <td>0.709677</td>\n",
       "    </tr>\n",
       "    <tr>\n",
       "      <th>12</th>\n",
       "      <td>2016-01-22</td>\n",
       "      <td>MOUSESPORTS</td>\n",
       "      <td>ASTRALIS</td>\n",
       "      <td>19</td>\n",
       "      <td>22</td>\n",
       "      <td>12</td>\n",
       "      <td>4</td>\n",
       "      <td>0.333333</td>\n",
       "      <td>0.666667</td>\n",
       "      <td>t2</td>\n",
       "      <td>...</td>\n",
       "      <td>0.68</td>\n",
       "      <td>0.07</td>\n",
       "      <td>0.95</td>\n",
       "      <td>1.01</td>\n",
       "      <td>0.726</td>\n",
       "      <td>0.141</td>\n",
       "      <td>0.160968</td>\n",
       "      <td>0.438</td>\n",
       "      <td>True</td>\n",
       "      <td>0.625000</td>\n",
       "    </tr>\n",
       "    <tr>\n",
       "      <th>...</th>\n",
       "      <td>...</td>\n",
       "      <td>...</td>\n",
       "      <td>...</td>\n",
       "      <td>...</td>\n",
       "      <td>...</td>\n",
       "      <td>...</td>\n",
       "      <td>...</td>\n",
       "      <td>...</td>\n",
       "      <td>...</td>\n",
       "      <td>...</td>\n",
       "      <td>...</td>\n",
       "      <td>...</td>\n",
       "      <td>...</td>\n",
       "      <td>...</td>\n",
       "      <td>...</td>\n",
       "      <td>...</td>\n",
       "      <td>...</td>\n",
       "      <td>...</td>\n",
       "      <td>...</td>\n",
       "      <td>...</td>\n",
       "      <td>...</td>\n",
       "    </tr>\n",
       "    <tr>\n",
       "      <th>3487</th>\n",
       "      <td>2020-06-03</td>\n",
       "      <td>EVIL GENIUSES</td>\n",
       "      <td>CLOUD9</td>\n",
       "      <td>16</td>\n",
       "      <td>14</td>\n",
       "      <td>9</td>\n",
       "      <td>16</td>\n",
       "      <td>0.333333</td>\n",
       "      <td>0.666667</td>\n",
       "      <td>t1</td>\n",
       "      <td>...</td>\n",
       "      <td>0.68</td>\n",
       "      <td>0.10</td>\n",
       "      <td>0.62</td>\n",
       "      <td>0.86</td>\n",
       "      <td>0.704</td>\n",
       "      <td>0.114</td>\n",
       "      <td>0.123109</td>\n",
       "      <td>0.391</td>\n",
       "      <td>False</td>\n",
       "      <td>0.687500</td>\n",
       "    </tr>\n",
       "    <tr>\n",
       "      <th>3488</th>\n",
       "      <td>2020-06-03</td>\n",
       "      <td>ASTRALIS</td>\n",
       "      <td>VITALITY</td>\n",
       "      <td>6</td>\n",
       "      <td>16</td>\n",
       "      <td>2</td>\n",
       "      <td>10</td>\n",
       "      <td>0.750000</td>\n",
       "      <td>0.250000</td>\n",
       "      <td>t2</td>\n",
       "      <td>...</td>\n",
       "      <td>0.69</td>\n",
       "      <td>0.08</td>\n",
       "      <td>0.75</td>\n",
       "      <td>0.91</td>\n",
       "      <td>0.832</td>\n",
       "      <td>0.141</td>\n",
       "      <td>0.144863</td>\n",
       "      <td>0.560</td>\n",
       "      <td>False</td>\n",
       "      <td>0.363636</td>\n",
       "    </tr>\n",
       "    <tr>\n",
       "      <th>3489</th>\n",
       "      <td>2020-06-03</td>\n",
       "      <td>FNATIC</td>\n",
       "      <td>MOUSESPORTS</td>\n",
       "      <td>16</td>\n",
       "      <td>14</td>\n",
       "      <td>3</td>\n",
       "      <td>5</td>\n",
       "      <td>0.437500</td>\n",
       "      <td>0.562500</td>\n",
       "      <td>t1</td>\n",
       "      <td>...</td>\n",
       "      <td>0.75</td>\n",
       "      <td>0.06</td>\n",
       "      <td>0.63</td>\n",
       "      <td>0.91</td>\n",
       "      <td>0.688</td>\n",
       "      <td>0.149</td>\n",
       "      <td>0.124622</td>\n",
       "      <td>0.297</td>\n",
       "      <td>False</td>\n",
       "      <td>0.384615</td>\n",
       "    </tr>\n",
       "    <tr>\n",
       "      <th>3490</th>\n",
       "      <td>2020-06-04</td>\n",
       "      <td>MOUSESPORTS</td>\n",
       "      <td>MAD LIONS</td>\n",
       "      <td>15</td>\n",
       "      <td>15</td>\n",
       "      <td>5</td>\n",
       "      <td>15</td>\n",
       "      <td>0.666667</td>\n",
       "      <td>0.333333</td>\n",
       "      <td>draw</td>\n",
       "      <td>...</td>\n",
       "      <td>0.61</td>\n",
       "      <td>0.09</td>\n",
       "      <td>0.84</td>\n",
       "      <td>0.87</td>\n",
       "      <td>0.765</td>\n",
       "      <td>0.090</td>\n",
       "      <td>0.143275</td>\n",
       "      <td>0.579</td>\n",
       "      <td>False</td>\n",
       "      <td>0.571429</td>\n",
       "    </tr>\n",
       "    <tr>\n",
       "      <th>3491</th>\n",
       "      <td>2020-06-04</td>\n",
       "      <td>100 THIEVES</td>\n",
       "      <td>CLOUD9</td>\n",
       "      <td>14</td>\n",
       "      <td>16</td>\n",
       "      <td>11</td>\n",
       "      <td>16</td>\n",
       "      <td>1.000000</td>\n",
       "      <td>0.000000</td>\n",
       "      <td>t2</td>\n",
       "      <td>...</td>\n",
       "      <td>0.68</td>\n",
       "      <td>0.10</td>\n",
       "      <td>0.61</td>\n",
       "      <td>0.85</td>\n",
       "      <td>0.706</td>\n",
       "      <td>0.113</td>\n",
       "      <td>0.122753</td>\n",
       "      <td>0.386</td>\n",
       "      <td>False</td>\n",
       "      <td>0.705882</td>\n",
       "    </tr>\n",
       "  </tbody>\n",
       "</table>\n",
       "<p>2063 rows × 170 columns</p>\n",
       "</div>"
      ],
      "text/plain": [
       "     match_date         team_1       team_2  t1_points  t2_points  \\\n",
       "7    2016-01-22       ASTRALIS     DIGNITAS         16          9   \n",
       "8    2016-01-22     LUMINOSITY         FAZE          9         16   \n",
       "10   2016-01-22  NATUS VINCERE           SK         16          3   \n",
       "11   2016-01-22  NATUS VINCERE         FAZE         16          9   \n",
       "12   2016-01-22    MOUSESPORTS     ASTRALIS         19         22   \n",
       "...         ...            ...          ...        ...        ...   \n",
       "3487 2020-06-03  EVIL GENIUSES       CLOUD9         16         14   \n",
       "3488 2020-06-03       ASTRALIS     VITALITY          6         16   \n",
       "3489 2020-06-03         FNATIC  MOUSESPORTS         16         14   \n",
       "3490 2020-06-04    MOUSESPORTS    MAD LIONS         15         15   \n",
       "3491 2020-06-04    100 THIEVES       CLOUD9         14         16   \n",
       "\n",
       "      t1_world_rank  t2_world_rank  t1_h2h_win_perc  t2_h2h_win_perc winner  \\\n",
       "7                 4             14         0.666667         0.333333     t1   \n",
       "8                 6              8         1.000000         0.000000     t2   \n",
       "10                2             19         1.000000         0.000000     t1   \n",
       "11                2              8         0.461538         0.538462     t1   \n",
       "12               12              4         0.333333         0.666667     t2   \n",
       "...             ...            ...              ...              ...    ...   \n",
       "3487              9             16         0.333333         0.666667     t1   \n",
       "3488              2             10         0.750000         0.250000     t2   \n",
       "3489              3              5         0.437500         0.562500     t1   \n",
       "3490              5             15         0.666667         0.333333   draw   \n",
       "3491             11             16         1.000000         0.000000     t2   \n",
       "\n",
       "      ...  t2_player5_dpr  t2_player5_spr  t2_player5_opk_ratio  \\\n",
       "7     ...            0.75            0.09                  0.82   \n",
       "8     ...            0.66            0.07                  0.97   \n",
       "10    ...            0.68            0.08                  0.86   \n",
       "11    ...            0.66            0.07                  0.97   \n",
       "12    ...            0.68            0.07                  0.95   \n",
       "...   ...             ...             ...                   ...   \n",
       "3487  ...            0.68            0.10                  0.62   \n",
       "3488  ...            0.69            0.08                  0.75   \n",
       "3489  ...            0.75            0.06                  0.63   \n",
       "3490  ...            0.61            0.09                  0.84   \n",
       "3491  ...            0.68            0.10                  0.61   \n",
       "\n",
       "      t2_player5_opk_rating  t2_player5_wins_perc_after_fk  \\\n",
       "7                      1.05                          0.779   \n",
       "8                      0.96                          0.739   \n",
       "10                     0.98                          0.756   \n",
       "11                     0.96                          0.739   \n",
       "12                     1.01                          0.726   \n",
       "...                     ...                            ...   \n",
       "3487                   0.86                          0.704   \n",
       "3488                   0.91                          0.832   \n",
       "3489                   0.91                          0.688   \n",
       "3490                   0.87                          0.765   \n",
       "3491                   0.85                          0.706   \n",
       "\n",
       "      t2_player5_fk_perc_in_wins  t2_player5_multikill_perc  \\\n",
       "7                          0.189                   0.165812   \n",
       "8                          0.131                   0.143668   \n",
       "10                         0.150                   0.167409   \n",
       "11                         0.131                   0.143668   \n",
       "12                         0.141                   0.160968   \n",
       "...                          ...                        ...   \n",
       "3487                       0.114                   0.123109   \n",
       "3488                       0.141                   0.144863   \n",
       "3489                       0.149                   0.124622   \n",
       "3490                       0.090                   0.143275   \n",
       "3491                       0.113                   0.122753   \n",
       "\n",
       "      t2_player5_rating_at_least_one_perc  t2_player5_is_sniper  \\\n",
       "7                                   0.277                 False   \n",
       "8                                   0.415                 False   \n",
       "10                                  0.475                 False   \n",
       "11                                  0.415                 False   \n",
       "12                                  0.438                  True   \n",
       "...                                   ...                   ...   \n",
       "3487                                0.391                 False   \n",
       "3488                                0.560                 False   \n",
       "3489                                0.297                 False   \n",
       "3490                                0.579                 False   \n",
       "3491                                0.386                 False   \n",
       "\n",
       "      t2_player5_clutch_win_perc  \n",
       "7                       0.615385  \n",
       "8                       0.709677  \n",
       "10                      0.666667  \n",
       "11                      0.709677  \n",
       "12                      0.625000  \n",
       "...                          ...  \n",
       "3487                    0.687500  \n",
       "3488                    0.363636  \n",
       "3489                    0.384615  \n",
       "3490                    0.571429  \n",
       "3491                    0.705882  \n",
       "\n",
       "[2063 rows x 170 columns]"
      ]
     },
     "execution_count": 192,
     "metadata": {},
     "output_type": "execute_result"
    }
   ],
   "source": [
    "df_bo1 = df.query(\"t1_points > 3 or t2_points > 3\")\n",
    "df_bo1"
   ]
  },
  {
   "cell_type": "markdown",
   "metadata": {},
   "source": [
    "Dari hasil *query*, kita mendapati bahwa terdapat 2063 pertandingan yang dimainkan dalam *format best of 1*. Jumlah pertandingan dalam *format best of 1* memiliki jumlah lebih banyak dibanding pertandingan dengan *format best of 3* atau *best of 5* karena *format best of 1* umumnya dilakukan pada tahap kualifikasi awal dari setiap turnamen.\n",
    "\n",
    "Selanjutnya kita akan lihat bagaimana distribusi peringkat dunia dari tim-tim yang bertanding di dalam turnamen."
   ]
  },
  {
   "cell_type": "code",
   "execution_count": 193,
   "metadata": {},
   "outputs": [
    {
     "data": {
      "text/plain": [
       "array([ 1,  2,  3,  4,  5,  6,  7,  8,  9, 10, 11, 12, 13, 14, 15, 16, 17,\n",
       "       18, 19, 20, 21, 22], dtype=int64)"
      ]
     },
     "execution_count": 193,
     "metadata": {},
     "output_type": "execute_result"
    }
   ],
   "source": [
    "column_rank = df[[\"t1_world_rank\", \"t2_world_rank\"]].values.ravel()\n",
    "unique_rank =  pd.unique(column_rank)\n",
    "unique_rank_df = pd.DataFrame(unique_rank, columns = [\"Team\"])\n",
    "\n",
    "unique_rank_df.Team.sort_values().unique()"
   ]
  },
  {
   "cell_type": "markdown",
   "metadata": {},
   "source": [
    "Dari data di atas, kita dapat melihat bahwa tim-tim yang bertanding di dalam turnamen berada pada rentang peringkat 1 sampai 22 dunia. Perlu diperhatikan bahwa peringkat tim dapat berubah tergantung dari pencapaian tim tersebut di turnamen terakhir.\n",
    "\n",
    "Selanjutnya kita akan melihat bagaimana distribusi performa tiap-tiap pemain di sisi kiri di setiap pertandingan."
   ]
  },
  {
   "cell_type": "code",
   "execution_count": 194,
   "metadata": {},
   "outputs": [
    {
     "data": {
      "image/png": "[encoded data removed]",
      "text/plain": [
       "<Figure size 432x288 with 1 Axes>"
      ]
     },
     "metadata": {},
     "output_type": "display_data"
    }
   ],
   "source": [
    "sns.set(style=\"darkgrid\")\n",
    "\n",
    "sns.histplot(data = df, x = \"t1_player1_rating\", color = \"red\", label = \"Player 1 Rating\", kde = True)\n",
    "sns.histplot(data = df, x = \"t1_player2_rating\", color = \"green\", label = \"Player 2 Rating\", kde = True)\n",
    "sns.histplot(data = df, x = \"t1_player3_rating\", color = \"purple\", label = \"Player 3 Rating\", kde = True)\n",
    "sns.histplot(data = df, x = \"t1_player4_rating\", color = \"orange\", label = \"Player 4 Rating\", kde = True)\n",
    "sns.histplot(data = df, x = \"t1_player5_rating\", color = \"blue\", label = \"Player 5 Rating\", kde = True)\n",
    "\n",
    "plt.legend() \n",
    "plt.show()"
   ]
  },
  {
   "cell_type": "markdown",
   "metadata": {},
   "source": [
    "Dari grafik di atas, kita dapat lihat bahwa *player 1* merupakan pemain dengan *rating* terbesar di dalam suatu pertandingan dengan rata-rata *rating* sebesar 1.2. Selain itu kita dapat melihat rata-rata dari *player 2*, *player 3*, *player 4*, dan *player 5* masing-masing sebesar 1.15, 1.1, 1.05, dan 1.\n",
    "\n",
    "Selanjutnya kita akan bandingkan grafik tersebut dengan persebaran *rating* dari tim di sisi kanan."
   ]
  },
  {
   "cell_type": "code",
   "execution_count": 195,
   "metadata": {},
   "outputs": [
    {
     "data": {
      "image/png": "[encoded data removed]",
      "text/plain": [
       "<Figure size 432x288 with 1 Axes>"
      ]
     },
     "metadata": {},
     "output_type": "display_data"
    }
   ],
   "source": [
    "sns.set(style=\"darkgrid\")\n",
    "\n",
    "sns.histplot(data = df, x = \"t2_player1_rating\", color = \"red\", label = \"Player 1 Rating\", kde = True)\n",
    "sns.histplot(data = df, x = \"t2_player2_rating\", color = \"green\", label = \"Player 2 Rating\", kde = True)\n",
    "sns.histplot(data = df, x = \"t2_player3_rating\", color = \"purple\", label = \"Player 3 Rating\", kde = True)\n",
    "sns.histplot(data = df, x = \"t2_player4_rating\", color = \"orange\", label = \"Player 4 Rating\", kde = True)\n",
    "sns.histplot(data = df, x = \"t2_player5_rating\", color = \"blue\", label = \"Player 5 Rating\", kde = True)\n",
    "\n",
    "plt.legend() \n",
    "plt.show()"
   ]
  },
  {
   "cell_type": "markdown",
   "metadata": {},
   "source": [
    "Dari grafik di atas, kita dapat lihat bahwa *player 1* merupakan pemain dengan *rating* terbesar di dalam suatu pertandingan dengan rata-rata *rating* sebesar 1.2. Selaimn itu kita dapat lihat bahwa rata-rata *rating* untuk pemain kedua, ketiga, keempat, dan kelima kurang-lebih sama seperti pada *rating* pemain di sisi kiri.\n",
    "\n",
    "Lalu kita akan lihat indeks pengaruh kelima pemain dari masing-masing tim pada pertandingan."
   ]
  },
  {
   "cell_type": "code",
   "execution_count": 196,
   "metadata": {},
   "outputs": [
    {
     "data": {
      "image/png": "[encoded data removed]",
      "text/plain": [
       "<Figure size 1080x504 with 2 Axes>"
      ]
     },
     "metadata": {},
     "output_type": "display_data"
    }
   ],
   "source": [
    "plt.figure(figsize = (15, 7))\n",
    "\n",
    "plt.subplot(1, 2, 1)\n",
    "plt.title(\"Player Impact (Team 1)\")\n",
    "sns.set(style=\"darkgrid\")\n",
    "\n",
    "sns.histplot(data = df, x = \"t1_player1_impact\", color = \"red\", label = \"Player 1 Impact\", kde = True)\n",
    "sns.histplot(data = df, x = \"t1_player2_impact\", color = \"green\", label = \"Player 2 Impact\", kde = True)\n",
    "sns.histplot(data = df, x = \"t1_player3_impact\", color = \"purple\", label = \"Player 3 Impact\", kde = True)\n",
    "sns.histplot(data = df, x = \"t1_player4_impact\", color = \"orange\", label = \"Player 4 Impact\", kde = True)\n",
    "sns.histplot(data = df, x = \"t1_player5_impact\", color = \"blue\", label = \"Player 5 Impact\", kde = True)\n",
    "\n",
    "plt.legend() \n",
    "\n",
    "plt.subplot(1, 2, 2)\n",
    "plt.title(\"Player Impact (Team 2)\")\n",
    "sns.set(style=\"darkgrid\")\n",
    "\n",
    "sns.histplot(data = df, x = \"t2_player1_impact\", color = \"red\", label = \"Player 1 Impact\", kde = True)\n",
    "sns.histplot(data = df, x = \"t2_player2_impact\", color = \"green\", label = \"Player 2 Impact\", kde = True)\n",
    "sns.histplot(data = df, x = \"t2_player3_impact\", color = \"purple\", label = \"Player 3 Impact\", kde = True)\n",
    "sns.histplot(data = df, x = \"t2_player4_impact\", color = \"orange\", label = \"Player 4 Impact\", kde = True)\n",
    "sns.histplot(data = df, x = \"t2_player5_impact\", color = \"blue\", label = \"Player 5 Impact\", kde = True)\n",
    "\n",
    "plt.legend()\n",
    "plt.show()"
   ]
  },
  {
   "cell_type": "markdown",
   "metadata": {},
   "source": [
    "Dapat kita lihat dari kedua gradik di atas kalau pemain pertama sampai kelima dari dua belah pihak masing-masing memiliki nilai indeks pengaruh yang kurang-lebih sama pada saat pertandingan berlangsung.\n",
    "\n",
    "Selain itu kita akan lihat persentase kemenangan *head-to-head* dari setiap pertandingan."
   ]
  },
  {
   "cell_type": "code",
   "execution_count": 197,
   "metadata": {},
   "outputs": [
    {
     "data": {
      "text/plain": [
       "count    3787.000000\n",
       "mean        0.517780\n",
       "std         0.228813\n",
       "min         0.000000\n",
       "25%         0.389566\n",
       "50%         0.500000\n",
       "75%         0.666667\n",
       "max         1.000000\n",
       "Name: t1_h2h_win_perc, dtype: float64"
      ]
     },
     "execution_count": 197,
     "metadata": {},
     "output_type": "execute_result"
    }
   ],
   "source": [
    "df.t1_h2h_win_perc.describe()"
   ]
  },
  {
   "cell_type": "code",
   "execution_count": 198,
   "metadata": {},
   "outputs": [
    {
     "data": {
      "text/plain": [
       "count    3787.000000\n",
       "mean        0.482220\n",
       "std         0.228813\n",
       "min         0.000000\n",
       "25%         0.333333\n",
       "50%         0.500000\n",
       "75%         0.610434\n",
       "max         1.000000\n",
       "Name: t2_h2h_win_perc, dtype: float64"
      ]
     },
     "execution_count": 198,
     "metadata": {},
     "output_type": "execute_result"
    }
   ],
   "source": [
    "df.t2_h2h_win_perc.describe()"
   ]
  },
  {
   "cell_type": "markdown",
   "metadata": {},
   "source": [
    "Dari kedua perintah di atas kita dapat mengetahui bahwa nilai rata-rata rasio kemenangan dari kedua tim adalah 52% dan 48%. Perhatikan bahwa nilai-nilai rata-rata, minimal, kuartil 1-2-3, dan maksimal dari rasio kemenangan *head-to-head* di tim kiri berkorespondensi dengan nilai rata-rata, maksimal, kuartil 3-2-1, dan minimal dari rasio kemenangan *head-to-head* di tim kanan sehingga menghasilkan nilai 100%.\n",
    "\n",
    "Selanjutnya kita akan melihat bagaimana hasil dari keseluruhan pertandingan."
   ]
  },
  {
   "cell_type": "code",
   "execution_count": 199,
   "metadata": {},
   "outputs": [
    {
     "data": {
      "text/plain": [
       "draw      24\n",
       "t1      1921\n",
       "t2      1842\n",
       "Name: winner, dtype: int64"
      ]
     },
     "execution_count": 199,
     "metadata": {},
     "output_type": "execute_result"
    }
   ],
   "source": [
    "df.winner.value_counts().sort_index()"
   ]
  },
  {
   "cell_type": "markdown",
   "metadata": {},
   "source": [
    "Kemudian untuk memudahkan visualisasi, kita akan buat grafik batangnya."
   ]
  },
  {
   "cell_type": "code",
   "execution_count": 200,
   "metadata": {},
   "outputs": [
    {
     "data": {
      "image/png": "[encoded data removed]",
      "text/plain": [
       "<Figure size 432x288 with 1 Axes>"
      ]
     },
     "metadata": {},
     "output_type": "display_data"
    }
   ],
   "source": [
    "height = df.winner.value_counts().sort_index()\n",
    "\n",
    "bars = (df.winner.value_counts().sort_index().index[()])\n",
    "x_pos = np.arange(len(bars))\n",
    "\n",
    "plt.bar(x_pos, height)\n",
    "plt.xticks(x_pos, bars)\n",
    "plt.xlabel(\"Win Result\", fontweight = \"bold\")\n",
    "\n",
    "plt.show()"
   ]
  },
  {
   "cell_type": "markdown",
   "metadata": {},
   "source": [
    "Dari grafik di atas, kita dapat lihat bahwa data yang kita miliki memiliki keseimbangan antara data kemenangan di tim bagian kiri dan kemenangan di tim bagian kanan."
   ]
  },
  {
   "cell_type": "code",
   "execution_count": 201,
   "metadata": {},
   "outputs": [
    {
     "data": {
      "text/html": [
       "<div>\n",
       "<style scoped>\n",
       "    .dataframe tbody tr th:only-of-type {\n",
       "        vertical-align: middle;\n",
       "    }\n",
       "\n",
       "    .dataframe tbody tr th {\n",
       "        vertical-align: top;\n",
       "    }\n",
       "\n",
       "    .dataframe thead th {\n",
       "        text-align: right;\n",
       "    }\n",
       "</style>\n",
       "<table border=\"1\" class=\"dataframe\">\n",
       "  <thead>\n",
       "    <tr style=\"text-align: right;\">\n",
       "      <th></th>\n",
       "      <th>match_date</th>\n",
       "      <th>team_1</th>\n",
       "      <th>team_2</th>\n",
       "      <th>t1_points</th>\n",
       "      <th>t2_points</th>\n",
       "      <th>t1_world_rank</th>\n",
       "      <th>t2_world_rank</th>\n",
       "      <th>t1_h2h_win_perc</th>\n",
       "      <th>t2_h2h_win_perc</th>\n",
       "      <th>winner</th>\n",
       "      <th>...</th>\n",
       "      <th>t2_player5_dpr</th>\n",
       "      <th>t2_player5_spr</th>\n",
       "      <th>t2_player5_opk_ratio</th>\n",
       "      <th>t2_player5_opk_rating</th>\n",
       "      <th>t2_player5_wins_perc_after_fk</th>\n",
       "      <th>t2_player5_fk_perc_in_wins</th>\n",
       "      <th>t2_player5_multikill_perc</th>\n",
       "      <th>t2_player5_rating_at_least_one_perc</th>\n",
       "      <th>t2_player5_is_sniper</th>\n",
       "      <th>t2_player5_clutch_win_perc</th>\n",
       "    </tr>\n",
       "  </thead>\n",
       "  <tbody>\n",
       "    <tr>\n",
       "      <th>58</th>\n",
       "      <td>2016-02-17</td>\n",
       "      <td>FLIPSID3</td>\n",
       "      <td>E-FRAG.NET</td>\n",
       "      <td>1</td>\n",
       "      <td>1</td>\n",
       "      <td>14</td>\n",
       "      <td>17</td>\n",
       "      <td>0.750000</td>\n",
       "      <td>0.250000</td>\n",
       "      <td>draw</td>\n",
       "      <td>...</td>\n",
       "      <td>0.68</td>\n",
       "      <td>0.05</td>\n",
       "      <td>0.84</td>\n",
       "      <td>0.91</td>\n",
       "      <td>0.720</td>\n",
       "      <td>0.111</td>\n",
       "      <td>0.140000</td>\n",
       "      <td>0.370</td>\n",
       "      <td>False</td>\n",
       "      <td>0.608696</td>\n",
       "    </tr>\n",
       "    <tr>\n",
       "      <th>76</th>\n",
       "      <td>2016-02-23</td>\n",
       "      <td>E-FRAG.NET</td>\n",
       "      <td>SK</td>\n",
       "      <td>1</td>\n",
       "      <td>1</td>\n",
       "      <td>17</td>\n",
       "      <td>16</td>\n",
       "      <td>1.000000</td>\n",
       "      <td>0.000000</td>\n",
       "      <td>draw</td>\n",
       "      <td>...</td>\n",
       "      <td>0.69</td>\n",
       "      <td>0.08</td>\n",
       "      <td>1.01</td>\n",
       "      <td>1.07</td>\n",
       "      <td>0.772</td>\n",
       "      <td>0.174</td>\n",
       "      <td>0.169511</td>\n",
       "      <td>0.561</td>\n",
       "      <td>False</td>\n",
       "      <td>0.529412</td>\n",
       "    </tr>\n",
       "    <tr>\n",
       "      <th>530</th>\n",
       "      <td>2016-09-13</td>\n",
       "      <td>GAMBIT</td>\n",
       "      <td>FLIPSID3</td>\n",
       "      <td>1</td>\n",
       "      <td>1</td>\n",
       "      <td>17</td>\n",
       "      <td>15</td>\n",
       "      <td>0.500000</td>\n",
       "      <td>0.500000</td>\n",
       "      <td>draw</td>\n",
       "      <td>...</td>\n",
       "      <td>0.75</td>\n",
       "      <td>0.08</td>\n",
       "      <td>0.81</td>\n",
       "      <td>0.92</td>\n",
       "      <td>0.790</td>\n",
       "      <td>0.155</td>\n",
       "      <td>0.124044</td>\n",
       "      <td>0.333</td>\n",
       "      <td>False</td>\n",
       "      <td>0.400000</td>\n",
       "    </tr>\n",
       "    <tr>\n",
       "      <th>560</th>\n",
       "      <td>2016-09-20</td>\n",
       "      <td>GODSENT</td>\n",
       "      <td>HEROIC</td>\n",
       "      <td>1</td>\n",
       "      <td>1</td>\n",
       "      <td>8</td>\n",
       "      <td>11</td>\n",
       "      <td>1.000000</td>\n",
       "      <td>0.000000</td>\n",
       "      <td>draw</td>\n",
       "      <td>...</td>\n",
       "      <td>0.68</td>\n",
       "      <td>0.09</td>\n",
       "      <td>0.98</td>\n",
       "      <td>0.95</td>\n",
       "      <td>0.775</td>\n",
       "      <td>0.123</td>\n",
       "      <td>0.155137</td>\n",
       "      <td>0.550</td>\n",
       "      <td>False</td>\n",
       "      <td>0.620690</td>\n",
       "    </tr>\n",
       "    <tr>\n",
       "      <th>927</th>\n",
       "      <td>2017-01-13</td>\n",
       "      <td>VIRTUS.PRO</td>\n",
       "      <td>ENVY</td>\n",
       "      <td>1</td>\n",
       "      <td>1</td>\n",
       "      <td>6</td>\n",
       "      <td>11</td>\n",
       "      <td>0.410256</td>\n",
       "      <td>0.589744</td>\n",
       "      <td>draw</td>\n",
       "      <td>...</td>\n",
       "      <td>0.62</td>\n",
       "      <td>0.11</td>\n",
       "      <td>1.34</td>\n",
       "      <td>1.00</td>\n",
       "      <td>0.735</td>\n",
       "      <td>0.122</td>\n",
       "      <td>0.141812</td>\n",
       "      <td>0.535</td>\n",
       "      <td>False</td>\n",
       "      <td>0.782609</td>\n",
       "    </tr>\n",
       "    <tr>\n",
       "      <th>1045</th>\n",
       "      <td>2017-03-08</td>\n",
       "      <td>KINGUIN</td>\n",
       "      <td>GAMBIT</td>\n",
       "      <td>1</td>\n",
       "      <td>1</td>\n",
       "      <td>16</td>\n",
       "      <td>8</td>\n",
       "      <td>0.421053</td>\n",
       "      <td>0.578947</td>\n",
       "      <td>draw</td>\n",
       "      <td>...</td>\n",
       "      <td>0.69</td>\n",
       "      <td>0.10</td>\n",
       "      <td>0.91</td>\n",
       "      <td>0.95</td>\n",
       "      <td>0.787</td>\n",
       "      <td>0.129</td>\n",
       "      <td>0.173529</td>\n",
       "      <td>0.560</td>\n",
       "      <td>False</td>\n",
       "      <td>1.000000</td>\n",
       "    </tr>\n",
       "    <tr>\n",
       "      <th>1500</th>\n",
       "      <td>2017-08-29</td>\n",
       "      <td>HEROIC</td>\n",
       "      <td>SPACE SOLDIERS</td>\n",
       "      <td>1</td>\n",
       "      <td>1</td>\n",
       "      <td>16</td>\n",
       "      <td>19</td>\n",
       "      <td>0.500000</td>\n",
       "      <td>0.500000</td>\n",
       "      <td>draw</td>\n",
       "      <td>...</td>\n",
       "      <td>0.64</td>\n",
       "      <td>0.08</td>\n",
       "      <td>0.86</td>\n",
       "      <td>0.95</td>\n",
       "      <td>0.697</td>\n",
       "      <td>0.120</td>\n",
       "      <td>0.144214</td>\n",
       "      <td>0.556</td>\n",
       "      <td>False</td>\n",
       "      <td>0.461538</td>\n",
       "    </tr>\n",
       "    <tr>\n",
       "      <th>1527</th>\n",
       "      <td>2017-09-05</td>\n",
       "      <td>NORTH</td>\n",
       "      <td>GAMBIT</td>\n",
       "      <td>1</td>\n",
       "      <td>1</td>\n",
       "      <td>4</td>\n",
       "      <td>5</td>\n",
       "      <td>0.888889</td>\n",
       "      <td>0.111111</td>\n",
       "      <td>draw</td>\n",
       "      <td>...</td>\n",
       "      <td>0.68</td>\n",
       "      <td>0.08</td>\n",
       "      <td>0.82</td>\n",
       "      <td>0.89</td>\n",
       "      <td>0.737</td>\n",
       "      <td>0.108</td>\n",
       "      <td>0.146230</td>\n",
       "      <td>0.429</td>\n",
       "      <td>False</td>\n",
       "      <td>0.631579</td>\n",
       "    </tr>\n",
       "    <tr>\n",
       "      <th>1878</th>\n",
       "      <td>2017-11-24</td>\n",
       "      <td>ENVY</td>\n",
       "      <td>VIRTUS.PRO</td>\n",
       "      <td>15</td>\n",
       "      <td>15</td>\n",
       "      <td>14</td>\n",
       "      <td>8</td>\n",
       "      <td>0.625000</td>\n",
       "      <td>0.375000</td>\n",
       "      <td>draw</td>\n",
       "      <td>...</td>\n",
       "      <td>0.67</td>\n",
       "      <td>0.09</td>\n",
       "      <td>0.90</td>\n",
       "      <td>0.90</td>\n",
       "      <td>0.733</td>\n",
       "      <td>0.113</td>\n",
       "      <td>0.131818</td>\n",
       "      <td>0.442</td>\n",
       "      <td>False</td>\n",
       "      <td>0.645161</td>\n",
       "    </tr>\n",
       "    <tr>\n",
       "      <th>1887</th>\n",
       "      <td>2017-11-25</td>\n",
       "      <td>ASTRALIS</td>\n",
       "      <td>NORTH</td>\n",
       "      <td>15</td>\n",
       "      <td>15</td>\n",
       "      <td>3</td>\n",
       "      <td>7</td>\n",
       "      <td>0.571429</td>\n",
       "      <td>0.428571</td>\n",
       "      <td>draw</td>\n",
       "      <td>...</td>\n",
       "      <td>0.72</td>\n",
       "      <td>0.09</td>\n",
       "      <td>0.97</td>\n",
       "      <td>1.08</td>\n",
       "      <td>0.746</td>\n",
       "      <td>0.180</td>\n",
       "      <td>0.157596</td>\n",
       "      <td>0.537</td>\n",
       "      <td>False</td>\n",
       "      <td>0.600000</td>\n",
       "    </tr>\n",
       "    <tr>\n",
       "      <th>1894</th>\n",
       "      <td>2017-11-25</td>\n",
       "      <td>NORTH</td>\n",
       "      <td>G2</td>\n",
       "      <td>15</td>\n",
       "      <td>15</td>\n",
       "      <td>7</td>\n",
       "      <td>5</td>\n",
       "      <td>0.375000</td>\n",
       "      <td>0.625000</td>\n",
       "      <td>draw</td>\n",
       "      <td>...</td>\n",
       "      <td>0.67</td>\n",
       "      <td>0.10</td>\n",
       "      <td>0.96</td>\n",
       "      <td>0.96</td>\n",
       "      <td>0.751</td>\n",
       "      <td>0.126</td>\n",
       "      <td>0.139918</td>\n",
       "      <td>0.437</td>\n",
       "      <td>False</td>\n",
       "      <td>0.521739</td>\n",
       "    </tr>\n",
       "    <tr>\n",
       "      <th>1895</th>\n",
       "      <td>2017-11-25</td>\n",
       "      <td>FAZE</td>\n",
       "      <td>NIP</td>\n",
       "      <td>15</td>\n",
       "      <td>15</td>\n",
       "      <td>1</td>\n",
       "      <td>4</td>\n",
       "      <td>0.761905</td>\n",
       "      <td>0.238095</td>\n",
       "      <td>draw</td>\n",
       "      <td>...</td>\n",
       "      <td>0.67</td>\n",
       "      <td>0.09</td>\n",
       "      <td>0.85</td>\n",
       "      <td>0.91</td>\n",
       "      <td>0.767</td>\n",
       "      <td>0.116</td>\n",
       "      <td>0.138079</td>\n",
       "      <td>0.480</td>\n",
       "      <td>False</td>\n",
       "      <td>0.611111</td>\n",
       "    </tr>\n",
       "    <tr>\n",
       "      <th>2126</th>\n",
       "      <td>2018-03-16</td>\n",
       "      <td>FNATIC</td>\n",
       "      <td>AGO</td>\n",
       "      <td>1</td>\n",
       "      <td>1</td>\n",
       "      <td>6</td>\n",
       "      <td>20</td>\n",
       "      <td>0.666667</td>\n",
       "      <td>0.333333</td>\n",
       "      <td>draw</td>\n",
       "      <td>...</td>\n",
       "      <td>0.69</td>\n",
       "      <td>0.09</td>\n",
       "      <td>0.74</td>\n",
       "      <td>0.84</td>\n",
       "      <td>0.699</td>\n",
       "      <td>0.087</td>\n",
       "      <td>0.146100</td>\n",
       "      <td>0.515</td>\n",
       "      <td>False</td>\n",
       "      <td>0.606061</td>\n",
       "    </tr>\n",
       "    <tr>\n",
       "      <th>2524</th>\n",
       "      <td>2018-09-28</td>\n",
       "      <td>NIP</td>\n",
       "      <td>MIBR</td>\n",
       "      <td>15</td>\n",
       "      <td>15</td>\n",
       "      <td>9</td>\n",
       "      <td>4</td>\n",
       "      <td>0.363636</td>\n",
       "      <td>0.636364</td>\n",
       "      <td>draw</td>\n",
       "      <td>...</td>\n",
       "      <td>0.67</td>\n",
       "      <td>0.06</td>\n",
       "      <td>1.09</td>\n",
       "      <td>1.11</td>\n",
       "      <td>0.764</td>\n",
       "      <td>0.182</td>\n",
       "      <td>0.166839</td>\n",
       "      <td>0.632</td>\n",
       "      <td>False</td>\n",
       "      <td>0.833333</td>\n",
       "    </tr>\n",
       "    <tr>\n",
       "      <th>2685</th>\n",
       "      <td>2018-11-02</td>\n",
       "      <td>FAZE</td>\n",
       "      <td>NIP</td>\n",
       "      <td>15</td>\n",
       "      <td>15</td>\n",
       "      <td>4</td>\n",
       "      <td>8</td>\n",
       "      <td>0.576923</td>\n",
       "      <td>0.423077</td>\n",
       "      <td>draw</td>\n",
       "      <td>...</td>\n",
       "      <td>0.70</td>\n",
       "      <td>0.07</td>\n",
       "      <td>0.87</td>\n",
       "      <td>0.95</td>\n",
       "      <td>0.701</td>\n",
       "      <td>0.132</td>\n",
       "      <td>0.146823</td>\n",
       "      <td>0.371</td>\n",
       "      <td>False</td>\n",
       "      <td>0.428571</td>\n",
       "    </tr>\n",
       "    <tr>\n",
       "      <th>2785</th>\n",
       "      <td>2018-12-15</td>\n",
       "      <td>FAZE</td>\n",
       "      <td>MIBR</td>\n",
       "      <td>15</td>\n",
       "      <td>15</td>\n",
       "      <td>5</td>\n",
       "      <td>4</td>\n",
       "      <td>0.875000</td>\n",
       "      <td>0.125000</td>\n",
       "      <td>draw</td>\n",
       "      <td>...</td>\n",
       "      <td>0.65</td>\n",
       "      <td>0.09</td>\n",
       "      <td>1.05</td>\n",
       "      <td>0.98</td>\n",
       "      <td>0.785</td>\n",
       "      <td>0.130</td>\n",
       "      <td>0.152063</td>\n",
       "      <td>0.567</td>\n",
       "      <td>False</td>\n",
       "      <td>0.608696</td>\n",
       "    </tr>\n",
       "    <tr>\n",
       "      <th>2868</th>\n",
       "      <td>2019-03-23</td>\n",
       "      <td>ENCE</td>\n",
       "      <td>LIQUID</td>\n",
       "      <td>15</td>\n",
       "      <td>15</td>\n",
       "      <td>4</td>\n",
       "      <td>2</td>\n",
       "      <td>1.000000</td>\n",
       "      <td>0.000000</td>\n",
       "      <td>draw</td>\n",
       "      <td>...</td>\n",
       "      <td>0.67</td>\n",
       "      <td>0.05</td>\n",
       "      <td>0.84</td>\n",
       "      <td>1.04</td>\n",
       "      <td>0.742</td>\n",
       "      <td>0.168</td>\n",
       "      <td>0.170635</td>\n",
       "      <td>0.579</td>\n",
       "      <td>False</td>\n",
       "      <td>0.666667</td>\n",
       "    </tr>\n",
       "    <tr>\n",
       "      <th>2906</th>\n",
       "      <td>2019-04-12</td>\n",
       "      <td>FAZE</td>\n",
       "      <td>MIBR</td>\n",
       "      <td>15</td>\n",
       "      <td>15</td>\n",
       "      <td>7</td>\n",
       "      <td>9</td>\n",
       "      <td>0.666667</td>\n",
       "      <td>0.333333</td>\n",
       "      <td>draw</td>\n",
       "      <td>...</td>\n",
       "      <td>0.65</td>\n",
       "      <td>0.09</td>\n",
       "      <td>0.94</td>\n",
       "      <td>0.99</td>\n",
       "      <td>0.688</td>\n",
       "      <td>0.140</td>\n",
       "      <td>0.138743</td>\n",
       "      <td>0.484</td>\n",
       "      <td>False</td>\n",
       "      <td>0.388889</td>\n",
       "    </tr>\n",
       "    <tr>\n",
       "      <th>3139</th>\n",
       "      <td>2019-09-13</td>\n",
       "      <td>NIP</td>\n",
       "      <td>MIBR</td>\n",
       "      <td>15</td>\n",
       "      <td>15</td>\n",
       "      <td>16</td>\n",
       "      <td>15</td>\n",
       "      <td>0.300000</td>\n",
       "      <td>0.700000</td>\n",
       "      <td>draw</td>\n",
       "      <td>...</td>\n",
       "      <td>0.66</td>\n",
       "      <td>0.08</td>\n",
       "      <td>0.87</td>\n",
       "      <td>0.92</td>\n",
       "      <td>0.732</td>\n",
       "      <td>0.129</td>\n",
       "      <td>0.109954</td>\n",
       "      <td>0.364</td>\n",
       "      <td>False</td>\n",
       "      <td>0.750000</td>\n",
       "    </tr>\n",
       "    <tr>\n",
       "      <th>3140</th>\n",
       "      <td>2019-09-14</td>\n",
       "      <td>FORZE</td>\n",
       "      <td>NIP</td>\n",
       "      <td>15</td>\n",
       "      <td>15</td>\n",
       "      <td>20</td>\n",
       "      <td>16</td>\n",
       "      <td>0.000000</td>\n",
       "      <td>1.000000</td>\n",
       "      <td>draw</td>\n",
       "      <td>...</td>\n",
       "      <td>0.66</td>\n",
       "      <td>0.06</td>\n",
       "      <td>0.67</td>\n",
       "      <td>0.82</td>\n",
       "      <td>0.773</td>\n",
       "      <td>0.092</td>\n",
       "      <td>0.148148</td>\n",
       "      <td>0.393</td>\n",
       "      <td>False</td>\n",
       "      <td>0.700000</td>\n",
       "    </tr>\n",
       "    <tr>\n",
       "      <th>3229</th>\n",
       "      <td>2019-11-02</td>\n",
       "      <td>NATUS VINCERE</td>\n",
       "      <td>ASTRALIS</td>\n",
       "      <td>15</td>\n",
       "      <td>15</td>\n",
       "      <td>10</td>\n",
       "      <td>2</td>\n",
       "      <td>0.351351</td>\n",
       "      <td>0.648649</td>\n",
       "      <td>draw</td>\n",
       "      <td>...</td>\n",
       "      <td>0.68</td>\n",
       "      <td>0.07</td>\n",
       "      <td>0.90</td>\n",
       "      <td>1.04</td>\n",
       "      <td>0.771</td>\n",
       "      <td>0.166</td>\n",
       "      <td>0.144578</td>\n",
       "      <td>0.542</td>\n",
       "      <td>False</td>\n",
       "      <td>0.777778</td>\n",
       "    </tr>\n",
       "    <tr>\n",
       "      <th>3484</th>\n",
       "      <td>2020-06-02</td>\n",
       "      <td>VITALITY</td>\n",
       "      <td>NIP</td>\n",
       "      <td>15</td>\n",
       "      <td>15</td>\n",
       "      <td>10</td>\n",
       "      <td>12</td>\n",
       "      <td>0.642857</td>\n",
       "      <td>0.357143</td>\n",
       "      <td>draw</td>\n",
       "      <td>...</td>\n",
       "      <td>0.63</td>\n",
       "      <td>0.09</td>\n",
       "      <td>1.02</td>\n",
       "      <td>1.01</td>\n",
       "      <td>0.776</td>\n",
       "      <td>0.149</td>\n",
       "      <td>0.150508</td>\n",
       "      <td>0.564</td>\n",
       "      <td>True</td>\n",
       "      <td>0.785714</td>\n",
       "    </tr>\n",
       "    <tr>\n",
       "      <th>3486</th>\n",
       "      <td>2020-06-03</td>\n",
       "      <td>MIBR</td>\n",
       "      <td>GEN.G</td>\n",
       "      <td>15</td>\n",
       "      <td>15</td>\n",
       "      <td>18</td>\n",
       "      <td>14</td>\n",
       "      <td>0.857143</td>\n",
       "      <td>0.142857</td>\n",
       "      <td>draw</td>\n",
       "      <td>...</td>\n",
       "      <td>0.66</td>\n",
       "      <td>0.06</td>\n",
       "      <td>0.73</td>\n",
       "      <td>0.86</td>\n",
       "      <td>0.757</td>\n",
       "      <td>0.107</td>\n",
       "      <td>0.123153</td>\n",
       "      <td>0.396</td>\n",
       "      <td>False</td>\n",
       "      <td>0.722222</td>\n",
       "    </tr>\n",
       "    <tr>\n",
       "      <th>3490</th>\n",
       "      <td>2020-06-04</td>\n",
       "      <td>MOUSESPORTS</td>\n",
       "      <td>MAD LIONS</td>\n",
       "      <td>15</td>\n",
       "      <td>15</td>\n",
       "      <td>5</td>\n",
       "      <td>15</td>\n",
       "      <td>0.666667</td>\n",
       "      <td>0.333333</td>\n",
       "      <td>draw</td>\n",
       "      <td>...</td>\n",
       "      <td>0.61</td>\n",
       "      <td>0.09</td>\n",
       "      <td>0.84</td>\n",
       "      <td>0.87</td>\n",
       "      <td>0.765</td>\n",
       "      <td>0.090</td>\n",
       "      <td>0.143275</td>\n",
       "      <td>0.579</td>\n",
       "      <td>False</td>\n",
       "      <td>0.571429</td>\n",
       "    </tr>\n",
       "  </tbody>\n",
       "</table>\n",
       "<p>24 rows × 170 columns</p>\n",
       "</div>"
      ],
      "text/plain": [
       "     match_date         team_1          team_2  t1_points  t2_points  \\\n",
       "58   2016-02-17       FLIPSID3      E-FRAG.NET          1          1   \n",
       "76   2016-02-23     E-FRAG.NET              SK          1          1   \n",
       "530  2016-09-13         GAMBIT        FLIPSID3          1          1   \n",
       "560  2016-09-20        GODSENT          HEROIC          1          1   \n",
       "927  2017-01-13     VIRTUS.PRO            ENVY          1          1   \n",
       "1045 2017-03-08        KINGUIN          GAMBIT          1          1   \n",
       "1500 2017-08-29         HEROIC  SPACE SOLDIERS          1          1   \n",
       "1527 2017-09-05          NORTH          GAMBIT          1          1   \n",
       "1878 2017-11-24           ENVY      VIRTUS.PRO         15         15   \n",
       "1887 2017-11-25       ASTRALIS           NORTH         15         15   \n",
       "1894 2017-11-25          NORTH              G2         15         15   \n",
       "1895 2017-11-25           FAZE             NIP         15         15   \n",
       "2126 2018-03-16         FNATIC             AGO          1          1   \n",
       "2524 2018-09-28            NIP            MIBR         15         15   \n",
       "2685 2018-11-02           FAZE             NIP         15         15   \n",
       "2785 2018-12-15           FAZE            MIBR         15         15   \n",
       "2868 2019-03-23           ENCE          LIQUID         15         15   \n",
       "2906 2019-04-12           FAZE            MIBR         15         15   \n",
       "3139 2019-09-13            NIP            MIBR         15         15   \n",
       "3140 2019-09-14          FORZE             NIP         15         15   \n",
       "3229 2019-11-02  NATUS VINCERE        ASTRALIS         15         15   \n",
       "3484 2020-06-02       VITALITY             NIP         15         15   \n",
       "3486 2020-06-03           MIBR           GEN.G         15         15   \n",
       "3490 2020-06-04    MOUSESPORTS       MAD LIONS         15         15   \n",
       "\n",
       "      t1_world_rank  t2_world_rank  t1_h2h_win_perc  t2_h2h_win_perc winner  \\\n",
       "58               14             17         0.750000         0.250000   draw   \n",
       "76               17             16         1.000000         0.000000   draw   \n",
       "530              17             15         0.500000         0.500000   draw   \n",
       "560               8             11         1.000000         0.000000   draw   \n",
       "927               6             11         0.410256         0.589744   draw   \n",
       "1045             16              8         0.421053         0.578947   draw   \n",
       "1500             16             19         0.500000         0.500000   draw   \n",
       "1527              4              5         0.888889         0.111111   draw   \n",
       "1878             14              8         0.625000         0.375000   draw   \n",
       "1887              3              7         0.571429         0.428571   draw   \n",
       "1894              7              5         0.375000         0.625000   draw   \n",
       "1895              1              4         0.761905         0.238095   draw   \n",
       "2126              6             20         0.666667         0.333333   draw   \n",
       "2524              9              4         0.363636         0.636364   draw   \n",
       "2685              4              8         0.576923         0.423077   draw   \n",
       "2785              5              4         0.875000         0.125000   draw   \n",
       "2868              4              2         1.000000         0.000000   draw   \n",
       "2906              7              9         0.666667         0.333333   draw   \n",
       "3139             16             15         0.300000         0.700000   draw   \n",
       "3140             20             16         0.000000         1.000000   draw   \n",
       "3229             10              2         0.351351         0.648649   draw   \n",
       "3484             10             12         0.642857         0.357143   draw   \n",
       "3486             18             14         0.857143         0.142857   draw   \n",
       "3490              5             15         0.666667         0.333333   draw   \n",
       "\n",
       "      ...  t2_player5_dpr  t2_player5_spr  t2_player5_opk_ratio  \\\n",
       "58    ...            0.68            0.05                  0.84   \n",
       "76    ...            0.69            0.08                  1.01   \n",
       "530   ...            0.75            0.08                  0.81   \n",
       "560   ...            0.68            0.09                  0.98   \n",
       "927   ...            0.62            0.11                  1.34   \n",
       "1045  ...            0.69            0.10                  0.91   \n",
       "1500  ...            0.64            0.08                  0.86   \n",
       "1527  ...            0.68            0.08                  0.82   \n",
       "1878  ...            0.67            0.09                  0.90   \n",
       "1887  ...            0.72            0.09                  0.97   \n",
       "1894  ...            0.67            0.10                  0.96   \n",
       "1895  ...            0.67            0.09                  0.85   \n",
       "2126  ...            0.69            0.09                  0.74   \n",
       "2524  ...            0.67            0.06                  1.09   \n",
       "2685  ...            0.70            0.07                  0.87   \n",
       "2785  ...            0.65            0.09                  1.05   \n",
       "2868  ...            0.67            0.05                  0.84   \n",
       "2906  ...            0.65            0.09                  0.94   \n",
       "3139  ...            0.66            0.08                  0.87   \n",
       "3140  ...            0.66            0.06                  0.67   \n",
       "3229  ...            0.68            0.07                  0.90   \n",
       "3484  ...            0.63            0.09                  1.02   \n",
       "3486  ...            0.66            0.06                  0.73   \n",
       "3490  ...            0.61            0.09                  0.84   \n",
       "\n",
       "      t2_player5_opk_rating  t2_player5_wins_perc_after_fk  \\\n",
       "58                     0.91                          0.720   \n",
       "76                     1.07                          0.772   \n",
       "530                    0.92                          0.790   \n",
       "560                    0.95                          0.775   \n",
       "927                    1.00                          0.735   \n",
       "1045                   0.95                          0.787   \n",
       "1500                   0.95                          0.697   \n",
       "1527                   0.89                          0.737   \n",
       "1878                   0.90                          0.733   \n",
       "1887                   1.08                          0.746   \n",
       "1894                   0.96                          0.751   \n",
       "1895                   0.91                          0.767   \n",
       "2126                   0.84                          0.699   \n",
       "2524                   1.11                          0.764   \n",
       "2685                   0.95                          0.701   \n",
       "2785                   0.98                          0.785   \n",
       "2868                   1.04                          0.742   \n",
       "2906                   0.99                          0.688   \n",
       "3139                   0.92                          0.732   \n",
       "3140                   0.82                          0.773   \n",
       "3229                   1.04                          0.771   \n",
       "3484                   1.01                          0.776   \n",
       "3486                   0.86                          0.757   \n",
       "3490                   0.87                          0.765   \n",
       "\n",
       "      t2_player5_fk_perc_in_wins  t2_player5_multikill_perc  \\\n",
       "58                         0.111                   0.140000   \n",
       "76                         0.174                   0.169511   \n",
       "530                        0.155                   0.124044   \n",
       "560                        0.123                   0.155137   \n",
       "927                        0.122                   0.141812   \n",
       "1045                       0.129                   0.173529   \n",
       "1500                       0.120                   0.144214   \n",
       "1527                       0.108                   0.146230   \n",
       "1878                       0.113                   0.131818   \n",
       "1887                       0.180                   0.157596   \n",
       "1894                       0.126                   0.139918   \n",
       "1895                       0.116                   0.138079   \n",
       "2126                       0.087                   0.146100   \n",
       "2524                       0.182                   0.166839   \n",
       "2685                       0.132                   0.146823   \n",
       "2785                       0.130                   0.152063   \n",
       "2868                       0.168                   0.170635   \n",
       "2906                       0.140                   0.138743   \n",
       "3139                       0.129                   0.109954   \n",
       "3140                       0.092                   0.148148   \n",
       "3229                       0.166                   0.144578   \n",
       "3484                       0.149                   0.150508   \n",
       "3486                       0.107                   0.123153   \n",
       "3490                       0.090                   0.143275   \n",
       "\n",
       "      t2_player5_rating_at_least_one_perc  t2_player5_is_sniper  \\\n",
       "58                                  0.370                 False   \n",
       "76                                  0.561                 False   \n",
       "530                                 0.333                 False   \n",
       "560                                 0.550                 False   \n",
       "927                                 0.535                 False   \n",
       "1045                                0.560                 False   \n",
       "1500                                0.556                 False   \n",
       "1527                                0.429                 False   \n",
       "1878                                0.442                 False   \n",
       "1887                                0.537                 False   \n",
       "1894                                0.437                 False   \n",
       "1895                                0.480                 False   \n",
       "2126                                0.515                 False   \n",
       "2524                                0.632                 False   \n",
       "2685                                0.371                 False   \n",
       "2785                                0.567                 False   \n",
       "2868                                0.579                 False   \n",
       "2906                                0.484                 False   \n",
       "3139                                0.364                 False   \n",
       "3140                                0.393                 False   \n",
       "3229                                0.542                 False   \n",
       "3484                                0.564                  True   \n",
       "3486                                0.396                 False   \n",
       "3490                                0.579                 False   \n",
       "\n",
       "      t2_player5_clutch_win_perc  \n",
       "58                      0.608696  \n",
       "76                      0.529412  \n",
       "530                     0.400000  \n",
       "560                     0.620690  \n",
       "927                     0.782609  \n",
       "1045                    1.000000  \n",
       "1500                    0.461538  \n",
       "1527                    0.631579  \n",
       "1878                    0.645161  \n",
       "1887                    0.600000  \n",
       "1894                    0.521739  \n",
       "1895                    0.611111  \n",
       "2126                    0.606061  \n",
       "2524                    0.833333  \n",
       "2685                    0.428571  \n",
       "2785                    0.608696  \n",
       "2868                    0.666667  \n",
       "2906                    0.388889  \n",
       "3139                    0.750000  \n",
       "3140                    0.700000  \n",
       "3229                    0.777778  \n",
       "3484                    0.785714  \n",
       "3486                    0.722222  \n",
       "3490                    0.571429  \n",
       "\n",
       "[24 rows x 170 columns]"
      ]
     },
     "execution_count": 201,
     "metadata": {},
     "output_type": "execute_result"
    }
   ],
   "source": [
    "df_draw = df.query(\"winner == 'draw'\")\n",
    "df_draw"
   ]
  },
  {
   "cell_type": "markdown",
   "metadata": {},
   "source": [
    "## *Data Preprocessing*"
   ]
  },
  {
   "cell_type": "markdown",
   "metadata": {},
   "source": [
    "### Mengambil dan Memisahkan *Data Inference*"
   ]
  },
  {
   "cell_type": "markdown",
   "metadata": {},
   "source": [
    "Sebelum kita membagi *dataset train* dan *dataset test*, kita pisahkan dulu beberapa buah data untuk kita lakukan *inferencing* nantinya."
   ]
  },
  {
   "cell_type": "code",
   "execution_count": 202,
   "metadata": {},
   "outputs": [
    {
     "data": {
      "text/html": [
       "<div>\n",
       "<style scoped>\n",
       "    .dataframe tbody tr th:only-of-type {\n",
       "        vertical-align: middle;\n",
       "    }\n",
       "\n",
       "    .dataframe tbody tr th {\n",
       "        vertical-align: top;\n",
       "    }\n",
       "\n",
       "    .dataframe thead th {\n",
       "        text-align: right;\n",
       "    }\n",
       "</style>\n",
       "<table border=\"1\" class=\"dataframe\">\n",
       "  <thead>\n",
       "    <tr style=\"text-align: right;\">\n",
       "      <th></th>\n",
       "      <th>match_date</th>\n",
       "      <th>team_1</th>\n",
       "      <th>team_2</th>\n",
       "      <th>t1_points</th>\n",
       "      <th>t2_points</th>\n",
       "      <th>t1_world_rank</th>\n",
       "      <th>t2_world_rank</th>\n",
       "      <th>t1_h2h_win_perc</th>\n",
       "      <th>t2_h2h_win_perc</th>\n",
       "      <th>winner</th>\n",
       "      <th>...</th>\n",
       "      <th>t2_player5_dpr</th>\n",
       "      <th>t2_player5_spr</th>\n",
       "      <th>t2_player5_opk_ratio</th>\n",
       "      <th>t2_player5_opk_rating</th>\n",
       "      <th>t2_player5_wins_perc_after_fk</th>\n",
       "      <th>t2_player5_fk_perc_in_wins</th>\n",
       "      <th>t2_player5_multikill_perc</th>\n",
       "      <th>t2_player5_rating_at_least_one_perc</th>\n",
       "      <th>t2_player5_is_sniper</th>\n",
       "      <th>t2_player5_clutch_win_perc</th>\n",
       "    </tr>\n",
       "  </thead>\n",
       "  <tbody>\n",
       "    <tr>\n",
       "      <th>2864</th>\n",
       "      <td>2019-03-22</td>\n",
       "      <td>BIG</td>\n",
       "      <td>WINDIGO</td>\n",
       "      <td>0</td>\n",
       "      <td>2</td>\n",
       "      <td>18</td>\n",
       "      <td>16</td>\n",
       "      <td>0.750000</td>\n",
       "      <td>0.250000</td>\n",
       "      <td>t2</td>\n",
       "      <td>...</td>\n",
       "      <td>0.66</td>\n",
       "      <td>0.09</td>\n",
       "      <td>0.90</td>\n",
       "      <td>0.93</td>\n",
       "      <td>0.736</td>\n",
       "      <td>0.114</td>\n",
       "      <td>0.146577</td>\n",
       "      <td>0.478</td>\n",
       "      <td>False</td>\n",
       "      <td>0.555556</td>\n",
       "    </tr>\n",
       "    <tr>\n",
       "      <th>1872</th>\n",
       "      <td>2017-11-23</td>\n",
       "      <td>FAZE</td>\n",
       "      <td>VIRTUS.PRO</td>\n",
       "      <td>16</td>\n",
       "      <td>8</td>\n",
       "      <td>1</td>\n",
       "      <td>8</td>\n",
       "      <td>0.750000</td>\n",
       "      <td>0.250000</td>\n",
       "      <td>t1</td>\n",
       "      <td>...</td>\n",
       "      <td>0.67</td>\n",
       "      <td>0.09</td>\n",
       "      <td>0.90</td>\n",
       "      <td>0.90</td>\n",
       "      <td>0.736</td>\n",
       "      <td>0.112</td>\n",
       "      <td>0.130636</td>\n",
       "      <td>0.441</td>\n",
       "      <td>False</td>\n",
       "      <td>0.645161</td>\n",
       "    </tr>\n",
       "    <tr>\n",
       "      <th>279</th>\n",
       "      <td>2016-05-04</td>\n",
       "      <td>FNATIC</td>\n",
       "      <td>NIP</td>\n",
       "      <td>0</td>\n",
       "      <td>2</td>\n",
       "      <td>3</td>\n",
       "      <td>5</td>\n",
       "      <td>0.644068</td>\n",
       "      <td>0.355932</td>\n",
       "      <td>t2</td>\n",
       "      <td>...</td>\n",
       "      <td>0.66</td>\n",
       "      <td>0.10</td>\n",
       "      <td>0.89</td>\n",
       "      <td>0.95</td>\n",
       "      <td>0.752</td>\n",
       "      <td>0.125</td>\n",
       "      <td>0.157729</td>\n",
       "      <td>0.583</td>\n",
       "      <td>False</td>\n",
       "      <td>0.631579</td>\n",
       "    </tr>\n",
       "    <tr>\n",
       "      <th>3709</th>\n",
       "      <td>2020-10-31</td>\n",
       "      <td>VITALITY</td>\n",
       "      <td>BIG</td>\n",
       "      <td>2</td>\n",
       "      <td>1</td>\n",
       "      <td>3</td>\n",
       "      <td>6</td>\n",
       "      <td>0.714286</td>\n",
       "      <td>0.285714</td>\n",
       "      <td>t1</td>\n",
       "      <td>...</td>\n",
       "      <td>0.68</td>\n",
       "      <td>0.07</td>\n",
       "      <td>0.79</td>\n",
       "      <td>0.90</td>\n",
       "      <td>0.675</td>\n",
       "      <td>0.107</td>\n",
       "      <td>0.141484</td>\n",
       "      <td>0.478</td>\n",
       "      <td>False</td>\n",
       "      <td>0.666667</td>\n",
       "    </tr>\n",
       "    <tr>\n",
       "      <th>1864</th>\n",
       "      <td>2017-11-21</td>\n",
       "      <td>VIRTUS.PRO</td>\n",
       "      <td>FNATIC</td>\n",
       "      <td>14</td>\n",
       "      <td>16</td>\n",
       "      <td>8</td>\n",
       "      <td>13</td>\n",
       "      <td>0.329412</td>\n",
       "      <td>0.670588</td>\n",
       "      <td>t2</td>\n",
       "      <td>...</td>\n",
       "      <td>0.69</td>\n",
       "      <td>0.09</td>\n",
       "      <td>0.74</td>\n",
       "      <td>0.88</td>\n",
       "      <td>0.763</td>\n",
       "      <td>0.111</td>\n",
       "      <td>0.128800</td>\n",
       "      <td>0.478</td>\n",
       "      <td>False</td>\n",
       "      <td>0.600000</td>\n",
       "    </tr>\n",
       "    <tr>\n",
       "      <th>91</th>\n",
       "      <td>2016-02-27</td>\n",
       "      <td>DIGNITAS</td>\n",
       "      <td>CLOUD9</td>\n",
       "      <td>13</td>\n",
       "      <td>16</td>\n",
       "      <td>7</td>\n",
       "      <td>12</td>\n",
       "      <td>0.500000</td>\n",
       "      <td>0.500000</td>\n",
       "      <td>t2</td>\n",
       "      <td>...</td>\n",
       "      <td>0.70</td>\n",
       "      <td>0.10</td>\n",
       "      <td>0.80</td>\n",
       "      <td>0.90</td>\n",
       "      <td>0.754</td>\n",
       "      <td>0.120</td>\n",
       "      <td>0.140073</td>\n",
       "      <td>0.375</td>\n",
       "      <td>False</td>\n",
       "      <td>0.500000</td>\n",
       "    </tr>\n",
       "    <tr>\n",
       "      <th>3018</th>\n",
       "      <td>2019-06-09</td>\n",
       "      <td>FURIA</td>\n",
       "      <td>VITALITY</td>\n",
       "      <td>0</td>\n",
       "      <td>2</td>\n",
       "      <td>11</td>\n",
       "      <td>4</td>\n",
       "      <td>1.000000</td>\n",
       "      <td>0.000000</td>\n",
       "      <td>t2</td>\n",
       "      <td>...</td>\n",
       "      <td>0.62</td>\n",
       "      <td>0.12</td>\n",
       "      <td>0.93</td>\n",
       "      <td>0.90</td>\n",
       "      <td>0.811</td>\n",
       "      <td>0.102</td>\n",
       "      <td>0.140677</td>\n",
       "      <td>0.538</td>\n",
       "      <td>False</td>\n",
       "      <td>0.641026</td>\n",
       "    </tr>\n",
       "    <tr>\n",
       "      <th>3071</th>\n",
       "      <td>2019-07-13</td>\n",
       "      <td>NRG</td>\n",
       "      <td>RENEGADES</td>\n",
       "      <td>16</td>\n",
       "      <td>8</td>\n",
       "      <td>5</td>\n",
       "      <td>16</td>\n",
       "      <td>0.722222</td>\n",
       "      <td>0.277778</td>\n",
       "      <td>t1</td>\n",
       "      <td>...</td>\n",
       "      <td>0.68</td>\n",
       "      <td>0.08</td>\n",
       "      <td>0.90</td>\n",
       "      <td>0.99</td>\n",
       "      <td>0.731</td>\n",
       "      <td>0.162</td>\n",
       "      <td>0.138000</td>\n",
       "      <td>0.316</td>\n",
       "      <td>True</td>\n",
       "      <td>0.750000</td>\n",
       "    </tr>\n",
       "    <tr>\n",
       "      <th>848</th>\n",
       "      <td>2016-11-23</td>\n",
       "      <td>VIRTUS.PRO</td>\n",
       "      <td>ENVY</td>\n",
       "      <td>16</td>\n",
       "      <td>14</td>\n",
       "      <td>3</td>\n",
       "      <td>11</td>\n",
       "      <td>0.394737</td>\n",
       "      <td>0.605263</td>\n",
       "      <td>t1</td>\n",
       "      <td>...</td>\n",
       "      <td>0.65</td>\n",
       "      <td>0.11</td>\n",
       "      <td>0.96</td>\n",
       "      <td>0.91</td>\n",
       "      <td>0.627</td>\n",
       "      <td>0.088</td>\n",
       "      <td>0.135630</td>\n",
       "      <td>0.358</td>\n",
       "      <td>False</td>\n",
       "      <td>0.750000</td>\n",
       "    </tr>\n",
       "    <tr>\n",
       "      <th>3760</th>\n",
       "      <td>2020-12-08</td>\n",
       "      <td>VITALITY</td>\n",
       "      <td>MOUSESPORTS</td>\n",
       "      <td>2</td>\n",
       "      <td>0</td>\n",
       "      <td>1</td>\n",
       "      <td>8</td>\n",
       "      <td>0.666667</td>\n",
       "      <td>0.333333</td>\n",
       "      <td>t1</td>\n",
       "      <td>...</td>\n",
       "      <td>0.73</td>\n",
       "      <td>0.05</td>\n",
       "      <td>0.83</td>\n",
       "      <td>1.03</td>\n",
       "      <td>0.716</td>\n",
       "      <td>0.170</td>\n",
       "      <td>0.148915</td>\n",
       "      <td>0.431</td>\n",
       "      <td>True</td>\n",
       "      <td>0.600000</td>\n",
       "    </tr>\n",
       "  </tbody>\n",
       "</table>\n",
       "<p>10 rows × 170 columns</p>\n",
       "</div>"
      ],
      "text/plain": [
       "     match_date      team_1       team_2  t1_points  t2_points  t1_world_rank  \\\n",
       "2864 2019-03-22         BIG      WINDIGO          0          2             18   \n",
       "1872 2017-11-23        FAZE   VIRTUS.PRO         16          8              1   \n",
       "279  2016-05-04      FNATIC          NIP          0          2              3   \n",
       "3709 2020-10-31    VITALITY          BIG          2          1              3   \n",
       "1864 2017-11-21  VIRTUS.PRO       FNATIC         14         16              8   \n",
       "91   2016-02-27    DIGNITAS       CLOUD9         13         16              7   \n",
       "3018 2019-06-09       FURIA     VITALITY          0          2             11   \n",
       "3071 2019-07-13         NRG    RENEGADES         16          8              5   \n",
       "848  2016-11-23  VIRTUS.PRO         ENVY         16         14              3   \n",
       "3760 2020-12-08    VITALITY  MOUSESPORTS          2          0              1   \n",
       "\n",
       "      t2_world_rank  t1_h2h_win_perc  t2_h2h_win_perc winner  ...  \\\n",
       "2864             16         0.750000         0.250000     t2  ...   \n",
       "1872              8         0.750000         0.250000     t1  ...   \n",
       "279               5         0.644068         0.355932     t2  ...   \n",
       "3709              6         0.714286         0.285714     t1  ...   \n",
       "1864             13         0.329412         0.670588     t2  ...   \n",
       "91               12         0.500000         0.500000     t2  ...   \n",
       "3018              4         1.000000         0.000000     t2  ...   \n",
       "3071             16         0.722222         0.277778     t1  ...   \n",
       "848              11         0.394737         0.605263     t1  ...   \n",
       "3760              8         0.666667         0.333333     t1  ...   \n",
       "\n",
       "      t2_player5_dpr  t2_player5_spr  t2_player5_opk_ratio  \\\n",
       "2864            0.66            0.09                  0.90   \n",
       "1872            0.67            0.09                  0.90   \n",
       "279             0.66            0.10                  0.89   \n",
       "3709            0.68            0.07                  0.79   \n",
       "1864            0.69            0.09                  0.74   \n",
       "91              0.70            0.10                  0.80   \n",
       "3018            0.62            0.12                  0.93   \n",
       "3071            0.68            0.08                  0.90   \n",
       "848             0.65            0.11                  0.96   \n",
       "3760            0.73            0.05                  0.83   \n",
       "\n",
       "      t2_player5_opk_rating  t2_player5_wins_perc_after_fk  \\\n",
       "2864                   0.93                          0.736   \n",
       "1872                   0.90                          0.736   \n",
       "279                    0.95                          0.752   \n",
       "3709                   0.90                          0.675   \n",
       "1864                   0.88                          0.763   \n",
       "91                     0.90                          0.754   \n",
       "3018                   0.90                          0.811   \n",
       "3071                   0.99                          0.731   \n",
       "848                    0.91                          0.627   \n",
       "3760                   1.03                          0.716   \n",
       "\n",
       "      t2_player5_fk_perc_in_wins  t2_player5_multikill_perc  \\\n",
       "2864                       0.114                   0.146577   \n",
       "1872                       0.112                   0.130636   \n",
       "279                        0.125                   0.157729   \n",
       "3709                       0.107                   0.141484   \n",
       "1864                       0.111                   0.128800   \n",
       "91                         0.120                   0.140073   \n",
       "3018                       0.102                   0.140677   \n",
       "3071                       0.162                   0.138000   \n",
       "848                        0.088                   0.135630   \n",
       "3760                       0.170                   0.148915   \n",
       "\n",
       "      t2_player5_rating_at_least_one_perc  t2_player5_is_sniper  \\\n",
       "2864                                0.478                 False   \n",
       "1872                                0.441                 False   \n",
       "279                                 0.583                 False   \n",
       "3709                                0.478                 False   \n",
       "1864                                0.478                 False   \n",
       "91                                  0.375                 False   \n",
       "3018                                0.538                 False   \n",
       "3071                                0.316                  True   \n",
       "848                                 0.358                 False   \n",
       "3760                                0.431                  True   \n",
       "\n",
       "      t2_player5_clutch_win_perc  \n",
       "2864                    0.555556  \n",
       "1872                    0.645161  \n",
       "279                     0.631579  \n",
       "3709                    0.666667  \n",
       "1864                    0.600000  \n",
       "91                      0.500000  \n",
       "3018                    0.641026  \n",
       "3071                    0.750000  \n",
       "848                     0.750000  \n",
       "3760                    0.600000  \n",
       "\n",
       "[10 rows x 170 columns]"
      ]
     },
     "execution_count": 202,
     "metadata": {},
     "output_type": "execute_result"
    }
   ],
   "source": [
    "df_inf = df.sample(10, random_state = 2)\n",
    "df_inf"
   ]
  },
  {
   "cell_type": "markdown",
   "metadata": {},
   "source": [
    "Kemudian kita pisahkan sampel data tadi dari *dataset* aslinya."
   ]
  },
  {
   "cell_type": "code",
   "execution_count": 203,
   "metadata": {},
   "outputs": [
    {
     "data": {
      "text/plain": [
       "(3777, 170)"
      ]
     },
     "execution_count": 203,
     "metadata": {},
     "output_type": "execute_result"
    }
   ],
   "source": [
    "df_traintest = df.drop(df_inf.index)\n",
    "df_traintest.reset_index(drop = True, inplace = True)\n",
    "df_inf.reset_index(drop = True, inplace = True)\n",
    "df_traintest.shape"
   ]
  },
  {
   "cell_type": "markdown",
   "metadata": {},
   "source": [
    "### Menghilangkan Hasil Pertandingan yang Belum Selesai"
   ]
  },
  {
   "cell_type": "markdown",
   "metadata": {},
   "source": [
    "Pada saat kita melakukan pemeriksaan hasil pertandingan, kita mendapati bahwa terdapat hasil pertandingan yang berakhir seri. Karena pertandingan yang berakhir seri ini jumlahnya tidak signifikan dibanding jumlah keseluruhan data yang kita miliki, kita akan hilangkan keseluruhan pertandingan yang berakhir seri."
   ]
  },
  {
   "cell_type": "code",
   "execution_count": 204,
   "metadata": {},
   "outputs": [
    {
     "data": {
      "text/plain": [
       "(3777, 170)"
      ]
     },
     "execution_count": 204,
     "metadata": {},
     "output_type": "execute_result"
    }
   ],
   "source": [
    "df_traintest.shape"
   ]
  },
  {
   "cell_type": "code",
   "execution_count": 205,
   "metadata": {},
   "outputs": [
    {
     "data": {
      "text/plain": [
       "(3753, 170)"
      ]
     },
     "execution_count": 205,
     "metadata": {},
     "output_type": "execute_result"
    }
   ],
   "source": [
    "df_traintest = df_traintest.query(\"winner != 'draw'\")\n",
    "df_traintest.shape"
   ]
  },
  {
   "cell_type": "markdown",
   "metadata": {},
   "source": [
    "### Memisahkan *Data Train* dan *Data Test*"
   ]
  },
  {
   "cell_type": "markdown",
   "metadata": {},
   "source": [
    "Setelah kita memisahkan *dataset inference* dengan *dataset* aslinya, kita pisahkan lebih lanjut *dataset* yang sudah dipisahkan menjadi tabel fitur dan tabel target. Pada kasus ini target yang dipilih adalah kolom `winner`."
   ]
  },
  {
   "cell_type": "code",
   "execution_count": 206,
   "metadata": {},
   "outputs": [],
   "source": [
    "x = df_traintest.drop(\"winner\", axis = 1)\n",
    "y = df_traintest[\"winner\"]"
   ]
  },
  {
   "cell_type": "markdown",
   "metadata": {},
   "source": [
    "Kemudian dengan bantuan *library* `sklearn.model_selection.train_test_split`, kita akan memisahkan tabel fitur dan target menjadi *dataset train* dan *dataset test*."
   ]
  },
  {
   "cell_type": "code",
   "execution_count": 207,
   "metadata": {},
   "outputs": [
    {
     "name": "stdout",
     "output_type": "stream",
     "text": [
      "Train Size: (3002, 169)\n",
      "Test Size: (751, 169)\n"
     ]
    }
   ],
   "source": [
    "x_train, x_test, y_train, y_test = train_test_split(x, y, test_size = 0.2, random_state = 20)\n",
    "\n",
    "x_train.reset_index(drop = True, inplace = True)\n",
    "x_test.reset_index(drop = True, inplace = True)\n",
    "y_train.reset_index(drop = True, inplace = True)\n",
    "y_test.reset_index(drop = True, inplace = True)\n",
    "\n",
    "print(\"Train Size:\", x_train.shape)\n",
    "print(\"Test Size:\", x_test.shape)"
   ]
  },
  {
   "cell_type": "markdown",
   "metadata": {},
   "source": [
    "### Mengurus *Missing Value*"
   ]
  },
  {
   "cell_type": "markdown",
   "metadata": {},
   "source": [
    "Dari perintah `.info()` sebelumnya kita mengetahui bahwa terdapat 1 buah *missing value* pada kolom `t2_player5_wins_perc_after_fk`. Karena kita sudah membagi *dataset train* dan *dataset test*, kita harus periksa di *dataset* mana *missing value* ini berada.\n",
    "\n",
    "Pertama-tama kita akan periksa apakah terdapat *missing value* di dalam *dataset train*."
   ]
  },
  {
   "cell_type": "code",
   "execution_count": 208,
   "metadata": {},
   "outputs": [
    {
     "data": {
      "text/plain": [
       "0"
      ]
     },
     "execution_count": 208,
     "metadata": {},
     "output_type": "execute_result"
    }
   ],
   "source": [
    "x_train.t2_player5_wins_perc_after_fk.isnull().sum()"
   ]
  },
  {
   "cell_type": "markdown",
   "metadata": {},
   "source": [
    "Ternyata tidak ada *missing value* di *dataset train*. Selanjutnya kita akan periksa di *dataset test*."
   ]
  },
  {
   "cell_type": "code",
   "execution_count": 209,
   "metadata": {},
   "outputs": [
    {
     "data": {
      "text/plain": [
       "1"
      ]
     },
     "execution_count": 209,
     "metadata": {},
     "output_type": "execute_result"
    }
   ],
   "source": [
    "x_test.t2_player5_wins_perc_after_fk.isnull().sum()"
   ]
  },
  {
   "cell_type": "markdown",
   "metadata": {},
   "source": [
    "Ternyata *missing value* berada di *dataset test*. Kita akan isi *missing value* ini dengan nilai rata-rata dari kolom tersebut."
   ]
  },
  {
   "cell_type": "code",
   "execution_count": 210,
   "metadata": {},
   "outputs": [
    {
     "data": {
      "text/plain": [
       "0"
      ]
     },
     "execution_count": 210,
     "metadata": {},
     "output_type": "execute_result"
    }
   ],
   "source": [
    "x_test.t2_player5_wins_perc_after_fk.fillna(x_train.t2_player5_wins_perc_after_fk.mean(), inplace = True)\n",
    "x_test.t2_player5_wins_perc_after_fk.isnull().sum()"
   ]
  },
  {
   "cell_type": "markdown",
   "metadata": {},
   "source": [
    "Dengan perintah ini kita sudah mengurus *missing value* di dalam kolom `t2_player5_wins_perc_after_fk`.\n",
    "\n",
    "Selain itu seperti yang sudah kita ketahui pada saat melakukan *exploratory data analysis*, kita mengetahui bahwa mayoritas pertandingan dilakukan dengan *format best of 1*. Maka dari itu kita akan mengubah hasil skor untuk pertandingan-pertandingan ini menjadi skor keseluruhan untuk *best of 1*."
   ]
  },
  {
   "cell_type": "code",
   "execution_count": 211,
   "metadata": {},
   "outputs": [
    {
     "name": "stderr",
     "output_type": "stream",
     "text": [
      "C:\\Users\\Faisal Kengo\\AppData\\Local\\Temp\\ipykernel_11620\\65804115.py:7: SettingWithCopyWarning: \n",
      "A value is trying to be set on a copy of a slice from a DataFrame\n",
      "\n",
      "See the caveats in the documentation: https://pandas.pydata.org/pandas-docs/stable/user_guide/indexing.html#returning-a-view-versus-a-copy\n",
      "  x_train.t1_points.iloc[i] = 0\n",
      "C:\\Users\\Faisal Kengo\\AppData\\Local\\Temp\\ipykernel_11620\\65804115.py:8: SettingWithCopyWarning: \n",
      "A value is trying to be set on a copy of a slice from a DataFrame\n",
      "\n",
      "See the caveats in the documentation: https://pandas.pydata.org/pandas-docs/stable/user_guide/indexing.html#returning-a-view-versus-a-copy\n",
      "  x_train.t2_points.iloc[i] = 1\n",
      "C:\\Users\\Faisal Kengo\\AppData\\Local\\Temp\\ipykernel_11620\\65804115.py:4: SettingWithCopyWarning: \n",
      "A value is trying to be set on a copy of a slice from a DataFrame\n",
      "\n",
      "See the caveats in the documentation: https://pandas.pydata.org/pandas-docs/stable/user_guide/indexing.html#returning-a-view-versus-a-copy\n",
      "  x_train.t1_points.iloc[i] = 1\n",
      "C:\\Users\\Faisal Kengo\\AppData\\Local\\Temp\\ipykernel_11620\\65804115.py:5: SettingWithCopyWarning: \n",
      "A value is trying to be set on a copy of a slice from a DataFrame\n",
      "\n",
      "See the caveats in the documentation: https://pandas.pydata.org/pandas-docs/stable/user_guide/indexing.html#returning-a-view-versus-a-copy\n",
      "  x_train.t2_points.iloc[i] = 0\n"
     ]
    }
   ],
   "source": [
    "for i in range(len(x_train)):\n",
    "    if x_train.t1_points.iloc[i] > 3 or x_train.t2_points.iloc[i] > 3: \n",
    "        if x_train.t1_points.iloc[i] > x_train.t2_points.iloc[i]:\n",
    "            x_train.t1_points.iloc[i] = 1\n",
    "            x_train.t2_points.iloc[i] = 0\n",
    "        else:\n",
    "            x_train.t1_points.iloc[i] = 0\n",
    "            x_train.t2_points.iloc[i] = 1\n",
    "    else: continue"
   ]
  },
  {
   "cell_type": "markdown",
   "metadata": {},
   "source": [
    "Dengan *looping* di atas, kita bisa mengubah skor pertandingan dengan *format best of 1* menjadi pengaturan jumlah peta yang dimenangkan dari pertandingan tersebut.\n",
    "\n",
    "Kita juga akan lakukan ini pada *dataset test*."
   ]
  },
  {
   "cell_type": "code",
   "execution_count": 212,
   "metadata": {},
   "outputs": [
    {
     "name": "stderr",
     "output_type": "stream",
     "text": [
      "C:\\Users\\Faisal Kengo\\AppData\\Local\\Temp\\ipykernel_11620\\4126239599.py:7: SettingWithCopyWarning: \n",
      "A value is trying to be set on a copy of a slice from a DataFrame\n",
      "\n",
      "See the caveats in the documentation: https://pandas.pydata.org/pandas-docs/stable/user_guide/indexing.html#returning-a-view-versus-a-copy\n",
      "  x_test.t1_points.iloc[i] = 0\n",
      "C:\\Users\\Faisal Kengo\\AppData\\Local\\Temp\\ipykernel_11620\\4126239599.py:8: SettingWithCopyWarning: \n",
      "A value is trying to be set on a copy of a slice from a DataFrame\n",
      "\n",
      "See the caveats in the documentation: https://pandas.pydata.org/pandas-docs/stable/user_guide/indexing.html#returning-a-view-versus-a-copy\n",
      "  x_test.t2_points.iloc[i] = 1\n",
      "C:\\Users\\Faisal Kengo\\AppData\\Local\\Temp\\ipykernel_11620\\4126239599.py:4: SettingWithCopyWarning: \n",
      "A value is trying to be set on a copy of a slice from a DataFrame\n",
      "\n",
      "See the caveats in the documentation: https://pandas.pydata.org/pandas-docs/stable/user_guide/indexing.html#returning-a-view-versus-a-copy\n",
      "  x_test.t1_points.iloc[i] = 1\n",
      "C:\\Users\\Faisal Kengo\\AppData\\Local\\Temp\\ipykernel_11620\\4126239599.py:5: SettingWithCopyWarning: \n",
      "A value is trying to be set on a copy of a slice from a DataFrame\n",
      "\n",
      "See the caveats in the documentation: https://pandas.pydata.org/pandas-docs/stable/user_guide/indexing.html#returning-a-view-versus-a-copy\n",
      "  x_test.t2_points.iloc[i] = 0\n"
     ]
    }
   ],
   "source": [
    "for i in range(len(x_test)):\n",
    "    if x_test.t1_points.iloc[i] > 3 or x_test.t2_points.iloc[i] > 3: \n",
    "        if x_test.t1_points.iloc[i] > x_test.t2_points.iloc[i]:\n",
    "            x_test.t1_points.iloc[i] = 1\n",
    "            x_test.t2_points.iloc[i] = 0\n",
    "        else:\n",
    "            x_test.t1_points.iloc[i] = 0\n",
    "            x_test.t2_points.iloc[i] = 1\n",
    "    else: continue"
   ]
  },
  {
   "cell_type": "markdown",
   "metadata": {},
   "source": [
    "Setelah kita mengurus *missing value*-nya, kita bisa mulai memilih dan mengolah tabel yang akan kita gunakan untuk diimplementasikan ke dalam model."
   ]
  },
  {
   "cell_type": "markdown",
   "metadata": {},
   "source": [
    "## Membangun Model yang akan Digunakan"
   ]
  },
  {
   "cell_type": "markdown",
   "metadata": {},
   "source": [
    "### *Feature Selection*"
   ]
  },
  {
   "cell_type": "markdown",
   "metadata": {},
   "source": [
    "Berdasarkan penilaian pribadi, saya akan mengambil fitur-fitur berikut untuk dilatih ke dalam model:\n",
    "\n",
    "* `t1_world_rank` dan `t2_world_rank`, merupakan dua fitur yang lebih kredibel dibandingkan dengan nama tim karena peringkat tim terus berubah setelah turnamen berskala besar selesai,\n",
    "\n",
    "* `t1_h2h_win_perc` dan `t2_h2h_win_perc`, merupakan fitur yang menggambarkan bagaimana rasio kemenangan antartim sebelum bertanding,\n",
    "\n",
    "* `t(x)_player(y)_rating` dan `t(x)_player(y)_impact`, merupakan fitur yang menggambarkan performa dan dampak dari masing-masing pemain di masing-masing tim yang bertanding."
   ]
  },
  {
   "cell_type": "code",
   "execution_count": 213,
   "metadata": {},
   "outputs": [],
   "source": [
    "x_train = x_train[[\"t1_world_rank\", \"t2_world_rank\", \"t1_h2h_win_perc\", \"t2_h2h_win_perc\", \"t1_player1_rating\", \"t1_player1_impact\", \"t1_player2_rating\", \"t1_player2_impact\", \"t1_player3_rating\", \"t1_player3_impact\", \"t1_player4_rating\", \"t1_player4_impact\", \"t1_player5_rating\", \"t1_player5_impact\", \"t2_player1_rating\", \"t2_player1_impact\", \"t2_player2_rating\", \"t2_player2_impact\", \"t2_player3_rating\", \"t2_player3_impact\", \"t2_player4_rating\", \"t2_player4_impact\", \"t2_player5_rating\", \"t2_player5_impact\"]]\n",
    "x_test = x_test[[\"t1_world_rank\", \"t2_world_rank\", \"t1_h2h_win_perc\", \"t2_h2h_win_perc\", \"t1_player1_rating\", \"t1_player1_impact\", \"t1_player2_rating\", \"t1_player2_impact\", \"t1_player3_rating\", \"t1_player3_impact\", \"t1_player4_rating\", \"t1_player4_impact\", \"t1_player5_rating\", \"t1_player5_impact\", \"t2_player1_rating\", \"t2_player1_impact\", \"t2_player2_rating\", \"t2_player2_impact\", \"t2_player3_rating\", \"t2_player3_impact\", \"t2_player4_rating\", \"t2_player4_impact\", \"t2_player5_rating\", \"t2_player5_impact\"]]"
   ]
  },
  {
   "cell_type": "code",
   "execution_count": 214,
   "metadata": {},
   "outputs": [
    {
     "data": {
      "text/plain": [
       "(3002, 24)"
      ]
     },
     "execution_count": 214,
     "metadata": {},
     "output_type": "execute_result"
    }
   ],
   "source": [
    "x_train.shape"
   ]
  },
  {
   "cell_type": "markdown",
   "metadata": {},
   "source": [
    "### *Feature Scaling*"
   ]
  },
  {
   "cell_type": "markdown",
   "metadata": {},
   "source": [
    "Kebetulan seluruh fitur yang kita miliki merupakan fitur numerik, sehingga kita dapat langsung melakukan *scaling* terhadap fitur-fitur tersebut."
   ]
  },
  {
   "cell_type": "code",
   "execution_count": 215,
   "metadata": {},
   "outputs": [],
   "source": [
    "scaler = MinMaxScaler()\n",
    "scaler.fit(x_train)\n",
    "\n",
    "x_train_final = scaler.transform(x_train)\n",
    "x_test_final = scaler.transform(x_test)"
   ]
  },
  {
   "cell_type": "markdown",
   "metadata": {},
   "source": [
    "### *Model Training*"
   ]
  },
  {
   "cell_type": "markdown",
   "metadata": {},
   "source": [
    "Selanjutnya kita akan latih model-model yang akan kita gunakan untuk memprediksi hasil pertandingan CS:GO. Model-model yang akan kita olah antara lain model regresi logistik, model *support vector classification*, model *decision tree*, dan model *Gaussian Naive-Bayes*. Semua model yang akan dilatih hanya akan menggunakan parameter *default* agar nantinya kita dapat melakukan *hyperparameter tuning* dengan mengubah *hyperparameter* pada model yang nantinya diambil."
   ]
  },
  {
   "cell_type": "markdown",
   "metadata": {},
   "source": [
    "#### Regresi Logistik"
   ]
  },
  {
   "cell_type": "markdown",
   "metadata": {},
   "source": [
    "Untuk model regresi logistik, kita akan gunakan dari *library* `sklearn.linear_model.LogisticRegression`."
   ]
  },
  {
   "cell_type": "code",
   "execution_count": 216,
   "metadata": {},
   "outputs": [
    {
     "name": "stdout",
     "output_type": "stream",
     "text": [
      "CPU times: total: 78.1 ms\n",
      "Wall time: 54 ms\n"
     ]
    },
    {
     "data": {
      "text/plain": [
       "LogisticRegression()"
      ]
     },
     "execution_count": 216,
     "metadata": {},
     "output_type": "execute_result"
    }
   ],
   "source": [
    "%%time\n",
    "mod_log = LogisticRegression()\n",
    "mod_log.fit(x_train_final, y_train)"
   ]
  },
  {
   "cell_type": "markdown",
   "metadata": {},
   "source": [
    "Kemudian kita akan prediksi hasil target dengan menggunakan model tersebut."
   ]
  },
  {
   "cell_type": "code",
   "execution_count": 217,
   "metadata": {},
   "outputs": [],
   "source": [
    "y_pred_train_log = mod_log.predict(x_train_final)\n",
    "y_pred_test_log = mod_log.predict(x_test_final)"
   ]
  },
  {
   "cell_type": "markdown",
   "metadata": {},
   "source": [
    "#### *Support-Vector Machine*"
   ]
  },
  {
   "cell_type": "markdown",
   "metadata": {},
   "source": [
    "Untuk model *support-vector machine*, kita akan gunakan dari *library* `sklearn.svm.SVC`."
   ]
  },
  {
   "cell_type": "code",
   "execution_count": 218,
   "metadata": {},
   "outputs": [
    {
     "name": "stdout",
     "output_type": "stream",
     "text": [
      "CPU times: total: 766 ms\n",
      "Wall time: 1.06 s\n"
     ]
    },
    {
     "data": {
      "text/plain": [
       "SVC(random_state=2)"
      ]
     },
     "execution_count": 218,
     "metadata": {},
     "output_type": "execute_result"
    }
   ],
   "source": [
    "%%time\n",
    "mod_SVM = SVC(random_state = 2)\n",
    "mod_SVM.fit(x_train_final, y_train)"
   ]
  },
  {
   "cell_type": "markdown",
   "metadata": {},
   "source": [
    "Kemudian kita akan prediksi hasil target dengan menggunakan model tersebut."
   ]
  },
  {
   "cell_type": "code",
   "execution_count": 219,
   "metadata": {},
   "outputs": [],
   "source": [
    "y_pred_train_svc = mod_SVM.predict(x_train_final)\n",
    "y_pred_test_svc = mod_SVM.predict(x_test_final)"
   ]
  },
  {
   "cell_type": "markdown",
   "metadata": {},
   "source": [
    "#### *Decision Tree*"
   ]
  },
  {
   "cell_type": "markdown",
   "metadata": {},
   "source": [
    "Untuk model *decision tree*, kita akan gunakan dari *library* `sklearn.tree.DecisionTreeClassifier`."
   ]
  },
  {
   "cell_type": "code",
   "execution_count": 220,
   "metadata": {},
   "outputs": [
    {
     "name": "stdout",
     "output_type": "stream",
     "text": [
      "CPU times: total: 93.8 ms\n",
      "Wall time: 93 ms\n"
     ]
    },
    {
     "data": {
      "text/plain": [
       "DecisionTreeClassifier(random_state=2)"
      ]
     },
     "execution_count": 220,
     "metadata": {},
     "output_type": "execute_result"
    }
   ],
   "source": [
    "%%time\n",
    "mod_tree = DecisionTreeClassifier(random_state = 2)\n",
    "mod_tree.fit(x_train_final, y_train)"
   ]
  },
  {
   "cell_type": "markdown",
   "metadata": {},
   "source": [
    "Kemudian kita akan prediksi hasil target dengan menggunakan model tersebut."
   ]
  },
  {
   "cell_type": "code",
   "execution_count": 221,
   "metadata": {},
   "outputs": [],
   "source": [
    "y_pred_train_tree = mod_tree.predict(x_train_final)\n",
    "y_pred_test_tree = mod_tree.predict(x_test_final)"
   ]
  },
  {
   "cell_type": "markdown",
   "metadata": {},
   "source": [
    "#### Naive-Bayes"
   ]
  },
  {
   "cell_type": "markdown",
   "metadata": {},
   "source": [
    "Untuk model Naive-Bayes, kita akan gunakan dari *library* `sklearn.naive_bayes.GaussianNB`."
   ]
  },
  {
   "cell_type": "code",
   "execution_count": 222,
   "metadata": {},
   "outputs": [
    {
     "name": "stdout",
     "output_type": "stream",
     "text": [
      "CPU times: total: 15.6 ms\n",
      "Wall time: 8 ms\n"
     ]
    },
    {
     "data": {
      "text/plain": [
       "GaussianNB()"
      ]
     },
     "execution_count": 222,
     "metadata": {},
     "output_type": "execute_result"
    }
   ],
   "source": [
    "%%time\n",
    "mod_gnb = GaussianNB()\n",
    "mod_gnb.fit(x_train_final, y_train)"
   ]
  },
  {
   "cell_type": "markdown",
   "metadata": {},
   "source": [
    "Kemudian kita akan prediksi hasil target dengan menggunakan model tersebut."
   ]
  },
  {
   "cell_type": "code",
   "execution_count": 223,
   "metadata": {},
   "outputs": [],
   "source": [
    "y_pred_train_gnb = mod_gnb.predict(x_train_final)\n",
    "y_pred_test_gnb = mod_gnb.predict(x_test_final)"
   ]
  },
  {
   "cell_type": "markdown",
   "metadata": {},
   "source": [
    "### Membuat *Pipeline* untuk Melakukan *Feature Scaling* dan *Model Training* dengan *Hyperparameter* yang Sudah Diatur Ulang"
   ]
  },
  {
   "cell_type": "markdown",
   "metadata": {},
   "source": [
    "Pada tahap ini kita akan membuat empat buah *pipeline* untuk masing-masing model klasifikasi yang akan dilatih, yaitu model regresi logistik, model *support vector classification*, model *decision tree*, dan model *Gaussian Naive-Bayes*.\n",
    "\n",
    "Pertama-tama kita akan membuat pipa pertama yang menjelaskan perintah untuk melakukan *scaling*."
   ]
  },
  {
   "cell_type": "code",
   "execution_count": 224,
   "metadata": {},
   "outputs": [],
   "source": [
    "pipeline_scale = Pipeline([\n",
    "    (\"MinMaxScaler:\", MinMaxScaler())\n",
    "])"
   ]
  },
  {
   "cell_type": "markdown",
   "metadata": {},
   "source": [
    "Kemudian kita akan terapkan pipa tersebut untuk melakukan *scaling*."
   ]
  },
  {
   "cell_type": "code",
   "execution_count": 225,
   "metadata": {},
   "outputs": [],
   "source": [
    "x_train_scaled = pipeline_scale.fit_transform(x_train)\n",
    "x_test_scaled = pipeline_scale.transform(x_test)"
   ]
  },
  {
   "cell_type": "markdown",
   "metadata": {},
   "source": [
    "Kemudian kita akan mencari *hyperparameter* terbaik pada keempat model dengan menggunakan `GridSearchCV`."
   ]
  },
  {
   "cell_type": "code",
   "execution_count": 226,
   "metadata": {},
   "outputs": [
    {
     "name": "stderr",
     "output_type": "stream",
     "text": [
      "d:\\DokumenFaisal\\Tools\\Anaconda3\\lib\\site-packages\\sklearn\\linear_model\\_logistic.py:814: ConvergenceWarning: lbfgs failed to converge (status=1):\n",
      "STOP: TOTAL NO. of ITERATIONS REACHED LIMIT.\n",
      "\n",
      "Increase the number of iterations (max_iter) or scale the data as shown in:\n",
      "    https://scikit-learn.org/stable/modules/preprocessing.html\n",
      "Please also refer to the documentation for alternative solver options:\n",
      "    https://scikit-learn.org/stable/modules/linear_model.html#logistic-regression\n",
      "  n_iter_i = _check_optimize_result(\n",
      "d:\\DokumenFaisal\\Tools\\Anaconda3\\lib\\site-packages\\sklearn\\linear_model\\_logistic.py:814: ConvergenceWarning: lbfgs failed to converge (status=1):\n",
      "STOP: TOTAL NO. of ITERATIONS REACHED LIMIT.\n",
      "\n",
      "Increase the number of iterations (max_iter) or scale the data as shown in:\n",
      "    https://scikit-learn.org/stable/modules/preprocessing.html\n",
      "Please also refer to the documentation for alternative solver options:\n",
      "    https://scikit-learn.org/stable/modules/linear_model.html#logistic-regression\n",
      "  n_iter_i = _check_optimize_result(\n",
      "d:\\DokumenFaisal\\Tools\\Anaconda3\\lib\\site-packages\\sklearn\\linear_model\\_logistic.py:814: ConvergenceWarning: lbfgs failed to converge (status=1):\n",
      "STOP: TOTAL NO. of ITERATIONS REACHED LIMIT.\n",
      "\n",
      "Increase the number of iterations (max_iter) or scale the data as shown in:\n",
      "    https://scikit-learn.org/stable/modules/preprocessing.html\n",
      "Please also refer to the documentation for alternative solver options:\n",
      "    https://scikit-learn.org/stable/modules/linear_model.html#logistic-regression\n",
      "  n_iter_i = _check_optimize_result(\n",
      "d:\\DokumenFaisal\\Tools\\Anaconda3\\lib\\site-packages\\sklearn\\svm\\_base.py:284: ConvergenceWarning: Solver terminated early (max_iter=10).  Consider pre-processing your data with StandardScaler or MinMaxScaler.\n",
      "  warnings.warn(\n",
      "d:\\DokumenFaisal\\Tools\\Anaconda3\\lib\\site-packages\\sklearn\\svm\\_base.py:284: ConvergenceWarning: Solver terminated early (max_iter=10).  Consider pre-processing your data with StandardScaler or MinMaxScaler.\n",
      "  warnings.warn(\n",
      "d:\\DokumenFaisal\\Tools\\Anaconda3\\lib\\site-packages\\sklearn\\svm\\_base.py:284: ConvergenceWarning: Solver terminated early (max_iter=10).  Consider pre-processing your data with StandardScaler or MinMaxScaler.\n",
      "  warnings.warn(\n",
      "d:\\DokumenFaisal\\Tools\\Anaconda3\\lib\\site-packages\\sklearn\\svm\\_base.py:284: ConvergenceWarning: Solver terminated early (max_iter=10).  Consider pre-processing your data with StandardScaler or MinMaxScaler.\n",
      "  warnings.warn(\n",
      "d:\\DokumenFaisal\\Tools\\Anaconda3\\lib\\site-packages\\sklearn\\svm\\_base.py:284: ConvergenceWarning: Solver terminated early (max_iter=10).  Consider pre-processing your data with StandardScaler or MinMaxScaler.\n",
      "  warnings.warn(\n",
      "d:\\DokumenFaisal\\Tools\\Anaconda3\\lib\\site-packages\\sklearn\\svm\\_base.py:284: ConvergenceWarning: Solver terminated early (max_iter=20).  Consider pre-processing your data with StandardScaler or MinMaxScaler.\n",
      "  warnings.warn(\n",
      "d:\\DokumenFaisal\\Tools\\Anaconda3\\lib\\site-packages\\sklearn\\svm\\_base.py:284: ConvergenceWarning: Solver terminated early (max_iter=20).  Consider pre-processing your data with StandardScaler or MinMaxScaler.\n",
      "  warnings.warn(\n",
      "d:\\DokumenFaisal\\Tools\\Anaconda3\\lib\\site-packages\\sklearn\\svm\\_base.py:284: ConvergenceWarning: Solver terminated early (max_iter=20).  Consider pre-processing your data with StandardScaler or MinMaxScaler.\n",
      "  warnings.warn(\n",
      "d:\\DokumenFaisal\\Tools\\Anaconda3\\lib\\site-packages\\sklearn\\svm\\_base.py:284: ConvergenceWarning: Solver terminated early (max_iter=20).  Consider pre-processing your data with StandardScaler or MinMaxScaler.\n",
      "  warnings.warn(\n",
      "d:\\DokumenFaisal\\Tools\\Anaconda3\\lib\\site-packages\\sklearn\\svm\\_base.py:284: ConvergenceWarning: Solver terminated early (max_iter=20).  Consider pre-processing your data with StandardScaler or MinMaxScaler.\n",
      "  warnings.warn(\n",
      "d:\\DokumenFaisal\\Tools\\Anaconda3\\lib\\site-packages\\sklearn\\svm\\_base.py:284: ConvergenceWarning: Solver terminated early (max_iter=30).  Consider pre-processing your data with StandardScaler or MinMaxScaler.\n",
      "  warnings.warn(\n",
      "d:\\DokumenFaisal\\Tools\\Anaconda3\\lib\\site-packages\\sklearn\\svm\\_base.py:284: ConvergenceWarning: Solver terminated early (max_iter=30).  Consider pre-processing your data with StandardScaler or MinMaxScaler.\n",
      "  warnings.warn(\n",
      "d:\\DokumenFaisal\\Tools\\Anaconda3\\lib\\site-packages\\sklearn\\svm\\_base.py:284: ConvergenceWarning: Solver terminated early (max_iter=30).  Consider pre-processing your data with StandardScaler or MinMaxScaler.\n",
      "  warnings.warn(\n",
      "d:\\DokumenFaisal\\Tools\\Anaconda3\\lib\\site-packages\\sklearn\\svm\\_base.py:284: ConvergenceWarning: Solver terminated early (max_iter=30).  Consider pre-processing your data with StandardScaler or MinMaxScaler.\n",
      "  warnings.warn(\n",
      "d:\\DokumenFaisal\\Tools\\Anaconda3\\lib\\site-packages\\sklearn\\svm\\_base.py:284: ConvergenceWarning: Solver terminated early (max_iter=30).  Consider pre-processing your data with StandardScaler or MinMaxScaler.\n",
      "  warnings.warn(\n",
      "d:\\DokumenFaisal\\Tools\\Anaconda3\\lib\\site-packages\\sklearn\\svm\\_base.py:284: ConvergenceWarning: Solver terminated early (max_iter=40).  Consider pre-processing your data with StandardScaler or MinMaxScaler.\n",
      "  warnings.warn(\n",
      "d:\\DokumenFaisal\\Tools\\Anaconda3\\lib\\site-packages\\sklearn\\svm\\_base.py:284: ConvergenceWarning: Solver terminated early (max_iter=40).  Consider pre-processing your data with StandardScaler or MinMaxScaler.\n",
      "  warnings.warn(\n",
      "d:\\DokumenFaisal\\Tools\\Anaconda3\\lib\\site-packages\\sklearn\\svm\\_base.py:284: ConvergenceWarning: Solver terminated early (max_iter=40).  Consider pre-processing your data with StandardScaler or MinMaxScaler.\n",
      "  warnings.warn(\n",
      "d:\\DokumenFaisal\\Tools\\Anaconda3\\lib\\site-packages\\sklearn\\svm\\_base.py:284: ConvergenceWarning: Solver terminated early (max_iter=40).  Consider pre-processing your data with StandardScaler or MinMaxScaler.\n",
      "  warnings.warn(\n",
      "d:\\DokumenFaisal\\Tools\\Anaconda3\\lib\\site-packages\\sklearn\\svm\\_base.py:284: ConvergenceWarning: Solver terminated early (max_iter=40).  Consider pre-processing your data with StandardScaler or MinMaxScaler.\n",
      "  warnings.warn(\n",
      "d:\\DokumenFaisal\\Tools\\Anaconda3\\lib\\site-packages\\sklearn\\svm\\_base.py:284: ConvergenceWarning: Solver terminated early (max_iter=50).  Consider pre-processing your data with StandardScaler or MinMaxScaler.\n",
      "  warnings.warn(\n",
      "d:\\DokumenFaisal\\Tools\\Anaconda3\\lib\\site-packages\\sklearn\\svm\\_base.py:284: ConvergenceWarning: Solver terminated early (max_iter=50).  Consider pre-processing your data with StandardScaler or MinMaxScaler.\n",
      "  warnings.warn(\n",
      "d:\\DokumenFaisal\\Tools\\Anaconda3\\lib\\site-packages\\sklearn\\svm\\_base.py:284: ConvergenceWarning: Solver terminated early (max_iter=50).  Consider pre-processing your data with StandardScaler or MinMaxScaler.\n",
      "  warnings.warn(\n",
      "d:\\DokumenFaisal\\Tools\\Anaconda3\\lib\\site-packages\\sklearn\\svm\\_base.py:284: ConvergenceWarning: Solver terminated early (max_iter=50).  Consider pre-processing your data with StandardScaler or MinMaxScaler.\n",
      "  warnings.warn(\n",
      "d:\\DokumenFaisal\\Tools\\Anaconda3\\lib\\site-packages\\sklearn\\svm\\_base.py:284: ConvergenceWarning: Solver terminated early (max_iter=50).  Consider pre-processing your data with StandardScaler or MinMaxScaler.\n",
      "  warnings.warn(\n"
     ]
    }
   ],
   "source": [
    "param_log = [{\"C\": [0.01, 0.1, 1, 10, 100]},\n",
    "            {\"max_iter\": [100, 200, 300, 400, 500]},\n",
    "            {\"solver\": [\"newton-cg\", \"lbfgs\", \"sag\"]}]\n",
    "\n",
    "grid_search_log = GridSearchCV(mod_log, param_log, cv = 5)\n",
    "grid_search_log.fit(x_train_scaled, y_train)\n",
    "mod_log_fine = grid_search_log.best_estimator_\n",
    "\n",
    "param_svc = [{\"C\": [0.01, 0.1, 1, 10, 100]},\n",
    "            {\"gamma\": [\"scale\", \"auto\"]},\n",
    "            {\"max_iter\": [10, 20, 30, 40, 50]}]\n",
    "\n",
    "grid_search_svc = GridSearchCV(mod_SVM, param_svc, cv = 5)\n",
    "grid_search_svc.fit(x_train_scaled, y_train)\n",
    "mod_svc_fine = grid_search_svc.best_estimator_\n",
    "\n",
    "param_tree = [{\"criterion\": [\"gini\", \"entropy\"]},\n",
    "            {\"splitter\": [\"best\", \"random\"]}]\n",
    "\n",
    "grid_search_tree = GridSearchCV(mod_tree, param_tree, cv = 5)\n",
    "grid_search_tree.fit(x_train_scaled, y_train)\n",
    "mod_tree_fine = grid_search_tree.best_estimator_\n",
    "\n",
    "param_gnb = [{\"var_smoothing\": [1e-11, 1e-10, 1e-9, 1e-8, 1e-7]}]\n",
    "\n",
    "grid_search_gnb = GridSearchCV(mod_gnb, param_gnb, cv = 5)\n",
    "grid_search_gnb.fit(x_train_scaled, y_train)\n",
    "mod_gnb_fine = grid_search_gnb.best_estimator_"
   ]
  },
  {
   "cell_type": "markdown",
   "metadata": {},
   "source": [
    "Kemudian kita akan gabungkan pipa untuk *scaling* dengan pipa model-model yang sudah diatur *hyperparameter*-nya:"
   ]
  },
  {
   "cell_type": "code",
   "execution_count": 228,
   "metadata": {},
   "outputs": [],
   "source": [
    "pipe_log = Pipeline([(\"Scaler:\", pipeline_scale), (\"Logistic Regression (Fine):\", mod_log_fine)])\n",
    "pipe_svc = Pipeline([(\"Scaler:\", pipeline_scale), (\"Support Vector Classifier (Fine):\", mod_svc_fine)])\n",
    "pipe_tree = Pipeline([(\"Scaler:\", pipeline_scale), (\"Decision Tree Classifier (Fine):\", mod_tree_fine)])\n",
    "pipe_gnb = Pipeline([(\"Scaler:\", pipeline_scale), (\"Gaussian Naive-Bayes (Fine):\", mod_gnb_fine)])"
   ]
  },
  {
   "cell_type": "markdown",
   "metadata": {},
   "source": [
    "Kemudian kita bisa langsung melakukan prediksi dengan menggunakan *pipeline* yang sudah dibuat:"
   ]
  },
  {
   "cell_type": "code",
   "execution_count": 229,
   "metadata": {},
   "outputs": [],
   "source": [
    "pipe_log.fit(x_train, y_train)\n",
    "y_pred_train_pipe_log = pipe_log.predict(x_train)\n",
    "y_pred_test_pipe_log = pipe_log.predict(x_test)\n",
    "\n",
    "pipe_svc.fit(x_train, y_train)\n",
    "y_pred_train_pipe_svc = pipe_svc.predict(x_train)\n",
    "y_pred_test_pipe_svc = pipe_svc.predict(x_test)\n",
    "\n",
    "pipe_tree.fit(x_train, y_train)\n",
    "y_pred_train_pipe_tree = pipe_tree.predict(x_train)\n",
    "y_pred_test_pipe_tree = pipe_tree.predict(x_test)\n",
    "\n",
    "pipe_gnb.fit(x_train, y_train)\n",
    "y_pred_train_pipe_gnb = pipe_gnb.predict(x_train)\n",
    "y_pred_test_pipe_gnb = pipe_gnb.predict(x_test)"
   ]
  },
  {
   "cell_type": "markdown",
   "metadata": {},
   "source": [
    "### *Model Evaluation*"
   ]
  },
  {
   "cell_type": "markdown",
   "metadata": {},
   "source": [
    "Sekarang kita akan evaluasi setiap model yang telah kita latih, baik model yang menggunakan *default hyperparameter* dan model dengan *hyperparameter* yang sudah diatur."
   ]
  },
  {
   "cell_type": "markdown",
   "metadata": {},
   "source": [
    "#### Regresi Logistik"
   ]
  },
  {
   "cell_type": "markdown",
   "metadata": {},
   "source": [
    "Mari kita lihat laporan klasifikasi dari model regresi logistik dengan *default hyperparameter*:"
   ]
  },
  {
   "cell_type": "code",
   "execution_count": 230,
   "metadata": {},
   "outputs": [
    {
     "name": "stdout",
     "output_type": "stream",
     "text": [
      "---Logistic Regression Model Train Report---\n",
      "              precision    recall  f1-score   support\n",
      "\n",
      "          t1       0.61      0.64      0.62      1541\n",
      "          t2       0.60      0.56      0.58      1461\n",
      "\n",
      "    accuracy                           0.60      3002\n",
      "   macro avg       0.60      0.60      0.60      3002\n",
      "weighted avg       0.60      0.60      0.60      3002\n",
      "\n",
      "---Logistic Regression Model Test Report---\n",
      "              precision    recall  f1-score   support\n",
      "\n",
      "          t1       0.58      0.61      0.59       375\n",
      "          t2       0.59      0.56      0.57       376\n",
      "\n",
      "    accuracy                           0.58       751\n",
      "   macro avg       0.58      0.58      0.58       751\n",
      "weighted avg       0.58      0.58      0.58       751\n",
      "\n"
     ]
    }
   ],
   "source": [
    "print(\"---Logistic Regression Model Train Report---\")\n",
    "print(classification_report(y_train, y_pred_train_log))\n",
    "print(\"---Logistic Regression Model Test Report---\")\n",
    "print(classification_report(y_test, y_pred_test_log))"
   ]
  },
  {
   "cell_type": "markdown",
   "metadata": {},
   "source": [
    "Berikut ini adalah beberapa hal yang dapat kita simpulkan dari laporan klasifikasi model regresi logistik dengan *hyperparameter default*:\n",
    "\n",
    "* Model dapat memprediksi kemenangan tim pertama dengan presisi 61% pada *dataset train* dan 58% pada *dataset test* dan dapat memprediksi kemenangan tim kedua dengan presisi 60% pada *dataset train* dan 59% pada *dataset test*,\n",
    "\n",
    "* Model dapat mengembalikan prediksi kemenangan tim pertama yang sesuai sebesar 64% pada *dataset train* dan 61% pada *dataset test* dan dapat mengembalikan prediksi kemenangan tim pertama yang sesuai sebesar 56% pada *dataset train* dan *dataset test*,\n",
    "\n",
    "* Model memiliki akurasi prediksi keseluruhan sebesar 60% pada *dataset train* dan *dataset test*.\n",
    "\n",
    "Kemudian kita akan lihat juga laporan klasifikasi dari model regresi logistik yang sudah diatur *hyperparameter*-nya."
   ]
  },
  {
   "cell_type": "code",
   "execution_count": 231,
   "metadata": {},
   "outputs": [
    {
     "name": "stdout",
     "output_type": "stream",
     "text": [
      "---Logistic Regression Model (Fine) Train Report---\n",
      "              precision    recall  f1-score   support\n",
      "\n",
      "          t1       0.60      0.64      0.62      1541\n",
      "          t2       0.60      0.56      0.58      1461\n",
      "\n",
      "    accuracy                           0.60      3002\n",
      "   macro avg       0.60      0.60      0.60      3002\n",
      "weighted avg       0.60      0.60      0.60      3002\n",
      "\n",
      "---Logistic Regression Model (Fine) Test Report---\n",
      "              precision    recall  f1-score   support\n",
      "\n",
      "          t1       0.58      0.61      0.60       375\n",
      "          t2       0.59      0.56      0.58       376\n",
      "\n",
      "    accuracy                           0.59       751\n",
      "   macro avg       0.59      0.59      0.59       751\n",
      "weighted avg       0.59      0.59      0.59       751\n",
      "\n"
     ]
    }
   ],
   "source": [
    "print(\"---Logistic Regression Model (Fine) Train Report---\")\n",
    "print(classification_report(y_train, y_pred_train_pipe_log))\n",
    "print(\"---Logistic Regression Model (Fine) Test Report---\")\n",
    "print(classification_report(y_test, y_pred_test_pipe_log))"
   ]
  },
  {
   "cell_type": "markdown",
   "metadata": {},
   "source": [
    "Berikut ini adalah beberapa hal yang dapat kita simpulkan dari laporan klasifikasi model regresi logistik yang *hyperparameter*-nya sudah diatur sedemikian rupa:\n",
    "\n",
    "* Model dapat memprediksi kemenangan tim pertama dengan presisi 60% pada *dataset train* dan 58% pada *dataset test* dan dapat memprediksi kemenangan tim kedua dengan presisi 60% pada *dataset train* dan 59% pada *dataset test*,\n",
    "\n",
    "* Model dapat mengembalikan prediksi kemenangan tim pertama yang sesuai sebesar 64% pada *dataset train* dan 61% pada *dataset test* dan dapat mengembalikan prediksi kemenangan tim pertama yang sesuai sebesar 56% pada *dataset train* dan *dataset test*,\n",
    "\n",
    "* Model memiliki akurasi prediksi keseluruhan sebesar 60% pada *dataset train* dan 59% pada *dataset test*,\n",
    "\n",
    "* Model yang dilatih masih tergolong model yang *underfit*.\n",
    "\n",
    "Selanjutnya kita lihat laporan klasifikasi dari model SVM dengan *default hyperparameter*:"
   ]
  },
  {
   "cell_type": "code",
   "execution_count": 232,
   "metadata": {},
   "outputs": [
    {
     "name": "stdout",
     "output_type": "stream",
     "text": [
      "---Support Vector Classifier Model Train Report---\n",
      "              precision    recall  f1-score   support\n",
      "\n",
      "          t1       0.66      0.70      0.68      1541\n",
      "          t2       0.66      0.62      0.64      1461\n",
      "\n",
      "    accuracy                           0.66      3002\n",
      "   macro avg       0.66      0.66      0.66      3002\n",
      "weighted avg       0.66      0.66      0.66      3002\n",
      "\n",
      "---Support Vector Classifier Model Test Report---\n",
      "              precision    recall  f1-score   support\n",
      "\n",
      "          t1       0.58      0.62      0.60       375\n",
      "          t2       0.60      0.56      0.57       376\n",
      "\n",
      "    accuracy                           0.59       751\n",
      "   macro avg       0.59      0.59      0.59       751\n",
      "weighted avg       0.59      0.59      0.59       751\n",
      "\n"
     ]
    }
   ],
   "source": [
    "print(\"---Support Vector Classifier Model Train Report---\")\n",
    "print(classification_report(y_train, y_pred_train_svc))\n",
    "print(\"---Support Vector Classifier Model Test Report---\")\n",
    "print(classification_report(y_test, y_pred_test_svc))"
   ]
  },
  {
   "cell_type": "markdown",
   "metadata": {},
   "source": [
    "Berikut ini adalah beberapa hal yang dapat kita simpulkan dari laporan klasifikasi model SVM dengan *hyperparameter default*:\n",
    "\n",
    "* Model dapat memprediksi kemenangan tim pertama dengan presisi 66% pada *dataset train* dan 58% pada *dataset test* dan dapat memprediksi kemenangan tim kedua dengan presisi 66% pada *dataset train* dan 60% pada *dataset test*,\n",
    "\n",
    "* Model dapat mengembalikan prediksi kemenangan tim pertama yang sesuai sebesar 70% pada *dataset train* dan 62% pada *dataset test* dan dapat mengembalikan prediksi kemenangan tim pertama yang sesuai sebesar 62% pada *dataset train* dan 56% pada *dataset test*,\n",
    "\n",
    "* Model memiliki akurasi prediksi keseluruhan sebesar 66% pada *dataset train* dan 59% pada *dataset test*.\n",
    "\n",
    "Kemudian kita akan lihat juga laporan klasifikasi dari model SVM yang sudah diatur *hyperparameter*-nya."
   ]
  },
  {
   "cell_type": "code",
   "execution_count": 233,
   "metadata": {},
   "outputs": [
    {
     "name": "stdout",
     "output_type": "stream",
     "text": [
      "---Support Vector Classifier Model Train Report---\n",
      "              precision    recall  f1-score   support\n",
      "\n",
      "          t1       0.66      0.70      0.68      1541\n",
      "          t2       0.66      0.62      0.64      1461\n",
      "\n",
      "    accuracy                           0.66      3002\n",
      "   macro avg       0.66      0.66      0.66      3002\n",
      "weighted avg       0.66      0.66      0.66      3002\n",
      "\n",
      "---Support Vector Classifier Model Test Report---\n",
      "              precision    recall  f1-score   support\n",
      "\n",
      "          t1       0.58      0.62      0.60       375\n",
      "          t2       0.60      0.56      0.57       376\n",
      "\n",
      "    accuracy                           0.59       751\n",
      "   macro avg       0.59      0.59      0.59       751\n",
      "weighted avg       0.59      0.59      0.59       751\n",
      "\n"
     ]
    }
   ],
   "source": [
    "print(\"---Support Vector Classifier Model Train Report---\")\n",
    "print(classification_report(y_train, y_pred_train_svc))\n",
    "print(\"---Support Vector Classifier Model Test Report---\")\n",
    "print(classification_report(y_test, y_pred_test_svc))"
   ]
  },
  {
   "cell_type": "markdown",
   "metadata": {},
   "source": [
    "Berikut ini adalah beberapa hal yang dapat kita simpulkan dari laporan klasifikasi model SVM yang *hyperparameter*-nya sudah diatur sedemikian rupa:\n",
    "\n",
    "* Model dapat memprediksi kemenangan tim pertama dengan presisi 66% pada *dataset train* dan 58% pada *dataset test* dan dapat memprediksi kemenangan tim kedua dengan presisi 66% pada *dataset train* dan 60% pada *dataset test*,\n",
    "\n",
    "* Model dapat mengembalikan prediksi kemenangan tim pertama yang sesuai sebesar 70% pada *dataset train* dan 62% pada *dataset test* dan dapat mengembalikan prediksi kemenangan tim pertama yang sesuai sebesar 62% pada *dataset train* dan 56% pada *dataset test*,\n",
    "\n",
    "* Model memiliki akurasi prediksi keseluruhan sebesar 60% pada *dataset train* dan 59% pada *dataset test*,\n",
    "\n",
    "* Model yang dilatih masih tergolong model yang *underfit*.\n",
    "\n",
    "Selanjutnya kita lihat laporan klasifikasi dari model *decision tree* dengan *default hyperparameter*:"
   ]
  },
  {
   "cell_type": "code",
   "execution_count": 234,
   "metadata": {},
   "outputs": [
    {
     "name": "stdout",
     "output_type": "stream",
     "text": [
      "---Decision Tree Model Train Report---\n",
      "              precision    recall  f1-score   support\n",
      "\n",
      "          t1       1.00      1.00      1.00      1541\n",
      "          t2       1.00      1.00      1.00      1461\n",
      "\n",
      "    accuracy                           1.00      3002\n",
      "   macro avg       1.00      1.00      1.00      3002\n",
      "weighted avg       1.00      1.00      1.00      3002\n",
      "\n",
      "---Decision Tree Model Test Report---\n",
      "              precision    recall  f1-score   support\n",
      "\n",
      "          t1       0.52      0.52      0.52       375\n",
      "          t2       0.52      0.52      0.52       376\n",
      "\n",
      "    accuracy                           0.52       751\n",
      "   macro avg       0.52      0.52      0.52       751\n",
      "weighted avg       0.52      0.52      0.52       751\n",
      "\n"
     ]
    }
   ],
   "source": [
    "print(\"---Decision Tree Model Train Report---\")\n",
    "print(classification_report(y_train, y_pred_train_tree))\n",
    "print(\"---Decision Tree Model Test Report---\")\n",
    "print(classification_report(y_test, y_pred_test_tree))"
   ]
  },
  {
   "cell_type": "markdown",
   "metadata": {},
   "source": [
    "Berikut ini adalah beberapa hal yang dapat kita simpulkan dari laporan klasifikasi model *decision tree* dengan *hyperparameter default*:\n",
    "\n",
    "* Model dapat memprediksi kemenangan tim pertama dengan presisi 100% pada *dataset train* dan 52% pada *dataset test* dan dapat memprediksi kemenangan tim kedua dengan presisi 100% pada *dataset train* dan 52% pada *dataset test*,\n",
    "\n",
    "* Model dapat mengembalikan prediksi kemenangan tim pertama yang sesuai sebesar 100% pada *dataset train* dan 52% pada *dataset test* dan dapat mengembalikan prediksi kemenangan tim pertama yang sesuai sebesar 100% pada *dataset train* dan 51% pada *dataset test*,\n",
    "\n",
    "* Model memiliki akurasi prediksi keseluruhan sebesar 100% pada *dataset train* dan 52% pada *dataset test*.\n",
    "\n",
    "Kemudian kita akan lihat juga laporan klasifikasi dari model *decision tree* yang sudah diatur *hyperparameter*-nya."
   ]
  },
  {
   "cell_type": "code",
   "execution_count": 235,
   "metadata": {},
   "outputs": [
    {
     "name": "stdout",
     "output_type": "stream",
     "text": [
      "---Decision Tree Model (Fine) Train Report---\n",
      "              precision    recall  f1-score   support\n",
      "\n",
      "          t1       1.00      1.00      1.00      1541\n",
      "          t2       1.00      1.00      1.00      1461\n",
      "\n",
      "    accuracy                           1.00      3002\n",
      "   macro avg       1.00      1.00      1.00      3002\n",
      "weighted avg       1.00      1.00      1.00      3002\n",
      "\n",
      "---Decision Tree Model (Fine) Test Report---\n",
      "              precision    recall  f1-score   support\n",
      "\n",
      "          t1       0.51      0.53      0.52       375\n",
      "          t2       0.51      0.49      0.50       376\n",
      "\n",
      "    accuracy                           0.51       751\n",
      "   macro avg       0.51      0.51      0.51       751\n",
      "weighted avg       0.51      0.51      0.51       751\n",
      "\n"
     ]
    }
   ],
   "source": [
    "print(\"---Decision Tree Model (Fine) Train Report---\")\n",
    "print(classification_report(y_train, y_pred_train_pipe_tree))\n",
    "print(\"---Decision Tree Model (Fine) Test Report---\")\n",
    "print(classification_report(y_test, y_pred_test_pipe_tree))"
   ]
  },
  {
   "cell_type": "markdown",
   "metadata": {},
   "source": [
    "Berikut ini adalah beberapa hal yang dapat kita simpulkan dari laporan klasifikasi model *decision tree* yang *hyperparameter*-nya sudah diatur sedemikian rupa:\n",
    "\n",
    "* Model dapat memprediksi kemenangan tim pertama dengan presisi 100% pada *dataset train* dan 51% pada *dataset test* dan dapat memprediksi kemenangan tim kedua dengan presisi 100% pada *dataset train* dan 51% pada *dataset test*,\n",
    "\n",
    "* Model dapat mengembalikan prediksi kemenangan tim pertama yang sesuai sebesar 100% pada *dataset train* dan 53% pada *dataset test* dan dapat mengembalikan prediksi kemenangan tim pertama yang sesuai sebesar 100% pada *dataset train* dan 49% pada *dataset test*,\n",
    "\n",
    "* Model memiliki akurasi prediksi keseluruhan sebesar 100% pada *dataset train* dan 51% pada *dataset test*,\n",
    "\n",
    "* Model yang dilatih tergolong model yang *overfit*.\n",
    "\n",
    "Selanjutnya kita lihat laporan klasifikasi dari model *Gaussian Naive-Bayes* dengan *default hyperparameter*:"
   ]
  },
  {
   "cell_type": "code",
   "execution_count": 236,
   "metadata": {},
   "outputs": [
    {
     "name": "stdout",
     "output_type": "stream",
     "text": [
      "---Gaussian Naive-Bayes Model Train Report---\n",
      "              precision    recall  f1-score   support\n",
      "\n",
      "          t1       0.60      0.62      0.61      1541\n",
      "          t2       0.59      0.56      0.57      1461\n",
      "\n",
      "    accuracy                           0.59      3002\n",
      "   macro avg       0.59      0.59      0.59      3002\n",
      "weighted avg       0.59      0.59      0.59      3002\n",
      "\n",
      "---Gaussian Naive-Bayes Model Test Report---\n",
      "              precision    recall  f1-score   support\n",
      "\n",
      "          t1       0.58      0.60      0.59       375\n",
      "          t2       0.59      0.57      0.58       376\n",
      "\n",
      "    accuracy                           0.58       751\n",
      "   macro avg       0.58      0.58      0.58       751\n",
      "weighted avg       0.58      0.58      0.58       751\n",
      "\n"
     ]
    }
   ],
   "source": [
    "print(\"---Gaussian Naive-Bayes Model Train Report---\")\n",
    "print(classification_report(y_train, y_pred_train_gnb))\n",
    "print(\"---Gaussian Naive-Bayes Model Test Report---\")\n",
    "print(classification_report(y_test, y_pred_test_gnb))"
   ]
  },
  {
   "cell_type": "code",
   "execution_count": 237,
   "metadata": {},
   "outputs": [
    {
     "name": "stdout",
     "output_type": "stream",
     "text": [
      "---Gaussian Naive-Bayes Model (Fine) Train Report---\n",
      "              precision    recall  f1-score   support\n",
      "\n",
      "          t1       0.60      0.62      0.61      1541\n",
      "          t2       0.59      0.56      0.57      1461\n",
      "\n",
      "    accuracy                           0.59      3002\n",
      "   macro avg       0.59      0.59      0.59      3002\n",
      "weighted avg       0.59      0.59      0.59      3002\n",
      "\n",
      "---Gaussian Naive-Bayes Model (Fine) Test Report---\n",
      "              precision    recall  f1-score   support\n",
      "\n",
      "          t1       0.58      0.60      0.59       375\n",
      "          t2       0.59      0.57      0.58       376\n",
      "\n",
      "    accuracy                           0.58       751\n",
      "   macro avg       0.58      0.58      0.58       751\n",
      "weighted avg       0.58      0.58      0.58       751\n",
      "\n"
     ]
    }
   ],
   "source": [
    "print(\"---Gaussian Naive-Bayes Model (Fine) Train Report---\")\n",
    "print(classification_report(y_train, y_pred_train_pipe_gnb))\n",
    "print(\"---Gaussian Naive-Bayes Model (Fine) Test Report---\")\n",
    "print(classification_report(y_test, y_pred_test_pipe_gnb))"
   ]
  },
  {
   "cell_type": "markdown",
   "metadata": {},
   "source": [
    "Berikut ini adalah beberapa hal yang dapat kita simpulkan dari laporan klasifikasi model *Gaussian Naive-Bayes* yang *hyperparameter*-nya sudah diatur sedemikian rupa:\n",
    "\n",
    "* Model dapat memprediksi kemenangan tim pertama dengan presisi 60% pada *dataset train* dan 58% pada *dataset test* dan dapat memprediksi kemenangan tim kedua dengan presisi 59% pada *dataset train* dan *dataset test*,\n",
    "\n",
    "* Model dapat mengembalikan prediksi kemenangan tim pertama yang sesuai sebesar 62% pada *dataset train* dan 60% pada *dataset test* dan dapat mengembalikan prediksi kemenangan tim pertama yang sesuai sebesar 56% pada *dataset train* dan 57% pada *dataset test*,\n",
    "\n",
    "* Model memiliki akurasi prediksi keseluruhan sebesar 59% pada *dataset train* dan 58% pada *dataset test*,\n",
    "\n",
    "* Model yang dilatih masih tergolong model yang *underfit*.\n",
    "\n",
    "Selanjutnya kita lihat periksa seberapa bagus model yang telah kita latih dimulai dari model dengan *default hyperparameter*:"
   ]
  },
  {
   "cell_type": "code",
   "execution_count": 238,
   "metadata": {},
   "outputs": [
    {
     "name": "stdout",
     "output_type": "stream",
     "text": [
      "----------\n",
      "Skor (Logistic): [0.62063228 0.60232945 0.61166667 0.56333333 0.57166667]\n",
      "Skor (SVM): [0.6156406  0.60399334 0.56666667 0.59166667 0.56833333]\n",
      "Skor (DTree): [0.50415973 0.49584027 0.475      0.50333333 0.54166667]\n",
      "Skor (Gaussian Naive-Bayes): [0.62895175 0.60232945 0.58333333 0.55333333 0.57166667]\n",
      "----------\n",
      "Mean Skor (Logistic): 0.5939256794231836\n",
      "Mean Skor (SVM): 0.5892601220188575\n",
      "Mean Skor (DTree): 0.504\n",
      "Mean Skor (Gaussian Naive-Bayes): 0.5879229062673322\n",
      "----------\n",
      "Std Skor (Logistic): 0.02249428274617067\n",
      "Std Skor (SVM): 0.019324510730775835\n",
      "Std Skor (DTree): 0.021572338734656873\n",
      "Std Skor (Gaussian Naive-Bayes): 0.025971840016523577\n",
      "----------\n"
     ]
    }
   ],
   "source": [
    "score_log = cross_val_score(mod_log, x_train_final, y_train, cv = 5)\n",
    "score_SVM = cross_val_score(mod_SVM, x_train_final, y_train, cv = 5)\n",
    "score_tree = cross_val_score(mod_tree, x_train_final, y_train, cv = 5)\n",
    "score_gnb = cross_val_score(mod_gnb, x_train_final, y_train, cv = 5)\n",
    "\n",
    "print(\"----------\")\n",
    "print(\"Skor (Logistic):\", score_log)\n",
    "print(\"Skor (SVM):\", score_SVM)\n",
    "print(\"Skor (DTree):\", score_tree)\n",
    "print(\"Skor (Gaussian Naive-Bayes):\", score_gnb)\n",
    "print(\"----------\")\n",
    "print(\"Mean Skor (Logistic):\", score_log.mean())\n",
    "print(\"Mean Skor (SVM):\", score_SVM.mean())\n",
    "print(\"Mean Skor (DTree):\", score_tree.mean())\n",
    "print(\"Mean Skor (Gaussian Naive-Bayes):\", score_gnb.mean())\n",
    "print(\"----------\")\n",
    "print(\"Std Skor (Logistic):\", score_log.std())\n",
    "print(\"Std Skor (SVM):\", score_SVM.std())\n",
    "print(\"Std Skor (DTree):\", score_tree.std())\n",
    "print(\"Std Skor (Gaussian Naive-Bayes):\", score_gnb.std())\n",
    "print(\"----------\")"
   ]
  },
  {
   "cell_type": "markdown",
   "metadata": {},
   "source": [
    "Kemudian kita akan bandingkan dengan model yang sudah diatur *hyperparameter*-nya."
   ]
  },
  {
   "cell_type": "code",
   "execution_count": 239,
   "metadata": {},
   "outputs": [
    {
     "name": "stdout",
     "output_type": "stream",
     "text": [
      "----------\n",
      "Skor (Logistic-Fine): [0.62229617 0.61397671 0.60333333 0.575      0.575     ]\n",
      "Skor (SVM-Fine): [0.62063228 0.6156406  0.595      0.575      0.57333333]\n",
      "Skor (DTree-Fine): [0.55740433 0.50415973 0.515      0.53       0.52333333]\n",
      "Skor (Gaussian Naive-Bayes-Fine): [0.62895175 0.60232945 0.58333333 0.55333333 0.57166667]\n",
      "----------\n",
      "Mean Skor (Logistic-Fine): 0.5979212423738215\n",
      "Mean Skor (SVM-Fine): 0.5959212423738214\n",
      "Mean Skor (DTree-Fine): 0.5259794786466999\n",
      "Mean Skor (Gaussian Naive-Bayes-Fine): 0.5879229062673322\n",
      "----------\n",
      "Std Skor (Logistic-Fine): 0.019656920275548256\n",
      "Std Skor (SVM-Fine): 0.01973954958022122\n",
      "Std Skor (DTree-Fine): 0.017929517190482473\n",
      "Std Skor (Gaussian Naive-Bayes-Fine): 0.025971840016523577\n",
      "----------\n"
     ]
    }
   ],
   "source": [
    "score_pipe_log = cross_val_score(pipe_log, x_train_scaled, y_train, cv = 5)\n",
    "score_pipe_SVM = cross_val_score(pipe_svc, x_train_scaled, y_train, cv = 5)\n",
    "score_pipe_tree = cross_val_score(pipe_tree, x_train_scaled, y_train, cv = 5)\n",
    "score_pipe_gnb = cross_val_score(pipe_gnb, x_train_scaled, y_train, cv = 5)\n",
    "\n",
    "print(\"----------\")\n",
    "print(\"Skor (Logistic-Fine):\", score_pipe_log)\n",
    "print(\"Skor (SVM-Fine):\", score_pipe_SVM)\n",
    "print(\"Skor (DTree-Fine):\", score_pipe_tree)\n",
    "print(\"Skor (Gaussian Naive-Bayes-Fine):\", score_pipe_gnb)\n",
    "print(\"----------\")\n",
    "print(\"Mean Skor (Logistic-Fine):\", score_pipe_log.mean())\n",
    "print(\"Mean Skor (SVM-Fine):\", score_pipe_SVM.mean())\n",
    "print(\"Mean Skor (DTree-Fine):\", score_pipe_tree.mean())\n",
    "print(\"Mean Skor (Gaussian Naive-Bayes-Fine):\", score_pipe_gnb.mean())\n",
    "print(\"----------\")\n",
    "print(\"Std Skor (Logistic-Fine):\", score_pipe_log.std())\n",
    "print(\"Std Skor (SVM-Fine):\", score_pipe_SVM.std())\n",
    "print(\"Std Skor (DTree-Fine):\", score_pipe_tree.std())\n",
    "print(\"Std Skor (Gaussian Naive-Bayes-Fine):\", score_pipe_gnb.std())\n",
    "print(\"----------\")"
   ]
  },
  {
   "cell_type": "markdown",
   "metadata": {},
   "source": [
    "Dari perbandingan skor model yang menggunakan *default hyperparameter* dengan model yang *hyperparameter*-nya sudah diatur, kita dapat melihat bahwa model yang *hyperparameter*-nya terlah diatur memiliki rata-rata skor yang lebih baik dan standar deviasi yang lebih kecil dibandingkan dengan model dengan *default hyperparameter* meskipun perbaikannya masih belum bisa dianggap cukup signifikan."
   ]
  },
  {
   "cell_type": "markdown",
   "metadata": {},
   "source": [
    "## *Inferencing*"
   ]
  },
  {
   "cell_type": "markdown",
   "metadata": {},
   "source": [
    "Setelah kita selesai melatih model-model yang akan digunakan, kita akan menerapkan model tersebut ke *dataset inference* yang sudah kita pisahkan sebelumnya.\n",
    "\n",
    "Pertama-tama kita akan urus *missing value*-nya apabila terdapat data yang termasuk ke dalam *missing value* di *dataset inference*"
   ]
  },
  {
   "cell_type": "code",
   "execution_count": 240,
   "metadata": {},
   "outputs": [
    {
     "name": "stderr",
     "output_type": "stream",
     "text": [
      "C:\\Users\\Faisal Kengo\\AppData\\Local\\Temp\\ipykernel_11620\\1472704497.py:6: SettingWithCopyWarning: \n",
      "A value is trying to be set on a copy of a slice from a DataFrame\n",
      "\n",
      "See the caveats in the documentation: https://pandas.pydata.org/pandas-docs/stable/user_guide/indexing.html#returning-a-view-versus-a-copy\n",
      "  df_inf.t1_points.iloc[i] = 1\n",
      "C:\\Users\\Faisal Kengo\\AppData\\Local\\Temp\\ipykernel_11620\\1472704497.py:7: SettingWithCopyWarning: \n",
      "A value is trying to be set on a copy of a slice from a DataFrame\n",
      "\n",
      "See the caveats in the documentation: https://pandas.pydata.org/pandas-docs/stable/user_guide/indexing.html#returning-a-view-versus-a-copy\n",
      "  df_inf.t2_points.iloc[i] = 0\n",
      "C:\\Users\\Faisal Kengo\\AppData\\Local\\Temp\\ipykernel_11620\\1472704497.py:9: SettingWithCopyWarning: \n",
      "A value is trying to be set on a copy of a slice from a DataFrame\n",
      "\n",
      "See the caveats in the documentation: https://pandas.pydata.org/pandas-docs/stable/user_guide/indexing.html#returning-a-view-versus-a-copy\n",
      "  df_inf.t1_points.iloc[i] = 0\n",
      "C:\\Users\\Faisal Kengo\\AppData\\Local\\Temp\\ipykernel_11620\\1472704497.py:10: SettingWithCopyWarning: \n",
      "A value is trying to be set on a copy of a slice from a DataFrame\n",
      "\n",
      "See the caveats in the documentation: https://pandas.pydata.org/pandas-docs/stable/user_guide/indexing.html#returning-a-view-versus-a-copy\n",
      "  df_inf.t2_points.iloc[i] = 1\n"
     ]
    }
   ],
   "source": [
    "df_inf = df_inf.query(\"winner != 'draw'\")\n",
    "\n",
    "for i in range(len(df_inf)):\n",
    "    if df_inf.t1_points.iloc[i] > 3 or df_inf.t2_points.iloc[i] > 3: \n",
    "        if df_inf.t1_points.iloc[i] > df_inf.t2_points.iloc[i]:\n",
    "            df_inf.t1_points.iloc[i] = 1\n",
    "            df_inf.t2_points.iloc[i] = 0\n",
    "        else:\n",
    "            df_inf.t1_points.iloc[i] = 0\n",
    "            df_inf.t2_points.iloc[i] = 1\n",
    "    else: continue"
   ]
  },
  {
   "cell_type": "markdown",
   "metadata": {},
   "source": [
    "Kemudian kita akan lakukan *scaling* pada fitur-fitur di *dataset inference* yang akan digunakan di dalam model."
   ]
  },
  {
   "cell_type": "code",
   "execution_count": 241,
   "metadata": {},
   "outputs": [],
   "source": [
    "df_inf_split = df_inf[[\"t1_world_rank\", \"t2_world_rank\", \"t1_h2h_win_perc\", \"t2_h2h_win_perc\", \"t1_player1_rating\", \"t1_player1_impact\", \"t1_player2_rating\", \"t1_player2_impact\", \"t1_player3_rating\", \"t1_player3_impact\", \"t1_player4_rating\", \"t1_player4_impact\", \"t1_player5_rating\", \"t1_player5_impact\", \"t2_player1_rating\", \"t2_player1_impact\", \"t2_player2_rating\", \"t2_player2_impact\", \"t2_player3_rating\", \"t2_player3_impact\", \"t2_player4_rating\", \"t2_player4_impact\", \"t2_player5_rating\", \"t2_player5_impact\"]]\n",
    "df_inf_split_final = scaler.transform(df_inf_split)"
   ]
  },
  {
   "cell_type": "markdown",
   "metadata": {},
   "source": [
    "Kemudian kita akan lakukan prediksi hasil pertandingan di *dataset inference* dengan menggunakan model dengan *default parameter* yang telah dilatih."
   ]
  },
  {
   "cell_type": "code",
   "execution_count": 242,
   "metadata": {},
   "outputs": [],
   "source": [
    "y_pred_inf_log = mod_log.predict(df_inf_split_final)\n",
    "y_pred_inf_svm = mod_SVM.predict(df_inf_split_final)\n",
    "y_pred_inf_tree = mod_tree.predict(df_inf_split_final)\n",
    "y_pred_inf_gnb = mod_gnb.predict(df_inf_split_final)"
   ]
  },
  {
   "cell_type": "markdown",
   "metadata": {},
   "source": [
    "Tak lupa kita akan terapkan juga model yang *hyperparameter*-nya telah diatur ke dalam data."
   ]
  },
  {
   "cell_type": "code",
   "execution_count": 243,
   "metadata": {},
   "outputs": [],
   "source": [
    "pipe_log.fit(df_inf_split, df_inf.winner)\n",
    "y_pred_inf_log_fine = pipe_log.predict(df_inf_split)\n",
    "\n",
    "pipe_svc.fit(df_inf_split, df_inf.winner)\n",
    "y_pred_inf_svc_fine = pipe_svc.predict(df_inf_split)\n",
    "\n",
    "pipe_tree.fit(df_inf_split, df_inf.winner)\n",
    "y_pred_inf_tree_fine = pipe_tree.predict(df_inf_split)\n",
    "\n",
    "pipe_gnb.fit(df_inf_split, df_inf.winner)\n",
    "y_pred_inf_gnb_fine = pipe_gnb.predict(df_inf_split)"
   ]
  },
  {
   "cell_type": "markdown",
   "metadata": {},
   "source": [
    "Kemudian kita akan gabungkan keseluruhan hasil prediksi dengan hasil asli dari pertandingan pada *dataset inference*."
   ]
  },
  {
   "cell_type": "code",
   "execution_count": 244,
   "metadata": {},
   "outputs": [
    {
     "data": {
      "text/html": [
       "<div>\n",
       "<style scoped>\n",
       "    .dataframe tbody tr th:only-of-type {\n",
       "        vertical-align: middle;\n",
       "    }\n",
       "\n",
       "    .dataframe tbody tr th {\n",
       "        vertical-align: top;\n",
       "    }\n",
       "\n",
       "    .dataframe thead th {\n",
       "        text-align: right;\n",
       "    }\n",
       "</style>\n",
       "<table border=\"1\" class=\"dataframe\">\n",
       "  <thead>\n",
       "    <tr style=\"text-align: right;\">\n",
       "      <th></th>\n",
       "      <th>winner</th>\n",
       "      <th>pred_log</th>\n",
       "      <th>pred_log_fine</th>\n",
       "      <th>pred_svm</th>\n",
       "      <th>pred_svm_fine</th>\n",
       "      <th>pred_tree_fine</th>\n",
       "      <th>pred_tree</th>\n",
       "      <th>pred_gnb</th>\n",
       "      <th>pred_gnb_fine</th>\n",
       "    </tr>\n",
       "  </thead>\n",
       "  <tbody>\n",
       "    <tr>\n",
       "      <th>0</th>\n",
       "      <td>t2</td>\n",
       "      <td>t2</td>\n",
       "      <td>t2</td>\n",
       "      <td>t1</td>\n",
       "      <td>t2</td>\n",
       "      <td>t2</td>\n",
       "      <td>t2</td>\n",
       "      <td>t2</td>\n",
       "      <td>t2</td>\n",
       "    </tr>\n",
       "    <tr>\n",
       "      <th>1</th>\n",
       "      <td>t1</td>\n",
       "      <td>t1</td>\n",
       "      <td>t1</td>\n",
       "      <td>t1</td>\n",
       "      <td>t1</td>\n",
       "      <td>t1</td>\n",
       "      <td>t1</td>\n",
       "      <td>t1</td>\n",
       "      <td>t1</td>\n",
       "    </tr>\n",
       "    <tr>\n",
       "      <th>2</th>\n",
       "      <td>t2</td>\n",
       "      <td>t1</td>\n",
       "      <td>t2</td>\n",
       "      <td>t1</td>\n",
       "      <td>t2</td>\n",
       "      <td>t2</td>\n",
       "      <td>t2</td>\n",
       "      <td>t1</td>\n",
       "      <td>t2</td>\n",
       "    </tr>\n",
       "    <tr>\n",
       "      <th>3</th>\n",
       "      <td>t1</td>\n",
       "      <td>t1</td>\n",
       "      <td>t1</td>\n",
       "      <td>t1</td>\n",
       "      <td>t1</td>\n",
       "      <td>t1</td>\n",
       "      <td>t1</td>\n",
       "      <td>t1</td>\n",
       "      <td>t1</td>\n",
       "    </tr>\n",
       "    <tr>\n",
       "      <th>4</th>\n",
       "      <td>t2</td>\n",
       "      <td>t2</td>\n",
       "      <td>t2</td>\n",
       "      <td>t2</td>\n",
       "      <td>t2</td>\n",
       "      <td>t2</td>\n",
       "      <td>t2</td>\n",
       "      <td>t2</td>\n",
       "      <td>t2</td>\n",
       "    </tr>\n",
       "    <tr>\n",
       "      <th>5</th>\n",
       "      <td>t2</td>\n",
       "      <td>t1</td>\n",
       "      <td>t2</td>\n",
       "      <td>t1</td>\n",
       "      <td>t2</td>\n",
       "      <td>t2</td>\n",
       "      <td>t2</td>\n",
       "      <td>t1</td>\n",
       "      <td>t2</td>\n",
       "    </tr>\n",
       "    <tr>\n",
       "      <th>6</th>\n",
       "      <td>t2</td>\n",
       "      <td>t1</td>\n",
       "      <td>t2</td>\n",
       "      <td>t2</td>\n",
       "      <td>t2</td>\n",
       "      <td>t2</td>\n",
       "      <td>t2</td>\n",
       "      <td>t1</td>\n",
       "      <td>t2</td>\n",
       "    </tr>\n",
       "    <tr>\n",
       "      <th>7</th>\n",
       "      <td>t1</td>\n",
       "      <td>t1</td>\n",
       "      <td>t1</td>\n",
       "      <td>t1</td>\n",
       "      <td>t1</td>\n",
       "      <td>t1</td>\n",
       "      <td>t1</td>\n",
       "      <td>t1</td>\n",
       "      <td>t1</td>\n",
       "    </tr>\n",
       "    <tr>\n",
       "      <th>8</th>\n",
       "      <td>t1</td>\n",
       "      <td>t1</td>\n",
       "      <td>t2</td>\n",
       "      <td>t1</td>\n",
       "      <td>t2</td>\n",
       "      <td>t1</td>\n",
       "      <td>t2</td>\n",
       "      <td>t2</td>\n",
       "      <td>t2</td>\n",
       "    </tr>\n",
       "    <tr>\n",
       "      <th>9</th>\n",
       "      <td>t1</td>\n",
       "      <td>t1</td>\n",
       "      <td>t1</td>\n",
       "      <td>t1</td>\n",
       "      <td>t1</td>\n",
       "      <td>t1</td>\n",
       "      <td>t2</td>\n",
       "      <td>t1</td>\n",
       "      <td>t1</td>\n",
       "    </tr>\n",
       "  </tbody>\n",
       "</table>\n",
       "</div>"
      ],
      "text/plain": [
       "  winner pred_log pred_log_fine pred_svm pred_svm_fine pred_tree_fine  \\\n",
       "0     t2       t2            t2       t1            t2             t2   \n",
       "1     t1       t1            t1       t1            t1             t1   \n",
       "2     t2       t1            t2       t1            t2             t2   \n",
       "3     t1       t1            t1       t1            t1             t1   \n",
       "4     t2       t2            t2       t2            t2             t2   \n",
       "5     t2       t1            t2       t1            t2             t2   \n",
       "6     t2       t1            t2       t2            t2             t2   \n",
       "7     t1       t1            t1       t1            t1             t1   \n",
       "8     t1       t1            t2       t1            t2             t1   \n",
       "9     t1       t1            t1       t1            t1             t1   \n",
       "\n",
       "  pred_tree pred_gnb pred_gnb_fine  \n",
       "0        t2       t2            t2  \n",
       "1        t1       t1            t1  \n",
       "2        t2       t1            t2  \n",
       "3        t1       t1            t1  \n",
       "4        t2       t2            t2  \n",
       "5        t2       t1            t2  \n",
       "6        t2       t1            t2  \n",
       "7        t1       t1            t1  \n",
       "8        t2       t2            t2  \n",
       "9        t2       t1            t1  "
      ]
     },
     "execution_count": 244,
     "metadata": {},
     "output_type": "execute_result"
    }
   ],
   "source": [
    "y_pred_inf_log_df = pd.DataFrame(y_pred_inf_log, columns = [\"pred_log\"])\n",
    "y_pred_inf_svm_df = pd.DataFrame(y_pred_inf_svm, columns = [\"pred_svm\"])\n",
    "y_pred_inf_tree_df = pd.DataFrame(y_pred_inf_tree, columns = [\"pred_tree\"])\n",
    "y_pred_inf_gnb_df = pd.DataFrame(y_pred_inf_gnb, columns = [\"pred_gnb\"])\n",
    "y_pred_inf_log_fine_df = pd.DataFrame(y_pred_inf_log_fine, columns = [\"pred_log_fine\"])\n",
    "y_pred_inf_svm_fine_df = pd.DataFrame(y_pred_inf_svc_fine, columns = [\"pred_svm_fine\"])\n",
    "y_pred_inf_tree_fine_df = pd.DataFrame(y_pred_inf_tree_fine, columns = [\"pred_tree_fine\"])\n",
    "y_pred_inf_gnb_fine_df = pd.DataFrame(y_pred_inf_gnb_fine, columns = [\"pred_gnb_fine\"])\n",
    "\n",
    "pd.concat([df_inf.winner, y_pred_inf_log_df, y_pred_inf_log_fine_df, y_pred_inf_svm_df, y_pred_inf_svm_fine_df, y_pred_inf_tree_fine_df, y_pred_inf_tree_df, y_pred_inf_gnb_df, y_pred_inf_gnb_fine_df], axis = 1)"
   ]
  },
  {
   "cell_type": "markdown",
   "metadata": {},
   "source": [
    "Dari hasil tersebut kita dapat lihat bahwa prediksi dari model yang sudah diatur *hyperparameter*-nya masih bisa meleset dari hasil data yang seharusnya akibat dari akurasinya yang masih tergolong kecil. Hal ini sesuai dengan hasil yang ada di lapangan, di mana terkadang akan ada pertandingan yang mengeluarkan hasil yang tidak terduga (Cth: kemenangan Gambit atas Astralis di PGL Krakow 2017), sehingga klasifikasi tanpa menggunakan skor ini jelas tidak akan memiliki tingkat akurasi yang tinggi. Di lain sisi, melakukan klasifikasi dengan memasukkan hasil pertandingannya akan terlalu mudah untuk dilakukan dan kita tidak bisa disebut melakukan prediksi apabila kita mempertimbangkan hasil pertandingannya ke dalam model."
   ]
  },
  {
   "cell_type": "markdown",
   "metadata": {},
   "source": [
    "## Kesimpulan"
   ]
  },
  {
   "cell_type": "markdown",
   "metadata": {},
   "source": [
    "Berikut ini adalah kesimpulan yang dapat diambil dari pengolahan data yang sudah dilakukan:\n",
    "\n",
    "1. Berdasarkan EDA, kita ketahui bahwa data diambil dari hasil pertandingan CSGO tingkat profesional dari awal tahun 2016 hingga akhir tahun 2020 yang terdiri dari detil-detil dari 3787 pertangdingan baik dalam *format best of 1, best of 3*, maupun *format best of 5*,\n",
    "\n",
    "2. Model-model yang sudah dilatih memiliki akurasi total yang relatif mirip satu sama lain (berada pada rentang 58%-60%) dan hampir semua model merupakan model yang *underfit* untuk diterapkan di dalam data (kecuali untuk model *decision tree* yang memang memiliki kecenderungan untuk *overfit*). Pada kasus ini, kita mengetahui dari metode `cross_val_score` bahwa hasil dari pengaturan *hyperparameter* bisa memperbaiki model yang dilatih, meskipun efeknya belum terlalu signifikan,\n",
    "\n",
    "3. Semua model yang dilatih memiliki akurasi yang buruk karena skor hasil pertandingan tidak dimasukkan ke dalam model. Apabila skor pertandingan dimasukkan ke dalam model, maka model tidak bisa diterapkan untuk melakukan prediksi hasil pertandingan."
   ]
  },
  {
   "cell_type": "markdown",
   "metadata": {},
   "source": [
    "## Tambahan: Pembentukan File .pkl Untuk Dimasukkan ke Dalam *Deployment*"
   ]
  },
  {
   "cell_type": "markdown",
   "metadata": {},
   "source": [
    "Untuk keperluan *deployment*, kita akan menggunakan *library* `pickle` untuk membungkus *pipe* yang sudah dibuat agar nanti bisa dimasukkan ke dalam program dengan lebih mudah."
   ]
  },
  {
   "cell_type": "code",
   "execution_count": 245,
   "metadata": {},
   "outputs": [],
   "source": [
    "with open(\"model_logfine.pkl\", \"wb\") as mod_logfine:\n",
    "    pickle.dump(pipe_log, mod_logfine)\n",
    "\n",
    "with open(\"model_svcfine.pkl\", \"wb\") as mod_svcfine:\n",
    "    pickle.dump(pipe_svc, mod_svcfine)\n",
    "\n",
    "with open(\"model_treefine.pkl\", \"wb\") as mod_treefine:\n",
    "    pickle.dump(pipe_tree, mod_treefine)\n",
    "\n",
    "with open(\"model_gnbfine.pkl\", \"wb\") as mod_gnbfine:\n",
    "    pickle.dump(pipe_gnb, mod_gnbfine)"
   ]
  }
 ],
 "metadata": {
  "kernelspec": {
   "display_name": "Python 3.9.12 ('base')",
   "language": "python",
   "name": "python3"
  },
  "language_info": {
   "codemirror_mode": {
    "name": "ipython",
    "version": 3
   },
   "file_extension": ".py",
   "mimetype": "text/x-python",
   "name": "python",
   "nbconvert_exporter": "python",
   "pygments_lexer": "ipython3",
   "version": "3.9.12"
  },
  "orig_nbformat": 4,
  "vscode": {
   "interpreter": {
    "hash": "d4a4050df37647cce9f897d8be73e70f5f75cc37a70fc5027d2d46479925067e"
   }
  }
 },
 "nbformat": 4,
 "nbformat_minor": 2
}
