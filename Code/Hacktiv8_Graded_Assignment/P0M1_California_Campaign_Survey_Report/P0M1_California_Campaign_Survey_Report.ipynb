{
 "cells": [
  {
   "cell_type": "markdown",
   "metadata": {},
   "source": [
    "# Laporan Survei Kampanye California\n",
    "\n",
    "`Faisal Kengo (FTDS Remote 014)`"
   ]
  },
  {
   "cell_type": "markdown",
   "metadata": {},
   "source": [
    "**Link:** https://milestone1-faisalkengo.herokuapp.com/"
   ]
  },
  {
   "cell_type": "markdown",
   "metadata": {},
   "source": [
    "## Perkenalan"
   ]
  },
  {
   "cell_type": "markdown",
   "metadata": {},
   "source": [
    "Halo, nama saya Faisal Kengo. Kali ini saya disewa oleh seorang calon pejabat legislatif di California untuk memperikakan beberapa faktor tertentu terkait dengan kampanye yang ingin ia lakukan. Panggil saja orang ini dengan sebutan \"Mr. X\" (bukan nama sebenarnya). Mr. X meminta saya untuk mencari tahu bagaimana demografi dari orang yang mengonsumsi iklan kampanye seperti apa, apa media yang paling sering digunakan, bagaimana impresinya, dan berapa rata-rata biaya yang harus dikeluarkan untuk melakukan kampanye ini."
   ]
  },
  {
   "cell_type": "markdown",
   "metadata": {},
   "source": [
    "### Tujuan"
   ]
  },
  {
   "cell_type": "markdown",
   "metadata": {},
   "source": [
    "Seperti yang sudah saya jabarkan di awal, saya diminta untuk melakukan hal-hal berikut:\n",
    "\n",
    "1. Menganalisa demografi audiens kampanye di California berdasarkan umur dan jenis kelaminnya,\n",
    "2. Mencari tahu media apa yang paling sering digunakan untuk melakukan kampanye di California,\n",
    "3. Mencari tahu berapa lama suatu kampanye dilakukan di California berdasarkan medianya,\n",
    "4. Mencari tahu seberapa besar indeks impresi dari kampanye yang dilakukan di California,\n",
    "5. Mencari tahu berapa biaya yang harus dikeluarkan per bulannya untuk melakukan kampanye,\n",
    "6. Menganalisa apakah anggaran biaya untuk iklan kampanye sebesar 100 USD per hari dapat memenuhi kebutuhan kampanye."
   ]
  },
  {
   "cell_type": "markdown",
   "metadata": {},
   "source": [
    "### Permasalahan"
   ]
  },
  {
   "cell_type": "markdown",
   "metadata": {},
   "source": [
    "Kali ini, kita tidak memiliki petunjuk apapun untuk mengolah data yang akan kita gunakan. Kita hanya diminta untuk menarik data dari `bigquery-public-data.google_political_ads`. Maka kita harus mencari tahu terlebih dahulu data apa saja yang ingin digunakan.\n",
    "\n",
    "Setelah itu, kita harus membuat minimal 4 buah visualisasi data, 1 buah visualisasi statistika deskriptif, dan 1 buah visualisasi statistika inferensial yang nantinya akan ditampilkan dalam bentuk *dashboard* yang akan di-*upload* ke situs heroku."
   ]
  },
  {
   "cell_type": "markdown",
   "metadata": {},
   "source": [
    "## Penjelasan Mengenai Analisa Kampanye di California"
   ]
  },
  {
   "cell_type": "markdown",
   "metadata": {},
   "source": [
    "### Pembersihan dan Eksplorasi Data"
   ]
  },
  {
   "cell_type": "markdown",
   "metadata": {},
   "source": [
    "Sebelum kita memulai pengolahan data, kita perlu mengambil terlebih dahulu data yang akan kita olah. Kita akan ambil data dari Google Cloud Platform dengan perintah seperti berikut:\n",
    "\n",
    "---\n",
    "\n",
    "    SELECT `bigquery-public-data.google_political_ads.creative_stats`.advertiser_id, `bigquery-public-data.google_political_ads.creative_stats`.advertiser_name, country, country_subdivision_primary, ad_type, num_of_days, impressions, age_targeting, gender_targeting, `bigquery-public-data.google_political_ads.creative_stats`.spend_usd, spend_range_min_usd, spend_range_max_usd\n",
    "        \n",
    "    FROM `bigquery-public-data.google_political_ads.creative_stats`\n",
    "        \n",
    "    JOIN `bigquery-public-data.google_political_ads.advertiser_geo_spend` ON `bigquery-public-data.google_political_ads.creative_stats`.advertiser_id = `bigquery-public-data.google_political_ads.advertiser_geo_spend`.advertiser_id\n",
    "\n",
    "    WHERE country = \"US\" AND country_subdivision_primary = \"CA\";\n",
    "\n",
    "---\n",
    "\n",
    "Setelah itu, kita akan muat *library* yang akan kita gunakan untuk mengolah data yang ingin kita analisa (*library* Streamlit tidak akan kita gunakan di dalam *notebook*)."
   ]
  },
  {
   "cell_type": "code",
   "execution_count": 83,
   "metadata": {},
   "outputs": [],
   "source": [
    "# Load library yang dibutuhkan\n",
    "\n",
    "#import streamlit as st\n",
    "import numpy as np\n",
    "import pandas as pd\n",
    "import matplotlib.pyplot as plt\n",
    "import seaborn as sns\n",
    "from scipy import stats"
   ]
  },
  {
   "cell_type": "markdown",
   "metadata": {},
   "source": [
    "Lalu kita akan muat data yang akan kita analisa, dan kita akan tampilkan bagian awal dan akhir dari data tersebut"
   ]
  },
  {
   "cell_type": "code",
   "execution_count": 3,
   "metadata": {},
   "outputs": [],
   "source": [
    "df = pd.read_csv(\"h8dsft_P0ML1_FaisalKengo.csv\")"
   ]
  },
  {
   "cell_type": "code",
   "execution_count": 4,
   "metadata": {},
   "outputs": [
    {
     "data": {
      "text/html": [
       "<div>\n",
       "<style scoped>\n",
       "    .dataframe tbody tr th:only-of-type {\n",
       "        vertical-align: middle;\n",
       "    }\n",
       "\n",
       "    .dataframe tbody tr th {\n",
       "        vertical-align: top;\n",
       "    }\n",
       "\n",
       "    .dataframe thead th {\n",
       "        text-align: right;\n",
       "    }\n",
       "</style>\n",
       "<table border=\"1\" class=\"dataframe\">\n",
       "  <thead>\n",
       "    <tr style=\"text-align: right;\">\n",
       "      <th></th>\n",
       "      <th>advertiser_id</th>\n",
       "      <th>advertiser_name</th>\n",
       "      <th>country</th>\n",
       "      <th>country_subdivision_primary</th>\n",
       "      <th>ad_type</th>\n",
       "      <th>num_of_days</th>\n",
       "      <th>impressions</th>\n",
       "      <th>age_targeting</th>\n",
       "      <th>gender_targeting</th>\n",
       "      <th>spend_usd</th>\n",
       "      <th>spend_range_min_usd</th>\n",
       "      <th>spend_range_max_usd</th>\n",
       "    </tr>\n",
       "  </thead>\n",
       "  <tbody>\n",
       "    <tr>\n",
       "      <th>0</th>\n",
       "      <td>AR00887684527932047361</td>\n",
       "      <td>STEVE DAINES FOR MONTANA</td>\n",
       "      <td>US</td>\n",
       "      <td>CA</td>\n",
       "      <td>IMAGE</td>\n",
       "      <td>107</td>\n",
       "      <td>8000-9000</td>\n",
       "      <td>NaN</td>\n",
       "      <td>Unknown gender</td>\n",
       "      <td>NaN</td>\n",
       "      <td>0</td>\n",
       "      <td>100</td>\n",
       "    </tr>\n",
       "    <tr>\n",
       "      <th>1</th>\n",
       "      <td>AR00887684527932047361</td>\n",
       "      <td>STEVE DAINES FOR MONTANA</td>\n",
       "      <td>US</td>\n",
       "      <td>CA</td>\n",
       "      <td>IMAGE</td>\n",
       "      <td>136</td>\n",
       "      <td>60000-70000</td>\n",
       "      <td>NaN</td>\n",
       "      <td>Unknown gender</td>\n",
       "      <td>NaN</td>\n",
       "      <td>0</td>\n",
       "      <td>100</td>\n",
       "    </tr>\n",
       "    <tr>\n",
       "      <th>2</th>\n",
       "      <td>AR00887684527932047361</td>\n",
       "      <td>STEVE DAINES FOR MONTANA</td>\n",
       "      <td>US</td>\n",
       "      <td>CA</td>\n",
       "      <td>IMAGE</td>\n",
       "      <td>123</td>\n",
       "      <td>100000-125000</td>\n",
       "      <td>NaN</td>\n",
       "      <td>Unknown gender</td>\n",
       "      <td>NaN</td>\n",
       "      <td>100</td>\n",
       "      <td>200</td>\n",
       "    </tr>\n",
       "    <tr>\n",
       "      <th>3</th>\n",
       "      <td>AR01527195675018657793</td>\n",
       "      <td>THE COMMITTEE TO DEFEND THE PRESIDENT</td>\n",
       "      <td>US</td>\n",
       "      <td>CA</td>\n",
       "      <td>IMAGE</td>\n",
       "      <td>5</td>\n",
       "      <td>1000-2000</td>\n",
       "      <td>25-34, 45-54, 55-64, ≥65, Unknown age</td>\n",
       "      <td>NaN</td>\n",
       "      <td>NaN</td>\n",
       "      <td>0</td>\n",
       "      <td>100</td>\n",
       "    </tr>\n",
       "    <tr>\n",
       "      <th>4</th>\n",
       "      <td>AR03136609393588568065</td>\n",
       "      <td>DNC SERVICES CORP / DEMOCRATIC NATIONAL COMMITTEE</td>\n",
       "      <td>US</td>\n",
       "      <td>CA</td>\n",
       "      <td>TEXT</td>\n",
       "      <td>2</td>\n",
       "      <td>0-1000</td>\n",
       "      <td>NaN</td>\n",
       "      <td>NaN</td>\n",
       "      <td>NaN</td>\n",
       "      <td>0</td>\n",
       "      <td>100</td>\n",
       "    </tr>\n",
       "  </tbody>\n",
       "</table>\n",
       "</div>"
      ],
      "text/plain": [
       "            advertiser_id                                    advertiser_name  \\\n",
       "0  AR00887684527932047361                           STEVE DAINES FOR MONTANA   \n",
       "1  AR00887684527932047361                           STEVE DAINES FOR MONTANA   \n",
       "2  AR00887684527932047361                           STEVE DAINES FOR MONTANA   \n",
       "3  AR01527195675018657793              THE COMMITTEE TO DEFEND THE PRESIDENT   \n",
       "4  AR03136609393588568065  DNC SERVICES CORP / DEMOCRATIC NATIONAL COMMITTEE   \n",
       "\n",
       "  country country_subdivision_primary ad_type  num_of_days    impressions  \\\n",
       "0      US                          CA   IMAGE          107      8000-9000   \n",
       "1      US                          CA   IMAGE          136    60000-70000   \n",
       "2      US                          CA   IMAGE          123  100000-125000   \n",
       "3      US                          CA   IMAGE            5      1000-2000   \n",
       "4      US                          CA    TEXT            2         0-1000   \n",
       "\n",
       "                           age_targeting gender_targeting  spend_usd  \\\n",
       "0                                    NaN   Unknown gender        NaN   \n",
       "1                                    NaN   Unknown gender        NaN   \n",
       "2                                    NaN   Unknown gender        NaN   \n",
       "3  25-34, 45-54, 55-64, ≥65, Unknown age              NaN        NaN   \n",
       "4                                    NaN              NaN        NaN   \n",
       "\n",
       "   spend_range_min_usd  spend_range_max_usd  \n",
       "0                    0                  100  \n",
       "1                    0                  100  \n",
       "2                  100                  200  \n",
       "3                    0                  100  \n",
       "4                    0                  100  "
      ]
     },
     "execution_count": 4,
     "metadata": {},
     "output_type": "execute_result"
    }
   ],
   "source": [
    "df.head()"
   ]
  },
  {
   "cell_type": "code",
   "execution_count": 5,
   "metadata": {},
   "outputs": [
    {
     "data": {
      "text/html": [
       "<div>\n",
       "<style scoped>\n",
       "    .dataframe tbody tr th:only-of-type {\n",
       "        vertical-align: middle;\n",
       "    }\n",
       "\n",
       "    .dataframe tbody tr th {\n",
       "        vertical-align: top;\n",
       "    }\n",
       "\n",
       "    .dataframe thead th {\n",
       "        text-align: right;\n",
       "    }\n",
       "</style>\n",
       "<table border=\"1\" class=\"dataframe\">\n",
       "  <thead>\n",
       "    <tr style=\"text-align: right;\">\n",
       "      <th></th>\n",
       "      <th>advertiser_id</th>\n",
       "      <th>advertiser_name</th>\n",
       "      <th>country</th>\n",
       "      <th>country_subdivision_primary</th>\n",
       "      <th>ad_type</th>\n",
       "      <th>num_of_days</th>\n",
       "      <th>impressions</th>\n",
       "      <th>age_targeting</th>\n",
       "      <th>gender_targeting</th>\n",
       "      <th>spend_usd</th>\n",
       "      <th>spend_range_min_usd</th>\n",
       "      <th>spend_range_max_usd</th>\n",
       "    </tr>\n",
       "  </thead>\n",
       "  <tbody>\n",
       "    <tr>\n",
       "      <th>631331</th>\n",
       "      <td>AR16602960243269304321</td>\n",
       "      <td>Coalition for Safe, Responsible Gaming, Sponso...</td>\n",
       "      <td>US</td>\n",
       "      <td>CA</td>\n",
       "      <td>TEXT</td>\n",
       "      <td>20</td>\n",
       "      <td>0-1000</td>\n",
       "      <td>NaN</td>\n",
       "      <td>NaN</td>\n",
       "      <td>NaN</td>\n",
       "      <td>500</td>\n",
       "      <td>600</td>\n",
       "    </tr>\n",
       "    <tr>\n",
       "      <th>631332</th>\n",
       "      <td>AR16602960243269304321</td>\n",
       "      <td>Coalition for Safe, Responsible Gaming, Sponso...</td>\n",
       "      <td>US</td>\n",
       "      <td>CA</td>\n",
       "      <td>TEXT</td>\n",
       "      <td>21</td>\n",
       "      <td>6000-7000</td>\n",
       "      <td>NaN</td>\n",
       "      <td>NaN</td>\n",
       "      <td>NaN</td>\n",
       "      <td>10000</td>\n",
       "      <td>15000</td>\n",
       "    </tr>\n",
       "    <tr>\n",
       "      <th>631333</th>\n",
       "      <td>AR16602960243269304321</td>\n",
       "      <td>Coalition for Safe, Responsible Gaming, Sponso...</td>\n",
       "      <td>US</td>\n",
       "      <td>CA</td>\n",
       "      <td>TEXT</td>\n",
       "      <td>21</td>\n",
       "      <td>4000-5000</td>\n",
       "      <td>NaN</td>\n",
       "      <td>NaN</td>\n",
       "      <td>NaN</td>\n",
       "      <td>4500</td>\n",
       "      <td>5000</td>\n",
       "    </tr>\n",
       "    <tr>\n",
       "      <th>631334</th>\n",
       "      <td>AR16602960243269304321</td>\n",
       "      <td>Coalition for Safe, Responsible Gaming, Sponso...</td>\n",
       "      <td>US</td>\n",
       "      <td>CA</td>\n",
       "      <td>TEXT</td>\n",
       "      <td>19</td>\n",
       "      <td>1000-2000</td>\n",
       "      <td>NaN</td>\n",
       "      <td>NaN</td>\n",
       "      <td>NaN</td>\n",
       "      <td>2500</td>\n",
       "      <td>3000</td>\n",
       "    </tr>\n",
       "    <tr>\n",
       "      <th>631335</th>\n",
       "      <td>AR06626060452306616321</td>\n",
       "      <td>California Hospitals Committee on Issues, (CHC...</td>\n",
       "      <td>US</td>\n",
       "      <td>CA</td>\n",
       "      <td>VIDEO</td>\n",
       "      <td>14</td>\n",
       "      <td>30000-35000</td>\n",
       "      <td>18-24, 25-34, 35-44, 45-54, 55-64, ≥65, Unknow...</td>\n",
       "      <td>Male, Female, Unknown gender</td>\n",
       "      <td>NaN</td>\n",
       "      <td>800</td>\n",
       "      <td>900</td>\n",
       "    </tr>\n",
       "  </tbody>\n",
       "</table>\n",
       "</div>"
      ],
      "text/plain": [
       "                 advertiser_id  \\\n",
       "631331  AR16602960243269304321   \n",
       "631332  AR16602960243269304321   \n",
       "631333  AR16602960243269304321   \n",
       "631334  AR16602960243269304321   \n",
       "631335  AR06626060452306616321   \n",
       "\n",
       "                                          advertiser_name country  \\\n",
       "631331  Coalition for Safe, Responsible Gaming, Sponso...      US   \n",
       "631332  Coalition for Safe, Responsible Gaming, Sponso...      US   \n",
       "631333  Coalition for Safe, Responsible Gaming, Sponso...      US   \n",
       "631334  Coalition for Safe, Responsible Gaming, Sponso...      US   \n",
       "631335  California Hospitals Committee on Issues, (CHC...      US   \n",
       "\n",
       "       country_subdivision_primary ad_type  num_of_days  impressions  \\\n",
       "631331                          CA    TEXT           20       0-1000   \n",
       "631332                          CA    TEXT           21    6000-7000   \n",
       "631333                          CA    TEXT           21    4000-5000   \n",
       "631334                          CA    TEXT           19    1000-2000   \n",
       "631335                          CA   VIDEO           14  30000-35000   \n",
       "\n",
       "                                            age_targeting  \\\n",
       "631331                                                NaN   \n",
       "631332                                                NaN   \n",
       "631333                                                NaN   \n",
       "631334                                                NaN   \n",
       "631335  18-24, 25-34, 35-44, 45-54, 55-64, ≥65, Unknow...   \n",
       "\n",
       "                    gender_targeting  spend_usd  spend_range_min_usd  \\\n",
       "631331                           NaN        NaN                  500   \n",
       "631332                           NaN        NaN                10000   \n",
       "631333                           NaN        NaN                 4500   \n",
       "631334                           NaN        NaN                 2500   \n",
       "631335  Male, Female, Unknown gender        NaN                  800   \n",
       "\n",
       "        spend_range_max_usd  \n",
       "631331                  600  \n",
       "631332                15000  \n",
       "631333                 5000  \n",
       "631334                 3000  \n",
       "631335                  900  "
      ]
     },
     "execution_count": 5,
     "metadata": {},
     "output_type": "execute_result"
    }
   ],
   "source": [
    "df.tail()"
   ]
  },
  {
   "cell_type": "markdown",
   "metadata": {},
   "source": [
    "Lalu kita akan periksa apakah data yang kita miliki harus dibersihkan dulu dari nilai *'null'* atau tidak."
   ]
  },
  {
   "cell_type": "code",
   "execution_count": 6,
   "metadata": {},
   "outputs": [
    {
     "name": "stdout",
     "output_type": "stream",
     "text": [
      "<class 'pandas.core.frame.DataFrame'>\n",
      "RangeIndex: 631336 entries, 0 to 631335\n",
      "Data columns (total 12 columns):\n",
      " #   Column                       Non-Null Count   Dtype  \n",
      "---  ------                       --------------   -----  \n",
      " 0   advertiser_id                631336 non-null  object \n",
      " 1   advertiser_name              631336 non-null  object \n",
      " 2   country                      631336 non-null  object \n",
      " 3   country_subdivision_primary  631336 non-null  object \n",
      " 4   ad_type                      631336 non-null  object \n",
      " 5   num_of_days                  631336 non-null  int64  \n",
      " 6   impressions                  631336 non-null  object \n",
      " 7   age_targeting                303253 non-null  object \n",
      " 8   gender_targeting             211884 non-null  object \n",
      " 9   spend_usd                    0 non-null       float64\n",
      " 10  spend_range_min_usd          631336 non-null  int64  \n",
      " 11  spend_range_max_usd          631336 non-null  int64  \n",
      "dtypes: float64(1), int64(3), object(8)\n",
      "memory usage: 57.8+ MB\n"
     ]
    }
   ],
   "source": [
    "df.info()"
   ]
  },
  {
   "cell_type": "markdown",
   "metadata": {},
   "source": [
    "Dari sini kita melihat bahwa ada sebagian nilai *'null'* yang terdapat di sebagian baris di kolom `age_targeting`, sebagian baris di kolom `gender_targeting`, dan di setiap baris di kolom `spend_usd`. Pertama-tama kita akan hilangkan kolom `spend_usd`, lalu kita akan ubah data bertipe 'object' menjadi data bertipe 'string'."
   ]
  },
  {
   "cell_type": "code",
   "execution_count": 7,
   "metadata": {},
   "outputs": [
    {
     "name": "stdout",
     "output_type": "stream",
     "text": [
      "<class 'pandas.core.frame.DataFrame'>\n",
      "RangeIndex: 631336 entries, 0 to 631335\n",
      "Data columns (total 11 columns):\n",
      " #   Column                       Non-Null Count   Dtype \n",
      "---  ------                       --------------   ----- \n",
      " 0   advertiser_id                631336 non-null  string\n",
      " 1   advertiser_name              631336 non-null  string\n",
      " 2   country                      631336 non-null  string\n",
      " 3   country_subdivision_primary  631336 non-null  string\n",
      " 4   ad_type                      631336 non-null  string\n",
      " 5   num_of_days                  631336 non-null  int64 \n",
      " 6   impressions                  631336 non-null  string\n",
      " 7   age_targeting                303253 non-null  string\n",
      " 8   gender_targeting             211884 non-null  string\n",
      " 9   spend_range_min_usd          631336 non-null  int64 \n",
      " 10  spend_range_max_usd          631336 non-null  int64 \n",
      "dtypes: int64(3), string(8)\n",
      "memory usage: 53.0 MB\n"
     ]
    }
   ],
   "source": [
    "df.drop(labels = [\"spend_usd\"], axis = 1, inplace = True)\n",
    "\n",
    "df[\"advertiser_id\"] = df[\"advertiser_id\"].astype(\"string\")\n",
    "df[\"advertiser_name\"] = df[\"advertiser_name\"].astype(\"string\")\n",
    "df[\"country\"] = df[\"country\"].astype(\"string\")\n",
    "df[\"country_subdivision_primary\"] = df[\"country_subdivision_primary\"].astype(\"string\")\n",
    "df[\"ad_type\"] = df[\"ad_type\"].astype(\"string\")\n",
    "df[\"impressions\"] = df[\"impressions\"].astype(\"string\")\n",
    "df[\"age_targeting\"] = df[\"age_targeting\"].astype(\"string\")\n",
    "df[\"gender_targeting\"] = df[\"gender_targeting\"].astype(\"string\")\n",
    "\n",
    "df.info()"
   ]
  },
  {
   "cell_type": "markdown",
   "metadata": {},
   "source": [
    "Untuk mengisi nilai *'null'* pada kolom `age_targeting` dan `gender_targeting`, kita harus mengetahui data apa saja yang terdapat di dalam kedua kolom tersebut. Kita akan mencari data apa saja yang terdapat di kolom `age_targeting` terlebih dahulu:"
   ]
  },
  {
   "cell_type": "code",
   "execution_count": 8,
   "metadata": {},
   "outputs": [
    {
     "data": {
      "text/plain": [
       "18-24, 25-34, 35-44, 45-54, 55-64, ≥65, Unknow...    86934\n",
       "18-24, 25-34, 35-44, 45-54, 55-64, ≥65               56948\n",
       "35-44, 45-54, 55-64, ≥65                             38537\n",
       "25-34, 35-44, 45-54, 55-64, ≥65, Unknown age         18280\n",
       "35-44, 45-54, 55-64, ≥65, Unknown age                17939\n",
       "                                                     ...  \n",
       "18-24, 25-34, 35-44, ≥65, Unknown age                    1\n",
       "18-24, 25-34, ≥65                                        1\n",
       "18-24, 25-34, 45-54, 55-64, Unknown age                  1\n",
       "18-24, 55-64, ≥65, Unknown age                           1\n",
       "18-24, 55-64                                             1\n",
       "Name: age_targeting, Length: 89, dtype: Int64"
      ]
     },
     "execution_count": 8,
     "metadata": {},
     "output_type": "execute_result"
    }
   ],
   "source": [
    "df.age_targeting.value_counts()"
   ]
  },
  {
   "cell_type": "markdown",
   "metadata": {},
   "source": [
    "Lalu kita akan periksa data apa saja yang terdapat di kolom `gender_targeting`:"
   ]
  },
  {
   "cell_type": "code",
   "execution_count": 9,
   "metadata": {},
   "outputs": [
    {
     "data": {
      "text/plain": [
       "Male, Female, Unknown gender    164892\n",
       "Female                           20046\n",
       "Male                             15075\n",
       "Male, Female                      6879\n",
       "Female, Unknown gender            2383\n",
       "Male, Unknown gender              2139\n",
       "Unknown gender                     470\n",
       "Name: gender_targeting, dtype: Int64"
      ]
     },
     "execution_count": 9,
     "metadata": {},
     "output_type": "execute_result"
    }
   ],
   "source": [
    "df.gender_targeting.value_counts()"
   ]
  },
  {
   "cell_type": "markdown",
   "metadata": {},
   "source": [
    "Dari kedua rincian data tersebut, kita mengetahui bahwa kolom `age_targeting` memiliki 89 jenis isian data dan kolom `gender_targeting` memiliki 7 jenis isian data. Kita juga mengetahui bahwa isi dari kolom-kolom tersebut bisa terdiri dari dua atau lebih parameter tertentu yang bisa dipisahkan lebih lanjut. Untuk sekarang, kita akan mengisi nilai *'null'* dari kedua kolom tersebut dengan isian yang memiliki frekuensi terbanyak berdasarkan kolomnya. "
   ]
  },
  {
   "cell_type": "code",
   "execution_count": 10,
   "metadata": {},
   "outputs": [
    {
     "name": "stdout",
     "output_type": "stream",
     "text": [
      "<class 'pandas.core.frame.DataFrame'>\n",
      "RangeIndex: 631336 entries, 0 to 631335\n",
      "Data columns (total 11 columns):\n",
      " #   Column                       Non-Null Count   Dtype \n",
      "---  ------                       --------------   ----- \n",
      " 0   advertiser_id                631336 non-null  string\n",
      " 1   advertiser_name              631336 non-null  string\n",
      " 2   country                      631336 non-null  string\n",
      " 3   country_subdivision_primary  631336 non-null  string\n",
      " 4   ad_type                      631336 non-null  string\n",
      " 5   num_of_days                  631336 non-null  int64 \n",
      " 6   impressions                  631336 non-null  string\n",
      " 7   age_targeting                631336 non-null  string\n",
      " 8   gender_targeting             631336 non-null  string\n",
      " 9   spend_range_min_usd          631336 non-null  int64 \n",
      " 10  spend_range_max_usd          631336 non-null  int64 \n",
      "dtypes: int64(3), string(8)\n",
      "memory usage: 53.0 MB\n"
     ]
    }
   ],
   "source": [
    "df.age_targeting.fillna(\"18-24, 25-34, 35-44, 45-54, 55-64, ≥65, Unknown age\", inplace = True)\n",
    "df.gender_targeting.fillna(\"Male, Female, Unknown gender\", inplace = True)\n",
    "df.info()"
   ]
  },
  {
   "cell_type": "markdown",
   "metadata": {},
   "source": [
    "Setelah itu kita akan buat tabel yang akan memisahkan setiap parameter dari kedua kolom tersebut. Karena pada kedua kolom tersebut terdapat 9 jenis parameter, kita akan membuat 9 kolom bertipe boolean yang baru."
   ]
  },
  {
   "cell_type": "code",
   "execution_count": 11,
   "metadata": {},
   "outputs": [
    {
     "name": "stdout",
     "output_type": "stream",
     "text": [
      "<class 'pandas.core.frame.DataFrame'>\n",
      "RangeIndex: 631336 entries, 0 to 631335\n",
      "Data columns (total 20 columns):\n",
      " #   Column                       Non-Null Count   Dtype \n",
      "---  ------                       --------------   ----- \n",
      " 0   advertiser_id                631336 non-null  string\n",
      " 1   advertiser_name              631336 non-null  string\n",
      " 2   country                      631336 non-null  string\n",
      " 3   country_subdivision_primary  631336 non-null  string\n",
      " 4   ad_type                      631336 non-null  string\n",
      " 5   num_of_days                  631336 non-null  int64 \n",
      " 6   impressions                  631336 non-null  string\n",
      " 7   age_targeting                631336 non-null  string\n",
      " 8   gender_targeting             631336 non-null  string\n",
      " 9   spend_range_min_usd          631336 non-null  int64 \n",
      " 10  spend_range_max_usd          631336 non-null  int64 \n",
      " 11  for_18_24                    631336 non-null  bool  \n",
      " 12  for_25_34                    631336 non-null  bool  \n",
      " 13  for_35_44                    631336 non-null  bool  \n",
      " 14  for_45_54                    631336 non-null  bool  \n",
      " 15  for_55_64                    631336 non-null  bool  \n",
      " 16  for_65_older                 631336 non-null  bool  \n",
      " 17  for_male                     631336 non-null  bool  \n",
      " 18  for_female                   631336 non-null  bool  \n",
      " 19  for_unknown                  631336 non-null  bool  \n",
      "dtypes: bool(9), int64(3), string(8)\n",
      "memory usage: 58.4 MB\n"
     ]
    }
   ],
   "source": [
    "age_18_24 = []\n",
    "age_25_34 = []\n",
    "age_35_44 = []\n",
    "age_45_54 = []\n",
    "age_55_64 = []\n",
    "age_65_more = []\n",
    "age_unk = []\n",
    "gender_male = []\n",
    "gender_female = []\n",
    "gender_unk = []\n",
    "\n",
    "for i in range(len(df.age_targeting)) :\n",
    "    if \"18-24\" in df.age_targeting[i]:\n",
    "        ind_1824 = True\n",
    "    else:\n",
    "        ind_1824 = False\n",
    "    age_18_24.append(ind_1824)\n",
    "\n",
    "df[\"for_18_24\"] = age_18_24\n",
    "\n",
    "for i in range(len(df.age_targeting)) :\n",
    "    if \"25-34\" in df.age_targeting[i]:\n",
    "        ind_2534 = True\n",
    "    else:\n",
    "        ind_2534 = False\n",
    "    age_25_34.append(ind_2534)\n",
    "\n",
    "df[\"for_25_34\"] = age_25_34\n",
    "\n",
    "for i in range(len(df.age_targeting)) :\n",
    "    if \"35-44\" in df.age_targeting[i]:\n",
    "        ind_3544 = True\n",
    "    else:\n",
    "        ind_3544 = False\n",
    "    age_35_44.append(ind_3544)\n",
    "\n",
    "df[\"for_35_44\"] = age_35_44\n",
    "\n",
    "for i in range(len(df.age_targeting)) :\n",
    "    if \"45-54\" in df.age_targeting[i]:\n",
    "        ind_4554 = True\n",
    "    else:\n",
    "        ind_4554 = False\n",
    "    age_45_54.append(ind_4554)\n",
    "\n",
    "df[\"for_45_54\"] = age_45_54\n",
    "\n",
    "for i in range(len(df.age_targeting)) :\n",
    "    if \"55-64\" in df.age_targeting[i]:\n",
    "        ind_5564 = True\n",
    "    else:\n",
    "        ind_5564 = False\n",
    "    age_55_64.append(ind_5564)\n",
    "\n",
    "df[\"for_55_64\"] = age_55_64\n",
    "\n",
    "for i in range(len(df.age_targeting)) :\n",
    "    if \"≥65\" in df.age_targeting[i]:\n",
    "        ind_geq65 = True\n",
    "    else:\n",
    "        ind_geq65 = False\n",
    "    age_65_more.append(ind_geq65)\n",
    "\n",
    "df[\"for_65_older\"] = age_65_more\n",
    "\n",
    "for i in range(len(df.gender_targeting)) :\n",
    "    if \"Male\" in df.gender_targeting[i]:\n",
    "        ind_m = True\n",
    "    else:\n",
    "        ind_m = False\n",
    "    gender_male.append(ind_m)\n",
    "\n",
    "df[\"for_male\"] = gender_male\n",
    "\n",
    "for i in range(len(df.gender_targeting)) :\n",
    "    if \"Female\" in df.gender_targeting[i]:\n",
    "        ind_f = True\n",
    "    else:\n",
    "        ind_f = False\n",
    "    gender_female.append(ind_f)\n",
    "\n",
    "df[\"for_female\"] = gender_female\n",
    "\n",
    "for i in range(len(df.gender_targeting)) :\n",
    "    if \"Unknown gender\" in df.gender_targeting[i]:\n",
    "        ind_u = True\n",
    "    else:\n",
    "        ind_u = False\n",
    "    gender_unk.append(ind_u)\n",
    "\n",
    "df[\"for_unknown\"] = gender_unk\n",
    "\n",
    "df.info()"
   ]
  },
  {
   "cell_type": "markdown",
   "metadata": {},
   "source": [
    "Setelah itu kita akan membuat kolom baru untuk menampung nilai rata-rata pengeluaran biaya kampanye per harinya."
   ]
  },
  {
   "cell_type": "code",
   "execution_count": 12,
   "metadata": {},
   "outputs": [],
   "source": [
    "df[\"spend_med_per_day_usd\"] = ((df.spend_range_max_usd / df.num_of_days) - (df.spend_range_min_usd / df.num_of_days)) / 2"
   ]
  },
  {
   "cell_type": "code",
   "execution_count": 13,
   "metadata": {},
   "outputs": [
    {
     "name": "stdout",
     "output_type": "stream",
     "text": [
      "<class 'pandas.core.frame.DataFrame'>\n",
      "RangeIndex: 631336 entries, 0 to 631335\n",
      "Data columns (total 21 columns):\n",
      " #   Column                       Non-Null Count   Dtype  \n",
      "---  ------                       --------------   -----  \n",
      " 0   advertiser_id                631336 non-null  string \n",
      " 1   advertiser_name              631336 non-null  string \n",
      " 2   country                      631336 non-null  string \n",
      " 3   country_subdivision_primary  631336 non-null  string \n",
      " 4   ad_type                      631336 non-null  string \n",
      " 5   num_of_days                  631336 non-null  int64  \n",
      " 6   impressions                  631336 non-null  string \n",
      " 7   age_targeting                631336 non-null  string \n",
      " 8   gender_targeting             631336 non-null  string \n",
      " 9   spend_range_min_usd          631336 non-null  int64  \n",
      " 10  spend_range_max_usd          631336 non-null  int64  \n",
      " 11  for_18_24                    631336 non-null  bool   \n",
      " 12  for_25_34                    631336 non-null  bool   \n",
      " 13  for_35_44                    631336 non-null  bool   \n",
      " 14  for_45_54                    631336 non-null  bool   \n",
      " 15  for_55_64                    631336 non-null  bool   \n",
      " 16  for_65_older                 631336 non-null  bool   \n",
      " 17  for_male                     631336 non-null  bool   \n",
      " 18  for_female                   631336 non-null  bool   \n",
      " 19  for_unknown                  631336 non-null  bool   \n",
      " 20  spend_med_per_day_usd        631336 non-null  float64\n",
      "dtypes: bool(9), float64(1), int64(3), string(8)\n",
      "memory usage: 63.2 MB\n"
     ]
    }
   ],
   "source": [
    "df.info()"
   ]
  },
  {
   "cell_type": "markdown",
   "metadata": {},
   "source": [
    "Setelah itu kita akan hapus kolom `age_targeting`, `gender_targeting`, `spend_range_min_usd`, dan `spend_range_max_usd` dari data yang akan kita olah karena sudah kita olah menjadi kolom yang baru. Selain itu, kita juga akan hapus kolom `advertiser_id` dan `advertiser_name` karena tidak relevan dengan perhitungan serta kolom `country` dan `country_subdivision_primary` karena data yang kita miliki sudah merupakan data iklan kampanye di California, Amerika Serikat."
   ]
  },
  {
   "cell_type": "code",
   "execution_count": 14,
   "metadata": {},
   "outputs": [
    {
     "name": "stdout",
     "output_type": "stream",
     "text": [
      "<class 'pandas.core.frame.DataFrame'>\n",
      "RangeIndex: 631336 entries, 0 to 631335\n",
      "Data columns (total 13 columns):\n",
      " #   Column                 Non-Null Count   Dtype  \n",
      "---  ------                 --------------   -----  \n",
      " 0   ad_type                631336 non-null  string \n",
      " 1   num_of_days            631336 non-null  int64  \n",
      " 2   impressions            631336 non-null  string \n",
      " 3   for_18_24              631336 non-null  bool   \n",
      " 4   for_25_34              631336 non-null  bool   \n",
      " 5   for_35_44              631336 non-null  bool   \n",
      " 6   for_45_54              631336 non-null  bool   \n",
      " 7   for_55_64              631336 non-null  bool   \n",
      " 8   for_65_older           631336 non-null  bool   \n",
      " 9   for_male               631336 non-null  bool   \n",
      " 10  for_female             631336 non-null  bool   \n",
      " 11  for_unknown            631336 non-null  bool   \n",
      " 12  spend_med_per_day_usd  631336 non-null  float64\n",
      "dtypes: bool(9), float64(1), int64(1), string(2)\n",
      "memory usage: 24.7 MB\n"
     ]
    }
   ],
   "source": [
    "df.drop(labels = [\"advertiser_id\", \"advertiser_name\", \"country\", \"country_subdivision_primary\", \"age_targeting\", \"gender_targeting\", \"spend_range_min_usd\", \"spend_range_max_usd\"], axis = 1, inplace = True)\n",
    "\n",
    "df.info()"
   ]
  },
  {
   "cell_type": "markdown",
   "metadata": {},
   "source": [
    "Selanjutnya, kita akan melihat bagaimana persebaran data yang kita punya. Kita akan mulai dari melihat data apa saja yang ada di dalam `ad_type`:"
   ]
  },
  {
   "cell_type": "code",
   "execution_count": 15,
   "metadata": {},
   "outputs": [
    {
     "data": {
      "text/plain": [
       "VIDEO    268523\n",
       "IMAGE    207828\n",
       "TEXT     154985\n",
       "Name: ad_type, dtype: Int64"
      ]
     },
     "execution_count": 15,
     "metadata": {},
     "output_type": "execute_result"
    }
   ],
   "source": [
    "df.ad_type.value_counts()"
   ]
  },
  {
   "cell_type": "markdown",
   "metadata": {},
   "source": [
    "Dari perintah di atas kita mengetahui bahwa terdapat 268523 iklan kampanye berbentuk video, 2078282 iklan kampanye berbentuk gambar, dan 154985 iklan kampanye berbentuk teks. Lalu kita akan kisaran dari berapa lama durasi kampanye berlangsung:"
   ]
  },
  {
   "cell_type": "code",
   "execution_count": 16,
   "metadata": {},
   "outputs": [
    {
     "name": "stdout",
     "output_type": "stream",
     "text": [
      "Iklan kampanye berlangsung dengan kisaran 1 hari sampai dengan 1294 hari.\n"
     ]
    }
   ],
   "source": [
    "min_days = df.num_of_days.min()\n",
    "max_days = df.num_of_days.max()\n",
    "\n",
    "print(\"Iklan kampanye berlangsung dengan kisaran\", min_days, \"hari sampai dengan\", max_days, \"hari.\")"
   ]
  },
  {
   "cell_type": "markdown",
   "metadata": {},
   "source": [
    "Dari perintah di atas kita mengetahui bahwa kampanye yang dilakukan berdurasi 1 hingga 1294 hari.\n",
    "\n",
    "Selanjutnya kita akan melihat bagaimana impresi dari masing-masing kampanye."
   ]
  },
  {
   "cell_type": "code",
   "execution_count": 17,
   "metadata": {},
   "outputs": [
    {
     "data": {
      "text/plain": [
       "0-1000              262229\n",
       "1000-2000            43063\n",
       "10000-15000          27272\n",
       "2000-3000            27235\n",
       "3000-4000            19509\n",
       "15000-20000          19132\n",
       "4000-5000            15526\n",
       "20000-25000          14582\n",
       "5000-6000            12473\n",
       "25000-30000          11580\n",
       "6000-7000            10529\n",
       "100000-125000        10365\n",
       "50000-60000          10098\n",
       "30000-35000           9301\n",
       "7000-8000             9087\n",
       "60000-70000           8467\n",
       "8000-9000             8201\n",
       "35000-40000           7982\n",
       "125000-150000         7574\n",
       "9000-10000            7095\n",
       "40000-45000           6827\n",
       "70000-80000           6746\n",
       "45000-50000           6260\n",
       "150000-175000         6173\n",
       "80000-90000           5916\n",
       "250000-300000         5562\n",
       "90000-100000          4978\n",
       "175000-200000         4902\n",
       "300000-350000         4153\n",
       "200000-225000         4022\n",
       "225000-250000         3482\n",
       "350000-400000         3422\n",
       "500000-600000         3412\n",
       "400000-450000         2671\n",
       "600000-700000         2541\n",
       "1000000-1250000       2203\n",
       "450000-500000         2195\n",
       "700000-800000         2106\n",
       "800000-900000         1643\n",
       "1250000-1500000       1640\n",
       "900000-1000000        1304\n",
       "1500000-1750000       1178\n",
       "≥10000000             1094\n",
       "1750000-2000000        835\n",
       "2500000-3000000        815\n",
       "2000000-2250000        726\n",
       "3000000-3500000        593\n",
       "2250000-2500000        492\n",
       "3500000-4000000        419\n",
       "5000000-6000000        387\n",
       "4000000-4500000        342\n",
       "6000000-7000000        253\n",
       "4500000-5000000        242\n",
       "8000000-9000000        188\n",
       "7000000-8000000        182\n",
       "9000000-10000000       132\n",
       "Name: impressions, dtype: Int64"
      ]
     },
     "execution_count": 17,
     "metadata": {},
     "output_type": "execute_result"
    }
   ],
   "source": [
    "df.impressions.value_counts()"
   ]
  },
  {
   "cell_type": "markdown",
   "metadata": {},
   "source": [
    "Dari sini kita melihat bahwa kampanye yang dilakukan memiliki rentang dari 0 hingga 10000000."
   ]
  },
  {
   "cell_type": "markdown",
   "metadata": {},
   "source": [
    "### Perhitungan *Central Tendency* dari Biaya Kampanye di California"
   ]
  },
  {
   "cell_type": "markdown",
   "metadata": {},
   "source": [
    "Untuk melakukan perhitungan ini, kita akan mengelompokkan data yang kita miliki ke dalam jenis media iklan yang digunakan untuk menghitung nilai *central tendency* dari `spend_med_per_day_usd`."
   ]
  },
  {
   "cell_type": "code",
   "execution_count": 18,
   "metadata": {},
   "outputs": [],
   "source": [
    "df_mean = df.groupby(by = \"ad_type\")[[\"spend_med_per_day_usd\"]].mean().sort_values(by = \"spend_med_per_day_usd\", ascending = True)\n",
    "df_median = df.groupby(by = \"ad_type\")[[\"spend_med_per_day_usd\"]].median().sort_values(by = \"spend_med_per_day_usd\", ascending = True)\n",
    "df_mode = df.groupby(by = \"ad_type\")[\"spend_med_per_day_usd\"].agg(pd.Series.mode)"
   ]
  },
  {
   "cell_type": "markdown",
   "metadata": {},
   "source": [
    "Berikut adalah nilai rata-rata biaya yang dikeluarkan per hari berdasarkan media iklan kampanyenya:"
   ]
  },
  {
   "cell_type": "code",
   "execution_count": 19,
   "metadata": {},
   "outputs": [
    {
     "data": {
      "text/html": [
       "<div>\n",
       "<style scoped>\n",
       "    .dataframe tbody tr th:only-of-type {\n",
       "        vertical-align: middle;\n",
       "    }\n",
       "\n",
       "    .dataframe tbody tr th {\n",
       "        vertical-align: top;\n",
       "    }\n",
       "\n",
       "    .dataframe thead th {\n",
       "        text-align: right;\n",
       "    }\n",
       "</style>\n",
       "<table border=\"1\" class=\"dataframe\">\n",
       "  <thead>\n",
       "    <tr style=\"text-align: right;\">\n",
       "      <th></th>\n",
       "      <th>spend_med_per_day_usd</th>\n",
       "    </tr>\n",
       "    <tr>\n",
       "      <th>ad_type</th>\n",
       "      <th></th>\n",
       "    </tr>\n",
       "  </thead>\n",
       "  <tbody>\n",
       "    <tr>\n",
       "      <th>IMAGE</th>\n",
       "      <td>12.171451</td>\n",
       "    </tr>\n",
       "    <tr>\n",
       "      <th>TEXT</th>\n",
       "      <td>17.635815</td>\n",
       "    </tr>\n",
       "    <tr>\n",
       "      <th>VIDEO</th>\n",
       "      <td>48.416569</td>\n",
       "    </tr>\n",
       "  </tbody>\n",
       "</table>\n",
       "</div>"
      ],
      "text/plain": [
       "         spend_med_per_day_usd\n",
       "ad_type                       \n",
       "IMAGE                12.171451\n",
       "TEXT                 17.635815\n",
       "VIDEO                48.416569"
      ]
     },
     "execution_count": 19,
     "metadata": {},
     "output_type": "execute_result"
    }
   ],
   "source": [
    "df_mean"
   ]
  },
  {
   "cell_type": "markdown",
   "metadata": {},
   "source": [
    "Kemudian berikut adalah nilai tengah dari biaya yang dikeluarkan per hari berdasarkan media iklan kampanyenya:"
   ]
  },
  {
   "cell_type": "code",
   "execution_count": 20,
   "metadata": {},
   "outputs": [
    {
     "data": {
      "text/html": [
       "<div>\n",
       "<style scoped>\n",
       "    .dataframe tbody tr th:only-of-type {\n",
       "        vertical-align: middle;\n",
       "    }\n",
       "\n",
       "    .dataframe tbody tr th {\n",
       "        vertical-align: top;\n",
       "    }\n",
       "\n",
       "    .dataframe thead th {\n",
       "        text-align: right;\n",
       "    }\n",
       "</style>\n",
       "<table border=\"1\" class=\"dataframe\">\n",
       "  <thead>\n",
       "    <tr style=\"text-align: right;\">\n",
       "      <th></th>\n",
       "      <th>spend_med_per_day_usd</th>\n",
       "    </tr>\n",
       "    <tr>\n",
       "      <th>ad_type</th>\n",
       "      <th></th>\n",
       "    </tr>\n",
       "  </thead>\n",
       "  <tbody>\n",
       "    <tr>\n",
       "      <th>IMAGE</th>\n",
       "      <td>5.555556</td>\n",
       "    </tr>\n",
       "    <tr>\n",
       "      <th>TEXT</th>\n",
       "      <td>5.555556</td>\n",
       "    </tr>\n",
       "    <tr>\n",
       "      <th>VIDEO</th>\n",
       "      <td>12.500000</td>\n",
       "    </tr>\n",
       "  </tbody>\n",
       "</table>\n",
       "</div>"
      ],
      "text/plain": [
       "         spend_med_per_day_usd\n",
       "ad_type                       \n",
       "IMAGE                 5.555556\n",
       "TEXT                  5.555556\n",
       "VIDEO                12.500000"
      ]
     },
     "execution_count": 20,
     "metadata": {},
     "output_type": "execute_result"
    }
   ],
   "source": [
    "df_median"
   ]
  },
  {
   "cell_type": "markdown",
   "metadata": {},
   "source": [
    "Lalu berikut ini adalah nilai modus dari biaya yang dikeluarkan per hari berdasarkan media iklan kampanyenya:"
   ]
  },
  {
   "cell_type": "code",
   "execution_count": 21,
   "metadata": {},
   "outputs": [
    {
     "data": {
      "text/plain": [
       "ad_type\n",
       "IMAGE    50.0\n",
       "TEXT     50.0\n",
       "VIDEO    50.0\n",
       "Name: spend_med_per_day_usd, dtype: float64"
      ]
     },
     "execution_count": 21,
     "metadata": {},
     "output_type": "execute_result"
    }
   ],
   "source": [
    "df_mode"
   ]
  },
  {
   "cell_type": "markdown",
   "metadata": {},
   "source": [
    "Karena nilai modus lebih besar dari nilai median dan rata-ratanya, kita dapat mengetahui kalau distribusi datanya *skewed*"
   ]
  },
  {
   "cell_type": "code",
   "execution_count": 77,
   "metadata": {},
   "outputs": [
    {
     "data": {
      "image/png": "[encoded data removed]",
      "text/plain": [
       "<Figure size 432x288 with 1 Axes>"
      ]
     },
     "metadata": {
      "needs_background": "light"
     },
     "output_type": "display_data"
    },
    {
     "name": "stdout",
     "output_type": "stream",
     "text": [
      "Rata-rata keseluruhan (bulan): 867.8651712357307 USD\n",
      "Nilai tengah keseluruhan (bulan): 250.00000000000003 USD\n"
     ]
    }
   ],
   "source": [
    "df.spend_med_per_day_usd.plot.hist(title = \"Spend per Day (USD)\", color = \"lightblue\", bins = 20)  \n",
    "plt.axvline(df.spend_med_per_day_usd.mean(), color = \"magenta\", linestyle = \"dashed\", linewidth = 2)\n",
    "plt.axvline(df.spend_med_per_day_usd.median(), color = \"green\", linestyle = \"dashed\", linewidth = 2)\n",
    "plt.legend()\n",
    "plt.grid(True)\n",
    "plt.show()\n",
    "\n",
    "print(\"Rata-rata keseluruhan (bulan):\", df.spend_med_per_day_usd.mean() * 30, \"USD\")\n",
    "print(\"Nilai tengah keseluruhan (bulan):\", df.spend_med_per_day_usd.median() * 30, \"USD\")"
   ]
  },
  {
   "cell_type": "markdown",
   "metadata": {},
   "source": [
    "Dari grafik ini, kita dapat mengetahui bahwa data yang kita miliki sangat *skewed*, dan anggaran yang harus disiapkan agar iklan kampanye dapat diproduksi dengan baik."
   ]
  },
  {
   "cell_type": "markdown",
   "metadata": {},
   "source": [
    "### Uji Hipotesis"
   ]
  },
  {
   "cell_type": "markdown",
   "metadata": {},
   "source": [
    "Di sini kita memercayai bahwa anggaran sampai sebesar 100 USD per hari cukup untuk membiayai iklan kampanye. Maka hipotesisnya dapat ditulis sebagai berikut:\n",
    "\n",
    "$H(0): \\mu \\leq 100$\n",
    "\n",
    "$H(1): \\mu > 100$\n",
    "\n",
    "Kita akan melakukan t-test pada data `df_mean.spend_med_per_day_usd`."
   ]
  },
  {
   "cell_type": "code",
   "execution_count": 80,
   "metadata": {},
   "outputs": [
    {
     "name": "stdout",
     "output_type": "stream",
     "text": [
      "P-value: 0.01125335998002049\n",
      "t-statistics: -6.552622767434564\n"
     ]
    }
   ],
   "source": [
    "t_stat, p_val = stats.ttest_1samp(df_mean.spend_med_per_day_usd, 100)\n",
    "\n",
    "print('P-value:', p_val/2)\n",
    "print('t-statistics:', t_stat)"
   ]
  },
  {
   "cell_type": "markdown",
   "metadata": {},
   "source": [
    "Lalu kita akan buat grafik hipotesisnya:"
   ]
  },
  {
   "cell_type": "code",
   "execution_count": 82,
   "metadata": {},
   "outputs": [
    {
     "name": "stderr",
     "output_type": "stream",
     "text": [
      "d:\\DokumenFaisal\\Tools\\Anaconda3\\lib\\site-packages\\seaborn\\distributions.py:2619: FutureWarning: `distplot` is a deprecated function and will be removed in a future version. Please adapt your code to use either `displot` (a figure-level function with similar flexibility) or `histplot` (an axes-level function for histograms).\n",
      "  warnings.warn(msg, FutureWarning)\n"
     ]
    },
    {
     "data": {
      "text/plain": [
       "<matplotlib.legend.Legend at 0x20af3310d00>"
      ]
     },
     "execution_count": 82,
     "metadata": {},
     "output_type": "execute_result"
    },
    {
     "data": {
      "image/png": "[encoded data removed]",
      "text/plain": [
       "<Figure size 1152x360 with 1 Axes>"
      ]
     },
     "metadata": {
      "needs_background": "light"
     },
     "output_type": "display_data"
    }
   ],
   "source": [
    "spend_med_per_day_usd_pop = np.random.normal(df_mean.spend_med_per_day_usd.mean(), df_mean.spend_med_per_day_usd.std(), 10000)\n",
    "\n",
    "ci = stats.norm.interval(0.90, df_mean.spend_med_per_day_usd.mean(), df_mean.spend_med_per_day_usd.std())\n",
    "\n",
    "plt.figure(figsize=(16,5))\n",
    "sns.distplot(spend_med_per_day_usd_pop, label = \"Daily Income (Population)\", color = \"blue\")\n",
    "plt.axvline(df_mean.spend_med_per_day_usd.mean(), color = \"red\", linewidth=2, label = \"Spend per Day (Mean)\")\n",
    "plt.axvline(ci[0], color = \"green\", linestyle = \"dashed\", linewidth = 2, label = \"confidence threshold of 95%\")\n",
    "plt.axvline(df_mean.spend_med_per_day_usd.mean() + t_stat*df_mean.spend_med_per_day_usd.std(), color = \"black\", linestyle = \"dashed\", linewidth=2, label = \"Alternative Hypothesis\")\n",
    "plt.legend()"
   ]
  },
  {
   "cell_type": "markdown",
   "metadata": {},
   "source": [
    "Karena nilai P lebih kecil dari 0.05, kita dapat menolak hipotesis awal dan menyimpulkan bahwa kita harus menganggarkan biaya lebih besar dari 100 USD per harinya untuk melakukan kampanye. Hal ini konsisten dengan perhitungan rata-rata dan nilai tengah yang kita lakukan sebelumnya."
   ]
  },
  {
   "cell_type": "markdown",
   "metadata": {},
   "source": [
    "### Pembuatan Visualisasi Data"
   ]
  },
  {
   "cell_type": "markdown",
   "metadata": {},
   "source": [
    "Di bagian ini kita akan membuat berbagai macam visualisasi untuk menjawab pertanyaan-pertanyaan dari Mr. X."
   ]
  },
  {
   "cell_type": "markdown",
   "metadata": {},
   "source": [
    "### Demografi Audiens Berdasarkan Umur dan Gender:"
   ]
  },
  {
   "cell_type": "markdown",
   "metadata": {},
   "source": [
    "Pertama-tama kita akan buat *query* untuk jenis kelamin dan umur audiens:"
   ]
  },
  {
   "cell_type": "code",
   "execution_count": 25,
   "metadata": {},
   "outputs": [],
   "source": [
    "df_1824_male = df.query(\"for_18_24 == True & for_male == True\")\n",
    "df_1824_female = df.query(\"for_18_24 == True & for_female == True\")\n",
    "df_1824_unk = df.query(\"for_18_24 == True & for_unknown == True\")\n",
    "\n",
    "df_2534_male = df.query(\"for_25_34 == True & for_male == True\")\n",
    "df_2534_female = df.query(\"for_25_34 == True & for_female == True\")\n",
    "df_2534_unk = df.query(\"for_25_34 == True & for_unknown == True\")\n",
    "\n",
    "df_3544_male = df.query(\"for_35_44 == True & for_male == True\")\n",
    "df_3544_female = df.query(\"for_35_44 == True & for_female == True\")\n",
    "df_3544_unk = df.query(\"for_35_44 == True & for_unknown == True\")\n",
    "\n",
    "df_4554_male = df.query(\"for_45_54 == True & for_male == True\")\n",
    "df_4554_female = df.query(\"for_45_54 == True & for_female == True\")\n",
    "df_4554_unk = df.query(\"for_45_54 == True & for_unknown == True\")\n",
    "\n",
    "df_5564_male = df.query(\"for_55_64 == True & for_male == True\")\n",
    "df_5564_female = df.query(\"for_55_64 == True & for_female == True\")\n",
    "df_5564_unk = df.query(\"for_55_64 == True & for_unknown == True\")\n",
    "\n",
    "df_65_older_male = df.query(\"for_65_older == True & for_male == True\")\n",
    "df_65_older_female = df.query(\"for_65_older == True & for_female == True\")\n",
    "df_65_older_unk = df.query(\"for_65_older == True & for_unknown == True\")"
   ]
  },
  {
   "cell_type": "markdown",
   "metadata": {},
   "source": [
    "Kemudian kita akan plot secara berkelompok dalam bentuk batang vertikal:"
   ]
  },
  {
   "cell_type": "code",
   "execution_count": 26,
   "metadata": {},
   "outputs": [
    {
     "data": {
      "image/png": "[encoded data removed]",
      "text/plain": [
       "<Figure size 432x288 with 1 Axes>"
      ]
     },
     "metadata": {
      "needs_background": "light"
     },
     "output_type": "display_data"
    }
   ],
   "source": [
    "# set width of bars\n",
    "barWidth = 0.25\n",
    " \n",
    "# set heights of bars\n",
    "bars1 = [df_1824_male.value_counts().sum(), df_2534_male.value_counts().sum(), df_3544_male.value_counts().sum(), df_4554_male.value_counts().sum(), df_5564_male.value_counts().sum(), df_65_older_male.value_counts().sum()]\n",
    "bars2 = [df_1824_female.value_counts().sum(), df_2534_female.value_counts().sum(), df_3544_female.value_counts().sum(), df_4554_female.value_counts().sum(), df_5564_female.value_counts().sum(), df_65_older_female.value_counts().sum()]\n",
    "bars3 = [df_1824_unk.value_counts().sum(), df_2534_unk.value_counts().sum(), df_3544_unk.value_counts().sum(), df_4554_unk.value_counts().sum(), df_5564_unk.value_counts().sum(), df_65_older_unk.value_counts().sum()]\n",
    " \n",
    "# Set position of bar on X axis\n",
    "r1 = np.arange(len(bars1))\n",
    "r2 = [x + barWidth for x in r1]\n",
    "r3 = [x + barWidth for x in r2]\n",
    " \n",
    "# Make the plot\n",
    "plt.bar(r1, bars1, color = \"blue\", width = barWidth, edgecolor = \"white\", label = \"Male\")\n",
    "plt.bar(r2, bars2, color = \"red\", width = barWidth, edgecolor = \"white\", label = \"Female\")\n",
    "plt.bar(r3, bars3, color = \"purple\", width = barWidth, edgecolor = \"white\", label = \"Unknown\")\n",
    " \n",
    "# Add xticks on the middle of the group bars\n",
    "plt.xlabel(\"Demografi Audiens\", fontweight = \"bold\")\n",
    "plt.xticks([r + barWidth for r in range(len(bars1))], [\"18-24\", \"25-34\", \"35-44\", \"45-54\", \"55-64\", \"65+\"])\n",
    " \n",
    "# Create legend & Show graphic\n",
    "plt.show()"
   ]
  },
  {
   "cell_type": "markdown",
   "metadata": {},
   "source": [
    "Dari grafik ini kita dapat mengetahui bahwa demografi audiens iklan kampanye politik di California didominasi olej orang-orang berusia lebih tua dari 35 tahun, terlepas dari jenis kelaminnya."
   ]
  },
  {
   "cell_type": "markdown",
   "metadata": {},
   "source": [
    "### Demografi Media Iklan Kampanye yang Digunakan"
   ]
  },
  {
   "cell_type": "markdown",
   "metadata": {},
   "source": [
    "Untuk membuat grafik ini, kita akan hitung jumlah tipe iklan kampanye politik yang dilakukan di California:"
   ]
  },
  {
   "cell_type": "code",
   "execution_count": 27,
   "metadata": {},
   "outputs": [],
   "source": [
    "df_media = df.ad_type.value_counts()"
   ]
  },
  {
   "cell_type": "code",
   "execution_count": 75,
   "metadata": {},
   "outputs": [
    {
     "data": {
      "image/png": "[encoded data removed]",
      "text/plain": [
       "<Figure size 432x288 with 1 Axes>"
      ]
     },
     "metadata": {
      "needs_background": "light"
     },
     "output_type": "display_data"
    }
   ],
   "source": [
    "# Choose the height of the bars\n",
    "height = df_media\n",
    "\n",
    "# Choose the names of the bars\n",
    "bars = ('Video', 'Image', 'Text')\n",
    "x_pos = np.arange(len(bars))\n",
    "\n",
    "# Create bars\n",
    "plt.bar(x_pos, height)\n",
    "\n",
    "# Create names on the x-axis\n",
    "plt.xticks(x_pos, bars)\n",
    "\n",
    "# Show graphic\n",
    "plt.show()"
   ]
  },
  {
   "cell_type": "markdown",
   "metadata": {},
   "source": [
    "Dari grafik di atas, kita ketahui bahwa media video mendominasi iklan kampanye politik di California."
   ]
  },
  {
   "cell_type": "markdown",
   "metadata": {},
   "source": [
    "### Demografi Durasi Kampanye Berdasarkan Media"
   ]
  },
  {
   "cell_type": "markdown",
   "metadata": {},
   "source": [
    "Untuk membuat grafik ini, kita akan memisahkan terlebih dahulu data berdasarkan media iklannya."
   ]
  },
  {
   "cell_type": "code",
   "execution_count": 29,
   "metadata": {},
   "outputs": [],
   "source": [
    "df_video = df.query(\"ad_type ==  'VIDEO'\")\n",
    "df_image = df.query(\"ad_type ==  'IMAGE'\")\n",
    "df_text = df.query(\"ad_type ==  'TEXT'\")"
   ]
  },
  {
   "cell_type": "markdown",
   "metadata": {},
   "source": [
    "Lalu kita akan ambil 10 durasi pengiklanan video, gambar, dan teks dengan frekuensi terbanyak untuk dijadikan grafik:"
   ]
  },
  {
   "cell_type": "code",
   "execution_count": 30,
   "metadata": {},
   "outputs": [
    {
     "data": {
      "text/html": [
       "<div>\n",
       "<style scoped>\n",
       "    .dataframe tbody tr th:only-of-type {\n",
       "        vertical-align: middle;\n",
       "    }\n",
       "\n",
       "    .dataframe tbody tr th {\n",
       "        vertical-align: top;\n",
       "    }\n",
       "\n",
       "    .dataframe thead th {\n",
       "        text-align: right;\n",
       "    }\n",
       "</style>\n",
       "<table border=\"1\" class=\"dataframe\">\n",
       "  <thead>\n",
       "    <tr style=\"text-align: right;\">\n",
       "      <th></th>\n",
       "      <th>index</th>\n",
       "      <th>num_of_days</th>\n",
       "    </tr>\n",
       "  </thead>\n",
       "  <tbody>\n",
       "    <tr>\n",
       "      <th>0</th>\n",
       "      <td>2</td>\n",
       "      <td>29405</td>\n",
       "    </tr>\n",
       "    <tr>\n",
       "      <th>1</th>\n",
       "      <td>1</td>\n",
       "      <td>25952</td>\n",
       "    </tr>\n",
       "    <tr>\n",
       "      <th>2</th>\n",
       "      <td>4</td>\n",
       "      <td>22070</td>\n",
       "    </tr>\n",
       "    <tr>\n",
       "      <th>3</th>\n",
       "      <td>3</td>\n",
       "      <td>21385</td>\n",
       "    </tr>\n",
       "    <tr>\n",
       "      <th>4</th>\n",
       "      <td>5</td>\n",
       "      <td>20183</td>\n",
       "    </tr>\n",
       "    <tr>\n",
       "      <th>5</th>\n",
       "      <td>6</td>\n",
       "      <td>16997</td>\n",
       "    </tr>\n",
       "    <tr>\n",
       "      <th>6</th>\n",
       "      <td>7</td>\n",
       "      <td>16098</td>\n",
       "    </tr>\n",
       "    <tr>\n",
       "      <th>7</th>\n",
       "      <td>8</td>\n",
       "      <td>14272</td>\n",
       "    </tr>\n",
       "    <tr>\n",
       "      <th>8</th>\n",
       "      <td>9</td>\n",
       "      <td>11376</td>\n",
       "    </tr>\n",
       "    <tr>\n",
       "      <th>9</th>\n",
       "      <td>11</td>\n",
       "      <td>10774</td>\n",
       "    </tr>\n",
       "  </tbody>\n",
       "</table>\n",
       "</div>"
      ],
      "text/plain": [
       "   index  num_of_days\n",
       "0      2        29405\n",
       "1      1        25952\n",
       "2      4        22070\n",
       "3      3        21385\n",
       "4      5        20183\n",
       "5      6        16997\n",
       "6      7        16098\n",
       "7      8        14272\n",
       "8      9        11376\n",
       "9     11        10774"
      ]
     },
     "execution_count": 30,
     "metadata": {},
     "output_type": "execute_result"
    }
   ],
   "source": [
    "df_video.num_of_days.value_counts().head(10).reset_index()"
   ]
  },
  {
   "cell_type": "code",
   "execution_count": 31,
   "metadata": {},
   "outputs": [
    {
     "data": {
      "image/png": "[encoded data removed]",
      "text/plain": [
       "<Figure size 432x288 with 1 Axes>"
      ]
     },
     "metadata": {
      "needs_background": "light"
     },
     "output_type": "display_data"
    }
   ],
   "source": [
    "# Choose the height of the bars\n",
    "height = df_video.num_of_days.value_counts().head(10)\n",
    "\n",
    "# Choose the names of the bars\n",
    "bars = (\"2\", \"1\", \"4\", \"3\", \"5\", \"6\", \"7\", \"8\", \"9\", \"11\")\n",
    "x_pos = np.arange(len(bars))\n",
    "\n",
    "# Create bars\n",
    "plt.bar(x_pos, height)\n",
    "\n",
    "# Create names on the x-axis\n",
    "plt.xlabel(\"Durasi Kampanye Terbanyak (Video)\", fontweight = \"bold\")\n",
    "plt.xticks(x_pos, bars)\n",
    "\n",
    "# Show graphic\n",
    "plt.show()"
   ]
  },
  {
   "cell_type": "code",
   "execution_count": 32,
   "metadata": {},
   "outputs": [
    {
     "data": {
      "text/html": [
       "<div>\n",
       "<style scoped>\n",
       "    .dataframe tbody tr th:only-of-type {\n",
       "        vertical-align: middle;\n",
       "    }\n",
       "\n",
       "    .dataframe tbody tr th {\n",
       "        vertical-align: top;\n",
       "    }\n",
       "\n",
       "    .dataframe thead th {\n",
       "        text-align: right;\n",
       "    }\n",
       "</style>\n",
       "<table border=\"1\" class=\"dataframe\">\n",
       "  <thead>\n",
       "    <tr style=\"text-align: right;\">\n",
       "      <th></th>\n",
       "      <th>index</th>\n",
       "      <th>num_of_days</th>\n",
       "    </tr>\n",
       "  </thead>\n",
       "  <tbody>\n",
       "    <tr>\n",
       "      <th>0</th>\n",
       "      <td>1</td>\n",
       "      <td>17249</td>\n",
       "    </tr>\n",
       "    <tr>\n",
       "      <th>1</th>\n",
       "      <td>2</td>\n",
       "      <td>14130</td>\n",
       "    </tr>\n",
       "    <tr>\n",
       "      <th>2</th>\n",
       "      <td>4</td>\n",
       "      <td>11831</td>\n",
       "    </tr>\n",
       "    <tr>\n",
       "      <th>3</th>\n",
       "      <td>3</td>\n",
       "      <td>11090</td>\n",
       "    </tr>\n",
       "    <tr>\n",
       "      <th>4</th>\n",
       "      <td>5</td>\n",
       "      <td>10901</td>\n",
       "    </tr>\n",
       "    <tr>\n",
       "      <th>5</th>\n",
       "      <td>7</td>\n",
       "      <td>10092</td>\n",
       "    </tr>\n",
       "    <tr>\n",
       "      <th>6</th>\n",
       "      <td>6</td>\n",
       "      <td>9119</td>\n",
       "    </tr>\n",
       "    <tr>\n",
       "      <th>7</th>\n",
       "      <td>8</td>\n",
       "      <td>8408</td>\n",
       "    </tr>\n",
       "    <tr>\n",
       "      <th>8</th>\n",
       "      <td>12</td>\n",
       "      <td>7771</td>\n",
       "    </tr>\n",
       "    <tr>\n",
       "      <th>9</th>\n",
       "      <td>9</td>\n",
       "      <td>7093</td>\n",
       "    </tr>\n",
       "  </tbody>\n",
       "</table>\n",
       "</div>"
      ],
      "text/plain": [
       "   index  num_of_days\n",
       "0      1        17249\n",
       "1      2        14130\n",
       "2      4        11831\n",
       "3      3        11090\n",
       "4      5        10901\n",
       "5      7        10092\n",
       "6      6         9119\n",
       "7      8         8408\n",
       "8     12         7771\n",
       "9      9         7093"
      ]
     },
     "execution_count": 32,
     "metadata": {},
     "output_type": "execute_result"
    }
   ],
   "source": [
    "df_image.num_of_days.value_counts().head(10).reset_index()"
   ]
  },
  {
   "cell_type": "code",
   "execution_count": 84,
   "metadata": {},
   "outputs": [
    {
     "data": {
      "image/png": "[encoded data removed]",
      "text/plain": [
       "<Figure size 432x288 with 1 Axes>"
      ]
     },
     "metadata": {
      "needs_background": "light"
     },
     "output_type": "display_data"
    }
   ],
   "source": [
    "# Choose the height of the bars\n",
    "height = df_image.num_of_days.value_counts().head(10)\n",
    "\n",
    "# Choose the names of the bars\n",
    "bars = (\"1\", \"2\", \"4\", \"3\", \"5\", \"7\", \"6\", \"8\", \"12\", \"9\")\n",
    "x_pos = np.arange(len(bars))\n",
    "\n",
    "# Create bars\n",
    "plt.bar(x_pos, height)\n",
    "\n",
    "# Create names on the x-axis\n",
    "plt.xlabel(\"Durasi Kampanye Terbanyak (Image)\", fontweight = \"bold\")\n",
    "plt.xticks(x_pos, bars)\n",
    "\n",
    "# Show graphic\n",
    "plt.show()"
   ]
  },
  {
   "cell_type": "code",
   "execution_count": 34,
   "metadata": {},
   "outputs": [
    {
     "data": {
      "text/html": [
       "<div>\n",
       "<style scoped>\n",
       "    .dataframe tbody tr th:only-of-type {\n",
       "        vertical-align: middle;\n",
       "    }\n",
       "\n",
       "    .dataframe tbody tr th {\n",
       "        vertical-align: top;\n",
       "    }\n",
       "\n",
       "    .dataframe thead th {\n",
       "        text-align: right;\n",
       "    }\n",
       "</style>\n",
       "<table border=\"1\" class=\"dataframe\">\n",
       "  <thead>\n",
       "    <tr style=\"text-align: right;\">\n",
       "      <th></th>\n",
       "      <th>index</th>\n",
       "      <th>num_of_days</th>\n",
       "    </tr>\n",
       "  </thead>\n",
       "  <tbody>\n",
       "    <tr>\n",
       "      <th>0</th>\n",
       "      <td>1</td>\n",
       "      <td>15324</td>\n",
       "    </tr>\n",
       "    <tr>\n",
       "      <th>1</th>\n",
       "      <td>2</td>\n",
       "      <td>12922</td>\n",
       "    </tr>\n",
       "    <tr>\n",
       "      <th>2</th>\n",
       "      <td>3</td>\n",
       "      <td>8123</td>\n",
       "    </tr>\n",
       "    <tr>\n",
       "      <th>3</th>\n",
       "      <td>6</td>\n",
       "      <td>6681</td>\n",
       "    </tr>\n",
       "    <tr>\n",
       "      <th>4</th>\n",
       "      <td>4</td>\n",
       "      <td>6365</td>\n",
       "    </tr>\n",
       "    <tr>\n",
       "      <th>5</th>\n",
       "      <td>5</td>\n",
       "      <td>6018</td>\n",
       "    </tr>\n",
       "    <tr>\n",
       "      <th>6</th>\n",
       "      <td>7</td>\n",
       "      <td>5241</td>\n",
       "    </tr>\n",
       "    <tr>\n",
       "      <th>7</th>\n",
       "      <td>8</td>\n",
       "      <td>5170</td>\n",
       "    </tr>\n",
       "    <tr>\n",
       "      <th>8</th>\n",
       "      <td>9</td>\n",
       "      <td>4260</td>\n",
       "    </tr>\n",
       "    <tr>\n",
       "      <th>9</th>\n",
       "      <td>10</td>\n",
       "      <td>3921</td>\n",
       "    </tr>\n",
       "  </tbody>\n",
       "</table>\n",
       "</div>"
      ],
      "text/plain": [
       "   index  num_of_days\n",
       "0      1        15324\n",
       "1      2        12922\n",
       "2      3         8123\n",
       "3      6         6681\n",
       "4      4         6365\n",
       "5      5         6018\n",
       "6      7         5241\n",
       "7      8         5170\n",
       "8      9         4260\n",
       "9     10         3921"
      ]
     },
     "execution_count": 34,
     "metadata": {},
     "output_type": "execute_result"
    }
   ],
   "source": [
    "df_text.num_of_days.value_counts().head(10).reset_index()"
   ]
  },
  {
   "cell_type": "code",
   "execution_count": 35,
   "metadata": {},
   "outputs": [
    {
     "data": {
      "image/png": "[encoded data removed]",
      "text/plain": [
       "<Figure size 432x288 with 1 Axes>"
      ]
     },
     "metadata": {
      "needs_background": "light"
     },
     "output_type": "display_data"
    }
   ],
   "source": [
    "# Choose the height of the bars\n",
    "height = df_text.num_of_days.value_counts().head(10)\n",
    "\n",
    "# Choose the names of the bars\n",
    "bars = (\"1\", \"2\", \"3\", \"6\", \"4\", \"5\", \"7\", \"8\", \"9\", \"10\")\n",
    "x_pos = np.arange(len(bars))\n",
    "\n",
    "# Create bars\n",
    "plt.bar(x_pos, height)\n",
    "\n",
    "# Create names on the x-axis\n",
    "plt.xlabel(\"Durasi Kampanye Terbanyak (Text)\", fontweight = \"bold\")\n",
    "plt.xticks(x_pos, bars)\n",
    "\n",
    "# Show graphic\n",
    "plt.show()"
   ]
  },
  {
   "cell_type": "markdown",
   "metadata": {},
   "source": [
    "Dari ketiga grafik di atas, kita ketahui bahwa umumnya iklan kampanye video dilakukan selama 2 hari, sedangkan iklan gambar dan teks umumnya berdurasi 1 hari."
   ]
  },
  {
   "cell_type": "markdown",
   "metadata": {},
   "source": [
    "### Demografi Impresi dengan Frekuensi Terbesar"
   ]
  },
  {
   "cell_type": "markdown",
   "metadata": {},
   "source": [
    "Untuk membuat grafik ini, kita akan mengelompokkan data berdasarkan variabel `impressions`-nya."
   ]
  },
  {
   "cell_type": "code",
   "execution_count": 73,
   "metadata": {},
   "outputs": [
    {
     "data": {
      "text/html": [
       "<div>\n",
       "<style scoped>\n",
       "    .dataframe tbody tr th:only-of-type {\n",
       "        vertical-align: middle;\n",
       "    }\n",
       "\n",
       "    .dataframe tbody tr th {\n",
       "        vertical-align: top;\n",
       "    }\n",
       "\n",
       "    .dataframe thead th {\n",
       "        text-align: right;\n",
       "    }\n",
       "</style>\n",
       "<table border=\"1\" class=\"dataframe\">\n",
       "  <thead>\n",
       "    <tr style=\"text-align: right;\">\n",
       "      <th></th>\n",
       "      <th>impressions</th>\n",
       "      <th>freq</th>\n",
       "    </tr>\n",
       "  </thead>\n",
       "  <tbody>\n",
       "    <tr>\n",
       "      <th>0</th>\n",
       "      <td>0-1000</td>\n",
       "      <td>262229</td>\n",
       "    </tr>\n",
       "    <tr>\n",
       "      <th>1</th>\n",
       "      <td>1000-2000</td>\n",
       "      <td>43063</td>\n",
       "    </tr>\n",
       "    <tr>\n",
       "      <th>2</th>\n",
       "      <td>10000-15000</td>\n",
       "      <td>27272</td>\n",
       "    </tr>\n",
       "    <tr>\n",
       "      <th>12</th>\n",
       "      <td>2000-3000</td>\n",
       "      <td>27235</td>\n",
       "    </tr>\n",
       "    <tr>\n",
       "      <th>21</th>\n",
       "      <td>3000-4000</td>\n",
       "      <td>19509</td>\n",
       "    </tr>\n",
       "    <tr>\n",
       "      <th>7</th>\n",
       "      <td>15000-20000</td>\n",
       "      <td>19132</td>\n",
       "    </tr>\n",
       "    <tr>\n",
       "      <th>28</th>\n",
       "      <td>4000-5000</td>\n",
       "      <td>15526</td>\n",
       "    </tr>\n",
       "    <tr>\n",
       "      <th>13</th>\n",
       "      <td>20000-25000</td>\n",
       "      <td>14582</td>\n",
       "    </tr>\n",
       "    <tr>\n",
       "      <th>35</th>\n",
       "      <td>5000-6000</td>\n",
       "      <td>12473</td>\n",
       "    </tr>\n",
       "    <tr>\n",
       "      <th>18</th>\n",
       "      <td>25000-30000</td>\n",
       "      <td>11580</td>\n",
       "    </tr>\n",
       "  </tbody>\n",
       "</table>\n",
       "</div>"
      ],
      "text/plain": [
       "    impressions    freq\n",
       "0        0-1000  262229\n",
       "1     1000-2000   43063\n",
       "2   10000-15000   27272\n",
       "12    2000-3000   27235\n",
       "21    3000-4000   19509\n",
       "7   15000-20000   19132\n",
       "28    4000-5000   15526\n",
       "13  20000-25000   14582\n",
       "35    5000-6000   12473\n",
       "18  25000-30000   11580"
      ]
     },
     "execution_count": 73,
     "metadata": {},
     "output_type": "execute_result"
    }
   ],
   "source": [
    "df_impressions = df.groupby(by = \"impressions\")[[\"impressions\"]].value_counts().reset_index()\n",
    "df_impressions.rename(columns = {0 : \"freq\"}, inplace = True)\n",
    "df_impressions.sort_values(by = \"freq\", ascending = False).head(10)"
   ]
  },
  {
   "cell_type": "code",
   "execution_count": 76,
   "metadata": {},
   "outputs": [
    {
     "data": {
      "image/png": "[encoded data removed]",
      "text/plain": [
       "<Figure size 432x288 with 1 Axes>"
      ]
     },
     "metadata": {
      "needs_background": "light"
     },
     "output_type": "display_data"
    }
   ],
   "source": [
    "# Choose the height of the bars\n",
    "height = df_impressions.freq.sort_values(ascending = False).head(10)\n",
    "\n",
    "# Choose the names of the bars\n",
    "bars = (\"0-1000\", \"1000-2000\", \"10000-15000\", \"2000-3000\", \"3000-4000\", \"15000-20000\", \"4000-5000\", \"20000-25000\", \"5000-6000\", \"25000-30000\")\n",
    "x_pos = np.arange(len(bars))\n",
    "\n",
    "# Create bars\n",
    "plt.bar(x_pos, height)\n",
    "\n",
    "# Create names on the x-axis\n",
    "plt.xlabel(\"Indeks Impresi\", fontweight = \"bold\")\n",
    "plt.xticks(x_pos, bars, rotation = 90)\n",
    "\n",
    "# Show graphic\n",
    "plt.show()"
   ]
  },
  {
   "cell_type": "markdown",
   "metadata": {},
   "source": [
    "Dari grafik ini, kita ketahui bahwa mayoritas iklan kampanye yang dilakukan di California hanya memiliki indeks impresi sebesar 0-1000."
   ]
  },
  {
   "cell_type": "markdown",
   "metadata": {},
   "source": [
    "## Kesimpulan"
   ]
  },
  {
   "cell_type": "markdown",
   "metadata": {},
   "source": [
    "Berikut adalah hal-hal yang dapat saya laporkan kepada Mr. X terkait pengolahan data berikut:\n",
    "\n",
    "1. Pembuatan iklan kampanye utamanya harus menyasar ke audiens berusia 35 tahun keatas, meskipun membuat iklan kampanye yang dapat diterima oleh segala kalangan tetap lebih baik,\n",
    "2. Iklan kampanye yang umum digunakan di California umumnya menggunakan media video,\n",
    "3. Kampanye dengan media video umumnya berlangsung selama 2 hari, sedangkan untuk kampanye dengan menggunakan media gambar dan media teks hanya berlangsung selama 1 hari,\n",
    "4. Umumnya iklan kampanye di California tidak memberikan impresi yang sangat tinggi, hanya mencapai nilai 1000 saja. Kalaupun kampanye berhasil, indeks impresinya kemungkinan hanya akan sebesar 15000-20000 saja,\n",
    "5. Mr. X harus menyiapkan anggaran setidaknya sebesar 250 USD untuk membuat iklan kampanye,\n",
    "6. Sesuai dengan kesimpulan nomor 5 dan uji hipotesis, 100 USD tidaklah cukup untuk melakukan produksi iklan kampanye politik di California.\n",
    "\n",
    "Saran yang dapat saya berikan untuk kasus ini adalah:\n",
    "\n",
    "1. Jangan berharap impresi dari iklan yang dilakukan akan menjulang tinggi,\n",
    "2. Buat iklan kampanye yang dapat dicerna oleh semua kalangan dalam bentuk video,\n",
    "3. Siapkan anggaran sebesar kurang lebih 250 USD untuk melakukan kampanye ini untuk mengantisipasi kalau diperlukan untuk membuat iklan kampanye dalam media lain,"
   ]
  },
  {
   "cell_type": "markdown",
   "metadata": {},
   "source": [
    "## Penutup"
   ]
  },
  {
   "cell_type": "markdown",
   "metadata": {},
   "source": [
    "Berikut laporan yang dapat saya berikan terkait dengan analisis ini. Semoga dapat dijadikan bahan pertimbangan untuk melakukan kampanye ini dengan seksama. Terima kasih, dan sampai jumpa di laporan selanjutnya."
   ]
  }
 ],
 "metadata": {
  "kernelspec": {
   "display_name": "Python 3.9.12 ('base')",
   "language": "python",
   "name": "python3"
  },
  "language_info": {
   "codemirror_mode": {
    "name": "ipython",
    "version": 3
   },
   "file_extension": ".py",
   "mimetype": "text/x-python",
   "name": "python",
   "nbconvert_exporter": "python",
   "pygments_lexer": "ipython3",
   "version": "3.9.12"
  },
  "orig_nbformat": 4,
  "vscode": {
   "interpreter": {
    "hash": "d4a4050df37647cce9f897d8be73e70f5f75cc37a70fc5027d2d46479925067e"
   }
  }
 },
 "nbformat": 4,
 "nbformat_minor": 2
}
